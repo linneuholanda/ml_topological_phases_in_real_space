{
 "cells": [
  {
   "cell_type": "markdown",
   "metadata": {
    "papermill": {
     "duration": 0.020434,
     "end_time": "2020-07-18T07:35:24.543468",
     "exception": false,
     "start_time": "2020-07-18T07:35:24.523034",
     "status": "completed"
    },
    "tags": []
   },
   "source": [
    "# Simulation template \n",
    "\n",
    "In this notebook we run the machine learning analysis of topological phase transitions occurring  in both nearest-neighbours SSH models (ssh1) and second neighbours models (ssh2) as decribed in the paper [Machine learning topological phases in real space](https://arxiv.org/abs/1901.01963). Here the simulation is run with features generated from fourier components in the first scenario. This scenario is characterized by using only the EVEN wavevector space eigenmodes, computed from ALL real space components."
   ]
  },
  {
   "cell_type": "markdown",
   "metadata": {
    "papermill": {
     "duration": 0.016498,
     "end_time": "2020-07-18T07:35:24.576920",
     "exception": false,
     "start_time": "2020-07-18T07:35:24.560422",
     "status": "completed"
    },
    "tags": []
   },
   "source": [
    "## Defining parameters"
   ]
  },
  {
   "cell_type": "code",
   "execution_count": 1,
   "metadata": {
    "execution": {
     "iopub.execute_input": "2020-07-18T07:35:24.612338Z",
     "iopub.status.busy": "2020-07-18T07:35:24.611832Z",
     "iopub.status.idle": "2020-07-18T07:35:25.192952Z",
     "shell.execute_reply": "2020-07-18T07:35:25.192634Z"
    },
    "papermill": {
     "duration": 0.599858,
     "end_time": "2020-07-18T07:35:25.193007",
     "exception": false,
     "start_time": "2020-07-18T07:35:24.593149",
     "status": "completed"
    },
    "tags": []
   },
   "outputs": [
    {
     "name": "stdout",
     "output_type": "stream",
     "text": [
      "CPU times: user 772 ms, sys: 248 ms, total: 1.02 s\n",
      "Wall time: 574 ms\n"
     ]
    }
   ],
   "source": [
    "%%time\n",
    "%load_ext autoreload\n",
    "%autoreload 2\n",
    "from simulation import *"
   ]
  },
  {
   "cell_type": "code",
   "execution_count": 2,
   "metadata": {
    "execution": {
     "iopub.execute_input": "2020-07-18T07:35:25.229282Z",
     "iopub.status.busy": "2020-07-18T07:35:25.228960Z",
     "iopub.status.idle": "2020-07-18T07:35:25.240456Z",
     "shell.execute_reply": "2020-07-18T07:35:25.240129Z"
    },
    "papermill": {
     "duration": 0.03019,
     "end_time": "2020-07-18T07:35:25.240507",
     "exception": false,
     "start_time": "2020-07-18T07:35:25.210317",
     "status": "completed"
    },
    "tags": [
     "parameters"
    ]
   },
   "outputs": [
    {
     "name": "stdout",
     "output_type": "stream",
     "text": [
      "CPU times: user 2 µs, sys: 1e+03 ns, total: 3 µs\n",
      "Wall time: 5.01 µs\n"
     ]
    }
   ],
   "source": [
    "%%time\n",
    "### Dataset and simulation parameters\n",
    "#csv_path = SSH2_PERIODIC_100_6561_CSV \n",
    "csv_path = SSH1_PERIODIC_100_6561_CSV \n",
    "model_name = \"DecisionTreeClassifier\"\n",
    "model_kw = {\"criterion\":\"entropy\"}\n",
    "allowed_windings = [0,1]\n",
    "#allowed_windings = [-1,0,1,2]\n",
    "simulation_dir = SSH1_REAL_SPACE_ALL_SITES\n",
    "#simulation_dir = SSH2_PERIODIC_ENGINEERED_100_6561_SIMULATION_DIR\n",
    "val_split = 0.9  \n",
    "features_to_use = None\n",
    "shuffle_features = False\n",
    "random_state = 763\n",
    "\n",
    "### Fourier features\n",
    "fourier_mode = \"dst\"\n",
    "fourier_features_to_use = None\n",
    "fourier_real = \"imag\"\n",
    "fourier_normalize = False\n",
    "fourier_fillna = False\n",
    "\n",
    "### Running a simulation\n",
    "n_experiments = 5\n",
    "start_n = 0\n",
    "fit_params = None\n",
    "#mode=mode\n",
    "shuffle_rows = True\n",
    "pred_params = None\n",
    "random_features = False\n",
    "######### DON'T SET THIS TO TRUE UNLESS YOUR DATASET IS SMALL!! WILL FLOOD YOUR MEMORY!!!\n",
    "store_in_lists = False   \n",
    "########## BELOW ARE THE PARAMETERS THAT CONTROL WHAT WILL BE SAVED\n",
    "save_eigenvector=True\n",
    "save_hamiltonian=True \n",
    "save_accuracy=True \n",
    "save_models=True"
   ]
  },
  {
   "cell_type": "code",
   "execution_count": 3,
   "metadata": {
    "execution": {
     "iopub.execute_input": "2020-07-18T07:35:25.318464Z",
     "iopub.status.busy": "2020-07-18T07:35:25.318064Z",
     "iopub.status.idle": "2020-07-18T07:35:25.418142Z",
     "shell.execute_reply": "2020-07-18T07:35:25.416363Z"
    },
    "papermill": {
     "duration": 0.1615,
     "end_time": "2020-07-18T07:35:25.418385",
     "exception": false,
     "start_time": "2020-07-18T07:35:25.256885",
     "status": "completed"
    },
    "tags": [
     "injected-parameters"
    ]
   },
   "outputs": [],
   "source": [
    "# Parameters\n",
    "model_kw = {\"criterion\": \"entropy\", \"n_estimators\": 25, \"n_jobs\": -1}\n",
    "allowed_windings = [-1, 0, 1, 2]\n",
    "val_split = 0.5\n",
    "features_to_use = None\n",
    "shuffle_features = False\n",
    "n_experiments = 100\n",
    "start_n = 0\n",
    "fit_params = None\n",
    "shuffle_rows = True\n",
    "pred_params = None\n",
    "random_features = False\n",
    "store_in_lists = False\n",
    "save_eigenvector = True\n",
    "save_hamiltonian = True\n",
    "save_accuracy = True\n",
    "save_models = True\n",
    "csv_path = \"/home/rio/ssh_csvs/ssh2/periodic_100_6561.csv\"\n",
    "model_name = \"RandomForestClassifier\"\n",
    "simulation_dir = (\n",
    "    \"/home/rio/ssh_simulations/ssh2/periodic_100_6561/dct_all_wavevector_sites\"\n",
    ")\n",
    "random_state = 2015\n",
    "fourier_features_to_use = None\n",
    "fourier_mode = \"dct\"\n",
    "fourier_real = None\n",
    "fourier_normalize = False\n",
    "fourier_fillna = False\n"
   ]
  },
  {
   "cell_type": "code",
   "execution_count": 4,
   "metadata": {
    "execution": {
     "iopub.execute_input": "2020-07-18T07:35:25.495469Z",
     "iopub.status.busy": "2020-07-18T07:35:25.495115Z",
     "iopub.status.idle": "2020-07-18T07:35:31.208274Z",
     "shell.execute_reply": "2020-07-18T07:35:31.207959Z"
    },
    "papermill": {
     "duration": 5.735053,
     "end_time": "2020-07-18T07:35:31.208325",
     "exception": false,
     "start_time": "2020-07-18T07:35:25.473272",
     "status": "completed"
    },
    "tags": []
   },
   "outputs": [
    {
     "name": "stdout",
     "output_type": "stream",
     "text": [
      "Info on all data: \n",
      "\n",
      "<class 'pandas.core.frame.DataFrame'>\n",
      "Int64Index: 656100 entries, 0 to 656099\n",
      "Columns: 108 entries, id to feat99\n",
      "dtypes: float64(103), int32(3), object(2)\n",
      "memory usage: 538.1+ MB\n",
      "CPU times: user 5.94 s, sys: 588 ms, total: 6.53 s\n",
      "Wall time: 5.69 s\n"
     ]
    },
    {
     "data": {
      "text/html": [
       "<div>\n",
       "<style scoped>\n",
       "    .dataframe tbody tr th:only-of-type {\n",
       "        vertical-align: middle;\n",
       "    }\n",
       "\n",
       "    .dataframe tbody tr th {\n",
       "        vertical-align: top;\n",
       "    }\n",
       "\n",
       "    .dataframe thead th {\n",
       "        text-align: right;\n",
       "    }\n",
       "</style>\n",
       "<table border=\"1\" class=\"dataframe\">\n",
       "  <thead>\n",
       "    <tr style=\"text-align: right;\">\n",
       "      <th></th>\n",
       "      <th>id</th>\n",
       "      <th>path</th>\n",
       "      <th>t1</th>\n",
       "      <th>t2</th>\n",
       "      <th>winding</th>\n",
       "      <th>phase</th>\n",
       "      <th>pred_phase</th>\n",
       "      <th>type_of</th>\n",
       "      <th>feat0</th>\n",
       "      <th>feat1</th>\n",
       "      <th>...</th>\n",
       "      <th>feat90</th>\n",
       "      <th>feat91</th>\n",
       "      <th>feat92</th>\n",
       "      <th>feat93</th>\n",
       "      <th>feat94</th>\n",
       "      <th>feat95</th>\n",
       "      <th>feat96</th>\n",
       "      <th>feat97</th>\n",
       "      <th>feat98</th>\n",
       "      <th>feat99</th>\n",
       "    </tr>\n",
       "  </thead>\n",
       "  <tbody>\n",
       "    <tr>\n",
       "      <th>0</th>\n",
       "      <td>0</td>\n",
       "      <td>H_-2_-2_0.501338.dat</td>\n",
       "      <td>-2.0</td>\n",
       "      <td>-2.0</td>\n",
       "      <td>0.501338</td>\n",
       "      <td>999</td>\n",
       "      <td>666</td>\n",
       "      <td>test</td>\n",
       "      <td>-0.130965</td>\n",
       "      <td>0.301130</td>\n",
       "      <td>...</td>\n",
       "      <td>-0.080279</td>\n",
       "      <td>-0.115687</td>\n",
       "      <td>-0.174988</td>\n",
       "      <td>0.245064</td>\n",
       "      <td>0.319763</td>\n",
       "      <td>-0.059082</td>\n",
       "      <td>-0.000556</td>\n",
       "      <td>-0.245133</td>\n",
       "      <td>-0.301130</td>\n",
       "      <td>0.130965</td>\n",
       "    </tr>\n",
       "    <tr>\n",
       "      <th>1</th>\n",
       "      <td>0</td>\n",
       "      <td>H_-2_-2_0.501338.dat</td>\n",
       "      <td>-2.0</td>\n",
       "      <td>-2.0</td>\n",
       "      <td>0.501338</td>\n",
       "      <td>999</td>\n",
       "      <td>666</td>\n",
       "      <td>test</td>\n",
       "      <td>-0.130965</td>\n",
       "      <td>-0.301130</td>\n",
       "      <td>...</td>\n",
       "      <td>-0.080279</td>\n",
       "      <td>0.115687</td>\n",
       "      <td>-0.174988</td>\n",
       "      <td>-0.245064</td>\n",
       "      <td>0.319763</td>\n",
       "      <td>0.059082</td>\n",
       "      <td>-0.000556</td>\n",
       "      <td>0.245133</td>\n",
       "      <td>-0.301130</td>\n",
       "      <td>-0.130965</td>\n",
       "    </tr>\n",
       "    <tr>\n",
       "      <th>2</th>\n",
       "      <td>0</td>\n",
       "      <td>H_-2_-2_0.501338.dat</td>\n",
       "      <td>-2.0</td>\n",
       "      <td>-2.0</td>\n",
       "      <td>0.501338</td>\n",
       "      <td>999</td>\n",
       "      <td>666</td>\n",
       "      <td>test</td>\n",
       "      <td>-0.148414</td>\n",
       "      <td>-0.042467</td>\n",
       "      <td>...</td>\n",
       "      <td>0.185442</td>\n",
       "      <td>-0.080620</td>\n",
       "      <td>-0.066211</td>\n",
       "      <td>-0.121339</td>\n",
       "      <td>-0.151700</td>\n",
       "      <td>0.192513</td>\n",
       "      <td>0.191642</td>\n",
       "      <td>-0.050956</td>\n",
       "      <td>-0.042467</td>\n",
       "      <td>-0.148414</td>\n",
       "    </tr>\n",
       "    <tr>\n",
       "      <th>3</th>\n",
       "      <td>0</td>\n",
       "      <td>H_-2_-2_0.501338.dat</td>\n",
       "      <td>-2.0</td>\n",
       "      <td>-2.0</td>\n",
       "      <td>0.501338</td>\n",
       "      <td>999</td>\n",
       "      <td>666</td>\n",
       "      <td>test</td>\n",
       "      <td>-0.069630</td>\n",
       "      <td>-0.026147</td>\n",
       "      <td>...</td>\n",
       "      <td>0.102009</td>\n",
       "      <td>-0.100671</td>\n",
       "      <td>-0.081002</td>\n",
       "      <td>-0.020715</td>\n",
       "      <td>-0.058717</td>\n",
       "      <td>0.115834</td>\n",
       "      <td>0.118274</td>\n",
       "      <td>-0.054666</td>\n",
       "      <td>-0.026147</td>\n",
       "      <td>-0.069630</td>\n",
       "    </tr>\n",
       "    <tr>\n",
       "      <th>4</th>\n",
       "      <td>0</td>\n",
       "      <td>H_-2_-2_0.501338.dat</td>\n",
       "      <td>-2.0</td>\n",
       "      <td>-2.0</td>\n",
       "      <td>0.501338</td>\n",
       "      <td>999</td>\n",
       "      <td>666</td>\n",
       "      <td>test</td>\n",
       "      <td>0.010206</td>\n",
       "      <td>-0.014625</td>\n",
       "      <td>...</td>\n",
       "      <td>0.047555</td>\n",
       "      <td>-0.041368</td>\n",
       "      <td>-0.018852</td>\n",
       "      <td>-0.017673</td>\n",
       "      <td>-0.023377</td>\n",
       "      <td>0.031447</td>\n",
       "      <td>0.010280</td>\n",
       "      <td>0.000925</td>\n",
       "      <td>0.014625</td>\n",
       "      <td>-0.010206</td>\n",
       "    </tr>\n",
       "  </tbody>\n",
       "</table>\n",
       "<p>5 rows × 108 columns</p>\n",
       "</div>"
      ],
      "text/plain": [
       "   id                  path   t1   t2   winding  phase  pred_phase type_of  \\\n",
       "0   0  H_-2_-2_0.501338.dat -2.0 -2.0  0.501338    999         666    test   \n",
       "1   0  H_-2_-2_0.501338.dat -2.0 -2.0  0.501338    999         666    test   \n",
       "2   0  H_-2_-2_0.501338.dat -2.0 -2.0  0.501338    999         666    test   \n",
       "3   0  H_-2_-2_0.501338.dat -2.0 -2.0  0.501338    999         666    test   \n",
       "4   0  H_-2_-2_0.501338.dat -2.0 -2.0  0.501338    999         666    test   \n",
       "\n",
       "      feat0     feat1  ...    feat90    feat91    feat92    feat93    feat94  \\\n",
       "0 -0.130965  0.301130  ... -0.080279 -0.115687 -0.174988  0.245064  0.319763   \n",
       "1 -0.130965 -0.301130  ... -0.080279  0.115687 -0.174988 -0.245064  0.319763   \n",
       "2 -0.148414 -0.042467  ...  0.185442 -0.080620 -0.066211 -0.121339 -0.151700   \n",
       "3 -0.069630 -0.026147  ...  0.102009 -0.100671 -0.081002 -0.020715 -0.058717   \n",
       "4  0.010206 -0.014625  ...  0.047555 -0.041368 -0.018852 -0.017673 -0.023377   \n",
       "\n",
       "     feat95    feat96    feat97    feat98    feat99  \n",
       "0 -0.059082 -0.000556 -0.245133 -0.301130  0.130965  \n",
       "1  0.059082 -0.000556  0.245133 -0.301130 -0.130965  \n",
       "2  0.192513  0.191642 -0.050956 -0.042467 -0.148414  \n",
       "3  0.115834  0.118274 -0.054666 -0.026147 -0.069630  \n",
       "4  0.031447  0.010280  0.000925  0.014625 -0.010206  \n",
       "\n",
       "[5 rows x 108 columns]"
      ]
     },
     "execution_count": 4,
     "metadata": {},
     "output_type": "execute_result"
    }
   ],
   "source": [
    "%%time\n",
    "#Starting an instance of Simulation with a decision tree\n",
    "model = DecisionTreeClassifier(criterion=\"entropy\")\n",
    "#dict_args = {\"csv_path\":csv_path, \"model\":model, \"allowed_windings\":allowed_windings,\\\n",
    "#             \"simulation_dir\":simulation_dir, \"val_split\":val_split, \"features_to_use\":features_to_use,\\\n",
    "#            \"shuffle_features\":shuffle_features, \"random_state\":random_state}\n",
    "simulation = Simulation(csv_path,model_name,model_kw,allowed_windings,simulation_dir,val_split,features_to_use,\\\n",
    "                       shuffle_features,fourier_mode,fourier_features_to_use,fourier_real,\\\n",
    "                       fourier_normalize, fourier_fillna , random_state)\n",
    "#simulation = Simulation(**dict_args)\n",
    "\n",
    "\n",
    "#(self, csv_path, model_name, model_kw, allowed_windings, simulation_dir = None, val_split = 0, \n",
    "# features_to_use = None, shuffle_features = False, fourier_mode=None, fourier_features_to_use=None,\n",
    "# fourier_real = False, fourier_normalize = False, Fourier_fillna=False, random_state = None):\n",
    "\n",
    "\n",
    "\n",
    "print(\"Info on all data: \\n\")\n",
    "simulation.dataframe.info()\n",
    "simulation.dataframe.head()"
   ]
  },
  {
   "cell_type": "markdown",
   "metadata": {
    "papermill": {
     "duration": 0.020194,
     "end_time": "2020-07-18T07:35:31.246906",
     "exception": false,
     "start_time": "2020-07-18T07:35:31.226712",
     "status": "completed"
    },
    "tags": []
   },
   "source": [
    "####  Fourier features"
   ]
  },
  {
   "cell_type": "code",
   "execution_count": 5,
   "metadata": {
    "execution": {
     "iopub.execute_input": "2020-07-18T07:35:31.283469Z",
     "iopub.status.busy": "2020-07-18T07:35:31.283158Z",
     "iopub.status.idle": "2020-07-18T07:35:31.481293Z",
     "shell.execute_reply": "2020-07-18T07:35:31.480971Z"
    },
    "papermill": {
     "duration": 0.216677,
     "end_time": "2020-07-18T07:35:31.481344",
     "exception": false,
     "start_time": "2020-07-18T07:35:31.264667",
     "status": "completed"
    },
    "tags": []
   },
   "outputs": [
    {
     "name": "stdout",
     "output_type": "stream",
     "text": [
      "<class 'pandas.core.frame.DataFrame'>\n",
      "Int64Index: 656100 entries, 0 to 656099\n",
      "Data columns (total 59 columns):\n",
      " #   Column      Non-Null Count   Dtype  \n",
      "---  ------      --------------   -----  \n",
      " 0   id          656100 non-null  int32  \n",
      " 1   path        656100 non-null  object \n",
      " 2   t1          656100 non-null  float64\n",
      " 3   t2          656100 non-null  float64\n",
      " 4   winding     656100 non-null  float64\n",
      " 5   phase       656100 non-null  int32  \n",
      " 6   pred_phase  656100 non-null  int32  \n",
      " 7   type_of     656100 non-null  object \n",
      " 8   dct_feat0   656100 non-null  float64\n",
      " 9   dct_feat1   656100 non-null  float64\n",
      " 10  dct_feat2   656100 non-null  float64\n",
      " 11  dct_feat3   656100 non-null  float64\n",
      " 12  dct_feat4   656100 non-null  float64\n",
      " 13  dct_feat5   656100 non-null  float64\n",
      " 14  dct_feat6   656100 non-null  float64\n",
      " 15  dct_feat7   656100 non-null  float64\n",
      " 16  dct_feat8   656100 non-null  float64\n",
      " 17  dct_feat9   656100 non-null  float64\n",
      " 18  dct_feat10  656100 non-null  float64\n",
      " 19  dct_feat11  656100 non-null  float64\n",
      " 20  dct_feat12  656100 non-null  float64\n",
      " 21  dct_feat13  656100 non-null  float64\n",
      " 22  dct_feat14  656100 non-null  float64\n",
      " 23  dct_feat15  656100 non-null  float64\n",
      " 24  dct_feat16  656100 non-null  float64\n",
      " 25  dct_feat17  656100 non-null  float64\n",
      " 26  dct_feat18  656100 non-null  float64\n",
      " 27  dct_feat19  656100 non-null  float64\n",
      " 28  dct_feat20  656100 non-null  float64\n",
      " 29  dct_feat21  656100 non-null  float64\n",
      " 30  dct_feat22  656100 non-null  float64\n",
      " 31  dct_feat23  656100 non-null  float64\n",
      " 32  dct_feat24  656100 non-null  float64\n",
      " 33  dct_feat25  656100 non-null  float64\n",
      " 34  dct_feat26  656100 non-null  float64\n",
      " 35  dct_feat27  656100 non-null  float64\n",
      " 36  dct_feat28  656100 non-null  float64\n",
      " 37  dct_feat29  656100 non-null  float64\n",
      " 38  dct_feat30  656100 non-null  float64\n",
      " 39  dct_feat31  656100 non-null  float64\n",
      " 40  dct_feat32  656100 non-null  float64\n",
      " 41  dct_feat33  656100 non-null  float64\n",
      " 42  dct_feat34  656100 non-null  float64\n",
      " 43  dct_feat35  656100 non-null  float64\n",
      " 44  dct_feat36  656100 non-null  float64\n",
      " 45  dct_feat37  656100 non-null  float64\n",
      " 46  dct_feat38  656100 non-null  float64\n",
      " 47  dct_feat39  656100 non-null  float64\n",
      " 48  dct_feat40  656100 non-null  float64\n",
      " 49  dct_feat41  656100 non-null  float64\n",
      " 50  dct_feat42  656100 non-null  float64\n",
      " 51  dct_feat43  656100 non-null  float64\n",
      " 52  dct_feat44  656100 non-null  float64\n",
      " 53  dct_feat45  656100 non-null  float64\n",
      " 54  dct_feat46  656100 non-null  float64\n",
      " 55  dct_feat47  656100 non-null  float64\n",
      " 56  dct_feat48  656100 non-null  float64\n",
      " 57  dct_feat49  656100 non-null  float64\n",
      " 58  dct_feat50  656100 non-null  float64\n",
      "dtypes: float64(54), int32(3), object(2)\n",
      "memory usage: 292.8+ MB\n",
      "CPU times: user 156 ms, sys: 32.1 ms, total: 188 ms\n",
      "Wall time: 188 ms\n"
     ]
    }
   ],
   "source": [
    "%%time\n",
    "#simulation.generate_fourier_df()\n",
    "if simulation.fourier_mode is not None:\n",
    "    simulation.fourier_dataframe.info() \n",
    "    simulation.fourier_dataframe.sample(15)\n"
   ]
  },
  {
   "cell_type": "code",
   "execution_count": 6,
   "metadata": {
    "execution": {
     "iopub.execute_input": "2020-07-18T07:35:31.521998Z",
     "iopub.status.busy": "2020-07-18T07:35:31.521634Z",
     "iopub.status.idle": "2020-07-18T07:35:31.533169Z",
     "shell.execute_reply": "2020-07-18T07:35:31.533474Z"
    },
    "papermill": {
     "duration": 0.034206,
     "end_time": "2020-07-18T07:35:31.533539",
     "exception": false,
     "start_time": "2020-07-18T07:35:31.499333",
     "status": "completed"
    },
    "tags": []
   },
   "outputs": [
    {
     "name": "stdout",
     "output_type": "stream",
     "text": [
      "features_to_use: \n",
      "\n",
      "\n",
      "None\n",
      "\n",
      "\n",
      "fourier_features: \n",
      "\n",
      "\n",
      "['dct_feat0', 'dct_feat1', 'dct_feat2', 'dct_feat3', 'dct_feat4', 'dct_feat5', 'dct_feat6', 'dct_feat7', 'dct_feat8', 'dct_feat9', 'dct_feat10', 'dct_feat11', 'dct_feat12', 'dct_feat13', 'dct_feat14', 'dct_feat15', 'dct_feat16', 'dct_feat17', 'dct_feat18', 'dct_feat19', 'dct_feat20', 'dct_feat21', 'dct_feat22', 'dct_feat23', 'dct_feat24', 'dct_feat25', 'dct_feat26', 'dct_feat27', 'dct_feat28', 'dct_feat29', 'dct_feat30', 'dct_feat31', 'dct_feat32', 'dct_feat33', 'dct_feat34', 'dct_feat35', 'dct_feat36', 'dct_feat37', 'dct_feat38', 'dct_feat39', 'dct_feat40', 'dct_feat41', 'dct_feat42', 'dct_feat43', 'dct_feat44', 'dct_feat45', 'dct_feat46', 'dct_feat47', 'dct_feat48', 'dct_feat49', 'dct_feat50']\n",
      "\n",
      "\n",
      "Number of Fourier features: \n",
      "\n",
      "\n",
      "51\n",
      "\n",
      "\n",
      "Fourier operator: \n",
      "[[ 1.          2.          2.         ...  2.          2.\n",
      "   1.        ]\n",
      " [ 1.          1.99605346  1.9842294  ... -1.9842294  -1.99605346\n",
      "  -1.        ]\n",
      " [ 1.          1.9842294   1.93716632 ...  1.93716632  1.9842294\n",
      "   1.        ]\n",
      " ...\n",
      " [ 1.         -1.9842294   1.93716632 ...  1.93716632 -1.9842294\n",
      "   1.        ]\n",
      " [ 1.         -1.99605346  1.9842294  ... -1.9842294   1.99605346\n",
      "  -1.        ]\n",
      " [ 1.         -2.          2.         ...  2.         -2.\n",
      "   1.        ]]\n",
      "\n",
      "\n",
      "Shape of Fourier operator: \n",
      "(51, 51)\n"
     ]
    }
   ],
   "source": [
    "print(\"features_to_use: \")\n",
    "print(\"\\n\")\n",
    "print(simulation.features_to_use)\n",
    "if simulation.features_to_use is not None:\n",
    "    print(\"Number of real space features:\")\n",
    "    print(\"\\n\")\n",
    "    print(len(simulation.features_to_use))\n",
    "print(\"\\n\")\n",
    "print(\"fourier_features: \")\n",
    "print(\"\\n\")\n",
    "print(simulation.fourier_features)\n",
    "print(\"\\n\")\n",
    "if simulation.fourier_features is not None:\n",
    "    print(\"Number of Fourier features: \")\n",
    "    print(\"\\n\")\n",
    "    print(len(simulation.fourier_features))\n",
    "print(\"\\n\")\n",
    "print(\"Fourier operator: \")\n",
    "print(simulation.fourier_operator)\n",
    "print(\"\\n\")\n",
    "if simulation.fourier_operator is not None:\n",
    "    print(\"Shape of Fourier operator: \")\n",
    "    print(simulation.fourier_operator.shape)"
   ]
  },
  {
   "cell_type": "code",
   "execution_count": 7,
   "metadata": {
    "execution": {
     "iopub.execute_input": "2020-07-18T07:35:31.570040Z",
     "iopub.status.busy": "2020-07-18T07:35:31.569731Z",
     "iopub.status.idle": "2020-07-18T07:35:31.645510Z",
     "shell.execute_reply": "2020-07-18T07:35:31.646455Z"
    },
    "papermill": {
     "duration": 0.095617,
     "end_time": "2020-07-18T07:35:31.646630",
     "exception": false,
     "start_time": "2020-07-18T07:35:31.551013",
     "status": "completed"
    },
    "tags": []
   },
   "outputs": [],
   "source": [
    "#a = np.array([1+1j,2+3j,4+8j])\n",
    "#np.imag(a)"
   ]
  },
  {
   "cell_type": "code",
   "execution_count": 8,
   "metadata": {
    "execution": {
     "iopub.execute_input": "2020-07-18T07:35:31.718770Z",
     "iopub.status.busy": "2020-07-18T07:35:31.718153Z",
     "iopub.status.idle": "2020-07-18T07:35:31.736424Z",
     "shell.execute_reply": "2020-07-18T07:35:31.736072Z"
    },
    "papermill": {
     "duration": 0.040482,
     "end_time": "2020-07-18T07:35:31.736478",
     "exception": false,
     "start_time": "2020-07-18T07:35:31.695996",
     "status": "completed"
    },
    "tags": []
   },
   "outputs": [],
   "source": [
    "#plt.plot(np.imag(simulation.fourier_operator[:,0]))"
   ]
  },
  {
   "cell_type": "code",
   "execution_count": 9,
   "metadata": {
    "execution": {
     "iopub.execute_input": "2020-07-18T07:35:31.773265Z",
     "iopub.status.busy": "2020-07-18T07:35:31.772956Z",
     "iopub.status.idle": "2020-07-18T07:35:31.855337Z",
     "shell.execute_reply": "2020-07-18T07:35:31.854147Z"
    },
    "papermill": {
     "duration": 0.101605,
     "end_time": "2020-07-18T07:35:31.855512",
     "exception": false,
     "start_time": "2020-07-18T07:35:31.753907",
     "status": "completed"
    },
    "tags": []
   },
   "outputs": [],
   "source": [
    "#np.sin(np.pi/(50))*2"
   ]
  },
  {
   "cell_type": "code",
   "execution_count": 10,
   "metadata": {
    "execution": {
     "iopub.execute_input": "2020-07-18T07:35:31.934728Z",
     "iopub.status.busy": "2020-07-18T07:35:31.934403Z",
     "iopub.status.idle": "2020-07-18T07:35:31.943633Z",
     "shell.execute_reply": "2020-07-18T07:35:31.943891Z"
    },
    "papermill": {
     "duration": 0.033578,
     "end_time": "2020-07-18T07:35:31.943960",
     "exception": false,
     "start_time": "2020-07-18T07:35:31.910382",
     "status": "completed"
    },
    "tags": []
   },
   "outputs": [],
   "source": [
    "#2*np.sin(np.pi/50*49)"
   ]
  },
  {
   "cell_type": "code",
   "execution_count": 11,
   "metadata": {
    "execution": {
     "iopub.execute_input": "2020-07-18T07:35:31.980655Z",
     "iopub.status.busy": "2020-07-18T07:35:31.980323Z",
     "iopub.status.idle": "2020-07-18T07:35:32.028366Z",
     "shell.execute_reply": "2020-07-18T07:35:32.027942Z"
    },
    "papermill": {
     "duration": 0.067065,
     "end_time": "2020-07-18T07:35:32.028438",
     "exception": false,
     "start_time": "2020-07-18T07:35:31.961373",
     "status": "completed"
    },
    "tags": []
   },
   "outputs": [],
   "source": [
    "#simulation.dataframe.iloc[331456,:]"
   ]
  },
  {
   "cell_type": "code",
   "execution_count": 12,
   "metadata": {
    "execution": {
     "iopub.execute_input": "2020-07-18T07:35:32.074418Z",
     "iopub.status.busy": "2020-07-18T07:35:32.074060Z",
     "iopub.status.idle": "2020-07-18T07:35:32.127917Z",
     "shell.execute_reply": "2020-07-18T07:35:32.126019Z"
    },
    "papermill": {
     "duration": 0.074873,
     "end_time": "2020-07-18T07:35:32.128213",
     "exception": false,
     "start_time": "2020-07-18T07:35:32.053340",
     "status": "completed"
    },
    "tags": []
   },
   "outputs": [],
   "source": [
    "#for ix, obj in enumerate(simulation.dataframe.iloc[331456,:].values):\n",
    "#    print(ix,obj)"
   ]
  },
  {
   "cell_type": "code",
   "execution_count": 13,
   "metadata": {
    "execution": {
     "iopub.execute_input": "2020-07-18T07:35:32.201319Z",
     "iopub.status.busy": "2020-07-18T07:35:32.201010Z",
     "iopub.status.idle": "2020-07-18T07:35:32.210782Z",
     "shell.execute_reply": "2020-07-18T07:35:32.210432Z"
    },
    "papermill": {
     "duration": 0.031225,
     "end_time": "2020-07-18T07:35:32.210852",
     "exception": false,
     "start_time": "2020-07-18T07:35:32.179627",
     "status": "completed"
    },
    "tags": []
   },
   "outputs": [],
   "source": [
    "#simulation.fourier_engineered_dataframe.dct_feat0"
   ]
  },
  {
   "cell_type": "code",
   "execution_count": 14,
   "metadata": {
    "execution": {
     "iopub.execute_input": "2020-07-18T07:35:32.248778Z",
     "iopub.status.busy": "2020-07-18T07:35:32.248467Z",
     "iopub.status.idle": "2020-07-18T07:35:32.303418Z",
     "shell.execute_reply": "2020-07-18T07:35:32.302966Z"
    },
    "papermill": {
     "duration": 0.074849,
     "end_time": "2020-07-18T07:35:32.303486",
     "exception": false,
     "start_time": "2020-07-18T07:35:32.228637",
     "status": "completed"
    },
    "tags": []
   },
   "outputs": [],
   "source": [
    "#simulation.features"
   ]
  },
  {
   "cell_type": "code",
   "execution_count": 15,
   "metadata": {
    "execution": {
     "iopub.execute_input": "2020-07-18T07:35:32.353070Z",
     "iopub.status.busy": "2020-07-18T07:35:32.352758Z",
     "iopub.status.idle": "2020-07-18T07:35:32.403529Z",
     "shell.execute_reply": "2020-07-18T07:35:32.403075Z"
    },
    "papermill": {
     "duration": 0.072453,
     "end_time": "2020-07-18T07:35:32.403600",
     "exception": false,
     "start_time": "2020-07-18T07:35:32.331147",
     "status": "completed"
    },
    "tags": []
   },
   "outputs": [],
   "source": [
    "#simulation.fourier_matrix"
   ]
  },
  {
   "cell_type": "code",
   "execution_count": 16,
   "metadata": {
    "execution": {
     "iopub.execute_input": "2020-07-18T07:35:32.451872Z",
     "iopub.status.busy": "2020-07-18T07:35:32.451558Z",
     "iopub.status.idle": "2020-07-18T07:35:32.494720Z",
     "shell.execute_reply": "2020-07-18T07:35:32.494298Z"
    },
    "papermill": {
     "duration": 0.064501,
     "end_time": "2020-07-18T07:35:32.494783",
     "exception": false,
     "start_time": "2020-07-18T07:35:32.430282",
     "status": "completed"
    },
    "tags": []
   },
   "outputs": [],
   "source": [
    "#1/simulation.n_features*simulation.dataframe.loc[:,simulation.features].sum(axis=1)"
   ]
  },
  {
   "cell_type": "code",
   "execution_count": 17,
   "metadata": {
    "execution": {
     "iopub.execute_input": "2020-07-18T07:35:32.539716Z",
     "iopub.status.busy": "2020-07-18T07:35:32.539406Z",
     "iopub.status.idle": "2020-07-18T07:35:32.586677Z",
     "shell.execute_reply": "2020-07-18T07:35:32.586223Z"
    },
    "papermill": {
     "duration": 0.068852,
     "end_time": "2020-07-18T07:35:32.586747",
     "exception": false,
     "start_time": "2020-07-18T07:35:32.517895",
     "status": "completed"
    },
    "tags": []
   },
   "outputs": [],
   "source": [
    "#df_2 = simulation.fourier_engineered_dataframe[simulation.fourier_engineered_dataframe.phase==2]\n",
    "#df_2.describe()"
   ]
  },
  {
   "cell_type": "code",
   "execution_count": 18,
   "metadata": {
    "execution": {
     "iopub.execute_input": "2020-07-18T07:35:32.635634Z",
     "iopub.status.busy": "2020-07-18T07:35:32.635322Z",
     "iopub.status.idle": "2020-07-18T07:35:32.652161Z",
     "shell.execute_reply": "2020-07-18T07:35:32.652478Z"
    },
    "papermill": {
     "duration": 0.039431,
     "end_time": "2020-07-18T07:35:32.652543",
     "exception": false,
     "start_time": "2020-07-18T07:35:32.613112",
     "status": "completed"
    },
    "tags": []
   },
   "outputs": [],
   "source": [
    "#df_1 = simulation.fourier_engineered_dataframe[simulation.fourier_engineered_dataframe.phase==1]\n",
    "#df_1.describe()"
   ]
  },
  {
   "cell_type": "code",
   "execution_count": 19,
   "metadata": {
    "execution": {
     "iopub.execute_input": "2020-07-18T07:35:32.691207Z",
     "iopub.status.busy": "2020-07-18T07:35:32.690885Z",
     "iopub.status.idle": "2020-07-18T07:35:32.754201Z",
     "shell.execute_reply": "2020-07-18T07:35:32.753642Z"
    },
    "papermill": {
     "duration": 0.083181,
     "end_time": "2020-07-18T07:35:32.754282",
     "exception": false,
     "start_time": "2020-07-18T07:35:32.671101",
     "status": "completed"
    },
    "tags": []
   },
   "outputs": [],
   "source": [
    "#df_0 = simulation.fourier_engineered_dataframe[simulation.fourier_engineered_dataframe.phase==0]\n",
    "#df_0.describe()"
   ]
  },
  {
   "cell_type": "code",
   "execution_count": 20,
   "metadata": {
    "execution": {
     "iopub.execute_input": "2020-07-18T07:35:32.808664Z",
     "iopub.status.busy": "2020-07-18T07:35:32.808337Z",
     "iopub.status.idle": "2020-07-18T07:35:32.819325Z",
     "shell.execute_reply": "2020-07-18T07:35:32.818995Z"
    },
    "papermill": {
     "duration": 0.033065,
     "end_time": "2020-07-18T07:35:32.819377",
     "exception": false,
     "start_time": "2020-07-18T07:35:32.786312",
     "status": "completed"
    },
    "tags": []
   },
   "outputs": [],
   "source": [
    "#plt.figure(figsize=(10,10))\n",
    "#plt.scatter(df_1.fourier_feat0,df_1.fourier_feat2)\n",
    "#plt.scatter(df_0.fourier_feat0,df_0.fourier_feat2,alpha=0.4)"
   ]
  },
  {
   "cell_type": "code",
   "execution_count": 21,
   "metadata": {
    "execution": {
     "iopub.execute_input": "2020-07-18T07:35:32.858140Z",
     "iopub.status.busy": "2020-07-18T07:35:32.857823Z",
     "iopub.status.idle": "2020-07-18T07:35:32.902979Z",
     "shell.execute_reply": "2020-07-18T07:35:32.903381Z"
    },
    "papermill": {
     "duration": 0.06544,
     "end_time": "2020-07-18T07:35:32.903462",
     "exception": false,
     "start_time": "2020-07-18T07:35:32.838022",
     "status": "completed"
    },
    "tags": []
   },
   "outputs": [],
   "source": [
    "#plt.scatter(df_0.fourier_feat0,df_0.fourier_feat2,alpha=0.4)"
   ]
  },
  {
   "cell_type": "code",
   "execution_count": 22,
   "metadata": {
    "execution": {
     "iopub.execute_input": "2020-07-18T07:35:32.949376Z",
     "iopub.status.busy": "2020-07-18T07:35:32.949064Z",
     "iopub.status.idle": "2020-07-18T07:35:32.994770Z",
     "shell.execute_reply": "2020-07-18T07:35:32.994318Z"
    },
    "papermill": {
     "duration": 0.06724,
     "end_time": "2020-07-18T07:35:32.994836",
     "exception": false,
     "start_time": "2020-07-18T07:35:32.927596",
     "status": "completed"
    },
    "tags": []
   },
   "outputs": [],
   "source": [
    "#plt.scatter(df_2.fourier_feat0,df_2.fourier_feat2)"
   ]
  },
  {
   "cell_type": "code",
   "execution_count": 23,
   "metadata": {
    "execution": {
     "iopub.execute_input": "2020-07-18T07:35:33.042123Z",
     "iopub.status.busy": "2020-07-18T07:35:33.041583Z",
     "iopub.status.idle": "2020-07-18T07:35:33.078066Z",
     "shell.execute_reply": "2020-07-18T07:35:33.077668Z"
    },
    "papermill": {
     "duration": 0.057977,
     "end_time": "2020-07-18T07:35:33.078127",
     "exception": false,
     "start_time": "2020-07-18T07:35:33.020150",
     "status": "completed"
    },
    "tags": []
   },
   "outputs": [],
   "source": [
    "#df_1.hist(figsize=(15,15))"
   ]
  },
  {
   "cell_type": "code",
   "execution_count": 24,
   "metadata": {
    "execution": {
     "iopub.execute_input": "2020-07-18T07:35:33.121995Z",
     "iopub.status.busy": "2020-07-18T07:35:33.121501Z",
     "iopub.status.idle": "2020-07-18T07:35:33.187664Z",
     "shell.execute_reply": "2020-07-18T07:35:33.187095Z"
    },
    "papermill": {
     "duration": 0.087192,
     "end_time": "2020-07-18T07:35:33.187747",
     "exception": false,
     "start_time": "2020-07-18T07:35:33.100555",
     "status": "completed"
    },
    "tags": []
   },
   "outputs": [],
   "source": [
    "#df_0.hist(figsize=(15,15))"
   ]
  },
  {
   "cell_type": "markdown",
   "metadata": {
    "papermill": {
     "duration": 0.019445,
     "end_time": "2020-07-18T07:35:33.231216",
     "exception": false,
     "start_time": "2020-07-18T07:35:33.211771",
     "status": "completed"
    },
    "tags": []
   },
   "source": [
    "#### Checking initialization"
   ]
  },
  {
   "cell_type": "code",
   "execution_count": 25,
   "metadata": {
    "execution": {
     "iopub.execute_input": "2020-07-18T07:35:33.268793Z",
     "iopub.status.busy": "2020-07-18T07:35:33.268480Z",
     "iopub.status.idle": "2020-07-18T07:35:33.295536Z",
     "shell.execute_reply": "2020-07-18T07:35:33.295215Z"
    },
    "papermill": {
     "duration": 0.046551,
     "end_time": "2020-07-18T07:35:33.295586",
     "exception": false,
     "start_time": "2020-07-18T07:35:33.249035",
     "status": "completed"
    },
    "tags": []
   },
   "outputs": [
    {
     "name": "stdout",
     "output_type": "stream",
     "text": [
      "n_features:  100\n",
      "n_hamiltonians:  6561\n",
      "n_ts:  2\n",
      "CPU times: user 384 µs, sys: 0 ns, total: 384 µs\n",
      "Wall time: 236 µs\n"
     ]
    }
   ],
   "source": [
    "%%time\n",
    "n_features = simulation.n_features\n",
    "n_hamiltonians = simulation.n_hamiltonians\n",
    "n_ts = simulation.n_ts\n",
    "\n",
    "print(\"n_features: \", n_features)\n",
    "print(\"n_hamiltonians: \", n_hamiltonians)\n",
    "print(\"n_ts: \", n_ts)"
   ]
  },
  {
   "cell_type": "code",
   "execution_count": 26,
   "metadata": {
    "execution": {
     "iopub.execute_input": "2020-07-18T07:35:33.337189Z",
     "iopub.status.busy": "2020-07-18T07:35:33.336866Z",
     "iopub.status.idle": "2020-07-18T07:35:33.542565Z",
     "shell.execute_reply": "2020-07-18T07:35:33.542245Z"
    },
    "papermill": {
     "duration": 0.228073,
     "end_time": "2020-07-18T07:35:33.542616",
     "exception": false,
     "start_time": "2020-07-18T07:35:33.314543",
     "status": "completed"
    },
    "tags": []
   },
   "outputs": [
    {
     "name": "stdout",
     "output_type": "stream",
     "text": [
      "% train:  0.8414875781130925\n",
      "% val:  0.0\n",
      "% test:  0.15851242188690748\n",
      "% train + val + test:  1.0\n",
      "\n",
      "\n",
      "number of train hamiltonians:  5521\n",
      "number of val hamiltonians:  0\n",
      "number of test hamiltonians:  1040\n",
      "total number of hamiltonians:  6561\n",
      "\n",
      "\n",
      "train ids:  [13, 14, 15, 16, 17, 18, 19, 20, 21, 22, 23, 24, 25, 26, 27, 28, 29, 30, 31, 32, 33, 34, 35, 36, 37, 38, 39, 41, 42, 43, 44, 45, 46, 47, 48, 49, 50, 51, 52, 53, 54, 55, 56, 57, 58, 59, 60, 61, 62, 63, 64, 65, 66, 67, 68, 69, 70, 71, 72, 73, 74, 75, 76, 77, 78, 79, 80, 95, 96, 97, 98, 99, 100, 101, 102, 103, 104, 105, 106, 107, 108, 109, 110, 111, 112, 113, 114, 115, 116, 117, 118, 119, 121, 122, 123, 124, 125, 126, 127, 128, 129, 130, 131, 132, 133, 134, 135, 136, 137, 138, 139, 140, 141, 142, 143, 144, 145, 146, 147, 148, 149, 150, 151, 152, 153, 154, 155, 156, 157, 158, 159, 160, 161, 176, 177, 178, 179, 180, 181, 182, 183, 184, 185, 186, 187, 188, 189, 190, 191, 192, 193, 194, 195, 196, 197, 198, 199, 201, 202, 203, 204, 205, 206, 207, 208, 209, 210, 211, 212, 213, 214, 215, 216, 217, 218, 219, 220, 221, 222, 223, 224, 225, 226, 227, 228, 229, 230, 231, 232, 233, 234, 235, 236, 237, 238, 239, 240, 241, 242, 258, 259, 260, 261, 262, 263, 264, 265, 266, 267, 268, 269, 270, 271, 272, 273, 274, 275, 276, 277, 278, 279, 281, 282, 283, 284, 285, 286, 287, 288, 289, 290, 291, 292, 293, 294, 295, 296, 297, 298, 299, 300, 301, 302, 303, 304, 305, 306, 307, 308, 309, 310, 311, 312, 313, 314, 315, 316, 317, 318, 319, 320, 321, 322, 323, 340, 341, 342, 343, 344, 345, 346, 347, 348, 349, 350, 351, 352, 353, 354, 355, 356, 357, 358, 359, 361, 362, 363, 364, 365, 366, 367, 368, 369, 370, 371, 372, 373, 374, 375, 376, 377, 378, 379, 380, 381, 382, 383, 384, 385, 386, 387, 388, 389, 390, 391, 392, 393, 394, 395, 396, 397, 398, 399, 400, 401, 402, 403, 404, 422, 423, 424, 425, 426, 427, 428, 429, 430, 431, 432, 433, 434, 435, 436, 437, 438, 439, 441, 442, 443, 444, 445, 446, 447, 448, 449, 450, 451, 452, 453, 454, 455, 456, 457, 458, 459, 460, 461, 462, 463, 464, 465, 466, 467, 468, 469, 470, 471, 472, 473, 474, 475, 476, 477, 478, 479, 480, 481, 482, 483, 484, 485, 503, 504, 505, 506, 507, 508, 509, 510, 511, 512, 513, 514, 515, 516, 517, 518, 519, 521, 522, 523, 524, 525, 526, 527, 528, 529, 530, 531, 532, 533, 534, 535, 536, 537, 538, 539, 540, 541, 542, 543, 544, 545, 546, 547, 548, 549, 550, 551, 552, 553, 554, 555, 556, 557, 558, 559, 560, 561, 562, 563, 564, 565, 566, 585, 586, 587, 588, 589, 590, 591, 592, 593, 594, 595, 596, 597, 598, 599, 601, 602, 603, 604, 605, 606, 607, 608, 609, 610, 611, 612, 613, 614, 615, 616, 617, 618, 619, 620, 621, 622, 623, 624, 625, 626, 627, 628, 629, 630, 631, 632, 633, 634, 635, 636, 637, 638, 639, 640, 641, 642, 643, 644, 645, 646, 647, 667, 668, 669, 670, 671, 672, 673, 674, 675, 676, 677, 678, 679, 681, 682, 683, 684, 685, 686, 687, 688, 689, 690, 691, 692, 693, 694, 695, 696, 697, 698, 699, 700, 701, 702, 703, 704, 705, 706, 707, 708, 709, 710, 711, 712, 713, 714, 715, 716, 717, 718, 719, 720, 721, 722, 723, 724, 725, 726, 727, 728, 749, 750, 751, 752, 753, 754, 755, 756, 757, 758, 759, 761, 762, 763, 764, 765, 766, 767, 768, 769, 770, 771, 772, 773, 774, 775, 776, 777, 778, 779, 780, 781, 782, 783, 784, 785, 786, 787, 788, 789, 790, 791, 792, 793, 794, 795, 796, 797, 798, 799, 800, 801, 802, 803, 804, 805, 806, 807, 808, 809, 830, 831, 832, 833, 834, 835, 836, 837, 838, 839, 841, 842, 843, 844, 845, 846, 847, 848, 849, 850, 851, 852, 853, 854, 855, 856, 857, 858, 859, 860, 861, 862, 863, 864, 865, 866, 867, 868, 869, 870, 871, 872, 873, 874, 875, 876, 877, 878, 879, 880, 881, 882, 883, 884, 885, 886, 887, 888, 889, 890, 912, 913, 914, 915, 916, 917, 918, 919, 921, 922, 923, 924, 925, 926, 927, 928, 929, 930, 931, 932, 933, 934, 935, 936, 937, 938, 939, 940, 941, 942, 943, 944, 945, 946, 947, 948, 949, 950, 951, 952, 953, 954, 955, 956, 957, 958, 959, 960, 961, 962, 963, 964, 965, 966, 967, 968, 969, 970, 971, 994, 995, 996, 997, 998, 999, 1001, 1002, 1003, 1004, 1005, 1006, 1007, 1008, 1009, 1010, 1011, 1012, 1013, 1014, 1015, 1016, 1017, 1018, 1019, 1020, 1021, 1022, 1023, 1024, 1025, 1026, 1027, 1028, 1029, 1030, 1031, 1032, 1033, 1034, 1035, 1036, 1037, 1038, 1039, 1040, 1041, 1042, 1043, 1044, 1045, 1046, 1047, 1048, 1049, 1050, 1051, 1052, 1076, 1077, 1078, 1079, 1081, 1082, 1083, 1084, 1085, 1086, 1087, 1088, 1089, 1090, 1091, 1092, 1093, 1094, 1095, 1096, 1097, 1098, 1099, 1100, 1101, 1102, 1103, 1104, 1105, 1106, 1107, 1108, 1109, 1110, 1111, 1112, 1113, 1114, 1115, 1116, 1117, 1118, 1119, 1120, 1121, 1122, 1123, 1124, 1125, 1126, 1127, 1128, 1129, 1130, 1131, 1132, 1133, 1134, 1157, 1158, 1159, 1161, 1162, 1163, 1164, 1165, 1166, 1167, 1168, 1169, 1170, 1171, 1172, 1173, 1174, 1175, 1176, 1177, 1178, 1179, 1180, 1181, 1182, 1183, 1184, 1185, 1186, 1187, 1188, 1189, 1190, 1191, 1192, 1193, 1194, 1195, 1196, 1197, 1198, 1199, 1200, 1201, 1202, 1203, 1204, 1205, 1206, 1207, 1208, 1209, 1210, 1211, 1212, 1213, 1214, 1215, 1216, 1239, 1241, 1242, 1243, 1244, 1245, 1246, 1247, 1248, 1249, 1250, 1251, 1252, 1253, 1254, 1255, 1256, 1257, 1258, 1259, 1260, 1261, 1262, 1263, 1264, 1265, 1266, 1267, 1268, 1269, 1270, 1271, 1272, 1273, 1274, 1275, 1276, 1277, 1278, 1279, 1280, 1281, 1282, 1283, 1284, 1285, 1286, 1287, 1288, 1289, 1290, 1291, 1292, 1293, 1294, 1295, 1296, 1297, 1298, 1299, 1321, 1322, 1323, 1324, 1325, 1326, 1327, 1328, 1329, 1330, 1331, 1332, 1333, 1334, 1335, 1336, 1337, 1338, 1339, 1340, 1341, 1342, 1343, 1344, 1345, 1346, 1347, 1348, 1349, 1350, 1351, 1352, 1353, 1354, 1355, 1356, 1357, 1358, 1359, 1360, 1361, 1362, 1363, 1364, 1365, 1366, 1367, 1368, 1369, 1370, 1371, 1372, 1373, 1374, 1375, 1376, 1377, 1378, 1379, 1380, 1381, 1402, 1403, 1404, 1405, 1406, 1407, 1408, 1409, 1410, 1411, 1412, 1413, 1414, 1415, 1416, 1417, 1418, 1419, 1420, 1421, 1422, 1423, 1424, 1425, 1426, 1427, 1428, 1429, 1430, 1431, 1432, 1433, 1434, 1435, 1436, 1437, 1438, 1439, 1440, 1441, 1442, 1443, 1444, 1445, 1446, 1447, 1448, 1449, 1450, 1451, 1452, 1453, 1454, 1455, 1456, 1457, 1458, 1459, 1460, 1461, 1462, 1463, 1464, 1484, 1485, 1486, 1487, 1488, 1489, 1490, 1491, 1492, 1493, 1494, 1495, 1496, 1497, 1498, 1499, 1500, 1501, 1502, 1503, 1504, 1505, 1506, 1507, 1508, 1509, 1510, 1511, 1512, 1513, 1514, 1515, 1516, 1517, 1518, 1519, 1520, 1521, 1522, 1523, 1524, 1525, 1526, 1527, 1528, 1529, 1530, 1531, 1532, 1533, 1534, 1535, 1536, 1537, 1538, 1539, 1540, 1541, 1542, 1543, 1544, 1545, 1546, 1566, 1567, 1568, 1569, 1570, 1571, 1572, 1573, 1574, 1575, 1576, 1577, 1578, 1579, 1580, 1581, 1582, 1583, 1584, 1585, 1586, 1587, 1588, 1589, 1590, 1591, 1592, 1593, 1594, 1595, 1596, 1597, 1598, 1599, 1600, 1601, 1602, 1603, 1604, 1605, 1606, 1607, 1608, 1609, 1610, 1611, 1612, 1613, 1614, 1615, 1616, 1617, 1618, 1619, 1620, 1621, 1622, 1623, 1624, 1625, 1626, 1627, 1628, 1648, 1649, 1650, 1651, 1652, 1653, 1654, 1655, 1656, 1657, 1658, 1659, 1660, 1661, 1662, 1663, 1664, 1665, 1666, 1667, 1668, 1669, 1670, 1671, 1672, 1673, 1674, 1675, 1676, 1677, 1678, 1679, 1680, 1681, 1682, 1683, 1684, 1685, 1686, 1687, 1688, 1689, 1690, 1691, 1692, 1693, 1694, 1695, 1696, 1697, 1698, 1699, 1701, 1702, 1703, 1704, 1705, 1706, 1707, 1708, 1709, 1710, 1711, 1729, 1730, 1731, 1732, 1733, 1734, 1735, 1736, 1737, 1738, 1739, 1740, 1741, 1742, 1743, 1744, 1745, 1746, 1747, 1748, 1749, 1750, 1751, 1752, 1753, 1754, 1755, 1756, 1757, 1758, 1759, 1760, 1761, 1762, 1763, 1764, 1765, 1766, 1767, 1768, 1769, 1770, 1771, 1772, 1773, 1774, 1775, 1776, 1777, 1778, 1779, 1781, 1782, 1783, 1784, 1785, 1786, 1787, 1788, 1789, 1790, 1791, 1792, 1793, 1811, 1812, 1813, 1814, 1815, 1816, 1817, 1818, 1819, 1820, 1821, 1822, 1823, 1824, 1825, 1826, 1827, 1828, 1829, 1830, 1831, 1832, 1833, 1834, 1835, 1836, 1837, 1838, 1839, 1840, 1841, 1842, 1843, 1844, 1845, 1846, 1847, 1848, 1849, 1850, 1851, 1852, 1853, 1854, 1855, 1856, 1857, 1858, 1859, 1861, 1862, 1863, 1864, 1865, 1866, 1867, 1868, 1869, 1870, 1871, 1872, 1873, 1874, 1875, 1876, 1893, 1894, 1895, 1896, 1897, 1898, 1899, 1900, 1901, 1902, 1903, 1904, 1905, 1906, 1907, 1908, 1909, 1910, 1911, 1912, 1913, 1914, 1915, 1916, 1917, 1918, 1919, 1920, 1921, 1922, 1923, 1924, 1925, 1926, 1927, 1928, 1929, 1930, 1931, 1932, 1933, 1934, 1935, 1936, 1937, 1938, 1939, 1941, 1942, 1943, 1944, 1945, 1946, 1947, 1948, 1949, 1950, 1951, 1952, 1953, 1954, 1955, 1956, 1957, 1958, 1975, 1976, 1977, 1978, 1979, 1980, 1981, 1982, 1983, 1984, 1985, 1986, 1987, 1988, 1989, 1990, 1991, 1992, 1993, 1994, 1995, 1996, 1997, 1998, 1999, 2000, 2001, 2002, 2003, 2004, 2005, 2006, 2007, 2008, 2009, 2010, 2011, 2012, 2013, 2014, 2015, 2016, 2017, 2018, 2019, 2021, 2022, 2023, 2024, 2025, 2026, 2027, 2028, 2029, 2030, 2031, 2032, 2033, 2034, 2035, 2036, 2037, 2038, 2039, 2056, 2057, 2058, 2059, 2060, 2061, 2062, 2063, 2064, 2065, 2066, 2067, 2068, 2069, 2070, 2071, 2072, 2073, 2074, 2075, 2076, 2077, 2078, 2079, 2080, 2081, 2082, 2083, 2084, 2085, 2086, 2087, 2088, 2089, 2090, 2091, 2092, 2093, 2094, 2095, 2096, 2097, 2098, 2099, 2101, 2102, 2103, 2104, 2105, 2106, 2107, 2108, 2109, 2110, 2111, 2112, 2113, 2114, 2115, 2116, 2117, 2118, 2119, 2121, 2122, 2123, 2138, 2139, 2140, 2141, 2142, 2143, 2144, 2145, 2146, 2147, 2148, 2149, 2150, 2151, 2152, 2153, 2154, 2155, 2156, 2157, 2158, 2159, 2160, 2161, 2162, 2163, 2164, 2165, 2166, 2167, 2168, 2169, 2170, 2171, 2172, 2173, 2174, 2175, 2176, 2177, 2178, 2179, 2181, 2182, 2183, 2184, 2185, 2186, 2187, 2188, 2189, 2190, 2191, 2192, 2193, 2194, 2195, 2196, 2197, 2198, 2199, 2201, 2202, 2203, 2204, 2205, 2220, 2221, 2222, 2223, 2224, 2225, 2226, 2227, 2228, 2229, 2230, 2231, 2232, 2233, 2234, 2235, 2236, 2237, 2238, 2239, 2240, 2241, 2242, 2243, 2244, 2245, 2246, 2247, 2248, 2249, 2250, 2251, 2252, 2253, 2254, 2255, 2256, 2257, 2258, 2259, 2261, 2262, 2263, 2264, 2265, 2266, 2267, 2268, 2269, 2270, 2271, 2272, 2273, 2274, 2275, 2276, 2277, 2278, 2279, 2281, 2282, 2283, 2284, 2285, 2286, 2287, 2288, 2301, 2302, 2303, 2304, 2305, 2306, 2307, 2308, 2309, 2310, 2311, 2312, 2313, 2314, 2315, 2316, 2317, 2318, 2319, 2320, 2321, 2322, 2323, 2324, 2325, 2326, 2327, 2328, 2329, 2330, 2331, 2332, 2333, 2334, 2335, 2336, 2337, 2338, 2339, 2341, 2342, 2343, 2344, 2345, 2346, 2347, 2348, 2349, 2350, 2351, 2352, 2353, 2354, 2355, 2356, 2357, 2358, 2359, 2361, 2362, 2363, 2364, 2365, 2366, 2367, 2368, 2369, 2370, 2383, 2384, 2385, 2386, 2387, 2388, 2389, 2390, 2391, 2392, 2393, 2394, 2395, 2396, 2397, 2398, 2399, 2400, 2401, 2402, 2403, 2404, 2405, 2406, 2407, 2408, 2409, 2410, 2411, 2412, 2413, 2414, 2415, 2416, 2417, 2418, 2419, 2421, 2422, 2423, 2424, 2425, 2426, 2427, 2428, 2429, 2430, 2431, 2432, 2433, 2434, 2435, 2436, 2437, 2438, 2439, 2441, 2442, 2443, 2444, 2445, 2446, 2447, 2448, 2449, 2450, 2451, 2452, 2453, 2465, 2466, 2467, 2468, 2469, 2470, 2471, 2472, 2473, 2474, 2475, 2476, 2477, 2478, 2479, 2480, 2481, 2482, 2483, 2484, 2485, 2486, 2487, 2488, 2489, 2490, 2491, 2492, 2493, 2494, 2495, 2496, 2497, 2498, 2499, 2501, 2502, 2503, 2504, 2505, 2506, 2507, 2508, 2509, 2510, 2511, 2512, 2513, 2514, 2515, 2516, 2517, 2518, 2519, 2521, 2522, 2523, 2524, 2525, 2526, 2527, 2528, 2529, 2530, 2531, 2532, 2533, 2534, 2535, 2547, 2548, 2549, 2550, 2551, 2552, 2553, 2554, 2555, 2556, 2557, 2558, 2559, 2560, 2561, 2562, 2563, 2564, 2565, 2566, 2567, 2568, 2569, 2570, 2571, 2572, 2573, 2574, 2575, 2576, 2577, 2578, 2579, 2581, 2582, 2583, 2584, 2585, 2586, 2587, 2588, 2589, 2590, 2591, 2592, 2593, 2594, 2595, 2596, 2597, 2598, 2599, 2601, 2602, 2603, 2604, 2605, 2606, 2607, 2608, 2609, 2610, 2611, 2612, 2613, 2614, 2615, 2616, 2617, 2628, 2629, 2630, 2631, 2632, 2633, 2634, 2635, 2636, 2637, 2638, 2639, 2640, 2641, 2642, 2643, 2644, 2645, 2646, 2647, 2648, 2649, 2650, 2651, 2652, 2653, 2654, 2655, 2656, 2657, 2658, 2659, 2661, 2662, 2663, 2664, 2665, 2666, 2667, 2668, 2669, 2670, 2671, 2672, 2673, 2674, 2675, 2676, 2677, 2678, 2679, 2681, 2682, 2683, 2684, 2685, 2686, 2687, 2688, 2689, 2690, 2691, 2692, 2693, 2694, 2695, 2696, 2697, 2698, 2699, 2700, 2710, 2711, 2712, 2713, 2714, 2715, 2716, 2717, 2718, 2719, 2720, 2721, 2722, 2723, 2724, 2725, 2726, 2727, 2728, 2729, 2730, 2731, 2732, 2733, 2734, 2735, 2736, 2737, 2738, 2739, 2741, 2742, 2743, 2744, 2745, 2746, 2747, 2748, 2749, 2750, 2751, 2752, 2753, 2754, 2755, 2756, 2757, 2758, 2759, 2761, 2762, 2763, 2764, 2765, 2766, 2767, 2768, 2769, 2770, 2771, 2772, 2773, 2774, 2775, 2776, 2777, 2778, 2779, 2780, 2781, 2782, 2792, 2793, 2794, 2795, 2796, 2797, 2798, 2799, 2800, 2801, 2802, 2803, 2804, 2805, 2806, 2807, 2808, 2809, 2810, 2811, 2812, 2813, 2814, 2815, 2816, 2817, 2818, 2819, 2821, 2822, 2823, 2824, 2825, 2826, 2827, 2828, 2829, 2830, 2831, 2832, 2833, 2834, 2835, 2836, 2837, 2838, 2839, 2841, 2842, 2843, 2844, 2845, 2846, 2847, 2848, 2849, 2850, 2851, 2852, 2853, 2854, 2855, 2856, 2857, 2858, 2859, 2860, 2861, 2862, 2863, 2864, 2865, 2874, 2875, 2876, 2877, 2878, 2879, 2880, 2881, 2882, 2883, 2884, 2885, 2886, 2887, 2888, 2889, 2890, 2891, 2892, 2893, 2894, 2895, 2896, 2897, 2898, 2899, 2901, 2902, 2903, 2904, 2905, 2906, 2907, 2908, 2909, 2910, 2911, 2912, 2913, 2914, 2915, 2916, 2917, 2918, 2919, 2921, 2922, 2923, 2924, 2925, 2926, 2927, 2928, 2929, 2930, 2931, 2932, 2933, 2934, 2935, 2936, 2937, 2938, 2939, 2940, 2941, 2942, 2943, 2944, 2945, 2946, 2947, 2955, 2956, 2957, 2958, 2959, 2960, 2961, 2962, 2963, 2964, 2965, 2966, 2967, 2968, 2969, 2970, 2971, 2972, 2973, 2974, 2975, 2976, 2977, 2978, 2979, 2981, 2982, 2983, 2984, 2985, 2986, 2987, 2988, 2989, 2990, 2991, 2992, 2993, 2994, 2995, 2996, 2997, 2998, 2999, 3001, 3002, 3003, 3004, 3005, 3006, 3007, 3008, 3009, 3010, 3011, 3012, 3013, 3014, 3015, 3016, 3017, 3018, 3019, 3020, 3021, 3022, 3023, 3024, 3025, 3026, 3027, 3028, 3029, 3037, 3038, 3039, 3040, 3041, 3042, 3043, 3044, 3045, 3046, 3047, 3048, 3049, 3050, 3051, 3052, 3053, 3054, 3055, 3056, 3057, 3058, 3059, 3061, 3062, 3063, 3064, 3065, 3066, 3067, 3068, 3069, 3070, 3071, 3072, 3073, 3074, 3075, 3076, 3077, 3078, 3079, 3081, 3082, 3083, 3084, 3085, 3086, 3087, 3088, 3089, 3090, 3091, 3092, 3093, 3094, 3095, 3096, 3097, 3098, 3099, 3100, 3101, 3102, 3103, 3104, 3105, 3106, 3107, 3108, 3109, 3110, 3111, 3112, 3119, 3120, 3121, 3122, 3123, 3124, 3125, 3126, 3127, 3128, 3129, 3130, 3131, 3132, 3133, 3134, 3135, 3136, 3137, 3138, 3139, 3141, 3142, 3143, 3144, 3145, 3146, 3147, 3148, 3149, 3150, 3151, 3152, 3153, 3154, 3155, 3156, 3157, 3158, 3159, 3161, 3162, 3163, 3164, 3165, 3166, 3167, 3168, 3169, 3170, 3171, 3172, 3173, 3174, 3175, 3176, 3177, 3178, 3179, 3180, 3181, 3182, 3183, 3184, 3185, 3186, 3187, 3188, 3189, 3190, 3191, 3192, 3193, 3194, 3201, 3202, 3203, 3204, 3205, 3206, 3207, 3208, 3209, 3210, 3211, 3212, 3213, 3214, 3215, 3216, 3217, 3218, 3219, 3221, 3222, 3223, 3224, 3225, 3226, 3227, 3228, 3229, 3230, 3231, 3232, 3233, 3234, 3235, 3236, 3237, 3238, 3239, 3241, 3242, 3243, 3244, 3245, 3246, 3247, 3248, 3249, 3250, 3251, 3252, 3253, 3254, 3255, 3256, 3257, 3258, 3259, 3260, 3261, 3262, 3263, 3264, 3265, 3266, 3267, 3268, 3269, 3270, 3271, 3272, 3273, 3274, 3275, 3276, 3277, 3282, 3283, 3284, 3285, 3286, 3287, 3288, 3289, 3290, 3291, 3292, 3293, 3294, 3295, 3296, 3297, 3298, 3299, 3301, 3302, 3303, 3304, 3305, 3306, 3307, 3308, 3309, 3310, 3311, 3312, 3313, 3314, 3315, 3316, 3317, 3318, 3319, 3320, 3321, 3322, 3323, 3324, 3325, 3326, 3327, 3328, 3329, 3330, 3331, 3332, 3333, 3334, 3335, 3336, 3337, 3338, 3339, 3340, 3341, 3342, 3343, 3344, 3345, 3346, 3347, 3348, 3349, 3350, 3351, 3352, 3353, 3354, 3355, 3356, 3357, 3358, 3359, 3364, 3365, 3366, 3367, 3368, 3369, 3370, 3371, 3372, 3373, 3374, 3375, 3376, 3377, 3378, 3379, 3381, 3382, 3383, 3384, 3385, 3386, 3387, 3388, 3389, 3390, 3391, 3392, 3393, 3394, 3395, 3396, 3397, 3398, 3399, 3400, 3401, 3402, 3403, 3404, 3405, 3406, 3407, 3408, 3409, 3410, 3411, 3412, 3413, 3414, 3415, 3416, 3417, 3418, 3419, 3420, 3421, 3422, 3423, 3424, 3425, 3426, 3427, 3428, 3429, 3430, 3431, 3432, 3433, 3434, 3435, 3436, 3437, 3438, 3439, 3440, 3441, 3442, 3446, 3447, 3448, 3449, 3450, 3451, 3452, 3453, 3454, 3455, 3456, 3457, 3458, 3459, 3461, 3462, 3463, 3464, 3465, 3466, 3467, 3468, 3469, 3470, 3471, 3472, 3473, 3474, 3475, 3476, 3477, 3478, 3479, 3480, 3481, 3482, 3483, 3484, 3485, 3486, 3487, 3488, 3489, 3490, 3491, 3492, 3493, 3494, 3495, 3496, 3497, 3498, 3499, 3500, 3501, 3502, 3503, 3504, 3505, 3506, 3507, 3508, 3509, 3510, 3511, 3512, 3513, 3514, 3515, 3516, 3517, 3518, 3519, 3520, 3521, 3522, 3523, 3524, 3527, 3528, 3529, 3530, 3531, 3532, 3533, 3534, 3535, 3536, 3537, 3538, 3539, 3541, 3542, 3543, 3544, 3545, 3546, 3547, 3548, 3549, 3550, 3551, 3552, 3553, 3554, 3555, 3556, 3557, 3558, 3559, 3560, 3561, 3562, 3563, 3564, 3565, 3566, 3567, 3568, 3569, 3570, 3571, 3572, 3573, 3574, 3575, 3576, 3577, 3578, 3579, 3580, 3581, 3582, 3583, 3584, 3585, 3586, 3587, 3588, 3589, 3590, 3591, 3592, 3593, 3594, 3595, 3596, 3597, 3598, 3599, 3600, 3601, 3602, 3603, 3604, 3605, 3606, 3609, 3610, 3611, 3612, 3613, 3614, 3615, 3616, 3617, 3618, 3619, 3621, 3622, 3623, 3624, 3625, 3626, 3627, 3628, 3629, 3630, 3631, 3632, 3633, 3634, 3635, 3636, 3637, 3638, 3639, 3640, 3641, 3642, 3643, 3644, 3645, 3646, 3647, 3648, 3649, 3650, 3651, 3652, 3653, 3654, 3655, 3656, 3657, 3658, 3659, 3660, 3661, 3662, 3663, 3664, 3665, 3666, 3667, 3668, 3669, 3670, 3671, 3672, 3673, 3674, 3675, 3676, 3677, 3678, 3679, 3680, 3681, 3682, 3683, 3684, 3685, 3686, 3687, 3688, 3689, 3691, 3692, 3693, 3694, 3695, 3696, 3697, 3698, 3699, 3701, 3702, 3703, 3704, 3705, 3706, 3707, 3708, 3709, 3710, 3711, 3712, 3713, 3714, 3715, 3716, 3717, 3718, 3719, 3720, 3721, 3722, 3723, 3724, 3725, 3726, 3727, 3728, 3729, 3730, 3731, 3732, 3733, 3734, 3735, 3736, 3737, 3738, 3739, 3740, 3741, 3742, 3743, 3744, 3745, 3746, 3747, 3748, 3749, 3750, 3751, 3752, 3753, 3754, 3755, 3756, 3757, 3758, 3759, 3760, 3761, 3762, 3763, 3764, 3765, 3766, 3767, 3768, 3769, 3770, 3771, 3773, 3774, 3775, 3776, 3777, 3778, 3779, 3781, 3782, 3783, 3784, 3785, 3786, 3787, 3788, 3789, 3790, 3791, 3792, 3793, 3794, 3795, 3796, 3797, 3798, 3799, 3800, 3801, 3802, 3803, 3804, 3805, 3806, 3807, 3808, 3809, 3810, 3811, 3812, 3813, 3814, 3815, 3816, 3817, 3818, 3819, 3820, 3821, 3822, 3823, 3824, 3825, 3826, 3827, 3828, 3829, 3830, 3831, 3832, 3833, 3834, 3835, 3836, 3837, 3838, 3839, 3840, 3841, 3842, 3843, 3844, 3845, 3846, 3847, 3848, 3849, 3850, 3851, 3852, 3853, 3855, 3856, 3857, 3858, 3859, 3861, 3862, 3863, 3864, 3865, 3866, 3867, 3868, 3869, 3870, 3871, 3872, 3873, 3874, 3875, 3876, 3877, 3878, 3879, 3880, 3881, 3882, 3883, 3884, 3885, 3886, 3887, 3888, 3889, 3890, 3891, 3892, 3893, 3894, 3895, 3896, 3897, 3898, 3899, 3900, 3901, 3902, 3903, 3904, 3905, 3906, 3907, 3908, 3909, 3910, 3911, 3912, 3913, 3914, 3915, 3916, 3917, 3918, 3919, 3920, 3921, 3922, 3923, 3924, 3925, 3926, 3927, 3928, 3929, 3930, 3931, 3932, 3933, 3934, 3935, 3937, 3938, 3939, 3941, 3942, 3943, 3944, 3945, 3946, 3947, 3948, 3949, 3950, 3951, 3952, 3953, 3954, 3955, 3956, 3957, 3958, 3959, 3960, 3961, 3962, 3963, 3964, 3965, 3966, 3967, 3968, 3969, 3970, 3971, 3972, 3973, 3974, 3975, 3976, 3977, 3978, 3979, 3980, 3981, 3982, 3983, 3984, 3985, 3986, 3987, 3988, 3989, 3990, 3991, 3992, 3993, 3994, 3995, 3996, 3997, 3998, 3999, 4000, 4001, 4002, 4003, 4004, 4005, 4006, 4007, 4008, 4009, 4010, 4011, 4012, 4013, 4014, 4015, 4016, 4017, 4021, 4022, 4023, 4024, 4025, 4026, 4027, 4028, 4029, 4030, 4031, 4032, 4033, 4034, 4035, 4036, 4037, 4038, 4039, 4040, 4041, 4042, 4043, 4044, 4045, 4046, 4047, 4048, 4049, 4050, 4051, 4052, 4053, 4054, 4055, 4056, 4057, 4058, 4059, 4060, 4061, 4062, 4063, 4064, 4065, 4066, 4067, 4068, 4069, 4070, 4071, 4072, 4073, 4074, 4075, 4076, 4077, 4078, 4079, 4080, 4081, 4082, 4083, 4084, 4085, 4086, 4087, 4088, 4089, 4090, 4091, 4092, 4093, 4094, 4095, 4096, 4097, 4098, 4102, 4103, 4104, 4105, 4106, 4107, 4108, 4109, 4110, 4111, 4112, 4113, 4114, 4115, 4116, 4117, 4118, 4119, 4120, 4121, 4122, 4123, 4124, 4125, 4126, 4127, 4128, 4129, 4130, 4131, 4132, 4133, 4134, 4135, 4136, 4137, 4138, 4139, 4140, 4141, 4142, 4143, 4144, 4145, 4146, 4147, 4148, 4149, 4150, 4151, 4152, 4153, 4154, 4155, 4156, 4157, 4158, 4159, 4160, 4161, 4162, 4163, 4164, 4165, 4166, 4167, 4168, 4169, 4170, 4171, 4172, 4173, 4174, 4175, 4176, 4177, 4178, 4179, 4184, 4185, 4186, 4187, 4188, 4189, 4190, 4191, 4192, 4193, 4194, 4195, 4196, 4197, 4198, 4199, 4200, 4201, 4202, 4203, 4204, 4205, 4206, 4207, 4208, 4209, 4210, 4211, 4212, 4213, 4214, 4215, 4216, 4217, 4218, 4219, 4220, 4221, 4222, 4223, 4224, 4225, 4226, 4227, 4228, 4229, 4230, 4231, 4232, 4233, 4234, 4235, 4236, 4237, 4238, 4239, 4240, 4241, 4242, 4243, 4244, 4245, 4246, 4247, 4248, 4249, 4250, 4251, 4252, 4253, 4254, 4255, 4256, 4257, 4258, 4259, 4261, 4262, 4267, 4268, 4269, 4270, 4271, 4272, 4273, 4274, 4275, 4276, 4277, 4278, 4279, 4280, 4281, 4282, 4283, 4284, 4285, 4286, 4287, 4288, 4289, 4290, 4291, 4292, 4293, 4294, 4295, 4296, 4297, 4298, 4299, 4300, 4301, 4302, 4303, 4304, 4305, 4306, 4307, 4308, 4309, 4310, 4311, 4312, 4313, 4314, 4315, 4316, 4317, 4318, 4319, 4320, 4321, 4322, 4323, 4324, 4325, 4326, 4327, 4328, 4329, 4330, 4331, 4332, 4333, 4334, 4335, 4336, 4337, 4338, 4339, 4341, 4342, 4343, 4344, 4349, 4350, 4351, 4352, 4353, 4354, 4355, 4356, 4357, 4358, 4359, 4360, 4361, 4362, 4363, 4364, 4365, 4366, 4367, 4368, 4369, 4370, 4371, 4372, 4373, 4374, 4375, 4376, 4377, 4378, 4379, 4380, 4381, 4382, 4383, 4384, 4385, 4386, 4387, 4388, 4389, 4390, 4391, 4392, 4393, 4394, 4395, 4396, 4397, 4398, 4399, 4400, 4401, 4402, 4403, 4404, 4405, 4406, 4407, 4408, 4409, 4410, 4411, 4412, 4413, 4414, 4415, 4416, 4417, 4418, 4419, 4421, 4422, 4423, 4424, 4425, 4426, 4432, 4433, 4434, 4435, 4436, 4437, 4438, 4439, 4440, 4441, 4442, 4443, 4444, 4445, 4446, 4447, 4448, 4449, 4450, 4451, 4452, 4453, 4454, 4455, 4456, 4457, 4458, 4459, 4460, 4461, 4462, 4463, 4464, 4465, 4466, 4467, 4468, 4469, 4470, 4471, 4472, 4473, 4474, 4475, 4476, 4477, 4478, 4479, 4480, 4481, 4482, 4483, 4484, 4485, 4486, 4487, 4488, 4489, 4490, 4491, 4492, 4493, 4494, 4495, 4496, 4497, 4498, 4499, 4501, 4502, 4503, 4504, 4505, 4506, 4507, 4514, 4515, 4516, 4517, 4518, 4519, 4520, 4521, 4522, 4523, 4524, 4525, 4526, 4527, 4528, 4529, 4530, 4531, 4532, 4533, 4534, 4535, 4536, 4537, 4538, 4539, 4540, 4541, 4542, 4543, 4544, 4545, 4546, 4547, 4548, 4549, 4550, 4551, 4552, 4553, 4554, 4555, 4556, 4557, 4558, 4559, 4560, 4561, 4562, 4563, 4564, 4565, 4566, 4567, 4568, 4569, 4570, 4571, 4572, 4573, 4574, 4575, 4576, 4577, 4578, 4579, 4581, 4582, 4583, 4584, 4585, 4586, 4587, 4588, 4589, 4596, 4597, 4598, 4599, 4600, 4601, 4602, 4603, 4604, 4605, 4606, 4607, 4608, 4609, 4610, 4611, 4612, 4613, 4614, 4615, 4616, 4617, 4618, 4619, 4620, 4621, 4622, 4623, 4624, 4625, 4626, 4627, 4628, 4629, 4630, 4631, 4632, 4633, 4634, 4635, 4636, 4637, 4638, 4639, 4640, 4641, 4642, 4643, 4644, 4645, 4646, 4647, 4648, 4649, 4650, 4651, 4652, 4653, 4654, 4655, 4656, 4657, 4658, 4659, 4661, 4662, 4663, 4664, 4665, 4666, 4667, 4668, 4669, 4670, 4671, 4679, 4680, 4681, 4682, 4683, 4684, 4685, 4686, 4687, 4688, 4689, 4690, 4691, 4692, 4693, 4694, 4695, 4696, 4697, 4698, 4699, 4700, 4701, 4702, 4703, 4704, 4705, 4706, 4707, 4708, 4709, 4710, 4711, 4712, 4713, 4714, 4715, 4716, 4717, 4718, 4719, 4720, 4721, 4722, 4723, 4724, 4725, 4726, 4727, 4728, 4729, 4730, 4731, 4732, 4733, 4734, 4735, 4736, 4737, 4738, 4739, 4741, 4742, 4743, 4744, 4745, 4746, 4747, 4748, 4749, 4750, 4751, 4752, 4761, 4762, 4763, 4764, 4765, 4766, 4767, 4768, 4769, 4770, 4771, 4772, 4773, 4774, 4775, 4776, 4777, 4778, 4779, 4780, 4781, 4782, 4783, 4784, 4785, 4786, 4787, 4788, 4789, 4790, 4791, 4792, 4793, 4794, 4795, 4796, 4797, 4798, 4799, 4800, 4801, 4802, 4803, 4804, 4805, 4806, 4807, 4808, 4809, 4810, 4811, 4812, 4813, 4814, 4815, 4816, 4817, 4818, 4819, 4821, 4822, 4823, 4824, 4825, 4826, 4827, 4828, 4829, 4830, 4831, 4832, 4833, 4834, 4844, 4845, 4846, 4847, 4848, 4849, 4850, 4851, 4852, 4853, 4854, 4855, 4856, 4857, 4858, 4859, 4860, 4861, 4862, 4863, 4864, 4865, 4866, 4867, 4868, 4869, 4870, 4871, 4872, 4873, 4874, 4875, 4876, 4877, 4878, 4879, 4880, 4881, 4882, 4883, 4884, 4885, 4886, 4887, 4888, 4889, 4890, 4891, 4892, 4893, 4894, 4895, 4896, 4897, 4898, 4899, 4901, 4902, 4903, 4904, 4905, 4906, 4907, 4908, 4909, 4910, 4911, 4912, 4913, 4914, 4915, 4916, 4926, 4927, 4928, 4929, 4930, 4931, 4932, 4933, 4934, 4935, 4936, 4937, 4938, 4939, 4940, 4941, 4942, 4943, 4944, 4945, 4946, 4947, 4948, 4949, 4950, 4951, 4952, 4953, 4954, 4955, 4956, 4957, 4958, 4959, 4960, 4961, 4962, 4963, 4964, 4965, 4966, 4967, 4968, 4969, 4970, 4971, 4972, 4973, 4974, 4975, 4976, 4977, 4978, 4979, 4981, 4982, 4983, 4984, 4985, 4986, 4987, 4988, 4989, 4990, 4991, 4992, 4993, 4994, 4995, 4996, 4997, 4998, 5008, 5009, 5010, 5011, 5012, 5013, 5014, 5015, 5016, 5017, 5018, 5019, 5020, 5021, 5022, 5023, 5024, 5025, 5026, 5027, 5028, 5029, 5030, 5031, 5032, 5033, 5034, 5035, 5036, 5037, 5038, 5039, 5040, 5041, 5042, 5043, 5044, 5045, 5046, 5047, 5048, 5049, 5050, 5051, 5052, 5053, 5054, 5055, 5056, 5057, 5058, 5059, 5061, 5062, 5063, 5064, 5065, 5066, 5067, 5068, 5069, 5070, 5071, 5072, 5073, 5074, 5075, 5076, 5077, 5078, 5079, 5091, 5092, 5093, 5094, 5095, 5096, 5097, 5098, 5099, 5100, 5101, 5102, 5103, 5104, 5105, 5106, 5107, 5108, 5109, 5110, 5111, 5112, 5113, 5114, 5115, 5116, 5117, 5118, 5119, 5120, 5121, 5122, 5123, 5124, 5125, 5126, 5127, 5128, 5129, 5130, 5131, 5132, 5133, 5134, 5135, 5136, 5137, 5138, 5139, 5141, 5142, 5143, 5144, 5145, 5146, 5147, 5148, 5149, 5150, 5151, 5152, 5153, 5154, 5155, 5156, 5157, 5158, 5159, 5160, 5161, 5173, 5174, 5175, 5176, 5177, 5178, 5179, 5180, 5181, 5182, 5183, 5184, 5185, 5186, 5187, 5188, 5189, 5190, 5191, 5192, 5193, 5194, 5195, 5196, 5197, 5198, 5199, 5200, 5201, 5202, 5203, 5204, 5205, 5206, 5207, 5208, 5209, 5210, 5211, 5212, 5213, 5214, 5215, 5216, 5217, 5218, 5219, 5221, 5222, 5223, 5224, 5225, 5226, 5227, 5228, 5229, 5230, 5231, 5232, 5233, 5234, 5235, 5236, 5237, 5238, 5239, 5240, 5241, 5242, 5243, 5256, 5257, 5258, 5259, 5260, 5261, 5262, 5263, 5264, 5265, 5266, 5267, 5268, 5269, 5270, 5271, 5272, 5273, 5274, 5275, 5276, 5277, 5278, 5279, 5280, 5281, 5282, 5283, 5284, 5285, 5286, 5287, 5288, 5289, 5290, 5291, 5292, 5293, 5294, 5295, 5296, 5297, 5298, 5299, 5301, 5302, 5303, 5304, 5305, 5306, 5307, 5308, 5309, 5310, 5311, 5312, 5313, 5314, 5315, 5316, 5317, 5318, 5319, 5320, 5321, 5322, 5323, 5324, 5325, 5338, 5339, 5340, 5341, 5342, 5343, 5344, 5345, 5346, 5347, 5348, 5349, 5350, 5351, 5352, 5353, 5354, 5355, 5356, 5357, 5358, 5359, 5360, 5361, 5362, 5363, 5364, 5365, 5366, 5367, 5368, 5369, 5370, 5371, 5372, 5373, 5374, 5375, 5376, 5377, 5378, 5379, 5381, 5382, 5383, 5384, 5385, 5386, 5387, 5388, 5389, 5390, 5391, 5392, 5393, 5394, 5395, 5396, 5397, 5398, 5399, 5400, 5401, 5402, 5403, 5404, 5405, 5406, 5421, 5422, 5423, 5424, 5425, 5426, 5427, 5428, 5429, 5430, 5431, 5432, 5433, 5434, 5435, 5436, 5437, 5438, 5439, 5440, 5441, 5442, 5443, 5444, 5445, 5446, 5447, 5448, 5449, 5450, 5451, 5452, 5453, 5454, 5455, 5456, 5457, 5458, 5459, 5461, 5462, 5463, 5464, 5465, 5466, 5467, 5468, 5469, 5470, 5471, 5472, 5473, 5474, 5475, 5476, 5477, 5478, 5479, 5480, 5481, 5482, 5483, 5484, 5485, 5486, 5487, 5488, 5503, 5504, 5505, 5506, 5507, 5508, 5509, 5510, 5511, 5512, 5513, 5514, 5515, 5516, 5517, 5518, 5519, 5520, 5521, 5522, 5523, 5524, 5525, 5526, 5527, 5528, 5529, 5530, 5531, 5532, 5533, 5534, 5535, 5536, 5537, 5538, 5539, 5541, 5542, 5543, 5544, 5545, 5546, 5547, 5548, 5549, 5550, 5551, 5552, 5553, 5554, 5555, 5556, 5557, 5558, 5559, 5560, 5561, 5562, 5563, 5564, 5565, 5566, 5567, 5568, 5569, 5570, 5585, 5586, 5587, 5588, 5589, 5590, 5591, 5592, 5593, 5594, 5595, 5596, 5597, 5598, 5599, 5600, 5601, 5602, 5603, 5604, 5605, 5606, 5607, 5608, 5609, 5610, 5611, 5612, 5613, 5614, 5615, 5616, 5617, 5618, 5619, 5621, 5622, 5623, 5624, 5625, 5626, 5627, 5628, 5629, 5630, 5631, 5632, 5633, 5634, 5635, 5636, 5637, 5638, 5639, 5640, 5641, 5642, 5643, 5644, 5645, 5646, 5647, 5648, 5649, 5650, 5651, 5652, 5668, 5669, 5670, 5671, 5672, 5673, 5674, 5675, 5676, 5677, 5678, 5679, 5680, 5681, 5682, 5683, 5684, 5685, 5686, 5687, 5688, 5689, 5690, 5691, 5692, 5693, 5694, 5695, 5696, 5697, 5698, 5699, 5701, 5702, 5703, 5704, 5705, 5706, 5707, 5708, 5709, 5710, 5711, 5712, 5713, 5714, 5715, 5716, 5717, 5718, 5719, 5720, 5721, 5722, 5723, 5724, 5725, 5726, 5727, 5728, 5729, 5730, 5731, 5732, 5733, 5750, 5751, 5752, 5753, 5754, 5755, 5756, 5757, 5758, 5759, 5760, 5761, 5762, 5763, 5764, 5765, 5766, 5767, 5768, 5769, 5770, 5771, 5772, 5773, 5774, 5775, 5776, 5777, 5778, 5779, 5781, 5782, 5783, 5784, 5785, 5786, 5787, 5788, 5789, 5790, 5791, 5792, 5793, 5794, 5795, 5796, 5797, 5798, 5799, 5800, 5801, 5802, 5803, 5804, 5805, 5806, 5807, 5808, 5809, 5810, 5811, 5812, 5813, 5814, 5815, 5832, 5833, 5834, 5835, 5836, 5837, 5838, 5839, 5840, 5841, 5842, 5843, 5844, 5845, 5846, 5847, 5848, 5849, 5850, 5851, 5852, 5853, 5854, 5855, 5856, 5857, 5858, 5859, 5861, 5862, 5863, 5864, 5865, 5866, 5867, 5868, 5869, 5870, 5871, 5872, 5873, 5874, 5875, 5876, 5877, 5878, 5879, 5880, 5881, 5882, 5883, 5884, 5885, 5886, 5887, 5888, 5889, 5890, 5891, 5892, 5893, 5894, 5895, 5896, 5897, 5913, 5914, 5915, 5916, 5917, 5918, 5919, 5920, 5921, 5922, 5923, 5924, 5925, 5926, 5927, 5928, 5929, 5930, 5931, 5932, 5933, 5934, 5935, 5936, 5937, 5938, 5939, 5941, 5942, 5943, 5944, 5945, 5946, 5947, 5948, 5949, 5950, 5951, 5952, 5953, 5954, 5955, 5956, 5957, 5958, 5959, 5960, 5961, 5962, 5963, 5964, 5965, 5966, 5967, 5968, 5969, 5970, 5971, 5972, 5973, 5974, 5975, 5976, 5977, 5978, 5994, 5995, 5996, 5997, 5998, 5999, 6000, 6001, 6002, 6003, 6004, 6005, 6006, 6007, 6008, 6009, 6010, 6011, 6012, 6013, 6014, 6015, 6016, 6017, 6018, 6019, 6021, 6022, 6023, 6024, 6025, 6026, 6027, 6028, 6029, 6030, 6031, 6032, 6033, 6034, 6035, 6036, 6037, 6038, 6039, 6040, 6041, 6042, 6043, 6044, 6045, 6046, 6047, 6048, 6049, 6050, 6051, 6052, 6053, 6054, 6055, 6056, 6057, 6058, 6059, 6060, 6075, 6076, 6077, 6078, 6079, 6080, 6081, 6082, 6083, 6084, 6085, 6086, 6087, 6088, 6089, 6090, 6091, 6092, 6093, 6094, 6095, 6096, 6097, 6098, 6099, 6101, 6102, 6103, 6104, 6105, 6106, 6107, 6108, 6109, 6110, 6111, 6112, 6113, 6114, 6115, 6116, 6117, 6118, 6119, 6120, 6121, 6122, 6123, 6124, 6125, 6126, 6127, 6128, 6129, 6130, 6131, 6132, 6133, 6134, 6135, 6136, 6137, 6138, 6139, 6140, 6141, 6142, 6156, 6157, 6158, 6159, 6160, 6161, 6162, 6163, 6164, 6165, 6166, 6167, 6168, 6169, 6170, 6171, 6172, 6173, 6174, 6175, 6176, 6177, 6178, 6179, 6181, 6182, 6183, 6184, 6185, 6186, 6187, 6188, 6189, 6190, 6191, 6192, 6193, 6194, 6195, 6196, 6197, 6198, 6199, 6200, 6201, 6202, 6203, 6204, 6205, 6206, 6207, 6208, 6209, 6210, 6211, 6212, 6213, 6214, 6215, 6216, 6217, 6218, 6219, 6220, 6221, 6222, 6223, 6224, 6237, 6238, 6239, 6240, 6241, 6242, 6243, 6244, 6245, 6246, 6247, 6248, 6249, 6250, 6251, 6252, 6253, 6254, 6255, 6256, 6257, 6258, 6259, 6261, 6262, 6263, 6264, 6265, 6266, 6267, 6268, 6269, 6270, 6271, 6272, 6273, 6274, 6275, 6276, 6277, 6278, 6279, 6280, 6281, 6282, 6283, 6284, 6285, 6286, 6287, 6288, 6289, 6290, 6291, 6292, 6293, 6294, 6295, 6296, 6297, 6298, 6299, 6300, 6301, 6302, 6303, 6304, 6305, 6318, 6319, 6320, 6321, 6322, 6323, 6324, 6325, 6326, 6327, 6328, 6329, 6330, 6331, 6332, 6333, 6334, 6335, 6336, 6337, 6338, 6339, 6341, 6342, 6343, 6344, 6345, 6346, 6347, 6348, 6349, 6350, 6351, 6352, 6353, 6354, 6355, 6356, 6357, 6358, 6359, 6360, 6361, 6362, 6363, 6364, 6365, 6366, 6367, 6368, 6369, 6370, 6371, 6372, 6373, 6374, 6375, 6376, 6377, 6378, 6379, 6380, 6381, 6382, 6383, 6384, 6385, 6386, 6387, 6399, 6400, 6401, 6402, 6403, 6404, 6405, 6406, 6407, 6408, 6409, 6410, 6411, 6412, 6413, 6414, 6415, 6416, 6417, 6418, 6419, 6421, 6422, 6423, 6424, 6425, 6426, 6427, 6428, 6429, 6430, 6431, 6432, 6433, 6434, 6435, 6436, 6437, 6438, 6439, 6440, 6441, 6442, 6443, 6444, 6445, 6446, 6447, 6448, 6449, 6450, 6451, 6452, 6453, 6454, 6455, 6456, 6457, 6458, 6459, 6460, 6461, 6462, 6463, 6464, 6465, 6466, 6467, 6468, 6469, 6480, 6481, 6482, 6483, 6484, 6485, 6486, 6487, 6488, 6489, 6490, 6491, 6492, 6493, 6494, 6495, 6496, 6497, 6498, 6499, 6501, 6502, 6503, 6504, 6505, 6506, 6507, 6508, 6509, 6510, 6511, 6512, 6513, 6514, 6515, 6516, 6517, 6518, 6519, 6520, 6521, 6522, 6523, 6524, 6525, 6526, 6527, 6528, 6529, 6530, 6531, 6532, 6533, 6534, 6535, 6536, 6537, 6538, 6539, 6540, 6541, 6542, 6543, 6544, 6545, 6546, 6547, 6548, 6549, 6550, 6551]\n",
      "val ids:  []\n",
      "test ids:  [0, 1, 2, 3, 4, 5, 6, 7, 8, 9, 10, 11, 12, 40, 81, 82, 83, 84, 85, 86, 87, 88, 89, 90, 91, 92, 93, 94, 120, 162, 163, 164, 165, 166, 167, 168, 169, 170, 171, 172, 173, 174, 175, 200, 243, 244, 245, 246, 247, 248, 249, 250, 251, 252, 253, 254, 255, 256, 257, 280, 324, 325, 326, 327, 328, 329, 330, 331, 332, 333, 334, 335, 336, 337, 338, 339, 360, 405, 406, 407, 408, 409, 410, 411, 412, 413, 414, 415, 416, 417, 418, 419, 420, 421, 440, 486, 487, 488, 489, 490, 491, 492, 493, 494, 495, 496, 497, 498, 499, 500, 501, 502, 520, 567, 568, 569, 570, 571, 572, 573, 574, 575, 576, 577, 578, 579, 580, 581, 582, 583, 584, 600, 648, 649, 650, 651, 652, 653, 654, 655, 656, 657, 658, 659, 660, 661, 662, 663, 664, 665, 666, 680, 729, 730, 731, 732, 733, 734, 735, 736, 737, 738, 739, 740, 741, 742, 743, 744, 745, 746, 747, 748, 760, 810, 811, 812, 813, 814, 815, 816, 817, 818, 819, 820, 821, 822, 823, 824, 825, 826, 827, 828, 829, 840, 891, 892, 893, 894, 895, 896, 897, 898, 899, 900, 901, 902, 903, 904, 905, 906, 907, 908, 909, 910, 911, 920, 972, 973, 974, 975, 976, 977, 978, 979, 980, 981, 982, 983, 984, 985, 986, 987, 988, 989, 990, 991, 992, 993, 1000, 1053, 1054, 1055, 1056, 1057, 1058, 1059, 1060, 1061, 1062, 1063, 1064, 1065, 1066, 1067, 1068, 1069, 1070, 1071, 1072, 1073, 1074, 1075, 1080, 1135, 1136, 1137, 1138, 1139, 1140, 1141, 1142, 1143, 1144, 1145, 1146, 1147, 1148, 1149, 1150, 1151, 1152, 1153, 1154, 1155, 1156, 1160, 1217, 1218, 1219, 1220, 1221, 1222, 1223, 1224, 1225, 1226, 1227, 1228, 1229, 1230, 1231, 1232, 1233, 1234, 1235, 1236, 1237, 1238, 1240, 1300, 1301, 1302, 1303, 1304, 1305, 1306, 1307, 1308, 1309, 1310, 1311, 1312, 1313, 1314, 1315, 1316, 1317, 1318, 1319, 1320, 1382, 1383, 1384, 1385, 1386, 1387, 1388, 1389, 1390, 1391, 1392, 1393, 1394, 1395, 1396, 1397, 1398, 1399, 1400, 1401, 1465, 1466, 1467, 1468, 1469, 1470, 1471, 1472, 1473, 1474, 1475, 1476, 1477, 1478, 1479, 1480, 1481, 1482, 1483, 1547, 1548, 1549, 1550, 1551, 1552, 1553, 1554, 1555, 1556, 1557, 1558, 1559, 1560, 1561, 1562, 1563, 1564, 1565, 1629, 1630, 1631, 1632, 1633, 1634, 1635, 1636, 1637, 1638, 1639, 1640, 1641, 1642, 1643, 1644, 1645, 1646, 1647, 1700, 1712, 1713, 1714, 1715, 1716, 1717, 1718, 1719, 1720, 1721, 1722, 1723, 1724, 1725, 1726, 1727, 1728, 1780, 1794, 1795, 1796, 1797, 1798, 1799, 1800, 1801, 1802, 1803, 1804, 1805, 1806, 1807, 1808, 1809, 1810, 1860, 1877, 1878, 1879, 1880, 1881, 1882, 1883, 1884, 1885, 1886, 1887, 1888, 1889, 1890, 1891, 1892, 1940, 1959, 1960, 1961, 1962, 1963, 1964, 1965, 1966, 1967, 1968, 1969, 1970, 1971, 1972, 1973, 1974, 2020, 2040, 2041, 2042, 2043, 2044, 2045, 2046, 2047, 2048, 2049, 2050, 2051, 2052, 2053, 2054, 2055, 2100, 2120, 2124, 2125, 2126, 2127, 2128, 2129, 2130, 2131, 2132, 2133, 2134, 2135, 2136, 2137, 2180, 2200, 2206, 2207, 2208, 2209, 2210, 2211, 2212, 2213, 2214, 2215, 2216, 2217, 2218, 2219, 2260, 2280, 2289, 2290, 2291, 2292, 2293, 2294, 2295, 2296, 2297, 2298, 2299, 2300, 2340, 2360, 2371, 2372, 2373, 2374, 2375, 2376, 2377, 2378, 2379, 2380, 2381, 2382, 2420, 2440, 2454, 2455, 2456, 2457, 2458, 2459, 2460, 2461, 2462, 2463, 2464, 2500, 2520, 2536, 2537, 2538, 2539, 2540, 2541, 2542, 2543, 2544, 2545, 2546, 2580, 2600, 2618, 2619, 2620, 2621, 2622, 2623, 2624, 2625, 2626, 2627, 2660, 2680, 2701, 2702, 2703, 2704, 2705, 2706, 2707, 2708, 2709, 2740, 2760, 2783, 2784, 2785, 2786, 2787, 2788, 2789, 2790, 2791, 2820, 2840, 2866, 2867, 2868, 2869, 2870, 2871, 2872, 2873, 2900, 2920, 2948, 2949, 2950, 2951, 2952, 2953, 2954, 2980, 3000, 3030, 3031, 3032, 3033, 3034, 3035, 3036, 3060, 3080, 3113, 3114, 3115, 3116, 3117, 3118, 3140, 3160, 3195, 3196, 3197, 3198, 3199, 3200, 3220, 3240, 3278, 3279, 3280, 3281, 3300, 3360, 3361, 3362, 3363, 3380, 3443, 3444, 3445, 3460, 3525, 3526, 3540, 3607, 3608, 3620, 3690, 3700, 3772, 3780, 3854, 3860, 3936, 3940, 4018, 4019, 4020, 4099, 4100, 4101, 4180, 4181, 4182, 4183, 4260, 4263, 4264, 4265, 4266, 4340, 4345, 4346, 4347, 4348, 4420, 4427, 4428, 4429, 4430, 4431, 4500, 4508, 4509, 4510, 4511, 4512, 4513, 4580, 4590, 4591, 4592, 4593, 4594, 4595, 4660, 4672, 4673, 4674, 4675, 4676, 4677, 4678, 4740, 4753, 4754, 4755, 4756, 4757, 4758, 4759, 4760, 4820, 4835, 4836, 4837, 4838, 4839, 4840, 4841, 4842, 4843, 4900, 4917, 4918, 4919, 4920, 4921, 4922, 4923, 4924, 4925, 4980, 4999, 5000, 5001, 5002, 5003, 5004, 5005, 5006, 5007, 5060, 5080, 5081, 5082, 5083, 5084, 5085, 5086, 5087, 5088, 5089, 5090, 5140, 5162, 5163, 5164, 5165, 5166, 5167, 5168, 5169, 5170, 5171, 5172, 5220, 5244, 5245, 5246, 5247, 5248, 5249, 5250, 5251, 5252, 5253, 5254, 5255, 5300, 5326, 5327, 5328, 5329, 5330, 5331, 5332, 5333, 5334, 5335, 5336, 5337, 5380, 5407, 5408, 5409, 5410, 5411, 5412, 5413, 5414, 5415, 5416, 5417, 5418, 5419, 5420, 5460, 5489, 5490, 5491, 5492, 5493, 5494, 5495, 5496, 5497, 5498, 5499, 5500, 5501, 5502, 5540, 5571, 5572, 5573, 5574, 5575, 5576, 5577, 5578, 5579, 5580, 5581, 5582, 5583, 5584, 5620, 5653, 5654, 5655, 5656, 5657, 5658, 5659, 5660, 5661, 5662, 5663, 5664, 5665, 5666, 5667, 5700, 5734, 5735, 5736, 5737, 5738, 5739, 5740, 5741, 5742, 5743, 5744, 5745, 5746, 5747, 5748, 5749, 5780, 5816, 5817, 5818, 5819, 5820, 5821, 5822, 5823, 5824, 5825, 5826, 5827, 5828, 5829, 5830, 5831, 5860, 5898, 5899, 5900, 5901, 5902, 5903, 5904, 5905, 5906, 5907, 5908, 5909, 5910, 5911, 5912, 5940, 5979, 5980, 5981, 5982, 5983, 5984, 5985, 5986, 5987, 5988, 5989, 5990, 5991, 5992, 5993, 6020, 6061, 6062, 6063, 6064, 6065, 6066, 6067, 6068, 6069, 6070, 6071, 6072, 6073, 6074, 6100, 6143, 6144, 6145, 6146, 6147, 6148, 6149, 6150, 6151, 6152, 6153, 6154, 6155, 6180, 6225, 6226, 6227, 6228, 6229, 6230, 6231, 6232, 6233, 6234, 6235, 6236, 6260, 6306, 6307, 6308, 6309, 6310, 6311, 6312, 6313, 6314, 6315, 6316, 6317, 6340, 6388, 6389, 6390, 6391, 6392, 6393, 6394, 6395, 6396, 6397, 6398, 6420, 6470, 6471, 6472, 6473, 6474, 6475, 6476, 6477, 6478, 6479, 6500, 6552, 6553, 6554, 6555, 6556, 6557, 6558, 6559, 6560]\n",
      "CPU times: user 156 ms, sys: 16 ms, total: 172 ms\n",
      "Wall time: 172 ms\n"
     ]
    }
   ],
   "source": [
    "%%time\n",
    "n_total = len(simulation.dataframe)\n",
    "n_train = len(simulation.dataframe[simulation.dataframe.type_of == \"train\"])\n",
    "n_val = len(simulation.dataframe[simulation.dataframe.type_of == \"val\"])\n",
    "n_test = len(simulation.dataframe[simulation.dataframe.type_of == \"test\"])\n",
    "n_train_hamiltonians = len(simulation.train_ids)\n",
    "n_val_hamiltonians = len(simulation.val_ids)\n",
    "n_test_hamiltonians = len(simulation.test_ids)\n",
    "n_total_hamiltonians = n_train_hamiltonians + n_val_hamiltonians + n_test_hamiltonians\n",
    "\n",
    "print(\"% train: \", n_train/n_total)\n",
    "print(\"% val: \",  n_val/n_total)\n",
    "print(\"% test: \", n_test/n_total)\n",
    "print(\"% train + val + test: \", (n_train+n_val+n_test)/n_total)\n",
    "print(\"\\n\")\n",
    "print(\"number of train hamiltonians: \", n_train_hamiltonians)\n",
    "print(\"number of val hamiltonians: \", n_val_hamiltonians)\n",
    "print(\"number of test hamiltonians: \", n_test_hamiltonians)\n",
    "print(\"total number of hamiltonians: \", n_total_hamiltonians)\n",
    "print(\"\\n\")\n",
    "print(\"train ids: \", simulation.train_ids)\n",
    "print(\"val ids: \", simulation.val_ids)\n",
    "print(\"test ids: \", simulation.test_ids)"
   ]
  },
  {
   "cell_type": "markdown",
   "metadata": {
    "papermill": {
     "duration": 0.018359,
     "end_time": "2020-07-18T07:35:33.579674",
     "exception": false,
     "start_time": "2020-07-18T07:35:33.561315",
     "status": "completed"
    },
    "tags": []
   },
   "source": [
    "## Running a simulation"
   ]
  },
  {
   "cell_type": "code",
   "execution_count": 27,
   "metadata": {
    "execution": {
     "iopub.execute_input": "2020-07-18T07:35:33.621806Z",
     "iopub.status.busy": "2020-07-18T07:35:33.621495Z",
     "iopub.status.idle": "2020-07-18T08:38:40.680987Z",
     "shell.execute_reply": "2020-07-18T08:38:40.681294Z"
    },
    "papermill": {
     "duration": 3787.082198,
     "end_time": "2020-07-18T08:38:40.681357",
     "exception": false,
     "start_time": "2020-07-18T07:35:33.599159",
     "status": "completed"
    },
    "tags": []
   },
   "outputs": [
    {
     "name": "stderr",
     "output_type": "stream",
     "text": [
      "\r",
      "running experiments:   0%|          | 0/100 [00:00<?, ?it/s]"
     ]
    },
    {
     "name": "stdout",
     "output_type": "stream",
     "text": [
      "Simulation mode:  dct\n"
     ]
    },
    {
     "name": "stderr",
     "output_type": "stream",
     "text": [
      "\r",
      "running experiments:   1%|          | 1/100 [00:39<1:04:45, 39.24s/it]"
     ]
    },
    {
     "name": "stderr",
     "output_type": "stream",
     "text": [
      "\r",
      "running experiments:   2%|▏         | 2/100 [01:16<1:03:18, 38.76s/it]"
     ]
    },
    {
     "name": "stderr",
     "output_type": "stream",
     "text": [
      "\r",
      "running experiments:   3%|▎         | 3/100 [01:55<1:02:38, 38.74s/it]"
     ]
    },
    {
     "name": "stderr",
     "output_type": "stream",
     "text": [
      "\r",
      "running experiments:   4%|▍         | 4/100 [02:33<1:01:32, 38.47s/it]"
     ]
    },
    {
     "name": "stderr",
     "output_type": "stream",
     "text": [
      "\r",
      "running experiments:   5%|▌         | 5/100 [03:11<1:00:33, 38.25s/it]"
     ]
    },
    {
     "name": "stderr",
     "output_type": "stream",
     "text": [
      "\r",
      "running experiments:   6%|▌         | 6/100 [03:50<1:00:20, 38.51s/it]"
     ]
    },
    {
     "name": "stderr",
     "output_type": "stream",
     "text": [
      "\r",
      "running experiments:   7%|▋         | 7/100 [04:28<59:26, 38.35s/it]  "
     ]
    },
    {
     "name": "stderr",
     "output_type": "stream",
     "text": [
      "\r",
      "running experiments:   8%|▊         | 8/100 [05:06<58:52, 38.40s/it]"
     ]
    },
    {
     "name": "stderr",
     "output_type": "stream",
     "text": [
      "\r",
      "running experiments:   9%|▉         | 9/100 [05:45<58:26, 38.53s/it]"
     ]
    },
    {
     "name": "stderr",
     "output_type": "stream",
     "text": [
      "\r",
      "running experiments:  10%|█         | 10/100 [06:24<57:58, 38.65s/it]"
     ]
    },
    {
     "name": "stderr",
     "output_type": "stream",
     "text": [
      "\r",
      "running experiments:  11%|█         | 11/100 [07:02<57:07, 38.52s/it]"
     ]
    },
    {
     "name": "stderr",
     "output_type": "stream",
     "text": [
      "\r",
      "running experiments:  12%|█▏        | 12/100 [07:41<56:42, 38.67s/it]"
     ]
    },
    {
     "name": "stderr",
     "output_type": "stream",
     "text": [
      "\r",
      "running experiments:  13%|█▎        | 13/100 [08:20<56:06, 38.70s/it]"
     ]
    },
    {
     "name": "stderr",
     "output_type": "stream",
     "text": [
      "\r",
      "running experiments:  14%|█▍        | 14/100 [09:00<55:48, 38.93s/it]"
     ]
    },
    {
     "name": "stderr",
     "output_type": "stream",
     "text": [
      "\r",
      "running experiments:  15%|█▌        | 15/100 [09:38<55:00, 38.83s/it]"
     ]
    },
    {
     "name": "stderr",
     "output_type": "stream",
     "text": [
      "\r",
      "running experiments:  16%|█▌        | 16/100 [10:15<53:29, 38.21s/it]"
     ]
    },
    {
     "name": "stderr",
     "output_type": "stream",
     "text": [
      "\r",
      "running experiments:  17%|█▋        | 17/100 [10:53<52:58, 38.30s/it]"
     ]
    },
    {
     "name": "stderr",
     "output_type": "stream",
     "text": [
      "\r",
      "running experiments:  18%|█▊        | 18/100 [11:34<53:14, 38.96s/it]"
     ]
    },
    {
     "name": "stderr",
     "output_type": "stream",
     "text": [
      "\r",
      "running experiments:  19%|█▉        | 19/100 [12:10<51:23, 38.07s/it]"
     ]
    },
    {
     "name": "stderr",
     "output_type": "stream",
     "text": [
      "\r",
      "running experiments:  20%|██        | 20/100 [12:49<51:01, 38.27s/it]"
     ]
    },
    {
     "name": "stderr",
     "output_type": "stream",
     "text": [
      "\r",
      "running experiments:  21%|██        | 21/100 [13:25<49:45, 37.79s/it]"
     ]
    },
    {
     "name": "stderr",
     "output_type": "stream",
     "text": [
      "\r",
      "running experiments:  22%|██▏       | 22/100 [14:04<49:34, 38.14s/it]"
     ]
    },
    {
     "name": "stderr",
     "output_type": "stream",
     "text": [
      "\r",
      "running experiments:  23%|██▎       | 23/100 [14:43<49:08, 38.29s/it]"
     ]
    },
    {
     "name": "stderr",
     "output_type": "stream",
     "text": [
      "\r",
      "running experiments:  24%|██▍       | 24/100 [15:21<48:27, 38.26s/it]"
     ]
    },
    {
     "name": "stderr",
     "output_type": "stream",
     "text": [
      "\r",
      "running experiments:  25%|██▌       | 25/100 [15:59<47:48, 38.25s/it]"
     ]
    },
    {
     "name": "stderr",
     "output_type": "stream",
     "text": [
      "\r",
      "running experiments:  26%|██▌       | 26/100 [16:38<47:15, 38.31s/it]"
     ]
    },
    {
     "name": "stderr",
     "output_type": "stream",
     "text": [
      "\r",
      "running experiments:  27%|██▋       | 27/100 [17:15<46:14, 38.00s/it]"
     ]
    },
    {
     "name": "stderr",
     "output_type": "stream",
     "text": [
      "\r",
      "running experiments:  28%|██▊       | 28/100 [17:52<45:19, 37.77s/it]"
     ]
    },
    {
     "name": "stderr",
     "output_type": "stream",
     "text": [
      "\r",
      "running experiments:  29%|██▉       | 29/100 [18:30<44:46, 37.84s/it]"
     ]
    },
    {
     "name": "stderr",
     "output_type": "stream",
     "text": [
      "\r",
      "running experiments:  30%|███       | 30/100 [19:08<44:16, 37.95s/it]"
     ]
    },
    {
     "name": "stderr",
     "output_type": "stream",
     "text": [
      "\r",
      "running experiments:  31%|███       | 31/100 [19:47<43:57, 38.22s/it]"
     ]
    },
    {
     "name": "stderr",
     "output_type": "stream",
     "text": [
      "\r",
      "running experiments:  32%|███▏      | 32/100 [20:24<42:45, 37.72s/it]"
     ]
    },
    {
     "name": "stderr",
     "output_type": "stream",
     "text": [
      "\r",
      "running experiments:  33%|███▎      | 33/100 [21:02<42:06, 37.71s/it]"
     ]
    },
    {
     "name": "stderr",
     "output_type": "stream",
     "text": [
      "\r",
      "running experiments:  34%|███▍      | 34/100 [21:40<41:46, 37.97s/it]"
     ]
    },
    {
     "name": "stderr",
     "output_type": "stream",
     "text": [
      "\r",
      "running experiments:  35%|███▌      | 35/100 [22:18<41:02, 37.89s/it]"
     ]
    },
    {
     "name": "stderr",
     "output_type": "stream",
     "text": [
      "\r",
      "running experiments:  36%|███▌      | 36/100 [22:56<40:35, 38.06s/it]"
     ]
    },
    {
     "name": "stderr",
     "output_type": "stream",
     "text": [
      "\r",
      "running experiments:  37%|███▋      | 37/100 [23:35<40:05, 38.19s/it]"
     ]
    },
    {
     "name": "stderr",
     "output_type": "stream",
     "text": [
      "\r",
      "running experiments:  38%|███▊      | 38/100 [24:12<39:03, 37.79s/it]"
     ]
    },
    {
     "name": "stderr",
     "output_type": "stream",
     "text": [
      "\r",
      "running experiments:  39%|███▉      | 39/100 [24:50<38:33, 37.92s/it]"
     ]
    },
    {
     "name": "stderr",
     "output_type": "stream",
     "text": [
      "\r",
      "running experiments:  40%|████      | 40/100 [25:27<37:48, 37.82s/it]"
     ]
    },
    {
     "name": "stderr",
     "output_type": "stream",
     "text": [
      "\r",
      "running experiments:  41%|████      | 41/100 [26:04<36:50, 37.47s/it]"
     ]
    },
    {
     "name": "stderr",
     "output_type": "stream",
     "text": [
      "\r",
      "running experiments:  42%|████▏     | 42/100 [26:42<36:22, 37.63s/it]"
     ]
    },
    {
     "name": "stderr",
     "output_type": "stream",
     "text": [
      "\r",
      "running experiments:  43%|████▎     | 43/100 [27:20<35:48, 37.70s/it]"
     ]
    },
    {
     "name": "stderr",
     "output_type": "stream",
     "text": [
      "\r",
      "running experiments:  44%|████▍     | 44/100 [27:59<35:26, 37.98s/it]"
     ]
    },
    {
     "name": "stderr",
     "output_type": "stream",
     "text": [
      "\r",
      "running experiments:  45%|████▌     | 45/100 [28:36<34:35, 37.73s/it]"
     ]
    },
    {
     "name": "stderr",
     "output_type": "stream",
     "text": [
      "\r",
      "running experiments:  46%|████▌     | 46/100 [29:13<33:55, 37.69s/it]"
     ]
    },
    {
     "name": "stderr",
     "output_type": "stream",
     "text": [
      "\r",
      "running experiments:  47%|████▋     | 47/100 [29:51<33:23, 37.81s/it]"
     ]
    },
    {
     "name": "stderr",
     "output_type": "stream",
     "text": [
      "\r",
      "running experiments:  48%|████▊     | 48/100 [30:30<32:53, 37.95s/it]"
     ]
    },
    {
     "name": "stderr",
     "output_type": "stream",
     "text": [
      "\r",
      "running experiments:  49%|████▉     | 49/100 [31:07<32:04, 37.74s/it]"
     ]
    },
    {
     "name": "stderr",
     "output_type": "stream",
     "text": [
      "\r",
      "running experiments:  50%|█████     | 50/100 [31:44<31:21, 37.63s/it]"
     ]
    },
    {
     "name": "stderr",
     "output_type": "stream",
     "text": [
      "\r",
      "running experiments:  51%|█████     | 51/100 [32:20<30:18, 37.12s/it]"
     ]
    },
    {
     "name": "stderr",
     "output_type": "stream",
     "text": [
      "\r",
      "running experiments:  52%|█████▏    | 52/100 [32:59<30:07, 37.65s/it]"
     ]
    },
    {
     "name": "stderr",
     "output_type": "stream",
     "text": [
      "\r",
      "running experiments:  53%|█████▎    | 53/100 [33:37<29:27, 37.61s/it]"
     ]
    },
    {
     "name": "stderr",
     "output_type": "stream",
     "text": [
      "\r",
      "running experiments:  54%|█████▍    | 54/100 [34:15<28:57, 37.78s/it]"
     ]
    },
    {
     "name": "stderr",
     "output_type": "stream",
     "text": [
      "\r",
      "running experiments:  55%|█████▌    | 55/100 [34:51<28:03, 37.42s/it]"
     ]
    },
    {
     "name": "stderr",
     "output_type": "stream",
     "text": [
      "\r",
      "running experiments:  56%|█████▌    | 56/100 [35:30<27:36, 37.64s/it]"
     ]
    },
    {
     "name": "stderr",
     "output_type": "stream",
     "text": [
      "\r",
      "running experiments:  57%|█████▋    | 57/100 [36:07<26:54, 37.55s/it]"
     ]
    },
    {
     "name": "stderr",
     "output_type": "stream",
     "text": [
      "\r",
      "running experiments:  58%|█████▊    | 58/100 [36:45<26:27, 37.81s/it]"
     ]
    },
    {
     "name": "stderr",
     "output_type": "stream",
     "text": [
      "\r",
      "running experiments:  59%|█████▉    | 59/100 [37:25<26:07, 38.22s/it]"
     ]
    },
    {
     "name": "stderr",
     "output_type": "stream",
     "text": [
      "\r",
      "running experiments:  60%|██████    | 60/100 [38:03<25:35, 38.39s/it]"
     ]
    },
    {
     "name": "stderr",
     "output_type": "stream",
     "text": [
      "\r",
      "running experiments:  61%|██████    | 61/100 [38:40<24:33, 37.79s/it]"
     ]
    },
    {
     "name": "stderr",
     "output_type": "stream",
     "text": [
      "\r",
      "running experiments:  62%|██████▏   | 62/100 [39:18<24:00, 37.90s/it]"
     ]
    },
    {
     "name": "stderr",
     "output_type": "stream",
     "text": [
      "\r",
      "running experiments:  63%|██████▎   | 63/100 [39:54<23:08, 37.52s/it]"
     ]
    },
    {
     "name": "stderr",
     "output_type": "stream",
     "text": [
      "\r",
      "running experiments:  64%|██████▍   | 64/100 [40:30<22:11, 36.97s/it]"
     ]
    },
    {
     "name": "stderr",
     "output_type": "stream",
     "text": [
      "\r",
      "running experiments:  65%|██████▌   | 65/100 [41:08<21:47, 37.35s/it]"
     ]
    },
    {
     "name": "stderr",
     "output_type": "stream",
     "text": [
      "\r",
      "running experiments:  66%|██████▌   | 66/100 [41:45<21:05, 37.21s/it]"
     ]
    },
    {
     "name": "stderr",
     "output_type": "stream",
     "text": [
      "\r",
      "running experiments:  67%|██████▋   | 67/100 [42:23<20:29, 37.26s/it]"
     ]
    },
    {
     "name": "stderr",
     "output_type": "stream",
     "text": [
      "\r",
      "running experiments:  68%|██████▊   | 68/100 [43:00<19:53, 37.30s/it]"
     ]
    },
    {
     "name": "stderr",
     "output_type": "stream",
     "text": [
      "\r",
      "running experiments:  69%|██████▉   | 69/100 [43:37<19:08, 37.05s/it]"
     ]
    },
    {
     "name": "stderr",
     "output_type": "stream",
     "text": [
      "\r",
      "running experiments:  70%|███████   | 70/100 [44:15<18:43, 37.45s/it]"
     ]
    },
    {
     "name": "stderr",
     "output_type": "stream",
     "text": [
      "\r",
      "running experiments:  71%|███████   | 71/100 [44:53<18:09, 37.56s/it]"
     ]
    },
    {
     "name": "stderr",
     "output_type": "stream",
     "text": [
      "\r",
      "running experiments:  72%|███████▏  | 72/100 [45:29<17:21, 37.21s/it]"
     ]
    },
    {
     "name": "stderr",
     "output_type": "stream",
     "text": [
      "\r",
      "running experiments:  73%|███████▎  | 73/100 [46:09<17:04, 37.93s/it]"
     ]
    },
    {
     "name": "stderr",
     "output_type": "stream",
     "text": [
      "\r",
      "running experiments:  74%|███████▍  | 74/100 [46:47<16:27, 37.99s/it]"
     ]
    },
    {
     "name": "stderr",
     "output_type": "stream",
     "text": [
      "\r",
      "running experiments:  75%|███████▌  | 75/100 [47:27<16:02, 38.50s/it]"
     ]
    },
    {
     "name": "stderr",
     "output_type": "stream",
     "text": [
      "\r",
      "running experiments:  76%|███████▌  | 76/100 [48:04<15:16, 38.18s/it]"
     ]
    },
    {
     "name": "stderr",
     "output_type": "stream",
     "text": [
      "\r",
      "running experiments:  77%|███████▋  | 77/100 [48:40<14:26, 37.68s/it]"
     ]
    },
    {
     "name": "stderr",
     "output_type": "stream",
     "text": [
      "\r",
      "running experiments:  78%|███████▊  | 78/100 [49:18<13:49, 37.71s/it]"
     ]
    },
    {
     "name": "stderr",
     "output_type": "stream",
     "text": [
      "\r",
      "running experiments:  79%|███████▉  | 79/100 [49:55<13:03, 37.30s/it]"
     ]
    },
    {
     "name": "stderr",
     "output_type": "stream",
     "text": [
      "\r",
      "running experiments:  80%|████████  | 80/100 [50:33<12:31, 37.59s/it]"
     ]
    },
    {
     "name": "stderr",
     "output_type": "stream",
     "text": [
      "\r",
      "running experiments:  81%|████████  | 81/100 [51:11<11:59, 37.88s/it]"
     ]
    },
    {
     "name": "stderr",
     "output_type": "stream",
     "text": [
      "\r",
      "running experiments:  82%|████████▏ | 82/100 [51:50<11:23, 37.95s/it]"
     ]
    },
    {
     "name": "stderr",
     "output_type": "stream",
     "text": [
      "\r",
      "running experiments:  83%|████████▎ | 83/100 [52:26<10:35, 37.41s/it]"
     ]
    },
    {
     "name": "stderr",
     "output_type": "stream",
     "text": [
      "\r",
      "running experiments:  84%|████████▍ | 84/100 [53:01<09:49, 36.86s/it]"
     ]
    },
    {
     "name": "stderr",
     "output_type": "stream",
     "text": [
      "\r",
      "running experiments:  85%|████████▌ | 85/100 [53:38<09:11, 36.79s/it]"
     ]
    },
    {
     "name": "stderr",
     "output_type": "stream",
     "text": [
      "\r",
      "running experiments:  86%|████████▌ | 86/100 [54:15<08:36, 36.93s/it]"
     ]
    },
    {
     "name": "stderr",
     "output_type": "stream",
     "text": [
      "\r",
      "running experiments:  87%|████████▋ | 87/100 [54:53<08:02, 37.12s/it]"
     ]
    },
    {
     "name": "stderr",
     "output_type": "stream",
     "text": [
      "\r",
      "running experiments:  88%|████████▊ | 88/100 [55:31<07:29, 37.49s/it]"
     ]
    },
    {
     "name": "stderr",
     "output_type": "stream",
     "text": [
      "\r",
      "running experiments:  89%|████████▉ | 89/100 [56:09<06:54, 37.70s/it]"
     ]
    },
    {
     "name": "stderr",
     "output_type": "stream",
     "text": [
      "\r",
      "running experiments:  90%|█████████ | 90/100 [56:48<06:20, 38.04s/it]"
     ]
    },
    {
     "name": "stderr",
     "output_type": "stream",
     "text": [
      "\r",
      "running experiments:  91%|█████████ | 91/100 [57:26<05:41, 37.95s/it]"
     ]
    },
    {
     "name": "stderr",
     "output_type": "stream",
     "text": [
      "\r",
      "running experiments:  92%|█████████▏| 92/100 [58:04<05:03, 37.93s/it]"
     ]
    },
    {
     "name": "stderr",
     "output_type": "stream",
     "text": [
      "\r",
      "running experiments:  93%|█████████▎| 93/100 [58:42<04:26, 38.03s/it]"
     ]
    },
    {
     "name": "stderr",
     "output_type": "stream",
     "text": [
      "\r",
      "running experiments:  94%|█████████▍| 94/100 [59:18<03:45, 37.56s/it]"
     ]
    },
    {
     "name": "stderr",
     "output_type": "stream",
     "text": [
      "\r",
      "running experiments:  95%|█████████▌| 95/100 [59:58<03:10, 38.03s/it]"
     ]
    },
    {
     "name": "stderr",
     "output_type": "stream",
     "text": [
      "\r",
      "running experiments:  96%|█████████▌| 96/100 [1:00:35<02:31, 37.98s/it]"
     ]
    },
    {
     "name": "stderr",
     "output_type": "stream",
     "text": [
      "\r",
      "running experiments:  97%|█████████▋| 97/100 [1:01:13<01:53, 37.73s/it]"
     ]
    },
    {
     "name": "stderr",
     "output_type": "stream",
     "text": [
      "\r",
      "running experiments:  98%|█████████▊| 98/100 [1:01:51<01:16, 38.08s/it]"
     ]
    },
    {
     "name": "stderr",
     "output_type": "stream",
     "text": [
      "\r",
      "running experiments:  99%|█████████▉| 99/100 [1:02:28<00:37, 37.66s/it]"
     ]
    },
    {
     "name": "stderr",
     "output_type": "stream",
     "text": [
      "\r",
      "running experiments: 100%|██████████| 100/100 [1:03:07<00:00, 37.87s/it]"
     ]
    },
    {
     "name": "stderr",
     "output_type": "stream",
     "text": [
      "\r",
      "running experiments: 100%|██████████| 100/100 [1:03:07<00:00, 37.87s/it]"
     ]
    },
    {
     "name": "stdout",
     "output_type": "stream",
     "text": [
      "CPU times: user 7h 9min, sys: 9.2 s, total: 7h 9min 9s\n",
      "Wall time: 1h 3min 7s\n"
     ]
    },
    {
     "name": "stderr",
     "output_type": "stream",
     "text": [
      "\n"
     ]
    }
   ],
   "source": [
    "\n",
    "%%time\n",
    "simulation.run_simulation(n_experiments, start_n, fit_params,shuffle_rows, pred_params, random_features, \\\n",
    "                          store_in_lists, save_eigenvector, save_hamiltonian, save_accuracy,\\\n",
    "                          save_models)\n",
    "if simulation.fourier_mode is not None:\n",
    "    simulation.fourier_dataframe.head(10)"
   ]
  },
  {
   "cell_type": "code",
   "execution_count": 28,
   "metadata": {
    "execution": {
     "iopub.execute_input": "2020-07-18T08:38:40.756566Z",
     "iopub.status.busy": "2020-07-18T08:38:40.756247Z",
     "iopub.status.idle": "2020-07-18T08:38:40.781435Z",
     "shell.execute_reply": "2020-07-18T08:38:40.781048Z"
    },
    "papermill": {
     "duration": 0.064209,
     "end_time": "2020-07-18T08:38:40.781514",
     "exception": false,
     "start_time": "2020-07-18T08:38:40.717305",
     "status": "completed"
    },
    "tags": []
   },
   "outputs": [
    {
     "data": {
      "text/html": [
       "<div>\n",
       "<style scoped>\n",
       "    .dataframe tbody tr th:only-of-type {\n",
       "        vertical-align: middle;\n",
       "    }\n",
       "\n",
       "    .dataframe tbody tr th {\n",
       "        vertical-align: top;\n",
       "    }\n",
       "\n",
       "    .dataframe thead th {\n",
       "        text-align: right;\n",
       "    }\n",
       "</style>\n",
       "<table border=\"1\" class=\"dataframe\">\n",
       "  <thead>\n",
       "    <tr style=\"text-align: right;\">\n",
       "      <th></th>\n",
       "      <th>id</th>\n",
       "      <th>path</th>\n",
       "      <th>t1</th>\n",
       "      <th>t2</th>\n",
       "      <th>winding</th>\n",
       "      <th>phase</th>\n",
       "      <th>pred_phase</th>\n",
       "      <th>type_of</th>\n",
       "      <th>feat0</th>\n",
       "      <th>feat1</th>\n",
       "      <th>...</th>\n",
       "      <th>feat90</th>\n",
       "      <th>feat91</th>\n",
       "      <th>feat92</th>\n",
       "      <th>feat93</th>\n",
       "      <th>feat94</th>\n",
       "      <th>feat95</th>\n",
       "      <th>feat96</th>\n",
       "      <th>feat97</th>\n",
       "      <th>feat98</th>\n",
       "      <th>feat99</th>\n",
       "    </tr>\n",
       "  </thead>\n",
       "  <tbody>\n",
       "    <tr>\n",
       "      <th>0</th>\n",
       "      <td>0</td>\n",
       "      <td>H_-2_-2_0.501338.dat</td>\n",
       "      <td>-2.0</td>\n",
       "      <td>-2.0</td>\n",
       "      <td>0.501338</td>\n",
       "      <td>999</td>\n",
       "      <td>666</td>\n",
       "      <td>test</td>\n",
       "      <td>-0.130965</td>\n",
       "      <td>0.301130</td>\n",
       "      <td>...</td>\n",
       "      <td>-0.080279</td>\n",
       "      <td>-0.115687</td>\n",
       "      <td>-0.174988</td>\n",
       "      <td>0.245064</td>\n",
       "      <td>0.319763</td>\n",
       "      <td>-0.059082</td>\n",
       "      <td>-0.000556</td>\n",
       "      <td>-0.245133</td>\n",
       "      <td>-0.301130</td>\n",
       "      <td>0.130965</td>\n",
       "    </tr>\n",
       "    <tr>\n",
       "      <th>1</th>\n",
       "      <td>0</td>\n",
       "      <td>H_-2_-2_0.501338.dat</td>\n",
       "      <td>-2.0</td>\n",
       "      <td>-2.0</td>\n",
       "      <td>0.501338</td>\n",
       "      <td>999</td>\n",
       "      <td>666</td>\n",
       "      <td>test</td>\n",
       "      <td>-0.130965</td>\n",
       "      <td>-0.301130</td>\n",
       "      <td>...</td>\n",
       "      <td>-0.080279</td>\n",
       "      <td>0.115687</td>\n",
       "      <td>-0.174988</td>\n",
       "      <td>-0.245064</td>\n",
       "      <td>0.319763</td>\n",
       "      <td>0.059082</td>\n",
       "      <td>-0.000556</td>\n",
       "      <td>0.245133</td>\n",
       "      <td>-0.301130</td>\n",
       "      <td>-0.130965</td>\n",
       "    </tr>\n",
       "    <tr>\n",
       "      <th>2</th>\n",
       "      <td>0</td>\n",
       "      <td>H_-2_-2_0.501338.dat</td>\n",
       "      <td>-2.0</td>\n",
       "      <td>-2.0</td>\n",
       "      <td>0.501338</td>\n",
       "      <td>999</td>\n",
       "      <td>666</td>\n",
       "      <td>test</td>\n",
       "      <td>-0.148414</td>\n",
       "      <td>-0.042467</td>\n",
       "      <td>...</td>\n",
       "      <td>0.185442</td>\n",
       "      <td>-0.080620</td>\n",
       "      <td>-0.066211</td>\n",
       "      <td>-0.121339</td>\n",
       "      <td>-0.151700</td>\n",
       "      <td>0.192513</td>\n",
       "      <td>0.191642</td>\n",
       "      <td>-0.050956</td>\n",
       "      <td>-0.042467</td>\n",
       "      <td>-0.148414</td>\n",
       "    </tr>\n",
       "    <tr>\n",
       "      <th>3</th>\n",
       "      <td>0</td>\n",
       "      <td>H_-2_-2_0.501338.dat</td>\n",
       "      <td>-2.0</td>\n",
       "      <td>-2.0</td>\n",
       "      <td>0.501338</td>\n",
       "      <td>999</td>\n",
       "      <td>666</td>\n",
       "      <td>test</td>\n",
       "      <td>-0.069630</td>\n",
       "      <td>-0.026147</td>\n",
       "      <td>...</td>\n",
       "      <td>0.102009</td>\n",
       "      <td>-0.100671</td>\n",
       "      <td>-0.081002</td>\n",
       "      <td>-0.020715</td>\n",
       "      <td>-0.058717</td>\n",
       "      <td>0.115834</td>\n",
       "      <td>0.118274</td>\n",
       "      <td>-0.054666</td>\n",
       "      <td>-0.026147</td>\n",
       "      <td>-0.069630</td>\n",
       "    </tr>\n",
       "    <tr>\n",
       "      <th>4</th>\n",
       "      <td>0</td>\n",
       "      <td>H_-2_-2_0.501338.dat</td>\n",
       "      <td>-2.0</td>\n",
       "      <td>-2.0</td>\n",
       "      <td>0.501338</td>\n",
       "      <td>999</td>\n",
       "      <td>666</td>\n",
       "      <td>test</td>\n",
       "      <td>0.010206</td>\n",
       "      <td>-0.014625</td>\n",
       "      <td>...</td>\n",
       "      <td>0.047555</td>\n",
       "      <td>-0.041368</td>\n",
       "      <td>-0.018852</td>\n",
       "      <td>-0.017673</td>\n",
       "      <td>-0.023377</td>\n",
       "      <td>0.031447</td>\n",
       "      <td>0.010280</td>\n",
       "      <td>0.000925</td>\n",
       "      <td>0.014625</td>\n",
       "      <td>-0.010206</td>\n",
       "    </tr>\n",
       "    <tr>\n",
       "      <th>5</th>\n",
       "      <td>0</td>\n",
       "      <td>H_-2_-2_0.501338.dat</td>\n",
       "      <td>-2.0</td>\n",
       "      <td>-2.0</td>\n",
       "      <td>0.501338</td>\n",
       "      <td>999</td>\n",
       "      <td>666</td>\n",
       "      <td>test</td>\n",
       "      <td>0.116962</td>\n",
       "      <td>0.021475</td>\n",
       "      <td>...</td>\n",
       "      <td>-0.086901</td>\n",
       "      <td>-0.045676</td>\n",
       "      <td>-0.028034</td>\n",
       "      <td>0.129266</td>\n",
       "      <td>0.130083</td>\n",
       "      <td>-0.098190</td>\n",
       "      <td>-0.104188</td>\n",
       "      <td>-0.007911</td>\n",
       "      <td>0.021475</td>\n",
       "      <td>0.116962</td>\n",
       "    </tr>\n",
       "    <tr>\n",
       "      <th>6</th>\n",
       "      <td>0</td>\n",
       "      <td>H_-2_-2_0.501338.dat</td>\n",
       "      <td>-2.0</td>\n",
       "      <td>-2.0</td>\n",
       "      <td>0.501338</td>\n",
       "      <td>999</td>\n",
       "      <td>666</td>\n",
       "      <td>test</td>\n",
       "      <td>0.037175</td>\n",
       "      <td>-0.095882</td>\n",
       "      <td>...</td>\n",
       "      <td>-0.027490</td>\n",
       "      <td>0.046168</td>\n",
       "      <td>0.063419</td>\n",
       "      <td>-0.041630</td>\n",
       "      <td>-0.085769</td>\n",
       "      <td>-0.010604</td>\n",
       "      <td>-0.009822</td>\n",
       "      <td>0.084024</td>\n",
       "      <td>0.095882</td>\n",
       "      <td>-0.037175</td>\n",
       "    </tr>\n",
       "    <tr>\n",
       "      <th>7</th>\n",
       "      <td>0</td>\n",
       "      <td>H_-2_-2_0.501338.dat</td>\n",
       "      <td>-2.0</td>\n",
       "      <td>-2.0</td>\n",
       "      <td>0.501338</td>\n",
       "      <td>999</td>\n",
       "      <td>666</td>\n",
       "      <td>test</td>\n",
       "      <td>0.027709</td>\n",
       "      <td>-0.038180</td>\n",
       "      <td>...</td>\n",
       "      <td>0.123344</td>\n",
       "      <td>-0.114320</td>\n",
       "      <td>-0.057118</td>\n",
       "      <td>-0.040291</td>\n",
       "      <td>-0.061263</td>\n",
       "      <td>0.087153</td>\n",
       "      <td>0.029599</td>\n",
       "      <td>-0.001276</td>\n",
       "      <td>0.038180</td>\n",
       "      <td>-0.027709</td>\n",
       "    </tr>\n",
       "    <tr>\n",
       "      <th>8</th>\n",
       "      <td>0</td>\n",
       "      <td>H_-2_-2_0.501338.dat</td>\n",
       "      <td>-2.0</td>\n",
       "      <td>-2.0</td>\n",
       "      <td>0.501338</td>\n",
       "      <td>999</td>\n",
       "      <td>666</td>\n",
       "      <td>test</td>\n",
       "      <td>0.059795</td>\n",
       "      <td>0.030272</td>\n",
       "      <td>...</td>\n",
       "      <td>-0.082347</td>\n",
       "      <td>0.140996</td>\n",
       "      <td>0.128386</td>\n",
       "      <td>-0.036608</td>\n",
       "      <td>0.029628</td>\n",
       "      <td>-0.124877</td>\n",
       "      <td>-0.140478</td>\n",
       "      <td>0.088573</td>\n",
       "      <td>0.030272</td>\n",
       "      <td>0.059795</td>\n",
       "    </tr>\n",
       "    <tr>\n",
       "      <th>9</th>\n",
       "      <td>0</td>\n",
       "      <td>H_-2_-2_0.501338.dat</td>\n",
       "      <td>-2.0</td>\n",
       "      <td>-2.0</td>\n",
       "      <td>0.501338</td>\n",
       "      <td>999</td>\n",
       "      <td>666</td>\n",
       "      <td>test</td>\n",
       "      <td>0.141605</td>\n",
       "      <td>0.013497</td>\n",
       "      <td>...</td>\n",
       "      <td>-0.035718</td>\n",
       "      <td>-0.110014</td>\n",
       "      <td>-0.082452</td>\n",
       "      <td>0.146084</td>\n",
       "      <td>0.152588</td>\n",
       "      <td>-0.067575</td>\n",
       "      <td>-0.087187</td>\n",
       "      <td>-0.043484</td>\n",
       "      <td>0.013497</td>\n",
       "      <td>0.141605</td>\n",
       "    </tr>\n",
       "  </tbody>\n",
       "</table>\n",
       "<p>10 rows × 108 columns</p>\n",
       "</div>"
      ],
      "text/plain": [
       "   id                  path   t1   t2   winding  phase  pred_phase type_of  \\\n",
       "0   0  H_-2_-2_0.501338.dat -2.0 -2.0  0.501338    999         666    test   \n",
       "1   0  H_-2_-2_0.501338.dat -2.0 -2.0  0.501338    999         666    test   \n",
       "2   0  H_-2_-2_0.501338.dat -2.0 -2.0  0.501338    999         666    test   \n",
       "3   0  H_-2_-2_0.501338.dat -2.0 -2.0  0.501338    999         666    test   \n",
       "4   0  H_-2_-2_0.501338.dat -2.0 -2.0  0.501338    999         666    test   \n",
       "5   0  H_-2_-2_0.501338.dat -2.0 -2.0  0.501338    999         666    test   \n",
       "6   0  H_-2_-2_0.501338.dat -2.0 -2.0  0.501338    999         666    test   \n",
       "7   0  H_-2_-2_0.501338.dat -2.0 -2.0  0.501338    999         666    test   \n",
       "8   0  H_-2_-2_0.501338.dat -2.0 -2.0  0.501338    999         666    test   \n",
       "9   0  H_-2_-2_0.501338.dat -2.0 -2.0  0.501338    999         666    test   \n",
       "\n",
       "      feat0     feat1  ...    feat90    feat91    feat92    feat93    feat94  \\\n",
       "0 -0.130965  0.301130  ... -0.080279 -0.115687 -0.174988  0.245064  0.319763   \n",
       "1 -0.130965 -0.301130  ... -0.080279  0.115687 -0.174988 -0.245064  0.319763   \n",
       "2 -0.148414 -0.042467  ...  0.185442 -0.080620 -0.066211 -0.121339 -0.151700   \n",
       "3 -0.069630 -0.026147  ...  0.102009 -0.100671 -0.081002 -0.020715 -0.058717   \n",
       "4  0.010206 -0.014625  ...  0.047555 -0.041368 -0.018852 -0.017673 -0.023377   \n",
       "5  0.116962  0.021475  ... -0.086901 -0.045676 -0.028034  0.129266  0.130083   \n",
       "6  0.037175 -0.095882  ... -0.027490  0.046168  0.063419 -0.041630 -0.085769   \n",
       "7  0.027709 -0.038180  ...  0.123344 -0.114320 -0.057118 -0.040291 -0.061263   \n",
       "8  0.059795  0.030272  ... -0.082347  0.140996  0.128386 -0.036608  0.029628   \n",
       "9  0.141605  0.013497  ... -0.035718 -0.110014 -0.082452  0.146084  0.152588   \n",
       "\n",
       "     feat95    feat96    feat97    feat98    feat99  \n",
       "0 -0.059082 -0.000556 -0.245133 -0.301130  0.130965  \n",
       "1  0.059082 -0.000556  0.245133 -0.301130 -0.130965  \n",
       "2  0.192513  0.191642 -0.050956 -0.042467 -0.148414  \n",
       "3  0.115834  0.118274 -0.054666 -0.026147 -0.069630  \n",
       "4  0.031447  0.010280  0.000925  0.014625 -0.010206  \n",
       "5 -0.098190 -0.104188 -0.007911  0.021475  0.116962  \n",
       "6 -0.010604 -0.009822  0.084024  0.095882 -0.037175  \n",
       "7  0.087153  0.029599 -0.001276  0.038180 -0.027709  \n",
       "8 -0.124877 -0.140478  0.088573  0.030272  0.059795  \n",
       "9 -0.067575 -0.087187 -0.043484  0.013497  0.141605  \n",
       "\n",
       "[10 rows x 108 columns]"
      ]
     },
     "execution_count": 28,
     "metadata": {},
     "output_type": "execute_result"
    }
   ],
   "source": [
    "simulation.dataframe.head(10)"
   ]
  },
  {
   "cell_type": "markdown",
   "metadata": {
    "papermill": {
     "duration": 0.038277,
     "end_time": "2020-07-18T08:38:40.856892",
     "exception": false,
     "start_time": "2020-07-18T08:38:40.818615",
     "status": "completed"
    },
    "tags": []
   },
   "source": [
    "#### Viewing a random sample"
   ]
  },
  {
   "cell_type": "code",
   "execution_count": 29,
   "metadata": {
    "execution": {
     "iopub.execute_input": "2020-07-18T08:38:40.929449Z",
     "iopub.status.busy": "2020-07-18T08:38:40.929134Z",
     "iopub.status.idle": "2020-07-18T08:38:40.974419Z",
     "shell.execute_reply": "2020-07-18T08:38:40.974101Z"
    },
    "papermill": {
     "duration": 0.082343,
     "end_time": "2020-07-18T08:38:40.974470",
     "exception": false,
     "start_time": "2020-07-18T08:38:40.892127",
     "status": "completed"
    },
    "tags": []
   },
   "outputs": [
    {
     "name": "stdout",
     "output_type": "stream",
     "text": [
      "CPU times: user 35.3 ms, sys: 1e+03 ns, total: 35.3 ms\n",
      "Wall time: 35 ms\n"
     ]
    }
   ],
   "source": [
    "%%time\n",
    "if simulation.fourier_mode is not None:\n",
    "    simulation.fourier_dataframe.sample(frac=0.1, replace=False)"
   ]
  },
  {
   "cell_type": "markdown",
   "metadata": {
    "papermill": {
     "duration": 0.037234,
     "end_time": "2020-07-18T08:38:41.048168",
     "exception": false,
     "start_time": "2020-07-18T08:38:41.010934",
     "status": "completed"
    },
    "tags": []
   },
   "source": [
    "#### Checking train/val/test splits again"
   ]
  },
  {
   "cell_type": "code",
   "execution_count": 30,
   "metadata": {
    "execution": {
     "iopub.execute_input": "2020-07-18T08:38:41.124116Z",
     "iopub.status.busy": "2020-07-18T08:38:41.123790Z",
     "iopub.status.idle": "2020-07-18T08:38:41.309285Z",
     "shell.execute_reply": "2020-07-18T08:38:41.309547Z"
    },
    "papermill": {
     "duration": 0.223483,
     "end_time": "2020-07-18T08:38:41.309613",
     "exception": false,
     "start_time": "2020-07-18T08:38:41.086130",
     "status": "completed"
    },
    "tags": []
   },
   "outputs": [
    {
     "name": "stdout",
     "output_type": "stream",
     "text": [
      "% train:  0.4208199969516842\n",
      "% val:  0.42066758116140834\n",
      "% test:  0.15851242188690748\n",
      "% train + val + test:  1.0\n",
      "\n",
      "\n",
      "number of train hamiltonians:  2761\n",
      "number of val hamiltonians:  2760\n",
      "number of test hamiltonians:  1040\n",
      "total number of hamiltonians:  6561\n",
      "\n",
      "\n",
      "train ids:  [4971, 1829, 2636, 5118, 3236, 1861, 1656, 2810, 1429, 1163, 3930, 2179, 5566, 5934, 3209, 4579, 3527, 6243, 964, 3267, 1679, 3345, 939, 5644, 4342, 5695, 3021, 6440, 78, 1698, 3504, 2364, 1290, 4742, 3394, 3447, 3137, 4870, 2397, 2345, 5106, 6026, 2690, 131, 4208, 3247, 193, 4823, 6019, 60, 2939, 2262, 2277, 5879, 622, 4060, 5526, 787, 5597, 2017, 4021, 2504, 625, 1404, 2471, 2961, 3810, 2550, 765, 602, 4117, 4001, 2252, 4568, 2591, 2968, 1984, 2114, 5714, 609, 4308, 1652, 5895, 640, 5913, 2152, 3476, 6549, 6443, 5315, 5217, 1975, 4989, 6276, 4323, 4126, 5945, 3715, 5998, 879, 3029, 3242, 4767, 3886, 2307, 345, 4185, 6437, 5704, 3107, 1448, 3870, 1677, 1536, 4589, 3706, 1299, 62, 373, 1249, 2880, 3500, 4118, 3893, 4567, 6267, 4656, 5629, 1927, 4669, 774, 5354, 3693, 1122, 3948, 924, 4361, 1901, 3537, 2823, 6273, 3491, 3087, 1324, 5569, 4766, 4687, 1295, 3677, 3681, 69, 564, 5793, 5559, 4534, 4186, 267, 3906, 1503, 2530, 5699, 4634, 3773, 2556, 6221, 833, 1655, 4328, 4014, 6265, 1017, 6493, 5797, 543, 3329, 5237, 1686, 6480, 3678, 4630, 3506, 4042, 5558, 5349, 2955, 5525, 3393, 3433, 5218, 136, 5473, 2419, 6450, 5673, 3112, 5030, 4034, 3605, 3639, 4283, 3978, 1424, 1747, 4806, 595, 216, 6341, 1423, 304, 2770, 4288, 5025, 2466, 3051, 2856, 5585, 1036, 4417, 1028, 2846, 3565, 3020, 3257, 6525, 5769, 6348, 558, 6172, 2245, 184, 1173, 3902, 5715, 3156, 3129, 3606, 3597, 702, 1282, 4640, 2570, 1917, 5132, 3631, 4914, 3998, 1823, 4454, 4259, 5438, 376, 2348, 2273, 3648, 4035, 1030, 4455, 4268, 5191, 6510, 3804, 5951, 6024, 3661, 1009, 3619, 3601, 1845, 858, 2199, 3452, 4437, 289, 1820, 2285, 2881, 4859, 5232, 3971, 604, 3521, 2710, 2828, 4371, 1005, 5157, 554, 3364, 3644, 2000, 5281, 4098, 5842, 1128, 4986, 309, 1363, 6047, 5391, 3750, 2312, 1833, 1081, 1660, 6059, 2841, 544, 2261, 2425, 955, 4278, 3858, 2771, 2357, 5625, 3898, 670, 6087, 142, 2383, 3667, 5786, 5376, 3055, 464, 6438, 6083, 6350, 4722, 3392, 5858, 4083, 4271, 389, 3458, 2083, 2526, 6242, 1685, 1684, 4394, 882, 6445, 188, 6058, 3730, 2849, 2973, 4057, 6241, 5307, 1488, 1530, 2631, 6489, 6000, 1577, 5728, 1006, 5511, 3731, 2718, 5181, 59, 2930, 3214, 1942, 2103, 6336, 6434, 4471, 5427, 3007, 837, 1893, 4303, 382, 4450, 5280, 3180, 5201, 4470, 6278, 1836, 6126, 2351, 1041, 1294, 5174, 4145, 5690, 957, 1454, 4220, 217, 270, 2839, 3334, 1776, 372, 3320, 1579, 995, 3968, 2243, 4937, 4743, 2141, 3299, 20, 2450, 512, 5032, 2918, 5527, 3352, 4480, 1020, 6086, 4375, 438, 5779, 5931, 6079, 5314, 940, 258, 5956, 5796, 1995, 862, 5029, 727, 1760, 2524, 5402, 3243, 3465, 2094, 5043, 3987, 1524, 1459, 1581, 5395, 1498, 4798, 4703, 643, 119, 4888, 5143, 5465, 3516, 6491, 3063, 2108, 3219, 2116, 5639, 1510, 236, 1362, 4071, 6347, 3138, 4856, 133, 1781, 1869, 970, 226, 6003, 4869, 2502, 1241, 3675, 1381, 1872, 1261, 1982, 6104, 713, 1270, 6006, 1617, 1457, 5078, 5158, 5549, 6121, 1931, 6088, 1251, 3741, 6286, 4338, 2825, 6268, 3105, 317, 551, 2320, 101, 5766, 2403, 3744, 5971, 433, 1731, 362, 673, 832, 1105, 4817, 5342, 5093, 4927, 2421, 4628, 3983, 1674, 3747, 4280, 6343, 563, 4256, 1754, 779, 2725, 3756, 2984, 463, 4683, 6219, 3534, 2513, 4478, 5216, 6089, 4976, 77, 274, 4213, 1259, 522, 2202, 2178, 5400, 3839, 1413, 6349, 1428, 534, 3010, 2747, 2897, 5091, 5930, 3085, 478, 2493, 4613, 1376, 4438, 562, 6274, 4077, 2923, 4304, 3688, 3402, 6262, 4486, 2843, 4404, 4626, 6346, 3074, 3916, 4124, 4969, 4356, 5888, 3953, 2123, 4013, 3126, 959, 4812, 4762, 1161, 6198, 103, 5515, 965, 5385, 1090, 4681, 3139, 565, 3061, 2346, 4531, 1134, 3473, 1004, 2589, 3258, 6099, 3168, 1894, 4049, 763, 1759, 3164, 5048, 3398, 1918, 2607, 1193, 1407, 5178, 6331, 6381, 3793, 2645, 4413, 4165, 5706, 5274, 3514, 4380, 3226, 6193, 1267, 1838, 690, 4583, 847, 875, 2564, 856, 6321, 6120, 3422, 1211, 3120, 2483, 3707, 3888, 2720, 3624, 1949, 3815, 3121, 4803, 2099, 853, 631, 5753, 2422, 359, 3918, 2195, 1258, 1093, 1997, 3617, 692, 3488, 5760, 6342, 5073, 4228, 6239, 6112, 4764, 4044, 4833, 1077, 2146, 2964, 4784, 4274, 79, 1126, 6082, 2228, 4153, 2193, 2286, 2435, 4794, 1425, 3958, 5095, 1529, 3347, 3969, 2268, 3934, 4305, 1773, 3904, 2266, 3262, 1793, 1751, 3768, 150, 5422, 2994, 2272, 5475, 2815, 786, 5362, 2451, 1521, 2491, 319, 1874, 3382, 3717, 4179, 6053, 1246, 2574, 1534, 4008, 1248, 4483, 5405, 4735, 2522, 5151, 2102, 1859, 4103, 2032, 5950, 3108, 5304, 6519, 4289, 3510, 5444, 3218, 3231, 5101, 3702, 4714, 4600, 2850, 6045, 4886, 4657, 2074, 4905, 1519, 2812, 1707, 6078, 3475, 1787, 4560, 1758, 5372, 4507, 2321, 6138, 3390, 3224, 681, 3228, 5607, 5155, 3286, 1341, 5365, 5719, 6283, 186, 688, 1948, 3993, 5057, 3778, 1904, 3384, 6497, 5122, 3481, 2109, 5848, 4406, 1730, 3856, 1583, 3891, 3622, 4542, 5211, 4795, 5269, 3805, 614, 5846, 5202, 448, 3331, 4789, 1412, 2309, 3808, 5339, 2525, 4496, 5588, 1491, 3365, 3735, 2509, 47, 5421, 1978, 6290, 6054, 2249, 4236, 1426, 2156, 1976, 1015, 555, 5890, 2804, 4596, 3103, 139, 5614, 967, 5296, 351, 2608, 1903, 3777, 1539, 4738, 3440, 2671, 4193, 3895, 3806, 4004, 4963, 5651, 1087, 706, 1596, 6252, 3923, 3102, 1597, 3575, 4426, 3518, 4529, 6501, 4463, 1037, 2906, 5861, 3368, 207, 5603, 1913, 3584, 5611, 5548, 1546, 3067, 1848, 2971, 4557, 3376, 1610, 800, 620, 3174, 4541, 1127, 2405, 4965, 293, 5033, 2190, 2061, 4830, 3437, 2587, 4385, 3887, 3294, 2614, 4783, 1935, 3273, 2301, 2596, 3184, 1691, 1100, 2487, 1493, 513, 3327, 5222, 4706, 6433, 2826, 4565, 204, 4367, 6038, 296, 6411, 5478, 6248, 4708, 4023, 1816, 2711, 2414, 6523, 5340, 722, 468, 6502, 5626, 1576, 6469, 1276, 1623, 4577, 6375, 3566, 6494, 3847, 118, 6301, 2256, 5563, 6012, 2489, 482, 5182, 3284, 2602, 4050, 4988, 2533, 4418, 1265, 4273, 613, 3580, 185, 3225, 4985, 4581, 4701, 2782, 5136, 439, 4255, 2518, 3721, 1925, 6385, 3111, 936, 2281, 6358, 5643, 4474, 2553, 5765, 5226, 1007, 4834, 5514, 4005, 3713, 884, 1011, 5999, 4028, 2893, 6483, 3701, 4601, 3014, 1933, 2819, 228, 5621, 4615, 3658, 1822, 1528, 6335, 6297, 2693, 5302, 4329, 4106, 2174, 1038, 3373, 1752, 312, 4646, 4279, 2480, 2250, 914, 1932, 5102, 1672, 2339, 5120, 685, 725, 2081, 1358, 3541, 2758, 2468, 5841, 2745, 4007, 5320, 5775, 6508, 3986, 5995, 5388, 3814, 5119, 3151, 3092, 2754, 5703, 1495, 5960, 4884, 3512, 159, 3282, 1542, 6520, 4248, 346, 864, 6545, 627, 110, 4370, 510, 4363, 3522, 6164, 5967, 511, 1671, 4090, 6134, 3714, 5235, 5448, 1353, 2552, 2067, 215, 3313, 1336, 3098, 4253, 1856, 2977, 4030, 5305, 315, 4440, 3746, 711, 1662, 2654, 2603, 1571, 5486, 2802, 4566, 700, 1598, 4459, 712, 4307, 1190, 3509, 3079, 5443, 6163, 181, 913, 6161, 2648, 1378, 3496, 3370, 3068, 1010, 2314, 5555, 2121, 1170, 2191, 3650, 6422, 1089, 3274, 3966, 4155, 5509, 5192, 6008, 545, 5844, 1665, 2119, 3925, 2073, 6255, 6245, 1332, 4477, 1284, 2686, 1455, 4896, 5697, 1601, 2021, 269, 5219, 5397, 2990, 2184, 2002, 4138, 2149, 3172, 781, 5613, 3881, 3538, 5394, 3254, 4940, 2571, 1711, 2396, 3276, 4191, 6366, 4257, 4115, 6427, 3409, 5215, 4991, 6503, 3626, 6271, 2751, 1096, 3379, 431, 2595, 6118, 1114, 2352, 1764, 1508, 1938, 1742, 3533, 3991, 1834, 5594, 192, 834, 3845, 6356, 2926, 5513, 3589, 3301, 57, 5610, 4516, 6018, 852, 2801, 3664, 2958, 5042, 2097, 1915, 5028, 4620, 3645, 4365, 6203, 694, 1287, 1992, 519, 1573, 4850, 2969, 3699, 4149, 4910, 5099, 385, 2288, 5836, 1271, 4598, 3528, 5094, 112, 1994, 5323, 5854, 3900, 2014, 504, 3369, 1403, 1858, 2317, 3873, 2122, 4314, 1866, 5228, 3069, 872, 2827, 3495, 4876, 2171, 1847, 5927, 1991, 3260, 2282, 2338, 3507, 2026, 4962, 6181, 5847, 1790, 3081, 4544, 3250, 6294, 3745, 5537, 4979, 213, 2779, 3256, 4199, 5924, 5835, 2532, 5874, 2358, 6506, 3023, 5504, 4164, 5399, 6382, 3807, 2908, 2894, 6093, 2759, 2092, 5596, 4871, 525, 4449, 1354, 5262, 3306, 4854, 5609, 5802, 1732, 183, 2187, 2694, 4716, 52, 2965, 3926, 266, 2325, 5024, 4485, 6254, 3984, 4309, 396, 3909, 43, 2689, 6429, 2855, 3173, 6124, 3634, 3889, 4906, 3269, 5268, 3892, 2985, 4881, 6257, 682, 3013, 4464, 4944, 5015, 1438, 355, 6486, 4813, 3813, 4358, 4712, 3237, 2329, 240, 6320, 2003, 5063, 2165, 5684, 4696, 4727, 2024, 2763, 5014, 5633, 4112, 5064, 2772, 1243, 3189, 6166, 1451, 5519, 3703, 1435, 6084, 830, 4800, 531, 3919, 2921, 5720, 2098, 4235, 3215, 3653, 6492, 4396, 2650, 4671, 3823, 5843, 2765, 3216, 3223, 2797, 1871, 951, 3708, 1740, 1850, 593, 2088, 6014, 4493, 1102, 941, 3134, 2667, 3203, 5092, 5974, 3065, 6189, 5430, 2935, 35, 34, 135, 3857, 5436, 3143, 5112, 3305, 3660, 5681, 1843, 1215, 6319, 1272, 4804, 3185, 4705, 4333, 239, 3095, 6125, 4374, 5528, 4237, 3157, 1174, 5682, 2724, 2738, 105, 5750, 1907, 1029, 6542, 4373, 2563, 2110, 5689, 5553, 518, 1786, 5701, 6538, 6165, 1585, 4171, 5137, 1172, 1003, 796, 1343, 4777, 5870, 3490, 2006, 6202, 1244, 4536, 6516, 2158, 2148, 3038, 5141, 6277, 2661, 874, 2449, 1999, 918, 2885, 349, 6009, 5278, 1086, 632, 1082, 1855, 3046, 4644, 3104, 5070, 3048, 2221, 5521, 4281, 5197, 230, 1998, 3834, 3842, 3635, 2115, 5364, 3322, 2036, 4699, 2324, 633, 6414, 56, 5207, 3454, 3266, 2896, 461, 4540, 1025, 4586, 6106, 5529, 610, 5617, 780, 5352, 5238, 122, 3419, 3668, 3985, 5963, 3761, 4776, 4227, 1351, 5615, 3315, 1520, 5882, 5524, 3375, 2028, 553, 2914, 1666, 5557, 591, 4324, 2521, 3720, 3961, 1761, 4197, 2776, 4038, 6400, 467, 5508, 4282, 5807, 45, 3353, 5309, 4046, 5288, 2735, 4607, 5591, 3275, 5041, 1088, 2519, 2743, 4360, 4402, 4970, 4502, 6446, 2106, 6362, 157, 4889, 3956, 5936, 6259, 797, 585, 2427, 39, 1771, 2144, 1669, 97, 1763, 3124, 645, 5177, 1590, 1131, 611, 2105, 3513, 6028, 4725, 5853, 1651, 2426, 3789, 6214, 4026, 365, 6251, 3647, 3676, 5693, 695, 2474, 5321, 877, 5204, 2278, 1663, 4873, 1582, 4068, 1083, 5381, 2943, 5316, 367, 2761, 4709, 238, 4027, 2143, 6302, 3782, 6182, 2658, 2668, 3610, 5146, 5698, 3109, 550, 2391, 1575, 5009, 507, 233, 2248, 391, 601, 145, 607, 107, 4875, 2891, 916, 4330, 209, 235, 429, 2944, 5483, 2068, 4844, 4584, 4632, 4294, 6107, 3910, 4069, 2453, 160, 841, 2037, 4302, 4578, 4460, 5282, 4109, 5368, 4410, 4975, 4524, 5055, 4123, 1159, 4929, 387, 6543, 1897, 5942, 1934, 4482, 6174, 5919, 2505, 3413, 3866, 1944, 4614, 5210, 3861, 392, 3418, 2560, 436, 3508, 125, 6223, 4649, 3957, 5284, 3217, 6379, 4359, 6352, 1693, 2915, 32, 1509, 3796, 3152, 5637, 5859, 5367, 4462, 6022, 2679, 1572, 4848, 6481, 5568, 749, 6177, 4861, 1369, 616, 4801, 4527, 5142, 838, 4419, 4475, 1922, 4388, 5036, 3760, 793, 2675, 3749, 3550, 5503, 4547, 4369, 707, 4576, 5347, 195, 4222, 1203, 5834, 3472, 3883, 2175, 278, 1410, 1342, 4554, 1344, 1371, 3062, 4016, 4405, 3882, 6185, 2851, 132, 1292, 4178, 3743, 4212, 2251, 2205, 291, 2956, 3724, 4032, 3591, 5051, 1745, 4747, 3636, 2331, 3572, 4998, 1178, 3869, 5881, 2254, 5180, 4748, 2145, 5876, 2715, 2877, 5378, 3252, 923, 3519, 3955, 1523, 214, 945, 857, 5149, 4662, 4732, 1504, 6534, 1051, 4874, 4326, 3615, 4997, 1594, 6466, 4133, 4711, 3630, 451, 2332, 4214, 5638, 4424, 2203, 2527, 5479, 4517, 5840, 863, 2222, 5128, 190, 1274, 5389, 2355, 2583, 5536, 3868, 3864, 3270, 5153, 357, 202, 683, 1402, 5587, 2529, 1288, 3952, 152, 1599, 1050, 5561, 4192, 5810, 6507, 5520, 3295, 4442, 2821, 630, 1919, 4698, 3191, 6378, 4621, 1420, 218, 4501, 1704, 849, 6157, 1954, 428, 4575, 689, 2413, 6304, 756, 4723, 4655, 4122, 2986, 1188, 4319, 4355, 3544, 3819, 3183, 5640, 212, 2181, 5379, 4381, 1499, 1988, 3147, 842, 6544, 1171, 6057, 928, 4895, 4556, 4344, 1870, 3848, 1356, 4651, 4686, 2022, 6453, 4654, 5224, 4733, 148, 5630, 1683, 4779, 3479, 2079, 1446, 3988, 5977, 4390, 5755, 3453, 459, 3244, 5131, 1526, 74, 3330, 4602, 529, 2368, 851, 4203, 2267, 676, 1458, 4091, 3939, 3302, 3831, 1739, 3927, 1545, 3212, 4933, 1256, 831, 2512, 999, 5958, 5556, 1911, 2445, 1706, 1875, 3872, 5794, 808, 1181, 6279, 283, 4597, 4868, 3005, 3493, 3337, 1608, 4190, 3141, 4604, 4863, 4809, 1252, 1023, 3709, 462, 393, 2798, 3045, 1002, 3932, 4946, 6272, 4956, 5241, 4039, 4484, 6428, 1842, 4219, 1678, 2523, 4053, 2059, 3464, 3264, 2678, 363, 2231, 4682, 4901, 176, 2746, 4797, 5670, 3787, 3436, 5126, 1782, 1853, 776, 6091, 2442, 527, 2764, 1831, 6423, 6460, 2431, 137, 5683, 890, 598, 6110, 4092, 4983, 4398, 5350, 3879, 5838, 3082, 4472, 4082, 5291, 3734, 4688, 3696, 1673, 6213, 4719, 4904, 6344, 4605, 6113, 5948, 2929, 3530, 4867, 4790, 2976, 6551, 2507, 1767, 3771, 886, 1852, 5293, 1980, 1197, 2005, 353, 2739, 4195, 6295, 3754, 1487, 6218, 3920, 3425, 3480, 6090, 203, 201, 5887, 1462, 3466, 3686, 3604, 843, 588, 1175, 1119, 4087, 5013, 5601, 113, 3775, 2341, 2852, 674, 5451, 5567, 4638, 2898, 6036, 3467, 2889, 637, 2439, 2807, 2225, 1379, 1912, 2886, 3210, 2436, 3366, 5598, 1977, 480, 4667, 4872, 2568, 1323, 4217, 2204, 4276, 4572, 262, 178, 6050, 2170, 4902, 2082, 3705, 1687, 3719, 2437, 224, 6060, 2945, 5150, 2659, 4052, 476, 5208, 4658, 4710, 4157, 2586, 2075, 2265, 2576, 5866, 4535, 1657, 4807, 3826, 4559, 3343, 721, 1914, 6424, 2247, 3603, 1867, 5259, 76, 6200, 4846, 6323, 6032, 484, 6179, 3999, 859, 799, 4492, 1408, 5424, 2227, 5110, 4469, 4523, 3192, 4525, 956, 5276, 1110, 134, 288, 5551, 6339, 1297, 4372, 3438, 5186, 5079, 444, 3662, 6512, 4996, 6116, 1273, 5784, 4629, 2598, 5600, 5543, 2630, 1544, 2844, 3089, 6535, 3751, 4954, 2565, 3666, 2567, 5976, 4865, 2169, 4960, 273, 3669, 1247, 2172, 14, 2837, 5949, 404, 2475, 3623, 4573, 3028, 3792, 1937, 5344, 1024, 211, 1115, 342, 2510, 261, 4642, 2183, 3004, 6530, 1266, 2888, 5351, 2848, 963, 6043, 4412, 2239, 3621, 5115, 4152, 3694, 634, 4610, 3235, 723, 2369, 3561, 6199, 3059, 6527, 4816, 1130, 44, 2311, 3765, 1941, 3350, 2470, 3494, 3914, 715, 3687, 1605, 6025, 2305, 3774, 6337, 5507, 5459, 264, 6249, 4175, 764, 888, 114, 6298, 6528, 3271, 6521, 3478, 2604, 2484, 2974, 6287, 1489, 2387, 422, 4445, 5705, 70, 5923, 2666, 6173, 1574, 2585, 3450, 942, 2438, 3785, 3208, 3132, 5045, 1207, 225, 151, 606, 6384, 5242, 5434, 115, 775, 6451, 300, 1496, 3970, 424, 603, 750, 4549, 6509, 5469, 1490, 3385, 4211, 2859, 3612, 5634, 1132, 1627, 1533, 4939, 845, 4995, 5194, 3093, 4893, 932, 4821, 1485, 1286, 943, 3427, 6462, 4422, 3503, 4416, 5811, 5121, 6425, 465, 4093, 5134, 3557, 6456, 773, 5356, 2090, 3722, 4526, 3718, 5679, 6282, 6327, 5896, 3018, 4054, 966, 2315, 2967, 5966, 1946, 2651, 4131, 2334, 1027, 3446, 6169, 196, 2246, 6550, 4550, 4258, 5928, 5712, 3381, 5312, 306, 3739, 2343, 1619, 4693, 2259, 3397, 4242, 6533, 3763, 4668, 5360, 5955, 6039, 1129, 3161, 2257, 1589, 3324, 6487, 4135, 2655, 6359, 5751, 4627, 1951, 4209, 3204, 2741, 5668, 1586, 180, 1242, 2737, 2905, 3325, 3410, 21, 5918, 2399, 4325, 2176, 6524, 2637, 2333, 5440, 789, 5154, 4121, 1001, 5196, 5071, 1811, 1111, 5754, 5675, 5677, 1943, 117, 3501, 3837, 3423, 2058, 5345, 457, 5781, 1593, 4468, 445, 4286, 3332, 4158, 5544, 2167, 6011, 6075, 6250, 6197, 5773, 4080, 6490, 5595, 2197, 4292, 3981, 2995, 140, 4488, 1990, 3008, 2395, 2424, 2910, 100, 1182, 6041, 3977, 3346, 2997, 5129, 2695, 4724, 197, 5111, 559, 2766, 3057, 5050, 846, 5608, 5373, 5348, 4972, 6034, 3230, 4400, 3468, 6409, 1460, 6130, 621, 1784, 2283, 295, 5477, 5052, 4139, 4261, 5392, 3980, 5713, 4741, 3338, 3539, 5482, 1345, 2962, 18, 4301, 958, 636, 3326, 5883, 5618, 1414, 2488, 4831, 5589, 5457, 3462, 5915, 2363, 3400, 5505, 2064, 5517, 6159, 4336, 4679, 5799, 442, 4822, 4561, 3821, 5386, 375, 3585, 1431, 4659, 4148, 566, 366, 5366, 1361, 3255, 3529, 5565, 1899, 929, 4519, 3846, 5996, 783, 4066, 2638, 5586, 3695, 2669, 1421, 2909, 2726, 1339, 5939, 2232, 6132, 5230, 3435, 4119, 388, 5729, 2230, 3725, 3073, 1364, 968, 2409, 1033, 5803, 5884, 1531, 198, 5176, 2996, 5456, 1770, 4953, 4934, 4802, 4926, 2833, 5628, 5393, 3497, 1167, 5470, 2635, 2799, 3314, 2486, 3084, 5724, 3292, 3265, 4726, 129, 2188, 4295, 3788, 6156, 5711, 873, 5845, 4819, 2832, 1350, 6005, 4879, 3997, 1906, 3100, 4275, 3784, 3395, 4146, 3285, 5319, 3800, 3990, 5619, 6141, 2957, 4070, 3072, 2814, 2572, 1076, 2874, 3594, 481, 5471, 4824, 6196, 3838, 3843, 1815, 1040, 1162, 1600, 191, 1104, 5685, 5193, 2907, 4033, 5721, 994, 5647, 1502, 1924, 3047, 5266, 3627, 5114, 5869, 4434, 2803, 4142, 4574, 3341, 4332, 2089, 952, 6426, 4499, 4768, 4931, 5161, 341, 4700, 1113, 3308, 4233, 3349, 2942, 5805, 1329, 3015, 4127, 6194, 4188, 6209, 4964, 4215, 6322, 2809, 2412, 647, 516, 1522, 187, 4987, 6264, 1277]\n",
      "val ids:  [2781, 449, 3783, 6055, 1430, 5034, 2359, 5813, 5369, 2769, 4810, 4202, 1741, 5139, 3487, 5768, 2354, 2768, 3851, 1291, 3146, 1692, 5056, 1432, 971, 4466, 4285, 3884, 1367, 6176, 4113, 3227, 5432, 205, 1195, 1501, 221, 5076, 3238, 3234, 2182, 19, 2408, 5433, 15, 5680, 4815, 2593, 71, 696, 557, 3097, 1812, 2555, 401, 2988, 4961, 5287, 4692, 3871, 3296, 3876, 5318, 6368, 871, 4229, 5200, 6415, 2535, 1783, 2255, 2887, 1456, 4611, 2482, 5785, 4909, 2224, 6160, 4465, 2112, 5018, 5957, 1321, 608, 883, 6217, 3602, 4232, 5709, 3859, 443, 5850, 5649, 2712, 237, 2993, 3704, 1442, 2229, 1021, 4315, 5688, 1950, 108, 1117, 3818, 2777, 3119, 2516, 3553, 803, 3899, 1525, 1253, 3075, 5260, 1177, 3568, 5972, 5037, 5731, 537, 5476, 5776, 2511, 6081, 2327, 3318, 6376, 5439, 953, 961, 5243, 1788, 2350, 2960, 5692, 308, 3041, 4467, 3830, 229, 2672, 4290, 1016, 5865, 1749, 4737, 4421, 587, 454, 2033, 1689, 2139, 2551, 1191, 547, 4503, 5672, 320, 2780, 599, 5534, 878, 1500, 3855, 5837, 2696, 5294, 1535, 5474, 1185, 5357, 1920, 4702, 4588, 2892, 6531, 399, 4866, 1756, 3086, 6370, 6296, 6305, 5297, 5187, 3941, 1738, 3426, 5016, 2072, 6206, 1449, 2241, 6114, 5308, 5935, 2599, 1133, 364, 1422, 5306, 1746, 3880, 5650, 2365, 5627, 3505, 4546, 4936, 4645, 4125, 2794, 1352, 5622, 4772, 2447, 2796, 2330, 1779, 3964, 2836, 5387, 6548, 517, 5358, 629, 623, 130, 2056, 6399, 626, 4251, 6455, 4073, 2640, 3290, 549, 4558, 5310, 5466, 1013, 2347, 782, 6416, 3832, 5530, 1239, 1183, 6439, 398, 2862, 1785, 548, 4543, 455, 4897, 5185, 2443, 3179, 3824, 5075, 962, 1527, 612, 2858, 5767, 889, 4730, 67, 3268, 1514, 2932, 4024, 1511, 4911, 3486, 2554, 80, 3246, 6332, 6191, 435, 5686, 6052, 4533, 3289, 4473, 5623, 3148, 1996, 3802, 4011, 5636, 276, 671, 1492, 2581, 5867, 6499, 3441, 3716, 2762, 3922, 1993, 6360, 6373, 3711, 1791, 3316, 3817, 5487, 281, 2497, 4780, 6077, 1366, 4392, 1682, 3613, 1578, 5605, 6246, 5891, 5046, 2902, 4885, 3012, 2465, 179, 5718, 5183, 1214, 6452, 4316, 2594, 6539, 3356, 1625, 2085, 1120, 5239, 5832, 4982, 1245, 1705, 1515, 646, 5138, 471, 3935, 2721, 3578, 5570, 5455, 441, 1694, 5301, 4387, 1008, 1936, 6023, 1097, 3637, 6010, 792, 1757, 4883, 3599, 189, 277, 778, 6190, 6140, 6105, 5539, 4942, 2730, 5892, 3829, 1094, 2428, 3291, 5687, 473, 5382, 4793, 3963, 13, 5694, 1654, 754, 3583, 4299, 6407, 804, 4234, 4244, 1928, 3740, 3310, 4300, 6432, 1543, 5019, 3812, 1079, 1327, 3477, 2829, 4898, 4058, 5954, 2310, 182, 5941, 2959, 2038, 5203, 4198, 6436, 5258, 2361, 3248, 3175, 4520, 927, 4539, 6468, 605, 3954, 1018, 6013, 597, 2729, 154, 1254, 1618, 4173, 3241, 3656, 1865, 1048, 5223, 2244, 4003, 2933, 1611, 1192, 63, 2662, 4116, 4504, 759, 3448, 3588, 3136, 6201, 4505, 1443, 2822, 762, 2646, 1778, 3127, 777, 2978, 6220, 144, 5880, 294, 3106, 3614, 590, 4684, 1447, 1262, 1588, 6441, 1187, 5008, 641, 41, 354, 1792, 1768, 5104, 6303, 2235, 4040, 937, 1433, 6300, 3101, 220, 6345, 1417, 3317, 4930, 1895, 2573, 1909, 27, 2612, 4974, 109, 3894, 4061, 2201, 3960, 141, 3712, 4160, 4791, 5398, 5538, 885, 2316, 1450, 6461, 4814, 6256, 1418, 1750, 4967, 757, 1298, 6284, 3359, 5691, 378, 4287, 2313, 3672, 1346, 5384, 5707, 2998, 394, 5179, 65, 3094, 561, 5562, 503, 2895, 2605, 2323, 2616, 4624, 4641, 5696, 446, 5289, 3569, 6540, 1461, 3414, 2966, 2817, 2226, 2919, 3917, 710, 3050, 3239, 2066, 3498, 6292, 1123, 6464, 2057, 3801, 2549, 6511, 668, 4585, 4168, 6162, 2767, 99, 3354, 2628, 2478, 1216, 2398, 4097, 4878, 2492, 4137, 3524, 4689, 6431, 4391, 1486, 6109, 4056, 3573, 915, 4059, 3841, 948, 1052, 5047, 1624, 1084, 5833, 5510, 5929, 3727, 6015, 3163, 2912, 6513, 5404, 350, 3974, 3511, 6030, 3383, 23, 4951, 1289, 4782, 3309, 5426, 4414, 1910, 2806, 2402, 6495, 5481, 3213, 6430, 3803, 6488, 5049, 536, 1101, 3820, 3736, 2481, 2479, 5452, 5325, 1923, 2271, 2322, 1979, 5010, 5338, 426, 2742, 356, 1380, 3517, 3358, 4086, 4647, 1734, 752, 6465, 3484, 3897, 1166, 2613, 241, 4915, 6021, 3625, 3962, 1846, 718, 5965, 693, 5453, 2154, 5256, 4378, 98, 3535, 556, 2656, 4890, 4947, 1255, 618, 348, 3125, 3633, 1987, 3728, 3355, 29, 3483, 4425, 1205, 2308, 5199, 4713, 2012, 5480, 430, 4528, 2113, 5604, 3171, 3011, 5871, 1293, 1570, 4368, 2011, 5425, 1628, 6318, 1826, 701, 6404, 6175, 4321, 6002, 5730, 4104, 1296, 268, 1176, 1031, 6361, 1373, 3298, 4695, 4393, 5926, 5361, 2853, 4151, 5702, 2031, 6136, 4353, 1658, 485, 2989, 1377, 2578, 3058, 4025, 4096, 5877, 848, 5311, 6537, 5263, 1406, 4297, 2653, 1612, 1587, 6380, 5205, 4128, 6095, 2744, 1022, 1603, 2035, 3752, 925, 432, 5175, 5275, 2916, 1439, 3554, 594, 2800, 1085, 6467, 524, 2663, 3742, 514, 2865, 2847, 2078, 6435, 3586, 6029, 4272, 2477, 6266, 2925, 1832, 6051, 5856, 2418, 1278, 2410, 3590, 5303, 2306, 232, 358, 2864, 2138, 835, 4736, 25, 2938, 6529, 6195, 2727, 1841, 5283, 1427, 5771, 1653, 2861, 6135, 5428, 3757, 4313, 5851, 1819, 5188, 3581, 4857, 6532, 4785, 263, 5798, 55, 868, 2472, 6444, 6496, 5863, 395, 2060, 2276, 4435, 2835, 5450, 5959, 784, 3187, 3753, 4335, 4958, 6515, 219, 5096, 4891, 284, 791, 4312, 5997, 2692, 1125, 2813, 5789, 6210, 669, 323, 46, 5975, 2514, 4494, 4635, 3685, 5795, 4745, 2928, 3665, 6027, 5065, 3928, 1755, 4147, 3205, 4894, 72, 3232, 3259, 5072, 1209, 4481, 5962, 5973, 3489, 3642, 2975, 3663, 2417, 1375, 3357, 4827, 934, 2682, 5346, 6541, 3272, 6187, 3646, 1777, 377, 3689, 3328, 3297, 3723, 4564, 5286, 297, 3303, 2664, 5774, 3162, 1506, 2467, 3405, 3764, 4320, 4241, 6224, 6357, 6033, 508, 4717, 6413, 1868, 1821, 3412, 1268, 2606, 380, 1772, 2030, 6178, 5061, 1681, 4000, 4067, 4351, 314, 4284, 3776, 5762, 2773, 1202, 2884, 51, 5886, 4456, 1281, 3692, 753, 3251, 423, 4652, 546, 199, 717, 5059, 5733, 3166, 5012, 4663, 3828, 2752, 6080, 2728, 2569, 3938, 4860, 477, 1340, 4950, 6280, 1095, 4862, 127, 552, 5383, 2723, 3154, 3641, 3556, 698, 48, 6338, 3083, 222, 4296, 1622, 3563, 5938, 4102, 1184, 3863, 3679, 1045, 5552, 4977, 2611, 704, 3638, 6401, 6269, 4354, 635, 3643, 5894, 6484, 4532, 1818, 528, 3396, 2824, 1507, 50, 3429, 1840, 3654, 1762, 3945, 2086, 5885, 5488, 1505, 2220, 6536, 3975, 1985, 5590, 5857, 2987, 919, 3463, 3404, 242, 2155, 177, 282, 3389, 1078, 4476, 3582, 3905, 5897, 4206, 2070, 4690, 1735, 5943, 638, 3697, 4085, 390, 2080, 475, 4774, 3434, 5054, 3323, 1158, 4943, 2362, 4665, 2931, 3682, 4851, 4409, 6408, 535, 2275, 5359, 2643, 1445, 1774, 3417, 4407, 26, 49, 4423, 1668, 4968, 2947, 447, 6406, 2237, 2140, 383, 1916, 4078, 4617, 3432, 3924, 3852, 1198, 4350, 2991, 1567, 1047, 5952, 5031, 4240, 4384, 678, 3640, 5631, 1851, 425, 1409, 5290, 3560, 3378, 147, 4177, 474, 2982, 5484, 1824, 795, 1124, 2452, 5390, 3670, 5097, 2367, 3571, 66, 3176, 2304, 2063, 5103, 6270, 4154, 2756, 483, 2192, 5756, 61, 997, 5522, 2941, 2336, 6377, 4805, 5377, 1092, 4210, 3913, 5317, 2597, 2699, 767, 403, 4383, 3206, 6299, 667, 450, 844, 3559, 5062, 3548, 6097, 4808, 3428, 4047, 1012, 2344, 4254, 3388, 930, 5809, 5770, 724, 96, 2753, 1733, 4337, 3698, 6447, 708, 2009, 1830, 639, 3131, 836, 3766, 6040, 1737, 1269, 5535, 5125, 369, 4377, 865, 4993, 947, 4832, 5518, 3944, 4310, 1405, 3340, 3673, 6334, 1664, 2983, 4487, 1452, 6449, 4055, 126, 1440, 5066, 5295, 2805, 1541, 5098, 2854, 208, 2946, 802, 2917, 4453, 726, 5105, 6417, 5011, 4408, 5564, 769, 3336, 6369, 1419, 5708, 5804, 4010, 2025, 1580, 343, 1591, 6238, 3261, 6237, 876, 4811, 5757, 5058, 2185, 699, 2924, 1436, 3973, 809, 5812, 3632, 1753, 22, 5116, 1512, 3022, 4095, 4129, 4609, 458, 3611, 4729, 4187, 6275, 6205, 619, 4952, 1441, 3009, 4447, 3833, 434, 4451, 6186, 3090, 340, 5147, 3221, 3786, 2548, 3077, 5763, 917, 2685, 1616, 4399, 4401, 3657, 1334, 2610, 3099, 6137, 3732, 4935, 806, 2236, 2001, 5722, 5156, 5917, 2015, 4075, 6442, 4877, 2093, 2390, 3577, 2328, 4389, 6044, 2013, 3016, 143, 6244, 3674, 3411, 4141, 703, 1333, 6103, 3416, 5624, 5113, 3499, 4436, 870, 2161, 2039, 6171, 3406, 2903, 6289, 4262, 5669, 279, 4957, 1189, 533, 1708, 4249, 4238, 4916, 4267, 4992, 1569, 5027, 5231, 54, 6482, 2071, 3531, 4587, 3071, 1568, 719, 2647, 4670, 1518, 292, 5212, 4012, 24, 4031, 4479, 4491, 1952, 2811, 3570, 1743, 1516, 4269, 17, 2676, 3052, 2194, 4752, 303, 5676, 2515, 146, 4490, 1709, 4221, 1908, 2629, 3972, 5401, 6035, 4631, 1864, 321, 6326, 2834, 6258, 4048, 4563, 2349, 33, 3729, 374, 1437, 5441, 4196, 1257, 1497, 3249, 4826, 4828, 37, 2979, 3908, 75, 1828, 4444, 5560, 6049, 361, 3680, 4913, 4622, 3726, 5787, 3825, 5214, 887, 2335, 1042, 4293, 3649, 4522, 4637, 472, 4552, 1034, 307, 386, 4443, 5145, 1415, 3377, 4849, 2069, 3502, 1953, 3469, 6463, 5612, 3579, 2153, 6123, 1650, 3342, 5994, 2234, 128, 5264, 2142, 3335, 402, 2010, 5267, 1659, 4349, 4136, 1180, 2496, 3628, 3849, 4002, 6329, 397, 960, 5914, 3890, 5039, 2588, 6367, 4322, 854, 2876, 6324, 121, 751, 2992, 3311, 4514, 5020, 5077, 2818, 1609, 2423, 5298, 4548, 4912, 4159, 5442, 6101, 5322, 2077, 6092, 4515, 3344, 3937, 684, 156, 4110, 4250, 5791, 4775, 5313, 2469, 1896, 3896, 6016, 4225, 3372, 3181, 3903, 1359, 4799, 4015, 1566, 4892, 6111, 3001, 5815, 4224, 1584, 2411, 2269, 1844, 2499, 1956, 3912, 772, 28, 3600, 3158, 3070, 2393, 5523, 6386, 935, 316, 1537, 770, 2240, 615, 672, 3253, 2163, 2434, 1186, 1748, 3915, 2168, 4938, 2404, 265, 2448, 4720, 2008, 5783, 73, 3853, 1695, 1107, 5123, 2415, 5758, 4498, 946, 5864, 5067, 111, 2601, 2657, 3811, 2665, 3177, 1039, 807, 1328, 1789, 4291, 1416, 1876, 6505, 1280, 2433, 3351, 3421, 2353, 4553, 1699, 867, 3049, 3532, 5550, 2023, 1250, 5355, 5371, 4636, 3391, 5461, 210, 2936, 4245, 2792, 6215, 1697, 6128, 798, 2934, 5932, 2652, 6098, 5261, 3683, 5953, 1930, 5635, 2863, 4978, 720, 1606, 5485, 1091, 2400, 2284, 5916, 4570, 2118, 3738, 4051, 5717, 6207, 6288, 453, 5961, 1348, 4765, 2879, 36, 4750, 4625, 2107, 347, 5152, 5454, 6131, 4457, 6333, 3562, 4721, 2177, 5279, 4903, 3867, 1680, 4065, 2508, 5873, 3408, 3439, 3865, 1729, 1264, 1285, 2722, 2687, 1854, 768, 541, 5363, 2029, 677, 5272, 5236, 4984, 3652, 679, 5652, 3885, 3190, 5233, 4506, 4037, 4239, 2649, 2027, 6328, 1360, 3044, 344, 1106, 104, 2922, 4545, 1349, 1019, 3043, 4029, 6459, 3461, 4959, 697, 5124, 3593, 2473, 3523, 5777, 4386, 1355, 4887, 138, 709, 1703, 2441, 1046, 3150, 4788, 3456, 855, 4907, 2937, 5403, 2062, 1613, 6127, 1494, 5788, 3024, 5968, 2356, 271, 64, 2429, 839, 1817, 384, 4761, 3947, 3003, 4555, 5725, 4537, 234, 4697, 4105, 3798, 3096, 1325, 5144, 6371, 3088, 6504, 2166, 2717, 3629, 6458, 5160, 3304, 3996, 3567, 3592, 6293, 4231, 3145, 301, 30, 5109, 6354, 6412, 5464, 3283, 2911, 687, 1347, 3809, 2736, 540, 1676, 3911, 2748, 3233, 6139, 2111, 1769, 5964, 1827, 2561, 3307, 2531, 5257, 5671, 3758, 5732, 5761, 3907, 3950, 3169, 4331, 4200, 2091, 4618, 3277, 4715, 4825, 4653, 4079, 4318, 2559, 5437, 3965, 3515, 3976, 3178, 2677, 6216, 298, 4928, 3229, 2189, 3319, 2972, 4773, 38, 2774, 2238, 1116, 2878, 6403, 3943, 1981, 3424, 755, 3844, 1263, 2584, 5674, 3564, 2223, 1955, 2087, 437, 2749, 1873, 3877, 6208, 6419, 4599, 4376, 3762, 644, 1168, 2566, 1032, 4277, 5270, 4017, 691, 370, 6211, 926, 1331, 5546, 2579, 352, 1675, 2416, 2778, 4981, 1744, 2318, 2842, 305, 3989, 2495, 1201, 5026, 371, 3133, 1204, 3339, 1157, 2857, 771, 2501, 1607, 6522, 1112, 2007, 6285, 5814, 1213, 4955, 3431, 3293, 4852, 1118, 318, 6094, 3078, 3982, 5206, 3006, 5641, 521, 866, 3921, 4184, 4009, 2716, 6170, 3901, 6247, 1849, 469, 2279, 4364, 6485, 2615, 1374, 1357, 4207, 881, 4941, 311, 4063, 4771, 5599, 1765, 1026, 1710, 1044, 3123, 1602, 3186, 4252, 5772, 287, 5035, 2714, 1592, 3312, 3609, 3779, 1813, 4718, 5969, 3245, 1667, 5616, 2558, 5632, 2617, 1626, 6117, 5947, 4362, 4081, 2117, 4317, 3321, 3386, 4562, 3759, 766, 1649, 2287, 4518, 1165, 3874, 1322, 2076, 4448, 194, 2104, 5922, 5849, 3951, 2150, 1365, 1604, 6085, 4571, 4162, 2303, 158, 3850, 3287, 3574, 5159, 6042, 3407, 4144, 2981, 4948, 1839, 5423, 4243, 286, 4680, 3492, 6418, 6261, 3671, 1670, 5044, 3596, 2095, 2065, 1464, 3769, 2831, 4189, 2609, 5970, 4633, 5069, 2406, 1335, 5190, 4343, 1702, 4041, 2639, 3595, 3536, 1989, 161, 1103, 2498, 3755, 3451, 4781, 5271, 1260, 4616, 3862, 6330, 2476, 2302, 3655, 6410, 4140, 3733, 6046, 5458, 5265, 4461, 6546, 3555, 4458, 149, 1330, 3403, 5593, 3551, 3263, 285, 4787, 2401, 2198, 5324, 3791, 3543, 5240, 5468, 617, 153, 3193, 2674, 4495, 3546, 3155, 3748, 4084, 1196, 4120, 6108, 4751, 6222, 1862, 5148, 3455, 3979, 3946, 4134, 2642, 3040, 515, 3790, 3459, 4298, 4156, 6372, 5022, 2733, 4746, 1902, 539, 1200, 310, 2388, 2162, 996, 6192, 4612, 4441, 2242, 1863, 2890, 6402, 155, 6001, 1898, 2270, 6129, 2575, 1014, 3374, 4432, 5040, 542, 1035, 1595, 5946, 4062, 3618, 124, 4763, 4411, 686, 4497, 5645, 6547, 1701, 2160, 4150, 3794, 2700, 3142, 6122, 3959, 5445, 3387, 675, 1206, 1958, 2264, 5431, 2319, 427, 4847, 3026, 4608, 3076, 5710, 4357, 506, 6115, 2147, 1275, 3222, 2494, 2326, 931, 2384, 4230, 3002, 4949, 2691, 4132, 4966, 5723, 4880, 5195, 705, 1621, 4111, 5752, 42, 5038, 3795, 5467, 2732, 3967, 116, 5512, 728, 5937, 758, 4452, 4247, 714, 4666, 3992, 5130, 5406, 3153, 5554, 4530, 2263, 6518, 4650, 4908, 231, 2151, 1661, 4734, 452, 4022, 3836, 4043, 938, 3288, 6363, 5299, 6204, 949, 5273, 5100, 1947, 2899, 2634, 1043, 1939, 4226, 4433, 1164, 223, 4990, 5978, 5133, 2157, 5189, 1368, 4853, 1926, 3558, 2258, 4792, 3737, 2713, 4072, 1648, 2927, 2904, 4403, 5435, 2816, 4606, 5862, 1049, 4172, 2755, 4643, 3170, 2034, 1338, 6454, 3367, 2485, 5790, 2633, 530, 6383, 3017, 592, 4855, 2757, 4661, 3401, 4143, 3165, 5541, 3549, 785, 1825, 5277, 4603, 1921, 1517, 2999, 5127, 5764, 3929, 2004, 6517, 5646, 2394, 4366, 2883, 4176, 3188, 3471, 3167, 68, 3449, 6325, 6142, 4707, 2683, 3110, 869, 5068, 5506, 2534, 5532, 2830, 5920, 2407, 3933, 2444, 5341, 509, 3616, 1194, 368, 4130, 4006, 3091, 456, 6263, 1983, 322, 3552, 5839, 4107, 5396, 2196, 1098, 5343, 628, 2681, 596, 4161, 3878, 4749, 260, 2233, 3816, 5023, 3781, 4341, 4521, 5872, 3053, 3835, 2517, 4770, 2590, 5533, 2775, 860, 3420, 5727, 4864, 3587, 227, 2337, 1169, 4174, 523, 6183, 1696, 6017, 998, 6167, 1108, 6351, 3542, 4201, 1370, 460, 272, 5229, 2913, 801, 3931, 4446, 2503, 1453, 2253, 2506, 3482, 4382, 1957, 5678, 6212, 5429, 5375, 6514, 716, 2019, 4664, 4439, 2882, 1615, 861, 1620, 6056, 3159, 1411, 2173, 624, 3194, 3202, 1199, 921, 4166, 5021, 4858, 5370, 58, 2342, 2274, 4744, 5447, 5234, 4108, 5592, 302, 3207, 3149, 1444, 2750, 2582, 2389, 2084, 3430, 6374, 4270, 5606, 3770, 4094, 6184, 4829, 4334, 5292, 2446, 4685, 2795, 3840, 6076, 5944, 1109, 3994, 1945, 4194, 4397, 2963, 2562, 5542, 5463, 4899, 1929, 5108, 912, 1434, 4648, 2164, 6102, 2186, 5449, 6421, 102, 6188, 5716, 2101, 532, 4339, 5759, 1835, 2838, 2808, 788, 479, 106, 5209, 1484, 3485, 589, 2432, 4036, 2684, 5547, 4045, 4167, 5893, 3710, 2940, 790, 4204, 2641, 4223, 3128, 3684, 1208, 5472, 3025, 5184, 259, 2430, 5173, 1905, 5227, 2392, 2697, 4691, 2901, 880, 5921, 1099, 3348, 3201, 3054, 6004, 3474, 4619, 5225, 4306, 3122, 6240, 6037, 6031, 5648, 2385, 4489, 5782, 5462, 5198, 4769, 4088, 5213, 16, 3037, 1690, 586, 3598, 5792, 3651, 3470, 2386, 5933, 6133, 1279, 1614, 1986, 3056, 6355, 6526, 2557, 4076, 4639, 2845, 3064, 4170, 3371, 3130, 1326, 2016, 4169, 4778, 5642, 1463, 4739, 379, 5889, 4704, 805, 1121, 3042, 1837, 2096, 2670, 3949, 5017, 3767, 290, 6457, 1814, 31, 4945, 5878, 969, 5353, 3027, 313, 6387, 4415, 6281, 2370, 1513, 53, 6168, 1538, 560, 5117, 3135, 922, 944, 5135, 2490, 1179, 1688, 4114, 2673, 3822, 4932, 6498, 466, 3942, 4796, 4327, 4973, 505, 3799, 400, 1540, 5806, 4246, 5875, 2632, 954, 1212, 3333, 5868, 4163, 5801, 4311, 3019, 206, 2719, 2698, 5074, 4064, 5602, 1532, 6048, 3576, 5808, 4538, 4395, 4882, 4845, 2688, 3399, 1736, 470, 4994, 3066, 1210, 3659, 4694, 5778, 4379, 6405, 4623, 275, 1857, 2644, 4352, 123, 4731, 6253, 5285, 6007, 3182, 6353, 538, 95, 381, 3875, 2592, 4205, 3547, 5852, 6291, 761, 3545, 6365, 2970, 526, 642, 5221, 3442, 3415, 299, 5446, 850, 3827, 6448, 2734, 1900, 4582, 4551, 5545, 2731, 1766, 6158, 5053, 2875, 3457, 5516, 2528, 4216, 3144, 5855, 3995, 3797, 6119, 4728, 4786, 4074, 1372, 5925, 794, 5107, 4089, 6364, 1337, 5374, 3211, 2366, 2860, 933, 1775, 4569, 5726, 3039, 2547, 2159, 2577, 2018, 3691, 3520, 2793, 1283, 5800, 4818, 4218, 950, 5531, 6096]\n",
      "test ids:  [0, 1, 2, 3, 4, 5, 6, 7, 8, 9, 10, 11, 12, 40, 81, 82, 83, 84, 85, 86, 87, 88, 89, 90, 91, 92, 93, 94, 120, 162, 163, 164, 165, 166, 167, 168, 169, 170, 171, 172, 173, 174, 175, 200, 243, 244, 245, 246, 247, 248, 249, 250, 251, 252, 253, 254, 255, 256, 257, 280, 324, 325, 326, 327, 328, 329, 330, 331, 332, 333, 334, 335, 336, 337, 338, 339, 360, 405, 406, 407, 408, 409, 410, 411, 412, 413, 414, 415, 416, 417, 418, 419, 420, 421, 440, 486, 487, 488, 489, 490, 491, 492, 493, 494, 495, 496, 497, 498, 499, 500, 501, 502, 520, 567, 568, 569, 570, 571, 572, 573, 574, 575, 576, 577, 578, 579, 580, 581, 582, 583, 584, 600, 648, 649, 650, 651, 652, 653, 654, 655, 656, 657, 658, 659, 660, 661, 662, 663, 664, 665, 666, 680, 729, 730, 731, 732, 733, 734, 735, 736, 737, 738, 739, 740, 741, 742, 743, 744, 745, 746, 747, 748, 760, 810, 811, 812, 813, 814, 815, 816, 817, 818, 819, 820, 821, 822, 823, 824, 825, 826, 827, 828, 829, 840, 891, 892, 893, 894, 895, 896, 897, 898, 899, 900, 901, 902, 903, 904, 905, 906, 907, 908, 909, 910, 911, 920, 972, 973, 974, 975, 976, 977, 978, 979, 980, 981, 982, 983, 984, 985, 986, 987, 988, 989, 990, 991, 992, 993, 1000, 1053, 1054, 1055, 1056, 1057, 1058, 1059, 1060, 1061, 1062, 1063, 1064, 1065, 1066, 1067, 1068, 1069, 1070, 1071, 1072, 1073, 1074, 1075, 1080, 1135, 1136, 1137, 1138, 1139, 1140, 1141, 1142, 1143, 1144, 1145, 1146, 1147, 1148, 1149, 1150, 1151, 1152, 1153, 1154, 1155, 1156, 1160, 1217, 1218, 1219, 1220, 1221, 1222, 1223, 1224, 1225, 1226, 1227, 1228, 1229, 1230, 1231, 1232, 1233, 1234, 1235, 1236, 1237, 1238, 1240, 1300, 1301, 1302, 1303, 1304, 1305, 1306, 1307, 1308, 1309, 1310, 1311, 1312, 1313, 1314, 1315, 1316, 1317, 1318, 1319, 1320, 1382, 1383, 1384, 1385, 1386, 1387, 1388, 1389, 1390, 1391, 1392, 1393, 1394, 1395, 1396, 1397, 1398, 1399, 1400, 1401, 1465, 1466, 1467, 1468, 1469, 1470, 1471, 1472, 1473, 1474, 1475, 1476, 1477, 1478, 1479, 1480, 1481, 1482, 1483, 1547, 1548, 1549, 1550, 1551, 1552, 1553, 1554, 1555, 1556, 1557, 1558, 1559, 1560, 1561, 1562, 1563, 1564, 1565, 1629, 1630, 1631, 1632, 1633, 1634, 1635, 1636, 1637, 1638, 1639, 1640, 1641, 1642, 1643, 1644, 1645, 1646, 1647, 1700, 1712, 1713, 1714, 1715, 1716, 1717, 1718, 1719, 1720, 1721, 1722, 1723, 1724, 1725, 1726, 1727, 1728, 1780, 1794, 1795, 1796, 1797, 1798, 1799, 1800, 1801, 1802, 1803, 1804, 1805, 1806, 1807, 1808, 1809, 1810, 1860, 1877, 1878, 1879, 1880, 1881, 1882, 1883, 1884, 1885, 1886, 1887, 1888, 1889, 1890, 1891, 1892, 1940, 1959, 1960, 1961, 1962, 1963, 1964, 1965, 1966, 1967, 1968, 1969, 1970, 1971, 1972, 1973, 1974, 2020, 2040, 2041, 2042, 2043, 2044, 2045, 2046, 2047, 2048, 2049, 2050, 2051, 2052, 2053, 2054, 2055, 2100, 2120, 2124, 2125, 2126, 2127, 2128, 2129, 2130, 2131, 2132, 2133, 2134, 2135, 2136, 2137, 2180, 2200, 2206, 2207, 2208, 2209, 2210, 2211, 2212, 2213, 2214, 2215, 2216, 2217, 2218, 2219, 2260, 2280, 2289, 2290, 2291, 2292, 2293, 2294, 2295, 2296, 2297, 2298, 2299, 2300, 2340, 2360, 2371, 2372, 2373, 2374, 2375, 2376, 2377, 2378, 2379, 2380, 2381, 2382, 2420, 2440, 2454, 2455, 2456, 2457, 2458, 2459, 2460, 2461, 2462, 2463, 2464, 2500, 2520, 2536, 2537, 2538, 2539, 2540, 2541, 2542, 2543, 2544, 2545, 2546, 2580, 2600, 2618, 2619, 2620, 2621, 2622, 2623, 2624, 2625, 2626, 2627, 2660, 2680, 2701, 2702, 2703, 2704, 2705, 2706, 2707, 2708, 2709, 2740, 2760, 2783, 2784, 2785, 2786, 2787, 2788, 2789, 2790, 2791, 2820, 2840, 2866, 2867, 2868, 2869, 2870, 2871, 2872, 2873, 2900, 2920, 2948, 2949, 2950, 2951, 2952, 2953, 2954, 2980, 3000, 3030, 3031, 3032, 3033, 3034, 3035, 3036, 3060, 3080, 3113, 3114, 3115, 3116, 3117, 3118, 3140, 3160, 3195, 3196, 3197, 3198, 3199, 3200, 3220, 3240, 3278, 3279, 3280, 3281, 3300, 3360, 3361, 3362, 3363, 3380, 3443, 3444, 3445, 3460, 3525, 3526, 3540, 3607, 3608, 3620, 3690, 3700, 3772, 3780, 3854, 3860, 3936, 3940, 4018, 4019, 4020, 4099, 4100, 4101, 4180, 4181, 4182, 4183, 4260, 4263, 4264, 4265, 4266, 4340, 4345, 4346, 4347, 4348, 4420, 4427, 4428, 4429, 4430, 4431, 4500, 4508, 4509, 4510, 4511, 4512, 4513, 4580, 4590, 4591, 4592, 4593, 4594, 4595, 4660, 4672, 4673, 4674, 4675, 4676, 4677, 4678, 4740, 4753, 4754, 4755, 4756, 4757, 4758, 4759, 4760, 4820, 4835, 4836, 4837, 4838, 4839, 4840, 4841, 4842, 4843, 4900, 4917, 4918, 4919, 4920, 4921, 4922, 4923, 4924, 4925, 4980, 4999, 5000, 5001, 5002, 5003, 5004, 5005, 5006, 5007, 5060, 5080, 5081, 5082, 5083, 5084, 5085, 5086, 5087, 5088, 5089, 5090, 5140, 5162, 5163, 5164, 5165, 5166, 5167, 5168, 5169, 5170, 5171, 5172, 5220, 5244, 5245, 5246, 5247, 5248, 5249, 5250, 5251, 5252, 5253, 5254, 5255, 5300, 5326, 5327, 5328, 5329, 5330, 5331, 5332, 5333, 5334, 5335, 5336, 5337, 5380, 5407, 5408, 5409, 5410, 5411, 5412, 5413, 5414, 5415, 5416, 5417, 5418, 5419, 5420, 5460, 5489, 5490, 5491, 5492, 5493, 5494, 5495, 5496, 5497, 5498, 5499, 5500, 5501, 5502, 5540, 5571, 5572, 5573, 5574, 5575, 5576, 5577, 5578, 5579, 5580, 5581, 5582, 5583, 5584, 5620, 5653, 5654, 5655, 5656, 5657, 5658, 5659, 5660, 5661, 5662, 5663, 5664, 5665, 5666, 5667, 5700, 5734, 5735, 5736, 5737, 5738, 5739, 5740, 5741, 5742, 5743, 5744, 5745, 5746, 5747, 5748, 5749, 5780, 5816, 5817, 5818, 5819, 5820, 5821, 5822, 5823, 5824, 5825, 5826, 5827, 5828, 5829, 5830, 5831, 5860, 5898, 5899, 5900, 5901, 5902, 5903, 5904, 5905, 5906, 5907, 5908, 5909, 5910, 5911, 5912, 5940, 5979, 5980, 5981, 5982, 5983, 5984, 5985, 5986, 5987, 5988, 5989, 5990, 5991, 5992, 5993, 6020, 6061, 6062, 6063, 6064, 6065, 6066, 6067, 6068, 6069, 6070, 6071, 6072, 6073, 6074, 6100, 6143, 6144, 6145, 6146, 6147, 6148, 6149, 6150, 6151, 6152, 6153, 6154, 6155, 6180, 6225, 6226, 6227, 6228, 6229, 6230, 6231, 6232, 6233, 6234, 6235, 6236, 6260, 6306, 6307, 6308, 6309, 6310, 6311, 6312, 6313, 6314, 6315, 6316, 6317, 6340, 6388, 6389, 6390, 6391, 6392, 6393, 6394, 6395, 6396, 6397, 6398, 6420, 6470, 6471, 6472, 6473, 6474, 6475, 6476, 6477, 6478, 6479, 6500, 6552, 6553, 6554, 6555, 6556, 6557, 6558, 6559, 6560]\n",
      "CPU times: user 151 ms, sys: 24 ms, total: 175 ms\n",
      "Wall time: 174 ms\n"
     ]
    }
   ],
   "source": [
    "%%time\n",
    "n_total = len(simulation.dataframe)\n",
    "n_train = len(simulation.dataframe[simulation.dataframe.type_of == \"train\"])\n",
    "n_val = len(simulation.dataframe[simulation.dataframe.type_of == \"val\"])\n",
    "n_test = len(simulation.dataframe[simulation.dataframe.type_of == \"test\"])\n",
    "n_train_hamiltonians = len(simulation.train_ids)\n",
    "n_val_hamiltonians = len(simulation.val_ids)\n",
    "n_test_hamiltonians = len(simulation.test_ids)\n",
    "n_total_hamiltonians = n_train_hamiltonians + n_val_hamiltonians + n_test_hamiltonians\n",
    "\n",
    "print(\"% train: \", n_train/n_total)\n",
    "print(\"% val: \",  n_val/n_total)\n",
    "print(\"% test: \", n_test/n_total)\n",
    "print(\"% train + val + test: \", (n_train+n_val+n_test)/n_total)\n",
    "print(\"\\n\")\n",
    "print(\"number of train hamiltonians: \", n_train_hamiltonians)\n",
    "print(\"number of val hamiltonians: \", n_val_hamiltonians)\n",
    "print(\"number of test hamiltonians: \", n_test_hamiltonians)\n",
    "print(\"total number of hamiltonians: \", n_total_hamiltonians)\n",
    "print(\"\\n\")\n",
    "print(\"train ids: \", simulation.train_ids)\n",
    "print(\"val ids: \", simulation.val_ids)\n",
    "print(\"test ids: \", simulation.test_ids)"
   ]
  },
  {
   "cell_type": "markdown",
   "metadata": {
    "papermill": {
     "duration": 0.039241,
     "end_time": "2020-07-18T08:38:41.387297",
     "exception": false,
     "start_time": "2020-07-18T08:38:41.348056",
     "status": "completed"
    },
    "tags": []
   },
   "source": [
    "#### Checking summaries"
   ]
  },
  {
   "cell_type": "code",
   "execution_count": 31,
   "metadata": {
    "execution": {
     "iopub.execute_input": "2020-07-18T08:38:41.461896Z",
     "iopub.status.busy": "2020-07-18T08:38:41.461585Z",
     "iopub.status.idle": "2020-07-18T08:38:41.481336Z",
     "shell.execute_reply": "2020-07-18T08:38:41.481018Z"
    },
    "papermill": {
     "duration": 0.057918,
     "end_time": "2020-07-18T08:38:41.481388",
     "exception": false,
     "start_time": "2020-07-18T08:38:41.423470",
     "status": "completed"
    },
    "tags": []
   },
   "outputs": [
    {
     "name": "stdout",
     "output_type": "stream",
     "text": [
      "length of ham_summary:  6561\n",
      "CPU times: user 117 µs, sys: 0 ns, total: 117 µs\n",
      "Wall time: 86.1 µs\n"
     ]
    },
    {
     "data": {
      "text/html": [
       "<div>\n",
       "<style scoped>\n",
       "    .dataframe tbody tr th:only-of-type {\n",
       "        vertical-align: middle;\n",
       "    }\n",
       "\n",
       "    .dataframe tbody tr th {\n",
       "        vertical-align: top;\n",
       "    }\n",
       "\n",
       "    .dataframe thead th {\n",
       "        text-align: right;\n",
       "    }\n",
       "</style>\n",
       "<table border=\"1\" class=\"dataframe\">\n",
       "  <thead>\n",
       "    <tr style=\"text-align: right;\">\n",
       "      <th></th>\n",
       "      <th>t1</th>\n",
       "      <th>t2</th>\n",
       "      <th>type_of</th>\n",
       "      <th>-1</th>\n",
       "      <th>0</th>\n",
       "      <th>1</th>\n",
       "      <th>2</th>\n",
       "      <th>phase</th>\n",
       "      <th>pred_phase</th>\n",
       "    </tr>\n",
       "    <tr>\n",
       "      <th>id</th>\n",
       "      <th></th>\n",
       "      <th></th>\n",
       "      <th></th>\n",
       "      <th></th>\n",
       "      <th></th>\n",
       "      <th></th>\n",
       "      <th></th>\n",
       "      <th></th>\n",
       "      <th></th>\n",
       "    </tr>\n",
       "  </thead>\n",
       "  <tbody>\n",
       "    <tr>\n",
       "      <th>0</th>\n",
       "      <td>-2.0</td>\n",
       "      <td>-2.00</td>\n",
       "      <td>test</td>\n",
       "      <td>0.11</td>\n",
       "      <td>0.45</td>\n",
       "      <td>0.18</td>\n",
       "      <td>0.26</td>\n",
       "      <td>999</td>\n",
       "      <td>0</td>\n",
       "    </tr>\n",
       "    <tr>\n",
       "      <th>1</th>\n",
       "      <td>-2.0</td>\n",
       "      <td>-1.95</td>\n",
       "      <td>test</td>\n",
       "      <td>0.09</td>\n",
       "      <td>0.45</td>\n",
       "      <td>0.25</td>\n",
       "      <td>0.21</td>\n",
       "      <td>-1</td>\n",
       "      <td>0</td>\n",
       "    </tr>\n",
       "    <tr>\n",
       "      <th>2</th>\n",
       "      <td>-2.0</td>\n",
       "      <td>-1.90</td>\n",
       "      <td>test</td>\n",
       "      <td>0.16</td>\n",
       "      <td>0.38</td>\n",
       "      <td>0.28</td>\n",
       "      <td>0.18</td>\n",
       "      <td>-1</td>\n",
       "      <td>0</td>\n",
       "    </tr>\n",
       "    <tr>\n",
       "      <th>3</th>\n",
       "      <td>-2.0</td>\n",
       "      <td>-1.85</td>\n",
       "      <td>test</td>\n",
       "      <td>0.19</td>\n",
       "      <td>0.38</td>\n",
       "      <td>0.26</td>\n",
       "      <td>0.17</td>\n",
       "      <td>-1</td>\n",
       "      <td>0</td>\n",
       "    </tr>\n",
       "    <tr>\n",
       "      <th>4</th>\n",
       "      <td>-2.0</td>\n",
       "      <td>-1.80</td>\n",
       "      <td>test</td>\n",
       "      <td>0.19</td>\n",
       "      <td>0.40</td>\n",
       "      <td>0.23</td>\n",
       "      <td>0.18</td>\n",
       "      <td>-1</td>\n",
       "      <td>0</td>\n",
       "    </tr>\n",
       "    <tr>\n",
       "      <th>...</th>\n",
       "      <td>...</td>\n",
       "      <td>...</td>\n",
       "      <td>...</td>\n",
       "      <td>...</td>\n",
       "      <td>...</td>\n",
       "      <td>...</td>\n",
       "      <td>...</td>\n",
       "      <td>...</td>\n",
       "      <td>...</td>\n",
       "    </tr>\n",
       "    <tr>\n",
       "      <th>6556</th>\n",
       "      <td>2.0</td>\n",
       "      <td>1.80</td>\n",
       "      <td>test</td>\n",
       "      <td>0.45</td>\n",
       "      <td>0.11</td>\n",
       "      <td>0.04</td>\n",
       "      <td>0.40</td>\n",
       "      <td>-1</td>\n",
       "      <td>-1</td>\n",
       "    </tr>\n",
       "    <tr>\n",
       "      <th>6557</th>\n",
       "      <td>2.0</td>\n",
       "      <td>1.85</td>\n",
       "      <td>test</td>\n",
       "      <td>0.39</td>\n",
       "      <td>0.20</td>\n",
       "      <td>0.03</td>\n",
       "      <td>0.38</td>\n",
       "      <td>-1</td>\n",
       "      <td>-1</td>\n",
       "    </tr>\n",
       "    <tr>\n",
       "      <th>6558</th>\n",
       "      <td>2.0</td>\n",
       "      <td>1.90</td>\n",
       "      <td>test</td>\n",
       "      <td>0.29</td>\n",
       "      <td>0.27</td>\n",
       "      <td>0.05</td>\n",
       "      <td>0.39</td>\n",
       "      <td>-1</td>\n",
       "      <td>2</td>\n",
       "    </tr>\n",
       "    <tr>\n",
       "      <th>6559</th>\n",
       "      <td>2.0</td>\n",
       "      <td>1.95</td>\n",
       "      <td>test</td>\n",
       "      <td>0.20</td>\n",
       "      <td>0.21</td>\n",
       "      <td>0.09</td>\n",
       "      <td>0.50</td>\n",
       "      <td>-1</td>\n",
       "      <td>2</td>\n",
       "    </tr>\n",
       "    <tr>\n",
       "      <th>6560</th>\n",
       "      <td>2.0</td>\n",
       "      <td>2.00</td>\n",
       "      <td>test</td>\n",
       "      <td>0.23</td>\n",
       "      <td>0.21</td>\n",
       "      <td>0.06</td>\n",
       "      <td>0.50</td>\n",
       "      <td>999</td>\n",
       "      <td>2</td>\n",
       "    </tr>\n",
       "  </tbody>\n",
       "</table>\n",
       "<p>6561 rows × 9 columns</p>\n",
       "</div>"
      ],
      "text/plain": [
       "       t1    t2 type_of    -1     0     1     2  phase  pred_phase\n",
       "id                                                                \n",
       "0    -2.0 -2.00    test  0.11  0.45  0.18  0.26    999           0\n",
       "1    -2.0 -1.95    test  0.09  0.45  0.25  0.21     -1           0\n",
       "2    -2.0 -1.90    test  0.16  0.38  0.28  0.18     -1           0\n",
       "3    -2.0 -1.85    test  0.19  0.38  0.26  0.17     -1           0\n",
       "4    -2.0 -1.80    test  0.19  0.40  0.23  0.18     -1           0\n",
       "...   ...   ...     ...   ...   ...   ...   ...    ...         ...\n",
       "6556  2.0  1.80    test  0.45  0.11  0.04  0.40     -1          -1\n",
       "6557  2.0  1.85    test  0.39  0.20  0.03  0.38     -1          -1\n",
       "6558  2.0  1.90    test  0.29  0.27  0.05  0.39     -1           2\n",
       "6559  2.0  1.95    test  0.20  0.21  0.09  0.50     -1           2\n",
       "6560  2.0  2.00    test  0.23  0.21  0.06  0.50    999           2\n",
       "\n",
       "[6561 rows x 9 columns]"
      ]
     },
     "execution_count": 31,
     "metadata": {},
     "output_type": "execute_result"
    }
   ],
   "source": [
    "%%time\n",
    "ham_summary = simulation.hamiltonian_summary\n",
    "print(\"length of ham_summary: \", len(ham_summary))\n",
    "ham_summary"
   ]
  },
  {
   "cell_type": "code",
   "execution_count": 32,
   "metadata": {
    "execution": {
     "iopub.execute_input": "2020-07-18T08:38:41.562127Z",
     "iopub.status.busy": "2020-07-18T08:38:41.561817Z",
     "iopub.status.idle": "2020-07-18T08:38:41.593157Z",
     "shell.execute_reply": "2020-07-18T08:38:41.592838Z"
    },
    "papermill": {
     "duration": 0.074387,
     "end_time": "2020-07-18T08:38:41.593208",
     "exception": false,
     "start_time": "2020-07-18T08:38:41.518821",
     "status": "completed"
    },
    "tags": []
   },
   "outputs": [
    {
     "data": {
      "text/html": [
       "<div>\n",
       "<style scoped>\n",
       "    .dataframe tbody tr th:only-of-type {\n",
       "        vertical-align: middle;\n",
       "    }\n",
       "\n",
       "    .dataframe tbody tr th {\n",
       "        vertical-align: top;\n",
       "    }\n",
       "\n",
       "    .dataframe thead th {\n",
       "        text-align: right;\n",
       "    }\n",
       "</style>\n",
       "<table border=\"1\" class=\"dataframe\">\n",
       "  <thead>\n",
       "    <tr style=\"text-align: right;\">\n",
       "      <th></th>\n",
       "      <th>t1</th>\n",
       "      <th>t2</th>\n",
       "      <th>-1</th>\n",
       "      <th>0</th>\n",
       "      <th>1</th>\n",
       "      <th>2</th>\n",
       "      <th>phase</th>\n",
       "      <th>pred_phase</th>\n",
       "    </tr>\n",
       "  </thead>\n",
       "  <tbody>\n",
       "    <tr>\n",
       "      <th>count</th>\n",
       "      <td>6561.000000</td>\n",
       "      <td>6.561000e+03</td>\n",
       "      <td>6561.000000</td>\n",
       "      <td>6561.000000</td>\n",
       "      <td>6561.000000</td>\n",
       "      <td>6561.000000</td>\n",
       "      <td>6561.000000</td>\n",
       "      <td>6561.000000</td>\n",
       "    </tr>\n",
       "    <tr>\n",
       "      <th>mean</th>\n",
       "      <td>0.000000</td>\n",
       "      <td>-4.331917e-18</td>\n",
       "      <td>0.196575</td>\n",
       "      <td>0.309838</td>\n",
       "      <td>0.304208</td>\n",
       "      <td>0.189378</td>\n",
       "      <td>28.045877</td>\n",
       "      <td>0.488645</td>\n",
       "    </tr>\n",
       "    <tr>\n",
       "      <th>std</th>\n",
       "      <td>1.169134</td>\n",
       "      <td>1.169134e+00</td>\n",
       "      <td>0.369399</td>\n",
       "      <td>0.437925</td>\n",
       "      <td>0.439670</td>\n",
       "      <td>0.363916</td>\n",
       "      <td>163.557011</td>\n",
       "      <td>1.020477</td>\n",
       "    </tr>\n",
       "    <tr>\n",
       "      <th>min</th>\n",
       "      <td>-2.000000</td>\n",
       "      <td>-2.000000e+00</td>\n",
       "      <td>0.000000</td>\n",
       "      <td>0.000000</td>\n",
       "      <td>0.000000</td>\n",
       "      <td>0.000000</td>\n",
       "      <td>-1.000000</td>\n",
       "      <td>-1.000000</td>\n",
       "    </tr>\n",
       "    <tr>\n",
       "      <th>25%</th>\n",
       "      <td>-1.000000</td>\n",
       "      <td>-1.000000e+00</td>\n",
       "      <td>0.000000</td>\n",
       "      <td>0.000000</td>\n",
       "      <td>0.000000</td>\n",
       "      <td>0.000000</td>\n",
       "      <td>0.000000</td>\n",
       "      <td>0.000000</td>\n",
       "    </tr>\n",
       "    <tr>\n",
       "      <th>50%</th>\n",
       "      <td>0.000000</td>\n",
       "      <td>0.000000e+00</td>\n",
       "      <td>0.000000</td>\n",
       "      <td>0.000000</td>\n",
       "      <td>0.000000</td>\n",
       "      <td>0.000000</td>\n",
       "      <td>1.000000</td>\n",
       "      <td>0.000000</td>\n",
       "    </tr>\n",
       "    <tr>\n",
       "      <th>75%</th>\n",
       "      <td>1.000000</td>\n",
       "      <td>1.000000e+00</td>\n",
       "      <td>0.100000</td>\n",
       "      <td>0.980000</td>\n",
       "      <td>0.980000</td>\n",
       "      <td>0.060000</td>\n",
       "      <td>1.000000</td>\n",
       "      <td>1.000000</td>\n",
       "    </tr>\n",
       "    <tr>\n",
       "      <th>max</th>\n",
       "      <td>2.000000</td>\n",
       "      <td>2.000000e+00</td>\n",
       "      <td>1.000000</td>\n",
       "      <td>1.000000</td>\n",
       "      <td>1.000000</td>\n",
       "      <td>1.000000</td>\n",
       "      <td>999.000000</td>\n",
       "      <td>2.000000</td>\n",
       "    </tr>\n",
       "  </tbody>\n",
       "</table>\n",
       "</div>"
      ],
      "text/plain": [
       "                t1            t2           -1            0            1  \\\n",
       "count  6561.000000  6.561000e+03  6561.000000  6561.000000  6561.000000   \n",
       "mean      0.000000 -4.331917e-18     0.196575     0.309838     0.304208   \n",
       "std       1.169134  1.169134e+00     0.369399     0.437925     0.439670   \n",
       "min      -2.000000 -2.000000e+00     0.000000     0.000000     0.000000   \n",
       "25%      -1.000000 -1.000000e+00     0.000000     0.000000     0.000000   \n",
       "50%       0.000000  0.000000e+00     0.000000     0.000000     0.000000   \n",
       "75%       1.000000  1.000000e+00     0.100000     0.980000     0.980000   \n",
       "max       2.000000  2.000000e+00     1.000000     1.000000     1.000000   \n",
       "\n",
       "                 2        phase   pred_phase  \n",
       "count  6561.000000  6561.000000  6561.000000  \n",
       "mean      0.189378    28.045877     0.488645  \n",
       "std       0.363916   163.557011     1.020477  \n",
       "min       0.000000    -1.000000    -1.000000  \n",
       "25%       0.000000     0.000000     0.000000  \n",
       "50%       0.000000     1.000000     0.000000  \n",
       "75%       0.060000     1.000000     1.000000  \n",
       "max       1.000000   999.000000     2.000000  "
      ]
     },
     "execution_count": 32,
     "metadata": {},
     "output_type": "execute_result"
    }
   ],
   "source": [
    "ham_summary.describe()"
   ]
  },
  {
   "cell_type": "code",
   "execution_count": 33,
   "metadata": {
    "execution": {
     "iopub.execute_input": "2020-07-18T08:38:41.673168Z",
     "iopub.status.busy": "2020-07-18T08:38:41.672852Z",
     "iopub.status.idle": "2020-07-18T08:38:41.687491Z",
     "shell.execute_reply": "2020-07-18T08:38:41.687175Z"
    },
    "papermill": {
     "duration": 0.056616,
     "end_time": "2020-07-18T08:38:41.687541",
     "exception": false,
     "start_time": "2020-07-18T08:38:41.630925",
     "status": "completed"
    },
    "tags": []
   },
   "outputs": [
    {
     "name": "stdout",
     "output_type": "stream",
     "text": [
      "length of ham_summary:  656100\n"
     ]
    },
    {
     "data": {
      "text/html": [
       "<div>\n",
       "<style scoped>\n",
       "    .dataframe tbody tr th:only-of-type {\n",
       "        vertical-align: middle;\n",
       "    }\n",
       "\n",
       "    .dataframe tbody tr th {\n",
       "        vertical-align: top;\n",
       "    }\n",
       "\n",
       "    .dataframe thead th {\n",
       "        text-align: right;\n",
       "    }\n",
       "</style>\n",
       "<table border=\"1\" class=\"dataframe\">\n",
       "  <thead>\n",
       "    <tr style=\"text-align: right;\">\n",
       "      <th></th>\n",
       "      <th>id</th>\n",
       "      <th>phase</th>\n",
       "      <th>pred_phase</th>\n",
       "      <th>type_of</th>\n",
       "    </tr>\n",
       "  </thead>\n",
       "  <tbody>\n",
       "    <tr>\n",
       "      <th>0</th>\n",
       "      <td>0</td>\n",
       "      <td>999</td>\n",
       "      <td>-1</td>\n",
       "      <td>test</td>\n",
       "    </tr>\n",
       "    <tr>\n",
       "      <th>1</th>\n",
       "      <td>0</td>\n",
       "      <td>999</td>\n",
       "      <td>2</td>\n",
       "      <td>test</td>\n",
       "    </tr>\n",
       "    <tr>\n",
       "      <th>2</th>\n",
       "      <td>0</td>\n",
       "      <td>999</td>\n",
       "      <td>1</td>\n",
       "      <td>test</td>\n",
       "    </tr>\n",
       "    <tr>\n",
       "      <th>3</th>\n",
       "      <td>0</td>\n",
       "      <td>999</td>\n",
       "      <td>1</td>\n",
       "      <td>test</td>\n",
       "    </tr>\n",
       "    <tr>\n",
       "      <th>4</th>\n",
       "      <td>0</td>\n",
       "      <td>999</td>\n",
       "      <td>2</td>\n",
       "      <td>test</td>\n",
       "    </tr>\n",
       "    <tr>\n",
       "      <th>...</th>\n",
       "      <td>...</td>\n",
       "      <td>...</td>\n",
       "      <td>...</td>\n",
       "      <td>...</td>\n",
       "    </tr>\n",
       "    <tr>\n",
       "      <th>656095</th>\n",
       "      <td>6560</td>\n",
       "      <td>999</td>\n",
       "      <td>2</td>\n",
       "      <td>test</td>\n",
       "    </tr>\n",
       "    <tr>\n",
       "      <th>656096</th>\n",
       "      <td>6560</td>\n",
       "      <td>999</td>\n",
       "      <td>-1</td>\n",
       "      <td>test</td>\n",
       "    </tr>\n",
       "    <tr>\n",
       "      <th>656097</th>\n",
       "      <td>6560</td>\n",
       "      <td>999</td>\n",
       "      <td>-1</td>\n",
       "      <td>test</td>\n",
       "    </tr>\n",
       "    <tr>\n",
       "      <th>656098</th>\n",
       "      <td>6560</td>\n",
       "      <td>999</td>\n",
       "      <td>-1</td>\n",
       "      <td>test</td>\n",
       "    </tr>\n",
       "    <tr>\n",
       "      <th>656099</th>\n",
       "      <td>6560</td>\n",
       "      <td>999</td>\n",
       "      <td>0</td>\n",
       "      <td>test</td>\n",
       "    </tr>\n",
       "  </tbody>\n",
       "</table>\n",
       "<p>656100 rows × 4 columns</p>\n",
       "</div>"
      ],
      "text/plain": [
       "          id  phase  pred_phase type_of\n",
       "0          0    999          -1    test\n",
       "1          0    999           2    test\n",
       "2          0    999           1    test\n",
       "3          0    999           1    test\n",
       "4          0    999           2    test\n",
       "...      ...    ...         ...     ...\n",
       "656095  6560    999           2    test\n",
       "656096  6560    999          -1    test\n",
       "656097  6560    999          -1    test\n",
       "656098  6560    999          -1    test\n",
       "656099  6560    999           0    test\n",
       "\n",
       "[656100 rows x 4 columns]"
      ]
     },
     "execution_count": 33,
     "metadata": {},
     "output_type": "execute_result"
    }
   ],
   "source": [
    "eigen_summary = simulation.eigenvector_summary\n",
    "print(\"length of ham_summary: \", len(eigen_summary))\n",
    "eigen_summary"
   ]
  },
  {
   "cell_type": "markdown",
   "metadata": {
    "papermill": {
     "duration": 0.038609,
     "end_time": "2020-07-18T08:38:41.763725",
     "exception": false,
     "start_time": "2020-07-18T08:38:41.725116",
     "status": "completed"
    },
    "tags": []
   },
   "source": [
    "#### Checking accuracies"
   ]
  },
  {
   "cell_type": "code",
   "execution_count": 34,
   "metadata": {
    "execution": {
     "iopub.execute_input": "2020-07-18T08:38:41.846752Z",
     "iopub.status.busy": "2020-07-18T08:38:41.846438Z",
     "iopub.status.idle": "2020-07-18T08:38:41.856751Z",
     "shell.execute_reply": "2020-07-18T08:38:41.856434Z"
    },
    "papermill": {
     "duration": 0.05403,
     "end_time": "2020-07-18T08:38:41.856803",
     "exception": false,
     "start_time": "2020-07-18T08:38:41.802773",
     "status": "completed"
    },
    "tags": []
   },
   "outputs": [
    {
     "data": {
      "text/plain": [
       "{'eigenvector_train': 0.9996160811300253,\n",
       " 'eigenvector_val': 0.9767355072463768,\n",
       " 'eigenvector_test': 0.6970663562281723,\n",
       " 'hamiltonian_train': 1.0,\n",
       " 'hamiltonian_val': 0.9992753623188406,\n",
       " 'hamiltonian_test': 0.8952270081490105}"
      ]
     },
     "execution_count": 34,
     "metadata": {},
     "output_type": "execute_result"
    }
   ],
   "source": [
    "simulation.accuracy"
   ]
  },
  {
   "cell_type": "markdown",
   "metadata": {
    "papermill": {
     "duration": 0.037632,
     "end_time": "2020-07-18T08:38:41.932196",
     "exception": false,
     "start_time": "2020-07-18T08:38:41.894564",
     "status": "completed"
    },
    "tags": []
   },
   "source": [
    "#### Checking data stored in  memory"
   ]
  },
  {
   "cell_type": "code",
   "execution_count": 35,
   "metadata": {
    "execution": {
     "iopub.execute_input": "2020-07-18T08:38:42.013265Z",
     "iopub.status.busy": "2020-07-18T08:38:42.012952Z",
     "iopub.status.idle": "2020-07-18T08:38:42.023442Z",
     "shell.execute_reply": "2020-07-18T08:38:42.023117Z"
    },
    "papermill": {
     "duration": 0.052805,
     "end_time": "2020-07-18T08:38:42.023492",
     "exception": false,
     "start_time": "2020-07-18T08:38:41.970687",
     "status": "completed"
    },
    "tags": []
   },
   "outputs": [
    {
     "data": {
      "text/plain": [
       "[]"
      ]
     },
     "execution_count": 35,
     "metadata": {},
     "output_type": "execute_result"
    }
   ],
   "source": [
    "ham_summary_list = simulation.hamiltonian_summary_list\n",
    "ham_summary_list"
   ]
  },
  {
   "cell_type": "code",
   "execution_count": 36,
   "metadata": {
    "execution": {
     "iopub.execute_input": "2020-07-18T08:38:42.101186Z",
     "iopub.status.busy": "2020-07-18T08:38:42.100874Z",
     "iopub.status.idle": "2020-07-18T08:38:42.111234Z",
     "shell.execute_reply": "2020-07-18T08:38:42.110915Z"
    },
    "papermill": {
     "duration": 0.049861,
     "end_time": "2020-07-18T08:38:42.111285",
     "exception": false,
     "start_time": "2020-07-18T08:38:42.061424",
     "status": "completed"
    },
    "tags": []
   },
   "outputs": [
    {
     "data": {
      "text/plain": [
       "[]"
      ]
     },
     "execution_count": 36,
     "metadata": {},
     "output_type": "execute_result"
    }
   ],
   "source": [
    "eigen_summary_list = simulation.eigenvector_summary_list\n",
    "eigen_summary_list"
   ]
  },
  {
   "cell_type": "code",
   "execution_count": 37,
   "metadata": {
    "execution": {
     "iopub.execute_input": "2020-07-18T08:38:42.191253Z",
     "iopub.status.busy": "2020-07-18T08:38:42.190924Z",
     "iopub.status.idle": "2020-07-18T08:38:42.201041Z",
     "shell.execute_reply": "2020-07-18T08:38:42.201346Z"
    },
    "papermill": {
     "duration": 0.050948,
     "end_time": "2020-07-18T08:38:42.201411",
     "exception": false,
     "start_time": "2020-07-18T08:38:42.150463",
     "status": "completed"
    },
    "tags": []
   },
   "outputs": [
    {
     "data": {
      "text/plain": [
       "{'eigenvector_train': [],\n",
       " 'eigenvector_val': [],\n",
       " 'eigenvector_test': [],\n",
       " 'hamiltonian_train': [],\n",
       " 'hamiltonian_val': [],\n",
       " 'hamiltonian_test': []}"
      ]
     },
     "execution_count": 37,
     "metadata": {},
     "output_type": "execute_result"
    }
   ],
   "source": [
    "accuracy_list = simulation.accuracy_list\n",
    "accuracy_list"
   ]
  },
  {
   "cell_type": "code",
   "execution_count": null,
   "metadata": {
    "papermill": {
     "duration": 0.038213,
     "end_time": "2020-07-18T08:38:42.278131",
     "exception": false,
     "start_time": "2020-07-18T08:38:42.239918",
     "status": "completed"
    },
    "tags": []
   },
   "outputs": [],
   "source": []
  },
  {
   "cell_type": "code",
   "execution_count": null,
   "metadata": {
    "papermill": {
     "duration": 0.038835,
     "end_time": "2020-07-18T08:38:42.355962",
     "exception": false,
     "start_time": "2020-07-18T08:38:42.317127",
     "status": "completed"
    },
    "tags": []
   },
   "outputs": [],
   "source": []
  },
  {
   "cell_type": "code",
   "execution_count": 38,
   "metadata": {
    "execution": {
     "iopub.execute_input": "2020-07-18T08:38:42.434900Z",
     "iopub.status.busy": "2020-07-18T08:38:42.434588Z",
     "iopub.status.idle": "2020-07-18T08:38:42.444212Z",
     "shell.execute_reply": "2020-07-18T08:38:42.443886Z"
    },
    "papermill": {
     "duration": 0.049662,
     "end_time": "2020-07-18T08:38:42.444264",
     "exception": false,
     "start_time": "2020-07-18T08:38:42.394602",
     "status": "completed"
    },
    "tags": []
   },
   "outputs": [],
   "source": [
    "#simulation.fourier_matrix"
   ]
  },
  {
   "cell_type": "code",
   "execution_count": 39,
   "metadata": {
    "execution": {
     "iopub.execute_input": "2020-07-18T08:38:42.524421Z",
     "iopub.status.busy": "2020-07-18T08:38:42.524087Z",
     "iopub.status.idle": "2020-07-18T08:38:42.533991Z",
     "shell.execute_reply": "2020-07-18T08:38:42.533656Z"
    },
    "papermill": {
     "duration": 0.050363,
     "end_time": "2020-07-18T08:38:42.534044",
     "exception": false,
     "start_time": "2020-07-18T08:38:42.483681",
     "status": "completed"
    },
    "tags": []
   },
   "outputs": [],
   "source": [
    "#simulation.fourier_matrix.shape"
   ]
  },
  {
   "cell_type": "code",
   "execution_count": 40,
   "metadata": {
    "execution": {
     "iopub.execute_input": "2020-07-18T08:38:42.613933Z",
     "iopub.status.busy": "2020-07-18T08:38:42.613622Z",
     "iopub.status.idle": "2020-07-18T08:38:42.623156Z",
     "shell.execute_reply": "2020-07-18T08:38:42.623410Z"
    },
    "papermill": {
     "duration": 0.049872,
     "end_time": "2020-07-18T08:38:42.623478",
     "exception": false,
     "start_time": "2020-07-18T08:38:42.573606",
     "status": "completed"
    },
    "tags": []
   },
   "outputs": [],
   "source": [
    "#simulation.fourier_matrix[:,0]"
   ]
  },
  {
   "cell_type": "code",
   "execution_count": 41,
   "metadata": {
    "execution": {
     "iopub.execute_input": "2020-07-18T08:38:42.703529Z",
     "iopub.status.busy": "2020-07-18T08:38:42.703202Z",
     "iopub.status.idle": "2020-07-18T08:38:42.712884Z",
     "shell.execute_reply": "2020-07-18T08:38:42.712553Z"
    },
    "papermill": {
     "duration": 0.05014,
     "end_time": "2020-07-18T08:38:42.712936",
     "exception": false,
     "start_time": "2020-07-18T08:38:42.662796",
     "status": "completed"
    },
    "tags": []
   },
   "outputs": [],
   "source": [
    "#simulation.fourier_matrix[:,1]"
   ]
  },
  {
   "cell_type": "code",
   "execution_count": 42,
   "metadata": {
    "execution": {
     "iopub.execute_input": "2020-07-18T08:38:42.794003Z",
     "iopub.status.busy": "2020-07-18T08:38:42.793692Z",
     "iopub.status.idle": "2020-07-18T08:38:42.803290Z",
     "shell.execute_reply": "2020-07-18T08:38:42.802963Z"
    },
    "papermill": {
     "duration": 0.049942,
     "end_time": "2020-07-18T08:38:42.803341",
     "exception": false,
     "start_time": "2020-07-18T08:38:42.753399",
     "status": "completed"
    },
    "tags": []
   },
   "outputs": [],
   "source": [
    "#np.exp(-1j*2*np.pi*3/100)"
   ]
  },
  {
   "cell_type": "code",
   "execution_count": 43,
   "metadata": {
    "execution": {
     "iopub.execute_input": "2020-07-18T08:38:42.884409Z",
     "iopub.status.busy": "2020-07-18T08:38:42.883845Z",
     "iopub.status.idle": "2020-07-18T08:38:42.893445Z",
     "shell.execute_reply": "2020-07-18T08:38:42.893764Z"
    },
    "papermill": {
     "duration": 0.050983,
     "end_time": "2020-07-18T08:38:42.893831",
     "exception": false,
     "start_time": "2020-07-18T08:38:42.842848",
     "status": "completed"
    },
    "tags": []
   },
   "outputs": [],
   "source": [
    "#for i in range(1,50):\n",
    "#    print(\"\\n\")\n",
    "#    print(i)\n",
    "#    print(np.sum((np.real(simulation.fourier_matrix[:,i]) - np.real(simulation.fourier_matrix[:,-i]))**2))\n",
    "#    print(np.sum((np.imag(simulation.fourier_matrix[:,i])+ np.imag(simulation.fourier_matrix[:,-i]))**2))"
   ]
  },
  {
   "cell_type": "code",
   "execution_count": 44,
   "metadata": {
    "execution": {
     "iopub.execute_input": "2020-07-18T08:38:42.974169Z",
     "iopub.status.busy": "2020-07-18T08:38:42.973860Z",
     "iopub.status.idle": "2020-07-18T08:38:42.999745Z",
     "shell.execute_reply": "2020-07-18T08:38:43.001181Z"
    },
    "papermill": {
     "duration": 0.068737,
     "end_time": "2020-07-18T08:38:43.001489",
     "exception": false,
     "start_time": "2020-07-18T08:38:42.932752",
     "status": "completed"
    },
    "tags": []
   },
   "outputs": [],
   "source": [
    "#print(simulation.fourier_matrix[:,0])"
   ]
  },
  {
   "cell_type": "code",
   "execution_count": 45,
   "metadata": {
    "execution": {
     "iopub.execute_input": "2020-07-18T08:38:43.112930Z",
     "iopub.status.busy": "2020-07-18T08:38:43.112616Z",
     "iopub.status.idle": "2020-07-18T08:38:43.121833Z",
     "shell.execute_reply": "2020-07-18T08:38:43.122088Z"
    },
    "papermill": {
     "duration": 0.050303,
     "end_time": "2020-07-18T08:38:43.122157",
     "exception": false,
     "start_time": "2020-07-18T08:38:43.071854",
     "status": "completed"
    },
    "tags": []
   },
   "outputs": [],
   "source": [
    "#print(simulation.fourier_matrix[:,50])"
   ]
  },
  {
   "cell_type": "code",
   "execution_count": null,
   "metadata": {
    "papermill": {
     "duration": 0.038437,
     "end_time": "2020-07-18T08:38:43.199013",
     "exception": false,
     "start_time": "2020-07-18T08:38:43.160576",
     "status": "completed"
    },
    "tags": []
   },
   "outputs": [],
   "source": []
  }
 ],
 "metadata": {
  "celltoolbar": "Tags",
  "kernelspec": {
   "display_name": "ml_top_phases",
   "language": "python",
   "name": "ml_top_phases"
  },
  "language_info": {
   "codemirror_mode": {
    "name": "ipython",
    "version": 3
   },
   "file_extension": ".py",
   "mimetype": "text/x-python",
   "name": "python",
   "nbconvert_exporter": "python",
   "pygments_lexer": "ipython3",
   "version": "3.6.10"
  },
  "papermill": {
   "duration": 3799.459366,
   "end_time": "2020-07-18T08:38:43.350626",
   "environment_variables": {},
   "exception": null,
   "input_path": "0_simulation_template.ipynb",
   "output_path": "zzz_ssh2_dct_all_wavevector_sites_simulation_notebook.ipynb",
   "parameters": {
    "allowed_windings": [
     -1,
     0,
     1,
     2
    ],
    "csv_path": "/home/rio/ssh_csvs/ssh2/periodic_100_6561.csv",
    "features_to_use": null,
    "fit_params": null,
    "fourier_features_to_use": null,
    "fourier_fillna": false,
    "fourier_mode": "dct",
    "fourier_normalize": false,
    "fourier_real": null,
    "model_kw": {
     "criterion": "entropy",
     "n_estimators": 25,
     "n_jobs": -1
    },
    "model_name": "RandomForestClassifier",
    "n_experiments": 100,
    "pred_params": null,
    "random_features": false,
    "random_state": 2015,
    "save_accuracy": true,
    "save_eigenvector": true,
    "save_hamiltonian": true,
    "save_models": true,
    "shuffle_features": false,
    "shuffle_rows": true,
    "simulation_dir": "/home/rio/ssh_simulations/ssh2/periodic_100_6561/dct_all_wavevector_sites",
    "start_n": 0,
    "store_in_lists": false,
    "val_split": 0.5
   },
   "start_time": "2020-07-18T07:35:23.891260",
   "version": "2.1.0"
  }
 },
 "nbformat": 4,
 "nbformat_minor": 2
}