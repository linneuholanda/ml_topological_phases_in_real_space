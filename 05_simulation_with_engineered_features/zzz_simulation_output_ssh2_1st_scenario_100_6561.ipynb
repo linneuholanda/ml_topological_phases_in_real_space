{
 "cells": [
  {
   "cell_type": "markdown",
   "metadata": {
    "papermill": {
     "duration": 0.019078,
     "end_time": "2020-07-09T09:51:14.234465",
     "exception": false,
     "start_time": "2020-07-09T09:51:14.215387",
     "status": "completed"
    },
    "tags": []
   },
   "source": [
    "# Simulation template \n",
    "\n",
    "In this notebook we run the machine learning analysis of topological phase transitions occurring  in both nearest-neighbours SSH models (ssh1) and second neighbours models (ssh2) as decribed in the paper [Machine learning topological phases in real space](https://arxiv.org/abs/1901.01963). Here the simulation is run with features generated from fourier components in the first scenario. This scenario is characterized by using only the EVEN wavevector space eigenmodes, computed from ALL real space components."
   ]
  },
  {
   "cell_type": "markdown",
   "metadata": {
    "papermill": {
     "duration": 0.014945,
     "end_time": "2020-07-09T09:51:14.265045",
     "exception": false,
     "start_time": "2020-07-09T09:51:14.250100",
     "status": "completed"
    },
    "tags": []
   },
   "source": [
    "## Defining parameters"
   ]
  },
  {
   "cell_type": "code",
   "execution_count": 1,
   "metadata": {
    "execution": {
     "iopub.execute_input": "2020-07-09T09:51:14.298708Z",
     "iopub.status.busy": "2020-07-09T09:51:14.298374Z",
     "iopub.status.idle": "2020-07-09T09:51:14.873846Z",
     "shell.execute_reply": "2020-07-09T09:51:14.874148Z"
    },
    "papermill": {
     "duration": 0.59358,
     "end_time": "2020-07-09T09:51:14.874222",
     "exception": false,
     "start_time": "2020-07-09T09:51:14.280642",
     "status": "completed"
    },
    "tags": []
   },
   "outputs": [
    {
     "name": "stdout",
     "output_type": "stream",
     "text": [
      "CPU times: user 768 ms, sys: 248 ms, total: 1.02 s\n",
      "Wall time: 569 ms\n"
     ]
    }
   ],
   "source": [
    "%%time\n",
    "%load_ext autoreload\n",
    "%autoreload 2\n",
    "from simulation import *"
   ]
  },
  {
   "cell_type": "code",
   "execution_count": 2,
   "metadata": {
    "execution": {
     "iopub.execute_input": "2020-07-09T09:51:14.907762Z",
     "iopub.status.busy": "2020-07-09T09:51:14.907406Z",
     "iopub.status.idle": "2020-07-09T09:51:14.917636Z",
     "shell.execute_reply": "2020-07-09T09:51:14.917935Z"
    },
    "papermill": {
     "duration": 0.027787,
     "end_time": "2020-07-09T09:51:14.918004",
     "exception": false,
     "start_time": "2020-07-09T09:51:14.890217",
     "status": "completed"
    },
    "tags": [
     "parameters"
    ]
   },
   "outputs": [
    {
     "name": "stdout",
     "output_type": "stream",
     "text": [
      "CPU times: user 2 µs, sys: 0 ns, total: 2 µs\n",
      "Wall time: 4.53 µs\n"
     ]
    }
   ],
   "source": [
    "%%time\n",
    "### Dataset and simulation parameters\n",
    "#csv_path = SSH2_PERIODIC_100_6561_CSV \n",
    "csv_path = SSH1_PERIODIC_100_6561_CSV \n",
    "model_name = \"DecisionTreeClassifier\"\n",
    "model_kw = {\"criterion\":\"entropy\"}\n",
    "allowed_windings = [0,1]\n",
    "#allowed_windings = [-1,0,1,2]\n",
    "simulation_dir = SSH1_PERIODIC_1ST_SCENARIO_100_6561_SIMULATION_DIR\n",
    "#simulation_dir = SSH2_PERIODIC_ENGINEERED_100_6561_SIMULATION_DIR\n",
    "val_split = 0.9  \n",
    "features_to_use = None\n",
    "shuffle_features = False\n",
    "random_state = 763\n",
    "\n",
    "### Fourier features\n",
    "fourier_mode = \"dft\"\n",
    "fourier_features_to_use = None\n",
    "fourier_real = \"real\"\n",
    "fourier_normalize = True\n",
    "fourier_fillna = False\n",
    "\n",
    "### Running a simulation\n",
    "n_experiments = 5\n",
    "start_n = 0\n",
    "fit_params = None\n",
    "#mode=mode\n",
    "shuffle_rows = True\n",
    "pred_params = None\n",
    "random_features = False\n",
    "######### DON'T SET THIS TO TRUE UNLESS YOUR DATASET IS SMALL!! WILL FLOOD YOUR MEMORY!!!\n",
    "store_in_lists = False   \n",
    "########## BELOW ARE THE PARAMETERS THAT CONTROL WHAT WILL BE SAVED\n",
    "save_eigenvector=True\n",
    "save_hamiltonian=True \n",
    "save_accuracy=True \n",
    "save_models=True"
   ]
  },
  {
   "cell_type": "code",
   "execution_count": 3,
   "metadata": {
    "execution": {
     "iopub.execute_input": "2020-07-09T09:51:14.986682Z",
     "iopub.status.busy": "2020-07-09T09:51:14.986344Z",
     "iopub.status.idle": "2020-07-09T09:51:15.086492Z",
     "shell.execute_reply": "2020-07-09T09:51:15.088162Z"
    },
    "papermill": {
     "duration": 0.155296,
     "end_time": "2020-07-09T09:51:15.088493",
     "exception": false,
     "start_time": "2020-07-09T09:51:14.933197",
     "status": "completed"
    },
    "tags": [
     "injected-parameters"
    ]
   },
   "outputs": [],
   "source": [
    "# Parameters\n",
    "model_kw = {\"criterion\": \"entropy\", \"n_estimators\": 25, \"n_jobs\": -1}\n",
    "allowed_windings = [-1, 0, 1, 2]\n",
    "val_split = 0.5\n",
    "features_to_use = [0, 1, 2, 3, 4, 5, 6, 7, 46, 48, 49, 50]\n",
    "shuffle_features = False\n",
    "n_experiments = 100\n",
    "start_n = 0\n",
    "fit_params = None\n",
    "shuffle_rows = True\n",
    "pred_params = None\n",
    "random_features = False\n",
    "store_in_lists = False\n",
    "save_eigenvector = True\n",
    "save_hamiltonian = True\n",
    "save_accuracy = True\n",
    "save_models = True\n",
    "csv_path = \"/home/rio/ssh_csvs/ssh2/periodic_100_6561.csv\"\n",
    "model_name = \"RandomForestClassifier\"\n",
    "simulation_dir = \"/home/rio/ssh_simulations/ssh2/periodic_1st_scenario_100_6561\"\n",
    "random_state = 244854\n",
    "fourier_features_to_use = None\n",
    "fourier_mode = None\n",
    "fourier_real = None\n",
    "fourier_normalize = None\n",
    "fourier_fillna = None\n"
   ]
  },
  {
   "cell_type": "code",
   "execution_count": 4,
   "metadata": {
    "execution": {
     "iopub.execute_input": "2020-07-09T09:51:15.163774Z",
     "iopub.status.busy": "2020-07-09T09:51:15.163443Z",
     "iopub.status.idle": "2020-07-09T09:51:20.432060Z",
     "shell.execute_reply": "2020-07-09T09:51:20.431741Z"
    },
    "papermill": {
     "duration": 5.289602,
     "end_time": "2020-07-09T09:51:20.432110",
     "exception": false,
     "start_time": "2020-07-09T09:51:15.142508",
     "status": "completed"
    },
    "tags": []
   },
   "outputs": [
    {
     "name": "stdout",
     "output_type": "stream",
     "text": [
      "Info on all data: \n",
      "\n",
      "<class 'pandas.core.frame.DataFrame'>\n",
      "Int64Index: 656100 entries, 0 to 656099\n",
      "Columns: 108 entries, id to feat99\n",
      "dtypes: float64(103), int32(3), object(2)\n",
      "memory usage: 538.1+ MB\n",
      "CPU times: user 4.98 s, sys: 255 ms, total: 5.24 s\n",
      "Wall time: 5.24 s\n"
     ]
    },
    {
     "data": {
      "text/html": [
       "<div>\n",
       "<style scoped>\n",
       "    .dataframe tbody tr th:only-of-type {\n",
       "        vertical-align: middle;\n",
       "    }\n",
       "\n",
       "    .dataframe tbody tr th {\n",
       "        vertical-align: top;\n",
       "    }\n",
       "\n",
       "    .dataframe thead th {\n",
       "        text-align: right;\n",
       "    }\n",
       "</style>\n",
       "<table border=\"1\" class=\"dataframe\">\n",
       "  <thead>\n",
       "    <tr style=\"text-align: right;\">\n",
       "      <th></th>\n",
       "      <th>id</th>\n",
       "      <th>path</th>\n",
       "      <th>t1</th>\n",
       "      <th>t2</th>\n",
       "      <th>winding</th>\n",
       "      <th>phase</th>\n",
       "      <th>pred_phase</th>\n",
       "      <th>type_of</th>\n",
       "      <th>feat0</th>\n",
       "      <th>feat1</th>\n",
       "      <th>...</th>\n",
       "      <th>feat90</th>\n",
       "      <th>feat91</th>\n",
       "      <th>feat92</th>\n",
       "      <th>feat93</th>\n",
       "      <th>feat94</th>\n",
       "      <th>feat95</th>\n",
       "      <th>feat96</th>\n",
       "      <th>feat97</th>\n",
       "      <th>feat98</th>\n",
       "      <th>feat99</th>\n",
       "    </tr>\n",
       "  </thead>\n",
       "  <tbody>\n",
       "    <tr>\n",
       "      <th>0</th>\n",
       "      <td>0</td>\n",
       "      <td>H_-2_-2_0.501338.dat</td>\n",
       "      <td>-2.0</td>\n",
       "      <td>-2.0</td>\n",
       "      <td>0.501338</td>\n",
       "      <td>999</td>\n",
       "      <td>666</td>\n",
       "      <td>test</td>\n",
       "      <td>-0.130965</td>\n",
       "      <td>0.301130</td>\n",
       "      <td>...</td>\n",
       "      <td>-0.080279</td>\n",
       "      <td>-0.115687</td>\n",
       "      <td>-0.174988</td>\n",
       "      <td>0.245064</td>\n",
       "      <td>0.319763</td>\n",
       "      <td>-0.059082</td>\n",
       "      <td>-0.000556</td>\n",
       "      <td>-0.245133</td>\n",
       "      <td>-0.301130</td>\n",
       "      <td>0.130965</td>\n",
       "    </tr>\n",
       "    <tr>\n",
       "      <th>1</th>\n",
       "      <td>0</td>\n",
       "      <td>H_-2_-2_0.501338.dat</td>\n",
       "      <td>-2.0</td>\n",
       "      <td>-2.0</td>\n",
       "      <td>0.501338</td>\n",
       "      <td>999</td>\n",
       "      <td>666</td>\n",
       "      <td>test</td>\n",
       "      <td>-0.130965</td>\n",
       "      <td>-0.301130</td>\n",
       "      <td>...</td>\n",
       "      <td>-0.080279</td>\n",
       "      <td>0.115687</td>\n",
       "      <td>-0.174988</td>\n",
       "      <td>-0.245064</td>\n",
       "      <td>0.319763</td>\n",
       "      <td>0.059082</td>\n",
       "      <td>-0.000556</td>\n",
       "      <td>0.245133</td>\n",
       "      <td>-0.301130</td>\n",
       "      <td>-0.130965</td>\n",
       "    </tr>\n",
       "    <tr>\n",
       "      <th>2</th>\n",
       "      <td>0</td>\n",
       "      <td>H_-2_-2_0.501338.dat</td>\n",
       "      <td>-2.0</td>\n",
       "      <td>-2.0</td>\n",
       "      <td>0.501338</td>\n",
       "      <td>999</td>\n",
       "      <td>666</td>\n",
       "      <td>test</td>\n",
       "      <td>-0.148414</td>\n",
       "      <td>-0.042467</td>\n",
       "      <td>...</td>\n",
       "      <td>0.185442</td>\n",
       "      <td>-0.080620</td>\n",
       "      <td>-0.066211</td>\n",
       "      <td>-0.121339</td>\n",
       "      <td>-0.151700</td>\n",
       "      <td>0.192513</td>\n",
       "      <td>0.191642</td>\n",
       "      <td>-0.050956</td>\n",
       "      <td>-0.042467</td>\n",
       "      <td>-0.148414</td>\n",
       "    </tr>\n",
       "    <tr>\n",
       "      <th>3</th>\n",
       "      <td>0</td>\n",
       "      <td>H_-2_-2_0.501338.dat</td>\n",
       "      <td>-2.0</td>\n",
       "      <td>-2.0</td>\n",
       "      <td>0.501338</td>\n",
       "      <td>999</td>\n",
       "      <td>666</td>\n",
       "      <td>test</td>\n",
       "      <td>-0.069630</td>\n",
       "      <td>-0.026147</td>\n",
       "      <td>...</td>\n",
       "      <td>0.102009</td>\n",
       "      <td>-0.100671</td>\n",
       "      <td>-0.081002</td>\n",
       "      <td>-0.020715</td>\n",
       "      <td>-0.058717</td>\n",
       "      <td>0.115834</td>\n",
       "      <td>0.118274</td>\n",
       "      <td>-0.054666</td>\n",
       "      <td>-0.026147</td>\n",
       "      <td>-0.069630</td>\n",
       "    </tr>\n",
       "    <tr>\n",
       "      <th>4</th>\n",
       "      <td>0</td>\n",
       "      <td>H_-2_-2_0.501338.dat</td>\n",
       "      <td>-2.0</td>\n",
       "      <td>-2.0</td>\n",
       "      <td>0.501338</td>\n",
       "      <td>999</td>\n",
       "      <td>666</td>\n",
       "      <td>test</td>\n",
       "      <td>0.010206</td>\n",
       "      <td>-0.014625</td>\n",
       "      <td>...</td>\n",
       "      <td>0.047555</td>\n",
       "      <td>-0.041368</td>\n",
       "      <td>-0.018852</td>\n",
       "      <td>-0.017673</td>\n",
       "      <td>-0.023377</td>\n",
       "      <td>0.031447</td>\n",
       "      <td>0.010280</td>\n",
       "      <td>0.000925</td>\n",
       "      <td>0.014625</td>\n",
       "      <td>-0.010206</td>\n",
       "    </tr>\n",
       "  </tbody>\n",
       "</table>\n",
       "<p>5 rows × 108 columns</p>\n",
       "</div>"
      ],
      "text/plain": [
       "   id                  path   t1   t2   winding  phase  pred_phase type_of  \\\n",
       "0   0  H_-2_-2_0.501338.dat -2.0 -2.0  0.501338    999         666    test   \n",
       "1   0  H_-2_-2_0.501338.dat -2.0 -2.0  0.501338    999         666    test   \n",
       "2   0  H_-2_-2_0.501338.dat -2.0 -2.0  0.501338    999         666    test   \n",
       "3   0  H_-2_-2_0.501338.dat -2.0 -2.0  0.501338    999         666    test   \n",
       "4   0  H_-2_-2_0.501338.dat -2.0 -2.0  0.501338    999         666    test   \n",
       "\n",
       "      feat0     feat1  ...    feat90    feat91    feat92    feat93    feat94  \\\n",
       "0 -0.130965  0.301130  ... -0.080279 -0.115687 -0.174988  0.245064  0.319763   \n",
       "1 -0.130965 -0.301130  ... -0.080279  0.115687 -0.174988 -0.245064  0.319763   \n",
       "2 -0.148414 -0.042467  ...  0.185442 -0.080620 -0.066211 -0.121339 -0.151700   \n",
       "3 -0.069630 -0.026147  ...  0.102009 -0.100671 -0.081002 -0.020715 -0.058717   \n",
       "4  0.010206 -0.014625  ...  0.047555 -0.041368 -0.018852 -0.017673 -0.023377   \n",
       "\n",
       "     feat95    feat96    feat97    feat98    feat99  \n",
       "0 -0.059082 -0.000556 -0.245133 -0.301130  0.130965  \n",
       "1  0.059082 -0.000556  0.245133 -0.301130 -0.130965  \n",
       "2  0.192513  0.191642 -0.050956 -0.042467 -0.148414  \n",
       "3  0.115834  0.118274 -0.054666 -0.026147 -0.069630  \n",
       "4  0.031447  0.010280  0.000925  0.014625 -0.010206  \n",
       "\n",
       "[5 rows x 108 columns]"
      ]
     },
     "execution_count": 4,
     "metadata": {},
     "output_type": "execute_result"
    }
   ],
   "source": [
    "%%time\n",
    "#Starting an instance of Simulation with a decision tree\n",
    "model = DecisionTreeClassifier(criterion=\"entropy\")\n",
    "#dict_args = {\"csv_path\":csv_path, \"model\":model, \"allowed_windings\":allowed_windings,\\\n",
    "#             \"simulation_dir\":simulation_dir, \"val_split\":val_split, \"features_to_use\":features_to_use,\\\n",
    "#            \"shuffle_features\":shuffle_features, \"random_state\":random_state}\n",
    "simulation = Simulation(csv_path,model_name,model_kw,allowed_windings,simulation_dir,val_split,features_to_use,\\\n",
    "                       shuffle_features,fourier_mode,fourier_features_to_use,fourier_real,\\\n",
    "                       fourier_normalize, fourier_fillna , random_state)\n",
    "#simulation = Simulation(**dict_args)\n",
    "\n",
    "\n",
    "#(self, csv_path, model_name, model_kw, allowed_windings, simulation_dir = None, val_split = 0, \n",
    "# features_to_use = None, shuffle_features = False, fourier_mode=None, fourier_features_to_use=None,\n",
    "# fourier_real = False, fourier_normalize = False, Fourier_fillna=False, random_state = None):\n",
    "\n",
    "\n",
    "\n",
    "print(\"Info on all data: \\n\")\n",
    "simulation.dataframe.info()\n",
    "simulation.dataframe.head()"
   ]
  },
  {
   "cell_type": "markdown",
   "metadata": {
    "papermill": {
     "duration": 0.018581,
     "end_time": "2020-07-09T09:51:20.467555",
     "exception": false,
     "start_time": "2020-07-09T09:51:20.448974",
     "status": "completed"
    },
    "tags": []
   },
   "source": [
    "####  Fourier features"
   ]
  },
  {
   "cell_type": "code",
   "execution_count": 5,
   "metadata": {
    "execution": {
     "iopub.execute_input": "2020-07-09T09:51:20.502620Z",
     "iopub.status.busy": "2020-07-09T09:51:20.502315Z",
     "iopub.status.idle": "2020-07-09T09:51:20.512251Z",
     "shell.execute_reply": "2020-07-09T09:51:20.512531Z"
    },
    "papermill": {
     "duration": 0.02771,
     "end_time": "2020-07-09T09:51:20.512599",
     "exception": false,
     "start_time": "2020-07-09T09:51:20.484889",
     "status": "completed"
    },
    "tags": []
   },
   "outputs": [
    {
     "name": "stdout",
     "output_type": "stream",
     "text": [
      "CPU times: user 2 µs, sys: 0 ns, total: 2 µs\n",
      "Wall time: 4.29 µs\n"
     ]
    }
   ],
   "source": [
    "%%time\n",
    "#simulation.generate_fourier_df()\n",
    "if simulation.fourier_mode is not None:\n",
    "    simulation.fourier_dataframe.info() \n",
    "    simulation.fourier_dataframe.sample(15)\n"
   ]
  },
  {
   "cell_type": "code",
   "execution_count": 6,
   "metadata": {
    "execution": {
     "iopub.execute_input": "2020-07-09T09:51:20.548326Z",
     "iopub.status.busy": "2020-07-09T09:51:20.548012Z",
     "iopub.status.idle": "2020-07-09T09:51:20.616360Z",
     "shell.execute_reply": "2020-07-09T09:51:20.615694Z"
    },
    "papermill": {
     "duration": 0.086417,
     "end_time": "2020-07-09T09:51:20.616494",
     "exception": false,
     "start_time": "2020-07-09T09:51:20.530077",
     "status": "completed"
    },
    "tags": []
   },
   "outputs": [
    {
     "name": "stdout",
     "output_type": "stream",
     "text": [
      "features_to_use: \n",
      "\n",
      "\n",
      "[0, 1, 2, 3, 4, 5, 6, 7, 46, 48, 49, 50]\n",
      "Number of real space features:\n",
      "\n",
      "\n",
      "12\n",
      "\n",
      "\n",
      "fourier_features: \n",
      "\n",
      "\n",
      "None\n",
      "\n",
      "\n"
     ]
    }
   ],
   "source": [
    "print(\"features_to_use: \")\n",
    "print(\"\\n\")\n",
    "print(simulation.features_to_use)\n",
    "if simulation.features_to_use is not None:\n",
    "    print(\"Number of real space features:\")\n",
    "    print(\"\\n\")\n",
    "    print(len(simulation.features_to_use))\n",
    "print(\"\\n\")\n",
    "print(\"fourier_features: \")\n",
    "print(\"\\n\")\n",
    "print(simulation.fourier_features)\n",
    "print(\"\\n\")\n",
    "if simulation.fourier_features is not None:\n",
    "    print(\"Number of Fourier features: \")\n",
    "    print(\"\\n\")\n",
    "    print(len(simulation.fourier_features))"
   ]
  },
  {
   "cell_type": "code",
   "execution_count": 7,
   "metadata": {
    "execution": {
     "iopub.execute_input": "2020-07-09T09:51:20.688446Z",
     "iopub.status.busy": "2020-07-09T09:51:20.688104Z",
     "iopub.status.idle": "2020-07-09T09:51:20.697937Z",
     "shell.execute_reply": "2020-07-09T09:51:20.698245Z"
    },
    "papermill": {
     "duration": 0.032354,
     "end_time": "2020-07-09T09:51:20.698311",
     "exception": false,
     "start_time": "2020-07-09T09:51:20.665957",
     "status": "completed"
    },
    "tags": []
   },
   "outputs": [],
   "source": [
    "#simulation.dataframe.iloc[331456,:]"
   ]
  },
  {
   "cell_type": "code",
   "execution_count": 8,
   "metadata": {
    "execution": {
     "iopub.execute_input": "2020-07-09T09:51:20.732399Z",
     "iopub.status.busy": "2020-07-09T09:51:20.732085Z",
     "iopub.status.idle": "2020-07-09T09:51:20.796676Z",
     "shell.execute_reply": "2020-07-09T09:51:20.796118Z"
    },
    "papermill": {
     "duration": 0.082308,
     "end_time": "2020-07-09T09:51:20.796757",
     "exception": false,
     "start_time": "2020-07-09T09:51:20.714449",
     "status": "completed"
    },
    "tags": []
   },
   "outputs": [],
   "source": [
    "#for ix, obj in enumerate(simulation.dataframe.iloc[331456,:].values):\n",
    "#    print(ix,obj)"
   ]
  },
  {
   "cell_type": "code",
   "execution_count": 9,
   "metadata": {
    "execution": {
     "iopub.execute_input": "2020-07-09T09:51:20.861992Z",
     "iopub.status.busy": "2020-07-09T09:51:20.861679Z",
     "iopub.status.idle": "2020-07-09T09:51:20.871050Z",
     "shell.execute_reply": "2020-07-09T09:51:20.870726Z"
    },
    "papermill": {
     "duration": 0.039401,
     "end_time": "2020-07-09T09:51:20.871102",
     "exception": false,
     "start_time": "2020-07-09T09:51:20.831701",
     "status": "completed"
    },
    "tags": []
   },
   "outputs": [],
   "source": [
    "#simulation.fourier_engineered_dataframe.dct_feat0"
   ]
  },
  {
   "cell_type": "code",
   "execution_count": 10,
   "metadata": {
    "execution": {
     "iopub.execute_input": "2020-07-09T09:51:20.905265Z",
     "iopub.status.busy": "2020-07-09T09:51:20.904959Z",
     "iopub.status.idle": "2020-07-09T09:51:20.969831Z",
     "shell.execute_reply": "2020-07-09T09:51:20.970135Z"
    },
    "papermill": {
     "duration": 0.08288,
     "end_time": "2020-07-09T09:51:20.970201",
     "exception": false,
     "start_time": "2020-07-09T09:51:20.887321",
     "status": "completed"
    },
    "tags": []
   },
   "outputs": [],
   "source": [
    "#simulation.features"
   ]
  },
  {
   "cell_type": "code",
   "execution_count": 11,
   "metadata": {
    "execution": {
     "iopub.execute_input": "2020-07-09T09:51:21.005936Z",
     "iopub.status.busy": "2020-07-09T09:51:21.005628Z",
     "iopub.status.idle": "2020-07-09T09:51:21.072327Z",
     "shell.execute_reply": "2020-07-09T09:51:21.071628Z"
    },
    "papermill": {
     "duration": 0.08523,
     "end_time": "2020-07-09T09:51:21.072444",
     "exception": false,
     "start_time": "2020-07-09T09:51:20.987214",
     "status": "completed"
    },
    "tags": []
   },
   "outputs": [],
   "source": [
    "#simulation.fourier_matrix"
   ]
  },
  {
   "cell_type": "code",
   "execution_count": 12,
   "metadata": {
    "execution": {
     "iopub.execute_input": "2020-07-09T09:51:21.139148Z",
     "iopub.status.busy": "2020-07-09T09:51:21.138835Z",
     "iopub.status.idle": "2020-07-09T09:51:21.156875Z",
     "shell.execute_reply": "2020-07-09T09:51:21.156539Z"
    },
    "papermill": {
     "duration": 0.040674,
     "end_time": "2020-07-09T09:51:21.156926",
     "exception": false,
     "start_time": "2020-07-09T09:51:21.116252",
     "status": "completed"
    },
    "tags": []
   },
   "outputs": [],
   "source": [
    "#1/simulation.n_features*simulation.dataframe.loc[:,simulation.features].sum(axis=1)"
   ]
  },
  {
   "cell_type": "code",
   "execution_count": 13,
   "metadata": {
    "execution": {
     "iopub.execute_input": "2020-07-09T09:51:21.190988Z",
     "iopub.status.busy": "2020-07-09T09:51:21.190681Z",
     "iopub.status.idle": "2020-07-09T09:51:21.263830Z",
     "shell.execute_reply": "2020-07-09T09:51:21.263036Z"
    },
    "papermill": {
     "duration": 0.090773,
     "end_time": "2020-07-09T09:51:21.263946",
     "exception": false,
     "start_time": "2020-07-09T09:51:21.173173",
     "status": "completed"
    },
    "tags": []
   },
   "outputs": [],
   "source": [
    "#df_2 = simulation.fourier_engineered_dataframe[simulation.fourier_engineered_dataframe.phase==2]\n",
    "#df_2.describe()"
   ]
  },
  {
   "cell_type": "code",
   "execution_count": 14,
   "metadata": {
    "execution": {
     "iopub.execute_input": "2020-07-09T09:51:21.336888Z",
     "iopub.status.busy": "2020-07-09T09:51:21.336567Z",
     "iopub.status.idle": "2020-07-09T09:51:21.345888Z",
     "shell.execute_reply": "2020-07-09T09:51:21.346195Z"
    },
    "papermill": {
     "duration": 0.038309,
     "end_time": "2020-07-09T09:51:21.346261",
     "exception": false,
     "start_time": "2020-07-09T09:51:21.307952",
     "status": "completed"
    },
    "tags": []
   },
   "outputs": [],
   "source": [
    "#df_1 = simulation.fourier_engineered_dataframe[simulation.fourier_engineered_dataframe.phase==1]\n",
    "#df_1.describe()"
   ]
  },
  {
   "cell_type": "code",
   "execution_count": 15,
   "metadata": {
    "execution": {
     "iopub.execute_input": "2020-07-09T09:51:21.380331Z",
     "iopub.status.busy": "2020-07-09T09:51:21.380025Z",
     "iopub.status.idle": "2020-07-09T09:51:21.456043Z",
     "shell.execute_reply": "2020-07-09T09:51:21.455244Z"
    },
    "papermill": {
     "duration": 0.093604,
     "end_time": "2020-07-09T09:51:21.456159",
     "exception": false,
     "start_time": "2020-07-09T09:51:21.362555",
     "status": "completed"
    },
    "tags": []
   },
   "outputs": [],
   "source": [
    "#df_0 = simulation.fourier_engineered_dataframe[simulation.fourier_engineered_dataframe.phase==0]\n",
    "#df_0.describe()"
   ]
  },
  {
   "cell_type": "code",
   "execution_count": 16,
   "metadata": {
    "execution": {
     "iopub.execute_input": "2020-07-09T09:51:21.528311Z",
     "iopub.status.busy": "2020-07-09T09:51:21.527997Z",
     "iopub.status.idle": "2020-07-09T09:51:21.538710Z",
     "shell.execute_reply": "2020-07-09T09:51:21.538372Z"
    },
    "papermill": {
     "duration": 0.032979,
     "end_time": "2020-07-09T09:51:21.538763",
     "exception": false,
     "start_time": "2020-07-09T09:51:21.505784",
     "status": "completed"
    },
    "tags": []
   },
   "outputs": [],
   "source": [
    "#plt.figure(figsize=(10,10))\n",
    "#plt.scatter(df_1.fourier_feat0,df_1.fourier_feat2)\n",
    "#plt.scatter(df_0.fourier_feat0,df_0.fourier_feat2,alpha=0.4)"
   ]
  },
  {
   "cell_type": "code",
   "execution_count": 17,
   "metadata": {
    "execution": {
     "iopub.execute_input": "2020-07-09T09:51:21.574180Z",
     "iopub.status.busy": "2020-07-09T09:51:21.573877Z",
     "iopub.status.idle": "2020-07-09T09:51:21.639316Z",
     "shell.execute_reply": "2020-07-09T09:51:21.638524Z"
    },
    "papermill": {
     "duration": 0.083625,
     "end_time": "2020-07-09T09:51:21.639433",
     "exception": false,
     "start_time": "2020-07-09T09:51:21.555808",
     "status": "completed"
    },
    "tags": []
   },
   "outputs": [],
   "source": [
    "#plt.scatter(df_0.fourier_feat0,df_0.fourier_feat2,alpha=0.4)"
   ]
  },
  {
   "cell_type": "code",
   "execution_count": 18,
   "metadata": {
    "execution": {
     "iopub.execute_input": "2020-07-09T09:51:21.711949Z",
     "iopub.status.busy": "2020-07-09T09:51:21.711630Z",
     "iopub.status.idle": "2020-07-09T09:51:21.721190Z",
     "shell.execute_reply": "2020-07-09T09:51:21.721496Z"
    },
    "papermill": {
     "duration": 0.038608,
     "end_time": "2020-07-09T09:51:21.721562",
     "exception": false,
     "start_time": "2020-07-09T09:51:21.682954",
     "status": "completed"
    },
    "tags": []
   },
   "outputs": [],
   "source": [
    "#plt.scatter(df_2.fourier_feat0,df_2.fourier_feat2)"
   ]
  },
  {
   "cell_type": "code",
   "execution_count": 19,
   "metadata": {
    "execution": {
     "iopub.execute_input": "2020-07-09T09:51:21.756674Z",
     "iopub.status.busy": "2020-07-09T09:51:21.756355Z",
     "iopub.status.idle": "2020-07-09T09:51:21.853332Z",
     "shell.execute_reply": "2020-07-09T09:51:21.851567Z"
    },
    "papermill": {
     "duration": 0.115543,
     "end_time": "2020-07-09T09:51:21.853576",
     "exception": false,
     "start_time": "2020-07-09T09:51:21.738033",
     "status": "completed"
    },
    "tags": []
   },
   "outputs": [],
   "source": [
    "#df_1.hist(figsize=(15,15))"
   ]
  },
  {
   "cell_type": "code",
   "execution_count": 20,
   "metadata": {
    "execution": {
     "iopub.execute_input": "2020-07-09T09:51:21.971067Z",
     "iopub.status.busy": "2020-07-09T09:51:21.970715Z",
     "iopub.status.idle": "2020-07-09T09:51:21.980503Z",
     "shell.execute_reply": "2020-07-09T09:51:21.980155Z"
    },
    "papermill": {
     "duration": 0.028379,
     "end_time": "2020-07-09T09:51:21.980569",
     "exception": false,
     "start_time": "2020-07-09T09:51:21.952190",
     "status": "completed"
    },
    "tags": []
   },
   "outputs": [],
   "source": [
    "#df_0.hist(figsize=(15,15))"
   ]
  },
  {
   "cell_type": "markdown",
   "metadata": {
    "papermill": {
     "duration": 0.016515,
     "end_time": "2020-07-09T09:51:22.014261",
     "exception": false,
     "start_time": "2020-07-09T09:51:21.997746",
     "status": "completed"
    },
    "tags": []
   },
   "source": [
    "#### Checking initialization"
   ]
  },
  {
   "cell_type": "code",
   "execution_count": 21,
   "metadata": {
    "execution": {
     "iopub.execute_input": "2020-07-09T09:51:22.453918Z",
     "iopub.status.busy": "2020-07-09T09:51:22.453534Z",
     "iopub.status.idle": "2020-07-09T09:51:22.517456Z",
     "shell.execute_reply": "2020-07-09T09:51:22.516675Z"
    },
    "papermill": {
     "duration": 0.137518,
     "end_time": "2020-07-09T09:51:22.517571",
     "exception": false,
     "start_time": "2020-07-09T09:51:22.380053",
     "status": "completed"
    },
    "tags": []
   },
   "outputs": [
    {
     "name": "stdout",
     "output_type": "stream",
     "text": [
      "n_features:  100\n",
      "n_hamiltonians:  6561\n",
      "n_ts:  2\n",
      "CPU times: user 1.02 ms, sys: 93 µs, total: 1.11 ms\n",
      "Wall time: 687 µs\n"
     ]
    }
   ],
   "source": [
    "%%time\n",
    "n_features = simulation.n_features\n",
    "n_hamiltonians = simulation.n_hamiltonians\n",
    "n_ts = simulation.n_ts\n",
    "\n",
    "print(\"n_features: \", n_features)\n",
    "print(\"n_hamiltonians: \", n_hamiltonians)\n",
    "print(\"n_ts: \", n_ts)"
   ]
  },
  {
   "cell_type": "code",
   "execution_count": 22,
   "metadata": {
    "execution": {
     "iopub.execute_input": "2020-07-09T09:51:22.590143Z",
     "iopub.status.busy": "2020-07-09T09:51:22.589795Z",
     "iopub.status.idle": "2020-07-09T09:51:22.771202Z",
     "shell.execute_reply": "2020-07-09T09:51:22.770883Z"
    },
    "papermill": {
     "duration": 0.203822,
     "end_time": "2020-07-09T09:51:22.771251",
     "exception": false,
     "start_time": "2020-07-09T09:51:22.567429",
     "status": "completed"
    },
    "tags": []
   },
   "outputs": [
    {
     "name": "stdout",
     "output_type": "stream",
     "text": [
      "% train:  0.8414875781130925\n",
      "% val:  0.0\n",
      "% test:  0.15851242188690748\n",
      "% train + val + test:  1.0\n",
      "\n",
      "\n",
      "number of train hamiltonians:  5521\n",
      "number of val hamiltonians:  0\n",
      "number of test hamiltonians:  1040\n",
      "total number of hamiltonians:  6561\n",
      "\n",
      "\n",
      "train ids:  [13, 14, 15, 16, 17, 18, 19, 20, 21, 22, 23, 24, 25, 26, 27, 28, 29, 30, 31, 32, 33, 34, 35, 36, 37, 38, 39, 41, 42, 43, 44, 45, 46, 47, 48, 49, 50, 51, 52, 53, 54, 55, 56, 57, 58, 59, 60, 61, 62, 63, 64, 65, 66, 67, 68, 69, 70, 71, 72, 73, 74, 75, 76, 77, 78, 79, 80, 95, 96, 97, 98, 99, 100, 101, 102, 103, 104, 105, 106, 107, 108, 109, 110, 111, 112, 113, 114, 115, 116, 117, 118, 119, 121, 122, 123, 124, 125, 126, 127, 128, 129, 130, 131, 132, 133, 134, 135, 136, 137, 138, 139, 140, 141, 142, 143, 144, 145, 146, 147, 148, 149, 150, 151, 152, 153, 154, 155, 156, 157, 158, 159, 160, 161, 176, 177, 178, 179, 180, 181, 182, 183, 184, 185, 186, 187, 188, 189, 190, 191, 192, 193, 194, 195, 196, 197, 198, 199, 201, 202, 203, 204, 205, 206, 207, 208, 209, 210, 211, 212, 213, 214, 215, 216, 217, 218, 219, 220, 221, 222, 223, 224, 225, 226, 227, 228, 229, 230, 231, 232, 233, 234, 235, 236, 237, 238, 239, 240, 241, 242, 258, 259, 260, 261, 262, 263, 264, 265, 266, 267, 268, 269, 270, 271, 272, 273, 274, 275, 276, 277, 278, 279, 281, 282, 283, 284, 285, 286, 287, 288, 289, 290, 291, 292, 293, 294, 295, 296, 297, 298, 299, 300, 301, 302, 303, 304, 305, 306, 307, 308, 309, 310, 311, 312, 313, 314, 315, 316, 317, 318, 319, 320, 321, 322, 323, 340, 341, 342, 343, 344, 345, 346, 347, 348, 349, 350, 351, 352, 353, 354, 355, 356, 357, 358, 359, 361, 362, 363, 364, 365, 366, 367, 368, 369, 370, 371, 372, 373, 374, 375, 376, 377, 378, 379, 380, 381, 382, 383, 384, 385, 386, 387, 388, 389, 390, 391, 392, 393, 394, 395, 396, 397, 398, 399, 400, 401, 402, 403, 404, 422, 423, 424, 425, 426, 427, 428, 429, 430, 431, 432, 433, 434, 435, 436, 437, 438, 439, 441, 442, 443, 444, 445, 446, 447, 448, 449, 450, 451, 452, 453, 454, 455, 456, 457, 458, 459, 460, 461, 462, 463, 464, 465, 466, 467, 468, 469, 470, 471, 472, 473, 474, 475, 476, 477, 478, 479, 480, 481, 482, 483, 484, 485, 503, 504, 505, 506, 507, 508, 509, 510, 511, 512, 513, 514, 515, 516, 517, 518, 519, 521, 522, 523, 524, 525, 526, 527, 528, 529, 530, 531, 532, 533, 534, 535, 536, 537, 538, 539, 540, 541, 542, 543, 544, 545, 546, 547, 548, 549, 550, 551, 552, 553, 554, 555, 556, 557, 558, 559, 560, 561, 562, 563, 564, 565, 566, 585, 586, 587, 588, 589, 590, 591, 592, 593, 594, 595, 596, 597, 598, 599, 601, 602, 603, 604, 605, 606, 607, 608, 609, 610, 611, 612, 613, 614, 615, 616, 617, 618, 619, 620, 621, 622, 623, 624, 625, 626, 627, 628, 629, 630, 631, 632, 633, 634, 635, 636, 637, 638, 639, 640, 641, 642, 643, 644, 645, 646, 647, 667, 668, 669, 670, 671, 672, 673, 674, 675, 676, 677, 678, 679, 681, 682, 683, 684, 685, 686, 687, 688, 689, 690, 691, 692, 693, 694, 695, 696, 697, 698, 699, 700, 701, 702, 703, 704, 705, 706, 707, 708, 709, 710, 711, 712, 713, 714, 715, 716, 717, 718, 719, 720, 721, 722, 723, 724, 725, 726, 727, 728, 749, 750, 751, 752, 753, 754, 755, 756, 757, 758, 759, 761, 762, 763, 764, 765, 766, 767, 768, 769, 770, 771, 772, 773, 774, 775, 776, 777, 778, 779, 780, 781, 782, 783, 784, 785, 786, 787, 788, 789, 790, 791, 792, 793, 794, 795, 796, 797, 798, 799, 800, 801, 802, 803, 804, 805, 806, 807, 808, 809, 830, 831, 832, 833, 834, 835, 836, 837, 838, 839, 841, 842, 843, 844, 845, 846, 847, 848, 849, 850, 851, 852, 853, 854, 855, 856, 857, 858, 859, 860, 861, 862, 863, 864, 865, 866, 867, 868, 869, 870, 871, 872, 873, 874, 875, 876, 877, 878, 879, 880, 881, 882, 883, 884, 885, 886, 887, 888, 889, 890, 912, 913, 914, 915, 916, 917, 918, 919, 921, 922, 923, 924, 925, 926, 927, 928, 929, 930, 931, 932, 933, 934, 935, 936, 937, 938, 939, 940, 941, 942, 943, 944, 945, 946, 947, 948, 949, 950, 951, 952, 953, 954, 955, 956, 957, 958, 959, 960, 961, 962, 963, 964, 965, 966, 967, 968, 969, 970, 971, 994, 995, 996, 997, 998, 999, 1001, 1002, 1003, 1004, 1005, 1006, 1007, 1008, 1009, 1010, 1011, 1012, 1013, 1014, 1015, 1016, 1017, 1018, 1019, 1020, 1021, 1022, 1023, 1024, 1025, 1026, 1027, 1028, 1029, 1030, 1031, 1032, 1033, 1034, 1035, 1036, 1037, 1038, 1039, 1040, 1041, 1042, 1043, 1044, 1045, 1046, 1047, 1048, 1049, 1050, 1051, 1052, 1076, 1077, 1078, 1079, 1081, 1082, 1083, 1084, 1085, 1086, 1087, 1088, 1089, 1090, 1091, 1092, 1093, 1094, 1095, 1096, 1097, 1098, 1099, 1100, 1101, 1102, 1103, 1104, 1105, 1106, 1107, 1108, 1109, 1110, 1111, 1112, 1113, 1114, 1115, 1116, 1117, 1118, 1119, 1120, 1121, 1122, 1123, 1124, 1125, 1126, 1127, 1128, 1129, 1130, 1131, 1132, 1133, 1134, 1157, 1158, 1159, 1161, 1162, 1163, 1164, 1165, 1166, 1167, 1168, 1169, 1170, 1171, 1172, 1173, 1174, 1175, 1176, 1177, 1178, 1179, 1180, 1181, 1182, 1183, 1184, 1185, 1186, 1187, 1188, 1189, 1190, 1191, 1192, 1193, 1194, 1195, 1196, 1197, 1198, 1199, 1200, 1201, 1202, 1203, 1204, 1205, 1206, 1207, 1208, 1209, 1210, 1211, 1212, 1213, 1214, 1215, 1216, 1239, 1241, 1242, 1243, 1244, 1245, 1246, 1247, 1248, 1249, 1250, 1251, 1252, 1253, 1254, 1255, 1256, 1257, 1258, 1259, 1260, 1261, 1262, 1263, 1264, 1265, 1266, 1267, 1268, 1269, 1270, 1271, 1272, 1273, 1274, 1275, 1276, 1277, 1278, 1279, 1280, 1281, 1282, 1283, 1284, 1285, 1286, 1287, 1288, 1289, 1290, 1291, 1292, 1293, 1294, 1295, 1296, 1297, 1298, 1299, 1321, 1322, 1323, 1324, 1325, 1326, 1327, 1328, 1329, 1330, 1331, 1332, 1333, 1334, 1335, 1336, 1337, 1338, 1339, 1340, 1341, 1342, 1343, 1344, 1345, 1346, 1347, 1348, 1349, 1350, 1351, 1352, 1353, 1354, 1355, 1356, 1357, 1358, 1359, 1360, 1361, 1362, 1363, 1364, 1365, 1366, 1367, 1368, 1369, 1370, 1371, 1372, 1373, 1374, 1375, 1376, 1377, 1378, 1379, 1380, 1381, 1402, 1403, 1404, 1405, 1406, 1407, 1408, 1409, 1410, 1411, 1412, 1413, 1414, 1415, 1416, 1417, 1418, 1419, 1420, 1421, 1422, 1423, 1424, 1425, 1426, 1427, 1428, 1429, 1430, 1431, 1432, 1433, 1434, 1435, 1436, 1437, 1438, 1439, 1440, 1441, 1442, 1443, 1444, 1445, 1446, 1447, 1448, 1449, 1450, 1451, 1452, 1453, 1454, 1455, 1456, 1457, 1458, 1459, 1460, 1461, 1462, 1463, 1464, 1484, 1485, 1486, 1487, 1488, 1489, 1490, 1491, 1492, 1493, 1494, 1495, 1496, 1497, 1498, 1499, 1500, 1501, 1502, 1503, 1504, 1505, 1506, 1507, 1508, 1509, 1510, 1511, 1512, 1513, 1514, 1515, 1516, 1517, 1518, 1519, 1520, 1521, 1522, 1523, 1524, 1525, 1526, 1527, 1528, 1529, 1530, 1531, 1532, 1533, 1534, 1535, 1536, 1537, 1538, 1539, 1540, 1541, 1542, 1543, 1544, 1545, 1546, 1566, 1567, 1568, 1569, 1570, 1571, 1572, 1573, 1574, 1575, 1576, 1577, 1578, 1579, 1580, 1581, 1582, 1583, 1584, 1585, 1586, 1587, 1588, 1589, 1590, 1591, 1592, 1593, 1594, 1595, 1596, 1597, 1598, 1599, 1600, 1601, 1602, 1603, 1604, 1605, 1606, 1607, 1608, 1609, 1610, 1611, 1612, 1613, 1614, 1615, 1616, 1617, 1618, 1619, 1620, 1621, 1622, 1623, 1624, 1625, 1626, 1627, 1628, 1648, 1649, 1650, 1651, 1652, 1653, 1654, 1655, 1656, 1657, 1658, 1659, 1660, 1661, 1662, 1663, 1664, 1665, 1666, 1667, 1668, 1669, 1670, 1671, 1672, 1673, 1674, 1675, 1676, 1677, 1678, 1679, 1680, 1681, 1682, 1683, 1684, 1685, 1686, 1687, 1688, 1689, 1690, 1691, 1692, 1693, 1694, 1695, 1696, 1697, 1698, 1699, 1701, 1702, 1703, 1704, 1705, 1706, 1707, 1708, 1709, 1710, 1711, 1729, 1730, 1731, 1732, 1733, 1734, 1735, 1736, 1737, 1738, 1739, 1740, 1741, 1742, 1743, 1744, 1745, 1746, 1747, 1748, 1749, 1750, 1751, 1752, 1753, 1754, 1755, 1756, 1757, 1758, 1759, 1760, 1761, 1762, 1763, 1764, 1765, 1766, 1767, 1768, 1769, 1770, 1771, 1772, 1773, 1774, 1775, 1776, 1777, 1778, 1779, 1781, 1782, 1783, 1784, 1785, 1786, 1787, 1788, 1789, 1790, 1791, 1792, 1793, 1811, 1812, 1813, 1814, 1815, 1816, 1817, 1818, 1819, 1820, 1821, 1822, 1823, 1824, 1825, 1826, 1827, 1828, 1829, 1830, 1831, 1832, 1833, 1834, 1835, 1836, 1837, 1838, 1839, 1840, 1841, 1842, 1843, 1844, 1845, 1846, 1847, 1848, 1849, 1850, 1851, 1852, 1853, 1854, 1855, 1856, 1857, 1858, 1859, 1861, 1862, 1863, 1864, 1865, 1866, 1867, 1868, 1869, 1870, 1871, 1872, 1873, 1874, 1875, 1876, 1893, 1894, 1895, 1896, 1897, 1898, 1899, 1900, 1901, 1902, 1903, 1904, 1905, 1906, 1907, 1908, 1909, 1910, 1911, 1912, 1913, 1914, 1915, 1916, 1917, 1918, 1919, 1920, 1921, 1922, 1923, 1924, 1925, 1926, 1927, 1928, 1929, 1930, 1931, 1932, 1933, 1934, 1935, 1936, 1937, 1938, 1939, 1941, 1942, 1943, 1944, 1945, 1946, 1947, 1948, 1949, 1950, 1951, 1952, 1953, 1954, 1955, 1956, 1957, 1958, 1975, 1976, 1977, 1978, 1979, 1980, 1981, 1982, 1983, 1984, 1985, 1986, 1987, 1988, 1989, 1990, 1991, 1992, 1993, 1994, 1995, 1996, 1997, 1998, 1999, 2000, 2001, 2002, 2003, 2004, 2005, 2006, 2007, 2008, 2009, 2010, 2011, 2012, 2013, 2014, 2015, 2016, 2017, 2018, 2019, 2021, 2022, 2023, 2024, 2025, 2026, 2027, 2028, 2029, 2030, 2031, 2032, 2033, 2034, 2035, 2036, 2037, 2038, 2039, 2056, 2057, 2058, 2059, 2060, 2061, 2062, 2063, 2064, 2065, 2066, 2067, 2068, 2069, 2070, 2071, 2072, 2073, 2074, 2075, 2076, 2077, 2078, 2079, 2080, 2081, 2082, 2083, 2084, 2085, 2086, 2087, 2088, 2089, 2090, 2091, 2092, 2093, 2094, 2095, 2096, 2097, 2098, 2099, 2101, 2102, 2103, 2104, 2105, 2106, 2107, 2108, 2109, 2110, 2111, 2112, 2113, 2114, 2115, 2116, 2117, 2118, 2119, 2121, 2122, 2123, 2138, 2139, 2140, 2141, 2142, 2143, 2144, 2145, 2146, 2147, 2148, 2149, 2150, 2151, 2152, 2153, 2154, 2155, 2156, 2157, 2158, 2159, 2160, 2161, 2162, 2163, 2164, 2165, 2166, 2167, 2168, 2169, 2170, 2171, 2172, 2173, 2174, 2175, 2176, 2177, 2178, 2179, 2181, 2182, 2183, 2184, 2185, 2186, 2187, 2188, 2189, 2190, 2191, 2192, 2193, 2194, 2195, 2196, 2197, 2198, 2199, 2201, 2202, 2203, 2204, 2205, 2220, 2221, 2222, 2223, 2224, 2225, 2226, 2227, 2228, 2229, 2230, 2231, 2232, 2233, 2234, 2235, 2236, 2237, 2238, 2239, 2240, 2241, 2242, 2243, 2244, 2245, 2246, 2247, 2248, 2249, 2250, 2251, 2252, 2253, 2254, 2255, 2256, 2257, 2258, 2259, 2261, 2262, 2263, 2264, 2265, 2266, 2267, 2268, 2269, 2270, 2271, 2272, 2273, 2274, 2275, 2276, 2277, 2278, 2279, 2281, 2282, 2283, 2284, 2285, 2286, 2287, 2288, 2301, 2302, 2303, 2304, 2305, 2306, 2307, 2308, 2309, 2310, 2311, 2312, 2313, 2314, 2315, 2316, 2317, 2318, 2319, 2320, 2321, 2322, 2323, 2324, 2325, 2326, 2327, 2328, 2329, 2330, 2331, 2332, 2333, 2334, 2335, 2336, 2337, 2338, 2339, 2341, 2342, 2343, 2344, 2345, 2346, 2347, 2348, 2349, 2350, 2351, 2352, 2353, 2354, 2355, 2356, 2357, 2358, 2359, 2361, 2362, 2363, 2364, 2365, 2366, 2367, 2368, 2369, 2370, 2383, 2384, 2385, 2386, 2387, 2388, 2389, 2390, 2391, 2392, 2393, 2394, 2395, 2396, 2397, 2398, 2399, 2400, 2401, 2402, 2403, 2404, 2405, 2406, 2407, 2408, 2409, 2410, 2411, 2412, 2413, 2414, 2415, 2416, 2417, 2418, 2419, 2421, 2422, 2423, 2424, 2425, 2426, 2427, 2428, 2429, 2430, 2431, 2432, 2433, 2434, 2435, 2436, 2437, 2438, 2439, 2441, 2442, 2443, 2444, 2445, 2446, 2447, 2448, 2449, 2450, 2451, 2452, 2453, 2465, 2466, 2467, 2468, 2469, 2470, 2471, 2472, 2473, 2474, 2475, 2476, 2477, 2478, 2479, 2480, 2481, 2482, 2483, 2484, 2485, 2486, 2487, 2488, 2489, 2490, 2491, 2492, 2493, 2494, 2495, 2496, 2497, 2498, 2499, 2501, 2502, 2503, 2504, 2505, 2506, 2507, 2508, 2509, 2510, 2511, 2512, 2513, 2514, 2515, 2516, 2517, 2518, 2519, 2521, 2522, 2523, 2524, 2525, 2526, 2527, 2528, 2529, 2530, 2531, 2532, 2533, 2534, 2535, 2547, 2548, 2549, 2550, 2551, 2552, 2553, 2554, 2555, 2556, 2557, 2558, 2559, 2560, 2561, 2562, 2563, 2564, 2565, 2566, 2567, 2568, 2569, 2570, 2571, 2572, 2573, 2574, 2575, 2576, 2577, 2578, 2579, 2581, 2582, 2583, 2584, 2585, 2586, 2587, 2588, 2589, 2590, 2591, 2592, 2593, 2594, 2595, 2596, 2597, 2598, 2599, 2601, 2602, 2603, 2604, 2605, 2606, 2607, 2608, 2609, 2610, 2611, 2612, 2613, 2614, 2615, 2616, 2617, 2628, 2629, 2630, 2631, 2632, 2633, 2634, 2635, 2636, 2637, 2638, 2639, 2640, 2641, 2642, 2643, 2644, 2645, 2646, 2647, 2648, 2649, 2650, 2651, 2652, 2653, 2654, 2655, 2656, 2657, 2658, 2659, 2661, 2662, 2663, 2664, 2665, 2666, 2667, 2668, 2669, 2670, 2671, 2672, 2673, 2674, 2675, 2676, 2677, 2678, 2679, 2681, 2682, 2683, 2684, 2685, 2686, 2687, 2688, 2689, 2690, 2691, 2692, 2693, 2694, 2695, 2696, 2697, 2698, 2699, 2700, 2710, 2711, 2712, 2713, 2714, 2715, 2716, 2717, 2718, 2719, 2720, 2721, 2722, 2723, 2724, 2725, 2726, 2727, 2728, 2729, 2730, 2731, 2732, 2733, 2734, 2735, 2736, 2737, 2738, 2739, 2741, 2742, 2743, 2744, 2745, 2746, 2747, 2748, 2749, 2750, 2751, 2752, 2753, 2754, 2755, 2756, 2757, 2758, 2759, 2761, 2762, 2763, 2764, 2765, 2766, 2767, 2768, 2769, 2770, 2771, 2772, 2773, 2774, 2775, 2776, 2777, 2778, 2779, 2780, 2781, 2782, 2792, 2793, 2794, 2795, 2796, 2797, 2798, 2799, 2800, 2801, 2802, 2803, 2804, 2805, 2806, 2807, 2808, 2809, 2810, 2811, 2812, 2813, 2814, 2815, 2816, 2817, 2818, 2819, 2821, 2822, 2823, 2824, 2825, 2826, 2827, 2828, 2829, 2830, 2831, 2832, 2833, 2834, 2835, 2836, 2837, 2838, 2839, 2841, 2842, 2843, 2844, 2845, 2846, 2847, 2848, 2849, 2850, 2851, 2852, 2853, 2854, 2855, 2856, 2857, 2858, 2859, 2860, 2861, 2862, 2863, 2864, 2865, 2874, 2875, 2876, 2877, 2878, 2879, 2880, 2881, 2882, 2883, 2884, 2885, 2886, 2887, 2888, 2889, 2890, 2891, 2892, 2893, 2894, 2895, 2896, 2897, 2898, 2899, 2901, 2902, 2903, 2904, 2905, 2906, 2907, 2908, 2909, 2910, 2911, 2912, 2913, 2914, 2915, 2916, 2917, 2918, 2919, 2921, 2922, 2923, 2924, 2925, 2926, 2927, 2928, 2929, 2930, 2931, 2932, 2933, 2934, 2935, 2936, 2937, 2938, 2939, 2940, 2941, 2942, 2943, 2944, 2945, 2946, 2947, 2955, 2956, 2957, 2958, 2959, 2960, 2961, 2962, 2963, 2964, 2965, 2966, 2967, 2968, 2969, 2970, 2971, 2972, 2973, 2974, 2975, 2976, 2977, 2978, 2979, 2981, 2982, 2983, 2984, 2985, 2986, 2987, 2988, 2989, 2990, 2991, 2992, 2993, 2994, 2995, 2996, 2997, 2998, 2999, 3001, 3002, 3003, 3004, 3005, 3006, 3007, 3008, 3009, 3010, 3011, 3012, 3013, 3014, 3015, 3016, 3017, 3018, 3019, 3020, 3021, 3022, 3023, 3024, 3025, 3026, 3027, 3028, 3029, 3037, 3038, 3039, 3040, 3041, 3042, 3043, 3044, 3045, 3046, 3047, 3048, 3049, 3050, 3051, 3052, 3053, 3054, 3055, 3056, 3057, 3058, 3059, 3061, 3062, 3063, 3064, 3065, 3066, 3067, 3068, 3069, 3070, 3071, 3072, 3073, 3074, 3075, 3076, 3077, 3078, 3079, 3081, 3082, 3083, 3084, 3085, 3086, 3087, 3088, 3089, 3090, 3091, 3092, 3093, 3094, 3095, 3096, 3097, 3098, 3099, 3100, 3101, 3102, 3103, 3104, 3105, 3106, 3107, 3108, 3109, 3110, 3111, 3112, 3119, 3120, 3121, 3122, 3123, 3124, 3125, 3126, 3127, 3128, 3129, 3130, 3131, 3132, 3133, 3134, 3135, 3136, 3137, 3138, 3139, 3141, 3142, 3143, 3144, 3145, 3146, 3147, 3148, 3149, 3150, 3151, 3152, 3153, 3154, 3155, 3156, 3157, 3158, 3159, 3161, 3162, 3163, 3164, 3165, 3166, 3167, 3168, 3169, 3170, 3171, 3172, 3173, 3174, 3175, 3176, 3177, 3178, 3179, 3180, 3181, 3182, 3183, 3184, 3185, 3186, 3187, 3188, 3189, 3190, 3191, 3192, 3193, 3194, 3201, 3202, 3203, 3204, 3205, 3206, 3207, 3208, 3209, 3210, 3211, 3212, 3213, 3214, 3215, 3216, 3217, 3218, 3219, 3221, 3222, 3223, 3224, 3225, 3226, 3227, 3228, 3229, 3230, 3231, 3232, 3233, 3234, 3235, 3236, 3237, 3238, 3239, 3241, 3242, 3243, 3244, 3245, 3246, 3247, 3248, 3249, 3250, 3251, 3252, 3253, 3254, 3255, 3256, 3257, 3258, 3259, 3260, 3261, 3262, 3263, 3264, 3265, 3266, 3267, 3268, 3269, 3270, 3271, 3272, 3273, 3274, 3275, 3276, 3277, 3282, 3283, 3284, 3285, 3286, 3287, 3288, 3289, 3290, 3291, 3292, 3293, 3294, 3295, 3296, 3297, 3298, 3299, 3301, 3302, 3303, 3304, 3305, 3306, 3307, 3308, 3309, 3310, 3311, 3312, 3313, 3314, 3315, 3316, 3317, 3318, 3319, 3320, 3321, 3322, 3323, 3324, 3325, 3326, 3327, 3328, 3329, 3330, 3331, 3332, 3333, 3334, 3335, 3336, 3337, 3338, 3339, 3340, 3341, 3342, 3343, 3344, 3345, 3346, 3347, 3348, 3349, 3350, 3351, 3352, 3353, 3354, 3355, 3356, 3357, 3358, 3359, 3364, 3365, 3366, 3367, 3368, 3369, 3370, 3371, 3372, 3373, 3374, 3375, 3376, 3377, 3378, 3379, 3381, 3382, 3383, 3384, 3385, 3386, 3387, 3388, 3389, 3390, 3391, 3392, 3393, 3394, 3395, 3396, 3397, 3398, 3399, 3400, 3401, 3402, 3403, 3404, 3405, 3406, 3407, 3408, 3409, 3410, 3411, 3412, 3413, 3414, 3415, 3416, 3417, 3418, 3419, 3420, 3421, 3422, 3423, 3424, 3425, 3426, 3427, 3428, 3429, 3430, 3431, 3432, 3433, 3434, 3435, 3436, 3437, 3438, 3439, 3440, 3441, 3442, 3446, 3447, 3448, 3449, 3450, 3451, 3452, 3453, 3454, 3455, 3456, 3457, 3458, 3459, 3461, 3462, 3463, 3464, 3465, 3466, 3467, 3468, 3469, 3470, 3471, 3472, 3473, 3474, 3475, 3476, 3477, 3478, 3479, 3480, 3481, 3482, 3483, 3484, 3485, 3486, 3487, 3488, 3489, 3490, 3491, 3492, 3493, 3494, 3495, 3496, 3497, 3498, 3499, 3500, 3501, 3502, 3503, 3504, 3505, 3506, 3507, 3508, 3509, 3510, 3511, 3512, 3513, 3514, 3515, 3516, 3517, 3518, 3519, 3520, 3521, 3522, 3523, 3524, 3527, 3528, 3529, 3530, 3531, 3532, 3533, 3534, 3535, 3536, 3537, 3538, 3539, 3541, 3542, 3543, 3544, 3545, 3546, 3547, 3548, 3549, 3550, 3551, 3552, 3553, 3554, 3555, 3556, 3557, 3558, 3559, 3560, 3561, 3562, 3563, 3564, 3565, 3566, 3567, 3568, 3569, 3570, 3571, 3572, 3573, 3574, 3575, 3576, 3577, 3578, 3579, 3580, 3581, 3582, 3583, 3584, 3585, 3586, 3587, 3588, 3589, 3590, 3591, 3592, 3593, 3594, 3595, 3596, 3597, 3598, 3599, 3600, 3601, 3602, 3603, 3604, 3605, 3606, 3609, 3610, 3611, 3612, 3613, 3614, 3615, 3616, 3617, 3618, 3619, 3621, 3622, 3623, 3624, 3625, 3626, 3627, 3628, 3629, 3630, 3631, 3632, 3633, 3634, 3635, 3636, 3637, 3638, 3639, 3640, 3641, 3642, 3643, 3644, 3645, 3646, 3647, 3648, 3649, 3650, 3651, 3652, 3653, 3654, 3655, 3656, 3657, 3658, 3659, 3660, 3661, 3662, 3663, 3664, 3665, 3666, 3667, 3668, 3669, 3670, 3671, 3672, 3673, 3674, 3675, 3676, 3677, 3678, 3679, 3680, 3681, 3682, 3683, 3684, 3685, 3686, 3687, 3688, 3689, 3691, 3692, 3693, 3694, 3695, 3696, 3697, 3698, 3699, 3701, 3702, 3703, 3704, 3705, 3706, 3707, 3708, 3709, 3710, 3711, 3712, 3713, 3714, 3715, 3716, 3717, 3718, 3719, 3720, 3721, 3722, 3723, 3724, 3725, 3726, 3727, 3728, 3729, 3730, 3731, 3732, 3733, 3734, 3735, 3736, 3737, 3738, 3739, 3740, 3741, 3742, 3743, 3744, 3745, 3746, 3747, 3748, 3749, 3750, 3751, 3752, 3753, 3754, 3755, 3756, 3757, 3758, 3759, 3760, 3761, 3762, 3763, 3764, 3765, 3766, 3767, 3768, 3769, 3770, 3771, 3773, 3774, 3775, 3776, 3777, 3778, 3779, 3781, 3782, 3783, 3784, 3785, 3786, 3787, 3788, 3789, 3790, 3791, 3792, 3793, 3794, 3795, 3796, 3797, 3798, 3799, 3800, 3801, 3802, 3803, 3804, 3805, 3806, 3807, 3808, 3809, 3810, 3811, 3812, 3813, 3814, 3815, 3816, 3817, 3818, 3819, 3820, 3821, 3822, 3823, 3824, 3825, 3826, 3827, 3828, 3829, 3830, 3831, 3832, 3833, 3834, 3835, 3836, 3837, 3838, 3839, 3840, 3841, 3842, 3843, 3844, 3845, 3846, 3847, 3848, 3849, 3850, 3851, 3852, 3853, 3855, 3856, 3857, 3858, 3859, 3861, 3862, 3863, 3864, 3865, 3866, 3867, 3868, 3869, 3870, 3871, 3872, 3873, 3874, 3875, 3876, 3877, 3878, 3879, 3880, 3881, 3882, 3883, 3884, 3885, 3886, 3887, 3888, 3889, 3890, 3891, 3892, 3893, 3894, 3895, 3896, 3897, 3898, 3899, 3900, 3901, 3902, 3903, 3904, 3905, 3906, 3907, 3908, 3909, 3910, 3911, 3912, 3913, 3914, 3915, 3916, 3917, 3918, 3919, 3920, 3921, 3922, 3923, 3924, 3925, 3926, 3927, 3928, 3929, 3930, 3931, 3932, 3933, 3934, 3935, 3937, 3938, 3939, 3941, 3942, 3943, 3944, 3945, 3946, 3947, 3948, 3949, 3950, 3951, 3952, 3953, 3954, 3955, 3956, 3957, 3958, 3959, 3960, 3961, 3962, 3963, 3964, 3965, 3966, 3967, 3968, 3969, 3970, 3971, 3972, 3973, 3974, 3975, 3976, 3977, 3978, 3979, 3980, 3981, 3982, 3983, 3984, 3985, 3986, 3987, 3988, 3989, 3990, 3991, 3992, 3993, 3994, 3995, 3996, 3997, 3998, 3999, 4000, 4001, 4002, 4003, 4004, 4005, 4006, 4007, 4008, 4009, 4010, 4011, 4012, 4013, 4014, 4015, 4016, 4017, 4021, 4022, 4023, 4024, 4025, 4026, 4027, 4028, 4029, 4030, 4031, 4032, 4033, 4034, 4035, 4036, 4037, 4038, 4039, 4040, 4041, 4042, 4043, 4044, 4045, 4046, 4047, 4048, 4049, 4050, 4051, 4052, 4053, 4054, 4055, 4056, 4057, 4058, 4059, 4060, 4061, 4062, 4063, 4064, 4065, 4066, 4067, 4068, 4069, 4070, 4071, 4072, 4073, 4074, 4075, 4076, 4077, 4078, 4079, 4080, 4081, 4082, 4083, 4084, 4085, 4086, 4087, 4088, 4089, 4090, 4091, 4092, 4093, 4094, 4095, 4096, 4097, 4098, 4102, 4103, 4104, 4105, 4106, 4107, 4108, 4109, 4110, 4111, 4112, 4113, 4114, 4115, 4116, 4117, 4118, 4119, 4120, 4121, 4122, 4123, 4124, 4125, 4126, 4127, 4128, 4129, 4130, 4131, 4132, 4133, 4134, 4135, 4136, 4137, 4138, 4139, 4140, 4141, 4142, 4143, 4144, 4145, 4146, 4147, 4148, 4149, 4150, 4151, 4152, 4153, 4154, 4155, 4156, 4157, 4158, 4159, 4160, 4161, 4162, 4163, 4164, 4165, 4166, 4167, 4168, 4169, 4170, 4171, 4172, 4173, 4174, 4175, 4176, 4177, 4178, 4179, 4184, 4185, 4186, 4187, 4188, 4189, 4190, 4191, 4192, 4193, 4194, 4195, 4196, 4197, 4198, 4199, 4200, 4201, 4202, 4203, 4204, 4205, 4206, 4207, 4208, 4209, 4210, 4211, 4212, 4213, 4214, 4215, 4216, 4217, 4218, 4219, 4220, 4221, 4222, 4223, 4224, 4225, 4226, 4227, 4228, 4229, 4230, 4231, 4232, 4233, 4234, 4235, 4236, 4237, 4238, 4239, 4240, 4241, 4242, 4243, 4244, 4245, 4246, 4247, 4248, 4249, 4250, 4251, 4252, 4253, 4254, 4255, 4256, 4257, 4258, 4259, 4261, 4262, 4267, 4268, 4269, 4270, 4271, 4272, 4273, 4274, 4275, 4276, 4277, 4278, 4279, 4280, 4281, 4282, 4283, 4284, 4285, 4286, 4287, 4288, 4289, 4290, 4291, 4292, 4293, 4294, 4295, 4296, 4297, 4298, 4299, 4300, 4301, 4302, 4303, 4304, 4305, 4306, 4307, 4308, 4309, 4310, 4311, 4312, 4313, 4314, 4315, 4316, 4317, 4318, 4319, 4320, 4321, 4322, 4323, 4324, 4325, 4326, 4327, 4328, 4329, 4330, 4331, 4332, 4333, 4334, 4335, 4336, 4337, 4338, 4339, 4341, 4342, 4343, 4344, 4349, 4350, 4351, 4352, 4353, 4354, 4355, 4356, 4357, 4358, 4359, 4360, 4361, 4362, 4363, 4364, 4365, 4366, 4367, 4368, 4369, 4370, 4371, 4372, 4373, 4374, 4375, 4376, 4377, 4378, 4379, 4380, 4381, 4382, 4383, 4384, 4385, 4386, 4387, 4388, 4389, 4390, 4391, 4392, 4393, 4394, 4395, 4396, 4397, 4398, 4399, 4400, 4401, 4402, 4403, 4404, 4405, 4406, 4407, 4408, 4409, 4410, 4411, 4412, 4413, 4414, 4415, 4416, 4417, 4418, 4419, 4421, 4422, 4423, 4424, 4425, 4426, 4432, 4433, 4434, 4435, 4436, 4437, 4438, 4439, 4440, 4441, 4442, 4443, 4444, 4445, 4446, 4447, 4448, 4449, 4450, 4451, 4452, 4453, 4454, 4455, 4456, 4457, 4458, 4459, 4460, 4461, 4462, 4463, 4464, 4465, 4466, 4467, 4468, 4469, 4470, 4471, 4472, 4473, 4474, 4475, 4476, 4477, 4478, 4479, 4480, 4481, 4482, 4483, 4484, 4485, 4486, 4487, 4488, 4489, 4490, 4491, 4492, 4493, 4494, 4495, 4496, 4497, 4498, 4499, 4501, 4502, 4503, 4504, 4505, 4506, 4507, 4514, 4515, 4516, 4517, 4518, 4519, 4520, 4521, 4522, 4523, 4524, 4525, 4526, 4527, 4528, 4529, 4530, 4531, 4532, 4533, 4534, 4535, 4536, 4537, 4538, 4539, 4540, 4541, 4542, 4543, 4544, 4545, 4546, 4547, 4548, 4549, 4550, 4551, 4552, 4553, 4554, 4555, 4556, 4557, 4558, 4559, 4560, 4561, 4562, 4563, 4564, 4565, 4566, 4567, 4568, 4569, 4570, 4571, 4572, 4573, 4574, 4575, 4576, 4577, 4578, 4579, 4581, 4582, 4583, 4584, 4585, 4586, 4587, 4588, 4589, 4596, 4597, 4598, 4599, 4600, 4601, 4602, 4603, 4604, 4605, 4606, 4607, 4608, 4609, 4610, 4611, 4612, 4613, 4614, 4615, 4616, 4617, 4618, 4619, 4620, 4621, 4622, 4623, 4624, 4625, 4626, 4627, 4628, 4629, 4630, 4631, 4632, 4633, 4634, 4635, 4636, 4637, 4638, 4639, 4640, 4641, 4642, 4643, 4644, 4645, 4646, 4647, 4648, 4649, 4650, 4651, 4652, 4653, 4654, 4655, 4656, 4657, 4658, 4659, 4661, 4662, 4663, 4664, 4665, 4666, 4667, 4668, 4669, 4670, 4671, 4679, 4680, 4681, 4682, 4683, 4684, 4685, 4686, 4687, 4688, 4689, 4690, 4691, 4692, 4693, 4694, 4695, 4696, 4697, 4698, 4699, 4700, 4701, 4702, 4703, 4704, 4705, 4706, 4707, 4708, 4709, 4710, 4711, 4712, 4713, 4714, 4715, 4716, 4717, 4718, 4719, 4720, 4721, 4722, 4723, 4724, 4725, 4726, 4727, 4728, 4729, 4730, 4731, 4732, 4733, 4734, 4735, 4736, 4737, 4738, 4739, 4741, 4742, 4743, 4744, 4745, 4746, 4747, 4748, 4749, 4750, 4751, 4752, 4761, 4762, 4763, 4764, 4765, 4766, 4767, 4768, 4769, 4770, 4771, 4772, 4773, 4774, 4775, 4776, 4777, 4778, 4779, 4780, 4781, 4782, 4783, 4784, 4785, 4786, 4787, 4788, 4789, 4790, 4791, 4792, 4793, 4794, 4795, 4796, 4797, 4798, 4799, 4800, 4801, 4802, 4803, 4804, 4805, 4806, 4807, 4808, 4809, 4810, 4811, 4812, 4813, 4814, 4815, 4816, 4817, 4818, 4819, 4821, 4822, 4823, 4824, 4825, 4826, 4827, 4828, 4829, 4830, 4831, 4832, 4833, 4834, 4844, 4845, 4846, 4847, 4848, 4849, 4850, 4851, 4852, 4853, 4854, 4855, 4856, 4857, 4858, 4859, 4860, 4861, 4862, 4863, 4864, 4865, 4866, 4867, 4868, 4869, 4870, 4871, 4872, 4873, 4874, 4875, 4876, 4877, 4878, 4879, 4880, 4881, 4882, 4883, 4884, 4885, 4886, 4887, 4888, 4889, 4890, 4891, 4892, 4893, 4894, 4895, 4896, 4897, 4898, 4899, 4901, 4902, 4903, 4904, 4905, 4906, 4907, 4908, 4909, 4910, 4911, 4912, 4913, 4914, 4915, 4916, 4926, 4927, 4928, 4929, 4930, 4931, 4932, 4933, 4934, 4935, 4936, 4937, 4938, 4939, 4940, 4941, 4942, 4943, 4944, 4945, 4946, 4947, 4948, 4949, 4950, 4951, 4952, 4953, 4954, 4955, 4956, 4957, 4958, 4959, 4960, 4961, 4962, 4963, 4964, 4965, 4966, 4967, 4968, 4969, 4970, 4971, 4972, 4973, 4974, 4975, 4976, 4977, 4978, 4979, 4981, 4982, 4983, 4984, 4985, 4986, 4987, 4988, 4989, 4990, 4991, 4992, 4993, 4994, 4995, 4996, 4997, 4998, 5008, 5009, 5010, 5011, 5012, 5013, 5014, 5015, 5016, 5017, 5018, 5019, 5020, 5021, 5022, 5023, 5024, 5025, 5026, 5027, 5028, 5029, 5030, 5031, 5032, 5033, 5034, 5035, 5036, 5037, 5038, 5039, 5040, 5041, 5042, 5043, 5044, 5045, 5046, 5047, 5048, 5049, 5050, 5051, 5052, 5053, 5054, 5055, 5056, 5057, 5058, 5059, 5061, 5062, 5063, 5064, 5065, 5066, 5067, 5068, 5069, 5070, 5071, 5072, 5073, 5074, 5075, 5076, 5077, 5078, 5079, 5091, 5092, 5093, 5094, 5095, 5096, 5097, 5098, 5099, 5100, 5101, 5102, 5103, 5104, 5105, 5106, 5107, 5108, 5109, 5110, 5111, 5112, 5113, 5114, 5115, 5116, 5117, 5118, 5119, 5120, 5121, 5122, 5123, 5124, 5125, 5126, 5127, 5128, 5129, 5130, 5131, 5132, 5133, 5134, 5135, 5136, 5137, 5138, 5139, 5141, 5142, 5143, 5144, 5145, 5146, 5147, 5148, 5149, 5150, 5151, 5152, 5153, 5154, 5155, 5156, 5157, 5158, 5159, 5160, 5161, 5173, 5174, 5175, 5176, 5177, 5178, 5179, 5180, 5181, 5182, 5183, 5184, 5185, 5186, 5187, 5188, 5189, 5190, 5191, 5192, 5193, 5194, 5195, 5196, 5197, 5198, 5199, 5200, 5201, 5202, 5203, 5204, 5205, 5206, 5207, 5208, 5209, 5210, 5211, 5212, 5213, 5214, 5215, 5216, 5217, 5218, 5219, 5221, 5222, 5223, 5224, 5225, 5226, 5227, 5228, 5229, 5230, 5231, 5232, 5233, 5234, 5235, 5236, 5237, 5238, 5239, 5240, 5241, 5242, 5243, 5256, 5257, 5258, 5259, 5260, 5261, 5262, 5263, 5264, 5265, 5266, 5267, 5268, 5269, 5270, 5271, 5272, 5273, 5274, 5275, 5276, 5277, 5278, 5279, 5280, 5281, 5282, 5283, 5284, 5285, 5286, 5287, 5288, 5289, 5290, 5291, 5292, 5293, 5294, 5295, 5296, 5297, 5298, 5299, 5301, 5302, 5303, 5304, 5305, 5306, 5307, 5308, 5309, 5310, 5311, 5312, 5313, 5314, 5315, 5316, 5317, 5318, 5319, 5320, 5321, 5322, 5323, 5324, 5325, 5338, 5339, 5340, 5341, 5342, 5343, 5344, 5345, 5346, 5347, 5348, 5349, 5350, 5351, 5352, 5353, 5354, 5355, 5356, 5357, 5358, 5359, 5360, 5361, 5362, 5363, 5364, 5365, 5366, 5367, 5368, 5369, 5370, 5371, 5372, 5373, 5374, 5375, 5376, 5377, 5378, 5379, 5381, 5382, 5383, 5384, 5385, 5386, 5387, 5388, 5389, 5390, 5391, 5392, 5393, 5394, 5395, 5396, 5397, 5398, 5399, 5400, 5401, 5402, 5403, 5404, 5405, 5406, 5421, 5422, 5423, 5424, 5425, 5426, 5427, 5428, 5429, 5430, 5431, 5432, 5433, 5434, 5435, 5436, 5437, 5438, 5439, 5440, 5441, 5442, 5443, 5444, 5445, 5446, 5447, 5448, 5449, 5450, 5451, 5452, 5453, 5454, 5455, 5456, 5457, 5458, 5459, 5461, 5462, 5463, 5464, 5465, 5466, 5467, 5468, 5469, 5470, 5471, 5472, 5473, 5474, 5475, 5476, 5477, 5478, 5479, 5480, 5481, 5482, 5483, 5484, 5485, 5486, 5487, 5488, 5503, 5504, 5505, 5506, 5507, 5508, 5509, 5510, 5511, 5512, 5513, 5514, 5515, 5516, 5517, 5518, 5519, 5520, 5521, 5522, 5523, 5524, 5525, 5526, 5527, 5528, 5529, 5530, 5531, 5532, 5533, 5534, 5535, 5536, 5537, 5538, 5539, 5541, 5542, 5543, 5544, 5545, 5546, 5547, 5548, 5549, 5550, 5551, 5552, 5553, 5554, 5555, 5556, 5557, 5558, 5559, 5560, 5561, 5562, 5563, 5564, 5565, 5566, 5567, 5568, 5569, 5570, 5585, 5586, 5587, 5588, 5589, 5590, 5591, 5592, 5593, 5594, 5595, 5596, 5597, 5598, 5599, 5600, 5601, 5602, 5603, 5604, 5605, 5606, 5607, 5608, 5609, 5610, 5611, 5612, 5613, 5614, 5615, 5616, 5617, 5618, 5619, 5621, 5622, 5623, 5624, 5625, 5626, 5627, 5628, 5629, 5630, 5631, 5632, 5633, 5634, 5635, 5636, 5637, 5638, 5639, 5640, 5641, 5642, 5643, 5644, 5645, 5646, 5647, 5648, 5649, 5650, 5651, 5652, 5668, 5669, 5670, 5671, 5672, 5673, 5674, 5675, 5676, 5677, 5678, 5679, 5680, 5681, 5682, 5683, 5684, 5685, 5686, 5687, 5688, 5689, 5690, 5691, 5692, 5693, 5694, 5695, 5696, 5697, 5698, 5699, 5701, 5702, 5703, 5704, 5705, 5706, 5707, 5708, 5709, 5710, 5711, 5712, 5713, 5714, 5715, 5716, 5717, 5718, 5719, 5720, 5721, 5722, 5723, 5724, 5725, 5726, 5727, 5728, 5729, 5730, 5731, 5732, 5733, 5750, 5751, 5752, 5753, 5754, 5755, 5756, 5757, 5758, 5759, 5760, 5761, 5762, 5763, 5764, 5765, 5766, 5767, 5768, 5769, 5770, 5771, 5772, 5773, 5774, 5775, 5776, 5777, 5778, 5779, 5781, 5782, 5783, 5784, 5785, 5786, 5787, 5788, 5789, 5790, 5791, 5792, 5793, 5794, 5795, 5796, 5797, 5798, 5799, 5800, 5801, 5802, 5803, 5804, 5805, 5806, 5807, 5808, 5809, 5810, 5811, 5812, 5813, 5814, 5815, 5832, 5833, 5834, 5835, 5836, 5837, 5838, 5839, 5840, 5841, 5842, 5843, 5844, 5845, 5846, 5847, 5848, 5849, 5850, 5851, 5852, 5853, 5854, 5855, 5856, 5857, 5858, 5859, 5861, 5862, 5863, 5864, 5865, 5866, 5867, 5868, 5869, 5870, 5871, 5872, 5873, 5874, 5875, 5876, 5877, 5878, 5879, 5880, 5881, 5882, 5883, 5884, 5885, 5886, 5887, 5888, 5889, 5890, 5891, 5892, 5893, 5894, 5895, 5896, 5897, 5913, 5914, 5915, 5916, 5917, 5918, 5919, 5920, 5921, 5922, 5923, 5924, 5925, 5926, 5927, 5928, 5929, 5930, 5931, 5932, 5933, 5934, 5935, 5936, 5937, 5938, 5939, 5941, 5942, 5943, 5944, 5945, 5946, 5947, 5948, 5949, 5950, 5951, 5952, 5953, 5954, 5955, 5956, 5957, 5958, 5959, 5960, 5961, 5962, 5963, 5964, 5965, 5966, 5967, 5968, 5969, 5970, 5971, 5972, 5973, 5974, 5975, 5976, 5977, 5978, 5994, 5995, 5996, 5997, 5998, 5999, 6000, 6001, 6002, 6003, 6004, 6005, 6006, 6007, 6008, 6009, 6010, 6011, 6012, 6013, 6014, 6015, 6016, 6017, 6018, 6019, 6021, 6022, 6023, 6024, 6025, 6026, 6027, 6028, 6029, 6030, 6031, 6032, 6033, 6034, 6035, 6036, 6037, 6038, 6039, 6040, 6041, 6042, 6043, 6044, 6045, 6046, 6047, 6048, 6049, 6050, 6051, 6052, 6053, 6054, 6055, 6056, 6057, 6058, 6059, 6060, 6075, 6076, 6077, 6078, 6079, 6080, 6081, 6082, 6083, 6084, 6085, 6086, 6087, 6088, 6089, 6090, 6091, 6092, 6093, 6094, 6095, 6096, 6097, 6098, 6099, 6101, 6102, 6103, 6104, 6105, 6106, 6107, 6108, 6109, 6110, 6111, 6112, 6113, 6114, 6115, 6116, 6117, 6118, 6119, 6120, 6121, 6122, 6123, 6124, 6125, 6126, 6127, 6128, 6129, 6130, 6131, 6132, 6133, 6134, 6135, 6136, 6137, 6138, 6139, 6140, 6141, 6142, 6156, 6157, 6158, 6159, 6160, 6161, 6162, 6163, 6164, 6165, 6166, 6167, 6168, 6169, 6170, 6171, 6172, 6173, 6174, 6175, 6176, 6177, 6178, 6179, 6181, 6182, 6183, 6184, 6185, 6186, 6187, 6188, 6189, 6190, 6191, 6192, 6193, 6194, 6195, 6196, 6197, 6198, 6199, 6200, 6201, 6202, 6203, 6204, 6205, 6206, 6207, 6208, 6209, 6210, 6211, 6212, 6213, 6214, 6215, 6216, 6217, 6218, 6219, 6220, 6221, 6222, 6223, 6224, 6237, 6238, 6239, 6240, 6241, 6242, 6243, 6244, 6245, 6246, 6247, 6248, 6249, 6250, 6251, 6252, 6253, 6254, 6255, 6256, 6257, 6258, 6259, 6261, 6262, 6263, 6264, 6265, 6266, 6267, 6268, 6269, 6270, 6271, 6272, 6273, 6274, 6275, 6276, 6277, 6278, 6279, 6280, 6281, 6282, 6283, 6284, 6285, 6286, 6287, 6288, 6289, 6290, 6291, 6292, 6293, 6294, 6295, 6296, 6297, 6298, 6299, 6300, 6301, 6302, 6303, 6304, 6305, 6318, 6319, 6320, 6321, 6322, 6323, 6324, 6325, 6326, 6327, 6328, 6329, 6330, 6331, 6332, 6333, 6334, 6335, 6336, 6337, 6338, 6339, 6341, 6342, 6343, 6344, 6345, 6346, 6347, 6348, 6349, 6350, 6351, 6352, 6353, 6354, 6355, 6356, 6357, 6358, 6359, 6360, 6361, 6362, 6363, 6364, 6365, 6366, 6367, 6368, 6369, 6370, 6371, 6372, 6373, 6374, 6375, 6376, 6377, 6378, 6379, 6380, 6381, 6382, 6383, 6384, 6385, 6386, 6387, 6399, 6400, 6401, 6402, 6403, 6404, 6405, 6406, 6407, 6408, 6409, 6410, 6411, 6412, 6413, 6414, 6415, 6416, 6417, 6418, 6419, 6421, 6422, 6423, 6424, 6425, 6426, 6427, 6428, 6429, 6430, 6431, 6432, 6433, 6434, 6435, 6436, 6437, 6438, 6439, 6440, 6441, 6442, 6443, 6444, 6445, 6446, 6447, 6448, 6449, 6450, 6451, 6452, 6453, 6454, 6455, 6456, 6457, 6458, 6459, 6460, 6461, 6462, 6463, 6464, 6465, 6466, 6467, 6468, 6469, 6480, 6481, 6482, 6483, 6484, 6485, 6486, 6487, 6488, 6489, 6490, 6491, 6492, 6493, 6494, 6495, 6496, 6497, 6498, 6499, 6501, 6502, 6503, 6504, 6505, 6506, 6507, 6508, 6509, 6510, 6511, 6512, 6513, 6514, 6515, 6516, 6517, 6518, 6519, 6520, 6521, 6522, 6523, 6524, 6525, 6526, 6527, 6528, 6529, 6530, 6531, 6532, 6533, 6534, 6535, 6536, 6537, 6538, 6539, 6540, 6541, 6542, 6543, 6544, 6545, 6546, 6547, 6548, 6549, 6550, 6551]\n",
      "val ids:  []\n",
      "test ids:  [0, 1, 2, 3, 4, 5, 6, 7, 8, 9, 10, 11, 12, 40, 81, 82, 83, 84, 85, 86, 87, 88, 89, 90, 91, 92, 93, 94, 120, 162, 163, 164, 165, 166, 167, 168, 169, 170, 171, 172, 173, 174, 175, 200, 243, 244, 245, 246, 247, 248, 249, 250, 251, 252, 253, 254, 255, 256, 257, 280, 324, 325, 326, 327, 328, 329, 330, 331, 332, 333, 334, 335, 336, 337, 338, 339, 360, 405, 406, 407, 408, 409, 410, 411, 412, 413, 414, 415, 416, 417, 418, 419, 420, 421, 440, 486, 487, 488, 489, 490, 491, 492, 493, 494, 495, 496, 497, 498, 499, 500, 501, 502, 520, 567, 568, 569, 570, 571, 572, 573, 574, 575, 576, 577, 578, 579, 580, 581, 582, 583, 584, 600, 648, 649, 650, 651, 652, 653, 654, 655, 656, 657, 658, 659, 660, 661, 662, 663, 664, 665, 666, 680, 729, 730, 731, 732, 733, 734, 735, 736, 737, 738, 739, 740, 741, 742, 743, 744, 745, 746, 747, 748, 760, 810, 811, 812, 813, 814, 815, 816, 817, 818, 819, 820, 821, 822, 823, 824, 825, 826, 827, 828, 829, 840, 891, 892, 893, 894, 895, 896, 897, 898, 899, 900, 901, 902, 903, 904, 905, 906, 907, 908, 909, 910, 911, 920, 972, 973, 974, 975, 976, 977, 978, 979, 980, 981, 982, 983, 984, 985, 986, 987, 988, 989, 990, 991, 992, 993, 1000, 1053, 1054, 1055, 1056, 1057, 1058, 1059, 1060, 1061, 1062, 1063, 1064, 1065, 1066, 1067, 1068, 1069, 1070, 1071, 1072, 1073, 1074, 1075, 1080, 1135, 1136, 1137, 1138, 1139, 1140, 1141, 1142, 1143, 1144, 1145, 1146, 1147, 1148, 1149, 1150, 1151, 1152, 1153, 1154, 1155, 1156, 1160, 1217, 1218, 1219, 1220, 1221, 1222, 1223, 1224, 1225, 1226, 1227, 1228, 1229, 1230, 1231, 1232, 1233, 1234, 1235, 1236, 1237, 1238, 1240, 1300, 1301, 1302, 1303, 1304, 1305, 1306, 1307, 1308, 1309, 1310, 1311, 1312, 1313, 1314, 1315, 1316, 1317, 1318, 1319, 1320, 1382, 1383, 1384, 1385, 1386, 1387, 1388, 1389, 1390, 1391, 1392, 1393, 1394, 1395, 1396, 1397, 1398, 1399, 1400, 1401, 1465, 1466, 1467, 1468, 1469, 1470, 1471, 1472, 1473, 1474, 1475, 1476, 1477, 1478, 1479, 1480, 1481, 1482, 1483, 1547, 1548, 1549, 1550, 1551, 1552, 1553, 1554, 1555, 1556, 1557, 1558, 1559, 1560, 1561, 1562, 1563, 1564, 1565, 1629, 1630, 1631, 1632, 1633, 1634, 1635, 1636, 1637, 1638, 1639, 1640, 1641, 1642, 1643, 1644, 1645, 1646, 1647, 1700, 1712, 1713, 1714, 1715, 1716, 1717, 1718, 1719, 1720, 1721, 1722, 1723, 1724, 1725, 1726, 1727, 1728, 1780, 1794, 1795, 1796, 1797, 1798, 1799, 1800, 1801, 1802, 1803, 1804, 1805, 1806, 1807, 1808, 1809, 1810, 1860, 1877, 1878, 1879, 1880, 1881, 1882, 1883, 1884, 1885, 1886, 1887, 1888, 1889, 1890, 1891, 1892, 1940, 1959, 1960, 1961, 1962, 1963, 1964, 1965, 1966, 1967, 1968, 1969, 1970, 1971, 1972, 1973, 1974, 2020, 2040, 2041, 2042, 2043, 2044, 2045, 2046, 2047, 2048, 2049, 2050, 2051, 2052, 2053, 2054, 2055, 2100, 2120, 2124, 2125, 2126, 2127, 2128, 2129, 2130, 2131, 2132, 2133, 2134, 2135, 2136, 2137, 2180, 2200, 2206, 2207, 2208, 2209, 2210, 2211, 2212, 2213, 2214, 2215, 2216, 2217, 2218, 2219, 2260, 2280, 2289, 2290, 2291, 2292, 2293, 2294, 2295, 2296, 2297, 2298, 2299, 2300, 2340, 2360, 2371, 2372, 2373, 2374, 2375, 2376, 2377, 2378, 2379, 2380, 2381, 2382, 2420, 2440, 2454, 2455, 2456, 2457, 2458, 2459, 2460, 2461, 2462, 2463, 2464, 2500, 2520, 2536, 2537, 2538, 2539, 2540, 2541, 2542, 2543, 2544, 2545, 2546, 2580, 2600, 2618, 2619, 2620, 2621, 2622, 2623, 2624, 2625, 2626, 2627, 2660, 2680, 2701, 2702, 2703, 2704, 2705, 2706, 2707, 2708, 2709, 2740, 2760, 2783, 2784, 2785, 2786, 2787, 2788, 2789, 2790, 2791, 2820, 2840, 2866, 2867, 2868, 2869, 2870, 2871, 2872, 2873, 2900, 2920, 2948, 2949, 2950, 2951, 2952, 2953, 2954, 2980, 3000, 3030, 3031, 3032, 3033, 3034, 3035, 3036, 3060, 3080, 3113, 3114, 3115, 3116, 3117, 3118, 3140, 3160, 3195, 3196, 3197, 3198, 3199, 3200, 3220, 3240, 3278, 3279, 3280, 3281, 3300, 3360, 3361, 3362, 3363, 3380, 3443, 3444, 3445, 3460, 3525, 3526, 3540, 3607, 3608, 3620, 3690, 3700, 3772, 3780, 3854, 3860, 3936, 3940, 4018, 4019, 4020, 4099, 4100, 4101, 4180, 4181, 4182, 4183, 4260, 4263, 4264, 4265, 4266, 4340, 4345, 4346, 4347, 4348, 4420, 4427, 4428, 4429, 4430, 4431, 4500, 4508, 4509, 4510, 4511, 4512, 4513, 4580, 4590, 4591, 4592, 4593, 4594, 4595, 4660, 4672, 4673, 4674, 4675, 4676, 4677, 4678, 4740, 4753, 4754, 4755, 4756, 4757, 4758, 4759, 4760, 4820, 4835, 4836, 4837, 4838, 4839, 4840, 4841, 4842, 4843, 4900, 4917, 4918, 4919, 4920, 4921, 4922, 4923, 4924, 4925, 4980, 4999, 5000, 5001, 5002, 5003, 5004, 5005, 5006, 5007, 5060, 5080, 5081, 5082, 5083, 5084, 5085, 5086, 5087, 5088, 5089, 5090, 5140, 5162, 5163, 5164, 5165, 5166, 5167, 5168, 5169, 5170, 5171, 5172, 5220, 5244, 5245, 5246, 5247, 5248, 5249, 5250, 5251, 5252, 5253, 5254, 5255, 5300, 5326, 5327, 5328, 5329, 5330, 5331, 5332, 5333, 5334, 5335, 5336, 5337, 5380, 5407, 5408, 5409, 5410, 5411, 5412, 5413, 5414, 5415, 5416, 5417, 5418, 5419, 5420, 5460, 5489, 5490, 5491, 5492, 5493, 5494, 5495, 5496, 5497, 5498, 5499, 5500, 5501, 5502, 5540, 5571, 5572, 5573, 5574, 5575, 5576, 5577, 5578, 5579, 5580, 5581, 5582, 5583, 5584, 5620, 5653, 5654, 5655, 5656, 5657, 5658, 5659, 5660, 5661, 5662, 5663, 5664, 5665, 5666, 5667, 5700, 5734, 5735, 5736, 5737, 5738, 5739, 5740, 5741, 5742, 5743, 5744, 5745, 5746, 5747, 5748, 5749, 5780, 5816, 5817, 5818, 5819, 5820, 5821, 5822, 5823, 5824, 5825, 5826, 5827, 5828, 5829, 5830, 5831, 5860, 5898, 5899, 5900, 5901, 5902, 5903, 5904, 5905, 5906, 5907, 5908, 5909, 5910, 5911, 5912, 5940, 5979, 5980, 5981, 5982, 5983, 5984, 5985, 5986, 5987, 5988, 5989, 5990, 5991, 5992, 5993, 6020, 6061, 6062, 6063, 6064, 6065, 6066, 6067, 6068, 6069, 6070, 6071, 6072, 6073, 6074, 6100, 6143, 6144, 6145, 6146, 6147, 6148, 6149, 6150, 6151, 6152, 6153, 6154, 6155, 6180, 6225, 6226, 6227, 6228, 6229, 6230, 6231, 6232, 6233, 6234, 6235, 6236, 6260, 6306, 6307, 6308, 6309, 6310, 6311, 6312, 6313, 6314, 6315, 6316, 6317, 6340, 6388, 6389, 6390, 6391, 6392, 6393, 6394, 6395, 6396, 6397, 6398, 6420, 6470, 6471, 6472, 6473, 6474, 6475, 6476, 6477, 6478, 6479, 6500, 6552, 6553, 6554, 6555, 6556, 6557, 6558, 6559, 6560]\n",
      "CPU times: user 159 ms, sys: 12.2 ms, total: 171 ms\n",
      "Wall time: 170 ms\n"
     ]
    }
   ],
   "source": [
    "%%time\n",
    "n_total = len(simulation.dataframe)\n",
    "n_train = len(simulation.dataframe[simulation.dataframe.type_of == \"train\"])\n",
    "n_val = len(simulation.dataframe[simulation.dataframe.type_of == \"val\"])\n",
    "n_test = len(simulation.dataframe[simulation.dataframe.type_of == \"test\"])\n",
    "n_train_hamiltonians = len(simulation.train_ids)\n",
    "n_val_hamiltonians = len(simulation.val_ids)\n",
    "n_test_hamiltonians = len(simulation.test_ids)\n",
    "n_total_hamiltonians = n_train_hamiltonians + n_val_hamiltonians + n_test_hamiltonians\n",
    "\n",
    "print(\"% train: \", n_train/n_total)\n",
    "print(\"% val: \",  n_val/n_total)\n",
    "print(\"% test: \", n_test/n_total)\n",
    "print(\"% train + val + test: \", (n_train+n_val+n_test)/n_total)\n",
    "print(\"\\n\")\n",
    "print(\"number of train hamiltonians: \", n_train_hamiltonians)\n",
    "print(\"number of val hamiltonians: \", n_val_hamiltonians)\n",
    "print(\"number of test hamiltonians: \", n_test_hamiltonians)\n",
    "print(\"total number of hamiltonians: \", n_total_hamiltonians)\n",
    "print(\"\\n\")\n",
    "print(\"train ids: \", simulation.train_ids)\n",
    "print(\"val ids: \", simulation.val_ids)\n",
    "print(\"test ids: \", simulation.test_ids)"
   ]
  },
  {
   "cell_type": "markdown",
   "metadata": {
    "papermill": {
     "duration": 0.017358,
     "end_time": "2020-07-09T09:51:22.806798",
     "exception": false,
     "start_time": "2020-07-09T09:51:22.789440",
     "status": "completed"
    },
    "tags": []
   },
   "source": [
    "## Running a simulation"
   ]
  },
  {
   "cell_type": "code",
   "execution_count": 23,
   "metadata": {
    "execution": {
     "iopub.execute_input": "2020-07-09T09:51:22.843754Z",
     "iopub.status.busy": "2020-07-09T09:51:22.843437Z",
     "iopub.status.idle": "2020-07-09T10:15:54.975953Z",
     "shell.execute_reply": "2020-07-09T10:15:54.976275Z"
    },
    "papermill": {
     "duration": 1472.152138,
     "end_time": "2020-07-09T10:15:54.976341",
     "exception": false,
     "start_time": "2020-07-09T09:51:22.824203",
     "status": "completed"
    },
    "tags": []
   },
   "outputs": [
    {
     "name": "stderr",
     "output_type": "stream",
     "text": [
      "\r",
      "running experiments:   0%|          | 0/100 [00:00<?, ?it/s]"
     ]
    },
    {
     "name": "stderr",
     "output_type": "stream",
     "text": [
      "\r",
      "running experiments:   1%|          | 1/100 [00:14<24:35, 14.90s/it]"
     ]
    },
    {
     "name": "stderr",
     "output_type": "stream",
     "text": [
      "\r",
      "running experiments:   2%|▏         | 2/100 [00:30<24:26, 14.97s/it]"
     ]
    },
    {
     "name": "stderr",
     "output_type": "stream",
     "text": [
      "\r",
      "running experiments:   3%|▎         | 3/100 [00:44<23:58, 14.83s/it]"
     ]
    },
    {
     "name": "stderr",
     "output_type": "stream",
     "text": [
      "\r",
      "running experiments:   4%|▍         | 4/100 [00:59<23:38, 14.77s/it]"
     ]
    },
    {
     "name": "stderr",
     "output_type": "stream",
     "text": [
      "\r",
      "running experiments:   5%|▌         | 5/100 [01:14<23:33, 14.88s/it]"
     ]
    },
    {
     "name": "stderr",
     "output_type": "stream",
     "text": [
      "\r",
      "running experiments:   6%|▌         | 6/100 [01:28<23:08, 14.77s/it]"
     ]
    },
    {
     "name": "stderr",
     "output_type": "stream",
     "text": [
      "\r",
      "running experiments:   7%|▋         | 7/100 [01:43<22:49, 14.73s/it]"
     ]
    },
    {
     "name": "stderr",
     "output_type": "stream",
     "text": [
      "\r",
      "running experiments:   8%|▊         | 8/100 [01:58<22:33, 14.71s/it]"
     ]
    },
    {
     "name": "stderr",
     "output_type": "stream",
     "text": [
      "\r",
      "running experiments:   9%|▉         | 9/100 [02:13<22:23, 14.76s/it]"
     ]
    },
    {
     "name": "stderr",
     "output_type": "stream",
     "text": [
      "\r",
      "running experiments:  10%|█         | 10/100 [02:27<22:01, 14.69s/it]"
     ]
    },
    {
     "name": "stderr",
     "output_type": "stream",
     "text": [
      "\r",
      "running experiments:  11%|█         | 11/100 [02:42<21:47, 14.69s/it]"
     ]
    },
    {
     "name": "stderr",
     "output_type": "stream",
     "text": [
      "\r",
      "running experiments:  12%|█▏        | 12/100 [02:57<21:38, 14.75s/it]"
     ]
    },
    {
     "name": "stderr",
     "output_type": "stream",
     "text": [
      "\r",
      "running experiments:  13%|█▎        | 13/100 [03:12<21:28, 14.81s/it]"
     ]
    },
    {
     "name": "stderr",
     "output_type": "stream",
     "text": [
      "\r",
      "running experiments:  14%|█▍        | 14/100 [03:26<21:09, 14.76s/it]"
     ]
    },
    {
     "name": "stderr",
     "output_type": "stream",
     "text": [
      "\r",
      "running experiments:  15%|█▌        | 15/100 [03:41<20:51, 14.73s/it]"
     ]
    },
    {
     "name": "stderr",
     "output_type": "stream",
     "text": [
      "\r",
      "running experiments:  16%|█▌        | 16/100 [03:56<20:36, 14.73s/it]"
     ]
    },
    {
     "name": "stderr",
     "output_type": "stream",
     "text": [
      "\r",
      "running experiments:  17%|█▋        | 17/100 [04:10<20:24, 14.75s/it]"
     ]
    },
    {
     "name": "stderr",
     "output_type": "stream",
     "text": [
      "\r",
      "running experiments:  18%|█▊        | 18/100 [04:25<20:12, 14.78s/it]"
     ]
    },
    {
     "name": "stderr",
     "output_type": "stream",
     "text": [
      "\r",
      "running experiments:  19%|█▉        | 19/100 [04:40<19:55, 14.76s/it]"
     ]
    },
    {
     "name": "stderr",
     "output_type": "stream",
     "text": [
      "\r",
      "running experiments:  20%|██        | 20/100 [04:55<19:39, 14.74s/it]"
     ]
    },
    {
     "name": "stderr",
     "output_type": "stream",
     "text": [
      "\r",
      "running experiments:  21%|██        | 21/100 [05:09<19:25, 14.75s/it]"
     ]
    },
    {
     "name": "stderr",
     "output_type": "stream",
     "text": [
      "\r",
      "running experiments:  22%|██▏       | 22/100 [05:24<19:17, 14.84s/it]"
     ]
    },
    {
     "name": "stderr",
     "output_type": "stream",
     "text": [
      "\r",
      "running experiments:  23%|██▎       | 23/100 [05:39<18:57, 14.77s/it]"
     ]
    },
    {
     "name": "stderr",
     "output_type": "stream",
     "text": [
      "\r",
      "running experiments:  24%|██▍       | 24/100 [05:54<18:41, 14.75s/it]"
     ]
    },
    {
     "name": "stderr",
     "output_type": "stream",
     "text": [
      "\r",
      "running experiments:  25%|██▌       | 25/100 [06:09<18:30, 14.80s/it]"
     ]
    },
    {
     "name": "stderr",
     "output_type": "stream",
     "text": [
      "\r",
      "running experiments:  26%|██▌       | 26/100 [06:23<18:06, 14.69s/it]"
     ]
    },
    {
     "name": "stderr",
     "output_type": "stream",
     "text": [
      "\r",
      "running experiments:  27%|██▋       | 27/100 [06:38<17:54, 14.72s/it]"
     ]
    },
    {
     "name": "stderr",
     "output_type": "stream",
     "text": [
      "\r",
      "running experiments:  28%|██▊       | 28/100 [06:52<17:35, 14.66s/it]"
     ]
    },
    {
     "name": "stderr",
     "output_type": "stream",
     "text": [
      "\r",
      "running experiments:  29%|██▉       | 29/100 [07:07<17:22, 14.69s/it]"
     ]
    },
    {
     "name": "stderr",
     "output_type": "stream",
     "text": [
      "\r",
      "running experiments:  30%|███       | 30/100 [07:22<17:09, 14.71s/it]"
     ]
    },
    {
     "name": "stderr",
     "output_type": "stream",
     "text": [
      "\r",
      "running experiments:  31%|███       | 31/100 [07:37<16:55, 14.72s/it]"
     ]
    },
    {
     "name": "stderr",
     "output_type": "stream",
     "text": [
      "\r",
      "running experiments:  32%|███▏      | 32/100 [07:51<16:40, 14.72s/it]"
     ]
    },
    {
     "name": "stderr",
     "output_type": "stream",
     "text": [
      "\r",
      "running experiments:  33%|███▎      | 33/100 [08:06<16:25, 14.72s/it]"
     ]
    },
    {
     "name": "stderr",
     "output_type": "stream",
     "text": [
      "\r",
      "running experiments:  34%|███▍      | 34/100 [08:21<16:14, 14.77s/it]"
     ]
    },
    {
     "name": "stderr",
     "output_type": "stream",
     "text": [
      "\r",
      "running experiments:  35%|███▌      | 35/100 [08:36<15:57, 14.73s/it]"
     ]
    },
    {
     "name": "stderr",
     "output_type": "stream",
     "text": [
      "\r",
      "running experiments:  36%|███▌      | 36/100 [08:51<15:48, 14.81s/it]"
     ]
    },
    {
     "name": "stderr",
     "output_type": "stream",
     "text": [
      "\r",
      "running experiments:  37%|███▋      | 37/100 [09:06<15:37, 14.88s/it]"
     ]
    },
    {
     "name": "stderr",
     "output_type": "stream",
     "text": [
      "\r",
      "running experiments:  38%|███▊      | 38/100 [09:20<15:19, 14.83s/it]"
     ]
    },
    {
     "name": "stderr",
     "output_type": "stream",
     "text": [
      "\r",
      "running experiments:  39%|███▉      | 39/100 [09:35<14:58, 14.73s/it]"
     ]
    },
    {
     "name": "stderr",
     "output_type": "stream",
     "text": [
      "\r",
      "running experiments:  40%|████      | 40/100 [09:49<14:38, 14.63s/it]"
     ]
    },
    {
     "name": "stderr",
     "output_type": "stream",
     "text": [
      "\r",
      "running experiments:  41%|████      | 41/100 [10:04<14:27, 14.70s/it]"
     ]
    },
    {
     "name": "stderr",
     "output_type": "stream",
     "text": [
      "\r",
      "running experiments:  42%|████▏     | 42/100 [10:19<14:11, 14.68s/it]"
     ]
    },
    {
     "name": "stderr",
     "output_type": "stream",
     "text": [
      "\r",
      "running experiments:  43%|████▎     | 43/100 [10:33<13:53, 14.63s/it]"
     ]
    },
    {
     "name": "stderr",
     "output_type": "stream",
     "text": [
      "\r",
      "running experiments:  44%|████▍     | 44/100 [10:48<13:42, 14.68s/it]"
     ]
    },
    {
     "name": "stderr",
     "output_type": "stream",
     "text": [
      "\r",
      "running experiments:  45%|████▌     | 45/100 [11:03<13:26, 14.67s/it]"
     ]
    },
    {
     "name": "stderr",
     "output_type": "stream",
     "text": [
      "\r",
      "running experiments:  46%|████▌     | 46/100 [11:17<13:13, 14.69s/it]"
     ]
    },
    {
     "name": "stderr",
     "output_type": "stream",
     "text": [
      "\r",
      "running experiments:  47%|████▋     | 47/100 [11:32<12:57, 14.66s/it]"
     ]
    },
    {
     "name": "stderr",
     "output_type": "stream",
     "text": [
      "\r",
      "running experiments:  48%|████▊     | 48/100 [11:47<12:40, 14.63s/it]"
     ]
    },
    {
     "name": "stderr",
     "output_type": "stream",
     "text": [
      "\r",
      "running experiments:  49%|████▉     | 49/100 [12:01<12:26, 14.65s/it]"
     ]
    },
    {
     "name": "stderr",
     "output_type": "stream",
     "text": [
      "\r",
      "running experiments:  50%|█████     | 50/100 [12:16<12:12, 14.64s/it]"
     ]
    },
    {
     "name": "stderr",
     "output_type": "stream",
     "text": [
      "\r",
      "running experiments:  51%|█████     | 51/100 [12:31<12:02, 14.75s/it]"
     ]
    },
    {
     "name": "stderr",
     "output_type": "stream",
     "text": [
      "\r",
      "running experiments:  52%|█████▏    | 52/100 [12:46<11:46, 14.71s/it]"
     ]
    },
    {
     "name": "stderr",
     "output_type": "stream",
     "text": [
      "\r",
      "running experiments:  53%|█████▎    | 53/100 [13:00<11:30, 14.69s/it]"
     ]
    },
    {
     "name": "stderr",
     "output_type": "stream",
     "text": [
      "\r",
      "running experiments:  54%|█████▍    | 54/100 [13:15<11:18, 14.76s/it]"
     ]
    },
    {
     "name": "stderr",
     "output_type": "stream",
     "text": [
      "\r",
      "running experiments:  55%|█████▌    | 55/100 [13:30<11:03, 14.74s/it]"
     ]
    },
    {
     "name": "stderr",
     "output_type": "stream",
     "text": [
      "\r",
      "running experiments:  56%|█████▌    | 56/100 [13:45<10:48, 14.73s/it]"
     ]
    },
    {
     "name": "stderr",
     "output_type": "stream",
     "text": [
      "\r",
      "running experiments:  57%|█████▋    | 57/100 [13:59<10:33, 14.73s/it]"
     ]
    },
    {
     "name": "stderr",
     "output_type": "stream",
     "text": [
      "\r",
      "running experiments:  58%|█████▊    | 58/100 [14:14<10:15, 14.67s/it]"
     ]
    },
    {
     "name": "stderr",
     "output_type": "stream",
     "text": [
      "\r",
      "running experiments:  59%|█████▉    | 59/100 [14:29<10:03, 14.72s/it]"
     ]
    },
    {
     "name": "stderr",
     "output_type": "stream",
     "text": [
      "\r",
      "running experiments:  60%|██████    | 60/100 [14:43<09:48, 14.72s/it]"
     ]
    },
    {
     "name": "stderr",
     "output_type": "stream",
     "text": [
      "\r",
      "running experiments:  61%|██████    | 61/100 [14:58<09:36, 14.77s/it]"
     ]
    },
    {
     "name": "stderr",
     "output_type": "stream",
     "text": [
      "\r",
      "running experiments:  62%|██████▏   | 62/100 [15:13<09:17, 14.67s/it]"
     ]
    },
    {
     "name": "stderr",
     "output_type": "stream",
     "text": [
      "\r",
      "running experiments:  63%|██████▎   | 63/100 [15:28<09:07, 14.81s/it]"
     ]
    },
    {
     "name": "stderr",
     "output_type": "stream",
     "text": [
      "\r",
      "running experiments:  64%|██████▍   | 64/100 [15:43<08:54, 14.85s/it]"
     ]
    },
    {
     "name": "stderr",
     "output_type": "stream",
     "text": [
      "\r",
      "running experiments:  65%|██████▌   | 65/100 [15:57<08:38, 14.81s/it]"
     ]
    },
    {
     "name": "stderr",
     "output_type": "stream",
     "text": [
      "\r",
      "running experiments:  66%|██████▌   | 66/100 [16:12<08:22, 14.79s/it]"
     ]
    },
    {
     "name": "stderr",
     "output_type": "stream",
     "text": [
      "\r",
      "running experiments:  67%|██████▋   | 67/100 [16:27<08:10, 14.85s/it]"
     ]
    },
    {
     "name": "stderr",
     "output_type": "stream",
     "text": [
      "\r",
      "running experiments:  68%|██████▊   | 68/100 [16:42<07:52, 14.75s/it]"
     ]
    },
    {
     "name": "stderr",
     "output_type": "stream",
     "text": [
      "\r",
      "running experiments:  69%|██████▉   | 69/100 [16:57<07:39, 14.83s/it]"
     ]
    },
    {
     "name": "stderr",
     "output_type": "stream",
     "text": [
      "\r",
      "running experiments:  70%|███████   | 70/100 [17:12<07:25, 14.85s/it]"
     ]
    },
    {
     "name": "stderr",
     "output_type": "stream",
     "text": [
      "\r",
      "running experiments:  71%|███████   | 71/100 [17:27<07:11, 14.88s/it]"
     ]
    },
    {
     "name": "stderr",
     "output_type": "stream",
     "text": [
      "\r",
      "running experiments:  72%|███████▏  | 72/100 [17:41<06:55, 14.83s/it]"
     ]
    },
    {
     "name": "stderr",
     "output_type": "stream",
     "text": [
      "\r",
      "running experiments:  73%|███████▎  | 73/100 [17:56<06:39, 14.79s/it]"
     ]
    },
    {
     "name": "stderr",
     "output_type": "stream",
     "text": [
      "\r",
      "running experiments:  74%|███████▍  | 74/100 [18:11<06:24, 14.79s/it]"
     ]
    },
    {
     "name": "stderr",
     "output_type": "stream",
     "text": [
      "\r",
      "running experiments:  75%|███████▌  | 75/100 [18:26<06:09, 14.79s/it]"
     ]
    },
    {
     "name": "stderr",
     "output_type": "stream",
     "text": [
      "\r",
      "running experiments:  76%|███████▌  | 76/100 [18:40<05:52, 14.69s/it]"
     ]
    },
    {
     "name": "stderr",
     "output_type": "stream",
     "text": [
      "\r",
      "running experiments:  77%|███████▋  | 77/100 [18:55<05:38, 14.72s/it]"
     ]
    },
    {
     "name": "stderr",
     "output_type": "stream",
     "text": [
      "\r",
      "running experiments:  78%|███████▊  | 78/100 [19:10<05:24, 14.73s/it]"
     ]
    },
    {
     "name": "stderr",
     "output_type": "stream",
     "text": [
      "\r",
      "running experiments:  79%|███████▉  | 79/100 [19:24<05:08, 14.67s/it]"
     ]
    },
    {
     "name": "stderr",
     "output_type": "stream",
     "text": [
      "\r",
      "running experiments:  80%|████████  | 80/100 [19:39<04:53, 14.68s/it]"
     ]
    },
    {
     "name": "stderr",
     "output_type": "stream",
     "text": [
      "\r",
      "running experiments:  81%|████████  | 81/100 [19:53<04:38, 14.63s/it]"
     ]
    },
    {
     "name": "stderr",
     "output_type": "stream",
     "text": [
      "\r",
      "running experiments:  82%|████████▏ | 82/100 [20:09<04:26, 14.81s/it]"
     ]
    },
    {
     "name": "stderr",
     "output_type": "stream",
     "text": [
      "\r",
      "running experiments:  83%|████████▎ | 83/100 [20:23<04:10, 14.71s/it]"
     ]
    },
    {
     "name": "stderr",
     "output_type": "stream",
     "text": [
      "\r",
      "running experiments:  84%|████████▍ | 84/100 [20:38<03:55, 14.71s/it]"
     ]
    },
    {
     "name": "stderr",
     "output_type": "stream",
     "text": [
      "\r",
      "running experiments:  85%|████████▌ | 85/100 [20:53<03:41, 14.73s/it]"
     ]
    },
    {
     "name": "stderr",
     "output_type": "stream",
     "text": [
      "\r",
      "running experiments:  86%|████████▌ | 86/100 [21:07<03:25, 14.71s/it]"
     ]
    },
    {
     "name": "stderr",
     "output_type": "stream",
     "text": [
      "\r",
      "running experiments:  87%|████████▋ | 87/100 [21:22<03:11, 14.71s/it]"
     ]
    },
    {
     "name": "stderr",
     "output_type": "stream",
     "text": [
      "\r",
      "running experiments:  88%|████████▊ | 88/100 [21:36<02:55, 14.66s/it]"
     ]
    },
    {
     "name": "stderr",
     "output_type": "stream",
     "text": [
      "\r",
      "running experiments:  89%|████████▉ | 89/100 [21:51<02:41, 14.68s/it]"
     ]
    },
    {
     "name": "stderr",
     "output_type": "stream",
     "text": [
      "\r",
      "running experiments:  90%|█████████ | 90/100 [22:05<02:25, 14.57s/it]"
     ]
    },
    {
     "name": "stderr",
     "output_type": "stream",
     "text": [
      "\r",
      "running experiments:  91%|█████████ | 91/100 [22:20<02:11, 14.62s/it]"
     ]
    },
    {
     "name": "stderr",
     "output_type": "stream",
     "text": [
      "\r",
      "running experiments:  92%|█████████▏| 92/100 [22:35<01:57, 14.71s/it]"
     ]
    },
    {
     "name": "stderr",
     "output_type": "stream",
     "text": [
      "\r",
      "running experiments:  93%|█████████▎| 93/100 [22:49<01:42, 14.60s/it]"
     ]
    },
    {
     "name": "stderr",
     "output_type": "stream",
     "text": [
      "\r",
      "running experiments:  94%|█████████▍| 94/100 [23:04<01:27, 14.66s/it]"
     ]
    },
    {
     "name": "stderr",
     "output_type": "stream",
     "text": [
      "\r",
      "running experiments:  95%|█████████▌| 95/100 [23:19<01:13, 14.62s/it]"
     ]
    },
    {
     "name": "stderr",
     "output_type": "stream",
     "text": [
      "\r",
      "running experiments:  96%|█████████▌| 96/100 [23:33<00:58, 14.59s/it]"
     ]
    },
    {
     "name": "stderr",
     "output_type": "stream",
     "text": [
      "\r",
      "running experiments:  97%|█████████▋| 97/100 [23:48<00:43, 14.58s/it]"
     ]
    },
    {
     "name": "stderr",
     "output_type": "stream",
     "text": [
      "\r",
      "running experiments:  98%|█████████▊| 98/100 [24:02<00:29, 14.57s/it]"
     ]
    },
    {
     "name": "stderr",
     "output_type": "stream",
     "text": [
      "\r",
      "running experiments:  99%|█████████▉| 99/100 [24:17<00:14, 14.50s/it]"
     ]
    },
    {
     "name": "stderr",
     "output_type": "stream",
     "text": [
      "\r",
      "running experiments: 100%|██████████| 100/100 [24:32<00:00, 14.59s/it]"
     ]
    },
    {
     "name": "stderr",
     "output_type": "stream",
     "text": [
      "\r",
      "running experiments: 100%|██████████| 100/100 [24:32<00:00, 14.72s/it]"
     ]
    },
    {
     "name": "stdout",
     "output_type": "stream",
     "text": [
      "CPU times: user 2h 35min 25s, sys: 12.5 s, total: 2h 35min 37s\n",
      "Wall time: 24min 32s\n"
     ]
    },
    {
     "name": "stderr",
     "output_type": "stream",
     "text": [
      "\n"
     ]
    }
   ],
   "source": [
    "%%time\n",
    "simulation.run_simulation(n_experiments, start_n, fit_params,shuffle_rows, pred_params, random_features, \\\n",
    "                          store_in_lists, save_eigenvector, save_hamiltonian, save_accuracy,\\\n",
    "                          save_models)\n",
    "if simulation.fourier_mode is not None:\n",
    "    simulation.fourier_dataframe.head(10)"
   ]
  },
  {
   "cell_type": "code",
   "execution_count": 24,
   "metadata": {
    "execution": {
     "iopub.execute_input": "2020-07-09T10:15:55.046730Z",
     "iopub.status.busy": "2020-07-09T10:15:55.046409Z",
     "iopub.status.idle": "2020-07-09T10:15:55.070931Z",
     "shell.execute_reply": "2020-07-09T10:15:55.071231Z"
    },
    "papermill": {
     "duration": 0.060657,
     "end_time": "2020-07-09T10:15:55.071295",
     "exception": false,
     "start_time": "2020-07-09T10:15:55.010638",
     "status": "completed"
    },
    "tags": []
   },
   "outputs": [
    {
     "data": {
      "text/html": [
       "<div>\n",
       "<style scoped>\n",
       "    .dataframe tbody tr th:only-of-type {\n",
       "        vertical-align: middle;\n",
       "    }\n",
       "\n",
       "    .dataframe tbody tr th {\n",
       "        vertical-align: top;\n",
       "    }\n",
       "\n",
       "    .dataframe thead th {\n",
       "        text-align: right;\n",
       "    }\n",
       "</style>\n",
       "<table border=\"1\" class=\"dataframe\">\n",
       "  <thead>\n",
       "    <tr style=\"text-align: right;\">\n",
       "      <th></th>\n",
       "      <th>id</th>\n",
       "      <th>path</th>\n",
       "      <th>t1</th>\n",
       "      <th>t2</th>\n",
       "      <th>winding</th>\n",
       "      <th>phase</th>\n",
       "      <th>pred_phase</th>\n",
       "      <th>type_of</th>\n",
       "      <th>feat0</th>\n",
       "      <th>feat1</th>\n",
       "      <th>...</th>\n",
       "      <th>feat90</th>\n",
       "      <th>feat91</th>\n",
       "      <th>feat92</th>\n",
       "      <th>feat93</th>\n",
       "      <th>feat94</th>\n",
       "      <th>feat95</th>\n",
       "      <th>feat96</th>\n",
       "      <th>feat97</th>\n",
       "      <th>feat98</th>\n",
       "      <th>feat99</th>\n",
       "    </tr>\n",
       "  </thead>\n",
       "  <tbody>\n",
       "    <tr>\n",
       "      <th>0</th>\n",
       "      <td>0</td>\n",
       "      <td>H_-2_-2_0.501338.dat</td>\n",
       "      <td>-2.0</td>\n",
       "      <td>-2.0</td>\n",
       "      <td>0.501338</td>\n",
       "      <td>999</td>\n",
       "      <td>-1</td>\n",
       "      <td>test</td>\n",
       "      <td>-0.130965</td>\n",
       "      <td>0.301130</td>\n",
       "      <td>...</td>\n",
       "      <td>-0.080279</td>\n",
       "      <td>-0.115687</td>\n",
       "      <td>-0.174988</td>\n",
       "      <td>0.245064</td>\n",
       "      <td>0.319763</td>\n",
       "      <td>-0.059082</td>\n",
       "      <td>-0.000556</td>\n",
       "      <td>-0.245133</td>\n",
       "      <td>-0.301130</td>\n",
       "      <td>0.130965</td>\n",
       "    </tr>\n",
       "    <tr>\n",
       "      <th>1</th>\n",
       "      <td>0</td>\n",
       "      <td>H_-2_-2_0.501338.dat</td>\n",
       "      <td>-2.0</td>\n",
       "      <td>-2.0</td>\n",
       "      <td>0.501338</td>\n",
       "      <td>999</td>\n",
       "      <td>-1</td>\n",
       "      <td>test</td>\n",
       "      <td>-0.130965</td>\n",
       "      <td>-0.301130</td>\n",
       "      <td>...</td>\n",
       "      <td>-0.080279</td>\n",
       "      <td>0.115687</td>\n",
       "      <td>-0.174988</td>\n",
       "      <td>-0.245064</td>\n",
       "      <td>0.319763</td>\n",
       "      <td>0.059082</td>\n",
       "      <td>-0.000556</td>\n",
       "      <td>0.245133</td>\n",
       "      <td>-0.301130</td>\n",
       "      <td>-0.130965</td>\n",
       "    </tr>\n",
       "    <tr>\n",
       "      <th>2</th>\n",
       "      <td>0</td>\n",
       "      <td>H_-2_-2_0.501338.dat</td>\n",
       "      <td>-2.0</td>\n",
       "      <td>-2.0</td>\n",
       "      <td>0.501338</td>\n",
       "      <td>999</td>\n",
       "      <td>-1</td>\n",
       "      <td>test</td>\n",
       "      <td>-0.148414</td>\n",
       "      <td>-0.042467</td>\n",
       "      <td>...</td>\n",
       "      <td>0.185442</td>\n",
       "      <td>-0.080620</td>\n",
       "      <td>-0.066211</td>\n",
       "      <td>-0.121339</td>\n",
       "      <td>-0.151700</td>\n",
       "      <td>0.192513</td>\n",
       "      <td>0.191642</td>\n",
       "      <td>-0.050956</td>\n",
       "      <td>-0.042467</td>\n",
       "      <td>-0.148414</td>\n",
       "    </tr>\n",
       "    <tr>\n",
       "      <th>3</th>\n",
       "      <td>0</td>\n",
       "      <td>H_-2_-2_0.501338.dat</td>\n",
       "      <td>-2.0</td>\n",
       "      <td>-2.0</td>\n",
       "      <td>0.501338</td>\n",
       "      <td>999</td>\n",
       "      <td>1</td>\n",
       "      <td>test</td>\n",
       "      <td>-0.069630</td>\n",
       "      <td>-0.026147</td>\n",
       "      <td>...</td>\n",
       "      <td>0.102009</td>\n",
       "      <td>-0.100671</td>\n",
       "      <td>-0.081002</td>\n",
       "      <td>-0.020715</td>\n",
       "      <td>-0.058717</td>\n",
       "      <td>0.115834</td>\n",
       "      <td>0.118274</td>\n",
       "      <td>-0.054666</td>\n",
       "      <td>-0.026147</td>\n",
       "      <td>-0.069630</td>\n",
       "    </tr>\n",
       "    <tr>\n",
       "      <th>4</th>\n",
       "      <td>0</td>\n",
       "      <td>H_-2_-2_0.501338.dat</td>\n",
       "      <td>-2.0</td>\n",
       "      <td>-2.0</td>\n",
       "      <td>0.501338</td>\n",
       "      <td>999</td>\n",
       "      <td>2</td>\n",
       "      <td>test</td>\n",
       "      <td>0.010206</td>\n",
       "      <td>-0.014625</td>\n",
       "      <td>...</td>\n",
       "      <td>0.047555</td>\n",
       "      <td>-0.041368</td>\n",
       "      <td>-0.018852</td>\n",
       "      <td>-0.017673</td>\n",
       "      <td>-0.023377</td>\n",
       "      <td>0.031447</td>\n",
       "      <td>0.010280</td>\n",
       "      <td>0.000925</td>\n",
       "      <td>0.014625</td>\n",
       "      <td>-0.010206</td>\n",
       "    </tr>\n",
       "    <tr>\n",
       "      <th>5</th>\n",
       "      <td>0</td>\n",
       "      <td>H_-2_-2_0.501338.dat</td>\n",
       "      <td>-2.0</td>\n",
       "      <td>-2.0</td>\n",
       "      <td>0.501338</td>\n",
       "      <td>999</td>\n",
       "      <td>1</td>\n",
       "      <td>test</td>\n",
       "      <td>0.116962</td>\n",
       "      <td>0.021475</td>\n",
       "      <td>...</td>\n",
       "      <td>-0.086901</td>\n",
       "      <td>-0.045676</td>\n",
       "      <td>-0.028034</td>\n",
       "      <td>0.129266</td>\n",
       "      <td>0.130083</td>\n",
       "      <td>-0.098190</td>\n",
       "      <td>-0.104188</td>\n",
       "      <td>-0.007911</td>\n",
       "      <td>0.021475</td>\n",
       "      <td>0.116962</td>\n",
       "    </tr>\n",
       "    <tr>\n",
       "      <th>6</th>\n",
       "      <td>0</td>\n",
       "      <td>H_-2_-2_0.501338.dat</td>\n",
       "      <td>-2.0</td>\n",
       "      <td>-2.0</td>\n",
       "      <td>0.501338</td>\n",
       "      <td>999</td>\n",
       "      <td>0</td>\n",
       "      <td>test</td>\n",
       "      <td>0.037175</td>\n",
       "      <td>-0.095882</td>\n",
       "      <td>...</td>\n",
       "      <td>-0.027490</td>\n",
       "      <td>0.046168</td>\n",
       "      <td>0.063419</td>\n",
       "      <td>-0.041630</td>\n",
       "      <td>-0.085769</td>\n",
       "      <td>-0.010604</td>\n",
       "      <td>-0.009822</td>\n",
       "      <td>0.084024</td>\n",
       "      <td>0.095882</td>\n",
       "      <td>-0.037175</td>\n",
       "    </tr>\n",
       "    <tr>\n",
       "      <th>7</th>\n",
       "      <td>0</td>\n",
       "      <td>H_-2_-2_0.501338.dat</td>\n",
       "      <td>-2.0</td>\n",
       "      <td>-2.0</td>\n",
       "      <td>0.501338</td>\n",
       "      <td>999</td>\n",
       "      <td>0</td>\n",
       "      <td>test</td>\n",
       "      <td>0.027709</td>\n",
       "      <td>-0.038180</td>\n",
       "      <td>...</td>\n",
       "      <td>0.123344</td>\n",
       "      <td>-0.114320</td>\n",
       "      <td>-0.057118</td>\n",
       "      <td>-0.040291</td>\n",
       "      <td>-0.061263</td>\n",
       "      <td>0.087153</td>\n",
       "      <td>0.029599</td>\n",
       "      <td>-0.001276</td>\n",
       "      <td>0.038180</td>\n",
       "      <td>-0.027709</td>\n",
       "    </tr>\n",
       "    <tr>\n",
       "      <th>8</th>\n",
       "      <td>0</td>\n",
       "      <td>H_-2_-2_0.501338.dat</td>\n",
       "      <td>-2.0</td>\n",
       "      <td>-2.0</td>\n",
       "      <td>0.501338</td>\n",
       "      <td>999</td>\n",
       "      <td>-1</td>\n",
       "      <td>test</td>\n",
       "      <td>0.059795</td>\n",
       "      <td>0.030272</td>\n",
       "      <td>...</td>\n",
       "      <td>-0.082347</td>\n",
       "      <td>0.140996</td>\n",
       "      <td>0.128386</td>\n",
       "      <td>-0.036608</td>\n",
       "      <td>0.029628</td>\n",
       "      <td>-0.124877</td>\n",
       "      <td>-0.140478</td>\n",
       "      <td>0.088573</td>\n",
       "      <td>0.030272</td>\n",
       "      <td>0.059795</td>\n",
       "    </tr>\n",
       "    <tr>\n",
       "      <th>9</th>\n",
       "      <td>0</td>\n",
       "      <td>H_-2_-2_0.501338.dat</td>\n",
       "      <td>-2.0</td>\n",
       "      <td>-2.0</td>\n",
       "      <td>0.501338</td>\n",
       "      <td>999</td>\n",
       "      <td>2</td>\n",
       "      <td>test</td>\n",
       "      <td>0.141605</td>\n",
       "      <td>0.013497</td>\n",
       "      <td>...</td>\n",
       "      <td>-0.035718</td>\n",
       "      <td>-0.110014</td>\n",
       "      <td>-0.082452</td>\n",
       "      <td>0.146084</td>\n",
       "      <td>0.152588</td>\n",
       "      <td>-0.067575</td>\n",
       "      <td>-0.087187</td>\n",
       "      <td>-0.043484</td>\n",
       "      <td>0.013497</td>\n",
       "      <td>0.141605</td>\n",
       "    </tr>\n",
       "  </tbody>\n",
       "</table>\n",
       "<p>10 rows × 108 columns</p>\n",
       "</div>"
      ],
      "text/plain": [
       "   id                  path   t1   t2   winding  phase  pred_phase type_of  \\\n",
       "0   0  H_-2_-2_0.501338.dat -2.0 -2.0  0.501338    999          -1    test   \n",
       "1   0  H_-2_-2_0.501338.dat -2.0 -2.0  0.501338    999          -1    test   \n",
       "2   0  H_-2_-2_0.501338.dat -2.0 -2.0  0.501338    999          -1    test   \n",
       "3   0  H_-2_-2_0.501338.dat -2.0 -2.0  0.501338    999           1    test   \n",
       "4   0  H_-2_-2_0.501338.dat -2.0 -2.0  0.501338    999           2    test   \n",
       "5   0  H_-2_-2_0.501338.dat -2.0 -2.0  0.501338    999           1    test   \n",
       "6   0  H_-2_-2_0.501338.dat -2.0 -2.0  0.501338    999           0    test   \n",
       "7   0  H_-2_-2_0.501338.dat -2.0 -2.0  0.501338    999           0    test   \n",
       "8   0  H_-2_-2_0.501338.dat -2.0 -2.0  0.501338    999          -1    test   \n",
       "9   0  H_-2_-2_0.501338.dat -2.0 -2.0  0.501338    999           2    test   \n",
       "\n",
       "      feat0     feat1  ...    feat90    feat91    feat92    feat93    feat94  \\\n",
       "0 -0.130965  0.301130  ... -0.080279 -0.115687 -0.174988  0.245064  0.319763   \n",
       "1 -0.130965 -0.301130  ... -0.080279  0.115687 -0.174988 -0.245064  0.319763   \n",
       "2 -0.148414 -0.042467  ...  0.185442 -0.080620 -0.066211 -0.121339 -0.151700   \n",
       "3 -0.069630 -0.026147  ...  0.102009 -0.100671 -0.081002 -0.020715 -0.058717   \n",
       "4  0.010206 -0.014625  ...  0.047555 -0.041368 -0.018852 -0.017673 -0.023377   \n",
       "5  0.116962  0.021475  ... -0.086901 -0.045676 -0.028034  0.129266  0.130083   \n",
       "6  0.037175 -0.095882  ... -0.027490  0.046168  0.063419 -0.041630 -0.085769   \n",
       "7  0.027709 -0.038180  ...  0.123344 -0.114320 -0.057118 -0.040291 -0.061263   \n",
       "8  0.059795  0.030272  ... -0.082347  0.140996  0.128386 -0.036608  0.029628   \n",
       "9  0.141605  0.013497  ... -0.035718 -0.110014 -0.082452  0.146084  0.152588   \n",
       "\n",
       "     feat95    feat96    feat97    feat98    feat99  \n",
       "0 -0.059082 -0.000556 -0.245133 -0.301130  0.130965  \n",
       "1  0.059082 -0.000556  0.245133 -0.301130 -0.130965  \n",
       "2  0.192513  0.191642 -0.050956 -0.042467 -0.148414  \n",
       "3  0.115834  0.118274 -0.054666 -0.026147 -0.069630  \n",
       "4  0.031447  0.010280  0.000925  0.014625 -0.010206  \n",
       "5 -0.098190 -0.104188 -0.007911  0.021475  0.116962  \n",
       "6 -0.010604 -0.009822  0.084024  0.095882 -0.037175  \n",
       "7  0.087153  0.029599 -0.001276  0.038180 -0.027709  \n",
       "8 -0.124877 -0.140478  0.088573  0.030272  0.059795  \n",
       "9 -0.067575 -0.087187 -0.043484  0.013497  0.141605  \n",
       "\n",
       "[10 rows x 108 columns]"
      ]
     },
     "execution_count": 24,
     "metadata": {},
     "output_type": "execute_result"
    }
   ],
   "source": [
    "simulation.dataframe.head(10)"
   ]
  },
  {
   "cell_type": "markdown",
   "metadata": {
    "papermill": {
     "duration": 0.034519,
     "end_time": "2020-07-09T10:15:55.142018",
     "exception": false,
     "start_time": "2020-07-09T10:15:55.107499",
     "status": "completed"
    },
    "tags": []
   },
   "source": [
    "#### Viewing a random sample"
   ]
  },
  {
   "cell_type": "code",
   "execution_count": 25,
   "metadata": {
    "execution": {
     "iopub.execute_input": "2020-07-09T10:15:55.213642Z",
     "iopub.status.busy": "2020-07-09T10:15:55.213033Z",
     "iopub.status.idle": "2020-07-09T10:15:55.223338Z",
     "shell.execute_reply": "2020-07-09T10:15:55.223019Z"
    },
    "papermill": {
     "duration": 0.046695,
     "end_time": "2020-07-09T10:15:55.223389",
     "exception": false,
     "start_time": "2020-07-09T10:15:55.176694",
     "status": "completed"
    },
    "tags": []
   },
   "outputs": [
    {
     "name": "stdout",
     "output_type": "stream",
     "text": [
      "CPU times: user 2 µs, sys: 0 ns, total: 2 µs\n",
      "Wall time: 3.81 µs\n"
     ]
    }
   ],
   "source": [
    "%%time\n",
    "if simulation.fourier_mode is not None:\n",
    "    simulation.fourier_dataframe.sample(frac=0.1, replace=False)"
   ]
  },
  {
   "cell_type": "markdown",
   "metadata": {
    "papermill": {
     "duration": 0.034134,
     "end_time": "2020-07-09T10:15:55.292817",
     "exception": false,
     "start_time": "2020-07-09T10:15:55.258683",
     "status": "completed"
    },
    "tags": []
   },
   "source": [
    "#### Checking train/val/test splits again"
   ]
  },
  {
   "cell_type": "code",
   "execution_count": 26,
   "metadata": {
    "execution": {
     "iopub.execute_input": "2020-07-09T10:15:55.366520Z",
     "iopub.status.busy": "2020-07-09T10:15:55.366199Z",
     "iopub.status.idle": "2020-07-09T10:15:55.551643Z",
     "shell.execute_reply": "2020-07-09T10:15:55.551948Z"
    },
    "papermill": {
     "duration": 0.224497,
     "end_time": "2020-07-09T10:15:55.552014",
     "exception": false,
     "start_time": "2020-07-09T10:15:55.327517",
     "status": "completed"
    },
    "tags": []
   },
   "outputs": [
    {
     "name": "stdout",
     "output_type": "stream",
     "text": [
      "% train:  0.4208199969516842\n",
      "% val:  0.42066758116140834\n",
      "% test:  0.15851242188690748\n",
      "% train + val + test:  1.0\n",
      "\n",
      "\n",
      "number of train hamiltonians:  2761\n",
      "number of val hamiltonians:  2760\n",
      "number of test hamiltonians:  1040\n",
      "total number of hamiltonians:  6561\n",
      "\n",
      "\n",
      "train ids:  [3998, 1460, 188, 5224, 2387, 136, 1484, 4910, 3911, 3758, 5437, 6098, 3045, 4084, 1242, 769, 1598, 4001, 3518, 6467, 5478, 1047, 943, 933, 148, 1340, 1850, 1625, 5257, 3933, 5918, 801, 3141, 4031, 6548, 2971, 425, 444, 2282, 5648, 2244, 4682, 5214, 3990, 5361, 3931, 1874, 929, 6497, 1668, 5422, 2031, 5356, 6048, 5034, 3423, 1191, 1167, 3120, 4320, 2989, 5142, 6368, 4952, 2690, 928, 3254, 1003, 453, 1742, 5218, 3039, 314, 6241, 1536, 6252, 1944, 1423, 4128, 1126, 5464, 2530, 5750, 3964, 3665, 3823, 2428, 3997, 2749, 3159, 5994, 3524, 4789, 3422, 285, 3991, 2644, 3711, 3049, 6286, 1893, 4633, 4444, 3411, 1650, 2026, 721, 6126, 3262, 4050, 3499, 3425, 6209, 3151, 2033, 4752, 2891, 4507, 160, 2167, 6505, 2330, 3025, 1596, 4302, 4730, 5270, 5732, 1707, 3937, 281, 3660, 3579, 4154, 5131, 5349, 42, 2743, 2876, 6042, 1362, 1706, 4239, 3275, 2942, 645, 3482, 1839, 5393, 2534, 2995, 1762, 3877, 5438, 2994, 962, 3530, 2722, 262, 5543, 261, 1954, 3063, 4589, 464, 1901, 522, 3961, 4410, 3448, 3221, 2171, 1433, 1521, 3356, 539, 860, 6058, 2715, 3026, 3455, 1587, 6096, 4008, 779, 1164, 4437, 6243, 2928, 4098, 1052, 4618, 4652, 4875, 4139, 5886, 5773, 5694, 6358, 2774, 4225, 516, 1128, 6080, 4364, 5687, 6081, 3600, 959, 1446, 5056, 4334, 3866, 4146, 2357, 1036, 5101, 2011, 3248, 2604, 2931, 5240, 3447, 3377, 5563, 4941, 1535, 3667, 3203, 3605, 5052, 6204, 3859, 6161, 206, 2800, 5954, 2557, 6188, 1702, 4971, 3335, 5836, 2278, 1735, 6404, 22, 3258, 3017, 1690, 5160, 6279, 757, 2895, 1021, 4009, 2242, 5299, 4888, 4442, 4703, 2889, 2284, 2348, 5344, 6047, 5850, 4145, 435, 5476, 4445, 2259, 4991, 3454, 3650, 2899, 2024, 1528, 1278, 1289, 4946, 178, 6202, 2776, 2969, 2510, 4597, 5972, 1788, 5377, 4916, 2123, 4213, 4382, 3297, 3456, 4191, 3771, 3128, 5427, 4199, 6140, 3603, 5608, 2559, 3739, 5703, 1510, 5277, 204, 3288, 2140, 4354, 1856, 5207, 797, 1499, 2203, 1852, 5389, 6293, 807, 3882, 4956, 70, 1591, 6119, 5683, 1354, 1749, 1651, 5927, 3537, 5206, 5618, 5933, 2962, 556, 4027, 4635, 6277, 799, 5050, 5621, 5282, 689, 1110, 3699, 5071, 4741, 4307, 1779, 2194, 3968, 5028, 4177, 3913, 5810, 4188, 1951, 2651, 6491, 4667, 2944, 6436, 5609, 2723, 6468, 1772, 2425, 3514, 1503, 1543, 4731, 3666, 5303, 3590, 4419, 6432, 2236, 4988, 3233, 4716, 2066, 1448, 4970, 2865, 712, 614, 2469, 2205, 1206, 5053, 5976, 5141, 1427, 1258, 3375, 2527, 2565, 4463, 2960, 667, 3680, 1842, 4417, 5971, 2063, 3729, 1123, 2431, 2981, 5383, 5398, 4608, 4324, 2519, 2277, 1038, 3744, 4565, 5025, 3463, 4862, 4630, 2470, 461, 5516, 6135, 5195, 5522, 4932, 1093, 2817, 6156, 6167, 386, 5325, 1517, 3464, 6481, 1914, 5316, 6374, 3952, 1271, 6515, 5463, 1999, 4418, 2189, 1357, 4775, 2595, 5150, 269, 4317, 4210, 1409, 4747, 707, 1297, 512, 4711, 1759, 125, 2851, 5479, 4076, 340, 4556, 2402, 5339, 4038, 3825, 4010, 2691, 1370, 845, 4599, 2516, 3184, 2681, 4497, 1655, 6524, 968, 4551, 4684, 4587, 5754, 2162, 6251, 3934, 565, 1039, 964, 5765, 4926, 5024, 4326, 5227, 3296, 6302, 3018, 2072, 1439, 1734, 1502, 5568, 4370, 4499, 3168, 6345, 4164, 2766, 3752, 3918, 5513, 6019, 1670, 1837, 1910, 4226, 5261, 3802, 5638, 4096, 224, 6007, 846, 6257, 145, 728, 183, 4035, 1435, 3953, 1938, 6018, 4950, 2249, 5283, 2489, 4720, 2521, 3552, 362, 3824, 1855, 5430, 3111, 646, 4453, 1513, 633, 62, 3477, 1424, 2699, 915, 2068, 6403, 1032, 2550, 210, 4137, 706, 1188, 5919, 1567, 6221, 6520, 5895, 5598, 6535, 2411, 6129, 2333, 720, 5505, 5807, 3231, 5728, 2002, 3230, 3944, 1078, 1368, 543, 4685, 3742, 5401, 1943, 2270, 1575, 4827, 5647, 3079, 2370, 5192, 1531, 4766, 2007, 4132, 3517, 3503, 616, 2972, 3631, 4959, 232, 187, 5014, 2017, 4892, 1029, 4739, 5381, 873, 5731, 790, 592, 4785, 4715, 4985, 1405, 5844, 2105, 4520, 2030, 4906, 4750, 3319, 3566, 3896, 3052, 177, 35, 181, 2562, 5149, 104, 4815, 3945, 5678, 3306, 3451, 1927, 3014, 2824, 2669, 927, 1986, 5123, 1859, 4396, 4079, 4563, 2587, 3135, 4262, 6090, 1033, 4515, 5095, 3051, 5642, 447, 389, 3826, 3533, 5758, 3042, 5921, 213, 2818, 3861, 458, 263, 919, 2312, 2038, 4375, 6304, 6342, 1729, 4713, 4399, 265, 3481, 2742, 2266, 611, 118, 5855, 1649, 5139, 2482, 1919, 3862, 642, 1431, 3156, 2522, 1094, 2654, 3163, 558, 2568, 1838, 5359, 971, 5633, 4292, 4402, 5857, 6346, 370, 872, 4435, 1851, 507, 5794, 5110, 75, 2445, 3249, 2955, 4653, 864, 5366, 5967, 3369, 1255, 3706, 1131, 4719, 6189, 2477, 3716, 2503, 5712, 6425, 4245, 6528, 808, 638, 1451, 3065, 2700, 6443, 1866, 3238, 154, 4780, 341, 450, 4743, 5785, 2886, 358, 3637, 2234, 6433, 4289, 540, 5459, 2526, 4168, 5446, 3730, 6459, 361, 4806, 2529, 3846, 682, 3457, 3323, 2813, 6328, 5475, 2793, 2797, 1853, 6357, 3185, 514, 2365, 2914, 2567, 767, 3864, 4054, 2993, 3585, 5038, 696, 73, 5778, 5841, 5916, 2122, 2401, 1406, 3822, 1975, 4549, 4909, 2393, 2523, 279, 367, 3549, 5627, 1022, 4562, 6371, 484, 5397, 1268, 4068, 3784, 725, 1605, 3640, 3717, 4539, 6104, 1413, 1108, 4185, 466, 3969, 2496, 963, 5880, 139, 4242, 2446, 72, 1666, 5564, 1049, 3165, 2388, 1196, 2186, 1661, 4558, 4089, 3942, 3325, 1028, 3720, 259, 4801, 6423, 5267, 2772, 2285, 3571, 4032, 2848, 5570, 68, 2761, 2465, 5243, 6010, 1793, 3183, 4134, 3415, 1165, 4607, 1615, 1746, 5837, 59, 3263, 1840, 304, 692, 3748, 6496, 636, 137, 4280, 4378, 2163, 5628, 4965, 6005, 2577, 6536, 970, 1523, 4516, 1106, 3746, 1486, 5391, 4211, 477, 515, 1862, 6043, 3894, 4669, 2801, 5679, 1425, 3234, 3294, 5930, 4798, 1281, 5238, 4658, 5891, 4609, 3392, 1444, 2894, 2356, 4782, 3378, 211, 4373, 2977, 1443, 4523, 3975, 5041, 4857, 3562, 1500, 3821, 506, 438, 1755, 3610, 1936, 3790, 4697, 5454, 1955, 4175, 2810, 2267, 3488, 6159, 3868, 6544, 4049, 629, 3245, 1455, 4855, 628, 1410, 426, 5365, 768, 351, 6356, 4896, 5107, 4393, 3544, 1031, 5998, 2263, 2337, 2453, 16, 6488, 3970, 3125, 3643, 3305, 4494, 185, 5477, 5555, 2860, 5942, 3206, 1422, 2323, 1372, 5105, 4093, 1363, 3515, 4621, 274, 770, 6196, 2199, 6385, 1134, 1518, 2668, 5675, 1989, 780, 6288, 4632, 197, 2435, 5677, 671, 6534, 3697, 4867, 6206, 5865, 2647, 202, 4631, 3599, 3651, 1619, 6509, 4559, 3162, 1322, 5269, 2494, 1197, 5843, 4246, 6173, 678, 1515, 2924, 3681, 1861, 4074, 587, 4714, 1613, 5706, 2997, 3943, 3804, 1030, 135, 1203, 5295, 848, 690, 3366, 4783, 2447, 3043, 4467, 4405, 1911, 2674, 3413, 6008, 4222, 3493, 5197, 2153, 3627, 6364, 2081, 2102, 2433, 2154, 4863, 4803, 5461, 4124, 5313, 4187, 4781, 5802, 5558, 2484, 5521, 3442, 4823, 2718, 1374, 2566, 5948, 4456, 2328, 5114, 954, 3591, 1576, 2016, 1520, 5691, 108, 3646, 4645, 4256, 4641, 3492, 3144, 6523, 3950, 190, 6040, 1835, 229, 5949, 3410, 5551, 871, 4898, 6320, 2084, 3352, 2729, 303, 3479, 2926, 6271, 3225, 3321, 2082, 5480, 5977, 803, 225, 2585, 2881, 5567, 1493, 427, 6370, 5194, 1295, 4357, 4268, 2061, 4503, 3710, 4130, 2255, 6508, 2659, 4248, 2956, 5487, 6375, 5037, 870, 4158, 5429, 275, 1508, 3498, 2888, 346, 2875, 3383, 536, 102, 5874, 2726, 5885, 1648, 56, 2935, 6297, 3436, 4610, 4081, 6244, 3496, 2859, 3609, 5484, 4000, 6215, 3330, 2832, 6034, 1620, 6282, 5274, 590, 3259, 6261, 931, 4649, 6378, 3189, 3126, 3428, 5767, 2412, 4807, 6162, 4421, 2281, 4897, 5039, 1010, 4361, 375, 6024, 4794, 3082, 1130, 1122, 15, 5856, 430, 5136, 5400, 3078, 1270, 6466, 5756, 1284, 268, 3580, 1181, 4141, 4319, 6207, 836, 4474, 6323, 6408, 5889, 295, 6124, 3337, 3027, 3268, 4316, 830, 5092, 475, 5368, 3628, 5211, 6526, 2056, 2849, 199, 5109, 3817, 5265, 5606, 889, 890, 869, 2667, 3708, 306, 4407, 1351, 2996, 4575, 6087, 1894, 5015, 231, 2448, 5917, 2152, 1016, 3794, 228, 1826, 6502, 2344, 2201, 4415, 3703, 1025, 4534, 3302, 3775, 1900, 1770, 3595, 3722, 3161, 5671, 4490, 5215, 4891, 5379, 1533, 2645, 2073, 6415, 4411, 6242, 4204, 5100, 2104, 6218, 1352, 774, 2764, 5772, 5935, 5204, 3548, 3819, 4813, 519, 5154, 2251, 6177, 31, 4312, 2733, 1931, 6421, 6463, 4051, 1603, 1339, 1532, 4996, 4108, 4198, 2064, 3100, 441, 4203, 789, 6030, 4808, 1323, 2864, 3149, 1896, 1616, 5504, 4300, 6287, 1588, 2754, 2339, 4721, 1730, 3091, 4002, 3418, 2775, 4654, 186, 1251, 2013, 2574, 3837, 3405, 6499, 3604, 1915, 2803, 3450, 5276, 95, 4125, 1753, 4636, 471, 2112, 4681, 4383, 1085, 271, 3719, 1791, 2547, 1698, 5791, 4065, 4554, 3462, 1918, 3777, 3726, 3597, 4885, 3020, 3850, 3675, 5173, 364, 4448, 1568, 6347, 1737, 3077, 1250, 5854, 1180, 6454, 837, 2157, 2096, 6223, 5145, 1186, 3081, 5944, 241, 3629, 2010, 4732, 2880, 602, 5539, 396, 3106, 4155, 2287, 3573, 5672, 2237, 5776, 349, 6219, 6245, 3613, 65, 1757, 4258, 2528, 5278, 4861, 1244, 4535, 4767, 3676, 5538, 1994, 1534, 1416, 4003, 2670, 1199, 3702, 112, 3257, 3974, 2198, 668, 4734, 2089, 1527, 1982, 465, 5833, 999, 5399, 4366, 5757, 6439, 3187, 3760, 5688, 6457, 4564, 2197, 5045, 317, 6426, 301, 3412, 17, 78, 3316, 3097, 5710, 6540, 2552, 198, 2451, 4126, 5946, 5181, 2320, 399, 945, 4293, 1676, 3398, 1414, 647, 4480, 3478, 6268, 547, 5715, 956, 4392, 4679, 195, 4710, 1086, 2093, 1291, 3977, 5421, 1243, 3959, 5185, 4473, 5808, 1046, 1120, 877, 5525, 3074, 6532, 3813, 3583, 3757, 4726, 4282, 591, 2501, 861, 4179, 1541, 5996, 13, 3292, 4371, 3470, 4073, 5077, 4159, 2003, 5073, 4277, 2883, 1019, 1163, 272, 3429, 4569, 310, 3611, 3491, 2118, 4152, 2575, 5557, 4465, 4638, 3812, 6422, 454, 5287, 3353, 5236, 69, 6484, 4824, 2695, 6078, 5968, 1674, 3648, 6545, 1274, 1522, 5611, 1257, 2748, 6029, 4550, 5729, 3484, 313, 3272, 2012, 2592, 6338, 4450, 1190, 217, 6028, 3131, 2472, 1092, 2896, 853, 1491, 2039, 4491, 3440, 403, 782, 6253, 3919, 753, 3774, 2250, 3122, 5720, 4712, 4212, 1076, 5602, 1950, 5279, 2091, 3458, 776, 2769, 1344, 3404, 3635, 2939, 2361, 1917, 308, 6182, 4522, 2514, 632, 6192, 394, 3022, 758, 3381, 5264, 5507, 2641, 2392, 2316, 2877, 4930, 3124, 3558, 3900, 4613, 4502, 368, 843, 4066, 2366, 1177, 5800, 2119, 940, 3012, 5474, 3044, 1573, 6419, 4665, 6246, 2177, 4309, 2798, 3751, 5233, 6000, 4700, 4110, 3554, 1215, 4004, 149, 588, 5051, 6200, 6383, 2795, 3674, 1411, 2029, 5235, 3541, 1787, 5527, 5610, 2773, 711, 3624, 5340, 4447, 354, 5719, 1978, 4045, 1610, 3132, 2399, 2354, 2985, 6450, 2027, 3181, 6377, 311, 5835, 48, 3087, 4398, 3617, 4784, 1774, 4650, 2368, 1011, 3770, 6191, 3175, 625, 5512, 786, 3712, 1348, 2474, 1767, 3920, 4477, 219, 4196, 4332, 3764, 4005, 4230, 4107, 3721, 3741, 4276, 5097, 763, 5872, 2921, 5867, 1907, 1740, 2346, 6033, 4945, 2929, 3166, 5556, 5524, 485, 2385, 888, 5466, 6290, 6444, 6431, 3004, 5308, 5125, 6055, 5603, 5058, 3497, 278, 2902, 3357, 679, 1997, 4517, 1376, 6003, 5943, 5635, 1001, 6416, 6411, 5593, 5018, 3001, 4234, 5350, 3355, 4725, 4044, 2331, 3050, 2345, 3510, 3370, 5177, 3656, 369, 4602, 1537, 470, 3773, 3358, 1437, 771, 3814, 4583, 5707, 4024, 6051, 2170, 4708, 1703, 4614, 1654, 508, 3909, 3304, 2444, 2235, 2301, 764, 446, 77, 2583, 630, 5225, 4816, 151, 3955, 6001, 4639, 4655, 1489, 4847, 18, 5035, 3150, 3836, 3173, 30, 5285, 5790, 1187, 459, 5805, 531, 607, 6044, 1697, 1525, 3505, 2999, 1501, 5290, 1174, 4286, 5681, 3853, 4688, 6084, 2321, 1288, 3365, 3954, 5228, 4228, 3437, 3956, 4395, 3768, 4981, 3009, 2274, 2115, 594, 4318, 882, 2687, 2405, 4938, 586, 6550, 5956, 2648, 3693, 2655, 2967, 4257, 3334, 5019, 1098, 6330, 6185, 1996, 3691, 5845, 6354, 2256, 395, 1895, 4943, 598, 6208, 2417, 3878, 4709, 3205, 1519, 5456, 3786, 3688, 2438, 4664, 2141, 3601, 851, 5021, 5485, 2601, 2829, 518, 961, 2640, 4438, 2439, 3345, 5395, 5072, 227, 3663, 2144, 4953, 3317, 4915, 5103, 3924, 6344, 2308, 4103, 3244, 3266, 1662, 1669, 1958, 4797, 5138, 6533, 1863, 2450, 5693, 2107, 2229, 2106, 998, 4911, 6506, 3890, 1034, 1825, 2963, 2676, 3915, 5096, 2286, 5676, 4388, 365, 5674, 3426, 2023, 5925, 3347, 4894, 1988, 2319, 2847, 3299, 2475, 5876, 4023, 5650, 5183, 1704, 6128, 5022, 1457, 674, 222, 1691, 5226, 4683, 432, 3153, 2479, 3586, 4882, 4601, 5613, 2181, 1200, 3808, 3406, 1264, 2688, 1360, 5473, 3947, 3638, 203, 4165, 2635, 710, 2434, 2731, 4939, 3689, 482, 3475, 2188, 4217, 5263, 1184, 6359, 4576, 1821, 3870, 1379, 4687, 3698, 528, 4989, 3988, 4702, 3686, 1007, 1345, 3803, 34, 4321, 4236, 6210, 5455, 4967, 2187, 372, 5128, 3618, 3718, 4087, 3743, 3810, 6171, 5442, 5781, 1512, 4048, 6294, 3058, 5526, 2982, 913, 2426, 3344, 5310, 3895, 3108, 5530, 4247, 4072, 3535, 1027, 431, 6300, 282, 953, 883, 5059, 4748, 4871, 3820, 6125, 124, 1091, 6363, 2223, 1081, 3852, 726, 4170, 6134, 2478, 4830, 1705, 5839, 2863, 4578, 1359, 3333, 2692, 1042, 2569, 5152, 3015, 3827, 4290, 3763, 1325, 3561, 4201, 2179, 3341, 5897, 750, 1214, 5509, 2992, 1814, 1341, 3661, 3303, 5392, 4680, 3069, 1495, 1991, 6201, 297, 3038, 2807, 936, 1452, 3226, 3908, 2781, 6205, 2415, 3007, 5814, 5617, 517, 5280, 4527, 717, 3465, 3985, 5372, 3264, 4461, 5008, 4663, 319, 1538, 5798, 3129, 2353, 110, 4540, 2101, 2512, 6166, 2322, 942, 1590, 6448, 4802, 3880, 3277, 6115, 1436, 967, 4693, 2739, 6376, 5286, 3246, 4215, 23, 1681, 5023, 80, 4369, 3791, 5314, 6464, 4934, 6017, 289, 2151, 5723, 1977, 766, 3847, 4253, 4167, 6258, 6427, 4115, 5118, 6012, 45, 4879, 6267, 1600, 3844, 107, 1329, 3201, 4859, 4969, 6441, 3274, 3062, 4914, 4436, 2028, 4572, 2822, 2918, 4219, 6165, 1744, 3397, 5078, 6511, 238, 3587, 4986, 852, 5786, 2117, 4643, 46, 2230, 1913, 53, 6510, 4749, 6504, 4666, 5129, 2518, 1786, 1045, 123, 6514, 5923, 2678, 5641, 452, 1902, 208, 6172, 3879, 4821, 1507, 2008, 6327, 4493, 885, 4625, 5405, 3806, 6273, 1847, 5795, 2925, 3260, 5714, 5209, 2732, 2531, 47, 2631, 388, 2383, 1921, 3633, 3673, 3441, 4299, 5148, 3914, 5440, 2338, 5792, 3328, 4647, 189, 2947, 3869, 5425, 5520, 2917, 4471, 1775, 3528, 1421, 1998, 1748, 293, 5385, 4034, 6546, 223, 1355, 5044, 345, 2037, 404, 436, 4322, 4744, 5612, 4069, 996, 3578, 1035, 5262, 559, 1546, 4432, 5936, 6102, 4273, 2698, 2613, 1005, 3602, 3511, 5338, 672, 4218, 371, 756, 4131, 6305, 2391, 39, 5423, 153, 3237, 6350, 1121, 1529, 4422, 5964, 1829, 359, 5787, 4314, 923, 26, 1117, 113, 1041, 449, 309, 434, 2747, 4094, 1287, 3384, 276, 2679, 4880, 6265, 4231, 5029, 6105, 1941, 5157, 2589, 1285, 230, 5451, 3224, 4611, 5960, 5010, 2828, 1983, 3547, 6190, 3291, 457, 676, 5190, 2418, 455, 1458, 6530, 617, 3851, 3659, 2173, 2656, 3922, 357, 5439, 2934, 3728, 2325, 5599, 533, 6348, 3432, 4521, 58, 4656, 4530, 755, 6369, 694, 2933, 4582, 708, 858, 4063, 4560, 589, 4433, 6056, 4937, 3232, 4216, 3267, 4075, 935, 5730, 2443, 1204, 4434, 6049, 4106, 1296, 2633, 5517, 2819, 103, 3350, 3841, 948, 3376, 4890, 474, 4763, 5594, 6114, 1330, 4163, 5342, 4025, 4793, 3856, 4136, 4362, 4209, 5046, 4772, 5569, 6163, 3670, 1256, 785, 3647, 3193, 4778, 1158, 3932, 29, 3787, 610, 4728, 1195, 5307, 4341, 4761, 4085, 1673, 5939, 5788, 4612, 688, 4537, 4864, 5701, 5122, 1463, 5040, 4498, 5428, 2906, 445, 2697, 5234, 2639, 1198, 134, 2721, 5631, 1328, 4310, 3338, 2493, 1349, 5436, 4409, 3389, 4746, 296, 863, 958, 1381, 3577, 788, 687, 6537, 2092, 3314, 6238, 3075, 1763, 5431, 4844, 4070, 1428, 5113, 4173, 3930, 2504, 218, 3006, 4571, 5924, 3992, 1173, 4848, 4060, 2160, 3336, 6486, 2423, 3732, 5969, 695, 5852, 2976, 5892, 221, 3308, 5783, 380, 3469, 212, 4287, 2397, 3243, 6178, 5724, 3653, 4138, 675, 2919, 3797, 5161, 4487, 5955, 1456, 618, 3966, 4818, 912, 831, 704, 1171, 6321, 3695, 1618, 749, 4623, 5384, 4223, 6334, 119, 4006, 5222, 5158, 4927, 3164, 1023, 4043, 1402, 5670, 854, 2940, 1097, 6075, 6248, 5812, 879, 2975, 6424, 460, 3287, 1586, 1583, 4062, 608, 787, 6193, 6255, 3326, 290, 4722, 2646, 3781, 4961, 5766, 6093, 941, 2945, 1811, 307, 643, 503, 1375, 832, 1488, 302, 4692, 3041, 4237, 3021, 2686, 3598, 4078, 37, 1813, 2834, 4889, 5127, 3612, 4957, 5534, 2591, 1353, 2777, 865, 5111, 2833, 1273, 5371, 5870, 5596, 6123, 3269, 1043, 1192, 1593, 3725, 4776, 3256, 1112, 3884, 2756, 1449, 476, 2310, 6181, 5878, 6485, 133, 4845, 1756, 3504, 1733, 6414, 5941, 4056, 2979, 1589, 5467, 537, 6101, 2245, 4379, 3527, 6130, 3523, 4297, 5806, 3037, 1976, 1899, 4548, 4706, 1498, 5217, 5762, 3147, 5958, 5032, 3986, 1870, 6220, 2727, 4281, 3724, 1269, 4931, 5848, 4344, 5306, 4443, 3322, 4029, 1492, 3123, 6326, 855, 2588, 965, 5017, 3013, 4598, 2019, 1658, 1656, 3215, 6519, 5232, 4220, 299, 5566, 2410, 3417, 3569, 5869, 3987, 2155, 1709, 6332, 4620, 3795, 2490, 6127, 1903, 566, 2108, 4207, 6240, 1771, 3089, 1429, 114, 6402, 2858, 5801, 1331, 3904]\n",
      "val ids:  [4561, 5970, 3592, 4011, 5115, 142, 5260, 2035, 2079, 4327, 1193, 2730, 5561, 3019, 5069, 1933, 1929, 3939, 366, 3180, 2946, 4387, 5472, 6022, 4232, 6085, 6469, 4552, 5673, 6430, 1432, 866, 1571, 765, 6366, 5616, 5433, 478, 2303, 105, 5057, 1419, 1462, 122, 5859, 5294, 1275, 3374, 4526, 620, 3354, 387, 3209, 4058, 6278, 3072, 6112, 5117, 3641, 4184, 2498, 3902, 4343, 3130, 542, 4311, 1447, 5133, 5470, 6284, 2983, 2911, 635, 6059, 5301, 960, 2831, 1254, 2305, 6379, 1812, 2275, 549, 6108, 1505, 1683, 55, 209, 4259, 2861, 2318, 6517, 4644, 4178, 5549, 2713, 3887, 2675, 2273, 1116, 876, 3261, 2165, 5091, 5281, 2349, 4111, 2396, 1606, 1133, 3307, 3169, 5883, 691, 2394, 3382, 3671, 2441, 5298, 4097, 5629, 1201, 5624, 4249, 554, 880, 2317, 5302, 1792, 353, 4172, 3983, 2915, 4397, 2485, 5997, 6551, 54, 6291, 4777, 1101, 121, 4642, 4197, 1002, 4868, 2074, 150, 5764, 1677, 806, 2467, 681, 1253, 2909, 4887, 6406, 2342, 2630, 264, 551, 3792, 1280, 1765, 3155, 5863, 3982, 3414, 2792, 3318, 2058, 1781, 3765, 4376, 4738, 6021, 5378, 3061, 6298, 593, 510, 3191, 1440, 1776, 4488, 2602, 562, 778, 2741, 4105, 5360, 4544, 2432, 3845, 5289, 596, 5751, 2398, 2065, 2874, 1459, 5503, 6013, 2614, 914, 2978, 4566, 3626, 2358, 1867, 2114, 6283, 4401, 2657, 4356, 5272, 5355, 2637, 5625, 5386, 2804, 3393, 1745, 3461, 3452, 3054, 3669, 639, 6522, 1179, 6211, 4360, 4462, 759, 1995, 4007, 6539, 703, 6046, 1957, 2907, 1259, 3863, 5074, 2845, 2238, 6319, 3385, 4774, 521, 3029, 5506, 61, 2816, 156, 379, 1585, 627, 534, 5775, 6549, 1832, 4856, 6435, 5219, 2802, 4976, 5861, 2174, 6091, 1183, 2062, 3564, 4077, 5879, 4646, 5929, 3926, 2746, 917, 5605, 1864, 3494, 424, 3476, 3960, 3204, 2095, 1464, 2606, 4083, 2111, 4458, 6543, 1044, 4133, 2885, 2422, 451, 2109, 4605, 4466, 4254, 2078, 2799, 5061, 5369, 3843, 4071, 5849, 5159, 1407, 5465, 5585, 4622, 3349, 2716, 2642, 2932, 2974, 5135, 1205, 3778, 3076, 6025, 6531, 4670, 5188, 5716, 5132, 4416, 6057, 4208, 4893, 2938, 2652, 1873, 4041, 2487, 622, 5523, 6495, 2838, 5769, 698, 3145, 1194, 1178, 5104, 3630, 6095, 3536, 2836, 1696, 2661, 6132, 5604, 1506, 5690, 2191, 2430, 3506, 4241, 4086, 3339, 5709, 3142, 3218, 1664, 1871, 1743, 4694, 152, 564, 5770, 693, 529, 3367, 2240, 3809, 3005, 844, 5542, 1346, 4080, 1263, 5871, 1008, 2335, 4883, 2021, 4476, 4928, 5890, 3416, 4990, 995, 2018, 4414, 5323, 2302, 4661, 1496, 2009, 1872, 3951, 5937, 2389, 951, 1948, 4413, 4160, 4426, 57, 3192, 5510, 2555, 4606, 4828, 4651, 2225, 5042, 4122, 781, 3174, 3104, 3512, 5186, 4229, 4968, 2228, 4057, 3664, 4577, 4616, 196, 2257, 6006, 3645, 3449, 3818, 700, 2243, 5546, 1088, 4543, 4977, 4342, 4788, 4127, 3223, 3723, 4942, 2887, 2511, 1675, 3520, 6259, 5840, 1657, 4408, 4799, 6329, 28, 5259, 3083, 2413, 2036, 3616, 1157, 3391, 5888, 4545, 3623, 469, 6164, 143, 1758, 762, 3957, 2890, 5951, 930, 1987, 2778, 3407, 1875, 969, 3513, 5288, 5151, 4021, 544, 5619, 4834, 5193, 4604, 98, 2578, 4528, 4148, 921, 1751, 423, 3733, 5649, 4525, 1608, 5782, 294, 3247, 3701, 4374, 1114, 5536, 4483, 3327, 2178, 6542, 4039, 5779, 683, 3284, 2599, 1731, 916, 1844, 1050, 3727, 6116, 5221, 2913, 5191, 4484, 868, 1166, 1897, 1908, 555, 2809, 4809, 6400, 5862, 74, 1438, 3213, 3696, 4962, 6525, 603, 1216, 1544, 192, 2283, 809, 3981, 3068, 4013, 1580, 4238, 4112, 6353, 1018, 4192, 385, 1926, 1621, 1761, 6118, 131, 2582, 2757, 1592, 312, 6480, 3893, 3170, 1956, 5952, 6016, 2815, 3011, 5182, 1754, 5108, 3105, 5030, 4617, 2710, 6060, 3738, 2673, 3941, 2717, 2581, 5304, 1162, 1922, 4384, 511, 3828, 2110, 3301, 2471, 4403, 6349, 2265, 4449, 6199, 3023, 6303, 322, 5205, 3807, 4365, 5759, 5644, 5134, 5704, 5725, 5112, 3282, 4718, 3270, 3989, 3636, 4773, 5646, 1526, 1442, 2271, 1494, 2231, 4315, 4717, 800, 677, 5256, 1932, 697, 4460, 4899, 3949, 2780, 3309, 3121, 207, 44, 3210, 5915, 626, 4200, 5094, 392, 100, 3903, 796, 2632, 5033, 2862, 4166, 2176, 4082, 513, 1441, 2811, 2616, 5961, 3858, 4727, 5011, 2821, 613, 5614, 2782, 1924, 3849, 545, 1009, 5695, 5458, 3096, 4352, 6004, 1212, 3439, 1511, 6111, 5144, 2427, 1127, 284, 3271, 1768, 1099, 1566, 3101, 2694, 4997, 541, 6117, 553, 3559, 2852, 4102, 1245, 144, 563, 6083, 5370, 6455, 6434, 4046, 3092, 4372, 3793, 2968, 3796, 1979, 20, 4451, 1113, 3865, 3799, 3466, 5237, 6184, 2755, 2424, 2903, 2077, 1949, 2638, 2998, 1784, 117, 5858, 585, 2403, 4482, 1294, 6343, 5632, 3658, 3107, 1109, 5426, 3387, 1990, 3028, 381, 3575, 4935, 2970, 3509, 4303, 4153, 6239, 4810, 4022, 60, 5448, 3576, 4975, 1014, 321, 36, 2586, 2905, 2150, 2826, 805, 1350, 5099, 1624, 2765, 3948, 3776, 1105, 1454, 6216, 3912, 5931, 5284, 6324, 111, 887, 838, 3639, 1461, 5722, 1485, 4699, 4271, 442, 2823, 2916, 1836, 794, 3289, 481, 1572, 2560, 3905, 439, 4849, 6417, 6339, 242, 2332, 1338, 4698, 754, 5322, 595, 3848, 6352, 49, 1118, 4737, 286, 4723, 3133, 4908, 5064, 619, 147, 5016, 3567, 2724, 884, 4790, 1906, 5403, 3501, 4014, 179, 6428, 886, 226, 2973, 4306, 4274, 2241, 4573, 2987, 609, 1841, 538, 1209, 6452, 1569, 3570, 6281, 4881, 1089, 4695, 6194, 4949, 772, 2806, 1789, 6270, 4951, 4425, 3424, 64, 5488, 4912, 3963, 3642, 6097, 2502, 4984, 939, 4858, 5203, 2359, 4629, 4833, 6082, 2857, 4174, 3099, 4873, 462, 6296, 2685, 637, 5711, 5669, 6387, 4944, 4120, 6547, 4367, 4853, 2022, 3976, 3500, 4733, 6089, 5382, 3472, 4150, 1857, 1946, 3750, 6482, 3402, 4936, 3555, 752, 1324, 1115, 3090, 2605, 2195, 5049, 2059, 5120, 6456, 2421, 3298, 4860, 4147, 4308, 4452, 6170, 1869, 5682, 3789, 3390, 4648, 4368, 3871, 2437, 2369, 348, 5321, 4600, 5068, 4940, 4470, 4506, 5809, 1830, 3872, 997, 5622, 2615, 2262, 2386, 3252, 391, 3734, 5106, 2570, 6275, 1373, 1337, 5668, 5838, 2204, 1102, 3899, 2941, 718, 4574, 1087, 1077, 6179, 2593, 5932, 2336, 2930, 5832, 5637, 2590, 1736, 3867, 532, 4269, 4947, 6274, 2837, 6409, 1827, 2693, 2069, 833, 4330, 1732, 2313, 3002, 5847, 4349, 1487, 1040, 2252, 1942, 2001, 2737, 5070, 5102, 1013, 4067, 1037, 2429, 3098, 5851, 1509, 1516, 6336, 5774, 4227, 1594, 5974, 3253, 4570, 5469, 1687, 5928, 5884, 3359, 140, 3453, 97, 5547, 5453, 1542, 3614, 3008, 3148, 2879, 4974, 5198, 3737, 524, 106, 3236, 4381, 467, 6351, 5554, 5009, 1290, 1299, 1129, 604, 5481, 6174, 4202, 4240, 5796, 5913, 180, 5815, 2850, 1773, 5402, 615, 4955, 6449, 2827, 2304, 5055, 6381, 1202, 6322, 3388, 2634, 6516, 2961, 1261, 6009, 109, 4901, 6237, 2744, 798, 5926, 4129, 1937, 6372, 5864, 5121, 5559, 4295, 5373, 4779, 2812, 5353, 4546, 3713, 2617, 1953, 1679, 4886, 5717, 2884, 2677, 3916, 724, 2794, 267, 3047, 1783, 2808, 6489, 5048, 3581, 994, 99, 1609, 1450, 1708, 5592, 63, 4671, 4355, 3672, 1828, 363, 862, 3095, 1777, 4143, 4243, 2473, 2878, 5962, 5346, 6214, 5062, 3222, 5721, 1820, 5311, 6367, 2779, 3067, 1701, 472, 5518, 3622, 5447, 3788, 2505, 2937, 1445, 3241, 6483, 4255, 1276, 4905, 4745, 5873, 5793, 378, 6050, 2966, 129, 1168, 6045, 6222, 21, 4903, 2192, 4479, 937, 6120, 1920, 4811, 3286, 850, 5811, 2184, 2814, 3596, 6331, 5223, 5271, 670, 3556, 6410, 291, 4284, 2070, 2075, 3709, 3838, 6399, 4504, 3539, 4657, 548, 5528, 1752, 605, 239, 5445, 2965, 842, 1293, 6014, 3158, 5345, 2628, 1778, 2169, 2492, 5347, 2584, 3888, 4026, 4118, 4104, 4400, 4439, 3546, 5965, 4514, 3473, 2202, 550, 4964, 4983, 6333, 6203, 6276, 1981, 3171, 924, 4765, 4495, 5804, 400, 751, 5726, 3831, 2609, 6295, 3433, 2649, 3395, 5689, 3735, 2745, 4865, 5875, 215, 1170, 2508, 4092, 3654, 3928, 719, 3594, 2004, 3876, 505, 4329, 4876, 4933, 5630, 157, 5515, 4121, 2264, 4336, 2563, 3421, 4854, 4261, 3652, 5945, 4441, 1623, 713, 159, 287, 4012, 1332, 2728, 4296, 3677, 1628, 1845, 6507, 1689, 4221, 4328, 4406, 4305, 5733, 2103, 5789, 5761, 3657, 4742, 6136, 5718, 5054, 6121, 5842, 5435, 1984, 4205, 5031, 2395, 6041, 4541, 1292, 6280, 3901, 1985, 1843, 116, 1241, 4390, 6538, 1252, 3340, 1095, 2553, 4735, 2554, 835, 1699, 1347, 3907, 5143, 3217, 1378, 4987, 881, 3685, 2221, 4252, 1100, 6015, 3053, 4042, 3255, 4270, 804, 1876, 6176, 3891, 4581, 2506, 1279, 6107, 6498, 5893, 5320, 5189, 5375, 448, 5623, 4169, 5075, 5036, 2714, 5449, 3396, 2442, 5529, 3805, 4770, 2253, 641, 3568, 5727, 5241, 1161, 2548, 5548, 6035, 2351, 2912, 3830, 1540, 3055, 2897, 952, 3767, 5763, 1909, 2959, 5065, 4662, 3683, 4764, 66, 1834, 4489, 473, 6139, 701, 1849, 3290, 784, 2525, 6289, 1574, 4446, 1082, 6518, 3059, 1577, 2314, 4335, 3194, 184, 6263, 27, 1249, 3883, 2991, 4391, 2486, 6158, 4339, 847, 3474, 5116, 6512, 3842, 316, 5615, 2400, 2853, 4501, 3938, 3064, 2629, 723, 526, 3235, 601, 5595, 161, 1846, 644, 3994, 3761, 5586, 5508, 3434, 3874, 3507, 4819, 3348, 2767, 3925, 3138, 640, 1530, 2139, 1928, 5187, 1747, 5482, 867, 6264, 1119, 2856, 266, 2805, 1514, 950, 3386, 2882, 3906, 918, 5999, 5545, 2579, 41, 5297, 2910, 3084, 2607, 3468, 3093, 2468, 709, 2898, 2315, 3551, 2988, 3143, 6088, 5315, 3420, 849, 4091, 5713, 2684, 1817, 5178, 2603, 4337, 2751, 4161, 2090, 3984, 3747, 631, 2414, 5343, 4040, 2145, 2364, 1017, 5562, 5180, 2005, 2015, 624, 2404, 5358, 235, 2936, 1614, 2835, 2419, 1626, 4235, 2841, 2636, 5352, 2524, 5184, 2507, 6365, 3134, 4472, 2846, 1750, 5013, 3995, 2367, 922, 3119, 6292, 4144, 5634, 3419, 834, 4568, 4627, 685, 4978, 1678, 5179, 3371, 4353, 5600, 3529, 4186, 6487, 4536, 4478, 1272, 3486, 795, 3560, 5450, 2350, 2407, 1904, 4637, 6213, 5239, 1367, 3759, 3522, 5768, 3980, 288, 1711, 4298, 4113, 4992, 2449, 343, 793, 350, 5404, 2712, 2571, 3242, 5519, 2736, 1685, 1627, 4822, 1434, 5213, 3715, 2683, 5995, 4814, 6092, 1665, 6011, 3550, 1923, 4176, 43, 6249, 3621, 220, 1012, 546, 1858, 383, 5753, 4812, 126, 4619, 5020, 5777, 4323, 1426, 5443, 5553, 6405, 1570, 2306, 2147, 2610, 128, 5212, 6501, 422, 3157, 2334, 4538, 6079, 2664, 5293, 3373, 3467, 4233, 4902, 4492, 402, 2990, 527, 2390, 3048, 4055, 3016, 4116, 5607, 623, 3565, 2497, 6361, 3110, 2343, 3563, 2768, 3346, 1539, 2182, 5452, 955, 3176, 6362, 2149, 932, 4686, 3487, 38, 5591, 4877, 5471, 2904, 2279, 305, 3399, 2672, 24, 702, 3682, 1659, 634, 5394, 1816, 4468, 1524, 4291, 6285, 3073, 2689, 5216, 722, 6325, 3403, 4954, 2408, 4831, 1175, 437, 2060, 1336, 1334, 5063, 2476, 2551, 6384, 3085, 373, 4135, 2517, 777, 4634, 2311, 6052, 1282, 1694, 4736, 2893, 1497, 4278, 5434, 4412, 802, 2148, 356, 5896, 2719, 4386, 5947, 4380, 2086, 530, 6442, 557, 3898, 1418, 3167, 5684, 6183, 1247, 3265, 3227, 5853, 4351, 4518, 5975, 4704, 6168, 6407, 3965, 270, 3553, 4691, 761, 1764, 3881, 3103, 5922, 67, 3756, 2190, 4028, 5698, 2014, 1688, 523, 1343, 4285, 6465, 3745, 4586, 4729, 2957, 2247, 2597, 2662, 2159, 2239, 6195, 158, 3589, 2665, 3921, 176, 5200, 1048, 2347, 1453, 5457, 1952, 3740, 5887, 5196, 4707, 4895, 96, 2758, 2927, 2156, 6382, 4804, 3313, 3632, 2839, 5387, 3190, 4064, 1992, 216, 2750, 51, 5230, 6373, 4214, 2666, 2734, 2087, 3811, 138, 6103, 947, 3783, 397, 3649, 3066, 3208, 504, 2643, 4866, 2483, 3534, 3102, 4851, 3471, 1277, 4485, 6301, 5533, 2513, 3094, 5201, 1327, 1107, 5305, 79, 32, 5938, 875, 3557, 76, 3582, 4786, 2362, 6521, 6438, 4825, 5882, 4338, 3973, 1710, 1404, 443, 673, 1738, 6318, 3312, 3372, 4993, 1935, 5587, 3485, 5268, 1601, 3480, 1026, 4524, 6461, 6026, 201, 2533, 6401, 1667, 5920, 3588, 3897, 3979, 3655, 2193, 4705, 2535, 4795, 4331, 5588, 1176, 52, 2964, 6360, 4792, 3833, 5699, 6247, 1083, 377, 6440, 4994, 2901, 5174, 6503, 234, 3929, 4852, 1267, 1380, 191, 5803, 6160, 480, 3678, 714, 5590, 4995, 4117, 6131, 1103, 2355, 5973, 1211, 5258, 878, 5483, 50, 214, 5752, 2752, 5760, 4301, 5043, 3427, 5362, 5390, 3885, 699, 3886, 3186, 4313, 1934, 3127, 1369, 3343, 4579, 6053, 101, 4358, 5124, 3545, 2099, 3040, 6086, 3684, 6451, 3834, 4624, 1132, 3606, 946, 4052, 2509, 19, 1945, 2226, 4724, 6429, 3214, 4455, 3071, 684, 3057, 2762, 3662, 6256, 1326, 5147, 5953, 6299, 5367, 4800, 2855, 5137, 4966, 398, 5079, 3816, 3331, 5406, 393, 4457, 3749, 6513, 6492, 2499, 2943, 3521, 4244, 2986, 4377, 3408, 6437, 6413, 2172, 3754, 5643, 4190, 4659, 4628, 925, 5292, 4771, 3875, 1617, 6212, 3574, 2097, 3753, 1111, 5296, 1602, 2984, 3694, 3228, 1785, 2057, 2272, 2908, 792, 3993, 3996, 3532, 1595, 4061, 535, 5357, 1490, 4826, 3490, 3276, 6335, 2753, 6186, 3401, 1980, 2561, 1680, 5755, 4603, 5175, 5797, 4751, 5126, 1848, 2532, 2246, 4929, 2452, 4529, 3731, 1321, 2763, 1584, 5119, 2594, 4963, 3216, 5514, 1993, 2094, 323, 5511, 3139, 3459, 2116, 4272, 1682, 6175, 3798, 3088, 1283, 5312, 1430, 3024, 4768, 1925, 2720, 240, 2341, 4404, 3315, 3109, 4533, 3229, 6137, 483, 2612, 6341, 2268, 1415, 2034, 5462, 5424, 1248, 1298, 4481, 155, 3785, 277, 4532, 1671, 6109, 5626, 4162, 6386, 5146, 3188, 3839, 4194, 342, 320, 2307, 6113, 5686, 3239, 1020, 1365, 2233, 4119, 2564, 3873, 4224, 2416, 3003, 5486, 856, 2261, 1090, 5560, 5229, 5881, 2185, 4805, 1366, 4588, 1947, 4486, 4140, 2725, 5275, 5363, 5957, 1581, 4157, 3489, 3086, 5834, 5963, 2738, 1868, 5208, 6133, 2248, 791, 4193, 2491, 2384, 5348, 1611, 5388, 4555, 3800, 4998, 4095, 874, 1210, 6039, 2650, 3972, 2329, 4519, 2168, 3508, 5846, 6023, 3137, 4151, 5914, 6224, 3572, 4036, 6266, 4015, 6142, 926, 5565, 3379, 6460, 1182, 3320, 3755, 4850, 3152, 2085, 4333, 4596, 3958, 344, 1545, 260, 4615, 1358, 2892, 1262, 6269, 1653, 4557, 2515, 5047, 705, 4787, 6490, 376, 5877, 6447, 5012, 3070, 5708, 599, 71, 2146, 1597, 4454, 3999, 2196, 1663, 5153, 4913, 3779, 4872, 4626, 433, 2121, 2682, 4796, 3840, 5176, 1854, 4869, 5319, 966, 2232, 4424, 1408, 2138, 4972, 428, 5364, 3283, 6036, 2770, 561, 1739, 1684, 612, 4960, 5309, 2309, 4496, 4389, 5098, 2288, 5544, 3538, 2406, 3593, 783, 6380, 1266, 2842, 3293, 6106, 3368, 6198, 4123, 6187, 6031, 2276, 4294, 2480, 5959, 2327, 2025, 3857, 3769, 6122, 3692, 1169, 2572, 4423, 5535, 1916, 5242, 3714, 6254, 5396, 5645, 5636, 3946, 4090, 6445, 3668, 2080, 2558, 1084, 4030, 3178, 1660, 1622, 3516, 3311, 2611, 4195, 4017, 5813, 1695, 4440, 2771, 5156, 352, 3736, 2076, 2696, 3634, 1239, 3136, 1607, 6157, 3923, 5652, 4769, 4904, 33, 4982, 4275, 5202, 4832, 6037, 1604, 5273, 2175, 382, 4884, 3584, 1104, 4109, 2220, 3707, 5444, 390, 5771, 1286, 4114, 3431, 4973, 6250, 1096, 1004, 2825, 727, 4464, 857, 3351, 6529, 4288, 5341, 4547, 4475, 463, 1371, 2269, 6076, 115, 2488, 3409, 525, 5231, 1377, 2495, 2006, 300, 2663, 1612, 2098, 182, 1782, 3212, 552, 1579, 3394, 2088, 621, 6002, 3978, 1599, 4385, 1260, 2254, 1741, 1865, 3766, 1342, 2854, 5027, 3177, 4059, 1420, 5950, 4469, 5432, 2227, 5537, 2032, 273, 1818, 3182, 2224, 6272, 1652, 194, 3917, 3502, 468, 4156, 3687, 2183, 5697, 146, 5532, 1208, 3935, 2830, 839, 1824, 3619, 6462, 3430, 1189, 5324, 1819, 1079, 236, 1760, 1364, 2608, 479, 5541, 2326, 4689, 401, 25, 3892, 4251, 283, 1822, 2598, 5784, 3531, 4037, 2324, 1912, 3519, 859, 2071, 3927, 715, 4350, 2161, 6217, 5934, 3056, 6099, 4542, 5696, 3644, 4958, 2573, 4394, 2711, 5702, 2653, 2409, 5468, 5354, 5601, 4142, 1939, 4762, 3971, 3829, 5066, 509, 1403, 6458, 3889, 1905, 2576, 4304, 3679, 1582, 716, 5692, 1172, 5076, 2796, 1412, 2923, 4668, 1361, 4359, 4325, 5597, 5130, 841, 3855, 4283, 1015, 14, 3625, 4363, 6141, 3495, 5441, 1790, 2596, 4505, 3324, 944, 315, 6032, 6054, 1693, 3219, 4817, 4874, 2658, 6169, 3329, 6337, 5374, 4553, 686, 6138, 3010, 6541, 2352, 560, 1185, 3704, 3446, 3435, 3967, 130, 6412, 3273, 5067, 2158, 2735, 6355, 5351, 205, 2844, 4279, 1213, 2481, 2466, 3400, 5376, 5291, 4701, 1823, 1504, 938, 4585, 3211, 3705, 5199, 6494, 3438, 4907, 4567, 6110, 4584, 3910, 2083, 1578, 949, 3207, 3782, 132, 4033, 5552, 1692, 3483, 4846, 5266, 5093, 4250, 1815, 2363, 127, 6262, 3112, 2549, 3251, 1265, 4531, 5966, 1930, 934, 237, 6453, 347, 4088, 5155, 2843, 4690, 2113, 6038, 4149, 4829, 669, 5639, 429, 3332, 3364, 1207, 3962, 2143, 6418, 3295, 1335, 456, 2000, 4878, 3146, 1672, 5894, 2958, 2258, 3046, 2222, 4189, 6197, 1051, 597, 1831, 3179, 773, 4791, 3815, 4696, 6077, 3835, 384, 5317, 258, 4206, 1686, 1125, 193, 1356, 1833, 5026, 374, 1124, 3154, 3172, 3762, 775, 233, 1006, 5640, 1159, 4948, 6027, 3310, 2556, 2166, 5685, 6094, 3542, 6493, 5531, 355, 1024, 5210, 5705, 4047, 3543, 5868, 5799, 2142, 4053, 141, 1246, 2759, 2436, 3801, 5978, 2671, 1769, 6527, 1333, 1766, 2067, 318, 957, 5651, 4016, 6446, 4459, 298, 3250, 292, 2164, 5866, 4267, 606, 4640, 1898, 3832, 2922, 5589, 1417, 4870, 4171, 5550, 3615, 3285, 3202, 5318, 5680, 3342, 4979]\n",
      "test ids:  [0, 1, 2, 3, 4, 5, 6, 7, 8, 9, 10, 11, 12, 40, 81, 82, 83, 84, 85, 86, 87, 88, 89, 90, 91, 92, 93, 94, 120, 162, 163, 164, 165, 166, 167, 168, 169, 170, 171, 172, 173, 174, 175, 200, 243, 244, 245, 246, 247, 248, 249, 250, 251, 252, 253, 254, 255, 256, 257, 280, 324, 325, 326, 327, 328, 329, 330, 331, 332, 333, 334, 335, 336, 337, 338, 339, 360, 405, 406, 407, 408, 409, 410, 411, 412, 413, 414, 415, 416, 417, 418, 419, 420, 421, 440, 486, 487, 488, 489, 490, 491, 492, 493, 494, 495, 496, 497, 498, 499, 500, 501, 502, 520, 567, 568, 569, 570, 571, 572, 573, 574, 575, 576, 577, 578, 579, 580, 581, 582, 583, 584, 600, 648, 649, 650, 651, 652, 653, 654, 655, 656, 657, 658, 659, 660, 661, 662, 663, 664, 665, 666, 680, 729, 730, 731, 732, 733, 734, 735, 736, 737, 738, 739, 740, 741, 742, 743, 744, 745, 746, 747, 748, 760, 810, 811, 812, 813, 814, 815, 816, 817, 818, 819, 820, 821, 822, 823, 824, 825, 826, 827, 828, 829, 840, 891, 892, 893, 894, 895, 896, 897, 898, 899, 900, 901, 902, 903, 904, 905, 906, 907, 908, 909, 910, 911, 920, 972, 973, 974, 975, 976, 977, 978, 979, 980, 981, 982, 983, 984, 985, 986, 987, 988, 989, 990, 991, 992, 993, 1000, 1053, 1054, 1055, 1056, 1057, 1058, 1059, 1060, 1061, 1062, 1063, 1064, 1065, 1066, 1067, 1068, 1069, 1070, 1071, 1072, 1073, 1074, 1075, 1080, 1135, 1136, 1137, 1138, 1139, 1140, 1141, 1142, 1143, 1144, 1145, 1146, 1147, 1148, 1149, 1150, 1151, 1152, 1153, 1154, 1155, 1156, 1160, 1217, 1218, 1219, 1220, 1221, 1222, 1223, 1224, 1225, 1226, 1227, 1228, 1229, 1230, 1231, 1232, 1233, 1234, 1235, 1236, 1237, 1238, 1240, 1300, 1301, 1302, 1303, 1304, 1305, 1306, 1307, 1308, 1309, 1310, 1311, 1312, 1313, 1314, 1315, 1316, 1317, 1318, 1319, 1320, 1382, 1383, 1384, 1385, 1386, 1387, 1388, 1389, 1390, 1391, 1392, 1393, 1394, 1395, 1396, 1397, 1398, 1399, 1400, 1401, 1465, 1466, 1467, 1468, 1469, 1470, 1471, 1472, 1473, 1474, 1475, 1476, 1477, 1478, 1479, 1480, 1481, 1482, 1483, 1547, 1548, 1549, 1550, 1551, 1552, 1553, 1554, 1555, 1556, 1557, 1558, 1559, 1560, 1561, 1562, 1563, 1564, 1565, 1629, 1630, 1631, 1632, 1633, 1634, 1635, 1636, 1637, 1638, 1639, 1640, 1641, 1642, 1643, 1644, 1645, 1646, 1647, 1700, 1712, 1713, 1714, 1715, 1716, 1717, 1718, 1719, 1720, 1721, 1722, 1723, 1724, 1725, 1726, 1727, 1728, 1780, 1794, 1795, 1796, 1797, 1798, 1799, 1800, 1801, 1802, 1803, 1804, 1805, 1806, 1807, 1808, 1809, 1810, 1860, 1877, 1878, 1879, 1880, 1881, 1882, 1883, 1884, 1885, 1886, 1887, 1888, 1889, 1890, 1891, 1892, 1940, 1959, 1960, 1961, 1962, 1963, 1964, 1965, 1966, 1967, 1968, 1969, 1970, 1971, 1972, 1973, 1974, 2020, 2040, 2041, 2042, 2043, 2044, 2045, 2046, 2047, 2048, 2049, 2050, 2051, 2052, 2053, 2054, 2055, 2100, 2120, 2124, 2125, 2126, 2127, 2128, 2129, 2130, 2131, 2132, 2133, 2134, 2135, 2136, 2137, 2180, 2200, 2206, 2207, 2208, 2209, 2210, 2211, 2212, 2213, 2214, 2215, 2216, 2217, 2218, 2219, 2260, 2280, 2289, 2290, 2291, 2292, 2293, 2294, 2295, 2296, 2297, 2298, 2299, 2300, 2340, 2360, 2371, 2372, 2373, 2374, 2375, 2376, 2377, 2378, 2379, 2380, 2381, 2382, 2420, 2440, 2454, 2455, 2456, 2457, 2458, 2459, 2460, 2461, 2462, 2463, 2464, 2500, 2520, 2536, 2537, 2538, 2539, 2540, 2541, 2542, 2543, 2544, 2545, 2546, 2580, 2600, 2618, 2619, 2620, 2621, 2622, 2623, 2624, 2625, 2626, 2627, 2660, 2680, 2701, 2702, 2703, 2704, 2705, 2706, 2707, 2708, 2709, 2740, 2760, 2783, 2784, 2785, 2786, 2787, 2788, 2789, 2790, 2791, 2820, 2840, 2866, 2867, 2868, 2869, 2870, 2871, 2872, 2873, 2900, 2920, 2948, 2949, 2950, 2951, 2952, 2953, 2954, 2980, 3000, 3030, 3031, 3032, 3033, 3034, 3035, 3036, 3060, 3080, 3113, 3114, 3115, 3116, 3117, 3118, 3140, 3160, 3195, 3196, 3197, 3198, 3199, 3200, 3220, 3240, 3278, 3279, 3280, 3281, 3300, 3360, 3361, 3362, 3363, 3380, 3443, 3444, 3445, 3460, 3525, 3526, 3540, 3607, 3608, 3620, 3690, 3700, 3772, 3780, 3854, 3860, 3936, 3940, 4018, 4019, 4020, 4099, 4100, 4101, 4180, 4181, 4182, 4183, 4260, 4263, 4264, 4265, 4266, 4340, 4345, 4346, 4347, 4348, 4420, 4427, 4428, 4429, 4430, 4431, 4500, 4508, 4509, 4510, 4511, 4512, 4513, 4580, 4590, 4591, 4592, 4593, 4594, 4595, 4660, 4672, 4673, 4674, 4675, 4676, 4677, 4678, 4740, 4753, 4754, 4755, 4756, 4757, 4758, 4759, 4760, 4820, 4835, 4836, 4837, 4838, 4839, 4840, 4841, 4842, 4843, 4900, 4917, 4918, 4919, 4920, 4921, 4922, 4923, 4924, 4925, 4980, 4999, 5000, 5001, 5002, 5003, 5004, 5005, 5006, 5007, 5060, 5080, 5081, 5082, 5083, 5084, 5085, 5086, 5087, 5088, 5089, 5090, 5140, 5162, 5163, 5164, 5165, 5166, 5167, 5168, 5169, 5170, 5171, 5172, 5220, 5244, 5245, 5246, 5247, 5248, 5249, 5250, 5251, 5252, 5253, 5254, 5255, 5300, 5326, 5327, 5328, 5329, 5330, 5331, 5332, 5333, 5334, 5335, 5336, 5337, 5380, 5407, 5408, 5409, 5410, 5411, 5412, 5413, 5414, 5415, 5416, 5417, 5418, 5419, 5420, 5460, 5489, 5490, 5491, 5492, 5493, 5494, 5495, 5496, 5497, 5498, 5499, 5500, 5501, 5502, 5540, 5571, 5572, 5573, 5574, 5575, 5576, 5577, 5578, 5579, 5580, 5581, 5582, 5583, 5584, 5620, 5653, 5654, 5655, 5656, 5657, 5658, 5659, 5660, 5661, 5662, 5663, 5664, 5665, 5666, 5667, 5700, 5734, 5735, 5736, 5737, 5738, 5739, 5740, 5741, 5742, 5743, 5744, 5745, 5746, 5747, 5748, 5749, 5780, 5816, 5817, 5818, 5819, 5820, 5821, 5822, 5823, 5824, 5825, 5826, 5827, 5828, 5829, 5830, 5831, 5860, 5898, 5899, 5900, 5901, 5902, 5903, 5904, 5905, 5906, 5907, 5908, 5909, 5910, 5911, 5912, 5940, 5979, 5980, 5981, 5982, 5983, 5984, 5985, 5986, 5987, 5988, 5989, 5990, 5991, 5992, 5993, 6020, 6061, 6062, 6063, 6064, 6065, 6066, 6067, 6068, 6069, 6070, 6071, 6072, 6073, 6074, 6100, 6143, 6144, 6145, 6146, 6147, 6148, 6149, 6150, 6151, 6152, 6153, 6154, 6155, 6180, 6225, 6226, 6227, 6228, 6229, 6230, 6231, 6232, 6233, 6234, 6235, 6236, 6260, 6306, 6307, 6308, 6309, 6310, 6311, 6312, 6313, 6314, 6315, 6316, 6317, 6340, 6388, 6389, 6390, 6391, 6392, 6393, 6394, 6395, 6396, 6397, 6398, 6420, 6470, 6471, 6472, 6473, 6474, 6475, 6476, 6477, 6478, 6479, 6500, 6552, 6553, 6554, 6555, 6556, 6557, 6558, 6559, 6560]\n",
      "CPU times: user 163 ms, sys: 12 ms, total: 175 ms\n",
      "Wall time: 174 ms\n"
     ]
    }
   ],
   "source": [
    "%%time\n",
    "n_total = len(simulation.dataframe)\n",
    "n_train = len(simulation.dataframe[simulation.dataframe.type_of == \"train\"])\n",
    "n_val = len(simulation.dataframe[simulation.dataframe.type_of == \"val\"])\n",
    "n_test = len(simulation.dataframe[simulation.dataframe.type_of == \"test\"])\n",
    "n_train_hamiltonians = len(simulation.train_ids)\n",
    "n_val_hamiltonians = len(simulation.val_ids)\n",
    "n_test_hamiltonians = len(simulation.test_ids)\n",
    "n_total_hamiltonians = n_train_hamiltonians + n_val_hamiltonians + n_test_hamiltonians\n",
    "\n",
    "print(\"% train: \", n_train/n_total)\n",
    "print(\"% val: \",  n_val/n_total)\n",
    "print(\"% test: \", n_test/n_total)\n",
    "print(\"% train + val + test: \", (n_train+n_val+n_test)/n_total)\n",
    "print(\"\\n\")\n",
    "print(\"number of train hamiltonians: \", n_train_hamiltonians)\n",
    "print(\"number of val hamiltonians: \", n_val_hamiltonians)\n",
    "print(\"number of test hamiltonians: \", n_test_hamiltonians)\n",
    "print(\"total number of hamiltonians: \", n_total_hamiltonians)\n",
    "print(\"\\n\")\n",
    "print(\"train ids: \", simulation.train_ids)\n",
    "print(\"val ids: \", simulation.val_ids)\n",
    "print(\"test ids: \", simulation.test_ids)"
   ]
  },
  {
   "cell_type": "markdown",
   "metadata": {
    "papermill": {
     "duration": 0.034884,
     "end_time": "2020-07-09T10:15:55.622740",
     "exception": false,
     "start_time": "2020-07-09T10:15:55.587856",
     "status": "completed"
    },
    "tags": []
   },
   "source": [
    "#### Checking summaries"
   ]
  },
  {
   "cell_type": "code",
   "execution_count": 27,
   "metadata": {
    "execution": {
     "iopub.execute_input": "2020-07-09T10:15:55.694386Z",
     "iopub.status.busy": "2020-07-09T10:15:55.694072Z",
     "iopub.status.idle": "2020-07-09T10:15:55.713433Z",
     "shell.execute_reply": "2020-07-09T10:15:55.713119Z"
    },
    "papermill": {
     "duration": 0.055757,
     "end_time": "2020-07-09T10:15:55.713483",
     "exception": false,
     "start_time": "2020-07-09T10:15:55.657726",
     "status": "completed"
    },
    "tags": []
   },
   "outputs": [
    {
     "name": "stdout",
     "output_type": "stream",
     "text": [
      "length of ham_summary:  6561\n",
      "CPU times: user 77 µs, sys: 0 ns, total: 77 µs\n",
      "Wall time: 53.4 µs\n"
     ]
    },
    {
     "data": {
      "text/html": [
       "<div>\n",
       "<style scoped>\n",
       "    .dataframe tbody tr th:only-of-type {\n",
       "        vertical-align: middle;\n",
       "    }\n",
       "\n",
       "    .dataframe tbody tr th {\n",
       "        vertical-align: top;\n",
       "    }\n",
       "\n",
       "    .dataframe thead th {\n",
       "        text-align: right;\n",
       "    }\n",
       "</style>\n",
       "<table border=\"1\" class=\"dataframe\">\n",
       "  <thead>\n",
       "    <tr style=\"text-align: right;\">\n",
       "      <th></th>\n",
       "      <th>t1</th>\n",
       "      <th>t2</th>\n",
       "      <th>type_of</th>\n",
       "      <th>-1</th>\n",
       "      <th>0</th>\n",
       "      <th>1</th>\n",
       "      <th>2</th>\n",
       "      <th>phase</th>\n",
       "      <th>pred_phase</th>\n",
       "    </tr>\n",
       "    <tr>\n",
       "      <th>id</th>\n",
       "      <th></th>\n",
       "      <th></th>\n",
       "      <th></th>\n",
       "      <th></th>\n",
       "      <th></th>\n",
       "      <th></th>\n",
       "      <th></th>\n",
       "      <th></th>\n",
       "      <th></th>\n",
       "    </tr>\n",
       "  </thead>\n",
       "  <tbody>\n",
       "    <tr>\n",
       "      <th>0</th>\n",
       "      <td>-2.0</td>\n",
       "      <td>-2.00</td>\n",
       "      <td>test</td>\n",
       "      <td>0.20</td>\n",
       "      <td>0.47</td>\n",
       "      <td>0.18</td>\n",
       "      <td>0.15</td>\n",
       "      <td>999</td>\n",
       "      <td>0</td>\n",
       "    </tr>\n",
       "    <tr>\n",
       "      <th>1</th>\n",
       "      <td>-2.0</td>\n",
       "      <td>-1.95</td>\n",
       "      <td>test</td>\n",
       "      <td>0.21</td>\n",
       "      <td>0.52</td>\n",
       "      <td>0.16</td>\n",
       "      <td>0.11</td>\n",
       "      <td>-1</td>\n",
       "      <td>0</td>\n",
       "    </tr>\n",
       "    <tr>\n",
       "      <th>2</th>\n",
       "      <td>-2.0</td>\n",
       "      <td>-1.90</td>\n",
       "      <td>test</td>\n",
       "      <td>0.24</td>\n",
       "      <td>0.51</td>\n",
       "      <td>0.16</td>\n",
       "      <td>0.09</td>\n",
       "      <td>-1</td>\n",
       "      <td>0</td>\n",
       "    </tr>\n",
       "    <tr>\n",
       "      <th>3</th>\n",
       "      <td>-2.0</td>\n",
       "      <td>-1.85</td>\n",
       "      <td>test</td>\n",
       "      <td>0.29</td>\n",
       "      <td>0.42</td>\n",
       "      <td>0.21</td>\n",
       "      <td>0.08</td>\n",
       "      <td>-1</td>\n",
       "      <td>0</td>\n",
       "    </tr>\n",
       "    <tr>\n",
       "      <th>4</th>\n",
       "      <td>-2.0</td>\n",
       "      <td>-1.80</td>\n",
       "      <td>test</td>\n",
       "      <td>0.32</td>\n",
       "      <td>0.40</td>\n",
       "      <td>0.20</td>\n",
       "      <td>0.08</td>\n",
       "      <td>-1</td>\n",
       "      <td>0</td>\n",
       "    </tr>\n",
       "    <tr>\n",
       "      <th>...</th>\n",
       "      <td>...</td>\n",
       "      <td>...</td>\n",
       "      <td>...</td>\n",
       "      <td>...</td>\n",
       "      <td>...</td>\n",
       "      <td>...</td>\n",
       "      <td>...</td>\n",
       "      <td>...</td>\n",
       "      <td>...</td>\n",
       "    </tr>\n",
       "    <tr>\n",
       "      <th>6556</th>\n",
       "      <td>2.0</td>\n",
       "      <td>1.80</td>\n",
       "      <td>test</td>\n",
       "      <td>0.49</td>\n",
       "      <td>0.17</td>\n",
       "      <td>0.04</td>\n",
       "      <td>0.30</td>\n",
       "      <td>-1</td>\n",
       "      <td>-1</td>\n",
       "    </tr>\n",
       "    <tr>\n",
       "      <th>6557</th>\n",
       "      <td>2.0</td>\n",
       "      <td>1.85</td>\n",
       "      <td>test</td>\n",
       "      <td>0.40</td>\n",
       "      <td>0.19</td>\n",
       "      <td>0.05</td>\n",
       "      <td>0.36</td>\n",
       "      <td>-1</td>\n",
       "      <td>-1</td>\n",
       "    </tr>\n",
       "    <tr>\n",
       "      <th>6558</th>\n",
       "      <td>2.0</td>\n",
       "      <td>1.90</td>\n",
       "      <td>test</td>\n",
       "      <td>0.36</td>\n",
       "      <td>0.22</td>\n",
       "      <td>0.04</td>\n",
       "      <td>0.38</td>\n",
       "      <td>-1</td>\n",
       "      <td>2</td>\n",
       "    </tr>\n",
       "    <tr>\n",
       "      <th>6559</th>\n",
       "      <td>2.0</td>\n",
       "      <td>1.95</td>\n",
       "      <td>test</td>\n",
       "      <td>0.38</td>\n",
       "      <td>0.24</td>\n",
       "      <td>0.05</td>\n",
       "      <td>0.33</td>\n",
       "      <td>-1</td>\n",
       "      <td>-1</td>\n",
       "    </tr>\n",
       "    <tr>\n",
       "      <th>6560</th>\n",
       "      <td>2.0</td>\n",
       "      <td>2.00</td>\n",
       "      <td>test</td>\n",
       "      <td>0.37</td>\n",
       "      <td>0.18</td>\n",
       "      <td>0.05</td>\n",
       "      <td>0.40</td>\n",
       "      <td>999</td>\n",
       "      <td>2</td>\n",
       "    </tr>\n",
       "  </tbody>\n",
       "</table>\n",
       "<p>6561 rows × 9 columns</p>\n",
       "</div>"
      ],
      "text/plain": [
       "       t1    t2 type_of    -1     0     1     2  phase  pred_phase\n",
       "id                                                                \n",
       "0    -2.0 -2.00    test  0.20  0.47  0.18  0.15    999           0\n",
       "1    -2.0 -1.95    test  0.21  0.52  0.16  0.11     -1           0\n",
       "2    -2.0 -1.90    test  0.24  0.51  0.16  0.09     -1           0\n",
       "3    -2.0 -1.85    test  0.29  0.42  0.21  0.08     -1           0\n",
       "4    -2.0 -1.80    test  0.32  0.40  0.20  0.08     -1           0\n",
       "...   ...   ...     ...   ...   ...   ...   ...    ...         ...\n",
       "6556  2.0  1.80    test  0.49  0.17  0.04  0.30     -1          -1\n",
       "6557  2.0  1.85    test  0.40  0.19  0.05  0.36     -1          -1\n",
       "6558  2.0  1.90    test  0.36  0.22  0.04  0.38     -1           2\n",
       "6559  2.0  1.95    test  0.38  0.24  0.05  0.33     -1          -1\n",
       "6560  2.0  2.00    test  0.37  0.18  0.05  0.40    999           2\n",
       "\n",
       "[6561 rows x 9 columns]"
      ]
     },
     "execution_count": 27,
     "metadata": {},
     "output_type": "execute_result"
    }
   ],
   "source": [
    "%%time\n",
    "ham_summary = simulation.hamiltonian_summary\n",
    "print(\"length of ham_summary: \", len(ham_summary))\n",
    "ham_summary"
   ]
  },
  {
   "cell_type": "code",
   "execution_count": 28,
   "metadata": {
    "execution": {
     "iopub.execute_input": "2020-07-09T10:15:55.788015Z",
     "iopub.status.busy": "2020-07-09T10:15:55.787696Z",
     "iopub.status.idle": "2020-07-09T10:15:55.819498Z",
     "shell.execute_reply": "2020-07-09T10:15:55.819182Z"
    },
    "papermill": {
     "duration": 0.069703,
     "end_time": "2020-07-09T10:15:55.819550",
     "exception": false,
     "start_time": "2020-07-09T10:15:55.749847",
     "status": "completed"
    },
    "tags": []
   },
   "outputs": [
    {
     "data": {
      "text/html": [
       "<div>\n",
       "<style scoped>\n",
       "    .dataframe tbody tr th:only-of-type {\n",
       "        vertical-align: middle;\n",
       "    }\n",
       "\n",
       "    .dataframe tbody tr th {\n",
       "        vertical-align: top;\n",
       "    }\n",
       "\n",
       "    .dataframe thead th {\n",
       "        text-align: right;\n",
       "    }\n",
       "</style>\n",
       "<table border=\"1\" class=\"dataframe\">\n",
       "  <thead>\n",
       "    <tr style=\"text-align: right;\">\n",
       "      <th></th>\n",
       "      <th>t1</th>\n",
       "      <th>t2</th>\n",
       "      <th>-1</th>\n",
       "      <th>0</th>\n",
       "      <th>1</th>\n",
       "      <th>2</th>\n",
       "      <th>phase</th>\n",
       "      <th>pred_phase</th>\n",
       "    </tr>\n",
       "  </thead>\n",
       "  <tbody>\n",
       "    <tr>\n",
       "      <th>count</th>\n",
       "      <td>6561.000000</td>\n",
       "      <td>6.561000e+03</td>\n",
       "      <td>6561.000000</td>\n",
       "      <td>6561.000000</td>\n",
       "      <td>6561.000000</td>\n",
       "      <td>6561.000000</td>\n",
       "      <td>6561.000000</td>\n",
       "      <td>6561.000000</td>\n",
       "    </tr>\n",
       "    <tr>\n",
       "      <th>mean</th>\n",
       "      <td>0.000000</td>\n",
       "      <td>-4.331917e-18</td>\n",
       "      <td>0.196531</td>\n",
       "      <td>0.314490</td>\n",
       "      <td>0.308313</td>\n",
       "      <td>0.180666</td>\n",
       "      <td>28.045877</td>\n",
       "      <td>0.473556</td>\n",
       "    </tr>\n",
       "    <tr>\n",
       "      <th>std</th>\n",
       "      <td>1.169134</td>\n",
       "      <td>1.169134e+00</td>\n",
       "      <td>0.359753</td>\n",
       "      <td>0.431263</td>\n",
       "      <td>0.434265</td>\n",
       "      <td>0.352745</td>\n",
       "      <td>163.557011</td>\n",
       "      <td>1.019898</td>\n",
       "    </tr>\n",
       "    <tr>\n",
       "      <th>min</th>\n",
       "      <td>-2.000000</td>\n",
       "      <td>-2.000000e+00</td>\n",
       "      <td>0.000000</td>\n",
       "      <td>0.000000</td>\n",
       "      <td>0.000000</td>\n",
       "      <td>0.000000</td>\n",
       "      <td>-1.000000</td>\n",
       "      <td>-1.000000</td>\n",
       "    </tr>\n",
       "    <tr>\n",
       "      <th>25%</th>\n",
       "      <td>-1.000000</td>\n",
       "      <td>-1.000000e+00</td>\n",
       "      <td>0.000000</td>\n",
       "      <td>0.000000</td>\n",
       "      <td>0.000000</td>\n",
       "      <td>0.000000</td>\n",
       "      <td>0.000000</td>\n",
       "      <td>0.000000</td>\n",
       "    </tr>\n",
       "    <tr>\n",
       "      <th>50%</th>\n",
       "      <td>0.000000</td>\n",
       "      <td>0.000000e+00</td>\n",
       "      <td>0.000000</td>\n",
       "      <td>0.020000</td>\n",
       "      <td>0.010000</td>\n",
       "      <td>0.000000</td>\n",
       "      <td>1.000000</td>\n",
       "      <td>0.000000</td>\n",
       "    </tr>\n",
       "    <tr>\n",
       "      <th>75%</th>\n",
       "      <td>1.000000</td>\n",
       "      <td>1.000000e+00</td>\n",
       "      <td>0.140000</td>\n",
       "      <td>0.960000</td>\n",
       "      <td>0.960000</td>\n",
       "      <td>0.060000</td>\n",
       "      <td>1.000000</td>\n",
       "      <td>1.000000</td>\n",
       "    </tr>\n",
       "    <tr>\n",
       "      <th>max</th>\n",
       "      <td>2.000000</td>\n",
       "      <td>2.000000e+00</td>\n",
       "      <td>1.000000</td>\n",
       "      <td>1.000000</td>\n",
       "      <td>1.000000</td>\n",
       "      <td>1.000000</td>\n",
       "      <td>999.000000</td>\n",
       "      <td>2.000000</td>\n",
       "    </tr>\n",
       "  </tbody>\n",
       "</table>\n",
       "</div>"
      ],
      "text/plain": [
       "                t1            t2           -1            0            1  \\\n",
       "count  6561.000000  6.561000e+03  6561.000000  6561.000000  6561.000000   \n",
       "mean      0.000000 -4.331917e-18     0.196531     0.314490     0.308313   \n",
       "std       1.169134  1.169134e+00     0.359753     0.431263     0.434265   \n",
       "min      -2.000000 -2.000000e+00     0.000000     0.000000     0.000000   \n",
       "25%      -1.000000 -1.000000e+00     0.000000     0.000000     0.000000   \n",
       "50%       0.000000  0.000000e+00     0.000000     0.020000     0.010000   \n",
       "75%       1.000000  1.000000e+00     0.140000     0.960000     0.960000   \n",
       "max       2.000000  2.000000e+00     1.000000     1.000000     1.000000   \n",
       "\n",
       "                 2        phase   pred_phase  \n",
       "count  6561.000000  6561.000000  6561.000000  \n",
       "mean      0.180666    28.045877     0.473556  \n",
       "std       0.352745   163.557011     1.019898  \n",
       "min       0.000000    -1.000000    -1.000000  \n",
       "25%       0.000000     0.000000     0.000000  \n",
       "50%       0.000000     1.000000     0.000000  \n",
       "75%       0.060000     1.000000     1.000000  \n",
       "max       1.000000   999.000000     2.000000  "
      ]
     },
     "execution_count": 28,
     "metadata": {},
     "output_type": "execute_result"
    }
   ],
   "source": [
    "ham_summary.describe()"
   ]
  },
  {
   "cell_type": "code",
   "execution_count": 29,
   "metadata": {
    "execution": {
     "iopub.execute_input": "2020-07-09T10:15:55.893618Z",
     "iopub.status.busy": "2020-07-09T10:15:55.893311Z",
     "iopub.status.idle": "2020-07-09T10:15:55.908129Z",
     "shell.execute_reply": "2020-07-09T10:15:55.907811Z"
    },
    "papermill": {
     "duration": 0.052649,
     "end_time": "2020-07-09T10:15:55.908180",
     "exception": false,
     "start_time": "2020-07-09T10:15:55.855531",
     "status": "completed"
    },
    "tags": []
   },
   "outputs": [
    {
     "name": "stdout",
     "output_type": "stream",
     "text": [
      "length of ham_summary:  656100\n"
     ]
    },
    {
     "data": {
      "text/html": [
       "<div>\n",
       "<style scoped>\n",
       "    .dataframe tbody tr th:only-of-type {\n",
       "        vertical-align: middle;\n",
       "    }\n",
       "\n",
       "    .dataframe tbody tr th {\n",
       "        vertical-align: top;\n",
       "    }\n",
       "\n",
       "    .dataframe thead th {\n",
       "        text-align: right;\n",
       "    }\n",
       "</style>\n",
       "<table border=\"1\" class=\"dataframe\">\n",
       "  <thead>\n",
       "    <tr style=\"text-align: right;\">\n",
       "      <th></th>\n",
       "      <th>id</th>\n",
       "      <th>phase</th>\n",
       "      <th>pred_phase</th>\n",
       "      <th>type_of</th>\n",
       "    </tr>\n",
       "  </thead>\n",
       "  <tbody>\n",
       "    <tr>\n",
       "      <th>0</th>\n",
       "      <td>0</td>\n",
       "      <td>999</td>\n",
       "      <td>-1</td>\n",
       "      <td>test</td>\n",
       "    </tr>\n",
       "    <tr>\n",
       "      <th>1</th>\n",
       "      <td>0</td>\n",
       "      <td>999</td>\n",
       "      <td>-1</td>\n",
       "      <td>test</td>\n",
       "    </tr>\n",
       "    <tr>\n",
       "      <th>2</th>\n",
       "      <td>0</td>\n",
       "      <td>999</td>\n",
       "      <td>-1</td>\n",
       "      <td>test</td>\n",
       "    </tr>\n",
       "    <tr>\n",
       "      <th>3</th>\n",
       "      <td>0</td>\n",
       "      <td>999</td>\n",
       "      <td>1</td>\n",
       "      <td>test</td>\n",
       "    </tr>\n",
       "    <tr>\n",
       "      <th>4</th>\n",
       "      <td>0</td>\n",
       "      <td>999</td>\n",
       "      <td>2</td>\n",
       "      <td>test</td>\n",
       "    </tr>\n",
       "    <tr>\n",
       "      <th>...</th>\n",
       "      <td>...</td>\n",
       "      <td>...</td>\n",
       "      <td>...</td>\n",
       "      <td>...</td>\n",
       "    </tr>\n",
       "    <tr>\n",
       "      <th>656095</th>\n",
       "      <td>6560</td>\n",
       "      <td>999</td>\n",
       "      <td>2</td>\n",
       "      <td>test</td>\n",
       "    </tr>\n",
       "    <tr>\n",
       "      <th>656096</th>\n",
       "      <td>6560</td>\n",
       "      <td>999</td>\n",
       "      <td>1</td>\n",
       "      <td>test</td>\n",
       "    </tr>\n",
       "    <tr>\n",
       "      <th>656097</th>\n",
       "      <td>6560</td>\n",
       "      <td>999</td>\n",
       "      <td>0</td>\n",
       "      <td>test</td>\n",
       "    </tr>\n",
       "    <tr>\n",
       "      <th>656098</th>\n",
       "      <td>6560</td>\n",
       "      <td>999</td>\n",
       "      <td>1</td>\n",
       "      <td>test</td>\n",
       "    </tr>\n",
       "    <tr>\n",
       "      <th>656099</th>\n",
       "      <td>6560</td>\n",
       "      <td>999</td>\n",
       "      <td>1</td>\n",
       "      <td>test</td>\n",
       "    </tr>\n",
       "  </tbody>\n",
       "</table>\n",
       "<p>656100 rows × 4 columns</p>\n",
       "</div>"
      ],
      "text/plain": [
       "          id  phase  pred_phase type_of\n",
       "0          0    999          -1    test\n",
       "1          0    999          -1    test\n",
       "2          0    999          -1    test\n",
       "3          0    999           1    test\n",
       "4          0    999           2    test\n",
       "...      ...    ...         ...     ...\n",
       "656095  6560    999           2    test\n",
       "656096  6560    999           1    test\n",
       "656097  6560    999           0    test\n",
       "656098  6560    999           1    test\n",
       "656099  6560    999           1    test\n",
       "\n",
       "[656100 rows x 4 columns]"
      ]
     },
     "execution_count": 29,
     "metadata": {},
     "output_type": "execute_result"
    }
   ],
   "source": [
    "eigen_summary = simulation.eigenvector_summary\n",
    "print(\"length of ham_summary: \", len(eigen_summary))\n",
    "eigen_summary"
   ]
  },
  {
   "cell_type": "markdown",
   "metadata": {
    "papermill": {
     "duration": 0.0358,
     "end_time": "2020-07-09T10:15:55.980310",
     "exception": false,
     "start_time": "2020-07-09T10:15:55.944510",
     "status": "completed"
    },
    "tags": []
   },
   "source": [
    "#### Checking accuracies"
   ]
  },
  {
   "cell_type": "code",
   "execution_count": 30,
   "metadata": {
    "execution": {
     "iopub.execute_input": "2020-07-09T10:15:56.067166Z",
     "iopub.status.busy": "2020-07-09T10:15:56.066672Z",
     "iopub.status.idle": "2020-07-09T10:15:56.077521Z",
     "shell.execute_reply": "2020-07-09T10:15:56.077201Z"
    },
    "papermill": {
     "duration": 0.060745,
     "end_time": "2020-07-09T10:15:56.077573",
     "exception": false,
     "start_time": "2020-07-09T10:15:56.016828",
     "status": "completed"
    },
    "tags": []
   },
   "outputs": [
    {
     "data": {
      "text/plain": [
       "{'eigenvector_train': 0.9996269467584209,\n",
       " 'eigenvector_val': 0.9607644927536232,\n",
       " 'eigenvector_test': 0.6187660069848662,\n",
       " 'hamiltonian_train': 1.0,\n",
       " 'hamiltonian_val': 0.9963768115942029,\n",
       " 'hamiltonian_test': 0.8789289871944121}"
      ]
     },
     "execution_count": 30,
     "metadata": {},
     "output_type": "execute_result"
    }
   ],
   "source": [
    "simulation.accuracy"
   ]
  },
  {
   "cell_type": "markdown",
   "metadata": {
    "papermill": {
     "duration": 0.036021,
     "end_time": "2020-07-09T10:15:56.149935",
     "exception": false,
     "start_time": "2020-07-09T10:15:56.113914",
     "status": "completed"
    },
    "tags": []
   },
   "source": [
    "#### Checking data stored in  memory"
   ]
  },
  {
   "cell_type": "code",
   "execution_count": 31,
   "metadata": {
    "execution": {
     "iopub.execute_input": "2020-07-09T10:15:56.225380Z",
     "iopub.status.busy": "2020-07-09T10:15:56.224840Z",
     "iopub.status.idle": "2020-07-09T10:15:56.235547Z",
     "shell.execute_reply": "2020-07-09T10:15:56.235228Z"
    },
    "papermill": {
     "duration": 0.048907,
     "end_time": "2020-07-09T10:15:56.235598",
     "exception": false,
     "start_time": "2020-07-09T10:15:56.186691",
     "status": "completed"
    },
    "tags": []
   },
   "outputs": [
    {
     "data": {
      "text/plain": [
       "[]"
      ]
     },
     "execution_count": 31,
     "metadata": {},
     "output_type": "execute_result"
    }
   ],
   "source": [
    "ham_summary_list = simulation.hamiltonian_summary_list\n",
    "ham_summary_list"
   ]
  },
  {
   "cell_type": "code",
   "execution_count": 32,
   "metadata": {
    "execution": {
     "iopub.execute_input": "2020-07-09T10:15:56.310639Z",
     "iopub.status.busy": "2020-07-09T10:15:56.310153Z",
     "iopub.status.idle": "2020-07-09T10:15:56.322108Z",
     "shell.execute_reply": "2020-07-09T10:15:56.322411Z"
    },
    "papermill": {
     "duration": 0.050446,
     "end_time": "2020-07-09T10:15:56.322476",
     "exception": false,
     "start_time": "2020-07-09T10:15:56.272030",
     "status": "completed"
    },
    "tags": []
   },
   "outputs": [
    {
     "data": {
      "text/plain": [
       "[]"
      ]
     },
     "execution_count": 32,
     "metadata": {},
     "output_type": "execute_result"
    }
   ],
   "source": [
    "eigen_summary_list = simulation.eigenvector_summary_list\n",
    "eigen_summary_list"
   ]
  },
  {
   "cell_type": "code",
   "execution_count": 33,
   "metadata": {
    "execution": {
     "iopub.execute_input": "2020-07-09T10:15:56.399087Z",
     "iopub.status.busy": "2020-07-09T10:15:56.398760Z",
     "iopub.status.idle": "2020-07-09T10:15:56.464455Z",
     "shell.execute_reply": "2020-07-09T10:15:56.463994Z"
    },
    "papermill": {
     "duration": 0.104656,
     "end_time": "2020-07-09T10:15:56.464536",
     "exception": false,
     "start_time": "2020-07-09T10:15:56.359880",
     "status": "completed"
    },
    "tags": []
   },
   "outputs": [
    {
     "data": {
      "text/plain": [
       "{'eigenvector_train': [],\n",
       " 'eigenvector_val': [],\n",
       " 'eigenvector_test': [],\n",
       " 'hamiltonian_train': [],\n",
       " 'hamiltonian_val': [],\n",
       " 'hamiltonian_test': []}"
      ]
     },
     "execution_count": 33,
     "metadata": {},
     "output_type": "execute_result"
    }
   ],
   "source": [
    "accuracy_list = simulation.accuracy_list\n",
    "accuracy_list"
   ]
  },
  {
   "cell_type": "code",
   "execution_count": null,
   "metadata": {
    "papermill": {
     "duration": 0.036427,
     "end_time": "2020-07-09T10:15:56.539392",
     "exception": false,
     "start_time": "2020-07-09T10:15:56.502965",
     "status": "completed"
    },
    "tags": []
   },
   "outputs": [],
   "source": []
  },
  {
   "cell_type": "code",
   "execution_count": null,
   "metadata": {
    "papermill": {
     "duration": 0.036697,
     "end_time": "2020-07-09T10:15:56.613415",
     "exception": false,
     "start_time": "2020-07-09T10:15:56.576718",
     "status": "completed"
    },
    "tags": []
   },
   "outputs": [],
   "source": []
  },
  {
   "cell_type": "code",
   "execution_count": 34,
   "metadata": {
    "execution": {
     "iopub.execute_input": "2020-07-09T10:15:56.688922Z",
     "iopub.status.busy": "2020-07-09T10:15:56.688612Z",
     "iopub.status.idle": "2020-07-09T10:15:56.697878Z",
     "shell.execute_reply": "2020-07-09T10:15:56.698185Z"
    },
    "papermill": {
     "duration": 0.048015,
     "end_time": "2020-07-09T10:15:56.698254",
     "exception": false,
     "start_time": "2020-07-09T10:15:56.650239",
     "status": "completed"
    },
    "tags": []
   },
   "outputs": [],
   "source": [
    "#simulation.fourier_matrix"
   ]
  },
  {
   "cell_type": "code",
   "execution_count": 35,
   "metadata": {
    "execution": {
     "iopub.execute_input": "2020-07-09T10:15:56.775334Z",
     "iopub.status.busy": "2020-07-09T10:15:56.775024Z",
     "iopub.status.idle": "2020-07-09T10:15:56.784680Z",
     "shell.execute_reply": "2020-07-09T10:15:56.784351Z"
    },
    "papermill": {
     "duration": 0.04895,
     "end_time": "2020-07-09T10:15:56.784731",
     "exception": false,
     "start_time": "2020-07-09T10:15:56.735781",
     "status": "completed"
    },
    "tags": []
   },
   "outputs": [],
   "source": [
    "#simulation.fourier_matrix.shape"
   ]
  },
  {
   "cell_type": "code",
   "execution_count": 36,
   "metadata": {
    "execution": {
     "iopub.execute_input": "2020-07-09T10:15:56.859902Z",
     "iopub.status.busy": "2020-07-09T10:15:56.859592Z",
     "iopub.status.idle": "2020-07-09T10:15:56.869127Z",
     "shell.execute_reply": "2020-07-09T10:15:56.868807Z"
    },
    "papermill": {
     "duration": 0.047731,
     "end_time": "2020-07-09T10:15:56.869177",
     "exception": false,
     "start_time": "2020-07-09T10:15:56.821446",
     "status": "completed"
    },
    "tags": []
   },
   "outputs": [],
   "source": [
    "#simulation.fourier_matrix[:,0]"
   ]
  },
  {
   "cell_type": "code",
   "execution_count": 37,
   "metadata": {
    "execution": {
     "iopub.execute_input": "2020-07-09T10:15:56.946099Z",
     "iopub.status.busy": "2020-07-09T10:15:56.945790Z",
     "iopub.status.idle": "2020-07-09T10:15:56.955147Z",
     "shell.execute_reply": "2020-07-09T10:15:56.955452Z"
    },
    "papermill": {
     "duration": 0.048667,
     "end_time": "2020-07-09T10:15:56.955517",
     "exception": false,
     "start_time": "2020-07-09T10:15:56.906850",
     "status": "completed"
    },
    "tags": []
   },
   "outputs": [],
   "source": [
    "#simulation.fourier_matrix[:,1]"
   ]
  },
  {
   "cell_type": "code",
   "execution_count": 38,
   "metadata": {
    "execution": {
     "iopub.execute_input": "2020-07-09T10:15:57.030886Z",
     "iopub.status.busy": "2020-07-09T10:15:57.030579Z",
     "iopub.status.idle": "2020-07-09T10:15:57.039772Z",
     "shell.execute_reply": "2020-07-09T10:15:57.040074Z"
    },
    "papermill": {
     "duration": 0.047719,
     "end_time": "2020-07-09T10:15:57.040138",
     "exception": false,
     "start_time": "2020-07-09T10:15:56.992419",
     "status": "completed"
    },
    "tags": []
   },
   "outputs": [],
   "source": [
    "#np.exp(-1j*2*np.pi*3/100)"
   ]
  },
  {
   "cell_type": "code",
   "execution_count": 39,
   "metadata": {
    "execution": {
     "iopub.execute_input": "2020-07-09T10:15:57.117461Z",
     "iopub.status.busy": "2020-07-09T10:15:57.117148Z",
     "iopub.status.idle": "2020-07-09T10:15:57.126707Z",
     "shell.execute_reply": "2020-07-09T10:15:57.126970Z"
    },
    "papermill": {
     "duration": 0.049137,
     "end_time": "2020-07-09T10:15:57.127040",
     "exception": false,
     "start_time": "2020-07-09T10:15:57.077903",
     "status": "completed"
    },
    "tags": []
   },
   "outputs": [],
   "source": [
    "#for i in range(1,50):\n",
    "#    print(\"\\n\")\n",
    "#    print(i)\n",
    "#    print(np.sum((np.real(simulation.fourier_matrix[:,i]) - np.real(simulation.fourier_matrix[:,-i]))**2))\n",
    "#    print(np.sum((np.imag(simulation.fourier_matrix[:,i])+ np.imag(simulation.fourier_matrix[:,-i]))**2))"
   ]
  },
  {
   "cell_type": "code",
   "execution_count": 40,
   "metadata": {
    "execution": {
     "iopub.execute_input": "2020-07-09T10:15:57.203080Z",
     "iopub.status.busy": "2020-07-09T10:15:57.202772Z",
     "iopub.status.idle": "2020-07-09T10:15:57.238288Z",
     "shell.execute_reply": "2020-07-09T10:15:57.237946Z"
    },
    "papermill": {
     "duration": 0.073965,
     "end_time": "2020-07-09T10:15:57.238342",
     "exception": false,
     "start_time": "2020-07-09T10:15:57.164377",
     "status": "completed"
    },
    "tags": []
   },
   "outputs": [],
   "source": [
    "#print(simulation.fourier_matrix[:,0])"
   ]
  },
  {
   "cell_type": "code",
   "execution_count": 41,
   "metadata": {
    "execution": {
     "iopub.execute_input": "2020-07-09T10:15:57.316075Z",
     "iopub.status.busy": "2020-07-09T10:15:57.315766Z",
     "iopub.status.idle": "2020-07-09T10:15:57.324920Z",
     "shell.execute_reply": "2020-07-09T10:15:57.325173Z"
    },
    "papermill": {
     "duration": 0.048825,
     "end_time": "2020-07-09T10:15:57.325239",
     "exception": false,
     "start_time": "2020-07-09T10:15:57.276414",
     "status": "completed"
    },
    "tags": []
   },
   "outputs": [],
   "source": [
    "#print(simulation.fourier_matrix[:,50])"
   ]
  },
  {
   "cell_type": "code",
   "execution_count": null,
   "metadata": {
    "papermill": {
     "duration": 0.036644,
     "end_time": "2020-07-09T10:15:57.398757",
     "exception": false,
     "start_time": "2020-07-09T10:15:57.362113",
     "status": "completed"
    },
    "tags": []
   },
   "outputs": [],
   "source": []
  }
 ],
 "metadata": {
  "celltoolbar": "Tags",
  "kernelspec": {
   "display_name": "ml_top_phases",
   "language": "python",
   "name": "ml_top_phases"
  },
  "language_info": {
   "codemirror_mode": {
    "name": "ipython",
    "version": 3
   },
   "file_extension": ".py",
   "mimetype": "text/x-python",
   "name": "python",
   "nbconvert_exporter": "python",
   "pygments_lexer": "ipython3",
   "version": "3.6.10"
  },
  "papermill": {
   "duration": 1483.93724,
   "end_time": "2020-07-09T10:15:57.545565",
   "environment_variables": {},
   "exception": null,
   "input_path": "0_simulation_template.ipynb",
   "output_path": "zzz_simulation_output_ssh2_1st_scenario_100_6561.ipynb",
   "parameters": {
    "allowed_windings": [
     -1,
     0,
     1,
     2
    ],
    "csv_path": "/home/rio/ssh_csvs/ssh2/periodic_100_6561.csv",
    "features_to_use": [
     0,
     1,
     2,
     3,
     4,
     5,
     6,
     7,
     46,
     48,
     49,
     50
    ],
    "fit_params": null,
    "fourier_features_to_use": null,
    "fourier_fillna": null,
    "fourier_mode": null,
    "fourier_normalize": null,
    "fourier_real": null,
    "model_kw": {
     "criterion": "entropy",
     "n_estimators": 25,
     "n_jobs": -1
    },
    "model_name": "RandomForestClassifier",
    "n_experiments": 100,
    "pred_params": null,
    "random_features": false,
    "random_state": 244854,
    "save_accuracy": true,
    "save_eigenvector": true,
    "save_hamiltonian": true,
    "save_models": true,
    "shuffle_features": false,
    "shuffle_rows": true,
    "simulation_dir": "/home/rio/ssh_simulations/ssh2/periodic_1st_scenario_100_6561",
    "start_n": 0,
    "store_in_lists": false,
    "val_split": 0.5
   },
   "start_time": "2020-07-09T09:51:13.608325",
   "version": "2.1.0"
  }
 },
 "nbformat": 4,
 "nbformat_minor": 2
}