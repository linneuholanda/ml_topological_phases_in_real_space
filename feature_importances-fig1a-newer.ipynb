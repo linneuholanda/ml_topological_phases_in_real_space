{
 "cells": [
  {
   "cell_type": "markdown",
   "metadata": {},
   "source": [
    "# Analyzing Feature importances"
   ]
  },
  {
   "cell_type": "code",
   "execution_count": null,
   "metadata": {},
   "outputs": [
    {
     "data": {
      "text/html": [
       "<script>Jupyter.notebook.kernel.restart()</script>"
      ],
      "text/plain": [
       "<IPython.core.display.HTML object>"
      ]
     },
     "execution_count": 21,
     "metadata": {},
     "output_type": "execute_result"
    }
   ],
   "source": [
    "from IPython.core.display import HTML\n",
    "HTML(\"<script>Jupyter.notebook.kernel.restart()</script>\")"
   ]
  },
  {
   "cell_type": "code",
   "execution_count": 1,
   "metadata": {},
   "outputs": [],
   "source": [
    "from prediction_grids3_newer import *"
   ]
  },
  {
   "cell_type": "markdown",
   "metadata": {},
   "source": [
    "#### Loading simulation data"
   ]
  },
  {
   "cell_type": "code",
   "execution_count": 2,
   "metadata": {},
   "outputs": [],
   "source": [
    "simulation_name = \"fig1a-6561\"\n",
    "n_experiments = None\n",
    "load_hamiltonian_summary = False\n",
    "simulation = Simulation(simulation_name, n_experiments, load_hamiltonian_summary)"
   ]
  },
  {
   "cell_type": "markdown",
   "metadata": {},
   "source": [
    "#### Computing Hamiltonian summary"
   ]
  },
  {
   "cell_type": "code",
   "execution_count": 3,
   "metadata": {},
   "outputs": [
    {
     "name": "stderr",
     "output_type": "stream",
     "text": [
      "mean hamiltonian summary: 100%|██████████| 100/100 [00:01<00:00, 57.17it/s]\n",
      "majority vote: 100%|██████████| 6561/6561 [00:00<00:00, 24729.87it/s]\n"
     ]
    },
    {
     "data": {
      "text/html": [
       "<div>\n",
       "<style scoped>\n",
       "    .dataframe tbody tr th:only-of-type {\n",
       "        vertical-align: middle;\n",
       "    }\n",
       "\n",
       "    .dataframe tbody tr th {\n",
       "        vertical-align: top;\n",
       "    }\n",
       "\n",
       "    .dataframe thead th {\n",
       "        text-align: right;\n",
       "    }\n",
       "</style>\n",
       "<table border=\"1\" class=\"dataframe\">\n",
       "  <thead>\n",
       "    <tr style=\"text-align: right;\">\n",
       "      <th></th>\n",
       "      <th>t1</th>\n",
       "      <th>t2</th>\n",
       "      <th>type_of</th>\n",
       "      <th>0</th>\n",
       "      <th>1</th>\n",
       "      <th>phase</th>\n",
       "      <th>pred_phase</th>\n",
       "    </tr>\n",
       "    <tr>\n",
       "      <th>id</th>\n",
       "      <th></th>\n",
       "      <th></th>\n",
       "      <th></th>\n",
       "      <th></th>\n",
       "      <th></th>\n",
       "      <th></th>\n",
       "      <th></th>\n",
       "    </tr>\n",
       "  </thead>\n",
       "  <tbody>\n",
       "    <tr>\n",
       "      <th>0</th>\n",
       "      <td>-2.0</td>\n",
       "      <td>-2.00</td>\n",
       "      <td>test</td>\n",
       "      <td>0.5156</td>\n",
       "      <td>0.4844</td>\n",
       "      <td>999</td>\n",
       "      <td>0</td>\n",
       "    </tr>\n",
       "    <tr>\n",
       "      <th>1</th>\n",
       "      <td>-2.0</td>\n",
       "      <td>-1.95</td>\n",
       "      <td>test</td>\n",
       "      <td>0.5929</td>\n",
       "      <td>0.4071</td>\n",
       "      <td>0</td>\n",
       "      <td>0</td>\n",
       "    </tr>\n",
       "    <tr>\n",
       "      <th>2</th>\n",
       "      <td>-2.0</td>\n",
       "      <td>-1.90</td>\n",
       "      <td>test</td>\n",
       "      <td>0.6647</td>\n",
       "      <td>0.3353</td>\n",
       "      <td>0</td>\n",
       "      <td>0</td>\n",
       "    </tr>\n",
       "    <tr>\n",
       "      <th>3</th>\n",
       "      <td>-2.0</td>\n",
       "      <td>-1.85</td>\n",
       "      <td>test</td>\n",
       "      <td>0.7329</td>\n",
       "      <td>0.2671</td>\n",
       "      <td>0</td>\n",
       "      <td>0</td>\n",
       "    </tr>\n",
       "    <tr>\n",
       "      <th>4</th>\n",
       "      <td>-2.0</td>\n",
       "      <td>-1.80</td>\n",
       "      <td>test</td>\n",
       "      <td>0.7871</td>\n",
       "      <td>0.2129</td>\n",
       "      <td>0</td>\n",
       "      <td>0</td>\n",
       "    </tr>\n",
       "    <tr>\n",
       "      <th>5</th>\n",
       "      <td>-2.0</td>\n",
       "      <td>-1.75</td>\n",
       "      <td>test</td>\n",
       "      <td>0.8170</td>\n",
       "      <td>0.1830</td>\n",
       "      <td>0</td>\n",
       "      <td>0</td>\n",
       "    </tr>\n",
       "    <tr>\n",
       "      <th>6</th>\n",
       "      <td>-2.0</td>\n",
       "      <td>-1.70</td>\n",
       "      <td>test</td>\n",
       "      <td>0.8538</td>\n",
       "      <td>0.1462</td>\n",
       "      <td>0</td>\n",
       "      <td>0</td>\n",
       "    </tr>\n",
       "    <tr>\n",
       "      <th>7</th>\n",
       "      <td>-2.0</td>\n",
       "      <td>-1.65</td>\n",
       "      <td>test</td>\n",
       "      <td>0.8948</td>\n",
       "      <td>0.1052</td>\n",
       "      <td>0</td>\n",
       "      <td>0</td>\n",
       "    </tr>\n",
       "    <tr>\n",
       "      <th>8</th>\n",
       "      <td>-2.0</td>\n",
       "      <td>-1.60</td>\n",
       "      <td>test</td>\n",
       "      <td>0.9193</td>\n",
       "      <td>0.0807</td>\n",
       "      <td>0</td>\n",
       "      <td>0</td>\n",
       "    </tr>\n",
       "    <tr>\n",
       "      <th>9</th>\n",
       "      <td>-2.0</td>\n",
       "      <td>-1.55</td>\n",
       "      <td>val</td>\n",
       "      <td>0.9644</td>\n",
       "      <td>0.0356</td>\n",
       "      <td>0</td>\n",
       "      <td>0</td>\n",
       "    </tr>\n",
       "    <tr>\n",
       "      <th>10</th>\n",
       "      <td>-2.0</td>\n",
       "      <td>-1.50</td>\n",
       "      <td>val</td>\n",
       "      <td>0.9337</td>\n",
       "      <td>0.0663</td>\n",
       "      <td>0</td>\n",
       "      <td>0</td>\n",
       "    </tr>\n",
       "    <tr>\n",
       "      <th>11</th>\n",
       "      <td>-2.0</td>\n",
       "      <td>-1.45</td>\n",
       "      <td>val</td>\n",
       "      <td>0.9608</td>\n",
       "      <td>0.0392</td>\n",
       "      <td>0</td>\n",
       "      <td>0</td>\n",
       "    </tr>\n",
       "    <tr>\n",
       "      <th>12</th>\n",
       "      <td>-2.0</td>\n",
       "      <td>-1.40</td>\n",
       "      <td>val</td>\n",
       "      <td>0.9536</td>\n",
       "      <td>0.0464</td>\n",
       "      <td>0</td>\n",
       "      <td>0</td>\n",
       "    </tr>\n",
       "    <tr>\n",
       "      <th>13</th>\n",
       "      <td>-2.0</td>\n",
       "      <td>-1.35</td>\n",
       "      <td>val</td>\n",
       "      <td>0.9677</td>\n",
       "      <td>0.0323</td>\n",
       "      <td>0</td>\n",
       "      <td>0</td>\n",
       "    </tr>\n",
       "    <tr>\n",
       "      <th>14</th>\n",
       "      <td>-2.0</td>\n",
       "      <td>-1.30</td>\n",
       "      <td>val</td>\n",
       "      <td>0.9689</td>\n",
       "      <td>0.0311</td>\n",
       "      <td>0</td>\n",
       "      <td>0</td>\n",
       "    </tr>\n",
       "    <tr>\n",
       "      <th>15</th>\n",
       "      <td>-2.0</td>\n",
       "      <td>-1.25</td>\n",
       "      <td>val</td>\n",
       "      <td>0.9586</td>\n",
       "      <td>0.0414</td>\n",
       "      <td>0</td>\n",
       "      <td>0</td>\n",
       "    </tr>\n",
       "    <tr>\n",
       "      <th>16</th>\n",
       "      <td>-2.0</td>\n",
       "      <td>-1.20</td>\n",
       "      <td>val</td>\n",
       "      <td>0.9759</td>\n",
       "      <td>0.0241</td>\n",
       "      <td>0</td>\n",
       "      <td>0</td>\n",
       "    </tr>\n",
       "    <tr>\n",
       "      <th>17</th>\n",
       "      <td>-2.0</td>\n",
       "      <td>-1.15</td>\n",
       "      <td>train</td>\n",
       "      <td>0.9721</td>\n",
       "      <td>0.0279</td>\n",
       "      <td>0</td>\n",
       "      <td>0</td>\n",
       "    </tr>\n",
       "    <tr>\n",
       "      <th>18</th>\n",
       "      <td>-2.0</td>\n",
       "      <td>-1.10</td>\n",
       "      <td>val</td>\n",
       "      <td>0.9785</td>\n",
       "      <td>0.0215</td>\n",
       "      <td>0</td>\n",
       "      <td>0</td>\n",
       "    </tr>\n",
       "    <tr>\n",
       "      <th>19</th>\n",
       "      <td>-2.0</td>\n",
       "      <td>-1.05</td>\n",
       "      <td>val</td>\n",
       "      <td>0.9839</td>\n",
       "      <td>0.0161</td>\n",
       "      <td>0</td>\n",
       "      <td>0</td>\n",
       "    </tr>\n",
       "    <tr>\n",
       "      <th>20</th>\n",
       "      <td>-2.0</td>\n",
       "      <td>-1.00</td>\n",
       "      <td>val</td>\n",
       "      <td>0.9765</td>\n",
       "      <td>0.0235</td>\n",
       "      <td>0</td>\n",
       "      <td>0</td>\n",
       "    </tr>\n",
       "    <tr>\n",
       "      <th>21</th>\n",
       "      <td>-2.0</td>\n",
       "      <td>-0.95</td>\n",
       "      <td>val</td>\n",
       "      <td>0.9736</td>\n",
       "      <td>0.0264</td>\n",
       "      <td>0</td>\n",
       "      <td>0</td>\n",
       "    </tr>\n",
       "    <tr>\n",
       "      <th>22</th>\n",
       "      <td>-2.0</td>\n",
       "      <td>-0.90</td>\n",
       "      <td>val</td>\n",
       "      <td>0.9848</td>\n",
       "      <td>0.0152</td>\n",
       "      <td>0</td>\n",
       "      <td>0</td>\n",
       "    </tr>\n",
       "    <tr>\n",
       "      <th>23</th>\n",
       "      <td>-2.0</td>\n",
       "      <td>-0.85</td>\n",
       "      <td>val</td>\n",
       "      <td>0.9706</td>\n",
       "      <td>0.0294</td>\n",
       "      <td>0</td>\n",
       "      <td>0</td>\n",
       "    </tr>\n",
       "    <tr>\n",
       "      <th>24</th>\n",
       "      <td>-2.0</td>\n",
       "      <td>-0.80</td>\n",
       "      <td>train</td>\n",
       "      <td>0.9823</td>\n",
       "      <td>0.0177</td>\n",
       "      <td>0</td>\n",
       "      <td>0</td>\n",
       "    </tr>\n",
       "    <tr>\n",
       "      <th>25</th>\n",
       "      <td>-2.0</td>\n",
       "      <td>-0.75</td>\n",
       "      <td>val</td>\n",
       "      <td>0.9794</td>\n",
       "      <td>0.0206</td>\n",
       "      <td>0</td>\n",
       "      <td>0</td>\n",
       "    </tr>\n",
       "    <tr>\n",
       "      <th>26</th>\n",
       "      <td>-2.0</td>\n",
       "      <td>-0.70</td>\n",
       "      <td>val</td>\n",
       "      <td>0.9649</td>\n",
       "      <td>0.0351</td>\n",
       "      <td>0</td>\n",
       "      <td>0</td>\n",
       "    </tr>\n",
       "    <tr>\n",
       "      <th>27</th>\n",
       "      <td>-2.0</td>\n",
       "      <td>-0.65</td>\n",
       "      <td>val</td>\n",
       "      <td>0.9751</td>\n",
       "      <td>0.0249</td>\n",
       "      <td>0</td>\n",
       "      <td>0</td>\n",
       "    </tr>\n",
       "    <tr>\n",
       "      <th>28</th>\n",
       "      <td>-2.0</td>\n",
       "      <td>-0.60</td>\n",
       "      <td>val</td>\n",
       "      <td>0.9805</td>\n",
       "      <td>0.0195</td>\n",
       "      <td>0</td>\n",
       "      <td>0</td>\n",
       "    </tr>\n",
       "    <tr>\n",
       "      <th>29</th>\n",
       "      <td>-2.0</td>\n",
       "      <td>-0.55</td>\n",
       "      <td>val</td>\n",
       "      <td>0.9766</td>\n",
       "      <td>0.0234</td>\n",
       "      <td>0</td>\n",
       "      <td>0</td>\n",
       "    </tr>\n",
       "    <tr>\n",
       "      <th>...</th>\n",
       "      <td>...</td>\n",
       "      <td>...</td>\n",
       "      <td>...</td>\n",
       "      <td>...</td>\n",
       "      <td>...</td>\n",
       "      <td>...</td>\n",
       "      <td>...</td>\n",
       "    </tr>\n",
       "    <tr>\n",
       "      <th>6531</th>\n",
       "      <td>2.0</td>\n",
       "      <td>0.55</td>\n",
       "      <td>val</td>\n",
       "      <td>0.9776</td>\n",
       "      <td>0.0224</td>\n",
       "      <td>0</td>\n",
       "      <td>0</td>\n",
       "    </tr>\n",
       "    <tr>\n",
       "      <th>6532</th>\n",
       "      <td>2.0</td>\n",
       "      <td>0.60</td>\n",
       "      <td>val</td>\n",
       "      <td>0.9805</td>\n",
       "      <td>0.0195</td>\n",
       "      <td>0</td>\n",
       "      <td>0</td>\n",
       "    </tr>\n",
       "    <tr>\n",
       "      <th>6533</th>\n",
       "      <td>2.0</td>\n",
       "      <td>0.65</td>\n",
       "      <td>val</td>\n",
       "      <td>0.9714</td>\n",
       "      <td>0.0286</td>\n",
       "      <td>0</td>\n",
       "      <td>0</td>\n",
       "    </tr>\n",
       "    <tr>\n",
       "      <th>6534</th>\n",
       "      <td>2.0</td>\n",
       "      <td>0.70</td>\n",
       "      <td>val</td>\n",
       "      <td>0.9695</td>\n",
       "      <td>0.0305</td>\n",
       "      <td>0</td>\n",
       "      <td>0</td>\n",
       "    </tr>\n",
       "    <tr>\n",
       "      <th>6535</th>\n",
       "      <td>2.0</td>\n",
       "      <td>0.75</td>\n",
       "      <td>val</td>\n",
       "      <td>0.9751</td>\n",
       "      <td>0.0249</td>\n",
       "      <td>0</td>\n",
       "      <td>0</td>\n",
       "    </tr>\n",
       "    <tr>\n",
       "      <th>6536</th>\n",
       "      <td>2.0</td>\n",
       "      <td>0.80</td>\n",
       "      <td>val</td>\n",
       "      <td>0.9801</td>\n",
       "      <td>0.0199</td>\n",
       "      <td>0</td>\n",
       "      <td>0</td>\n",
       "    </tr>\n",
       "    <tr>\n",
       "      <th>6537</th>\n",
       "      <td>2.0</td>\n",
       "      <td>0.85</td>\n",
       "      <td>val</td>\n",
       "      <td>0.9684</td>\n",
       "      <td>0.0316</td>\n",
       "      <td>0</td>\n",
       "      <td>0</td>\n",
       "    </tr>\n",
       "    <tr>\n",
       "      <th>6538</th>\n",
       "      <td>2.0</td>\n",
       "      <td>0.90</td>\n",
       "      <td>val</td>\n",
       "      <td>0.9845</td>\n",
       "      <td>0.0155</td>\n",
       "      <td>0</td>\n",
       "      <td>0</td>\n",
       "    </tr>\n",
       "    <tr>\n",
       "      <th>6539</th>\n",
       "      <td>2.0</td>\n",
       "      <td>0.95</td>\n",
       "      <td>val</td>\n",
       "      <td>0.9756</td>\n",
       "      <td>0.0244</td>\n",
       "      <td>0</td>\n",
       "      <td>0</td>\n",
       "    </tr>\n",
       "    <tr>\n",
       "      <th>6540</th>\n",
       "      <td>2.0</td>\n",
       "      <td>1.00</td>\n",
       "      <td>val</td>\n",
       "      <td>0.9785</td>\n",
       "      <td>0.0215</td>\n",
       "      <td>0</td>\n",
       "      <td>0</td>\n",
       "    </tr>\n",
       "    <tr>\n",
       "      <th>6541</th>\n",
       "      <td>2.0</td>\n",
       "      <td>1.05</td>\n",
       "      <td>val</td>\n",
       "      <td>0.9841</td>\n",
       "      <td>0.0159</td>\n",
       "      <td>0</td>\n",
       "      <td>0</td>\n",
       "    </tr>\n",
       "    <tr>\n",
       "      <th>6542</th>\n",
       "      <td>2.0</td>\n",
       "      <td>1.10</td>\n",
       "      <td>val</td>\n",
       "      <td>0.9821</td>\n",
       "      <td>0.0179</td>\n",
       "      <td>0</td>\n",
       "      <td>0</td>\n",
       "    </tr>\n",
       "    <tr>\n",
       "      <th>6543</th>\n",
       "      <td>2.0</td>\n",
       "      <td>1.15</td>\n",
       "      <td>val</td>\n",
       "      <td>0.9732</td>\n",
       "      <td>0.0268</td>\n",
       "      <td>0</td>\n",
       "      <td>0</td>\n",
       "    </tr>\n",
       "    <tr>\n",
       "      <th>6544</th>\n",
       "      <td>2.0</td>\n",
       "      <td>1.20</td>\n",
       "      <td>train</td>\n",
       "      <td>0.9786</td>\n",
       "      <td>0.0214</td>\n",
       "      <td>0</td>\n",
       "      <td>0</td>\n",
       "    </tr>\n",
       "    <tr>\n",
       "      <th>6545</th>\n",
       "      <td>2.0</td>\n",
       "      <td>1.25</td>\n",
       "      <td>val</td>\n",
       "      <td>0.9574</td>\n",
       "      <td>0.0426</td>\n",
       "      <td>0</td>\n",
       "      <td>0</td>\n",
       "    </tr>\n",
       "    <tr>\n",
       "      <th>6546</th>\n",
       "      <td>2.0</td>\n",
       "      <td>1.30</td>\n",
       "      <td>val</td>\n",
       "      <td>0.9678</td>\n",
       "      <td>0.0322</td>\n",
       "      <td>0</td>\n",
       "      <td>0</td>\n",
       "    </tr>\n",
       "    <tr>\n",
       "      <th>6547</th>\n",
       "      <td>2.0</td>\n",
       "      <td>1.35</td>\n",
       "      <td>val</td>\n",
       "      <td>0.9688</td>\n",
       "      <td>0.0312</td>\n",
       "      <td>0</td>\n",
       "      <td>0</td>\n",
       "    </tr>\n",
       "    <tr>\n",
       "      <th>6548</th>\n",
       "      <td>2.0</td>\n",
       "      <td>1.40</td>\n",
       "      <td>val</td>\n",
       "      <td>0.9535</td>\n",
       "      <td>0.0465</td>\n",
       "      <td>0</td>\n",
       "      <td>0</td>\n",
       "    </tr>\n",
       "    <tr>\n",
       "      <th>6549</th>\n",
       "      <td>2.0</td>\n",
       "      <td>1.45</td>\n",
       "      <td>val</td>\n",
       "      <td>0.9585</td>\n",
       "      <td>0.0415</td>\n",
       "      <td>0</td>\n",
       "      <td>0</td>\n",
       "    </tr>\n",
       "    <tr>\n",
       "      <th>6550</th>\n",
       "      <td>2.0</td>\n",
       "      <td>1.50</td>\n",
       "      <td>train</td>\n",
       "      <td>0.9455</td>\n",
       "      <td>0.0545</td>\n",
       "      <td>0</td>\n",
       "      <td>0</td>\n",
       "    </tr>\n",
       "    <tr>\n",
       "      <th>6551</th>\n",
       "      <td>2.0</td>\n",
       "      <td>1.55</td>\n",
       "      <td>val</td>\n",
       "      <td>0.9606</td>\n",
       "      <td>0.0394</td>\n",
       "      <td>0</td>\n",
       "      <td>0</td>\n",
       "    </tr>\n",
       "    <tr>\n",
       "      <th>6552</th>\n",
       "      <td>2.0</td>\n",
       "      <td>1.60</td>\n",
       "      <td>test</td>\n",
       "      <td>0.9155</td>\n",
       "      <td>0.0845</td>\n",
       "      <td>0</td>\n",
       "      <td>0</td>\n",
       "    </tr>\n",
       "    <tr>\n",
       "      <th>6553</th>\n",
       "      <td>2.0</td>\n",
       "      <td>1.65</td>\n",
       "      <td>test</td>\n",
       "      <td>0.8935</td>\n",
       "      <td>0.1065</td>\n",
       "      <td>0</td>\n",
       "      <td>0</td>\n",
       "    </tr>\n",
       "    <tr>\n",
       "      <th>6554</th>\n",
       "      <td>2.0</td>\n",
       "      <td>1.70</td>\n",
       "      <td>test</td>\n",
       "      <td>0.8555</td>\n",
       "      <td>0.1445</td>\n",
       "      <td>0</td>\n",
       "      <td>0</td>\n",
       "    </tr>\n",
       "    <tr>\n",
       "      <th>6555</th>\n",
       "      <td>2.0</td>\n",
       "      <td>1.75</td>\n",
       "      <td>test</td>\n",
       "      <td>0.8187</td>\n",
       "      <td>0.1813</td>\n",
       "      <td>0</td>\n",
       "      <td>0</td>\n",
       "    </tr>\n",
       "    <tr>\n",
       "      <th>6556</th>\n",
       "      <td>2.0</td>\n",
       "      <td>1.80</td>\n",
       "      <td>test</td>\n",
       "      <td>0.8062</td>\n",
       "      <td>0.1938</td>\n",
       "      <td>0</td>\n",
       "      <td>0</td>\n",
       "    </tr>\n",
       "    <tr>\n",
       "      <th>6557</th>\n",
       "      <td>2.0</td>\n",
       "      <td>1.85</td>\n",
       "      <td>test</td>\n",
       "      <td>0.7376</td>\n",
       "      <td>0.2624</td>\n",
       "      <td>0</td>\n",
       "      <td>0</td>\n",
       "    </tr>\n",
       "    <tr>\n",
       "      <th>6558</th>\n",
       "      <td>2.0</td>\n",
       "      <td>1.90</td>\n",
       "      <td>test</td>\n",
       "      <td>0.6704</td>\n",
       "      <td>0.3296</td>\n",
       "      <td>0</td>\n",
       "      <td>0</td>\n",
       "    </tr>\n",
       "    <tr>\n",
       "      <th>6559</th>\n",
       "      <td>2.0</td>\n",
       "      <td>1.95</td>\n",
       "      <td>test</td>\n",
       "      <td>0.5946</td>\n",
       "      <td>0.4054</td>\n",
       "      <td>0</td>\n",
       "      <td>0</td>\n",
       "    </tr>\n",
       "    <tr>\n",
       "      <th>6560</th>\n",
       "      <td>2.0</td>\n",
       "      <td>2.00</td>\n",
       "      <td>test</td>\n",
       "      <td>0.5179</td>\n",
       "      <td>0.4821</td>\n",
       "      <td>999</td>\n",
       "      <td>0</td>\n",
       "    </tr>\n",
       "  </tbody>\n",
       "</table>\n",
       "<p>6561 rows × 7 columns</p>\n",
       "</div>"
      ],
      "text/plain": [
       "       t1    t2 type_of       0       1  phase  pred_phase\n",
       "id                                                        \n",
       "0    -2.0 -2.00    test  0.5156  0.4844    999           0\n",
       "1    -2.0 -1.95    test  0.5929  0.4071      0           0\n",
       "2    -2.0 -1.90    test  0.6647  0.3353      0           0\n",
       "3    -2.0 -1.85    test  0.7329  0.2671      0           0\n",
       "4    -2.0 -1.80    test  0.7871  0.2129      0           0\n",
       "5    -2.0 -1.75    test  0.8170  0.1830      0           0\n",
       "6    -2.0 -1.70    test  0.8538  0.1462      0           0\n",
       "7    -2.0 -1.65    test  0.8948  0.1052      0           0\n",
       "8    -2.0 -1.60    test  0.9193  0.0807      0           0\n",
       "9    -2.0 -1.55     val  0.9644  0.0356      0           0\n",
       "10   -2.0 -1.50     val  0.9337  0.0663      0           0\n",
       "11   -2.0 -1.45     val  0.9608  0.0392      0           0\n",
       "12   -2.0 -1.40     val  0.9536  0.0464      0           0\n",
       "13   -2.0 -1.35     val  0.9677  0.0323      0           0\n",
       "14   -2.0 -1.30     val  0.9689  0.0311      0           0\n",
       "15   -2.0 -1.25     val  0.9586  0.0414      0           0\n",
       "16   -2.0 -1.20     val  0.9759  0.0241      0           0\n",
       "17   -2.0 -1.15   train  0.9721  0.0279      0           0\n",
       "18   -2.0 -1.10     val  0.9785  0.0215      0           0\n",
       "19   -2.0 -1.05     val  0.9839  0.0161      0           0\n",
       "20   -2.0 -1.00     val  0.9765  0.0235      0           0\n",
       "21   -2.0 -0.95     val  0.9736  0.0264      0           0\n",
       "22   -2.0 -0.90     val  0.9848  0.0152      0           0\n",
       "23   -2.0 -0.85     val  0.9706  0.0294      0           0\n",
       "24   -2.0 -0.80   train  0.9823  0.0177      0           0\n",
       "25   -2.0 -0.75     val  0.9794  0.0206      0           0\n",
       "26   -2.0 -0.70     val  0.9649  0.0351      0           0\n",
       "27   -2.0 -0.65     val  0.9751  0.0249      0           0\n",
       "28   -2.0 -0.60     val  0.9805  0.0195      0           0\n",
       "29   -2.0 -0.55     val  0.9766  0.0234      0           0\n",
       "...   ...   ...     ...     ...     ...    ...         ...\n",
       "6531  2.0  0.55     val  0.9776  0.0224      0           0\n",
       "6532  2.0  0.60     val  0.9805  0.0195      0           0\n",
       "6533  2.0  0.65     val  0.9714  0.0286      0           0\n",
       "6534  2.0  0.70     val  0.9695  0.0305      0           0\n",
       "6535  2.0  0.75     val  0.9751  0.0249      0           0\n",
       "6536  2.0  0.80     val  0.9801  0.0199      0           0\n",
       "6537  2.0  0.85     val  0.9684  0.0316      0           0\n",
       "6538  2.0  0.90     val  0.9845  0.0155      0           0\n",
       "6539  2.0  0.95     val  0.9756  0.0244      0           0\n",
       "6540  2.0  1.00     val  0.9785  0.0215      0           0\n",
       "6541  2.0  1.05     val  0.9841  0.0159      0           0\n",
       "6542  2.0  1.10     val  0.9821  0.0179      0           0\n",
       "6543  2.0  1.15     val  0.9732  0.0268      0           0\n",
       "6544  2.0  1.20   train  0.9786  0.0214      0           0\n",
       "6545  2.0  1.25     val  0.9574  0.0426      0           0\n",
       "6546  2.0  1.30     val  0.9678  0.0322      0           0\n",
       "6547  2.0  1.35     val  0.9688  0.0312      0           0\n",
       "6548  2.0  1.40     val  0.9535  0.0465      0           0\n",
       "6549  2.0  1.45     val  0.9585  0.0415      0           0\n",
       "6550  2.0  1.50   train  0.9455  0.0545      0           0\n",
       "6551  2.0  1.55     val  0.9606  0.0394      0           0\n",
       "6552  2.0  1.60    test  0.9155  0.0845      0           0\n",
       "6553  2.0  1.65    test  0.8935  0.1065      0           0\n",
       "6554  2.0  1.70    test  0.8555  0.1445      0           0\n",
       "6555  2.0  1.75    test  0.8187  0.1813      0           0\n",
       "6556  2.0  1.80    test  0.8062  0.1938      0           0\n",
       "6557  2.0  1.85    test  0.7376  0.2624      0           0\n",
       "6558  2.0  1.90    test  0.6704  0.3296      0           0\n",
       "6559  2.0  1.95    test  0.5946  0.4054      0           0\n",
       "6560  2.0  2.00    test  0.5179  0.4821    999           0\n",
       "\n",
       "[6561 rows x 7 columns]"
      ]
     },
     "execution_count": 3,
     "metadata": {},
     "output_type": "execute_result"
    }
   ],
   "source": [
    "save_to_disk = False\n",
    "simulation.compute_hamiltonian_summary(save_to_disk)\n",
    "simulation.hamiltonian_summary"
   ]
  },
  {
   "cell_type": "markdown",
   "metadata": {},
   "source": [
    "#### Computing mean simulation accuracy"
   ]
  },
  {
   "cell_type": "code",
   "execution_count": 4,
   "metadata": {},
   "outputs": [
    {
     "name": "stderr",
     "output_type": "stream",
     "text": [
      "computing mean accuracies: 100%|██████████| 100/100 [00:51<00:00,  1.97it/s]\n"
     ]
    }
   ],
   "source": [
    "save_to_disk = False\n",
    "simulation.compute_mean_accuracy(save_to_disk)"
   ]
  },
  {
   "cell_type": "code",
   "execution_count": 5,
   "metadata": {},
   "outputs": [
    {
     "data": {
      "text/plain": [
       "{'eigenvector_train': 0.9815330935251798,\n",
       " 'eigenvector_val': 0.9623745600000001,\n",
       " 'eigenvector_test': 0.7768290284360191,\n",
       " 'hamiltonian_train': 1.0,\n",
       " 'hamiltonian_val': 1.0,\n",
       " 'hamiltonian_test': 0.9910545023696682}"
      ]
     },
     "execution_count": 5,
     "metadata": {},
     "output_type": "execute_result"
    }
   ],
   "source": [
    "simulation.mean_accuracy"
   ]
  },
  {
   "cell_type": "markdown",
   "metadata": {},
   "source": [
    "#### Computing bootstrap accuracy"
   ]
  },
  {
   "cell_type": "code",
   "execution_count": 6,
   "metadata": {},
   "outputs": [],
   "source": [
    "save_to_disk = False\n",
    "simulation.compute_bootstrap_accuracy(save_to_disk)"
   ]
  },
  {
   "cell_type": "code",
   "execution_count": 7,
   "metadata": {},
   "outputs": [
    {
     "data": {
      "text/plain": [
       "{'hamiltonian_train': 1.0, 'hamiltonian_val': 1.0, 'hamiltonian_test': 1.0}"
      ]
     },
     "execution_count": 7,
     "metadata": {},
     "output_type": "execute_result"
    }
   ],
   "source": [
    "simulation.bootstrap_accuracy"
   ]
  },
  {
   "cell_type": "markdown",
   "metadata": {},
   "source": [
    "#### Computing mean feature importances"
   ]
  },
  {
   "cell_type": "code",
   "execution_count": 8,
   "metadata": {},
   "outputs": [
    {
     "name": "stderr",
     "output_type": "stream",
     "text": [
      "mean feature importances: 100%|██████████| 100/100 [00:00<00:00, 151.55it/s]\n"
     ]
    }
   ],
   "source": [
    "sort_importances = False\n",
    "save_to_disk = False\n",
    "simulation.compute_mean_feature_importance(sort_importances, save_to_disk)"
   ]
  },
  {
   "cell_type": "code",
   "execution_count": 9,
   "metadata": {},
   "outputs": [
    {
     "name": "stdout",
     "output_type": "stream",
     "text": [
      "feature importances: \n",
      "\n",
      "{1: 0.1711804473122807, 2: 0.10595000195733416, 3: 0.007800144957523963, 4: 0.09869157695509072, 5: 0.0030445948967184836, 6: 0.01171345693554692, 7: 0.0013718950518695709, 8: 0.005976807013760314, 9: 0.0015252837732340433, 10: 0.0030232298514094435, 11: 0.0011624733674264632, 12: 0.0031179082589001495, 13: 0.001156041154748699, 14: 0.001669517906491078, 15: 0.0010609069933977195, 16: 0.0020549898471349786, 17: 0.0012412296698478288, 18: 0.0017049719364601954, 19: 0.0012985025529889732, 20: 0.00724127282190823, 21: 0.0011891958827664017, 22: 0.0025598706905556835, 23: 0.0012436573019960046, 24: 0.0028533685246236546, 25: 0.0014428997314159112, 26: 0.0023523209874813174, 27: 0.0016137655866830568, 28: 0.004431270013719746, 29: 0.000981699544477587, 30: 0.0030310646058308416, 31: 0.001154932782308434, 32: 0.0034893524557822716, 33: 0.0010654911286328192, 34: 0.002227899977291625, 35: 0.0013305689759125763, 36: 0.008131811131907571, 37: 0.0009518020244113527, 38: 0.001627547316153351, 39: 0.0011112782604827608, 40: 0.0020292008185563053, 41: 0.0012095663434798338, 42: 0.0037358168507359963, 43: 0.0011711108731640154, 44: 0.0025332458625321515, 45: 0.0011684444614269054, 46: 0.005473548787771285, 47: 0.0024550206585721712, 48: 0.0038457993402571363, 49: 0.004882183593083635, 50: 0.014077941709741788, 51: 0.14390012732357904, 52: 0.10804042477736947, 53: 0.00464370741611971, 54: 0.09057811256662308, 55: 0.0025199964735633175, 56: 0.011091520460661752, 57: 0.001446656208640905, 58: 0.005144019758936127, 59: 0.0013505124035921457, 60: 0.0034104516313567873, 61: 0.0010613336320016572, 62: 0.003043937231758427, 63: 0.0011045474703505961, 64: 0.001992473938180816, 65: 0.0010982872196893241, 66: 0.0018894829960941525, 67: 0.0012605339497252204, 68: 0.0020460115119375283, 69: 0.0012609409527679733, 70: 0.007467102186876229, 71: 0.001241477211242631, 72: 0.003051723409457759, 73: 0.001077845851174905, 74: 0.0027005533547623754, 75: 0.001465039843497294, 76: 0.0030662076071030103, 77: 0.0016301019103876976, 78: 0.00413637603345535, 79: 0.0009149387393334308, 80: 0.0028652624508408338, 81: 0.0011999981661196127, 82: 0.0030231040556156445, 83: 0.001224304958630788, 84: 0.0023993069526593224, 85: 0.0014245171729761967, 86: 0.007024757885132831, 87: 0.0010780222800673435, 88: 0.0020862543444978977, 89: 0.0012068281339042758, 90: 0.002212903766216118, 91: 0.0012589915412354595, 92: 0.0031950258135530134, 93: 0.0012745342316384813, 94: 0.0020284614420799955, 95: 0.0013136255804092195, 96: 0.005281648915743667, 97: 0.002184572325417649, 98: 0.0038497998430005566, 99: 0.005958469469853658, 100: 0.0169182371643419}\n",
      "\n",
      "\n",
      "cumulative feature importances: \n",
      "\n",
      "{1: 0.1711804473122807, 2: 0.27713044926961483, 3: 0.2849305942271388, 4: 0.3836221711822295, 5: 0.386666766078948, 6: 0.39838022301449494, 7: 0.3997521180663645, 8: 0.4057289250801248, 9: 0.40725420885335883, 10: 0.4102774387047683, 11: 0.41143991207219477, 12: 0.4145578203310949, 13: 0.4157138614858436, 14: 0.41738337939233466, 15: 0.4184442863857324, 16: 0.42049927623286737, 17: 0.4217405059027152, 18: 0.4234454778391754, 19: 0.4247439803921644, 20: 0.4319852532140726, 21: 0.433174449096839, 22: 0.4357343197873947, 23: 0.4369779770893907, 24: 0.4398313456140143, 25: 0.44127424534543025, 26: 0.4436265663329116, 27: 0.44524033191959467, 28: 0.4496716019333144, 29: 0.450653301477792, 30: 0.45368436608362284, 31: 0.4548392988659313, 32: 0.4583286513217135, 33: 0.4593941424503463, 34: 0.46162204242763794, 35: 0.4629526114035505, 36: 0.47108442253545807, 37: 0.47203622455986943, 38: 0.47366377187602277, 39: 0.4747750501365055, 40: 0.4768042509550618, 41: 0.47801381729854164, 42: 0.48174963414927763, 43: 0.48292074502244164, 44: 0.4854539908849738, 45: 0.4866224353464007, 46: 0.492095984134172, 47: 0.49455100479274416, 48: 0.4983968041330013, 49: 0.5032789877260849, 50: 0.5173569294358267, 51: 0.6612570567594057, 52: 0.7692974815367752, 53: 0.773941188952895, 54: 0.8645193015195181, 55: 0.8670392979930813, 56: 0.8781308184537431, 57: 0.879577474662384, 58: 0.8847214944213201, 59: 0.8860720068249123, 60: 0.889482458456269, 61: 0.8905437920882707, 62: 0.8935877293200292, 63: 0.8946922767903798, 64: 0.8966847507285606, 65: 0.8977830379482499, 66: 0.899672520944344, 67: 0.9009330548940693, 68: 0.9029790664060068, 69: 0.9042400073587747, 70: 0.9117071095456509, 71: 0.9129485867568936, 72: 0.9160003101663514, 73: 0.9170781560175263, 74: 0.9197787093722887, 75: 0.921243749215786, 76: 0.924309956822889, 77: 0.9259400587332767, 78: 0.9300764347667321, 79: 0.9309913735060655, 80: 0.9338566359569064, 81: 0.935056634123026, 82: 0.9380797381786417, 83: 0.9393040431372724, 84: 0.9417033500899318, 85: 0.943127867262908, 86: 0.9501526251480408, 87: 0.9512306474281081, 88: 0.9533169017726061, 89: 0.9545237299065104, 90: 0.9567366336727264, 91: 0.9579956252139619, 92: 0.9611906510275149, 93: 0.9624651852591534, 94: 0.9644936467012334, 95: 0.9658072722816426, 96: 0.9710889211973863, 97: 0.973273493522804, 98: 0.9771232933658046, 99: 0.9830817628356583, 100: 1.0000000000000002}\n"
     ]
    }
   ],
   "source": [
    "print(\"feature importances: \\n\")\n",
    "print(simulation.feature_importance)\n",
    "print(\"\\n\")\n",
    "print(\"cumulative feature importances: \\n\")\n",
    "print(simulation.cumulative_feature_importance)"
   ]
  },
  {
   "cell_type": "markdown",
   "metadata": {},
   "source": [
    "#### Plotting feature importances"
   ]
  },
  {
   "cell_type": "code",
   "execution_count": 10,
   "metadata": {},
   "outputs": [
    {
     "data": {
      "image/png": "[encoded data removed]",
      "text/plain": [
       "<Figure size 864x864 with 1 Axes>"
      ]
     },
     "metadata": {
      "needs_background": "light"
     },
     "output_type": "display_data"
    }
   ],
   "source": [
    "#plot_feature_importances(self, n_features=None, fig_params={}, xlabel_params={}, ylabel_params={}, title_params={})\n",
    "n_features = None\n",
    "bar_params = {\"color\": \"deeppink\", \"width\": 0.7}\n",
    "fig_params={\"figsize\": (12,12)} \n",
    "xlabel_params = {\"xlabel\": \"lattice site\", \"fontsize\": 40}\n",
    "ylabel_params = {\"ylabel\": \"% reduction in Gini impurity\", \"fontsize\": 40}\n",
    "title_params = {\"label\": \"Gini topological signal - experiment 1\", \"fontsize\": 36}\n",
    "#title_params = {\"label\": \"Lattice site importances\", \"fontsize\": 20}\n",
    "#xlim_params = {\"left\": 0, \"right\": len(simulation.feature_importance)}\n",
    "#ylim_params = {\"bottom\": 0, \"top\": 0.2}\n",
    "#xlim_params = {\"left\": 0, \"right\": 99}\n",
    "xlim_params = {}\n",
    "ylim_params = {}\n",
    "xticks_params = {\"ticks\": np.linspace(1,100,12).astype(int), \"fontsize\": 24}\n",
    "yticks_params = {\"fontsize\": 24}\n",
    "tight_params = {}\n",
    "path_to_save = \"./fig1a-6561-100-feature_importances.png\"\n",
    "savefig_params = {\"fname\": path_to_save}\n",
    "simulation.plot_feature_importances(n_features, bar_params, fig_params, xlabel_params, ylabel_params, title_params,\\\n",
    "                                    xlim_params, ylim_params, xticks_params, yticks_params, tight_params, savefig_params)\n"
   ]
  },
  {
   "cell_type": "markdown",
   "metadata": {},
   "source": [
    "#### Plotting cumulative feature importances"
   ]
  },
  {
   "cell_type": "code",
   "execution_count": 11,
   "metadata": {},
   "outputs": [
    {
     "data": {
      "image/png": "[encoded data removed]",
      "text/plain": [
       "<Figure size 864x864 with 1 Axes>"
      ]
     },
     "metadata": {
      "needs_background": "light"
     },
     "output_type": "display_data"
    }
   ],
   "source": [
    "n_features = None\n",
    "bar_params = {\"color\":\"steelblue\", \"width\": 0.7}\n",
    "fig_params={\"figsize\": (12,12)} \n",
    "xlabel_params = {\"xlabel\": \"lattice site\", \"fontsize\": 32}\n",
    "ylabel_params = {\"ylabel\": \"cumulative % reduction in Gini impurity\", \"fontsize\": 32}\n",
    "title_params = {\"label\": \"Cumulative distribution - experiment 1\", \"fontsize\": 36}\n",
    "#title_params = {\"label\": \"Lattice site importances\", \"fontsize\": 20}\n",
    "#xlim_params = {\"left\": 0, \"right\": len(simulation.feature_importance)}\n",
    "#ylim_params = {\"bottom\": 0, \"top\": 0.2}\n",
    "#xlim_params = {\"left\": 0, \"right\": 99}\n",
    "#xlim_params = {\"left\":-1, \"right\":100}\n",
    "xlim_params = {}\n",
    "ylim_params = {}\n",
    "#xticks_params = {\"ticks\": np.array(list(simulation.cumulative_feature_importance.keys()))[np.linspace(0,99,16).astype(int)] }\n",
    "#xticks_params = {\"ticks\": np.linspace(1,100,12).astype(int), \"fontsize\": 24}\n",
    "xticks_params = {\"ticks\": np.linspace(1,100,12), \"fontsize\": 24}\n",
    "yticks_params = {\"fontsize\": 24}\n",
    "tight_params = {}\n",
    "path_to_save = \"./fig1a-6561-100-cumulative_feature_importances.png\"\n",
    "savefig_params = {\"fname\": path_to_save}\n",
    "simulation.plot_cumulative_feature_importances(n_features, bar_params, fig_params, xlabel_params, ylabel_params, title_params, xlim_params, \\\n",
    "                                    ylim_params, xticks_params, yticks_params, tight_params, savefig_params)\n"
   ]
  },
  {
   "cell_type": "code",
   "execution_count": null,
   "metadata": {},
   "outputs": [],
   "source": []
  },
  {
   "cell_type": "code",
   "execution_count": null,
   "metadata": {},
   "outputs": [],
   "source": []
  },
  {
   "cell_type": "code",
   "execution_count": 12,
   "metadata": {},
   "outputs": [
    {
     "data": {
      "text/plain": [
       "array([ 0, 19, 39, 59, 79, 99])"
      ]
     },
     "execution_count": 12,
     "metadata": {},
     "output_type": "execute_result"
    }
   ],
   "source": [
    "np.linspace(0,99,6).astype(int)"
   ]
  },
  {
   "cell_type": "code",
   "execution_count": 13,
   "metadata": {},
   "outputs": [
    {
     "data": {
      "text/plain": [
       "array([ 1, 58, 24, 77, 83, 79])"
      ]
     },
     "execution_count": 13,
     "metadata": {},
     "output_type": "execute_result"
    }
   ],
   "source": [
    "np.array(list(simulation.cumulative_feature_importance.keys()))[np.linspace(0,99,6).astype(int)]"
   ]
  },
  {
   "cell_type": "code",
   "execution_count": 14,
   "metadata": {},
   "outputs": [
    {
     "data": {
      "text/plain": [
       "array([  1,  51,  52,   2,   4,  54, 100,  50,   6,  56,  36,   3,  70,\n",
       "        20,  86,   8,  99,  46,  96,  58,  49,  53,  28,  78,  98,  48,\n",
       "        42,  32,  60,  92,  12,  76,  72,   5,  62,  30,  10,  82,  80,\n",
       "        24,  74,  22,  44,  55,  47,  84,  26,  34,  90,  97,  88,  16,\n",
       "        68,  40,  94,  64,  66,  18,  14,  77,  38,  27,   9,  75,  57,\n",
       "        25,  85,   7,  59,  35,  95,  19,  93,  69,  67,  91,  23,  71,\n",
       "        17,  83,  41,  89,  81,  21,  43,  45,  11,  13,  31,  39,  63,\n",
       "        65,  87,  73,  33,  61,  15,  29,  37,  79])"
      ]
     },
     "execution_count": 14,
     "metadata": {},
     "output_type": "execute_result"
    }
   ],
   "source": [
    "np.array(list(simulation.cumulative_feature_importance.keys()))"
   ]
  },
  {
   "cell_type": "code",
   "execution_count": 19,
   "metadata": {},
   "outputs": [
    {
     "data": {
      "text/plain": [
       "array([ 0. , 19.8, 39.6, 59.4, 79.2, 99. ])"
      ]
     },
     "execution_count": 19,
     "metadata": {},
     "output_type": "execute_result"
    }
   ],
   "source": [
    "np.linspace(0,99,6)"
   ]
  },
  {
   "cell_type": "code",
   "execution_count": null,
   "metadata": {},
   "outputs": [],
   "source": []
  },
  {
   "cell_type": "code",
   "execution_count": null,
   "metadata": {},
   "outputs": [],
   "source": []
  },
  {
   "cell_type": "code",
   "execution_count": 14,
   "metadata": {},
   "outputs": [
    {
     "data": {
      "text/plain": [
       "array([  1,  51,  52,   2,   4,  54, 100,  50,   6,  56,  36,   3,  70,\n",
       "        20,  86,   8,  99,  46,  96,  58,  49,  53,  28,  78,  98,  48,\n",
       "        42,  32,  60,  92,  12,  76,  72,   5,  62,  30,  10,  82,  80,\n",
       "        24,  74,  22,  44,  55,  47,  84,  26,  34,  90,  97,  88,  16,\n",
       "        68,  40,  94,  64,  66,  18,  14,  77,  38,  27,   9,  75,  57,\n",
       "        25,  85,   7,  59,  35,  95,  19,  93,  69,  67,  91,  23,  71,\n",
       "        17,  83,  41,  89,  81,  21,  43,  45,  11,  13,  31,  39,  63,\n",
       "        65,  87,  73,  33,  61,  15,  29,  37,  79])"
      ]
     },
     "execution_count": 14,
     "metadata": {},
     "output_type": "execute_result"
    }
   ],
   "source": [
    "np.array(list(simulation.cumulative_feature_importance.keys()))"
   ]
  },
  {
   "cell_type": "code",
   "execution_count": 15,
   "metadata": {},
   "outputs": [
    {
     "data": {
      "text/plain": [
       "array([  1,  51,  52,   2,   4,  54, 100,  50,   6,  56,  36,   3,  70,\n",
       "        20,  86,   8,  99,  46,  96,  58,  49,  53,  28,  78,  98,  48,\n",
       "        42,  32,  60,  92,  12,  76,  72,   5,  62,  30,  10,  82,  80,\n",
       "        24,  74,  22,  44,  55,  47,  84,  26,  34,  90,  97,  88,  16,\n",
       "        68,  40,  94,  64,  66,  18,  14,  77,  38,  27,   9,  75,  57,\n",
       "        25,  85,   7,  59,  35,  95,  19,  93,  69,  67,  91,  23,  71,\n",
       "        17,  83,  41,  89,  81,  21,  43,  45,  11,  13,  31,  39,  63,\n",
       "        65,  87,  73,  33,  61,  15,  29,  37,  79])"
      ]
     },
     "execution_count": 15,
     "metadata": {},
     "output_type": "execute_result"
    }
   ],
   "source": [
    "np.array( list(simulation.cumulative_feature_importance.keys()) )"
   ]
  },
  {
   "cell_type": "code",
   "execution_count": 16,
   "metadata": {},
   "outputs": [
    {
     "data": {
      "text/plain": [
       "array([  0,   9,  18,  27,  36,  45,  54,  63,  72,  81,  90, 100])"
      ]
     },
     "execution_count": 16,
     "metadata": {},
     "output_type": "execute_result"
    }
   ],
   "source": [
    "np.linspace(0,100,12).astype(int)"
   ]
  },
  {
   "cell_type": "code",
   "execution_count": 17,
   "metadata": {},
   "outputs": [
    {
     "ename": "IndexError",
     "evalue": "index 100 is out of bounds for axis 1 with size 100",
     "output_type": "error",
     "traceback": [
      "\u001b[0;31m---------------------------------------------------------------------------\u001b[0m",
      "\u001b[0;31mIndexError\u001b[0m                                Traceback (most recent call last)",
      "\u001b[0;32m<ipython-input-17-149d6b50ddb0>\u001b[0m in \u001b[0;36m<module>\u001b[0;34m\u001b[0m\n\u001b[0;32m----> 1\u001b[0;31m \u001b[0mnp\u001b[0m\u001b[0;34m.\u001b[0m\u001b[0marray\u001b[0m\u001b[0;34m(\u001b[0m\u001b[0mlist\u001b[0m\u001b[0;34m(\u001b[0m\u001b[0msimulation\u001b[0m\u001b[0;34m.\u001b[0m\u001b[0mcumulative_feature_importance\u001b[0m\u001b[0;34m.\u001b[0m\u001b[0mkeys\u001b[0m\u001b[0;34m(\u001b[0m\u001b[0;34m)\u001b[0m\u001b[0;34m)\u001b[0m\u001b[0;34m)\u001b[0m\u001b[0;34m[\u001b[0m\u001b[0mnp\u001b[0m\u001b[0;34m.\u001b[0m\u001b[0mlinspace\u001b[0m\u001b[0;34m(\u001b[0m\u001b[0;36m0\u001b[0m\u001b[0;34m,\u001b[0m\u001b[0;36m100\u001b[0m\u001b[0;34m,\u001b[0m\u001b[0;36m12\u001b[0m\u001b[0;34m)\u001b[0m\u001b[0;34m.\u001b[0m\u001b[0mastype\u001b[0m\u001b[0;34m(\u001b[0m\u001b[0mint\u001b[0m\u001b[0;34m)\u001b[0m\u001b[0;34m]\u001b[0m\u001b[0;34m\u001b[0m\u001b[0m\n\u001b[0m",
      "\u001b[0;31mIndexError\u001b[0m: index 100 is out of bounds for axis 1 with size 100"
     ]
    }
   ],
   "source": [
    "np.array(list(simulation.cumulative_feature_importance.keys()))[np.linspace(0,100,12).astype(int)]"
   ]
  },
  {
   "cell_type": "code",
   "execution_count": null,
   "metadata": {},
   "outputs": [],
   "source": []
  },
  {
   "cell_type": "code",
   "execution_count": 25,
   "metadata": {},
   "outputs": [
    {
     "data": {
      "text/plain": [
       "array([ 1, 56, 96, 32, 10, 84, 94, 75, 93, 89, 63, 79])"
      ]
     },
     "execution_count": 25,
     "metadata": {},
     "output_type": "execute_result"
    }
   ],
   "source": [
    "np.array(list(simulation.cumulative_feature_importance.keys()))[np.linspace(0,99,12).astype(int)]"
   ]
  },
  {
   "cell_type": "markdown",
   "metadata": {},
   "source": [
    "#### Loading experiment"
   ]
  },
  {
   "cell_type": "code",
   "execution_count": 2,
   "metadata": {},
   "outputs": [],
   "source": [
    "simulation_dir = \"./simulation/fig1a-6561\"\n",
    "experiment_name = \"0\"\n",
    "experiment = Experiment(simulation_dir, experiment_name)"
   ]
  },
  {
   "cell_type": "markdown",
   "metadata": {},
   "source": [
    "#### Model"
   ]
  },
  {
   "cell_type": "code",
   "execution_count": 3,
   "metadata": {},
   "outputs": [
    {
     "data": {
      "text/plain": [
       "DecisionTreeClassifier(class_weight=None, criterion='gini', max_depth=None,\n",
       "            max_features=None, max_leaf_nodes=None,\n",
       "            min_impurity_decrease=0.0, min_impurity_split=None,\n",
       "            min_samples_leaf=1, min_samples_split=2,\n",
       "            min_weight_fraction_leaf=0.0, presort=False, random_state=None,\n",
       "            splitter='best')"
      ]
     },
     "execution_count": 3,
     "metadata": {},
     "output_type": "execute_result"
    }
   ],
   "source": [
    "experiment.model"
   ]
  },
  {
   "cell_type": "markdown",
   "metadata": {},
   "source": [
    "#### Feature importances"
   ]
  },
  {
   "cell_type": "code",
   "execution_count": 4,
   "metadata": {},
   "outputs": [
    {
     "data": {
      "text/plain": [
       "array([1.78298816e-01, 5.75113954e-03, 1.92582682e-02, 1.49519112e-01,\n",
       "       1.87213607e-03, 2.03794339e-03, 6.09441153e-03, 1.94182152e-03,\n",
       "       2.56788705e-03, 5.48626365e-03, 1.09656719e-03, 9.45466183e-03,\n",
       "       8.78168451e-04, 3.62419859e-04, 6.99514915e-04, 1.22864701e-02,\n",
       "       1.03892791e-03, 3.93394636e-04, 5.17419154e-04, 1.02709941e-02,\n",
       "       3.39143795e-03, 4.82379261e-04, 1.06964953e-03, 8.14483475e-03,\n",
       "       1.50211074e-03, 1.05260892e-02, 1.17114890e-03, 9.48095662e-03,\n",
       "       2.20638672e-03, 4.14044515e-04, 9.57759374e-04, 4.29786834e-03,\n",
       "       1.07405186e-03, 3.17501479e-04, 2.23310902e-04, 3.85270188e-03,\n",
       "       5.19630181e-04, 5.18054794e-04, 9.59014473e-04, 1.01503186e-03,\n",
       "       5.65002673e-04, 1.03372331e-03, 3.61939870e-04, 1.73404264e-02,\n",
       "       1.46499481e-03, 1.23092461e-03, 4.83760465e-03, 1.63086639e-02,\n",
       "       5.00046694e-03, 5.70446756e-04, 1.76192622e-01, 1.44935387e-01,\n",
       "       7.72793273e-04, 3.67663187e-03, 6.00596634e-04, 1.71365380e-02,\n",
       "       1.66162823e-03, 1.63819261e-03, 1.36467329e-03, 1.71124514e-02,\n",
       "       1.29123496e-03, 1.13296932e-03, 1.47753012e-03, 4.07125343e-03,\n",
       "       9.37215461e-04, 9.04415907e-04, 9.24993768e-04, 1.49662269e-02,\n",
       "       2.37988029e-03, 2.86910216e-04, 4.61121398e-03, 1.51641235e-02,\n",
       "       9.59527423e-04, 9.80422777e-05, 4.25263018e-03, 4.92617492e-03,\n",
       "       1.33403638e-03, 9.07911922e-04, 3.31544411e-04, 1.66772441e-03,\n",
       "       5.86055981e-04, 8.68660513e-04, 1.26883342e-03, 5.64665213e-03,\n",
       "       1.11916059e-03, 8.71284129e-04, 6.39715444e-04, 7.96852366e-04,\n",
       "       5.68592698e-04, 4.43202600e-04, 2.08601941e-03, 6.83981184e-03,\n",
       "       6.01132870e-04, 2.63083720e-03, 1.01063009e-02, 1.27488434e-02,\n",
       "       1.25117403e-03, 7.82421009e-04, 7.85658263e-03, 3.90629824e-03])"
      ]
     },
     "execution_count": 4,
     "metadata": {},
     "output_type": "execute_result"
    }
   ],
   "source": [
    "experiment.model.feature_importances_"
   ]
  },
  {
   "cell_type": "code",
   "execution_count": 8,
   "metadata": {},
   "outputs": [
    {
     "data": {
      "text/plain": [
       "array([ 0, 50,  3, 51,  2, 43, 55, 59, 47, 71, 67, 95, 15, 25, 19, 94, 27,\n",
       "       11, 23, 98, 91,  6,  1, 83,  9, 48, 75, 46, 70, 31, 74, 63, 99, 35,\n",
       "       53, 20, 93,  8, 68, 28, 90,  5,  7,  4, 79, 56, 57, 24, 62, 44, 58,\n",
       "       76, 60, 82, 96, 45, 26, 61, 84, 10, 32, 22, 16, 41, 39, 72, 38, 30,\n",
       "       64, 66, 77, 65, 12, 85, 81, 87, 97, 52, 14, 86, 92, 54, 80, 49, 88,\n",
       "       40, 36, 37, 18, 21, 89, 29, 17, 13, 42, 78, 33, 69, 34, 73])"
      ]
     },
     "execution_count": 8,
     "metadata": {},
     "output_type": "execute_result"
    }
   ],
   "source": [
    "features_sorted_by_importance = np.argsort(experiment.model.feature_importances_)[::-1]\n",
    "features_sorted_by_importance"
   ]
  },
  {
   "cell_type": "code",
   "execution_count": 9,
   "metadata": {},
   "outputs": [
    {
     "data": {
      "text/plain": [
       "array([1.78298816e-01, 1.76192622e-01, 1.49519112e-01, 1.44935387e-01,\n",
       "       1.92582682e-02, 1.73404264e-02, 1.71365380e-02, 1.71124514e-02,\n",
       "       1.63086639e-02, 1.51641235e-02, 1.49662269e-02, 1.27488434e-02,\n",
       "       1.22864701e-02, 1.05260892e-02, 1.02709941e-02, 1.01063009e-02,\n",
       "       9.48095662e-03, 9.45466183e-03, 8.14483475e-03, 7.85658263e-03,\n",
       "       6.83981184e-03, 6.09441153e-03, 5.75113954e-03, 5.64665213e-03,\n",
       "       5.48626365e-03, 5.00046694e-03, 4.92617492e-03, 4.83760465e-03,\n",
       "       4.61121398e-03, 4.29786834e-03, 4.25263018e-03, 4.07125343e-03,\n",
       "       3.90629824e-03, 3.85270188e-03, 3.67663187e-03, 3.39143795e-03,\n",
       "       2.63083720e-03, 2.56788705e-03, 2.37988029e-03, 2.20638672e-03,\n",
       "       2.08601941e-03, 2.03794339e-03, 1.94182152e-03, 1.87213607e-03,\n",
       "       1.66772441e-03, 1.66162823e-03, 1.63819261e-03, 1.50211074e-03,\n",
       "       1.47753012e-03, 1.46499481e-03, 1.36467329e-03, 1.33403638e-03,\n",
       "       1.29123496e-03, 1.26883342e-03, 1.25117403e-03, 1.23092461e-03,\n",
       "       1.17114890e-03, 1.13296932e-03, 1.11916059e-03, 1.09656719e-03,\n",
       "       1.07405186e-03, 1.06964953e-03, 1.03892791e-03, 1.03372331e-03,\n",
       "       1.01503186e-03, 9.59527423e-04, 9.59014473e-04, 9.57759374e-04,\n",
       "       9.37215461e-04, 9.24993768e-04, 9.07911922e-04, 9.04415907e-04,\n",
       "       8.78168451e-04, 8.71284129e-04, 8.68660513e-04, 7.96852366e-04,\n",
       "       7.82421009e-04, 7.72793273e-04, 6.99514915e-04, 6.39715444e-04,\n",
       "       6.01132870e-04, 6.00596634e-04, 5.86055981e-04, 5.70446756e-04,\n",
       "       5.68592698e-04, 5.65002673e-04, 5.19630181e-04, 5.18054794e-04,\n",
       "       5.17419154e-04, 4.82379261e-04, 4.43202600e-04, 4.14044515e-04,\n",
       "       3.93394636e-04, 3.62419859e-04, 3.61939870e-04, 3.31544411e-04,\n",
       "       3.17501479e-04, 2.86910216e-04, 2.23310902e-04, 9.80422777e-05])"
      ]
     },
     "execution_count": 9,
     "metadata": {},
     "output_type": "execute_result"
    }
   ],
   "source": [
    "experiment.model.feature_importances_[features_sorted_by_importance]"
   ]
  },
  {
   "cell_type": "code",
   "execution_count": 10,
   "metadata": {},
   "outputs": [],
   "source": [
    "simulation_dir = \"./simulation/fig1a-6561\"\n",
    "experiment_name = \"1\"\n",
    "experiment = Experiment(simulation_dir, experiment_name)"
   ]
  },
  {
   "cell_type": "code",
   "execution_count": 11,
   "metadata": {},
   "outputs": [
    {
     "data": {
      "text/plain": [
       "array([ 0,  1,  3, 53,  5, 51, 97, 69, 50, 83, 45, 25, 35, 99, 63, 85, 77,\n",
       "       81, 27, 93,  8,  9, 57, 98, 48, 68, 23, 61, 37,  4, 96, 55,  7, 43,\n",
       "       21, 82, 52,  2, 32, 60, 17, 19, 73, 24, 84, 79, 56, 72, 39, 29, 91,\n",
       "       92, 89, 87, 80, 13, 86, 74, 16, 31, 95, 10, 33, 58, 88, 36, 30, 75,\n",
       "       49, 46, 65, 67, 71, 40, 28, 78, 22, 59, 12, 15, 47, 90,  6, 11, 18,\n",
       "       62, 41, 64, 34, 94, 76, 66, 54, 70, 26, 44, 20, 14, 42, 38])"
      ]
     },
     "execution_count": 11,
     "metadata": {},
     "output_type": "execute_result"
    }
   ],
   "source": [
    "features_sorted_by_importance = np.argsort(experiment.model.feature_importances_)[::-1]\n",
    "features_sorted_by_importance"
   ]
  },
  {
   "cell_type": "code",
   "execution_count": 12,
   "metadata": {},
   "outputs": [],
   "source": [
    "simulation_dir = \"./simulation/fig1a-6561\"\n",
    "experiment_name = \"2\"\n",
    "experiment = Experiment(simulation_dir, experiment_name)"
   ]
  },
  {
   "cell_type": "code",
   "execution_count": 13,
   "metadata": {},
   "outputs": [
    {
     "data": {
      "text/plain": [
       "array([ 0,  3, 50, 51,  1, 99, 98, 11, 35, 95, 91, 71, 53,  2, 59, 76, 79,\n",
       "       19, 43, 83,  7, 75, 55,  4, 67, 47, 62, 46, 87, 84, 77, 58, 74, 18,\n",
       "        6, 42, 82, 31, 48, 54, 65, 96, 27, 94, 23, 68, 44, 22,  5, 16, 90,\n",
       "       69, 86, 66,  8, 28, 34, 26, 10, 36, 14, 73, 61, 52, 80, 38, 12, 64,\n",
       "       70, 40, 92, 41, 88, 78, 97, 24, 20, 29, 72, 32, 56, 30, 25, 93, 33,\n",
       "       60, 17, 37, 63, 15, 81,  9, 57, 21, 85, 45, 89, 49, 13, 39])"
      ]
     },
     "execution_count": 13,
     "metadata": {},
     "output_type": "execute_result"
    }
   ],
   "source": [
    "features_sorted_by_importance = np.argsort(experiment.model.feature_importances_)[::-1]\n",
    "features_sorted_by_importance"
   ]
  },
  {
   "cell_type": "code",
   "execution_count": 14,
   "metadata": {},
   "outputs": [],
   "source": [
    "simulation_dir = \"./simulation/fig1a-6561\"\n",
    "experiment_name = \"3\"\n",
    "experiment = Experiment(simulation_dir, experiment_name)"
   ]
  },
  {
   "cell_type": "code",
   "execution_count": 15,
   "metadata": {},
   "outputs": [
    {
     "data": {
      "text/plain": [
       "array([ 0, 50,  3, 51,  1, 99, 75, 89, 95, 35, 59, 23,  7, 27,  4, 25, 93,\n",
       "       79, 15, 19, 67, 69, 97, 98, 55, 71, 43, 31,  5, 53, 46, 77, 72, 74,\n",
       "       88, 66, 12, 82, 18, 26, 11, 91, 41, 30, 96,  2, 80, 48, 10, 76, 94,\n",
       "       24, 87, 70, 42, 40, 16, 54, 20, 34, 60, 21, 86, 49, 63, 83, 56, 39,\n",
       "       92, 52,  8, 14, 44,  6, 13, 38, 29, 65, 57, 28, 64, 68, 36, 45, 22,\n",
       "       32, 58, 84, 62, 90, 85, 78, 61, 17,  9, 33, 81, 47, 37, 73])"
      ]
     },
     "execution_count": 15,
     "metadata": {},
     "output_type": "execute_result"
    }
   ],
   "source": [
    "features_sorted_by_importance = np.argsort(experiment.model.feature_importances_)[::-1]\n",
    "features_sorted_by_importance"
   ]
  },
  {
   "cell_type": "code",
   "execution_count": 16,
   "metadata": {},
   "outputs": [],
   "source": [
    "simulation_dir = \"./simulation/fig1a-6561\"\n",
    "experiment_name = \"4\"\n",
    "experiment = Experiment(simulation_dir, experiment_name)"
   ]
  },
  {
   "cell_type": "code",
   "execution_count": 17,
   "metadata": {},
   "outputs": [
    {
     "data": {
      "text/plain": [
       "array([51,  0, 53,  3, 50, 99, 43, 35, 83, 19, 55, 49, 31, 85, 27, 91,  1,\n",
       "       47, 70, 48, 73, 14, 98, 75, 95, 59, 46,  7, 88, 82, 54, 11, 15, 90,\n",
       "        5, 71,  4,  2, 30, 67, 13, 12, 68, 37, 40, 52, 60, 77, 92, 96, 32,\n",
       "       29, 34, 23, 16, 26, 24, 87, 10,  8, 45, 20, 61, 22, 38, 56, 72, 18,\n",
       "       58, 86, 41, 76, 25, 21, 42, 36, 84, 89, 97, 44, 79, 94,  9, 63,  6,\n",
       "       93, 57, 78, 33, 28, 81, 62, 74, 64, 17, 66, 65, 80, 39, 69])"
      ]
     },
     "execution_count": 17,
     "metadata": {},
     "output_type": "execute_result"
    }
   ],
   "source": [
    "features_sorted_by_importance = np.argsort(experiment.model.feature_importances_)[::-1]\n",
    "features_sorted_by_importance"
   ]
  },
  {
   "cell_type": "code",
   "execution_count": null,
   "metadata": {},
   "outputs": [],
   "source": [
    "######### feature importances \n",
    "#importances = tree_clf.feature_importances_\n",
    "#sorted_indices = np.argsort(importances)[::-1]\n",
    "#sorted_importances = importances[sorted_indices]\n",
    "#cumulative_importances = np.cumsum(sorted_importances)\n",
    "sorted_indices, sorted_importances, cumulative_importances = \\\n",
    "plot_feature_importances(tree_clf, n_features = \"all\", return_arrays = True)"
   ]
  },
  {
   "cell_type": "code",
   "execution_count": 1,
   "metadata": {},
   "outputs": [
    {
     "ename": "NameError",
     "evalue": "name 'experiment' is not defined",
     "output_type": "error",
     "traceback": [
      "\u001b[0;31m---------------------------------------------------------------------------\u001b[0m",
      "\u001b[0;31mNameError\u001b[0m                                 Traceback (most recent call last)",
      "\u001b[0;32m<ipython-input-1-00566bcfe1d1>\u001b[0m in \u001b[0;36m<module>\u001b[0;34m\u001b[0m\n\u001b[0;32m----> 1\u001b[0;31m \u001b[0mexperiment\u001b[0m\u001b[0;34m.\u001b[0m\u001b[0mmodel\u001b[0m\u001b[0;34m.\u001b[0m\u001b[0mfeature_importances_\u001b[0m\u001b[0;34m\u001b[0m\u001b[0m\n\u001b[0m",
      "\u001b[0;31mNameError\u001b[0m: name 'experiment' is not defined"
     ]
    }
   ],
   "source": [
    "experiment.model.feature_importances_"
   ]
  },
  {
   "cell_type": "code",
   "execution_count": null,
   "metadata": {},
   "outputs": [],
   "source": [
    "a = np.array([])\n",
    "b =  np.array([1,2,3])\n",
    "c = np.vstack"
   ]
  },
  {
   "cell_type": "code",
   "execution_count": 8,
   "metadata": {},
   "outputs": [
    {
     "data": {
      "text/plain": [
       "array([2.5, 3.5, 4.5])"
      ]
     },
     "execution_count": 8,
     "metadata": {},
     "output_type": "execute_result"
    }
   ],
   "source": [
    "ar = np.array([[1,2,3], [4,5,6]])\n",
    "ar2 = [np.array([1,2,3]), np.array([4,5,6])]\n",
    "np.mean(ar2,axis = 0)"
   ]
  },
  {
   "cell_type": "code",
   "execution_count": 9,
   "metadata": {},
   "outputs": [
    {
     "data": {
      "text/plain": [
       "array([2.5, 3.5, 4.5])"
      ]
     },
     "execution_count": 9,
     "metadata": {},
     "output_type": "execute_result"
    }
   ],
   "source": [
    "np.mean(ar2,axis = 0)"
   ]
  },
  {
   "cell_type": "code",
   "execution_count": 27,
   "metadata": {},
   "outputs": [
    {
     "data": {
      "text/plain": [
       "{'ticks': ['1',\n",
       "  '56',\n",
       "  '96',\n",
       "  '32',\n",
       "  '10',\n",
       "  '84',\n",
       "  '94',\n",
       "  '75',\n",
       "  '93',\n",
       "  '89',\n",
       "  '63',\n",
       "  '79']}"
      ]
     },
     "execution_count": 27,
     "metadata": {},
     "output_type": "execute_result"
    }
   ],
   "source": [
    " {\"ticks\": [str(ix) for ix in np.array(list(simulation.cumulative_feature_importance.keys()))[np.linspace(0,99,12).astype(int)] ]}"
   ]
  },
  {
   "cell_type": "code",
   "execution_count": null,
   "metadata": {},
   "outputs": [],
   "source": []
  }
 ],
 "metadata": {
  "kernelspec": {
   "display_name": "Python 3",
   "language": "python",
   "name": "python3"
  },
  "language_info": {
   "codemirror_mode": {
    "name": "ipython",
    "version": 3
   },
   "file_extension": ".py",
   "mimetype": "text/x-python",
   "name": "python",
   "nbconvert_exporter": "python",
   "pygments_lexer": "ipython3",
   "version": "3.7.3"
  }
 },
 "nbformat": 4,
 "nbformat_minor": 2
}
