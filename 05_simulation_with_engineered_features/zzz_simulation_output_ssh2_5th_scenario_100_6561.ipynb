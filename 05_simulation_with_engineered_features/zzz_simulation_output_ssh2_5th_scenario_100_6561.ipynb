{
 "cells": [
  {
   "cell_type": "markdown",
   "metadata": {
    "papermill": {
     "duration": 0.053899,
     "end_time": "2020-07-09T21:37:58.137510",
     "exception": false,
     "start_time": "2020-07-09T21:37:58.083611",
     "status": "completed"
    },
    "tags": []
   },
   "source": [
    "# Simulation template \n",
    "\n",
    "In this notebook we run the machine learning analysis of topological phase transitions occurring  in both nearest-neighbours SSH models (ssh1) and second neighbours models (ssh2) as decribed in the paper [Machine learning topological phases in real space](https://arxiv.org/abs/1901.01963). Here the simulation is run with features generated from fourier components in the first scenario. This scenario is characterized by using only the EVEN wavevector space eigenmodes, computed from ALL real space components."
   ]
  },
  {
   "cell_type": "markdown",
   "metadata": {
    "papermill": {
     "duration": 0.015409,
     "end_time": "2020-07-09T21:37:58.172539",
     "exception": false,
     "start_time": "2020-07-09T21:37:58.157130",
     "status": "completed"
    },
    "tags": []
   },
   "source": [
    "## Defining parameters"
   ]
  },
  {
   "cell_type": "code",
   "execution_count": 1,
   "metadata": {
    "execution": {
     "iopub.execute_input": "2020-07-09T21:37:58.205196Z",
     "iopub.status.busy": "2020-07-09T21:37:58.204869Z",
     "iopub.status.idle": "2020-07-09T21:37:58.792066Z",
     "shell.execute_reply": "2020-07-09T21:37:58.792326Z"
    },
    "papermill": {
     "duration": 0.604986,
     "end_time": "2020-07-09T21:37:58.792407",
     "exception": false,
     "start_time": "2020-07-09T21:37:58.187421",
     "status": "completed"
    },
    "tags": []
   },
   "outputs": [
    {
     "name": "stdout",
     "output_type": "stream",
     "text": [
      "CPU times: user 759 ms, sys: 259 ms, total: 1.02 s\n",
      "Wall time: 580 ms\n"
     ]
    }
   ],
   "source": [
    "%%time\n",
    "%load_ext autoreload\n",
    "%autoreload 2\n",
    "from simulation import *"
   ]
  },
  {
   "cell_type": "code",
   "execution_count": 2,
   "metadata": {
    "execution": {
     "iopub.execute_input": "2020-07-09T21:37:58.826183Z",
     "iopub.status.busy": "2020-07-09T21:37:58.825855Z",
     "iopub.status.idle": "2020-07-09T21:37:58.836781Z",
     "shell.execute_reply": "2020-07-09T21:37:58.836461Z"
    },
    "papermill": {
     "duration": 0.028534,
     "end_time": "2020-07-09T21:37:58.836833",
     "exception": false,
     "start_time": "2020-07-09T21:37:58.808299",
     "status": "completed"
    },
    "tags": [
     "parameters"
    ]
   },
   "outputs": [
    {
     "name": "stdout",
     "output_type": "stream",
     "text": [
      "CPU times: user 3 µs, sys: 1 µs, total: 4 µs\n",
      "Wall time: 4.77 µs\n"
     ]
    }
   ],
   "source": [
    "%%time\n",
    "### Dataset and simulation parameters\n",
    "#csv_path = SSH2_PERIODIC_100_6561_CSV \n",
    "csv_path = SSH1_PERIODIC_100_6561_CSV \n",
    "model_name = \"DecisionTreeClassifier\"\n",
    "model_kw = {\"criterion\":\"entropy\"}\n",
    "allowed_windings = [0,1]\n",
    "#allowed_windings = [-1,0,1,2]\n",
    "simulation_dir = SSH1_PERIODIC_1ST_SCENARIO_100_6561_SIMULATION_DIR\n",
    "#simulation_dir = SSH2_PERIODIC_ENGINEERED_100_6561_SIMULATION_DIR\n",
    "val_split = 0.9  \n",
    "features_to_use = None\n",
    "shuffle_features = False\n",
    "random_state = 763\n",
    "\n",
    "### Fourier features\n",
    "fourier_mode = \"dft\"\n",
    "fourier_features_to_use = None\n",
    "fourier_real = \"real\"\n",
    "fourier_normalize = True\n",
    "fourier_fillna = False\n",
    "\n",
    "### Running a simulation\n",
    "n_experiments = 5\n",
    "start_n = 0\n",
    "fit_params = None\n",
    "#mode=mode\n",
    "shuffle_rows = True\n",
    "pred_params = None\n",
    "random_features = False\n",
    "######### DON'T SET THIS TO TRUE UNLESS YOUR DATASET IS SMALL!! WILL FLOOD YOUR MEMORY!!!\n",
    "store_in_lists = False   \n",
    "########## BELOW ARE THE PARAMETERS THAT CONTROL WHAT WILL BE SAVED\n",
    "save_eigenvector=True\n",
    "save_hamiltonian=True \n",
    "save_accuracy=True \n",
    "save_models=True"
   ]
  },
  {
   "cell_type": "code",
   "execution_count": 3,
   "metadata": {
    "execution": {
     "iopub.execute_input": "2020-07-09T21:37:58.871043Z",
     "iopub.status.busy": "2020-07-09T21:37:58.870723Z",
     "iopub.status.idle": "2020-07-09T21:37:58.966202Z",
     "shell.execute_reply": "2020-07-09T21:37:58.967727Z"
    },
    "papermill": {
     "duration": 0.115811,
     "end_time": "2020-07-09T21:37:58.968044",
     "exception": false,
     "start_time": "2020-07-09T21:37:58.852233",
     "status": "completed"
    },
    "tags": [
     "injected-parameters"
    ]
   },
   "outputs": [],
   "source": [
    "# Parameters\n",
    "model_kw = {\"criterion\": \"entropy\", \"n_estimators\": 25, \"n_jobs\": -1}\n",
    "allowed_windings = [-1, 0, 1, 2]\n",
    "val_split = 0.5\n",
    "features_to_use = None\n",
    "shuffle_features = False\n",
    "n_experiments = 100\n",
    "start_n = 0\n",
    "fit_params = None\n",
    "shuffle_rows = True\n",
    "pred_params = None\n",
    "random_features = False\n",
    "store_in_lists = False\n",
    "save_eigenvector = True\n",
    "save_hamiltonian = True\n",
    "save_accuracy = True\n",
    "save_models = True\n",
    "csv_path = \"/home/rio/ssh_csvs/ssh2/periodic_100_6561.csv\"\n",
    "model_name = \"RandomForestClassifier\"\n",
    "simulation_dir = \"/home/rio/ssh_simulations/ssh2/periodic_5th_scenario_100_6561\"\n",
    "random_state = 34896\n",
    "fourier_features_to_use = [\n",
    "    0,\n",
    "    2,\n",
    "    4,\n",
    "    6,\n",
    "    8,\n",
    "    10,\n",
    "    12,\n",
    "    14,\n",
    "    16,\n",
    "    18,\n",
    "    20,\n",
    "    22,\n",
    "    24,\n",
    "    26,\n",
    "    28,\n",
    "    30,\n",
    "    32,\n",
    "    34,\n",
    "    36,\n",
    "    38,\n",
    "    40,\n",
    "    42,\n",
    "    44,\n",
    "    46,\n",
    "    48,\n",
    "    50,\n",
    "]\n",
    "fourier_mode = \"dct\"\n",
    "fourier_real = None\n",
    "fourier_normalize = False\n",
    "fourier_fillna = False\n",
    "normalize = False\n",
    "fillna = False\n"
   ]
  },
  {
   "cell_type": "code",
   "execution_count": 4,
   "metadata": {
    "execution": {
     "iopub.execute_input": "2020-07-09T21:37:59.003391Z",
     "iopub.status.busy": "2020-07-09T21:37:59.003060Z",
     "iopub.status.idle": "2020-07-09T21:38:04.819791Z",
     "shell.execute_reply": "2020-07-09T21:38:04.819472Z"
    },
    "papermill": {
     "duration": 5.834747,
     "end_time": "2020-07-09T21:38:04.819843",
     "exception": false,
     "start_time": "2020-07-09T21:37:58.985096",
     "status": "completed"
    },
    "tags": []
   },
   "outputs": [
    {
     "name": "stdout",
     "output_type": "stream",
     "text": [
      "Info on all data: \n",
      "\n",
      "<class 'pandas.core.frame.DataFrame'>\n",
      "Int64Index: 656100 entries, 0 to 656099\n",
      "Columns: 108 entries, id to feat99\n",
      "dtypes: float64(103), int32(3), object(2)\n",
      "memory usage: 538.1+ MB\n",
      "CPU times: user 5.92 s, sys: 580 ms, total: 6.5 s\n",
      "Wall time: 5.74 s\n"
     ]
    },
    {
     "data": {
      "text/html": [
       "<div>\n",
       "<style scoped>\n",
       "    .dataframe tbody tr th:only-of-type {\n",
       "        vertical-align: middle;\n",
       "    }\n",
       "\n",
       "    .dataframe tbody tr th {\n",
       "        vertical-align: top;\n",
       "    }\n",
       "\n",
       "    .dataframe thead th {\n",
       "        text-align: right;\n",
       "    }\n",
       "</style>\n",
       "<table border=\"1\" class=\"dataframe\">\n",
       "  <thead>\n",
       "    <tr style=\"text-align: right;\">\n",
       "      <th></th>\n",
       "      <th>id</th>\n",
       "      <th>path</th>\n",
       "      <th>t1</th>\n",
       "      <th>t2</th>\n",
       "      <th>winding</th>\n",
       "      <th>phase</th>\n",
       "      <th>pred_phase</th>\n",
       "      <th>type_of</th>\n",
       "      <th>feat0</th>\n",
       "      <th>feat1</th>\n",
       "      <th>...</th>\n",
       "      <th>feat90</th>\n",
       "      <th>feat91</th>\n",
       "      <th>feat92</th>\n",
       "      <th>feat93</th>\n",
       "      <th>feat94</th>\n",
       "      <th>feat95</th>\n",
       "      <th>feat96</th>\n",
       "      <th>feat97</th>\n",
       "      <th>feat98</th>\n",
       "      <th>feat99</th>\n",
       "    </tr>\n",
       "  </thead>\n",
       "  <tbody>\n",
       "    <tr>\n",
       "      <th>0</th>\n",
       "      <td>0</td>\n",
       "      <td>H_-2_-2_0.501338.dat</td>\n",
       "      <td>-2.0</td>\n",
       "      <td>-2.0</td>\n",
       "      <td>0.501338</td>\n",
       "      <td>999</td>\n",
       "      <td>666</td>\n",
       "      <td>test</td>\n",
       "      <td>-0.130965</td>\n",
       "      <td>0.301130</td>\n",
       "      <td>...</td>\n",
       "      <td>-0.080279</td>\n",
       "      <td>-0.115687</td>\n",
       "      <td>-0.174988</td>\n",
       "      <td>0.245064</td>\n",
       "      <td>0.319763</td>\n",
       "      <td>-0.059082</td>\n",
       "      <td>-0.000556</td>\n",
       "      <td>-0.245133</td>\n",
       "      <td>-0.301130</td>\n",
       "      <td>0.130965</td>\n",
       "    </tr>\n",
       "    <tr>\n",
       "      <th>1</th>\n",
       "      <td>0</td>\n",
       "      <td>H_-2_-2_0.501338.dat</td>\n",
       "      <td>-2.0</td>\n",
       "      <td>-2.0</td>\n",
       "      <td>0.501338</td>\n",
       "      <td>999</td>\n",
       "      <td>666</td>\n",
       "      <td>test</td>\n",
       "      <td>-0.130965</td>\n",
       "      <td>-0.301130</td>\n",
       "      <td>...</td>\n",
       "      <td>-0.080279</td>\n",
       "      <td>0.115687</td>\n",
       "      <td>-0.174988</td>\n",
       "      <td>-0.245064</td>\n",
       "      <td>0.319763</td>\n",
       "      <td>0.059082</td>\n",
       "      <td>-0.000556</td>\n",
       "      <td>0.245133</td>\n",
       "      <td>-0.301130</td>\n",
       "      <td>-0.130965</td>\n",
       "    </tr>\n",
       "    <tr>\n",
       "      <th>2</th>\n",
       "      <td>0</td>\n",
       "      <td>H_-2_-2_0.501338.dat</td>\n",
       "      <td>-2.0</td>\n",
       "      <td>-2.0</td>\n",
       "      <td>0.501338</td>\n",
       "      <td>999</td>\n",
       "      <td>666</td>\n",
       "      <td>test</td>\n",
       "      <td>-0.148414</td>\n",
       "      <td>-0.042467</td>\n",
       "      <td>...</td>\n",
       "      <td>0.185442</td>\n",
       "      <td>-0.080620</td>\n",
       "      <td>-0.066211</td>\n",
       "      <td>-0.121339</td>\n",
       "      <td>-0.151700</td>\n",
       "      <td>0.192513</td>\n",
       "      <td>0.191642</td>\n",
       "      <td>-0.050956</td>\n",
       "      <td>-0.042467</td>\n",
       "      <td>-0.148414</td>\n",
       "    </tr>\n",
       "    <tr>\n",
       "      <th>3</th>\n",
       "      <td>0</td>\n",
       "      <td>H_-2_-2_0.501338.dat</td>\n",
       "      <td>-2.0</td>\n",
       "      <td>-2.0</td>\n",
       "      <td>0.501338</td>\n",
       "      <td>999</td>\n",
       "      <td>666</td>\n",
       "      <td>test</td>\n",
       "      <td>-0.069630</td>\n",
       "      <td>-0.026147</td>\n",
       "      <td>...</td>\n",
       "      <td>0.102009</td>\n",
       "      <td>-0.100671</td>\n",
       "      <td>-0.081002</td>\n",
       "      <td>-0.020715</td>\n",
       "      <td>-0.058717</td>\n",
       "      <td>0.115834</td>\n",
       "      <td>0.118274</td>\n",
       "      <td>-0.054666</td>\n",
       "      <td>-0.026147</td>\n",
       "      <td>-0.069630</td>\n",
       "    </tr>\n",
       "    <tr>\n",
       "      <th>4</th>\n",
       "      <td>0</td>\n",
       "      <td>H_-2_-2_0.501338.dat</td>\n",
       "      <td>-2.0</td>\n",
       "      <td>-2.0</td>\n",
       "      <td>0.501338</td>\n",
       "      <td>999</td>\n",
       "      <td>666</td>\n",
       "      <td>test</td>\n",
       "      <td>0.010206</td>\n",
       "      <td>-0.014625</td>\n",
       "      <td>...</td>\n",
       "      <td>0.047555</td>\n",
       "      <td>-0.041368</td>\n",
       "      <td>-0.018852</td>\n",
       "      <td>-0.017673</td>\n",
       "      <td>-0.023377</td>\n",
       "      <td>0.031447</td>\n",
       "      <td>0.010280</td>\n",
       "      <td>0.000925</td>\n",
       "      <td>0.014625</td>\n",
       "      <td>-0.010206</td>\n",
       "    </tr>\n",
       "  </tbody>\n",
       "</table>\n",
       "<p>5 rows × 108 columns</p>\n",
       "</div>"
      ],
      "text/plain": [
       "   id                  path   t1   t2   winding  phase  pred_phase type_of  \\\n",
       "0   0  H_-2_-2_0.501338.dat -2.0 -2.0  0.501338    999         666    test   \n",
       "1   0  H_-2_-2_0.501338.dat -2.0 -2.0  0.501338    999         666    test   \n",
       "2   0  H_-2_-2_0.501338.dat -2.0 -2.0  0.501338    999         666    test   \n",
       "3   0  H_-2_-2_0.501338.dat -2.0 -2.0  0.501338    999         666    test   \n",
       "4   0  H_-2_-2_0.501338.dat -2.0 -2.0  0.501338    999         666    test   \n",
       "\n",
       "      feat0     feat1  ...    feat90    feat91    feat92    feat93    feat94  \\\n",
       "0 -0.130965  0.301130  ... -0.080279 -0.115687 -0.174988  0.245064  0.319763   \n",
       "1 -0.130965 -0.301130  ... -0.080279  0.115687 -0.174988 -0.245064  0.319763   \n",
       "2 -0.148414 -0.042467  ...  0.185442 -0.080620 -0.066211 -0.121339 -0.151700   \n",
       "3 -0.069630 -0.026147  ...  0.102009 -0.100671 -0.081002 -0.020715 -0.058717   \n",
       "4  0.010206 -0.014625  ...  0.047555 -0.041368 -0.018852 -0.017673 -0.023377   \n",
       "\n",
       "     feat95    feat96    feat97    feat98    feat99  \n",
       "0 -0.059082 -0.000556 -0.245133 -0.301130  0.130965  \n",
       "1  0.059082 -0.000556  0.245133 -0.301130 -0.130965  \n",
       "2  0.192513  0.191642 -0.050956 -0.042467 -0.148414  \n",
       "3  0.115834  0.118274 -0.054666 -0.026147 -0.069630  \n",
       "4  0.031447  0.010280  0.000925  0.014625 -0.010206  \n",
       "\n",
       "[5 rows x 108 columns]"
      ]
     },
     "execution_count": 4,
     "metadata": {},
     "output_type": "execute_result"
    }
   ],
   "source": [
    "%%time\n",
    "#Starting an instance of Simulation with a decision tree\n",
    "model = DecisionTreeClassifier(criterion=\"entropy\")\n",
    "#dict_args = {\"csv_path\":csv_path, \"model\":model, \"allowed_windings\":allowed_windings,\\\n",
    "#             \"simulation_dir\":simulation_dir, \"val_split\":val_split, \"features_to_use\":features_to_use,\\\n",
    "#            \"shuffle_features\":shuffle_features, \"random_state\":random_state}\n",
    "simulation = Simulation(csv_path,model_name,model_kw,allowed_windings,simulation_dir,val_split,features_to_use,\\\n",
    "                       shuffle_features,fourier_mode,fourier_features_to_use,fourier_real,\\\n",
    "                       fourier_normalize, fourier_fillna , random_state)\n",
    "#simulation = Simulation(**dict_args)\n",
    "\n",
    "\n",
    "#(self, csv_path, model_name, model_kw, allowed_windings, simulation_dir = None, val_split = 0, \n",
    "# features_to_use = None, shuffle_features = False, fourier_mode=None, fourier_features_to_use=None,\n",
    "# fourier_real = False, fourier_normalize = False, Fourier_fillna=False, random_state = None):\n",
    "\n",
    "\n",
    "\n",
    "print(\"Info on all data: \\n\")\n",
    "simulation.dataframe.info()\n",
    "simulation.dataframe.head()"
   ]
  },
  {
   "cell_type": "markdown",
   "metadata": {
    "papermill": {
     "duration": 0.017891,
     "end_time": "2020-07-09T21:38:04.854492",
     "exception": false,
     "start_time": "2020-07-09T21:38:04.836601",
     "status": "completed"
    },
    "tags": []
   },
   "source": [
    "####  Fourier features"
   ]
  },
  {
   "cell_type": "code",
   "execution_count": 5,
   "metadata": {
    "execution": {
     "iopub.execute_input": "2020-07-09T21:38:04.890024Z",
     "iopub.status.busy": "2020-07-09T21:38:04.889713Z",
     "iopub.status.idle": "2020-07-09T21:38:05.024446Z",
     "shell.execute_reply": "2020-07-09T21:38:05.024113Z"
    },
    "papermill": {
     "duration": 0.152528,
     "end_time": "2020-07-09T21:38:05.024497",
     "exception": false,
     "start_time": "2020-07-09T21:38:04.871969",
     "status": "completed"
    },
    "tags": []
   },
   "outputs": [
    {
     "name": "stdout",
     "output_type": "stream",
     "text": [
      "<class 'pandas.core.frame.DataFrame'>\n",
      "Int64Index: 656100 entries, 0 to 656099\n",
      "Data columns (total 34 columns):\n",
      " #   Column      Non-Null Count   Dtype  \n",
      "---  ------      --------------   -----  \n",
      " 0   id          656100 non-null  int32  \n",
      " 1   path        656100 non-null  object \n",
      " 2   t1          656100 non-null  float64\n",
      " 3   t2          656100 non-null  float64\n",
      " 4   winding     656100 non-null  float64\n",
      " 5   phase       656100 non-null  int32  \n",
      " 6   pred_phase  656100 non-null  int32  \n",
      " 7   type_of     656100 non-null  object \n",
      " 8   dct_feat0   656100 non-null  float64\n",
      " 9   dct_feat2   656100 non-null  float64\n",
      " 10  dct_feat4   656100 non-null  float64\n",
      " 11  dct_feat6   656100 non-null  float64\n",
      " 12  dct_feat8   656100 non-null  float64\n",
      " 13  dct_feat10  656100 non-null  float64\n",
      " 14  dct_feat12  656100 non-null  float64\n",
      " 15  dct_feat14  656100 non-null  float64\n",
      " 16  dct_feat16  656100 non-null  float64\n",
      " 17  dct_feat18  656100 non-null  float64\n",
      " 18  dct_feat20  656100 non-null  float64\n",
      " 19  dct_feat22  656100 non-null  float64\n",
      " 20  dct_feat24  656100 non-null  float64\n",
      " 21  dct_feat26  656100 non-null  float64\n",
      " 22  dct_feat28  656100 non-null  float64\n",
      " 23  dct_feat30  656100 non-null  float64\n",
      " 24  dct_feat32  656100 non-null  float64\n",
      " 25  dct_feat34  656100 non-null  float64\n",
      " 26  dct_feat36  656100 non-null  float64\n",
      " 27  dct_feat38  656100 non-null  float64\n",
      " 28  dct_feat40  656100 non-null  float64\n",
      " 29  dct_feat42  656100 non-null  float64\n",
      " 30  dct_feat44  656100 non-null  float64\n",
      " 31  dct_feat46  656100 non-null  float64\n",
      " 32  dct_feat48  656100 non-null  float64\n",
      " 33  dct_feat50  656100 non-null  float64\n",
      "dtypes: float64(29), int32(3), object(2)\n",
      "memory usage: 167.7+ MB\n",
      "CPU times: user 124 ms, sys: 0 ns, total: 124 ms\n",
      "Wall time: 123 ms\n"
     ]
    }
   ],
   "source": [
    "%%time\n",
    "#simulation.generate_fourier_df()\n",
    "if simulation.fourier_mode is not None:\n",
    "    simulation.fourier_dataframe.info() \n",
    "    simulation.fourier_dataframe.sample(15)\n"
   ]
  },
  {
   "cell_type": "code",
   "execution_count": 6,
   "metadata": {
    "execution": {
     "iopub.execute_input": "2020-07-09T21:38:05.061296Z",
     "iopub.status.busy": "2020-07-09T21:38:05.060975Z",
     "iopub.status.idle": "2020-07-09T21:38:05.072984Z",
     "shell.execute_reply": "2020-07-09T21:38:05.072666Z"
    },
    "papermill": {
     "duration": 0.031517,
     "end_time": "2020-07-09T21:38:05.073035",
     "exception": false,
     "start_time": "2020-07-09T21:38:05.041518",
     "status": "completed"
    },
    "tags": []
   },
   "outputs": [
    {
     "name": "stdout",
     "output_type": "stream",
     "text": [
      "features_to_use: \n",
      "\n",
      "\n",
      "None\n",
      "\n",
      "\n",
      "fourier_features: \n",
      "\n",
      "\n",
      "['dct_feat0', 'dct_feat2', 'dct_feat4', 'dct_feat6', 'dct_feat8', 'dct_feat10', 'dct_feat12', 'dct_feat14', 'dct_feat16', 'dct_feat18', 'dct_feat20', 'dct_feat22', 'dct_feat24', 'dct_feat26', 'dct_feat28', 'dct_feat30', 'dct_feat32', 'dct_feat34', 'dct_feat36', 'dct_feat38', 'dct_feat40', 'dct_feat42', 'dct_feat44', 'dct_feat46', 'dct_feat48', 'dct_feat50']\n",
      "\n",
      "\n",
      "Number of Fourier features: \n",
      "\n",
      "\n",
      "26\n"
     ]
    }
   ],
   "source": [
    "print(\"features_to_use: \")\n",
    "print(\"\\n\")\n",
    "print(simulation.features_to_use)\n",
    "if simulation.features_to_use is not None:\n",
    "    print(\"Number of real space features:\")\n",
    "    print(\"\\n\")\n",
    "    print(len(simulation.features_to_use))\n",
    "print(\"\\n\")\n",
    "print(\"fourier_features: \")\n",
    "print(\"\\n\")\n",
    "print(simulation.fourier_features)\n",
    "print(\"\\n\")\n",
    "if simulation.fourier_features is not None:\n",
    "    print(\"Number of Fourier features: \")\n",
    "    print(\"\\n\")\n",
    "    print(len(simulation.fourier_features))"
   ]
  },
  {
   "cell_type": "code",
   "execution_count": 7,
   "metadata": {
    "execution": {
     "iopub.execute_input": "2020-07-09T21:38:05.107575Z",
     "iopub.status.busy": "2020-07-09T21:38:05.107267Z",
     "iopub.status.idle": "2020-07-09T21:38:05.165855Z",
     "shell.execute_reply": "2020-07-09T21:38:05.165354Z"
    },
    "papermill": {
     "duration": 0.07654,
     "end_time": "2020-07-09T21:38:05.165929",
     "exception": false,
     "start_time": "2020-07-09T21:38:05.089389",
     "status": "completed"
    },
    "tags": []
   },
   "outputs": [],
   "source": [
    "#simulation.dataframe.iloc[331456,:]"
   ]
  },
  {
   "cell_type": "code",
   "execution_count": 8,
   "metadata": {
    "execution": {
     "iopub.execute_input": "2020-07-09T21:38:05.216151Z",
     "iopub.status.busy": "2020-07-09T21:38:05.215607Z",
     "iopub.status.idle": "2020-07-09T21:38:05.228781Z",
     "shell.execute_reply": "2020-07-09T21:38:05.228438Z"
    },
    "papermill": {
     "duration": 0.03476,
     "end_time": "2020-07-09T21:38:05.228834",
     "exception": false,
     "start_time": "2020-07-09T21:38:05.194074",
     "status": "completed"
    },
    "tags": []
   },
   "outputs": [],
   "source": [
    "#for ix, obj in enumerate(simulation.dataframe.iloc[331456,:].values):\n",
    "#    print(ix,obj)"
   ]
  },
  {
   "cell_type": "code",
   "execution_count": 9,
   "metadata": {
    "execution": {
     "iopub.execute_input": "2020-07-09T21:38:05.264039Z",
     "iopub.status.busy": "2020-07-09T21:38:05.263518Z",
     "iopub.status.idle": "2020-07-09T21:38:05.351656Z",
     "shell.execute_reply": "2020-07-09T21:38:05.350671Z"
    },
    "papermill": {
     "duration": 0.106485,
     "end_time": "2020-07-09T21:38:05.351797",
     "exception": false,
     "start_time": "2020-07-09T21:38:05.245312",
     "status": "completed"
    },
    "tags": []
   },
   "outputs": [],
   "source": [
    "#simulation.fourier_engineered_dataframe.dct_feat0"
   ]
  },
  {
   "cell_type": "code",
   "execution_count": 10,
   "metadata": {
    "execution": {
     "iopub.execute_input": "2020-07-09T21:38:05.420225Z",
     "iopub.status.busy": "2020-07-09T21:38:05.419731Z",
     "iopub.status.idle": "2020-07-09T21:38:05.429621Z",
     "shell.execute_reply": "2020-07-09T21:38:05.429268Z"
    },
    "papermill": {
     "duration": 0.031466,
     "end_time": "2020-07-09T21:38:05.429677",
     "exception": false,
     "start_time": "2020-07-09T21:38:05.398211",
     "status": "completed"
    },
    "tags": []
   },
   "outputs": [],
   "source": [
    "#simulation.features"
   ]
  },
  {
   "cell_type": "code",
   "execution_count": 11,
   "metadata": {
    "execution": {
     "iopub.execute_input": "2020-07-09T21:38:05.467076Z",
     "iopub.status.busy": "2020-07-09T21:38:05.466581Z",
     "iopub.status.idle": "2020-07-09T21:38:05.521605Z",
     "shell.execute_reply": "2020-07-09T21:38:05.523281Z"
    },
    "papermill": {
     "duration": 0.077498,
     "end_time": "2020-07-09T21:38:05.523579",
     "exception": false,
     "start_time": "2020-07-09T21:38:05.446081",
     "status": "completed"
    },
    "tags": []
   },
   "outputs": [],
   "source": [
    "#simulation.fourier_matrix"
   ]
  },
  {
   "cell_type": "code",
   "execution_count": 12,
   "metadata": {
    "execution": {
     "iopub.execute_input": "2020-07-09T21:38:05.593217Z",
     "iopub.status.busy": "2020-07-09T21:38:05.592909Z",
     "iopub.status.idle": "2020-07-09T21:38:05.606998Z",
     "shell.execute_reply": "2020-07-09T21:38:05.607317Z"
    },
    "papermill": {
     "duration": 0.036407,
     "end_time": "2020-07-09T21:38:05.607384",
     "exception": false,
     "start_time": "2020-07-09T21:38:05.570977",
     "status": "completed"
    },
    "tags": []
   },
   "outputs": [],
   "source": [
    "#1/simulation.n_features*simulation.dataframe.loc[:,simulation.features].sum(axis=1)"
   ]
  },
  {
   "cell_type": "code",
   "execution_count": 13,
   "metadata": {
    "execution": {
     "iopub.execute_input": "2020-07-09T21:38:05.642219Z",
     "iopub.status.busy": "2020-07-09T21:38:05.641908Z",
     "iopub.status.idle": "2020-07-09T21:38:05.708419Z",
     "shell.execute_reply": "2020-07-09T21:38:05.707701Z"
    },
    "papermill": {
     "duration": 0.08454,
     "end_time": "2020-07-09T21:38:05.708524",
     "exception": false,
     "start_time": "2020-07-09T21:38:05.623984",
     "status": "completed"
    },
    "tags": []
   },
   "outputs": [],
   "source": [
    "#df_2 = simulation.fourier_engineered_dataframe[simulation.fourier_engineered_dataframe.phase==2]\n",
    "#df_2.describe()"
   ]
  },
  {
   "cell_type": "code",
   "execution_count": 14,
   "metadata": {
    "execution": {
     "iopub.execute_input": "2020-07-09T21:38:05.748641Z",
     "iopub.status.busy": "2020-07-09T21:38:05.748305Z",
     "iopub.status.idle": "2020-07-09T21:38:05.770621Z",
     "shell.execute_reply": "2020-07-09T21:38:05.770274Z"
    },
    "papermill": {
     "duration": 0.042214,
     "end_time": "2020-07-09T21:38:05.770674",
     "exception": false,
     "start_time": "2020-07-09T21:38:05.728460",
     "status": "completed"
    },
    "tags": []
   },
   "outputs": [],
   "source": [
    "#df_1 = simulation.fourier_engineered_dataframe[simulation.fourier_engineered_dataframe.phase==1]\n",
    "#df_1.describe()"
   ]
  },
  {
   "cell_type": "code",
   "execution_count": 15,
   "metadata": {
    "execution": {
     "iopub.execute_input": "2020-07-09T21:38:05.806746Z",
     "iopub.status.busy": "2020-07-09T21:38:05.806435Z",
     "iopub.status.idle": "2020-07-09T21:38:05.874530Z",
     "shell.execute_reply": "2020-07-09T21:38:05.873905Z"
    },
    "papermill": {
     "duration": 0.086791,
     "end_time": "2020-07-09T21:38:05.874622",
     "exception": false,
     "start_time": "2020-07-09T21:38:05.787831",
     "status": "completed"
    },
    "tags": []
   },
   "outputs": [],
   "source": [
    "#df_0 = simulation.fourier_engineered_dataframe[simulation.fourier_engineered_dataframe.phase==0]\n",
    "#df_0.describe()"
   ]
  },
  {
   "cell_type": "code",
   "execution_count": 16,
   "metadata": {
    "execution": {
     "iopub.execute_input": "2020-07-09T21:38:05.934963Z",
     "iopub.status.busy": "2020-07-09T21:38:05.934643Z",
     "iopub.status.idle": "2020-07-09T21:38:05.944761Z",
     "shell.execute_reply": "2020-07-09T21:38:05.944469Z"
    },
    "papermill": {
     "duration": 0.0332,
     "end_time": "2020-07-09T21:38:05.944816",
     "exception": false,
     "start_time": "2020-07-09T21:38:05.911616",
     "status": "completed"
    },
    "tags": []
   },
   "outputs": [],
   "source": [
    "#plt.figure(figsize=(10,10))\n",
    "#plt.scatter(df_1.fourier_feat0,df_1.fourier_feat2)\n",
    "#plt.scatter(df_0.fourier_feat0,df_0.fourier_feat2,alpha=0.4)"
   ]
  },
  {
   "cell_type": "code",
   "execution_count": 17,
   "metadata": {
    "execution": {
     "iopub.execute_input": "2020-07-09T21:38:05.981846Z",
     "iopub.status.busy": "2020-07-09T21:38:05.981531Z",
     "iopub.status.idle": "2020-07-09T21:38:06.049421Z",
     "shell.execute_reply": "2020-07-09T21:38:06.046043Z"
    },
    "papermill": {
     "duration": 0.087268,
     "end_time": "2020-07-09T21:38:06.049822",
     "exception": false,
     "start_time": "2020-07-09T21:38:05.962554",
     "status": "completed"
    },
    "tags": []
   },
   "outputs": [],
   "source": [
    "#plt.scatter(df_0.fourier_feat0,df_0.fourier_feat2,alpha=0.4)"
   ]
  },
  {
   "cell_type": "code",
   "execution_count": 18,
   "metadata": {
    "execution": {
     "iopub.execute_input": "2020-07-09T21:38:06.119587Z",
     "iopub.status.busy": "2020-07-09T21:38:06.119279Z",
     "iopub.status.idle": "2020-07-09T21:38:06.129001Z",
     "shell.execute_reply": "2020-07-09T21:38:06.128714Z"
    },
    "papermill": {
     "duration": 0.031838,
     "end_time": "2020-07-09T21:38:06.129058",
     "exception": false,
     "start_time": "2020-07-09T21:38:06.097220",
     "status": "completed"
    },
    "tags": []
   },
   "outputs": [],
   "source": [
    "#plt.scatter(df_2.fourier_feat0,df_2.fourier_feat2)"
   ]
  },
  {
   "cell_type": "code",
   "execution_count": 19,
   "metadata": {
    "execution": {
     "iopub.execute_input": "2020-07-09T21:38:06.164233Z",
     "iopub.status.busy": "2020-07-09T21:38:06.163911Z",
     "iopub.status.idle": "2020-07-09T21:38:06.231552Z",
     "shell.execute_reply": "2020-07-09T21:38:06.229766Z"
    },
    "papermill": {
     "duration": 0.086241,
     "end_time": "2020-07-09T21:38:06.231799",
     "exception": false,
     "start_time": "2020-07-09T21:38:06.145558",
     "status": "completed"
    },
    "tags": []
   },
   "outputs": [],
   "source": [
    "#df_1.hist(figsize=(15,15))"
   ]
  },
  {
   "cell_type": "code",
   "execution_count": 20,
   "metadata": {
    "execution": {
     "iopub.execute_input": "2020-07-09T21:38:06.269954Z",
     "iopub.status.busy": "2020-07-09T21:38:06.269595Z",
     "iopub.status.idle": "2020-07-09T21:38:06.287217Z",
     "shell.execute_reply": "2020-07-09T21:38:06.286870Z"
    },
    "papermill": {
     "duration": 0.036887,
     "end_time": "2020-07-09T21:38:06.287270",
     "exception": false,
     "start_time": "2020-07-09T21:38:06.250383",
     "status": "completed"
    },
    "tags": []
   },
   "outputs": [],
   "source": [
    "#df_0.hist(figsize=(15,15))"
   ]
  },
  {
   "cell_type": "markdown",
   "metadata": {
    "papermill": {
     "duration": 0.016566,
     "end_time": "2020-07-09T21:38:06.320599",
     "exception": false,
     "start_time": "2020-07-09T21:38:06.304033",
     "status": "completed"
    },
    "tags": []
   },
   "source": [
    "#### Checking initialization"
   ]
  },
  {
   "cell_type": "code",
   "execution_count": 21,
   "metadata": {
    "execution": {
     "iopub.execute_input": "2020-07-09T21:38:06.356422Z",
     "iopub.status.busy": "2020-07-09T21:38:06.356081Z",
     "iopub.status.idle": "2020-07-09T21:38:06.387766Z",
     "shell.execute_reply": "2020-07-09T21:38:06.387452Z"
    },
    "papermill": {
     "duration": 0.050541,
     "end_time": "2020-07-09T21:38:06.387815",
     "exception": false,
     "start_time": "2020-07-09T21:38:06.337274",
     "status": "completed"
    },
    "tags": []
   },
   "outputs": [
    {
     "name": "stdout",
     "output_type": "stream",
     "text": [
      "n_features:  100\n",
      "n_hamiltonians:  6561\n",
      "n_ts:  2\n",
      "CPU times: user 300 µs, sys: 38 µs, total: 338 µs\n",
      "Wall time: 214 µs\n"
     ]
    }
   ],
   "source": [
    "%%time\n",
    "n_features = simulation.n_features\n",
    "n_hamiltonians = simulation.n_hamiltonians\n",
    "n_ts = simulation.n_ts\n",
    "\n",
    "print(\"n_features: \", n_features)\n",
    "print(\"n_hamiltonians: \", n_hamiltonians)\n",
    "print(\"n_ts: \", n_ts)"
   ]
  },
  {
   "cell_type": "code",
   "execution_count": 22,
   "metadata": {
    "execution": {
     "iopub.execute_input": "2020-07-09T21:38:06.425287Z",
     "iopub.status.busy": "2020-07-09T21:38:06.424902Z",
     "iopub.status.idle": "2020-07-09T21:38:06.671200Z",
     "shell.execute_reply": "2020-07-09T21:38:06.671453Z"
    },
    "papermill": {
     "duration": 0.26572,
     "end_time": "2020-07-09T21:38:06.671521",
     "exception": false,
     "start_time": "2020-07-09T21:38:06.405801",
     "status": "completed"
    },
    "tags": []
   },
   "outputs": [
    {
     "name": "stdout",
     "output_type": "stream",
     "text": [
      "% train:  0.8414875781130925\n",
      "% val:  0.0\n",
      "% test:  0.15851242188690748\n",
      "% train + val + test:  1.0\n",
      "\n",
      "\n",
      "number of train hamiltonians:  5521\n",
      "number of val hamiltonians:  0\n",
      "number of test hamiltonians:  1040\n",
      "total number of hamiltonians:  6561\n",
      "\n",
      "\n",
      "train ids:  [13, 14, 15, 16, 17, 18, 19, 20, 21, 22, 23, 24, 25, 26, 27, 28, 29, 30, 31, 32, 33, 34, 35, 36, 37, 38, 39, 41, 42, 43, 44, 45, 46, 47, 48, 49, 50, 51, 52, 53, 54, 55, 56, 57, 58, 59, 60, 61, 62, 63, 64, 65, 66, 67, 68, 69, 70, 71, 72, 73, 74, 75, 76, 77, 78, 79, 80, 95, 96, 97, 98, 99, 100, 101, 102, 103, 104, 105, 106, 107, 108, 109, 110, 111, 112, 113, 114, 115, 116, 117, 118, 119, 121, 122, 123, 124, 125, 126, 127, 128, 129, 130, 131, 132, 133, 134, 135, 136, 137, 138, 139, 140, 141, 142, 143, 144, 145, 146, 147, 148, 149, 150, 151, 152, 153, 154, 155, 156, 157, 158, 159, 160, 161, 176, 177, 178, 179, 180, 181, 182, 183, 184, 185, 186, 187, 188, 189, 190, 191, 192, 193, 194, 195, 196, 197, 198, 199, 201, 202, 203, 204, 205, 206, 207, 208, 209, 210, 211, 212, 213, 214, 215, 216, 217, 218, 219, 220, 221, 222, 223, 224, 225, 226, 227, 228, 229, 230, 231, 232, 233, 234, 235, 236, 237, 238, 239, 240, 241, 242, 258, 259, 260, 261, 262, 263, 264, 265, 266, 267, 268, 269, 270, 271, 272, 273, 274, 275, 276, 277, 278, 279, 281, 282, 283, 284, 285, 286, 287, 288, 289, 290, 291, 292, 293, 294, 295, 296, 297, 298, 299, 300, 301, 302, 303, 304, 305, 306, 307, 308, 309, 310, 311, 312, 313, 314, 315, 316, 317, 318, 319, 320, 321, 322, 323, 340, 341, 342, 343, 344, 345, 346, 347, 348, 349, 350, 351, 352, 353, 354, 355, 356, 357, 358, 359, 361, 362, 363, 364, 365, 366, 367, 368, 369, 370, 371, 372, 373, 374, 375, 376, 377, 378, 379, 380, 381, 382, 383, 384, 385, 386, 387, 388, 389, 390, 391, 392, 393, 394, 395, 396, 397, 398, 399, 400, 401, 402, 403, 404, 422, 423, 424, 425, 426, 427, 428, 429, 430, 431, 432, 433, 434, 435, 436, 437, 438, 439, 441, 442, 443, 444, 445, 446, 447, 448, 449, 450, 451, 452, 453, 454, 455, 456, 457, 458, 459, 460, 461, 462, 463, 464, 465, 466, 467, 468, 469, 470, 471, 472, 473, 474, 475, 476, 477, 478, 479, 480, 481, 482, 483, 484, 485, 503, 504, 505, 506, 507, 508, 509, 510, 511, 512, 513, 514, 515, 516, 517, 518, 519, 521, 522, 523, 524, 525, 526, 527, 528, 529, 530, 531, 532, 533, 534, 535, 536, 537, 538, 539, 540, 541, 542, 543, 544, 545, 546, 547, 548, 549, 550, 551, 552, 553, 554, 555, 556, 557, 558, 559, 560, 561, 562, 563, 564, 565, 566, 585, 586, 587, 588, 589, 590, 591, 592, 593, 594, 595, 596, 597, 598, 599, 601, 602, 603, 604, 605, 606, 607, 608, 609, 610, 611, 612, 613, 614, 615, 616, 617, 618, 619, 620, 621, 622, 623, 624, 625, 626, 627, 628, 629, 630, 631, 632, 633, 634, 635, 636, 637, 638, 639, 640, 641, 642, 643, 644, 645, 646, 647, 667, 668, 669, 670, 671, 672, 673, 674, 675, 676, 677, 678, 679, 681, 682, 683, 684, 685, 686, 687, 688, 689, 690, 691, 692, 693, 694, 695, 696, 697, 698, 699, 700, 701, 702, 703, 704, 705, 706, 707, 708, 709, 710, 711, 712, 713, 714, 715, 716, 717, 718, 719, 720, 721, 722, 723, 724, 725, 726, 727, 728, 749, 750, 751, 752, 753, 754, 755, 756, 757, 758, 759, 761, 762, 763, 764, 765, 766, 767, 768, 769, 770, 771, 772, 773, 774, 775, 776, 777, 778, 779, 780, 781, 782, 783, 784, 785, 786, 787, 788, 789, 790, 791, 792, 793, 794, 795, 796, 797, 798, 799, 800, 801, 802, 803, 804, 805, 806, 807, 808, 809, 830, 831, 832, 833, 834, 835, 836, 837, 838, 839, 841, 842, 843, 844, 845, 846, 847, 848, 849, 850, 851, 852, 853, 854, 855, 856, 857, 858, 859, 860, 861, 862, 863, 864, 865, 866, 867, 868, 869, 870, 871, 872, 873, 874, 875, 876, 877, 878, 879, 880, 881, 882, 883, 884, 885, 886, 887, 888, 889, 890, 912, 913, 914, 915, 916, 917, 918, 919, 921, 922, 923, 924, 925, 926, 927, 928, 929, 930, 931, 932, 933, 934, 935, 936, 937, 938, 939, 940, 941, 942, 943, 944, 945, 946, 947, 948, 949, 950, 951, 952, 953, 954, 955, 956, 957, 958, 959, 960, 961, 962, 963, 964, 965, 966, 967, 968, 969, 970, 971, 994, 995, 996, 997, 998, 999, 1001, 1002, 1003, 1004, 1005, 1006, 1007, 1008, 1009, 1010, 1011, 1012, 1013, 1014, 1015, 1016, 1017, 1018, 1019, 1020, 1021, 1022, 1023, 1024, 1025, 1026, 1027, 1028, 1029, 1030, 1031, 1032, 1033, 1034, 1035, 1036, 1037, 1038, 1039, 1040, 1041, 1042, 1043, 1044, 1045, 1046, 1047, 1048, 1049, 1050, 1051, 1052, 1076, 1077, 1078, 1079, 1081, 1082, 1083, 1084, 1085, 1086, 1087, 1088, 1089, 1090, 1091, 1092, 1093, 1094, 1095, 1096, 1097, 1098, 1099, 1100, 1101, 1102, 1103, 1104, 1105, 1106, 1107, 1108, 1109, 1110, 1111, 1112, 1113, 1114, 1115, 1116, 1117, 1118, 1119, 1120, 1121, 1122, 1123, 1124, 1125, 1126, 1127, 1128, 1129, 1130, 1131, 1132, 1133, 1134, 1157, 1158, 1159, 1161, 1162, 1163, 1164, 1165, 1166, 1167, 1168, 1169, 1170, 1171, 1172, 1173, 1174, 1175, 1176, 1177, 1178, 1179, 1180, 1181, 1182, 1183, 1184, 1185, 1186, 1187, 1188, 1189, 1190, 1191, 1192, 1193, 1194, 1195, 1196, 1197, 1198, 1199, 1200, 1201, 1202, 1203, 1204, 1205, 1206, 1207, 1208, 1209, 1210, 1211, 1212, 1213, 1214, 1215, 1216, 1239, 1241, 1242, 1243, 1244, 1245, 1246, 1247, 1248, 1249, 1250, 1251, 1252, 1253, 1254, 1255, 1256, 1257, 1258, 1259, 1260, 1261, 1262, 1263, 1264, 1265, 1266, 1267, 1268, 1269, 1270, 1271, 1272, 1273, 1274, 1275, 1276, 1277, 1278, 1279, 1280, 1281, 1282, 1283, 1284, 1285, 1286, 1287, 1288, 1289, 1290, 1291, 1292, 1293, 1294, 1295, 1296, 1297, 1298, 1299, 1321, 1322, 1323, 1324, 1325, 1326, 1327, 1328, 1329, 1330, 1331, 1332, 1333, 1334, 1335, 1336, 1337, 1338, 1339, 1340, 1341, 1342, 1343, 1344, 1345, 1346, 1347, 1348, 1349, 1350, 1351, 1352, 1353, 1354, 1355, 1356, 1357, 1358, 1359, 1360, 1361, 1362, 1363, 1364, 1365, 1366, 1367, 1368, 1369, 1370, 1371, 1372, 1373, 1374, 1375, 1376, 1377, 1378, 1379, 1380, 1381, 1402, 1403, 1404, 1405, 1406, 1407, 1408, 1409, 1410, 1411, 1412, 1413, 1414, 1415, 1416, 1417, 1418, 1419, 1420, 1421, 1422, 1423, 1424, 1425, 1426, 1427, 1428, 1429, 1430, 1431, 1432, 1433, 1434, 1435, 1436, 1437, 1438, 1439, 1440, 1441, 1442, 1443, 1444, 1445, 1446, 1447, 1448, 1449, 1450, 1451, 1452, 1453, 1454, 1455, 1456, 1457, 1458, 1459, 1460, 1461, 1462, 1463, 1464, 1484, 1485, 1486, 1487, 1488, 1489, 1490, 1491, 1492, 1493, 1494, 1495, 1496, 1497, 1498, 1499, 1500, 1501, 1502, 1503, 1504, 1505, 1506, 1507, 1508, 1509, 1510, 1511, 1512, 1513, 1514, 1515, 1516, 1517, 1518, 1519, 1520, 1521, 1522, 1523, 1524, 1525, 1526, 1527, 1528, 1529, 1530, 1531, 1532, 1533, 1534, 1535, 1536, 1537, 1538, 1539, 1540, 1541, 1542, 1543, 1544, 1545, 1546, 1566, 1567, 1568, 1569, 1570, 1571, 1572, 1573, 1574, 1575, 1576, 1577, 1578, 1579, 1580, 1581, 1582, 1583, 1584, 1585, 1586, 1587, 1588, 1589, 1590, 1591, 1592, 1593, 1594, 1595, 1596, 1597, 1598, 1599, 1600, 1601, 1602, 1603, 1604, 1605, 1606, 1607, 1608, 1609, 1610, 1611, 1612, 1613, 1614, 1615, 1616, 1617, 1618, 1619, 1620, 1621, 1622, 1623, 1624, 1625, 1626, 1627, 1628, 1648, 1649, 1650, 1651, 1652, 1653, 1654, 1655, 1656, 1657, 1658, 1659, 1660, 1661, 1662, 1663, 1664, 1665, 1666, 1667, 1668, 1669, 1670, 1671, 1672, 1673, 1674, 1675, 1676, 1677, 1678, 1679, 1680, 1681, 1682, 1683, 1684, 1685, 1686, 1687, 1688, 1689, 1690, 1691, 1692, 1693, 1694, 1695, 1696, 1697, 1698, 1699, 1701, 1702, 1703, 1704, 1705, 1706, 1707, 1708, 1709, 1710, 1711, 1729, 1730, 1731, 1732, 1733, 1734, 1735, 1736, 1737, 1738, 1739, 1740, 1741, 1742, 1743, 1744, 1745, 1746, 1747, 1748, 1749, 1750, 1751, 1752, 1753, 1754, 1755, 1756, 1757, 1758, 1759, 1760, 1761, 1762, 1763, 1764, 1765, 1766, 1767, 1768, 1769, 1770, 1771, 1772, 1773, 1774, 1775, 1776, 1777, 1778, 1779, 1781, 1782, 1783, 1784, 1785, 1786, 1787, 1788, 1789, 1790, 1791, 1792, 1793, 1811, 1812, 1813, 1814, 1815, 1816, 1817, 1818, 1819, 1820, 1821, 1822, 1823, 1824, 1825, 1826, 1827, 1828, 1829, 1830, 1831, 1832, 1833, 1834, 1835, 1836, 1837, 1838, 1839, 1840, 1841, 1842, 1843, 1844, 1845, 1846, 1847, 1848, 1849, 1850, 1851, 1852, 1853, 1854, 1855, 1856, 1857, 1858, 1859, 1861, 1862, 1863, 1864, 1865, 1866, 1867, 1868, 1869, 1870, 1871, 1872, 1873, 1874, 1875, 1876, 1893, 1894, 1895, 1896, 1897, 1898, 1899, 1900, 1901, 1902, 1903, 1904, 1905, 1906, 1907, 1908, 1909, 1910, 1911, 1912, 1913, 1914, 1915, 1916, 1917, 1918, 1919, 1920, 1921, 1922, 1923, 1924, 1925, 1926, 1927, 1928, 1929, 1930, 1931, 1932, 1933, 1934, 1935, 1936, 1937, 1938, 1939, 1941, 1942, 1943, 1944, 1945, 1946, 1947, 1948, 1949, 1950, 1951, 1952, 1953, 1954, 1955, 1956, 1957, 1958, 1975, 1976, 1977, 1978, 1979, 1980, 1981, 1982, 1983, 1984, 1985, 1986, 1987, 1988, 1989, 1990, 1991, 1992, 1993, 1994, 1995, 1996, 1997, 1998, 1999, 2000, 2001, 2002, 2003, 2004, 2005, 2006, 2007, 2008, 2009, 2010, 2011, 2012, 2013, 2014, 2015, 2016, 2017, 2018, 2019, 2021, 2022, 2023, 2024, 2025, 2026, 2027, 2028, 2029, 2030, 2031, 2032, 2033, 2034, 2035, 2036, 2037, 2038, 2039, 2056, 2057, 2058, 2059, 2060, 2061, 2062, 2063, 2064, 2065, 2066, 2067, 2068, 2069, 2070, 2071, 2072, 2073, 2074, 2075, 2076, 2077, 2078, 2079, 2080, 2081, 2082, 2083, 2084, 2085, 2086, 2087, 2088, 2089, 2090, 2091, 2092, 2093, 2094, 2095, 2096, 2097, 2098, 2099, 2101, 2102, 2103, 2104, 2105, 2106, 2107, 2108, 2109, 2110, 2111, 2112, 2113, 2114, 2115, 2116, 2117, 2118, 2119, 2121, 2122, 2123, 2138, 2139, 2140, 2141, 2142, 2143, 2144, 2145, 2146, 2147, 2148, 2149, 2150, 2151, 2152, 2153, 2154, 2155, 2156, 2157, 2158, 2159, 2160, 2161, 2162, 2163, 2164, 2165, 2166, 2167, 2168, 2169, 2170, 2171, 2172, 2173, 2174, 2175, 2176, 2177, 2178, 2179, 2181, 2182, 2183, 2184, 2185, 2186, 2187, 2188, 2189, 2190, 2191, 2192, 2193, 2194, 2195, 2196, 2197, 2198, 2199, 2201, 2202, 2203, 2204, 2205, 2220, 2221, 2222, 2223, 2224, 2225, 2226, 2227, 2228, 2229, 2230, 2231, 2232, 2233, 2234, 2235, 2236, 2237, 2238, 2239, 2240, 2241, 2242, 2243, 2244, 2245, 2246, 2247, 2248, 2249, 2250, 2251, 2252, 2253, 2254, 2255, 2256, 2257, 2258, 2259, 2261, 2262, 2263, 2264, 2265, 2266, 2267, 2268, 2269, 2270, 2271, 2272, 2273, 2274, 2275, 2276, 2277, 2278, 2279, 2281, 2282, 2283, 2284, 2285, 2286, 2287, 2288, 2301, 2302, 2303, 2304, 2305, 2306, 2307, 2308, 2309, 2310, 2311, 2312, 2313, 2314, 2315, 2316, 2317, 2318, 2319, 2320, 2321, 2322, 2323, 2324, 2325, 2326, 2327, 2328, 2329, 2330, 2331, 2332, 2333, 2334, 2335, 2336, 2337, 2338, 2339, 2341, 2342, 2343, 2344, 2345, 2346, 2347, 2348, 2349, 2350, 2351, 2352, 2353, 2354, 2355, 2356, 2357, 2358, 2359, 2361, 2362, 2363, 2364, 2365, 2366, 2367, 2368, 2369, 2370, 2383, 2384, 2385, 2386, 2387, 2388, 2389, 2390, 2391, 2392, 2393, 2394, 2395, 2396, 2397, 2398, 2399, 2400, 2401, 2402, 2403, 2404, 2405, 2406, 2407, 2408, 2409, 2410, 2411, 2412, 2413, 2414, 2415, 2416, 2417, 2418, 2419, 2421, 2422, 2423, 2424, 2425, 2426, 2427, 2428, 2429, 2430, 2431, 2432, 2433, 2434, 2435, 2436, 2437, 2438, 2439, 2441, 2442, 2443, 2444, 2445, 2446, 2447, 2448, 2449, 2450, 2451, 2452, 2453, 2465, 2466, 2467, 2468, 2469, 2470, 2471, 2472, 2473, 2474, 2475, 2476, 2477, 2478, 2479, 2480, 2481, 2482, 2483, 2484, 2485, 2486, 2487, 2488, 2489, 2490, 2491, 2492, 2493, 2494, 2495, 2496, 2497, 2498, 2499, 2501, 2502, 2503, 2504, 2505, 2506, 2507, 2508, 2509, 2510, 2511, 2512, 2513, 2514, 2515, 2516, 2517, 2518, 2519, 2521, 2522, 2523, 2524, 2525, 2526, 2527, 2528, 2529, 2530, 2531, 2532, 2533, 2534, 2535, 2547, 2548, 2549, 2550, 2551, 2552, 2553, 2554, 2555, 2556, 2557, 2558, 2559, 2560, 2561, 2562, 2563, 2564, 2565, 2566, 2567, 2568, 2569, 2570, 2571, 2572, 2573, 2574, 2575, 2576, 2577, 2578, 2579, 2581, 2582, 2583, 2584, 2585, 2586, 2587, 2588, 2589, 2590, 2591, 2592, 2593, 2594, 2595, 2596, 2597, 2598, 2599, 2601, 2602, 2603, 2604, 2605, 2606, 2607, 2608, 2609, 2610, 2611, 2612, 2613, 2614, 2615, 2616, 2617, 2628, 2629, 2630, 2631, 2632, 2633, 2634, 2635, 2636, 2637, 2638, 2639, 2640, 2641, 2642, 2643, 2644, 2645, 2646, 2647, 2648, 2649, 2650, 2651, 2652, 2653, 2654, 2655, 2656, 2657, 2658, 2659, 2661, 2662, 2663, 2664, 2665, 2666, 2667, 2668, 2669, 2670, 2671, 2672, 2673, 2674, 2675, 2676, 2677, 2678, 2679, 2681, 2682, 2683, 2684, 2685, 2686, 2687, 2688, 2689, 2690, 2691, 2692, 2693, 2694, 2695, 2696, 2697, 2698, 2699, 2700, 2710, 2711, 2712, 2713, 2714, 2715, 2716, 2717, 2718, 2719, 2720, 2721, 2722, 2723, 2724, 2725, 2726, 2727, 2728, 2729, 2730, 2731, 2732, 2733, 2734, 2735, 2736, 2737, 2738, 2739, 2741, 2742, 2743, 2744, 2745, 2746, 2747, 2748, 2749, 2750, 2751, 2752, 2753, 2754, 2755, 2756, 2757, 2758, 2759, 2761, 2762, 2763, 2764, 2765, 2766, 2767, 2768, 2769, 2770, 2771, 2772, 2773, 2774, 2775, 2776, 2777, 2778, 2779, 2780, 2781, 2782, 2792, 2793, 2794, 2795, 2796, 2797, 2798, 2799, 2800, 2801, 2802, 2803, 2804, 2805, 2806, 2807, 2808, 2809, 2810, 2811, 2812, 2813, 2814, 2815, 2816, 2817, 2818, 2819, 2821, 2822, 2823, 2824, 2825, 2826, 2827, 2828, 2829, 2830, 2831, 2832, 2833, 2834, 2835, 2836, 2837, 2838, 2839, 2841, 2842, 2843, 2844, 2845, 2846, 2847, 2848, 2849, 2850, 2851, 2852, 2853, 2854, 2855, 2856, 2857, 2858, 2859, 2860, 2861, 2862, 2863, 2864, 2865, 2874, 2875, 2876, 2877, 2878, 2879, 2880, 2881, 2882, 2883, 2884, 2885, 2886, 2887, 2888, 2889, 2890, 2891, 2892, 2893, 2894, 2895, 2896, 2897, 2898, 2899, 2901, 2902, 2903, 2904, 2905, 2906, 2907, 2908, 2909, 2910, 2911, 2912, 2913, 2914, 2915, 2916, 2917, 2918, 2919, 2921, 2922, 2923, 2924, 2925, 2926, 2927, 2928, 2929, 2930, 2931, 2932, 2933, 2934, 2935, 2936, 2937, 2938, 2939, 2940, 2941, 2942, 2943, 2944, 2945, 2946, 2947, 2955, 2956, 2957, 2958, 2959, 2960, 2961, 2962, 2963, 2964, 2965, 2966, 2967, 2968, 2969, 2970, 2971, 2972, 2973, 2974, 2975, 2976, 2977, 2978, 2979, 2981, 2982, 2983, 2984, 2985, 2986, 2987, 2988, 2989, 2990, 2991, 2992, 2993, 2994, 2995, 2996, 2997, 2998, 2999, 3001, 3002, 3003, 3004, 3005, 3006, 3007, 3008, 3009, 3010, 3011, 3012, 3013, 3014, 3015, 3016, 3017, 3018, 3019, 3020, 3021, 3022, 3023, 3024, 3025, 3026, 3027, 3028, 3029, 3037, 3038, 3039, 3040, 3041, 3042, 3043, 3044, 3045, 3046, 3047, 3048, 3049, 3050, 3051, 3052, 3053, 3054, 3055, 3056, 3057, 3058, 3059, 3061, 3062, 3063, 3064, 3065, 3066, 3067, 3068, 3069, 3070, 3071, 3072, 3073, 3074, 3075, 3076, 3077, 3078, 3079, 3081, 3082, 3083, 3084, 3085, 3086, 3087, 3088, 3089, 3090, 3091, 3092, 3093, 3094, 3095, 3096, 3097, 3098, 3099, 3100, 3101, 3102, 3103, 3104, 3105, 3106, 3107, 3108, 3109, 3110, 3111, 3112, 3119, 3120, 3121, 3122, 3123, 3124, 3125, 3126, 3127, 3128, 3129, 3130, 3131, 3132, 3133, 3134, 3135, 3136, 3137, 3138, 3139, 3141, 3142, 3143, 3144, 3145, 3146, 3147, 3148, 3149, 3150, 3151, 3152, 3153, 3154, 3155, 3156, 3157, 3158, 3159, 3161, 3162, 3163, 3164, 3165, 3166, 3167, 3168, 3169, 3170, 3171, 3172, 3173, 3174, 3175, 3176, 3177, 3178, 3179, 3180, 3181, 3182, 3183, 3184, 3185, 3186, 3187, 3188, 3189, 3190, 3191, 3192, 3193, 3194, 3201, 3202, 3203, 3204, 3205, 3206, 3207, 3208, 3209, 3210, 3211, 3212, 3213, 3214, 3215, 3216, 3217, 3218, 3219, 3221, 3222, 3223, 3224, 3225, 3226, 3227, 3228, 3229, 3230, 3231, 3232, 3233, 3234, 3235, 3236, 3237, 3238, 3239, 3241, 3242, 3243, 3244, 3245, 3246, 3247, 3248, 3249, 3250, 3251, 3252, 3253, 3254, 3255, 3256, 3257, 3258, 3259, 3260, 3261, 3262, 3263, 3264, 3265, 3266, 3267, 3268, 3269, 3270, 3271, 3272, 3273, 3274, 3275, 3276, 3277, 3282, 3283, 3284, 3285, 3286, 3287, 3288, 3289, 3290, 3291, 3292, 3293, 3294, 3295, 3296, 3297, 3298, 3299, 3301, 3302, 3303, 3304, 3305, 3306, 3307, 3308, 3309, 3310, 3311, 3312, 3313, 3314, 3315, 3316, 3317, 3318, 3319, 3320, 3321, 3322, 3323, 3324, 3325, 3326, 3327, 3328, 3329, 3330, 3331, 3332, 3333, 3334, 3335, 3336, 3337, 3338, 3339, 3340, 3341, 3342, 3343, 3344, 3345, 3346, 3347, 3348, 3349, 3350, 3351, 3352, 3353, 3354, 3355, 3356, 3357, 3358, 3359, 3364, 3365, 3366, 3367, 3368, 3369, 3370, 3371, 3372, 3373, 3374, 3375, 3376, 3377, 3378, 3379, 3381, 3382, 3383, 3384, 3385, 3386, 3387, 3388, 3389, 3390, 3391, 3392, 3393, 3394, 3395, 3396, 3397, 3398, 3399, 3400, 3401, 3402, 3403, 3404, 3405, 3406, 3407, 3408, 3409, 3410, 3411, 3412, 3413, 3414, 3415, 3416, 3417, 3418, 3419, 3420, 3421, 3422, 3423, 3424, 3425, 3426, 3427, 3428, 3429, 3430, 3431, 3432, 3433, 3434, 3435, 3436, 3437, 3438, 3439, 3440, 3441, 3442, 3446, 3447, 3448, 3449, 3450, 3451, 3452, 3453, 3454, 3455, 3456, 3457, 3458, 3459, 3461, 3462, 3463, 3464, 3465, 3466, 3467, 3468, 3469, 3470, 3471, 3472, 3473, 3474, 3475, 3476, 3477, 3478, 3479, 3480, 3481, 3482, 3483, 3484, 3485, 3486, 3487, 3488, 3489, 3490, 3491, 3492, 3493, 3494, 3495, 3496, 3497, 3498, 3499, 3500, 3501, 3502, 3503, 3504, 3505, 3506, 3507, 3508, 3509, 3510, 3511, 3512, 3513, 3514, 3515, 3516, 3517, 3518, 3519, 3520, 3521, 3522, 3523, 3524, 3527, 3528, 3529, 3530, 3531, 3532, 3533, 3534, 3535, 3536, 3537, 3538, 3539, 3541, 3542, 3543, 3544, 3545, 3546, 3547, 3548, 3549, 3550, 3551, 3552, 3553, 3554, 3555, 3556, 3557, 3558, 3559, 3560, 3561, 3562, 3563, 3564, 3565, 3566, 3567, 3568, 3569, 3570, 3571, 3572, 3573, 3574, 3575, 3576, 3577, 3578, 3579, 3580, 3581, 3582, 3583, 3584, 3585, 3586, 3587, 3588, 3589, 3590, 3591, 3592, 3593, 3594, 3595, 3596, 3597, 3598, 3599, 3600, 3601, 3602, 3603, 3604, 3605, 3606, 3609, 3610, 3611, 3612, 3613, 3614, 3615, 3616, 3617, 3618, 3619, 3621, 3622, 3623, 3624, 3625, 3626, 3627, 3628, 3629, 3630, 3631, 3632, 3633, 3634, 3635, 3636, 3637, 3638, 3639, 3640, 3641, 3642, 3643, 3644, 3645, 3646, 3647, 3648, 3649, 3650, 3651, 3652, 3653, 3654, 3655, 3656, 3657, 3658, 3659, 3660, 3661, 3662, 3663, 3664, 3665, 3666, 3667, 3668, 3669, 3670, 3671, 3672, 3673, 3674, 3675, 3676, 3677, 3678, 3679, 3680, 3681, 3682, 3683, 3684, 3685, 3686, 3687, 3688, 3689, 3691, 3692, 3693, 3694, 3695, 3696, 3697, 3698, 3699, 3701, 3702, 3703, 3704, 3705, 3706, 3707, 3708, 3709, 3710, 3711, 3712, 3713, 3714, 3715, 3716, 3717, 3718, 3719, 3720, 3721, 3722, 3723, 3724, 3725, 3726, 3727, 3728, 3729, 3730, 3731, 3732, 3733, 3734, 3735, 3736, 3737, 3738, 3739, 3740, 3741, 3742, 3743, 3744, 3745, 3746, 3747, 3748, 3749, 3750, 3751, 3752, 3753, 3754, 3755, 3756, 3757, 3758, 3759, 3760, 3761, 3762, 3763, 3764, 3765, 3766, 3767, 3768, 3769, 3770, 3771, 3773, 3774, 3775, 3776, 3777, 3778, 3779, 3781, 3782, 3783, 3784, 3785, 3786, 3787, 3788, 3789, 3790, 3791, 3792, 3793, 3794, 3795, 3796, 3797, 3798, 3799, 3800, 3801, 3802, 3803, 3804, 3805, 3806, 3807, 3808, 3809, 3810, 3811, 3812, 3813, 3814, 3815, 3816, 3817, 3818, 3819, 3820, 3821, 3822, 3823, 3824, 3825, 3826, 3827, 3828, 3829, 3830, 3831, 3832, 3833, 3834, 3835, 3836, 3837, 3838, 3839, 3840, 3841, 3842, 3843, 3844, 3845, 3846, 3847, 3848, 3849, 3850, 3851, 3852, 3853, 3855, 3856, 3857, 3858, 3859, 3861, 3862, 3863, 3864, 3865, 3866, 3867, 3868, 3869, 3870, 3871, 3872, 3873, 3874, 3875, 3876, 3877, 3878, 3879, 3880, 3881, 3882, 3883, 3884, 3885, 3886, 3887, 3888, 3889, 3890, 3891, 3892, 3893, 3894, 3895, 3896, 3897, 3898, 3899, 3900, 3901, 3902, 3903, 3904, 3905, 3906, 3907, 3908, 3909, 3910, 3911, 3912, 3913, 3914, 3915, 3916, 3917, 3918, 3919, 3920, 3921, 3922, 3923, 3924, 3925, 3926, 3927, 3928, 3929, 3930, 3931, 3932, 3933, 3934, 3935, 3937, 3938, 3939, 3941, 3942, 3943, 3944, 3945, 3946, 3947, 3948, 3949, 3950, 3951, 3952, 3953, 3954, 3955, 3956, 3957, 3958, 3959, 3960, 3961, 3962, 3963, 3964, 3965, 3966, 3967, 3968, 3969, 3970, 3971, 3972, 3973, 3974, 3975, 3976, 3977, 3978, 3979, 3980, 3981, 3982, 3983, 3984, 3985, 3986, 3987, 3988, 3989, 3990, 3991, 3992, 3993, 3994, 3995, 3996, 3997, 3998, 3999, 4000, 4001, 4002, 4003, 4004, 4005, 4006, 4007, 4008, 4009, 4010, 4011, 4012, 4013, 4014, 4015, 4016, 4017, 4021, 4022, 4023, 4024, 4025, 4026, 4027, 4028, 4029, 4030, 4031, 4032, 4033, 4034, 4035, 4036, 4037, 4038, 4039, 4040, 4041, 4042, 4043, 4044, 4045, 4046, 4047, 4048, 4049, 4050, 4051, 4052, 4053, 4054, 4055, 4056, 4057, 4058, 4059, 4060, 4061, 4062, 4063, 4064, 4065, 4066, 4067, 4068, 4069, 4070, 4071, 4072, 4073, 4074, 4075, 4076, 4077, 4078, 4079, 4080, 4081, 4082, 4083, 4084, 4085, 4086, 4087, 4088, 4089, 4090, 4091, 4092, 4093, 4094, 4095, 4096, 4097, 4098, 4102, 4103, 4104, 4105, 4106, 4107, 4108, 4109, 4110, 4111, 4112, 4113, 4114, 4115, 4116, 4117, 4118, 4119, 4120, 4121, 4122, 4123, 4124, 4125, 4126, 4127, 4128, 4129, 4130, 4131, 4132, 4133, 4134, 4135, 4136, 4137, 4138, 4139, 4140, 4141, 4142, 4143, 4144, 4145, 4146, 4147, 4148, 4149, 4150, 4151, 4152, 4153, 4154, 4155, 4156, 4157, 4158, 4159, 4160, 4161, 4162, 4163, 4164, 4165, 4166, 4167, 4168, 4169, 4170, 4171, 4172, 4173, 4174, 4175, 4176, 4177, 4178, 4179, 4184, 4185, 4186, 4187, 4188, 4189, 4190, 4191, 4192, 4193, 4194, 4195, 4196, 4197, 4198, 4199, 4200, 4201, 4202, 4203, 4204, 4205, 4206, 4207, 4208, 4209, 4210, 4211, 4212, 4213, 4214, 4215, 4216, 4217, 4218, 4219, 4220, 4221, 4222, 4223, 4224, 4225, 4226, 4227, 4228, 4229, 4230, 4231, 4232, 4233, 4234, 4235, 4236, 4237, 4238, 4239, 4240, 4241, 4242, 4243, 4244, 4245, 4246, 4247, 4248, 4249, 4250, 4251, 4252, 4253, 4254, 4255, 4256, 4257, 4258, 4259, 4261, 4262, 4267, 4268, 4269, 4270, 4271, 4272, 4273, 4274, 4275, 4276, 4277, 4278, 4279, 4280, 4281, 4282, 4283, 4284, 4285, 4286, 4287, 4288, 4289, 4290, 4291, 4292, 4293, 4294, 4295, 4296, 4297, 4298, 4299, 4300, 4301, 4302, 4303, 4304, 4305, 4306, 4307, 4308, 4309, 4310, 4311, 4312, 4313, 4314, 4315, 4316, 4317, 4318, 4319, 4320, 4321, 4322, 4323, 4324, 4325, 4326, 4327, 4328, 4329, 4330, 4331, 4332, 4333, 4334, 4335, 4336, 4337, 4338, 4339, 4341, 4342, 4343, 4344, 4349, 4350, 4351, 4352, 4353, 4354, 4355, 4356, 4357, 4358, 4359, 4360, 4361, 4362, 4363, 4364, 4365, 4366, 4367, 4368, 4369, 4370, 4371, 4372, 4373, 4374, 4375, 4376, 4377, 4378, 4379, 4380, 4381, 4382, 4383, 4384, 4385, 4386, 4387, 4388, 4389, 4390, 4391, 4392, 4393, 4394, 4395, 4396, 4397, 4398, 4399, 4400, 4401, 4402, 4403, 4404, 4405, 4406, 4407, 4408, 4409, 4410, 4411, 4412, 4413, 4414, 4415, 4416, 4417, 4418, 4419, 4421, 4422, 4423, 4424, 4425, 4426, 4432, 4433, 4434, 4435, 4436, 4437, 4438, 4439, 4440, 4441, 4442, 4443, 4444, 4445, 4446, 4447, 4448, 4449, 4450, 4451, 4452, 4453, 4454, 4455, 4456, 4457, 4458, 4459, 4460, 4461, 4462, 4463, 4464, 4465, 4466, 4467, 4468, 4469, 4470, 4471, 4472, 4473, 4474, 4475, 4476, 4477, 4478, 4479, 4480, 4481, 4482, 4483, 4484, 4485, 4486, 4487, 4488, 4489, 4490, 4491, 4492, 4493, 4494, 4495, 4496, 4497, 4498, 4499, 4501, 4502, 4503, 4504, 4505, 4506, 4507, 4514, 4515, 4516, 4517, 4518, 4519, 4520, 4521, 4522, 4523, 4524, 4525, 4526, 4527, 4528, 4529, 4530, 4531, 4532, 4533, 4534, 4535, 4536, 4537, 4538, 4539, 4540, 4541, 4542, 4543, 4544, 4545, 4546, 4547, 4548, 4549, 4550, 4551, 4552, 4553, 4554, 4555, 4556, 4557, 4558, 4559, 4560, 4561, 4562, 4563, 4564, 4565, 4566, 4567, 4568, 4569, 4570, 4571, 4572, 4573, 4574, 4575, 4576, 4577, 4578, 4579, 4581, 4582, 4583, 4584, 4585, 4586, 4587, 4588, 4589, 4596, 4597, 4598, 4599, 4600, 4601, 4602, 4603, 4604, 4605, 4606, 4607, 4608, 4609, 4610, 4611, 4612, 4613, 4614, 4615, 4616, 4617, 4618, 4619, 4620, 4621, 4622, 4623, 4624, 4625, 4626, 4627, 4628, 4629, 4630, 4631, 4632, 4633, 4634, 4635, 4636, 4637, 4638, 4639, 4640, 4641, 4642, 4643, 4644, 4645, 4646, 4647, 4648, 4649, 4650, 4651, 4652, 4653, 4654, 4655, 4656, 4657, 4658, 4659, 4661, 4662, 4663, 4664, 4665, 4666, 4667, 4668, 4669, 4670, 4671, 4679, 4680, 4681, 4682, 4683, 4684, 4685, 4686, 4687, 4688, 4689, 4690, 4691, 4692, 4693, 4694, 4695, 4696, 4697, 4698, 4699, 4700, 4701, 4702, 4703, 4704, 4705, 4706, 4707, 4708, 4709, 4710, 4711, 4712, 4713, 4714, 4715, 4716, 4717, 4718, 4719, 4720, 4721, 4722, 4723, 4724, 4725, 4726, 4727, 4728, 4729, 4730, 4731, 4732, 4733, 4734, 4735, 4736, 4737, 4738, 4739, 4741, 4742, 4743, 4744, 4745, 4746, 4747, 4748, 4749, 4750, 4751, 4752, 4761, 4762, 4763, 4764, 4765, 4766, 4767, 4768, 4769, 4770, 4771, 4772, 4773, 4774, 4775, 4776, 4777, 4778, 4779, 4780, 4781, 4782, 4783, 4784, 4785, 4786, 4787, 4788, 4789, 4790, 4791, 4792, 4793, 4794, 4795, 4796, 4797, 4798, 4799, 4800, 4801, 4802, 4803, 4804, 4805, 4806, 4807, 4808, 4809, 4810, 4811, 4812, 4813, 4814, 4815, 4816, 4817, 4818, 4819, 4821, 4822, 4823, 4824, 4825, 4826, 4827, 4828, 4829, 4830, 4831, 4832, 4833, 4834, 4844, 4845, 4846, 4847, 4848, 4849, 4850, 4851, 4852, 4853, 4854, 4855, 4856, 4857, 4858, 4859, 4860, 4861, 4862, 4863, 4864, 4865, 4866, 4867, 4868, 4869, 4870, 4871, 4872, 4873, 4874, 4875, 4876, 4877, 4878, 4879, 4880, 4881, 4882, 4883, 4884, 4885, 4886, 4887, 4888, 4889, 4890, 4891, 4892, 4893, 4894, 4895, 4896, 4897, 4898, 4899, 4901, 4902, 4903, 4904, 4905, 4906, 4907, 4908, 4909, 4910, 4911, 4912, 4913, 4914, 4915, 4916, 4926, 4927, 4928, 4929, 4930, 4931, 4932, 4933, 4934, 4935, 4936, 4937, 4938, 4939, 4940, 4941, 4942, 4943, 4944, 4945, 4946, 4947, 4948, 4949, 4950, 4951, 4952, 4953, 4954, 4955, 4956, 4957, 4958, 4959, 4960, 4961, 4962, 4963, 4964, 4965, 4966, 4967, 4968, 4969, 4970, 4971, 4972, 4973, 4974, 4975, 4976, 4977, 4978, 4979, 4981, 4982, 4983, 4984, 4985, 4986, 4987, 4988, 4989, 4990, 4991, 4992, 4993, 4994, 4995, 4996, 4997, 4998, 5008, 5009, 5010, 5011, 5012, 5013, 5014, 5015, 5016, 5017, 5018, 5019, 5020, 5021, 5022, 5023, 5024, 5025, 5026, 5027, 5028, 5029, 5030, 5031, 5032, 5033, 5034, 5035, 5036, 5037, 5038, 5039, 5040, 5041, 5042, 5043, 5044, 5045, 5046, 5047, 5048, 5049, 5050, 5051, 5052, 5053, 5054, 5055, 5056, 5057, 5058, 5059, 5061, 5062, 5063, 5064, 5065, 5066, 5067, 5068, 5069, 5070, 5071, 5072, 5073, 5074, 5075, 5076, 5077, 5078, 5079, 5091, 5092, 5093, 5094, 5095, 5096, 5097, 5098, 5099, 5100, 5101, 5102, 5103, 5104, 5105, 5106, 5107, 5108, 5109, 5110, 5111, 5112, 5113, 5114, 5115, 5116, 5117, 5118, 5119, 5120, 5121, 5122, 5123, 5124, 5125, 5126, 5127, 5128, 5129, 5130, 5131, 5132, 5133, 5134, 5135, 5136, 5137, 5138, 5139, 5141, 5142, 5143, 5144, 5145, 5146, 5147, 5148, 5149, 5150, 5151, 5152, 5153, 5154, 5155, 5156, 5157, 5158, 5159, 5160, 5161, 5173, 5174, 5175, 5176, 5177, 5178, 5179, 5180, 5181, 5182, 5183, 5184, 5185, 5186, 5187, 5188, 5189, 5190, 5191, 5192, 5193, 5194, 5195, 5196, 5197, 5198, 5199, 5200, 5201, 5202, 5203, 5204, 5205, 5206, 5207, 5208, 5209, 5210, 5211, 5212, 5213, 5214, 5215, 5216, 5217, 5218, 5219, 5221, 5222, 5223, 5224, 5225, 5226, 5227, 5228, 5229, 5230, 5231, 5232, 5233, 5234, 5235, 5236, 5237, 5238, 5239, 5240, 5241, 5242, 5243, 5256, 5257, 5258, 5259, 5260, 5261, 5262, 5263, 5264, 5265, 5266, 5267, 5268, 5269, 5270, 5271, 5272, 5273, 5274, 5275, 5276, 5277, 5278, 5279, 5280, 5281, 5282, 5283, 5284, 5285, 5286, 5287, 5288, 5289, 5290, 5291, 5292, 5293, 5294, 5295, 5296, 5297, 5298, 5299, 5301, 5302, 5303, 5304, 5305, 5306, 5307, 5308, 5309, 5310, 5311, 5312, 5313, 5314, 5315, 5316, 5317, 5318, 5319, 5320, 5321, 5322, 5323, 5324, 5325, 5338, 5339, 5340, 5341, 5342, 5343, 5344, 5345, 5346, 5347, 5348, 5349, 5350, 5351, 5352, 5353, 5354, 5355, 5356, 5357, 5358, 5359, 5360, 5361, 5362, 5363, 5364, 5365, 5366, 5367, 5368, 5369, 5370, 5371, 5372, 5373, 5374, 5375, 5376, 5377, 5378, 5379, 5381, 5382, 5383, 5384, 5385, 5386, 5387, 5388, 5389, 5390, 5391, 5392, 5393, 5394, 5395, 5396, 5397, 5398, 5399, 5400, 5401, 5402, 5403, 5404, 5405, 5406, 5421, 5422, 5423, 5424, 5425, 5426, 5427, 5428, 5429, 5430, 5431, 5432, 5433, 5434, 5435, 5436, 5437, 5438, 5439, 5440, 5441, 5442, 5443, 5444, 5445, 5446, 5447, 5448, 5449, 5450, 5451, 5452, 5453, 5454, 5455, 5456, 5457, 5458, 5459, 5461, 5462, 5463, 5464, 5465, 5466, 5467, 5468, 5469, 5470, 5471, 5472, 5473, 5474, 5475, 5476, 5477, 5478, 5479, 5480, 5481, 5482, 5483, 5484, 5485, 5486, 5487, 5488, 5503, 5504, 5505, 5506, 5507, 5508, 5509, 5510, 5511, 5512, 5513, 5514, 5515, 5516, 5517, 5518, 5519, 5520, 5521, 5522, 5523, 5524, 5525, 5526, 5527, 5528, 5529, 5530, 5531, 5532, 5533, 5534, 5535, 5536, 5537, 5538, 5539, 5541, 5542, 5543, 5544, 5545, 5546, 5547, 5548, 5549, 5550, 5551, 5552, 5553, 5554, 5555, 5556, 5557, 5558, 5559, 5560, 5561, 5562, 5563, 5564, 5565, 5566, 5567, 5568, 5569, 5570, 5585, 5586, 5587, 5588, 5589, 5590, 5591, 5592, 5593, 5594, 5595, 5596, 5597, 5598, 5599, 5600, 5601, 5602, 5603, 5604, 5605, 5606, 5607, 5608, 5609, 5610, 5611, 5612, 5613, 5614, 5615, 5616, 5617, 5618, 5619, 5621, 5622, 5623, 5624, 5625, 5626, 5627, 5628, 5629, 5630, 5631, 5632, 5633, 5634, 5635, 5636, 5637, 5638, 5639, 5640, 5641, 5642, 5643, 5644, 5645, 5646, 5647, 5648, 5649, 5650, 5651, 5652, 5668, 5669, 5670, 5671, 5672, 5673, 5674, 5675, 5676, 5677, 5678, 5679, 5680, 5681, 5682, 5683, 5684, 5685, 5686, 5687, 5688, 5689, 5690, 5691, 5692, 5693, 5694, 5695, 5696, 5697, 5698, 5699, 5701, 5702, 5703, 5704, 5705, 5706, 5707, 5708, 5709, 5710, 5711, 5712, 5713, 5714, 5715, 5716, 5717, 5718, 5719, 5720, 5721, 5722, 5723, 5724, 5725, 5726, 5727, 5728, 5729, 5730, 5731, 5732, 5733, 5750, 5751, 5752, 5753, 5754, 5755, 5756, 5757, 5758, 5759, 5760, 5761, 5762, 5763, 5764, 5765, 5766, 5767, 5768, 5769, 5770, 5771, 5772, 5773, 5774, 5775, 5776, 5777, 5778, 5779, 5781, 5782, 5783, 5784, 5785, 5786, 5787, 5788, 5789, 5790, 5791, 5792, 5793, 5794, 5795, 5796, 5797, 5798, 5799, 5800, 5801, 5802, 5803, 5804, 5805, 5806, 5807, 5808, 5809, 5810, 5811, 5812, 5813, 5814, 5815, 5832, 5833, 5834, 5835, 5836, 5837, 5838, 5839, 5840, 5841, 5842, 5843, 5844, 5845, 5846, 5847, 5848, 5849, 5850, 5851, 5852, 5853, 5854, 5855, 5856, 5857, 5858, 5859, 5861, 5862, 5863, 5864, 5865, 5866, 5867, 5868, 5869, 5870, 5871, 5872, 5873, 5874, 5875, 5876, 5877, 5878, 5879, 5880, 5881, 5882, 5883, 5884, 5885, 5886, 5887, 5888, 5889, 5890, 5891, 5892, 5893, 5894, 5895, 5896, 5897, 5913, 5914, 5915, 5916, 5917, 5918, 5919, 5920, 5921, 5922, 5923, 5924, 5925, 5926, 5927, 5928, 5929, 5930, 5931, 5932, 5933, 5934, 5935, 5936, 5937, 5938, 5939, 5941, 5942, 5943, 5944, 5945, 5946, 5947, 5948, 5949, 5950, 5951, 5952, 5953, 5954, 5955, 5956, 5957, 5958, 5959, 5960, 5961, 5962, 5963, 5964, 5965, 5966, 5967, 5968, 5969, 5970, 5971, 5972, 5973, 5974, 5975, 5976, 5977, 5978, 5994, 5995, 5996, 5997, 5998, 5999, 6000, 6001, 6002, 6003, 6004, 6005, 6006, 6007, 6008, 6009, 6010, 6011, 6012, 6013, 6014, 6015, 6016, 6017, 6018, 6019, 6021, 6022, 6023, 6024, 6025, 6026, 6027, 6028, 6029, 6030, 6031, 6032, 6033, 6034, 6035, 6036, 6037, 6038, 6039, 6040, 6041, 6042, 6043, 6044, 6045, 6046, 6047, 6048, 6049, 6050, 6051, 6052, 6053, 6054, 6055, 6056, 6057, 6058, 6059, 6060, 6075, 6076, 6077, 6078, 6079, 6080, 6081, 6082, 6083, 6084, 6085, 6086, 6087, 6088, 6089, 6090, 6091, 6092, 6093, 6094, 6095, 6096, 6097, 6098, 6099, 6101, 6102, 6103, 6104, 6105, 6106, 6107, 6108, 6109, 6110, 6111, 6112, 6113, 6114, 6115, 6116, 6117, 6118, 6119, 6120, 6121, 6122, 6123, 6124, 6125, 6126, 6127, 6128, 6129, 6130, 6131, 6132, 6133, 6134, 6135, 6136, 6137, 6138, 6139, 6140, 6141, 6142, 6156, 6157, 6158, 6159, 6160, 6161, 6162, 6163, 6164, 6165, 6166, 6167, 6168, 6169, 6170, 6171, 6172, 6173, 6174, 6175, 6176, 6177, 6178, 6179, 6181, 6182, 6183, 6184, 6185, 6186, 6187, 6188, 6189, 6190, 6191, 6192, 6193, 6194, 6195, 6196, 6197, 6198, 6199, 6200, 6201, 6202, 6203, 6204, 6205, 6206, 6207, 6208, 6209, 6210, 6211, 6212, 6213, 6214, 6215, 6216, 6217, 6218, 6219, 6220, 6221, 6222, 6223, 6224, 6237, 6238, 6239, 6240, 6241, 6242, 6243, 6244, 6245, 6246, 6247, 6248, 6249, 6250, 6251, 6252, 6253, 6254, 6255, 6256, 6257, 6258, 6259, 6261, 6262, 6263, 6264, 6265, 6266, 6267, 6268, 6269, 6270, 6271, 6272, 6273, 6274, 6275, 6276, 6277, 6278, 6279, 6280, 6281, 6282, 6283, 6284, 6285, 6286, 6287, 6288, 6289, 6290, 6291, 6292, 6293, 6294, 6295, 6296, 6297, 6298, 6299, 6300, 6301, 6302, 6303, 6304, 6305, 6318, 6319, 6320, 6321, 6322, 6323, 6324, 6325, 6326, 6327, 6328, 6329, 6330, 6331, 6332, 6333, 6334, 6335, 6336, 6337, 6338, 6339, 6341, 6342, 6343, 6344, 6345, 6346, 6347, 6348, 6349, 6350, 6351, 6352, 6353, 6354, 6355, 6356, 6357, 6358, 6359, 6360, 6361, 6362, 6363, 6364, 6365, 6366, 6367, 6368, 6369, 6370, 6371, 6372, 6373, 6374, 6375, 6376, 6377, 6378, 6379, 6380, 6381, 6382, 6383, 6384, 6385, 6386, 6387, 6399, 6400, 6401, 6402, 6403, 6404, 6405, 6406, 6407, 6408, 6409, 6410, 6411, 6412, 6413, 6414, 6415, 6416, 6417, 6418, 6419, 6421, 6422, 6423, 6424, 6425, 6426, 6427, 6428, 6429, 6430, 6431, 6432, 6433, 6434, 6435, 6436, 6437, 6438, 6439, 6440, 6441, 6442, 6443, 6444, 6445, 6446, 6447, 6448, 6449, 6450, 6451, 6452, 6453, 6454, 6455, 6456, 6457, 6458, 6459, 6460, 6461, 6462, 6463, 6464, 6465, 6466, 6467, 6468, 6469, 6480, 6481, 6482, 6483, 6484, 6485, 6486, 6487, 6488, 6489, 6490, 6491, 6492, 6493, 6494, 6495, 6496, 6497, 6498, 6499, 6501, 6502, 6503, 6504, 6505, 6506, 6507, 6508, 6509, 6510, 6511, 6512, 6513, 6514, 6515, 6516, 6517, 6518, 6519, 6520, 6521, 6522, 6523, 6524, 6525, 6526, 6527, 6528, 6529, 6530, 6531, 6532, 6533, 6534, 6535, 6536, 6537, 6538, 6539, 6540, 6541, 6542, 6543, 6544, 6545, 6546, 6547, 6548, 6549, 6550, 6551]\n",
      "val ids:  []\n",
      "test ids:  [0, 1, 2, 3, 4, 5, 6, 7, 8, 9, 10, 11, 12, 40, 81, 82, 83, 84, 85, 86, 87, 88, 89, 90, 91, 92, 93, 94, 120, 162, 163, 164, 165, 166, 167, 168, 169, 170, 171, 172, 173, 174, 175, 200, 243, 244, 245, 246, 247, 248, 249, 250, 251, 252, 253, 254, 255, 256, 257, 280, 324, 325, 326, 327, 328, 329, 330, 331, 332, 333, 334, 335, 336, 337, 338, 339, 360, 405, 406, 407, 408, 409, 410, 411, 412, 413, 414, 415, 416, 417, 418, 419, 420, 421, 440, 486, 487, 488, 489, 490, 491, 492, 493, 494, 495, 496, 497, 498, 499, 500, 501, 502, 520, 567, 568, 569, 570, 571, 572, 573, 574, 575, 576, 577, 578, 579, 580, 581, 582, 583, 584, 600, 648, 649, 650, 651, 652, 653, 654, 655, 656, 657, 658, 659, 660, 661, 662, 663, 664, 665, 666, 680, 729, 730, 731, 732, 733, 734, 735, 736, 737, 738, 739, 740, 741, 742, 743, 744, 745, 746, 747, 748, 760, 810, 811, 812, 813, 814, 815, 816, 817, 818, 819, 820, 821, 822, 823, 824, 825, 826, 827, 828, 829, 840, 891, 892, 893, 894, 895, 896, 897, 898, 899, 900, 901, 902, 903, 904, 905, 906, 907, 908, 909, 910, 911, 920, 972, 973, 974, 975, 976, 977, 978, 979, 980, 981, 982, 983, 984, 985, 986, 987, 988, 989, 990, 991, 992, 993, 1000, 1053, 1054, 1055, 1056, 1057, 1058, 1059, 1060, 1061, 1062, 1063, 1064, 1065, 1066, 1067, 1068, 1069, 1070, 1071, 1072, 1073, 1074, 1075, 1080, 1135, 1136, 1137, 1138, 1139, 1140, 1141, 1142, 1143, 1144, 1145, 1146, 1147, 1148, 1149, 1150, 1151, 1152, 1153, 1154, 1155, 1156, 1160, 1217, 1218, 1219, 1220, 1221, 1222, 1223, 1224, 1225, 1226, 1227, 1228, 1229, 1230, 1231, 1232, 1233, 1234, 1235, 1236, 1237, 1238, 1240, 1300, 1301, 1302, 1303, 1304, 1305, 1306, 1307, 1308, 1309, 1310, 1311, 1312, 1313, 1314, 1315, 1316, 1317, 1318, 1319, 1320, 1382, 1383, 1384, 1385, 1386, 1387, 1388, 1389, 1390, 1391, 1392, 1393, 1394, 1395, 1396, 1397, 1398, 1399, 1400, 1401, 1465, 1466, 1467, 1468, 1469, 1470, 1471, 1472, 1473, 1474, 1475, 1476, 1477, 1478, 1479, 1480, 1481, 1482, 1483, 1547, 1548, 1549, 1550, 1551, 1552, 1553, 1554, 1555, 1556, 1557, 1558, 1559, 1560, 1561, 1562, 1563, 1564, 1565, 1629, 1630, 1631, 1632, 1633, 1634, 1635, 1636, 1637, 1638, 1639, 1640, 1641, 1642, 1643, 1644, 1645, 1646, 1647, 1700, 1712, 1713, 1714, 1715, 1716, 1717, 1718, 1719, 1720, 1721, 1722, 1723, 1724, 1725, 1726, 1727, 1728, 1780, 1794, 1795, 1796, 1797, 1798, 1799, 1800, 1801, 1802, 1803, 1804, 1805, 1806, 1807, 1808, 1809, 1810, 1860, 1877, 1878, 1879, 1880, 1881, 1882, 1883, 1884, 1885, 1886, 1887, 1888, 1889, 1890, 1891, 1892, 1940, 1959, 1960, 1961, 1962, 1963, 1964, 1965, 1966, 1967, 1968, 1969, 1970, 1971, 1972, 1973, 1974, 2020, 2040, 2041, 2042, 2043, 2044, 2045, 2046, 2047, 2048, 2049, 2050, 2051, 2052, 2053, 2054, 2055, 2100, 2120, 2124, 2125, 2126, 2127, 2128, 2129, 2130, 2131, 2132, 2133, 2134, 2135, 2136, 2137, 2180, 2200, 2206, 2207, 2208, 2209, 2210, 2211, 2212, 2213, 2214, 2215, 2216, 2217, 2218, 2219, 2260, 2280, 2289, 2290, 2291, 2292, 2293, 2294, 2295, 2296, 2297, 2298, 2299, 2300, 2340, 2360, 2371, 2372, 2373, 2374, 2375, 2376, 2377, 2378, 2379, 2380, 2381, 2382, 2420, 2440, 2454, 2455, 2456, 2457, 2458, 2459, 2460, 2461, 2462, 2463, 2464, 2500, 2520, 2536, 2537, 2538, 2539, 2540, 2541, 2542, 2543, 2544, 2545, 2546, 2580, 2600, 2618, 2619, 2620, 2621, 2622, 2623, 2624, 2625, 2626, 2627, 2660, 2680, 2701, 2702, 2703, 2704, 2705, 2706, 2707, 2708, 2709, 2740, 2760, 2783, 2784, 2785, 2786, 2787, 2788, 2789, 2790, 2791, 2820, 2840, 2866, 2867, 2868, 2869, 2870, 2871, 2872, 2873, 2900, 2920, 2948, 2949, 2950, 2951, 2952, 2953, 2954, 2980, 3000, 3030, 3031, 3032, 3033, 3034, 3035, 3036, 3060, 3080, 3113, 3114, 3115, 3116, 3117, 3118, 3140, 3160, 3195, 3196, 3197, 3198, 3199, 3200, 3220, 3240, 3278, 3279, 3280, 3281, 3300, 3360, 3361, 3362, 3363, 3380, 3443, 3444, 3445, 3460, 3525, 3526, 3540, 3607, 3608, 3620, 3690, 3700, 3772, 3780, 3854, 3860, 3936, 3940, 4018, 4019, 4020, 4099, 4100, 4101, 4180, 4181, 4182, 4183, 4260, 4263, 4264, 4265, 4266, 4340, 4345, 4346, 4347, 4348, 4420, 4427, 4428, 4429, 4430, 4431, 4500, 4508, 4509, 4510, 4511, 4512, 4513, 4580, 4590, 4591, 4592, 4593, 4594, 4595, 4660, 4672, 4673, 4674, 4675, 4676, 4677, 4678, 4740, 4753, 4754, 4755, 4756, 4757, 4758, 4759, 4760, 4820, 4835, 4836, 4837, 4838, 4839, 4840, 4841, 4842, 4843, 4900, 4917, 4918, 4919, 4920, 4921, 4922, 4923, 4924, 4925, 4980, 4999, 5000, 5001, 5002, 5003, 5004, 5005, 5006, 5007, 5060, 5080, 5081, 5082, 5083, 5084, 5085, 5086, 5087, 5088, 5089, 5090, 5140, 5162, 5163, 5164, 5165, 5166, 5167, 5168, 5169, 5170, 5171, 5172, 5220, 5244, 5245, 5246, 5247, 5248, 5249, 5250, 5251, 5252, 5253, 5254, 5255, 5300, 5326, 5327, 5328, 5329, 5330, 5331, 5332, 5333, 5334, 5335, 5336, 5337, 5380, 5407, 5408, 5409, 5410, 5411, 5412, 5413, 5414, 5415, 5416, 5417, 5418, 5419, 5420, 5460, 5489, 5490, 5491, 5492, 5493, 5494, 5495, 5496, 5497, 5498, 5499, 5500, 5501, 5502, 5540, 5571, 5572, 5573, 5574, 5575, 5576, 5577, 5578, 5579, 5580, 5581, 5582, 5583, 5584, 5620, 5653, 5654, 5655, 5656, 5657, 5658, 5659, 5660, 5661, 5662, 5663, 5664, 5665, 5666, 5667, 5700, 5734, 5735, 5736, 5737, 5738, 5739, 5740, 5741, 5742, 5743, 5744, 5745, 5746, 5747, 5748, 5749, 5780, 5816, 5817, 5818, 5819, 5820, 5821, 5822, 5823, 5824, 5825, 5826, 5827, 5828, 5829, 5830, 5831, 5860, 5898, 5899, 5900, 5901, 5902, 5903, 5904, 5905, 5906, 5907, 5908, 5909, 5910, 5911, 5912, 5940, 5979, 5980, 5981, 5982, 5983, 5984, 5985, 5986, 5987, 5988, 5989, 5990, 5991, 5992, 5993, 6020, 6061, 6062, 6063, 6064, 6065, 6066, 6067, 6068, 6069, 6070, 6071, 6072, 6073, 6074, 6100, 6143, 6144, 6145, 6146, 6147, 6148, 6149, 6150, 6151, 6152, 6153, 6154, 6155, 6180, 6225, 6226, 6227, 6228, 6229, 6230, 6231, 6232, 6233, 6234, 6235, 6236, 6260, 6306, 6307, 6308, 6309, 6310, 6311, 6312, 6313, 6314, 6315, 6316, 6317, 6340, 6388, 6389, 6390, 6391, 6392, 6393, 6394, 6395, 6396, 6397, 6398, 6420, 6470, 6471, 6472, 6473, 6474, 6475, 6476, 6477, 6478, 6479, 6500, 6552, 6553, 6554, 6555, 6556, 6557, 6558, 6559, 6560]\n",
      "CPU times: user 170 ms, sys: 19.4 ms, total: 189 ms\n",
      "Wall time: 188 ms\n"
     ]
    }
   ],
   "source": [
    "%%time\n",
    "n_total = len(simulation.dataframe)\n",
    "n_train = len(simulation.dataframe[simulation.dataframe.type_of == \"train\"])\n",
    "n_val = len(simulation.dataframe[simulation.dataframe.type_of == \"val\"])\n",
    "n_test = len(simulation.dataframe[simulation.dataframe.type_of == \"test\"])\n",
    "n_train_hamiltonians = len(simulation.train_ids)\n",
    "n_val_hamiltonians = len(simulation.val_ids)\n",
    "n_test_hamiltonians = len(simulation.test_ids)\n",
    "n_total_hamiltonians = n_train_hamiltonians + n_val_hamiltonians + n_test_hamiltonians\n",
    "\n",
    "print(\"% train: \", n_train/n_total)\n",
    "print(\"% val: \",  n_val/n_total)\n",
    "print(\"% test: \", n_test/n_total)\n",
    "print(\"% train + val + test: \", (n_train+n_val+n_test)/n_total)\n",
    "print(\"\\n\")\n",
    "print(\"number of train hamiltonians: \", n_train_hamiltonians)\n",
    "print(\"number of val hamiltonians: \", n_val_hamiltonians)\n",
    "print(\"number of test hamiltonians: \", n_test_hamiltonians)\n",
    "print(\"total number of hamiltonians: \", n_total_hamiltonians)\n",
    "print(\"\\n\")\n",
    "print(\"train ids: \", simulation.train_ids)\n",
    "print(\"val ids: \", simulation.val_ids)\n",
    "print(\"test ids: \", simulation.test_ids)"
   ]
  },
  {
   "cell_type": "markdown",
   "metadata": {
    "papermill": {
     "duration": 0.017344,
     "end_time": "2020-07-09T21:38:06.706118",
     "exception": false,
     "start_time": "2020-07-09T21:38:06.688774",
     "status": "completed"
    },
    "tags": []
   },
   "source": [
    "## Running a simulation"
   ]
  },
  {
   "cell_type": "code",
   "execution_count": 23,
   "metadata": {
    "execution": {
     "iopub.execute_input": "2020-07-09T21:38:06.746259Z",
     "iopub.status.busy": "2020-07-09T21:38:06.745938Z",
     "iopub.status.idle": "2020-07-09T22:23:14.102124Z",
     "shell.execute_reply": "2020-07-09T22:23:14.102438Z"
    },
    "papermill": {
     "duration": 2707.378079,
     "end_time": "2020-07-09T22:23:14.102503",
     "exception": false,
     "start_time": "2020-07-09T21:38:06.724424",
     "status": "completed"
    },
    "tags": []
   },
   "outputs": [
    {
     "name": "stderr",
     "output_type": "stream",
     "text": [
      "\r",
      "running experiments:   0%|          | 0/100 [00:00<?, ?it/s]"
     ]
    },
    {
     "name": "stderr",
     "output_type": "stream",
     "text": [
      "\r",
      "running experiments:   1%|          | 1/100 [00:28<46:26, 28.15s/it]"
     ]
    },
    {
     "name": "stderr",
     "output_type": "stream",
     "text": [
      "\r",
      "running experiments:   2%|▏         | 2/100 [00:54<45:10, 27.66s/it]"
     ]
    },
    {
     "name": "stderr",
     "output_type": "stream",
     "text": [
      "\r",
      "running experiments:   3%|▎         | 3/100 [01:22<44:33, 27.57s/it]"
     ]
    },
    {
     "name": "stderr",
     "output_type": "stream",
     "text": [
      "\r",
      "running experiments:   4%|▍         | 4/100 [01:48<43:48, 27.38s/it]"
     ]
    },
    {
     "name": "stderr",
     "output_type": "stream",
     "text": [
      "\r",
      "running experiments:   5%|▌         | 5/100 [02:16<43:17, 27.34s/it]"
     ]
    },
    {
     "name": "stderr",
     "output_type": "stream",
     "text": [
      "\r",
      "running experiments:   6%|▌         | 6/100 [02:43<42:39, 27.22s/it]"
     ]
    },
    {
     "name": "stderr",
     "output_type": "stream",
     "text": [
      "\r",
      "running experiments:   7%|▋         | 7/100 [03:10<42:12, 27.23s/it]"
     ]
    },
    {
     "name": "stderr",
     "output_type": "stream",
     "text": [
      "\r",
      "running experiments:   8%|▊         | 8/100 [03:37<41:37, 27.15s/it]"
     ]
    },
    {
     "name": "stderr",
     "output_type": "stream",
     "text": [
      "\r",
      "running experiments:   9%|▉         | 9/100 [04:04<41:07, 27.12s/it]"
     ]
    },
    {
     "name": "stderr",
     "output_type": "stream",
     "text": [
      "\r",
      "running experiments:  10%|█         | 10/100 [04:30<40:22, 26.92s/it]"
     ]
    },
    {
     "name": "stderr",
     "output_type": "stream",
     "text": [
      "\r",
      "running experiments:  11%|█         | 11/100 [04:58<40:04, 27.02s/it]"
     ]
    },
    {
     "name": "stderr",
     "output_type": "stream",
     "text": [
      "\r",
      "running experiments:  12%|█▏        | 12/100 [05:25<39:54, 27.21s/it]"
     ]
    },
    {
     "name": "stderr",
     "output_type": "stream",
     "text": [
      "\r",
      "running experiments:  13%|█▎        | 13/100 [05:52<39:22, 27.16s/it]"
     ]
    },
    {
     "name": "stderr",
     "output_type": "stream",
     "text": [
      "\r",
      "running experiments:  14%|█▍        | 14/100 [06:20<39:00, 27.22s/it]"
     ]
    },
    {
     "name": "stderr",
     "output_type": "stream",
     "text": [
      "\r",
      "running experiments:  15%|█▌        | 15/100 [06:46<38:21, 27.08s/it]"
     ]
    },
    {
     "name": "stderr",
     "output_type": "stream",
     "text": [
      "\r",
      "running experiments:  16%|█▌        | 16/100 [07:14<37:58, 27.13s/it]"
     ]
    },
    {
     "name": "stderr",
     "output_type": "stream",
     "text": [
      "\r",
      "running experiments:  17%|█▋        | 17/100 [07:41<37:39, 27.22s/it]"
     ]
    },
    {
     "name": "stderr",
     "output_type": "stream",
     "text": [
      "\r",
      "running experiments:  18%|█▊        | 18/100 [08:08<37:02, 27.11s/it]"
     ]
    },
    {
     "name": "stderr",
     "output_type": "stream",
     "text": [
      "\r",
      "running experiments:  19%|█▉        | 19/100 [08:35<36:27, 27.01s/it]"
     ]
    },
    {
     "name": "stderr",
     "output_type": "stream",
     "text": [
      "\r",
      "running experiments:  20%|██        | 20/100 [09:03<36:22, 27.28s/it]"
     ]
    },
    {
     "name": "stderr",
     "output_type": "stream",
     "text": [
      "\r",
      "running experiments:  21%|██        | 21/100 [09:30<35:49, 27.21s/it]"
     ]
    },
    {
     "name": "stderr",
     "output_type": "stream",
     "text": [
      "\r",
      "running experiments:  22%|██▏       | 22/100 [09:57<35:29, 27.30s/it]"
     ]
    },
    {
     "name": "stderr",
     "output_type": "stream",
     "text": [
      "\r",
      "running experiments:  23%|██▎       | 23/100 [10:24<34:56, 27.23s/it]"
     ]
    },
    {
     "name": "stderr",
     "output_type": "stream",
     "text": [
      "\r",
      "running experiments:  24%|██▍       | 24/100 [10:51<34:09, 26.97s/it]"
     ]
    },
    {
     "name": "stderr",
     "output_type": "stream",
     "text": [
      "\r",
      "running experiments:  25%|██▌       | 25/100 [11:17<33:34, 26.85s/it]"
     ]
    },
    {
     "name": "stderr",
     "output_type": "stream",
     "text": [
      "\r",
      "running experiments:  26%|██▌       | 26/100 [11:45<33:23, 27.08s/it]"
     ]
    },
    {
     "name": "stderr",
     "output_type": "stream",
     "text": [
      "\r",
      "running experiments:  27%|██▋       | 27/100 [12:11<32:45, 26.92s/it]"
     ]
    },
    {
     "name": "stderr",
     "output_type": "stream",
     "text": [
      "\r",
      "running experiments:  28%|██▊       | 28/100 [12:39<32:25, 27.02s/it]"
     ]
    },
    {
     "name": "stderr",
     "output_type": "stream",
     "text": [
      "\r",
      "running experiments:  29%|██▉       | 29/100 [13:06<32:07, 27.15s/it]"
     ]
    },
    {
     "name": "stderr",
     "output_type": "stream",
     "text": [
      "\r",
      "running experiments:  30%|███       | 30/100 [13:33<31:28, 26.98s/it]"
     ]
    },
    {
     "name": "stderr",
     "output_type": "stream",
     "text": [
      "\r",
      "running experiments:  31%|███       | 31/100 [14:00<31:05, 27.03s/it]"
     ]
    },
    {
     "name": "stderr",
     "output_type": "stream",
     "text": [
      "\r",
      "running experiments:  32%|███▏      | 32/100 [14:27<30:41, 27.09s/it]"
     ]
    },
    {
     "name": "stderr",
     "output_type": "stream",
     "text": [
      "\r",
      "running experiments:  33%|███▎      | 33/100 [14:54<30:16, 27.11s/it]"
     ]
    },
    {
     "name": "stderr",
     "output_type": "stream",
     "text": [
      "\r",
      "running experiments:  34%|███▍      | 34/100 [15:22<29:53, 27.18s/it]"
     ]
    },
    {
     "name": "stderr",
     "output_type": "stream",
     "text": [
      "\r",
      "running experiments:  35%|███▌      | 35/100 [15:49<29:27, 27.20s/it]"
     ]
    },
    {
     "name": "stderr",
     "output_type": "stream",
     "text": [
      "\r",
      "running experiments:  36%|███▌      | 36/100 [16:16<28:55, 27.12s/it]"
     ]
    },
    {
     "name": "stderr",
     "output_type": "stream",
     "text": [
      "\r",
      "running experiments:  37%|███▋      | 37/100 [16:43<28:28, 27.12s/it]"
     ]
    },
    {
     "name": "stderr",
     "output_type": "stream",
     "text": [
      "\r",
      "running experiments:  38%|███▊      | 38/100 [17:10<27:56, 27.04s/it]"
     ]
    },
    {
     "name": "stderr",
     "output_type": "stream",
     "text": [
      "\r",
      "running experiments:  39%|███▉      | 39/100 [17:37<27:31, 27.07s/it]"
     ]
    },
    {
     "name": "stderr",
     "output_type": "stream",
     "text": [
      "\r",
      "running experiments:  40%|████      | 40/100 [18:04<27:01, 27.02s/it]"
     ]
    },
    {
     "name": "stderr",
     "output_type": "stream",
     "text": [
      "\r",
      "running experiments:  41%|████      | 41/100 [18:31<26:46, 27.22s/it]"
     ]
    },
    {
     "name": "stderr",
     "output_type": "stream",
     "text": [
      "\r",
      "running experiments:  42%|████▏     | 42/100 [18:59<26:25, 27.34s/it]"
     ]
    },
    {
     "name": "stderr",
     "output_type": "stream",
     "text": [
      "\r",
      "running experiments:  43%|████▎     | 43/100 [19:26<25:48, 27.16s/it]"
     ]
    },
    {
     "name": "stderr",
     "output_type": "stream",
     "text": [
      "\r",
      "running experiments:  44%|████▍     | 44/100 [19:53<25:25, 27.25s/it]"
     ]
    },
    {
     "name": "stderr",
     "output_type": "stream",
     "text": [
      "\r",
      "running experiments:  45%|████▌     | 45/100 [20:21<25:11, 27.49s/it]"
     ]
    },
    {
     "name": "stderr",
     "output_type": "stream",
     "text": [
      "\r",
      "running experiments:  46%|████▌     | 46/100 [20:49<24:41, 27.44s/it]"
     ]
    },
    {
     "name": "stderr",
     "output_type": "stream",
     "text": [
      "\r",
      "running experiments:  47%|████▋     | 47/100 [21:15<24:01, 27.20s/it]"
     ]
    },
    {
     "name": "stderr",
     "output_type": "stream",
     "text": [
      "\r",
      "running experiments:  48%|████▊     | 48/100 [21:42<23:30, 27.12s/it]"
     ]
    },
    {
     "name": "stderr",
     "output_type": "stream",
     "text": [
      "\r",
      "running experiments:  49%|████▉     | 49/100 [22:10<23:08, 27.22s/it]"
     ]
    },
    {
     "name": "stderr",
     "output_type": "stream",
     "text": [
      "\r",
      "running experiments:  50%|█████     | 50/100 [22:37<22:38, 27.17s/it]"
     ]
    },
    {
     "name": "stderr",
     "output_type": "stream",
     "text": [
      "\r",
      "running experiments:  51%|█████     | 51/100 [23:03<22:06, 27.07s/it]"
     ]
    },
    {
     "name": "stderr",
     "output_type": "stream",
     "text": [
      "\r",
      "running experiments:  52%|█████▏    | 52/100 [23:31<21:38, 27.05s/it]"
     ]
    },
    {
     "name": "stderr",
     "output_type": "stream",
     "text": [
      "\r",
      "running experiments:  53%|█████▎    | 53/100 [23:58<21:13, 27.10s/it]"
     ]
    },
    {
     "name": "stderr",
     "output_type": "stream",
     "text": [
      "\r",
      "running experiments:  54%|█████▍    | 54/100 [24:25<20:50, 27.19s/it]"
     ]
    },
    {
     "name": "stderr",
     "output_type": "stream",
     "text": [
      "\r",
      "running experiments:  55%|█████▌    | 55/100 [24:52<20:20, 27.13s/it]"
     ]
    },
    {
     "name": "stderr",
     "output_type": "stream",
     "text": [
      "\r",
      "running experiments:  56%|█████▌    | 56/100 [25:19<19:49, 27.03s/it]"
     ]
    },
    {
     "name": "stderr",
     "output_type": "stream",
     "text": [
      "\r",
      "running experiments:  57%|█████▋    | 57/100 [25:46<19:20, 27.00s/it]"
     ]
    },
    {
     "name": "stderr",
     "output_type": "stream",
     "text": [
      "\r",
      "running experiments:  58%|█████▊    | 58/100 [26:12<18:47, 26.84s/it]"
     ]
    },
    {
     "name": "stderr",
     "output_type": "stream",
     "text": [
      "\r",
      "running experiments:  59%|█████▉    | 59/100 [26:39<18:19, 26.81s/it]"
     ]
    },
    {
     "name": "stderr",
     "output_type": "stream",
     "text": [
      "\r",
      "running experiments:  60%|██████    | 60/100 [27:06<17:53, 26.85s/it]"
     ]
    },
    {
     "name": "stderr",
     "output_type": "stream",
     "text": [
      "\r",
      "running experiments:  61%|██████    | 61/100 [27:33<17:32, 26.98s/it]"
     ]
    },
    {
     "name": "stderr",
     "output_type": "stream",
     "text": [
      "\r",
      "running experiments:  62%|██████▏   | 62/100 [28:00<17:02, 26.90s/it]"
     ]
    },
    {
     "name": "stderr",
     "output_type": "stream",
     "text": [
      "\r",
      "running experiments:  63%|██████▎   | 63/100 [28:27<16:34, 26.88s/it]"
     ]
    },
    {
     "name": "stderr",
     "output_type": "stream",
     "text": [
      "\r",
      "running experiments:  64%|██████▍   | 64/100 [28:54<16:07, 26.87s/it]"
     ]
    },
    {
     "name": "stderr",
     "output_type": "stream",
     "text": [
      "\r",
      "running experiments:  65%|██████▌   | 65/100 [29:20<15:37, 26.80s/it]"
     ]
    },
    {
     "name": "stderr",
     "output_type": "stream",
     "text": [
      "\r",
      "running experiments:  66%|██████▌   | 66/100 [29:48<15:18, 27.02s/it]"
     ]
    },
    {
     "name": "stderr",
     "output_type": "stream",
     "text": [
      "\r",
      "running experiments:  67%|██████▋   | 67/100 [30:15<14:50, 26.98s/it]"
     ]
    },
    {
     "name": "stderr",
     "output_type": "stream",
     "text": [
      "\r",
      "running experiments:  68%|██████▊   | 68/100 [30:42<14:23, 27.00s/it]"
     ]
    },
    {
     "name": "stderr",
     "output_type": "stream",
     "text": [
      "\r",
      "running experiments:  69%|██████▉   | 69/100 [31:09<13:55, 26.96s/it]"
     ]
    },
    {
     "name": "stderr",
     "output_type": "stream",
     "text": [
      "\r",
      "running experiments:  70%|███████   | 70/100 [31:36<13:30, 27.02s/it]"
     ]
    },
    {
     "name": "stderr",
     "output_type": "stream",
     "text": [
      "\r",
      "running experiments:  71%|███████   | 71/100 [32:03<13:04, 27.07s/it]"
     ]
    },
    {
     "name": "stderr",
     "output_type": "stream",
     "text": [
      "\r",
      "running experiments:  72%|███████▏  | 72/100 [32:31<12:49, 27.48s/it]"
     ]
    },
    {
     "name": "stderr",
     "output_type": "stream",
     "text": [
      "\r",
      "running experiments:  73%|███████▎  | 73/100 [32:59<12:19, 27.39s/it]"
     ]
    },
    {
     "name": "stderr",
     "output_type": "stream",
     "text": [
      "\r",
      "running experiments:  74%|███████▍  | 74/100 [33:26<11:50, 27.34s/it]"
     ]
    },
    {
     "name": "stderr",
     "output_type": "stream",
     "text": [
      "\r",
      "running experiments:  75%|███████▌  | 75/100 [33:53<11:20, 27.22s/it]"
     ]
    },
    {
     "name": "stderr",
     "output_type": "stream",
     "text": [
      "\r",
      "running experiments:  76%|███████▌  | 76/100 [34:20<10:51, 27.13s/it]"
     ]
    },
    {
     "name": "stderr",
     "output_type": "stream",
     "text": [
      "\r",
      "running experiments:  77%|███████▋  | 77/100 [34:46<10:21, 27.04s/it]"
     ]
    },
    {
     "name": "stderr",
     "output_type": "stream",
     "text": [
      "\r",
      "running experiments:  78%|███████▊  | 78/100 [35:15<10:03, 27.43s/it]"
     ]
    },
    {
     "name": "stderr",
     "output_type": "stream",
     "text": [
      "\r",
      "running experiments:  79%|███████▉  | 79/100 [35:42<09:31, 27.22s/it]"
     ]
    },
    {
     "name": "stderr",
     "output_type": "stream",
     "text": [
      "\r",
      "running experiments:  80%|████████  | 80/100 [36:09<09:03, 27.16s/it]"
     ]
    },
    {
     "name": "stderr",
     "output_type": "stream",
     "text": [
      "\r",
      "running experiments:  81%|████████  | 81/100 [36:35<08:33, 27.03s/it]"
     ]
    },
    {
     "name": "stderr",
     "output_type": "stream",
     "text": [
      "\r",
      "running experiments:  82%|████████▏ | 82/100 [37:02<08:06, 27.02s/it]"
     ]
    },
    {
     "name": "stderr",
     "output_type": "stream",
     "text": [
      "\r",
      "running experiments:  83%|████████▎ | 83/100 [37:30<07:41, 27.15s/it]"
     ]
    },
    {
     "name": "stderr",
     "output_type": "stream",
     "text": [
      "\r",
      "running experiments:  84%|████████▍ | 84/100 [37:57<07:14, 27.17s/it]"
     ]
    },
    {
     "name": "stderr",
     "output_type": "stream",
     "text": [
      "\r",
      "running experiments:  85%|████████▌ | 85/100 [38:24<06:47, 27.19s/it]"
     ]
    },
    {
     "name": "stderr",
     "output_type": "stream",
     "text": [
      "\r",
      "running experiments:  86%|████████▌ | 86/100 [38:51<06:20, 27.16s/it]"
     ]
    },
    {
     "name": "stderr",
     "output_type": "stream",
     "text": [
      "\r",
      "running experiments:  87%|████████▋ | 87/100 [39:18<05:53, 27.15s/it]"
     ]
    },
    {
     "name": "stderr",
     "output_type": "stream",
     "text": [
      "\r",
      "running experiments:  88%|████████▊ | 88/100 [39:45<05:24, 27.02s/it]"
     ]
    },
    {
     "name": "stderr",
     "output_type": "stream",
     "text": [
      "\r",
      "running experiments:  89%|████████▉ | 89/100 [40:12<04:55, 26.89s/it]"
     ]
    },
    {
     "name": "stderr",
     "output_type": "stream",
     "text": [
      "\r",
      "running experiments:  90%|█████████ | 90/100 [40:39<04:29, 26.97s/it]"
     ]
    },
    {
     "name": "stderr",
     "output_type": "stream",
     "text": [
      "\r",
      "running experiments:  91%|█████████ | 91/100 [41:06<04:02, 26.98s/it]"
     ]
    },
    {
     "name": "stderr",
     "output_type": "stream",
     "text": [
      "\r",
      "running experiments:  92%|█████████▏| 92/100 [41:32<03:34, 26.77s/it]"
     ]
    },
    {
     "name": "stderr",
     "output_type": "stream",
     "text": [
      "\r",
      "running experiments:  93%|█████████▎| 93/100 [41:59<03:07, 26.85s/it]"
     ]
    },
    {
     "name": "stderr",
     "output_type": "stream",
     "text": [
      "\r",
      "running experiments:  94%|█████████▍| 94/100 [42:26<02:40, 26.79s/it]"
     ]
    },
    {
     "name": "stderr",
     "output_type": "stream",
     "text": [
      "\r",
      "running experiments:  95%|█████████▌| 95/100 [42:52<02:13, 26.66s/it]"
     ]
    },
    {
     "name": "stderr",
     "output_type": "stream",
     "text": [
      "\r",
      "running experiments:  96%|█████████▌| 96/100 [43:19<01:47, 26.80s/it]"
     ]
    },
    {
     "name": "stderr",
     "output_type": "stream",
     "text": [
      "\r",
      "running experiments:  97%|█████████▋| 97/100 [43:47<01:20, 26.94s/it]"
     ]
    },
    {
     "name": "stderr",
     "output_type": "stream",
     "text": [
      "\r",
      "running experiments:  98%|█████████▊| 98/100 [44:13<00:53, 26.82s/it]"
     ]
    },
    {
     "name": "stderr",
     "output_type": "stream",
     "text": [
      "\r",
      "running experiments:  99%|█████████▉| 99/100 [44:40<00:26, 26.87s/it]"
     ]
    },
    {
     "name": "stderr",
     "output_type": "stream",
     "text": [
      "\r",
      "running experiments: 100%|██████████| 100/100 [45:07<00:00, 26.81s/it]"
     ]
    },
    {
     "name": "stderr",
     "output_type": "stream",
     "text": [
      "\r",
      "running experiments: 100%|██████████| 100/100 [45:07<00:00, 27.07s/it]"
     ]
    },
    {
     "name": "stdout",
     "output_type": "stream",
     "text": [
      "CPU times: user 4h 57min 54s, sys: 12.6 s, total: 4h 58min 6s\n",
      "Wall time: 45min 7s\n"
     ]
    },
    {
     "name": "stderr",
     "output_type": "stream",
     "text": [
      "\n"
     ]
    }
   ],
   "source": [
    "%%time\n",
    "simulation.run_simulation(n_experiments, start_n, fit_params,shuffle_rows, pred_params, random_features, \\\n",
    "                          store_in_lists, save_eigenvector, save_hamiltonian, save_accuracy,\\\n",
    "                          save_models)\n",
    "if simulation.fourier_mode is not None:\n",
    "    simulation.fourier_dataframe.head(10)"
   ]
  },
  {
   "cell_type": "code",
   "execution_count": 24,
   "metadata": {
    "execution": {
     "iopub.execute_input": "2020-07-09T22:23:14.173875Z",
     "iopub.status.busy": "2020-07-09T22:23:14.173562Z",
     "iopub.status.idle": "2020-07-09T22:23:14.199922Z",
     "shell.execute_reply": "2020-07-09T22:23:14.199601Z"
    },
    "papermill": {
     "duration": 0.062871,
     "end_time": "2020-07-09T22:23:14.199974",
     "exception": false,
     "start_time": "2020-07-09T22:23:14.137103",
     "status": "completed"
    },
    "tags": []
   },
   "outputs": [
    {
     "data": {
      "text/html": [
       "<div>\n",
       "<style scoped>\n",
       "    .dataframe tbody tr th:only-of-type {\n",
       "        vertical-align: middle;\n",
       "    }\n",
       "\n",
       "    .dataframe tbody tr th {\n",
       "        vertical-align: top;\n",
       "    }\n",
       "\n",
       "    .dataframe thead th {\n",
       "        text-align: right;\n",
       "    }\n",
       "</style>\n",
       "<table border=\"1\" class=\"dataframe\">\n",
       "  <thead>\n",
       "    <tr style=\"text-align: right;\">\n",
       "      <th></th>\n",
       "      <th>id</th>\n",
       "      <th>path</th>\n",
       "      <th>t1</th>\n",
       "      <th>t2</th>\n",
       "      <th>winding</th>\n",
       "      <th>phase</th>\n",
       "      <th>pred_phase</th>\n",
       "      <th>type_of</th>\n",
       "      <th>feat0</th>\n",
       "      <th>feat1</th>\n",
       "      <th>...</th>\n",
       "      <th>feat90</th>\n",
       "      <th>feat91</th>\n",
       "      <th>feat92</th>\n",
       "      <th>feat93</th>\n",
       "      <th>feat94</th>\n",
       "      <th>feat95</th>\n",
       "      <th>feat96</th>\n",
       "      <th>feat97</th>\n",
       "      <th>feat98</th>\n",
       "      <th>feat99</th>\n",
       "    </tr>\n",
       "  </thead>\n",
       "  <tbody>\n",
       "    <tr>\n",
       "      <th>0</th>\n",
       "      <td>0</td>\n",
       "      <td>H_-2_-2_0.501338.dat</td>\n",
       "      <td>-2.0</td>\n",
       "      <td>-2.0</td>\n",
       "      <td>0.501338</td>\n",
       "      <td>999</td>\n",
       "      <td>666</td>\n",
       "      <td>test</td>\n",
       "      <td>-0.130965</td>\n",
       "      <td>0.301130</td>\n",
       "      <td>...</td>\n",
       "      <td>-0.080279</td>\n",
       "      <td>-0.115687</td>\n",
       "      <td>-0.174988</td>\n",
       "      <td>0.245064</td>\n",
       "      <td>0.319763</td>\n",
       "      <td>-0.059082</td>\n",
       "      <td>-0.000556</td>\n",
       "      <td>-0.245133</td>\n",
       "      <td>-0.301130</td>\n",
       "      <td>0.130965</td>\n",
       "    </tr>\n",
       "    <tr>\n",
       "      <th>1</th>\n",
       "      <td>0</td>\n",
       "      <td>H_-2_-2_0.501338.dat</td>\n",
       "      <td>-2.0</td>\n",
       "      <td>-2.0</td>\n",
       "      <td>0.501338</td>\n",
       "      <td>999</td>\n",
       "      <td>666</td>\n",
       "      <td>test</td>\n",
       "      <td>-0.130965</td>\n",
       "      <td>-0.301130</td>\n",
       "      <td>...</td>\n",
       "      <td>-0.080279</td>\n",
       "      <td>0.115687</td>\n",
       "      <td>-0.174988</td>\n",
       "      <td>-0.245064</td>\n",
       "      <td>0.319763</td>\n",
       "      <td>0.059082</td>\n",
       "      <td>-0.000556</td>\n",
       "      <td>0.245133</td>\n",
       "      <td>-0.301130</td>\n",
       "      <td>-0.130965</td>\n",
       "    </tr>\n",
       "    <tr>\n",
       "      <th>2</th>\n",
       "      <td>0</td>\n",
       "      <td>H_-2_-2_0.501338.dat</td>\n",
       "      <td>-2.0</td>\n",
       "      <td>-2.0</td>\n",
       "      <td>0.501338</td>\n",
       "      <td>999</td>\n",
       "      <td>666</td>\n",
       "      <td>test</td>\n",
       "      <td>-0.148414</td>\n",
       "      <td>-0.042467</td>\n",
       "      <td>...</td>\n",
       "      <td>0.185442</td>\n",
       "      <td>-0.080620</td>\n",
       "      <td>-0.066211</td>\n",
       "      <td>-0.121339</td>\n",
       "      <td>-0.151700</td>\n",
       "      <td>0.192513</td>\n",
       "      <td>0.191642</td>\n",
       "      <td>-0.050956</td>\n",
       "      <td>-0.042467</td>\n",
       "      <td>-0.148414</td>\n",
       "    </tr>\n",
       "    <tr>\n",
       "      <th>3</th>\n",
       "      <td>0</td>\n",
       "      <td>H_-2_-2_0.501338.dat</td>\n",
       "      <td>-2.0</td>\n",
       "      <td>-2.0</td>\n",
       "      <td>0.501338</td>\n",
       "      <td>999</td>\n",
       "      <td>666</td>\n",
       "      <td>test</td>\n",
       "      <td>-0.069630</td>\n",
       "      <td>-0.026147</td>\n",
       "      <td>...</td>\n",
       "      <td>0.102009</td>\n",
       "      <td>-0.100671</td>\n",
       "      <td>-0.081002</td>\n",
       "      <td>-0.020715</td>\n",
       "      <td>-0.058717</td>\n",
       "      <td>0.115834</td>\n",
       "      <td>0.118274</td>\n",
       "      <td>-0.054666</td>\n",
       "      <td>-0.026147</td>\n",
       "      <td>-0.069630</td>\n",
       "    </tr>\n",
       "    <tr>\n",
       "      <th>4</th>\n",
       "      <td>0</td>\n",
       "      <td>H_-2_-2_0.501338.dat</td>\n",
       "      <td>-2.0</td>\n",
       "      <td>-2.0</td>\n",
       "      <td>0.501338</td>\n",
       "      <td>999</td>\n",
       "      <td>666</td>\n",
       "      <td>test</td>\n",
       "      <td>0.010206</td>\n",
       "      <td>-0.014625</td>\n",
       "      <td>...</td>\n",
       "      <td>0.047555</td>\n",
       "      <td>-0.041368</td>\n",
       "      <td>-0.018852</td>\n",
       "      <td>-0.017673</td>\n",
       "      <td>-0.023377</td>\n",
       "      <td>0.031447</td>\n",
       "      <td>0.010280</td>\n",
       "      <td>0.000925</td>\n",
       "      <td>0.014625</td>\n",
       "      <td>-0.010206</td>\n",
       "    </tr>\n",
       "    <tr>\n",
       "      <th>5</th>\n",
       "      <td>0</td>\n",
       "      <td>H_-2_-2_0.501338.dat</td>\n",
       "      <td>-2.0</td>\n",
       "      <td>-2.0</td>\n",
       "      <td>0.501338</td>\n",
       "      <td>999</td>\n",
       "      <td>666</td>\n",
       "      <td>test</td>\n",
       "      <td>0.116962</td>\n",
       "      <td>0.021475</td>\n",
       "      <td>...</td>\n",
       "      <td>-0.086901</td>\n",
       "      <td>-0.045676</td>\n",
       "      <td>-0.028034</td>\n",
       "      <td>0.129266</td>\n",
       "      <td>0.130083</td>\n",
       "      <td>-0.098190</td>\n",
       "      <td>-0.104188</td>\n",
       "      <td>-0.007911</td>\n",
       "      <td>0.021475</td>\n",
       "      <td>0.116962</td>\n",
       "    </tr>\n",
       "    <tr>\n",
       "      <th>6</th>\n",
       "      <td>0</td>\n",
       "      <td>H_-2_-2_0.501338.dat</td>\n",
       "      <td>-2.0</td>\n",
       "      <td>-2.0</td>\n",
       "      <td>0.501338</td>\n",
       "      <td>999</td>\n",
       "      <td>666</td>\n",
       "      <td>test</td>\n",
       "      <td>0.037175</td>\n",
       "      <td>-0.095882</td>\n",
       "      <td>...</td>\n",
       "      <td>-0.027490</td>\n",
       "      <td>0.046168</td>\n",
       "      <td>0.063419</td>\n",
       "      <td>-0.041630</td>\n",
       "      <td>-0.085769</td>\n",
       "      <td>-0.010604</td>\n",
       "      <td>-0.009822</td>\n",
       "      <td>0.084024</td>\n",
       "      <td>0.095882</td>\n",
       "      <td>-0.037175</td>\n",
       "    </tr>\n",
       "    <tr>\n",
       "      <th>7</th>\n",
       "      <td>0</td>\n",
       "      <td>H_-2_-2_0.501338.dat</td>\n",
       "      <td>-2.0</td>\n",
       "      <td>-2.0</td>\n",
       "      <td>0.501338</td>\n",
       "      <td>999</td>\n",
       "      <td>666</td>\n",
       "      <td>test</td>\n",
       "      <td>0.027709</td>\n",
       "      <td>-0.038180</td>\n",
       "      <td>...</td>\n",
       "      <td>0.123344</td>\n",
       "      <td>-0.114320</td>\n",
       "      <td>-0.057118</td>\n",
       "      <td>-0.040291</td>\n",
       "      <td>-0.061263</td>\n",
       "      <td>0.087153</td>\n",
       "      <td>0.029599</td>\n",
       "      <td>-0.001276</td>\n",
       "      <td>0.038180</td>\n",
       "      <td>-0.027709</td>\n",
       "    </tr>\n",
       "    <tr>\n",
       "      <th>8</th>\n",
       "      <td>0</td>\n",
       "      <td>H_-2_-2_0.501338.dat</td>\n",
       "      <td>-2.0</td>\n",
       "      <td>-2.0</td>\n",
       "      <td>0.501338</td>\n",
       "      <td>999</td>\n",
       "      <td>666</td>\n",
       "      <td>test</td>\n",
       "      <td>0.059795</td>\n",
       "      <td>0.030272</td>\n",
       "      <td>...</td>\n",
       "      <td>-0.082347</td>\n",
       "      <td>0.140996</td>\n",
       "      <td>0.128386</td>\n",
       "      <td>-0.036608</td>\n",
       "      <td>0.029628</td>\n",
       "      <td>-0.124877</td>\n",
       "      <td>-0.140478</td>\n",
       "      <td>0.088573</td>\n",
       "      <td>0.030272</td>\n",
       "      <td>0.059795</td>\n",
       "    </tr>\n",
       "    <tr>\n",
       "      <th>9</th>\n",
       "      <td>0</td>\n",
       "      <td>H_-2_-2_0.501338.dat</td>\n",
       "      <td>-2.0</td>\n",
       "      <td>-2.0</td>\n",
       "      <td>0.501338</td>\n",
       "      <td>999</td>\n",
       "      <td>666</td>\n",
       "      <td>test</td>\n",
       "      <td>0.141605</td>\n",
       "      <td>0.013497</td>\n",
       "      <td>...</td>\n",
       "      <td>-0.035718</td>\n",
       "      <td>-0.110014</td>\n",
       "      <td>-0.082452</td>\n",
       "      <td>0.146084</td>\n",
       "      <td>0.152588</td>\n",
       "      <td>-0.067575</td>\n",
       "      <td>-0.087187</td>\n",
       "      <td>-0.043484</td>\n",
       "      <td>0.013497</td>\n",
       "      <td>0.141605</td>\n",
       "    </tr>\n",
       "  </tbody>\n",
       "</table>\n",
       "<p>10 rows × 108 columns</p>\n",
       "</div>"
      ],
      "text/plain": [
       "   id                  path   t1   t2   winding  phase  pred_phase type_of  \\\n",
       "0   0  H_-2_-2_0.501338.dat -2.0 -2.0  0.501338    999         666    test   \n",
       "1   0  H_-2_-2_0.501338.dat -2.0 -2.0  0.501338    999         666    test   \n",
       "2   0  H_-2_-2_0.501338.dat -2.0 -2.0  0.501338    999         666    test   \n",
       "3   0  H_-2_-2_0.501338.dat -2.0 -2.0  0.501338    999         666    test   \n",
       "4   0  H_-2_-2_0.501338.dat -2.0 -2.0  0.501338    999         666    test   \n",
       "5   0  H_-2_-2_0.501338.dat -2.0 -2.0  0.501338    999         666    test   \n",
       "6   0  H_-2_-2_0.501338.dat -2.0 -2.0  0.501338    999         666    test   \n",
       "7   0  H_-2_-2_0.501338.dat -2.0 -2.0  0.501338    999         666    test   \n",
       "8   0  H_-2_-2_0.501338.dat -2.0 -2.0  0.501338    999         666    test   \n",
       "9   0  H_-2_-2_0.501338.dat -2.0 -2.0  0.501338    999         666    test   \n",
       "\n",
       "      feat0     feat1  ...    feat90    feat91    feat92    feat93    feat94  \\\n",
       "0 -0.130965  0.301130  ... -0.080279 -0.115687 -0.174988  0.245064  0.319763   \n",
       "1 -0.130965 -0.301130  ... -0.080279  0.115687 -0.174988 -0.245064  0.319763   \n",
       "2 -0.148414 -0.042467  ...  0.185442 -0.080620 -0.066211 -0.121339 -0.151700   \n",
       "3 -0.069630 -0.026147  ...  0.102009 -0.100671 -0.081002 -0.020715 -0.058717   \n",
       "4  0.010206 -0.014625  ...  0.047555 -0.041368 -0.018852 -0.017673 -0.023377   \n",
       "5  0.116962  0.021475  ... -0.086901 -0.045676 -0.028034  0.129266  0.130083   \n",
       "6  0.037175 -0.095882  ... -0.027490  0.046168  0.063419 -0.041630 -0.085769   \n",
       "7  0.027709 -0.038180  ...  0.123344 -0.114320 -0.057118 -0.040291 -0.061263   \n",
       "8  0.059795  0.030272  ... -0.082347  0.140996  0.128386 -0.036608  0.029628   \n",
       "9  0.141605  0.013497  ... -0.035718 -0.110014 -0.082452  0.146084  0.152588   \n",
       "\n",
       "     feat95    feat96    feat97    feat98    feat99  \n",
       "0 -0.059082 -0.000556 -0.245133 -0.301130  0.130965  \n",
       "1  0.059082 -0.000556  0.245133 -0.301130 -0.130965  \n",
       "2  0.192513  0.191642 -0.050956 -0.042467 -0.148414  \n",
       "3  0.115834  0.118274 -0.054666 -0.026147 -0.069630  \n",
       "4  0.031447  0.010280  0.000925  0.014625 -0.010206  \n",
       "5 -0.098190 -0.104188 -0.007911  0.021475  0.116962  \n",
       "6 -0.010604 -0.009822  0.084024  0.095882 -0.037175  \n",
       "7  0.087153  0.029599 -0.001276  0.038180 -0.027709  \n",
       "8 -0.124877 -0.140478  0.088573  0.030272  0.059795  \n",
       "9 -0.067575 -0.087187 -0.043484  0.013497  0.141605  \n",
       "\n",
       "[10 rows x 108 columns]"
      ]
     },
     "execution_count": 24,
     "metadata": {},
     "output_type": "execute_result"
    }
   ],
   "source": [
    "simulation.dataframe.head(10)"
   ]
  },
  {
   "cell_type": "markdown",
   "metadata": {
    "papermill": {
     "duration": 0.03412,
     "end_time": "2020-07-09T22:23:14.268396",
     "exception": false,
     "start_time": "2020-07-09T22:23:14.234276",
     "status": "completed"
    },
    "tags": []
   },
   "source": [
    "#### Viewing a random sample"
   ]
  },
  {
   "cell_type": "code",
   "execution_count": 25,
   "metadata": {
    "execution": {
     "iopub.execute_input": "2020-07-09T22:23:14.340692Z",
     "iopub.status.busy": "2020-07-09T22:23:14.340361Z",
     "iopub.status.idle": "2020-07-09T22:23:14.376541Z",
     "shell.execute_reply": "2020-07-09T22:23:14.376208Z"
    },
    "papermill": {
     "duration": 0.072988,
     "end_time": "2020-07-09T22:23:14.376592",
     "exception": false,
     "start_time": "2020-07-09T22:23:14.303604",
     "status": "completed"
    },
    "tags": []
   },
   "outputs": [
    {
     "name": "stdout",
     "output_type": "stream",
     "text": [
      "CPU times: user 18 ms, sys: 7.99 ms, total: 25.9 ms\n",
      "Wall time: 25.7 ms\n"
     ]
    }
   ],
   "source": [
    "%%time\n",
    "if simulation.fourier_mode is not None:\n",
    "    simulation.fourier_dataframe.sample(frac=0.1, replace=False)"
   ]
  },
  {
   "cell_type": "markdown",
   "metadata": {
    "papermill": {
     "duration": 0.035122,
     "end_time": "2020-07-09T22:23:14.447048",
     "exception": false,
     "start_time": "2020-07-09T22:23:14.411926",
     "status": "completed"
    },
    "tags": []
   },
   "source": [
    "#### Checking train/val/test splits again"
   ]
  },
  {
   "cell_type": "code",
   "execution_count": 26,
   "metadata": {
    "execution": {
     "iopub.execute_input": "2020-07-09T22:23:14.518380Z",
     "iopub.status.busy": "2020-07-09T22:23:14.518060Z",
     "iopub.status.idle": "2020-07-09T22:23:14.857337Z",
     "shell.execute_reply": "2020-07-09T22:23:14.857021Z"
    },
    "papermill": {
     "duration": 0.375857,
     "end_time": "2020-07-09T22:23:14.857388",
     "exception": false,
     "start_time": "2020-07-09T22:23:14.481531",
     "status": "completed"
    },
    "tags": []
   },
   "outputs": [
    {
     "name": "stdout",
     "output_type": "stream",
     "text": [
      "% train:  0.4208199969516842\n",
      "% val:  0.42066758116140834\n",
      "% test:  0.15851242188690748\n",
      "% train + val + test:  1.0\n",
      "\n",
      "\n",
      "number of train hamiltonians:  2761\n",
      "number of val hamiltonians:  2760\n",
      "number of test hamiltonians:  1040\n",
      "total number of hamiltonians:  6561\n",
      "\n",
      "\n",
      "train ids:  [2161, 4788, 5532, 3411, 2312, 4109, 4884, 4201, 2838, 5043, 5268, 4199, 1336, 6289, 6421, 2806, 855, 6005, 4549, 1517, 519, 2994, 3928, 6443, 3801, 5724, 4384, 511, 3969, 4970, 3178, 1930, 5704, 4137, 1042, 4171, 2713, 2487, 4563, 1677, 6334, 2195, 4872, 4380, 5234, 5923, 5953, 1871, 1418, 3591, 5815, 683, 3634, 4316, 2981, 2601, 5505, 1759, 3785, 3759, 565, 5645, 3769, 3269, 1504, 5510, 2095, 5425, 5457, 6335, 29, 3338, 4150, 886, 679, 4039, 5178, 3215, 847, 2228, 1523, 3138, 4237, 4220, 4031, 1158, 4224, 1540, 4649, 2090, 3356, 3375, 5349, 3875, 3873, 1176, 1828, 5585, 1526, 950, 1603, 4659, 1675, 6240, 4853, 4602, 4005, 809, 4095, 3511, 1955, 3568, 1519, 2914, 562, 1288, 5688, 5396, 1516, 4680, 6186, 5211, 4302, 6104, 4090, 838, 4692, 3134, 3632, 3011, 1674, 450, 3465, 5269, 1849, 61, 2389, 478, 6244, 5423, 3551, 3758, 6506, 4358, 6442, 431, 5357, 2163, 6368, 4001, 2428, 2478, 5241, 2190, 5674, 3933, 3168, 4657, 4113, 3718, 2282, 5613, 2616, 3650, 2638, 605, 672, 3409, 1276, 5306, 3814, 555, 5610, 1623, 4419, 6266, 4935, 3186, 231, 382, 2509, 3431, 3249, 5807, 6222, 4289, 5750, 1417, 589, 796, 5706, 5541, 4904, 5146, 5931, 5855, 5789, 2265, 6250, 3446, 6192, 2417, 4168, 2955, 219, 5958, 1361, 2257, 4151, 4992, 2947, 6319, 4328, 587, 2586, 1364, 852, 2160, 4694, 5214, 2243, 209, 1946, 2769, 2561, 1028, 6345, 5486, 3275, 6413, 1842, 6541, 6031, 2525, 1106, 5186, 2363, 1612, 6182, 3827, 345, 6255, 4169, 4470, 4656, 6023, 4490, 5064, 1007, 3725, 1011, 5428, 2117, 5867, 1896, 4851, 2313, 2716, 3150, 5754, 5042, 1289, 4555, 475, 6057, 5027, 4778, 5531, 301, 1866, 4221, 6293, 1355, 6034, 1413, 1901, 2303, 1521, 3477, 3686, 2508, 1528, 1492, 948, 3788, 2488, 3263, 5286, 1610, 1585, 2971, 4763, 2778, 4889, 1373, 6455, 1330, 4286, 2956, 5122, 198, 1894, 3594, 1352, 2568, 1582, 1485, 6535, 2970, 443, 3500, 6341, 6522, 4438, 1262, 2839, 2472, 3008, 3329, 4913, 1766, 4525, 135, 967, 4485, 2528, 1498, 2755, 5091, 320, 4043, 1167, 3582, 3064, 5633, 2411, 401, 4007, 1527, 1357, 2744, 4344, 1018, 314, 5424, 5488, 2394, 4790, 4860, 3463, 4160, 3454, 4762, 2341, 6365, 4204, 5623, 1086, 1921, 5544, 4717, 970, 2809, 6418, 5586, 1004, 6431, 527, 1277, 5946, 1899, 3748, 4311, 2888, 6101, 5045, 1131, 5120, 6055, 1039, 1351, 2430, 1924, 6382, 5034, 2284, 6169, 5368, 456, 6140, 6521, 5013, 237, 2986, 3754, 789, 534, 2915, 5265, 958, 2917, 6113, 5944, 4075, 6540, 1682, 221, 6201, 1297, 4499, 5800, 2466, 2935, 5966, 3812, 446, 6126, 4154, 2571, 3760, 3079, 2945, 3950, 3911, 2164, 6280, 2196, 3613, 1570, 5563, 4856, 1777, 3534, 1693, 3924, 5466, 516, 503, 5139, 6249, 6483, 2827, 4469, 3954, 5766, 53, 5693, 4369, 1100, 1381, 4166, 3536, 4661, 5731, 3623, 2663, 2469, 5685, 73, 1533, 4768, 1282, 3054, 4118, 1345, 5650, 1859, 1425, 4178, 2730, 2685, 5078, 3102, 3897, 5798, 593, 6380, 1162, 4897, 6529, 2771, 178, 3121, 358, 6243, 5238, 2158, 6430, 5808, 4804, 1019, 3745, 3682, 5893, 6545, 3653, 793, 6453, 1993, 5206, 5147, 4769, 4891, 3387, 618, 4776, 4432, 4550, 2145, 5675, 2548, 1109, 884, 18, 2752, 670, 4365, 2918, 2352, 4662, 2855, 3738, 2929, 1864, 2893, 2115, 962, 6544, 3765, 5554, 2633, 2905, 1773, 6025, 1985, 5377, 5507, 2082, 6520, 3110, 2562, 6166, 3856, 2991, 4541, 2251, 6026, 4268, 3790, 5367, 2018, 3665, 524, 784, 3434, 3800, 1683, 4055, 6271, 2493, 3119, 926, 4350, 1272, 1931, 4200, 4158, 4685, 6207, 5751, 5970, 6247, 2928, 802, 4283, 1734, 3397, 2647, 3421, 2670, 4507, 5344, 5965, 2841, 2077, 1839, 5264, 14, 1435, 3684, 5556, 2881, 103, 4187, 2804, 725, 1590, 752, 1494, 109, 1112, 3830, 3259, 95, 4714, 4206, 3967, 6465, 59, 2499, 1120, 1613, 5035, 2123, 4104, 5621, 3595, 3909, 3770, 1746, 5850, 1052, 6254, 2396, 4564, 4586, 2547, 4547, 5848, 3640, 628, 319, 5223, 403, 871, 1935, 4179, 2995, 2507, 1793, 424, 423, 3427, 3130, 1626, 4989, 3163, 2665, 5812, 2368, 4914, 2853, 222, 5232, 5270, 3952, 6214, 4504, 4222, 3706, 702, 4010, 4320, 4313, 1699, 3381, 5624, 4321, 2735, 428, 1241, 364, 5669, 1497, 777, 883, 6352, 873, 1543, 712, 6277, 6129, 5549, 887, 4486, 3727, 2843, 1341, 1831, 3154, 1177, 2443, 2030, 3424, 3980, 2644, 1743, 4391, 2667, 4213, 2764, 122, 1273, 5202, 6469, 5975, 4327, 1601, 5978, 4971, 875, 6193, 2270, 3073, 879, 3092, 4193, 3584, 645, 5864, 2854, 1545, 4916, 510, 4765, 5392, 5015, 2480, 2579, 2185, 4648, 5856, 5065, 1784, 3926, 5046, 3469, 124, 451, 4106, 2335, 3177, 4621, 375, 1996, 1848, 5880, 722, 5517, 5020, 4414, 2011, 186, 2851, 1181, 3404, 5218, 5316, 6079, 78, 3848, 483, 3970, 4849, 4235, 6089, 1013, 5276, 2608, 42, 3903, 1298, 4123, 1671, 5924, 2875, 1420, 5921, 3627, 876, 5593, 710, 5558, 2901, 1084, 480, 4341, 5175, 104, 2812, 3643, 3689, 5683, 1402, 4229, 2065, 3075, 5920, 2978, 4540, 3755, 4878, 5776, 3077, 2753, 6036, 5315, 3475, 2698, 3955, 3009, 1163, 3732, 2767, 2062, 1575, 4495, 1340, 1091, 629, 770, 2527, 2404, 359, 2109, 2244, 3384, 2569, 3352, 3490, 5311, 3327, 1817, 2353, 146, 3212, 4664, 2392, 4953, 5210, 230, 6412, 5616, 639, 4281, 790, 2966, 388, 792, 1998, 5896, 2016, 4173, 930, 4969, 2122, 4750, 5697, 4551, 3628, 5560, 5282, 2722, 806, 438, 4287, 2691, 3343, 3246, 2316, 147, 422, 1412, 1424, 4111, 3312, 1991, 3679, 2031, 5725, 4441, 4339, 943, 1951, 1937, 260, 5436, 304, 512, 2630, 3842, 4997, 4092, 3183, 2314, 5028, 1981, 58, 2089, 1598, 6407, 4995, 5954, 1325, 4752, 6488, 1778, 6515, 5278, 5862, 2146, 1367, 4773, 2529, 5871, 3930, 6432, 1775, 6456, 2337, 3105, 4984, 5652, 3400, 4566, 961, 5529, 4742, 5072, 5039, 5772, 3282, 1818, 6401, 2646, 4323, 6299, 6523, 2012, 3711, 4172, 3318, 4017, 2386, 4267, 4034, 2104, 1672, 3567, 5813, 1747, 1002, 5067, 4883, 5222, 4149, 114, 4139, 2346, 2326, 952, 858, 6161, 384, 1912, 890, 1925, 2673, 3499, 5599, 4745, 1327, 2032, 5952, 263, 2813, 4558, 5681, 3857, 5472, 2628, 542, 4065, 4797, 54, 196, 3573, 597, 3084, 2113, 4667, 4705, 750, 3354, 1408, 3264, 5076, 3975, 709, 5679, 2999, 1431, 2921, 2957, 5845, 1202, 2862, 686, 3076, 436, 856, 5394, 1430, 99, 5644, 6481, 5604, 5442, 4858, 4488, 6526, 5462, 2879, 4434, 3492, 5791, 4966, 3235, 5093, 4979, 3884, 3569, 1196, 6486, 2278, 1874, 505, 142, 919, 2318, 3452, 3694, 3224, 5444, 317, 3103, 2366, 2066, 4233, 1437, 1995, 607, 677, 5630, 3899, 293, 3813, 3606, 2305, 6083, 3953, 5179, 6275, 2118, 6268, 390, 5267, 4279, 5062, 6093, 2801, 3462, 3564, 5861, 1439, 3242, 2526, 1285, 5108, 4156, 4643, 161, 4962, 1170, 1427, 4337, 6354, 2225, 2061, 3299, 1915, 4271, 3635, 839, 4933, 3014, 5131, 1292, 1245, 3442, 5703, 6177, 6039, 6439, 6463, 3001, 1344, 3671, 1958, 2073, 1213, 206, 2475, 5601, 4614, 853, 1280, 3106, 763, 3241, 4569, 3518, 5037, 6179, 5627, 5341, 4634, 1949, 2019, 880, 3922, 3276, 4728, 6364, 603, 98, 4751, 5262, 2983, 3614, 6018, 3798, 5145, 2598, 6142, 4789, 5779, 2960, 5307, 3796, 3923, 3435, 6004, 1003, 2248, 1286, 134, 705, 3761, 1172, 5684, 4848, 3740, 3502, 6446, 238, 1045, 1920, 5199, 5340, 3436, 1212, 4816, 2494, 3104, 3396, 6528, 2988, 4945, 5753, 678, 3204, 3601, 4633, 380, 637, 3808, 1835, 1161, 3171, 306, 1118, 5397, 2523, 4655, 5137, 3906, 2573, 3649, 671, 3829, 5771, 3552, 4882, 2613, 5948, 5230, 2105, 773, 3451, 6373, 1015, 1321, 310, 4830, 4255, 2822, 5431, 4496, 4202, 3254, 3209, 4214, 4448, 4577, 132, 5710, 80, 3127, 2235, 379, 2183, 213, 540, 3111, 2086, 121, 4127, 3992, 1914, 2899, 160, 6183, 6216, 2233, 3466, 4231, 761, 4690, 1293, 5434, 4309, 6009, 2756, 5804, 5111, 3068, 5142, 179, 3238, 4030, 800, 1180, 5607, 2436, 1369, 5403, 2570, 1186, 3494, 5548, 4609, 2745, 131, 3481, 5638, 4407, 5308, 3826, 5118, 3931, 1662, 4165, 708, 3051, 3169, 156, 153, 5400, 5284, 3855, 3819, 145, 6124, 6468, 766, 3787, 4809, 1040, 2566, 3890, 4681, 6264, 4161, 1215, 693, 5345, 5632, 6198, 270, 3334, 4360, 5225, 5487, 5680, 102, 3441, 4561, 6543, 620, 2332, 3807, 5519, 6050, 1507, 3101, 2339, 3217, 5365, 3257, 5553, 1207, 4002, 6370, 2224, 6159, 4192, 2655, 1261, 2103, 3869, 2969, 2930, 51, 5398, 6332, 4073, 2302, 2814, 5618, 3419, 2003, 148, 5059, 2811, 2642, 3156, 2220, 5136, 2671, 6221, 2194, 2963, 4803, 3108, 4994, 5882, 850, 1741, 141, 2736, 2634, 1681, 402, 1334, 4713, 3852, 3096, 1500, 5836, 6178, 2202, 3530, 4223, 4128, 1190, 3498, 724, 2588, 2967, 4815, 2884, 3505, 1077, 937, 5209, 2425, 2798, 3223, 4617, 2474, 2484, 2035, 2431, 691, 3610, 1953, 5153, 1689, 4963, 6547, 4338, 4802, 5774, 3558, 4792, 77, 4411, 4537, 6327, 1786, 6210, 3026, 2749, 1589, 453, 1978, 4028, 4539, 2521, 5631, 5608, 3767, 1843, 2934, 4726, 5455, 1450, 6028, 6458, 1125, 3072, 3896, 1753, 6128, 2802, 4506, 6272, 4960, 2989, 554, 1119, 4070, 3779, 2324, 2437, 4135, 1567, 6281, 4695, 5353, 4862, 261, 4129, 6029, 5614, 4607, 5727, 5778, 6495, 430, 3676, 2093, 5522, 1936, 398, 1657, 925, 4693, 614, 6130, 64, 1326, 1250, 5526, 4915, 2173, 5833, 609, 6095, 3663, 4616, 508, 6252, 2664, 6504, 2614, 997, 3995, 1099, 3291, 1201, 6112, 4706, 5802, 4808, 5277, 3040, 1941, 3707, 556, 4006, 1923, 5154, 3237, 2532, 689, 6172, 5520, 1350, 5530, 4194, 3093, 2711, 2824, 1244, 2887, 4079, 5272, 4451, 1486, 5303, 4857, 5106, 3658, 3817, 1242, 6346, 1926, 1436, 2416, 2725, 1571, 5769, 3440, 5941, 6122, 588, 1005, 5363, 2741, 6096, 1159, 5870, 1404, 550, 6251, 1873, 5971, 4996, 6360, 3459, 2153, 3321, 4817, 283, 3654, 1763, 4334, 2583, 1047, 776, 6546, 931, 4435, 3730, 3151, 2070, 4026, 5865, 3723, 6127, 5523, 4531, 4628, 3216, 4021, 2359, 2794, 619, 4053, 4871, 49, 4422, 5841, 4176, 1812, 4388, 4189, 1739, 3124, 1686, 5110, 4190, 3816, 1667, 1755, 3831, 6294, 6361, 2531, 5190, 615, 6014, 3882, 1026, 6485, 4682, 1134, 5016, 6358, 1659, 728, 4080, 341, 1433, 4526, 6116, 4475, 6011, 1649, 5295, 70, 6058, 2936, 5545, 1338, 4242, 45, 4155, 3041, 754, 466, 6509, 484, 2799, 4834, 4212, 4782, 1776, 2693, 703, 4424, 1275, 1858, 4012, 3994, 1708, 6375, 3497, 297, 31, 4278, 5107, 2441, 1929, 2602, 4735, 3874, 3496, 3453, 1484, 2273, 3047, 2405, 1012, 1489, 2229, 4077, 4967, 1661, 3944, 218, 6030, 2142, 5054, 5957, 4374, 2333, 212, 5557, 5694, 1684, 2144, 2231, 590, 287, 3418, 1857, 3023, 1764, 2176, 386, 1614, 5128, 5339, 3464, 5430, 6047, 4986, 1295, 1095, 4093, 3974, 4236, 2516, 881, 5360, 6536, 4619, 2648, 3599, 4404, 3482, 291, 3586, 4076, 2941, 149, 4364, 5298, 1731, 4351, 1194, 4683, 5852, 5539, 5757, 2397, 4733, 5032, 3470, 1349, 1984, 112, 5708, 4985, 5945, 1679, 6527, 6060, 4570, 368, 2236, 1580, 4000, 3053, 3695, 5274, 5837, 3365, 3331, 4471, 6451, 5151, 6537, 1591, 2931, 2522, 6539, 3633, 180, 5682, 1257, 1252, 479, 4896, 1496, 999, 4748, 3261, 1324, 3176, 3915, 726, 3805, 6238, 4088, 753, 2617, 592, 1457, 2856, 4108, 4887, 2758, 994, 5373, 3997, 3719, 5890, 5456, 3678, 437, 831, 4484, 5976, 5182, 5600, 3371, 3232, 274, 5273, 4516, 4300, 4243, 1206, 4722, 6045, 529, 4248, 2748, 945, 3433, 586, 4845, 1596, 4832, 1744, 1281, 3417, 6385, 3413, 2909, 3559, 697, 2497, 6220, 775, 3229, 4412, 22, 4888, 2581, 3553, 2687, 1574, 3087, 4689, 2558, 4870, 5205, 3872, 6086, 3641, 305, 4352, 558, 3074, 2193, 3302, 1927, 2370, 844, 4082, 4383, 1041, 1534, 5150, 1819, 3838, 6284, 2438, 4134, 5056, 1600, 3803, 5404, 1869, 2107, 2249, 3916, 5637, 2777, 25, 5383, 1685, 2751, 4827, 6424, 3630, 2315, 4306, 3993, 296, 5874, 2178, 6369, 3071, 3948, 5134, 5722, 2177, 5183, 2817, 6138, 4308, 5587, 3877, 3934, 2029, 5643, 4578, 4538, 5127, 2076, 6452, 6049, 5506, 4824, 1658, 5058, 4144, 4626, 5963, 861, 4723, 5570, 3593, 1410, 4196, 241, 1705, 3512, 2639, 1838, 4978, 2594, 434, 4528, 6003, 3456, 67, 1332, 5849, 4103, 236, 2023, 1938, 4408, 1593, 1505, 4473, 4122, 3843, 3330, 4094, 460, 2391, 5914, 2631, 3188, 1251, 6295, 2718, 2345, 74, 545, 6206, 2321, 4393, 23, 3777, 199, 3774, 4959, 4725, 4324, 1078, 3670, 1082, 5622, 272, 3850, 3597, 5193, 226, 284, 1525, 6163, 5716, 2072, 5876, 2261, 1375, 3644, 3687, 1087, 6429, 4062, 4296, 2203, 5718, 6082, 4927, 3346, 3542, 4587, 1363, 2552, 6274, 1189, 4009, 2780, 944, 5359, 3094, 5868, 3900, 5609, 3844, 2913, 404, 381, 3982, 2361, 2902, 268, 1782, 1462, 362, 4699, 5157, 3847, 3879, 4881, 3622, 2179, 150, 6261, 3867, 2961, 4066, 5512, 3367, 6347, 1204, 2559, 4601, 959, 6081, 515, 3286, 223, 19, 5212, 2897, 5243, 5509, 6538, 4715, 4257, 1335, 396, 5132, 635, 3713, 4975, 4636, 3368, 2880, 2039, 3136, 6423, 473, 3863, 1200, 4497, 4125, 1323, 1178, 5877, 5617, 5449, 3335, 2004, 2116, 2017, 5342, 1124, 843, 3172, 2578, 2102, 1453, 3672, 756, 863, 2779, 462, 76, 116, 4990, 5476, 3489, 4852, 3088, 633, 3998, 5117, 3483, 3811, 1588, 5119, 1702, 2992, 1824, 3996, 3347, 1602, 1049, 5767, 6348, 3943, 2599, 2907, 468, 5294, 4110, 1031, 836, 4861, 1997, 5075, 313, 138, 869, 4177, 3555, 1854, 4501, 2595, 2985, 4280, 2754, 4747, 5698, 1654, 3891, 6038, 6381, 192, 5719, 3756, 6502, 6010, 4159, 6239, 4016, 340, 1750, 5668, 1104, 3184, 3557, 2167, 3091, 561, 6444, 5686, 2344, 3165, 5325, 2156, 5691, 3797, 834, 5184, 2796, 75, 5934, 1294, 4520, 3773, 4449, 239, 2732, 2506, 435, 1687, 445, 3010, 3751, 2141, 1709, 3018, 5148, 3194, 518, 1628, 1850, 4519, 862, 2782, 4907, 617, 5427, 101, 3070, 3288, 5378, 3708, 3804, 1847, 3648, 3123, 3062, 4651, 2492, 1093, 5053, 269, 3015, 5677, 4631, 632, 2088, 215, 3562, 1622, 265, 346, 1101, 3733, 2505, 5806, 2275, 5351, 537, 5239, 1278, 472, 4453, 6241, 6400, 3448, 1103, 4774, 6078, 4293, 3100, 3461, 2775, 4770, 1789, 2259, 4445, 1051, 996, 6288, 4124, 4447, 4698, 3775, 3548, 1820, 1748, 4068, 193, 2301, 2165, 4436, 4493, 4426, 6551, 2577, 1694, 1094, 3651, 1423, 5565, 5936, 3771, 3538, 6331, 181, 6457, 2946, 5008, 2714, 2186, 1900, 1017, 6080, 5207, 1990, 4219, 933, 646, 323, 3395, 1666, 780, 917, 1769, 1735, 5231, 2908, 5839, 2477, 4929, 6119, 4297, 6516, 2940, 3326, 5055, 4423, 3722, 2400, 4781, 552, 3407, 3364, 1655, 143, 5634, 1542, 5696, 1008, 1108, 4775, 1695, 2450, 3617, 3612, 2974, 4061, 1772, 262, 4863, 5099, 522, 4642, 3717, 6109, 1673, 3795, 5995, 3339, 3523, 220, 1950, 3439, 2098, 4252, 6490, 5354, 4241, 6414, 5116, 2274, 717, 788, 3947, 3981, 3050, 1197, 707, 6498, 3809, 4965, 2175, 531, 4630, 6302, 3959, 2605, 1353, 3655, 1617, 4877, 2825, 4991, 5030, 3244, 969, 804, 2166, 5676, 4899, 2906, 3503, 3894, 6205, 123, 1116, 2182, 4230, 4140, 3314, 4653, 271, 113, 535, 4117, 6114, 3991, 1861, 2668, 5881, 4906, 759, 1372, 3201, 3986, 6363, 832, 4057, 6496, 2726, 2894, 2446, 4741, 3153, 687, 4977, 5592, 3046, 1046, 6450, 353, 2739, 5197, 4764, 509, 5809, 4638, 5236, 3122, 4041, 1581, 4209, 3883, 6171, 5859, 4567, 363, 137, 2864, 233, 6267, 6134, 106, 1254, 452, 2800, 2421, 3596, 3988, 2688, 5922, 3253, 3345, 3239, 3957, 1113, 4998, 308, 6357, 5258, 3743, 4866, 1259, 3965, 514, 1988, 3066, 3836, 3742, 4687, 3311, 5237, 5926, 1948, 2033, 2837, 3214, 2829, 5964, 2964, 5224, 3625, 5777, 2724, 2288, 2092, 376, 5185, 285, 2434, 621, 5762, 2720, 3571, 2187, 2550, 2513, 3373, 2306, 1284, 4329, 2772, 3833, 4691, 532, 6168, 1248, 2172, 549, 2553, 3262, 3057, 1490, 6351, 3438, 3880, 1771, 5972, 6403, 4720, 3283, 4973, 6550, 4780, 3566, 6170, 4668, 5712, 786, 2696, 3821, 5101, 4089, 2268, 3029, 5176, 1426, 4534, 290, 350, 2683, 1208, 3902, 3221, 3893, 3539, 1944, 3162, 749, 1895, 1733, 2959, 1291, 355, 3702, 5628, 932, 4476, 2026, 3839, 1989, 2816, 602, 3516, 3386, 3520, 5242, 6286, 4867, 207, 2413, 2108, 3284, 6427, 5961, 6405, 3208, 4559, 1537, 5439, 183, 613, 3853, 3642, 536, 5973, 3912, 2976, 4701, 277, 6099, 5260, 2038, 1852, 5399, 1749, 4188, 4552, 2803, 5323, 5790, 2365, 3960, 6417, 3917, 5385, 5968, 3507, 4037, 2518, 2009, 3042, 1650, 4259, 1123, 2498, 1502, 913, 4721, 5564, 3324, 2320, 1975, 2080, 373, 606, 1493, 5834, 190, 626, 4542, 1816, 6428, 110, 278, 1117, 4322, 3004, 757, 69, 1034, 5783, 6460, 3563, 3962, 4766, 1191, 3394, 4392, 1267, 5387, 4033, 2924, 3180, 5714, 3020, 2797, 1514, 5485, 2422, 3914, 4545, 2640, 5969, 3403, 392, 224, 546, 3472, 5536, 1461, 3296, 1621, 1027, 5927, 4262, 3024, 5464, 4054, 927, 4736, 6480, 3298, 4116, 3467, 4976, 3501, 4498, 604, 696, 5437, 3666, 4898, 439, 6419, 2241, 4957, 4042, 1707, 504, 1024, 2549, 5547, 1464, 4846, 4637, 2226, 3932, 5375, 5481, 6217, 3726, 5932, 6493, 4317, 4767, 1269, 3297, 3888, 1690, 4819, 530, 2656, 6115, 4087, 3491, 34, 3099, 5070, 3271, 5302, 2876, 2695, 5098, 5516, 4786, 2904, 4646, 3834, 4218, 5296, 2014, 1767, 2979, 464, 1986, 56, 5756, 1501, 4040]\n",
      "val ids:  [2607, 3055, 4983, 4885, 1698, 5858, 3598, 6107, 4270, 2036, 3570, 5891, 1531, 5261, 4934, 197, 1652, 108, 1855, 4417, 2759, 130, 3340, 3357, 801, 3078, 1038, 4004, 4198, 4875, 4138, 4599, 5695, 3983, 4197, 3504, 5287, 3420, 3322, 1813, 3764, 5511, 1706, 4635, 1495, 2721, 3921, 6464, 5426, 1742, 1994, 5129, 1451, 6484, 2699, 1407, 5041, 1825, 3458, 3021, 3447, 4461, 4729, 6291, 3638, 4589, 4903, 995, 5649, 528, 5514, 3416, 4085, 3646, 2590, 185, 2658, 1851, 1599, 5187, 1185, 915, 4096, 4652, 4947, 4457, 1342, 6322, 3958, 1445, 922, 4576, 1260, 968, 1429, 3506, 3545, 2354, 4603, 4314, 140, 6459, 4974, 1893, 5374, 5235, 5204, 6511, 6278, 3822, 4936, 4035, 5566, 966, 5937, 1830, 5063, 6461, 5155, 6181, 1169, 5448, 3710, 4331, 4452, 3342, 4463, 1023, 6282, 3636, 279, 3480, 6043, 2643, 370, 3390, 3389, 2087, 6426, 1897, 2835, 1992, 1597, 6059, 2304, 4343, 3022, 6125, 3449, 3587, 2610, 1157, 127, 3688, 3038, 5594, 4011, 3432, 5619, 2641, 1025, 5066, 2737, 954, 4583, 5219, 3762, 1918, 2476, 3202, 4783, 2091, 3757, 5918, 2068, 6002, 4353, 3049, 1762, 716, 1701, 2823, 1576, 4298, 1736, 3697, 3185, 5785, 3374, 4710, 6533, 4749, 1033, 3866, 936, 6041, 3145, 5010, 2807, 4492, 2828, 3546, 1456, 5188, 5309, 1416, 6157, 6482, 2239, 1405, 4940, 833, 152, 6117, 6209, 3990, 1536, 4727, 2473, 5886, 2432, 5201, 4527, 2307, 4225, 5994, 4170, 4557, 4912, 4290, 6194, 1663, 5266, 1097, 4163, 5764, 16, 5402, 3213, 4288, 2112, 5391, 1908, 1947, 3265, 5672, 1740, 2938, 5226, 1814, 1522, 315, 5322, 1508, 1331, 184, 5092, 596, 393, 4850, 6467, 3782, 5123, 4711, 4894, 1983, 1192, 6013, 1579, 3659, 3683, 5105, 2409, 6204, 3423, 4515, 1616, 2138, 2336, 4600, 3044, 641, 564, 3473, 372, 4554, 2657, 6505, 4679, 5299, 1085, 4215, 928, 1168, 1096, 5263, 3823, 2069, 1697, 55, 3468, 2675, 2895, 3085, 3554, 300, 4697, 2662, 3577, 3081, 5312, 13, 5401, 4911, 4003, 3266, 1249, 2423, 698, 3949, 6503, 2654, 2056, 2151, 5588, 4208, 3946, 4644, 5878, 551, 5275, 2933, 4307, 3267, 1211, 1691, 3939, 2149, 2686, 1243, 158, 3615, 2106, 5671, 1092, 6387, 4050, 177, 242, 2323, 3938, 2996, 807, 929, 4258, 1499, 5713, 5917, 447, 1692, 6425, 4568, 2842, 3667, 1512, 2262, 1356, 5728, 5928, 189, 3942, 1518, 1987, 3207, 5049, 6298, 867, 2481, 5854, 203, 15, 1359, 2008, 4618, 1605, 6139, 4195, 3660, 4295, 2419, 3824, 4415, 4880, 6445, 2356, 2514, 4647, 1853, 6374, 1903, 3531, 6372, 5025, 5838, 6245, 1133, 3721, 1688, 4370, 3541, 2343, 6131, 1870, 35, 938, 3589, 2990, 2982, 2188, 2191, 400, 6404, 2554, 3864, 1020, 3514, 5866, 6409, 3061, 870, 4847, 2279, 4483, 216, 1982, 771, 6440, 4696, 5376, 1539, 4443, 2286, 6356, 2264, 154, 6190, 3319, 5459, 3290, 2157, 2830, 6258, 5883, 4312, 195, 2606, 1447, 1608, 3320, 1827, 2071, 5711, 5256, 3793, 4810, 3002, 2593, 458, 3173, 506, 6256, 1441, 6519, 4326, 2283, 1730, 3735, 3252, 354, 960, 2629, 4744, 3778, 521, 2886, 4245, 2877, 4069, 6087, 5257, 4611, 3898, 3372, 1050, 6514, 4928, 5044, 2923, 6174, 4022, 842, 369, 3158, 924, 5288, 4120, 307, 3388, 2328, 2681, 4373, 1079, 3141, 5615, 2560, 3028, 1274, 1509, 5386, 1296, 4372, 2362, 2512, 1751, 2439, 6133, 4459, 6176, 1299, 3310, 860, 2987, 1837, 3789, 4249, 1573, 6462, 941, 321, 377, 539, 1266, 5061, 5191, 1339, 5538, 715, 2984, 3799, 427, 2447, 2114, 4784, 28, 5591, 2013, 758, 4791, 4368, 791, 1488, 1165, 4798, 6123, 3961, 1455, 5894, 5463, 3292, 2731, 5770, 699, 1980, 5355, 4052, 668, 3703, 303, 5787, 6517, 1239, 5602, 4416, 5421, 4045, 6353, 5432, 6323, 1346, 1329, 3645, 6300, 5285, 5508, 5446, 5636, 644, 2603, 2074, 3137, 4272, 5726, 4941, 3739, 557, 2412, 5884, 5569, 1660, 4738, 2587, 2517, 4277, 912, 229, 2495, 4931, 2998, 1287, 4724, 3746, 5160, 2448, 5720, 214, 2684, 5483, 4227, 1783, 3245, 5709, 5279, 2533, 3142, 2943, 1898, 3656, 3211, 2148, 6437, 3401, 859, 695, 4395, 5290, 4256, 5271, 4273, 5203, 3835, 781, 4828, 3393, 2001, 107, 4579, 4494, 5773, 1933, 4059, 5358, 2645, 6042, 4336, 5846, 2815, 3750, 4615, 2793, 1956, 4654, 5951, 5451, 4454, 4794, 3316, 2919, 3143, 3152, 1283, 1105, 6518, 3248, 4444, 5103, 3810, 3763, 399, 1711, 1076, 474, 1491, 343, 3219, 3098, 3126, 4333, 6333, 4357, 517, 3590, 808, 6548, 794, 4418, 5177, 5297, 1179, 3925, 155, 5935, 3652, 5687, 5916, 2325, 2636, 1164, 17, 6447, 6410, 2596, 1014, 5480, 2637, 3978, 312, 1279, 2845, 3206, 3519, 5228, 3709, 4389, 1928, 3287, 259, 2925, 1546, 208, 3227, 4356, 4254, 4397, 5550, 344, 1572, 3510, 1872, 3052, 2230, 6366, 5869, 3289, 4641, 1256, 4950, 1625, 5009, 3605, 204, 4349, 6501, 5104, 3621, 4402, 2027, 5699, 921, 4464, 5406, 228, 647, 3705, 1648, 1193, 3984, 5073, 4157, 3181, 4304, 4479, 5289, 6263, 5012, 366, 3580, 830, 3037, 3067, 5321, 1001, 2246, 2911, 426, 598, 4988, 275, 2635, 608, 2081, 2852, 3474, 4081, 5781, 1669, 1905, 5381, 3485, 2993, 4074, 2611, 3528, 2502, 6325, 5467, 6343, 5364, 3889, 795, 2555, 623, 2174, 3963, 1487, 4238, 4276, 3478, 3307, 2255, 6276, 4205, 2184, 3945, 3120, 1173, 4126, 2276, 1587, 5048, 4632, 5715, 4575, 5293, 4378, 2267, 3662, 4186, 3089, 6200, 4455, 5079, 1756, 227, 1529, 128, 5639, 5832, 2171, 6141, 3414, 2331, 704, 4671, 6212, 38, 4605, 2384, 3382, 3366, 2451, 4247, 72, 457, 3920, 3256, 2565, 676, 1322, 30, 1365, 3951, 601, 2860, 3065, 6173, 347, 151, 5338, 2426, 2524, 846, 5343, 947, 3941, 2773, 1081, 1463, 2242, 2942, 3753, 352, 3125, 3210, 4478, 2272, 6328, 5173, 3747, 3868, 292, 694, 6494, 6054, 1264, 3486, 3913, 4536, 4670, 1454, 3488, 4390, 6091, 5133, 4056, 4612, 3825, 4893, 1411, 1952, 4517, 4292, 5095, 5159, 3851, 949, 1934, 118, 2932, 4119, 783, 1444, 5215, 4556, 4367, 4025, 5021, 3535, 6016, 2582, 4902, 4869, 1195, 3359, 1781, 4640, 1532, 2489, 6218, 3901, 5180, 129, 5842, 5130, 2557, 4812, 4800, 6224, 2762, 2139, 5678, 2159, 3056, 3131, 3515, 5646, 318, 136, 3832, 1619, 3768, 6248, 2515, 2682, 6434, 5384, 3308, 3987, 5468, 2819, 3191, 6273, 6253, 1535, 5482, 3927, 5366, 1834, 914, 864, 1760, 5350, 1403, 5445, 1010, 1270, 1009, 1867, 2810, 768, 3222, 1910, 1710, 1460, 6329, 3090, 3058, 1037, 3455, 3692, 1738, 2401, 6531, 934, 2937, 68, 1198, 538, 5144, 465, 2271, 240, 4130, 5562, 6406, 4251, 4036, 26, 4597, 5114, 3285, 4743, 640, 2369, 3977, 62, 342, 3268, 5733, 4821, 1290, 4801, 566, 3045, 4284, 5835, 4522, 4523, 6208, 4132, 5518, 1758, 1121, 5998, 43, 5626, 5447, 4524, 6510, 2357, 3225, 5156, 3685, 3398, 560, 3353, 6301, 5786, 2468, 5038, 2237, 4217, 4396, 690, 4709, 3611, 225, 4361, 3870, 3027, 4450, 878, 5625, 3876, 2847, 4942, 2848, 6237, 6165, 1503, 2247, 4949, 5109, 3112, 2445, 3379, 5280, 454, 5758, 3006, 2482, 2612, 2256, 117, 2059, 4467, 5458, 1458, 2585, 1594, 5071, 4239, 4779, 2776, 5793, 3592, 3522, 295, 4930, 3976, 4491, 4822, 2406, 4964, 4175, 1656, 4532, 681, 441, 1166, 6219, 5433, 5029, 6534, 727, 4086, 2968, 1942, 2818, 3966, 4303, 6121, 4047, 1826, 2973, 4342, 194, 3664, 2743, 3881, 4142, 4468, 41, 5259, 5872, 5535, 5955, 4049, 5857, 5537, 5208, 276, 5814, 2896, 585, 4246, 3317, 6378, 4167, 3603, 4572, 3815, 2781, 1907, 2890, 803, 6530, 133, 2245, 52, 3736, 5390, 2079, 2252, 1922, 762, 6213, 5897, 751, 3426, 3069, 1569, 5504, 3272, 6262, 157, 6489, 2972, 3859, 3845, 3849, 5721, 1932, 3508, 3549, 513, 1704, 2846, 47, 6324, 1035, 1021, 3273, 2690, 3999, 765, 3908, 4823, 6102, 3129, 3348, 4029, 4185, 782, 3132, 469, 1088, 3179, 5100, 4529, 1203, 1765, 4684, 5730, 713, 953, 2403, 281, 612, 1627, 2768, 3063, 2534, 3255, 5475, 2402, 481, 482, 5853, 1415, 1210, 5629, 2205, 432, 3602, 2694, 3231, 5124, 5369, 4446, 1016, 4072, 4164, 3865, 5125, 5559, 3887, 1865, 367, 4987, 3274, 1421, 2486, 4285, 6195, 3385, 6290, 2058, 2977, 723, 3109, 1732, 4462, 4785, 6292, 5950, 4876, 4210, 5018, 6033, 4379, 3919, 3701, 1452, 1833, 805, 5892, 1844, 3637, 599, 2878, 5875, 3293, 5840, 2857, 4981, 273, 3484, 675, 1098, 4133, 5761, 3247, 3410, 429, 4521, 5879, 1354, 1440, 3350, 3910, 4573, 854, 4716, 4112, 6285, 5723, 60, 4910, 4944, 798, 4014, 4514, 1247, 3560, 3097, 2364, 3309, 6185, 5775, 5651, 4480, 4548, 3626, 311, 2504, 3657, 6497, 5729, 5670, 5863, 1737, 3128, 918, 6156, 3025, 477, 3392, 5057, 4363, 5438, 1845, 6270, 4663, 3174, 2491, 4405, 2444, 939, 5759, 1348, 2679, 4730, 3572, 4148, 202, 2501, 2007, 4703, 4746, 4795, 2015, 211, 3295, 2155, 5755, 4027, 1945, 2666, 3167, 3236, 455, 563, 1757, 3471, 2170, 397, 6279, 1265, 3251, 3408, 3885, 2962, 1624, 5977, 2697, 877, 6158, 267, 2849, 956, 2285, 835, 3166, 235, 1246, 6525, 2198, 610, 3631, 2510, 6035, 1829, 6435, 3820, 4064, 4253, 4562, 5141, 302, 5216, 4401, 5999, 2653, 1668, 2672, 4771, 4818, 1347, 4141, 2832, 559, 2892, 3234, 6052, 684, 3544, 3493, 4184, 2410, 476, 2572, 4737, 1126, 5795, 1371, 2414, 1943, 6411, 5318, 6344, 2269, 5040, 3668, 5732, 5382, 6084, 3193, 5641, 4874, 2385, 1216, 5996, 3576, 3550, 720, 611, 2719, 449, 1788, 1676, 4382, 5050, 448, 4639, 5503, 4433, 4608, 2330, 1083, 4107, 3228, 3230, 2258, 3369, 1032, 3305, 383, 5014, 3164, 774, 5611, 5031, 4465, 288, 5810, 4658, 289, 4460, 2652, 2424, 2676, 5310, 1761, 6118, 4105, 591, 3344, 622, 4622, 3964, 2057, 5606, 4855, 1132, 1328, 6085, 1919, 3529, 2649, 5195, 2485, 595, 5844, 541, 4466, 2358, 4386, 5102, 2390, 1122, 2121, 5933, 718, 5796, 4191, 5938, 2201, 4813, 4060, 1863, 5304, 4421, 1114, 772, 1911, 6362, 6466, 4805, 2997, 2858, 3904, 4381, 1578, 2429, 2723, 5889, 4982, 1524, 2728, 1187, 6433, 2199, 2774, 5196, 2415, 5227, 6211, 1876, 706, 2808, 2861, 1434, 3776, 2738, 2025, 2427, 2327, 65, 4951, 6246, 4909, 2750, 5760, 4437, 5801, 4585, 4440, 3378, 1029, 3521, 5962, 1446, 4571, 1414, 4968, 4831, 159, 5194, 3133, 4282, 889, 1102, 4376, 5283, 5019, 3159, 682, 5074, 201, 2232, 1362, 3315, 5915, 1823, 3561, 6491, 1374, 3791, 286, 2253, 2891, 1110, 4216, 4584, 6508, 5805, 2471, 3083, 868, 97, 2805, 2037, 1586, 4948, 1906, 6098, 940, 6339, 5469, 3250, 2763, 5567, 3301, 6000, 6448, 4932, 2277, 1917, 5096, 378, 5094, 2483, 2734, 5568, 964, 5200, 4610, 3624, 3412, 627, 3146, 3405, 4777, 6269, 2519, 4013, 4582, 3929, 2111, 4825, 5033, 48, 6076, 1432, 2659, 3260, 2110, 2002, 2192, 6532, 1188, 4153, 3731, 4772, 1790, 3399, 1836, 2435, 1916, 282, 2342, 5792, 442, 459, 3581, 205, 125, 6188, 2022, 139, 1821, 5135, 4355, 4162, 5949, 4114, 3979, 4844, 5126, 2903, 2099, 719, 4377, 779, 764, 630, 32, 866, 4704, 1171, 6454, 57, 642, 4330, 963, 5017, 4024, 5461, 2712, 2348, 4310, 4305, 471, 1651, 3556, 3968, 2393, 2383, 3517, 1214, 5542, 2021, 4442, 4719, 1090, 1379, 845, 5942, 5192, 5352, 5121, 2311, 4063, 2609, 6441, 4071, 2221, 6046, 2710, 3802, 6449, 5361, 3509, 6415, 998, 5673, 5356, 2761, 4943, 5305, 849, 5052, 916, 3524, 3383, 1442, 1337, 594, 1939, 6376, 3358, 2140, 6106, 5784, 2060, 1541, 6438, 6349, 2266, 5393, 4403, 1263, 2556, 4700, 4359, 2329, 3376, 5525, 5974, 2227, 5956, 1043, 2034, 5689, 3258, 5389, 4098, 5479, 2564, 5317, 4604, 4623, 1703, 3734, 2511, 6120, 4385, 3744, 3205, 2746, 5313, 234, 4806, 1792, 3892, 1754, 2189, 3918, 1406, 5047, 3406, 5291, 3377, 1868, 5143, 2367, 4477, 3574, 1779, 1615, 2592, 1443, 6187, 5158, 3304, 389, 1752, 2765, 3698, 5379, 2898, 3391, 5533, 6499, 37, 1129, 2168, 3741, 3956, 5939, 1380, 2152, 1665, 4961, 5843, 3107, 2250, 6371, 2078, 3720, 3907, 4335, 4228, 1370, 4686, 5069, 2597, 5515, 5597, 4503, 2922, 188, 1428, 3277, 3543, 3082, 5895, 4955, 5314, 882, 3681, 6202, 79, 547, 2885, 4666, 3604, 6384, 5097, 4665, 5346, 4136, 2692, 371, 2826, 6487, 5797, 2669, 5752, 2650, 5605, 2347, 4939, 4207, 4833, 2024, 2388, 2615, 96, 4859, 2589, 4718, 1360, 2317, 544, 701, 3135, 6259, 3806, 3189, 2094, 3139, 1209, 5717, 5023, 4325, 797, 6077, 5229, 625, 2075, 5534, 3669, 1787, 548, 5473, 3450, 2503, 2910, 1174, 5370, 348, 837, 4708, 463, 1175, 5763, 1515, 3794, 2064, 2834, 2084, 4972, 533, 923, 1183, 63, 4051, 4854, 425, 6422, 526, 5551, 2351, 4399, 6001, 6088, 2490, 33, 5590, 787, 2836, 5521, 5077, 935, 1048, 6287, 2350, 4046, 5026, 4152, 673, 6162, 3332, 4413, 3039, 5450, 3619, 2310, 1729, 1595, 6007, 965, 1607, 4518, 5851, 5115, 2563, 2733, 5885, 3527, 3313, 3351, 3724, 4425, 5292, 3422, 1913, 2792, 4375, 2150, 951, 4712, 3019, 2584, 6283, 3303, 1583, 1875, 3425, 2674, 1841, 3157, 5324, 3786, 4319, 5240, 191, 1609, 2309, 1130, 351, 20, 1115, 1909, 1182, 1606, 3233, 4761, 36, 4908, 5161, 4226, 4530, 4787, 1378, 6305, 4482, 721, 111, 4275, 6111, 2067, 2005, 3349, 841, 5484, 1811, 2387, 4078, 2677, 470, 66, 1604, 1768, 874, 507, 1680, 3828, 4023, 5528, 3989, 885, 3430, 525, 5887, 2889, 4565, 5371, 1584, 1459, 2319, 1653, 2322, 6203, 2944, 3783, 955, 4544, 1664, 2729, 24, 1544, 6223, 6105, 3048, 3712, 3187, 1255, 385, 5888, 6321, 2632, 4398, 6110, 5635, 5513, 3781, 2399, 5596, 5692, 5543, 1696, 1089, 1530, 1957, 2281, 3533, 6075, 2234, 5546, 4873, 50, 3182, 4232, 2143, 4560, 3616, 667, 6022, 6015, 3547, 4892, 2222, 1184, 6367, 5589, 2238, 3971, 4588, 785, 2263, 1449, 3871, 4702, 3479, 5552, 1127, 4629, 2223, 3355, 4400, 4650, 394, 2844, 4121, 4581, 3673, 5707, 1419, 6436, 3323, 3647, 4474, 5930, 4067, 105, 5301, 4301, 1022, 6318, 5174, 5943, 543, 4688, 3175, 4143, 5782, 3537, 5561, 2795, 294, 5320, 4274, 361, 4174, 4097, 4299, 4731, 6051, 4606, 5959, 3691, 316, 3696, 6512, 210, 1510, 5527, 27, 126, 857, 2551, 6012, 767, 264, 6197, 6542, 3012, 3476, 387, 6336, 643, 6097, 4354, 1506, 4250, 3585, 3415, 1620, 4318, 5612, 2000, 4886, 631, 2433, 5281, 5440, 3704, 638, 2398, 3895, 3495, 688, 1832, 2766, 3428, 1999, 4946, 5640, 176, 4535, 4937, 2154, 1376, 6056, 2467, 2408, 3699, 6199, 3674, 2535, 4261, 6383, 4868, 5470, 2883, 4472, 3588, 1678, 2169, 6092, 2574, 5443, 4865, 636, 523, 4826, 2287, 2912, 3935, 5471, 4901, 71, 6044, 144, 1618, 6189, 755, 485, 266, 3714, 5477, 3328, 5213, 3333, 3144, 1577, 5022, 4244, 888, 6167, 5372, 3370, 5036, 2530, 6024, 4543, 6136, 2850, 356, 349, 5768, 2338, 6342, 1513, 4546, 5405, 100, 865, 3749, 4083, 5925, 848, 2096, 2651, 4203, 3937, 6507, 4796, 444, 3693, 5189, 685, 5648, 2479, 1366, 4620, 6265, 714, 3402, 3677, 2727, 5765, 6399, 3095, 6137, 3457, 433, 3155, 1511, 3818, 1976, 5701, 1268, 4938, 4394, 3784, 2874, 1670, 3226, 3578, 6350, 119, 6103, 391, 553, 3639, 3841, 4362, 6402, 3846, 4799, 3270, 4115, 3629, 4371, 2975, 4240, 3013, 3715, 2204, 4147, 6040, 115, 4058, 4008, 4458, 1044, 2863, 3148, 1902, 3766, 5435, 2700, 4958, 5474, 6326, 365, 5997, 851, 6416, 2689, 3218, 1377, 6513, 6037, 2678, 3661, 1107, 971, 1611, 5478, 4410, 4332, 5811, 4625, 4926, 1258, 4234, 4814, 6549, 6191, 4487, 1030, 1520, 467, 4409, 1343, 6053, 44, 799, 4956, 1448, 4890, 3583, 4613, 4533, 5429, 3203, 3192, 6303, 4505, 946, 6006, 5603, 6524, 309, 1774, 4315, 6027, 6355, 5233, 3306, 4707, 6337, 1568, 700, 2958, 6196, 1977, 5441, 6032, 4044, 3972, 2349, 21, 6296, 6359, 942, 182, 2882, 624, 1333, 5799, 3005, 3729, 1770, 5217, 769, 1840, 6386, 2927, 4645, 3737, 4102, 692, 3973, 5454, 4627, 2591, 5794, 2747, 4864, 5929, 4145, 6377, 2833, 5465, 2715, 298, 2831, 3437, 5198, 1856, 2085, 5011, 711, 3680, 1205, 1904, 4291, 957, 187, 2355, 3600, 3575, 4879, 616, 3675, 669, 5702, 4146, 1422, 5947, 3170, 4952, 5422, 2453, 5524, 4084, 395, 1409, 4502, 3190, 4905, 4481, 3878, 3341, 6164, 217, 374, 3086, 5690, 6048, 3985, 1785, 4091, 5181, 3007, 3243, 5647, 39, 3565, 2063, 4624, 3618, 5395, 5024, 2254, 2717, 3429, 5913, 4574, 3487, 5555, 2496, 6408, 6184, 2097, 2240, 5452, 3059, 3016, 2101, 2449, 5152, 4456, 4366, 4793, 3862, 6160, 2859, 4895, 4732, 3017, 1199, 2452, 5221, 4032, 5642, 5138, 5113, 6108, 5595, 1954, 1368, 4489, 2604, 4829, 1271, 4596, 3716, 6008, 1036, 1128, 4294, 6330, 1592, 2939, 2965, 5347, 2442, 2916, 6257, 6175, 5362, 5598, 4807, 3532, 2119, 778, 4734, 6017, 2407, 5705, 2028, 258, 5068, 3149, 1979, 1566, 4269, 3905, 1862, 634, 1846, 2575, 4131, 5919, 1538, 5873, 2006, 6297, 674, 5453, 2567, 3337, 1006, 1822, 2926, 3840, 1253, 2083, 3294, 3728, 2418, 6242, 2821, 6215, 6132, 46, 4439, 5149, 2334, 4015, 4739, 5348, 4993, 3336, 3161, 1438, 3886, 4669, 2395, 6090, 2757, 5112, 2308, 3861, 1358, 1791, 1745, 5051, 5847, 5788, 2181, 4387, 3752, 6021, 2470, 6135, 461, 4048, 2576, 3003, 3513, 4211, 2197, 2465, 322, 1815, 4954, 6338, 872, 5388, 2162, 4406, 4038, 232, 3858, 5319, 6320, 3325, 2010, 3837, 357, 1111, 3579, 2770, 6019, 2661, 3043, 5803, 4811, 2865, 2742, 2147, 4553, 3609, 3147, 4598, 299, 5967, 6094, 6304, 5960, 3792, 6379, 6492]\n",
      "test ids:  [0, 1, 2, 3, 4, 5, 6, 7, 8, 9, 10, 11, 12, 40, 81, 82, 83, 84, 85, 86, 87, 88, 89, 90, 91, 92, 93, 94, 120, 162, 163, 164, 165, 166, 167, 168, 169, 170, 171, 172, 173, 174, 175, 200, 243, 244, 245, 246, 247, 248, 249, 250, 251, 252, 253, 254, 255, 256, 257, 280, 324, 325, 326, 327, 328, 329, 330, 331, 332, 333, 334, 335, 336, 337, 338, 339, 360, 405, 406, 407, 408, 409, 410, 411, 412, 413, 414, 415, 416, 417, 418, 419, 420, 421, 440, 486, 487, 488, 489, 490, 491, 492, 493, 494, 495, 496, 497, 498, 499, 500, 501, 502, 520, 567, 568, 569, 570, 571, 572, 573, 574, 575, 576, 577, 578, 579, 580, 581, 582, 583, 584, 600, 648, 649, 650, 651, 652, 653, 654, 655, 656, 657, 658, 659, 660, 661, 662, 663, 664, 665, 666, 680, 729, 730, 731, 732, 733, 734, 735, 736, 737, 738, 739, 740, 741, 742, 743, 744, 745, 746, 747, 748, 760, 810, 811, 812, 813, 814, 815, 816, 817, 818, 819, 820, 821, 822, 823, 824, 825, 826, 827, 828, 829, 840, 891, 892, 893, 894, 895, 896, 897, 898, 899, 900, 901, 902, 903, 904, 905, 906, 907, 908, 909, 910, 911, 920, 972, 973, 974, 975, 976, 977, 978, 979, 980, 981, 982, 983, 984, 985, 986, 987, 988, 989, 990, 991, 992, 993, 1000, 1053, 1054, 1055, 1056, 1057, 1058, 1059, 1060, 1061, 1062, 1063, 1064, 1065, 1066, 1067, 1068, 1069, 1070, 1071, 1072, 1073, 1074, 1075, 1080, 1135, 1136, 1137, 1138, 1139, 1140, 1141, 1142, 1143, 1144, 1145, 1146, 1147, 1148, 1149, 1150, 1151, 1152, 1153, 1154, 1155, 1156, 1160, 1217, 1218, 1219, 1220, 1221, 1222, 1223, 1224, 1225, 1226, 1227, 1228, 1229, 1230, 1231, 1232, 1233, 1234, 1235, 1236, 1237, 1238, 1240, 1300, 1301, 1302, 1303, 1304, 1305, 1306, 1307, 1308, 1309, 1310, 1311, 1312, 1313, 1314, 1315, 1316, 1317, 1318, 1319, 1320, 1382, 1383, 1384, 1385, 1386, 1387, 1388, 1389, 1390, 1391, 1392, 1393, 1394, 1395, 1396, 1397, 1398, 1399, 1400, 1401, 1465, 1466, 1467, 1468, 1469, 1470, 1471, 1472, 1473, 1474, 1475, 1476, 1477, 1478, 1479, 1480, 1481, 1482, 1483, 1547, 1548, 1549, 1550, 1551, 1552, 1553, 1554, 1555, 1556, 1557, 1558, 1559, 1560, 1561, 1562, 1563, 1564, 1565, 1629, 1630, 1631, 1632, 1633, 1634, 1635, 1636, 1637, 1638, 1639, 1640, 1641, 1642, 1643, 1644, 1645, 1646, 1647, 1700, 1712, 1713, 1714, 1715, 1716, 1717, 1718, 1719, 1720, 1721, 1722, 1723, 1724, 1725, 1726, 1727, 1728, 1780, 1794, 1795, 1796, 1797, 1798, 1799, 1800, 1801, 1802, 1803, 1804, 1805, 1806, 1807, 1808, 1809, 1810, 1860, 1877, 1878, 1879, 1880, 1881, 1882, 1883, 1884, 1885, 1886, 1887, 1888, 1889, 1890, 1891, 1892, 1940, 1959, 1960, 1961, 1962, 1963, 1964, 1965, 1966, 1967, 1968, 1969, 1970, 1971, 1972, 1973, 1974, 2020, 2040, 2041, 2042, 2043, 2044, 2045, 2046, 2047, 2048, 2049, 2050, 2051, 2052, 2053, 2054, 2055, 2100, 2120, 2124, 2125, 2126, 2127, 2128, 2129, 2130, 2131, 2132, 2133, 2134, 2135, 2136, 2137, 2180, 2200, 2206, 2207, 2208, 2209, 2210, 2211, 2212, 2213, 2214, 2215, 2216, 2217, 2218, 2219, 2260, 2280, 2289, 2290, 2291, 2292, 2293, 2294, 2295, 2296, 2297, 2298, 2299, 2300, 2340, 2360, 2371, 2372, 2373, 2374, 2375, 2376, 2377, 2378, 2379, 2380, 2381, 2382, 2420, 2440, 2454, 2455, 2456, 2457, 2458, 2459, 2460, 2461, 2462, 2463, 2464, 2500, 2520, 2536, 2537, 2538, 2539, 2540, 2541, 2542, 2543, 2544, 2545, 2546, 2580, 2600, 2618, 2619, 2620, 2621, 2622, 2623, 2624, 2625, 2626, 2627, 2660, 2680, 2701, 2702, 2703, 2704, 2705, 2706, 2707, 2708, 2709, 2740, 2760, 2783, 2784, 2785, 2786, 2787, 2788, 2789, 2790, 2791, 2820, 2840, 2866, 2867, 2868, 2869, 2870, 2871, 2872, 2873, 2900, 2920, 2948, 2949, 2950, 2951, 2952, 2953, 2954, 2980, 3000, 3030, 3031, 3032, 3033, 3034, 3035, 3036, 3060, 3080, 3113, 3114, 3115, 3116, 3117, 3118, 3140, 3160, 3195, 3196, 3197, 3198, 3199, 3200, 3220, 3240, 3278, 3279, 3280, 3281, 3300, 3360, 3361, 3362, 3363, 3380, 3443, 3444, 3445, 3460, 3525, 3526, 3540, 3607, 3608, 3620, 3690, 3700, 3772, 3780, 3854, 3860, 3936, 3940, 4018, 4019, 4020, 4099, 4100, 4101, 4180, 4181, 4182, 4183, 4260, 4263, 4264, 4265, 4266, 4340, 4345, 4346, 4347, 4348, 4420, 4427, 4428, 4429, 4430, 4431, 4500, 4508, 4509, 4510, 4511, 4512, 4513, 4580, 4590, 4591, 4592, 4593, 4594, 4595, 4660, 4672, 4673, 4674, 4675, 4676, 4677, 4678, 4740, 4753, 4754, 4755, 4756, 4757, 4758, 4759, 4760, 4820, 4835, 4836, 4837, 4838, 4839, 4840, 4841, 4842, 4843, 4900, 4917, 4918, 4919, 4920, 4921, 4922, 4923, 4924, 4925, 4980, 4999, 5000, 5001, 5002, 5003, 5004, 5005, 5006, 5007, 5060, 5080, 5081, 5082, 5083, 5084, 5085, 5086, 5087, 5088, 5089, 5090, 5140, 5162, 5163, 5164, 5165, 5166, 5167, 5168, 5169, 5170, 5171, 5172, 5220, 5244, 5245, 5246, 5247, 5248, 5249, 5250, 5251, 5252, 5253, 5254, 5255, 5300, 5326, 5327, 5328, 5329, 5330, 5331, 5332, 5333, 5334, 5335, 5336, 5337, 5380, 5407, 5408, 5409, 5410, 5411, 5412, 5413, 5414, 5415, 5416, 5417, 5418, 5419, 5420, 5460, 5489, 5490, 5491, 5492, 5493, 5494, 5495, 5496, 5497, 5498, 5499, 5500, 5501, 5502, 5540, 5571, 5572, 5573, 5574, 5575, 5576, 5577, 5578, 5579, 5580, 5581, 5582, 5583, 5584, 5620, 5653, 5654, 5655, 5656, 5657, 5658, 5659, 5660, 5661, 5662, 5663, 5664, 5665, 5666, 5667, 5700, 5734, 5735, 5736, 5737, 5738, 5739, 5740, 5741, 5742, 5743, 5744, 5745, 5746, 5747, 5748, 5749, 5780, 5816, 5817, 5818, 5819, 5820, 5821, 5822, 5823, 5824, 5825, 5826, 5827, 5828, 5829, 5830, 5831, 5860, 5898, 5899, 5900, 5901, 5902, 5903, 5904, 5905, 5906, 5907, 5908, 5909, 5910, 5911, 5912, 5940, 5979, 5980, 5981, 5982, 5983, 5984, 5985, 5986, 5987, 5988, 5989, 5990, 5991, 5992, 5993, 6020, 6061, 6062, 6063, 6064, 6065, 6066, 6067, 6068, 6069, 6070, 6071, 6072, 6073, 6074, 6100, 6143, 6144, 6145, 6146, 6147, 6148, 6149, 6150, 6151, 6152, 6153, 6154, 6155, 6180, 6225, 6226, 6227, 6228, 6229, 6230, 6231, 6232, 6233, 6234, 6235, 6236, 6260, 6306, 6307, 6308, 6309, 6310, 6311, 6312, 6313, 6314, 6315, 6316, 6317, 6340, 6388, 6389, 6390, 6391, 6392, 6393, 6394, 6395, 6396, 6397, 6398, 6420, 6470, 6471, 6472, 6473, 6474, 6475, 6476, 6477, 6478, 6479, 6500, 6552, 6553, 6554, 6555, 6556, 6557, 6558, 6559, 6560]\n",
      "CPU times: user 172 ms, sys: 156 ms, total: 328 ms\n",
      "Wall time: 328 ms\n"
     ]
    }
   ],
   "source": [
    "%%time\n",
    "n_total = len(simulation.dataframe)\n",
    "n_train = len(simulation.dataframe[simulation.dataframe.type_of == \"train\"])\n",
    "n_val = len(simulation.dataframe[simulation.dataframe.type_of == \"val\"])\n",
    "n_test = len(simulation.dataframe[simulation.dataframe.type_of == \"test\"])\n",
    "n_train_hamiltonians = len(simulation.train_ids)\n",
    "n_val_hamiltonians = len(simulation.val_ids)\n",
    "n_test_hamiltonians = len(simulation.test_ids)\n",
    "n_total_hamiltonians = n_train_hamiltonians + n_val_hamiltonians + n_test_hamiltonians\n",
    "\n",
    "print(\"% train: \", n_train/n_total)\n",
    "print(\"% val: \",  n_val/n_total)\n",
    "print(\"% test: \", n_test/n_total)\n",
    "print(\"% train + val + test: \", (n_train+n_val+n_test)/n_total)\n",
    "print(\"\\n\")\n",
    "print(\"number of train hamiltonians: \", n_train_hamiltonians)\n",
    "print(\"number of val hamiltonians: \", n_val_hamiltonians)\n",
    "print(\"number of test hamiltonians: \", n_test_hamiltonians)\n",
    "print(\"total number of hamiltonians: \", n_total_hamiltonians)\n",
    "print(\"\\n\")\n",
    "print(\"train ids: \", simulation.train_ids)\n",
    "print(\"val ids: \", simulation.val_ids)\n",
    "print(\"test ids: \", simulation.test_ids)"
   ]
  },
  {
   "cell_type": "markdown",
   "metadata": {
    "papermill": {
     "duration": 0.038415,
     "end_time": "2020-07-09T22:23:14.932887",
     "exception": false,
     "start_time": "2020-07-09T22:23:14.894472",
     "status": "completed"
    },
    "tags": []
   },
   "source": [
    "#### Checking summaries"
   ]
  },
  {
   "cell_type": "code",
   "execution_count": 27,
   "metadata": {
    "execution": {
     "iopub.execute_input": "2020-07-09T22:23:15.008067Z",
     "iopub.status.busy": "2020-07-09T22:23:15.007757Z",
     "iopub.status.idle": "2020-07-09T22:23:15.027287Z",
     "shell.execute_reply": "2020-07-09T22:23:15.027590Z"
    },
    "papermill": {
     "duration": 0.058642,
     "end_time": "2020-07-09T22:23:15.027654",
     "exception": false,
     "start_time": "2020-07-09T22:23:14.969012",
     "status": "completed"
    },
    "tags": []
   },
   "outputs": [
    {
     "name": "stdout",
     "output_type": "stream",
     "text": [
      "length of ham_summary:  6561\n",
      "CPU times: user 80 µs, sys: 0 ns, total: 80 µs\n",
      "Wall time: 55.8 µs\n"
     ]
    },
    {
     "data": {
      "text/html": [
       "<div>\n",
       "<style scoped>\n",
       "    .dataframe tbody tr th:only-of-type {\n",
       "        vertical-align: middle;\n",
       "    }\n",
       "\n",
       "    .dataframe tbody tr th {\n",
       "        vertical-align: top;\n",
       "    }\n",
       "\n",
       "    .dataframe thead th {\n",
       "        text-align: right;\n",
       "    }\n",
       "</style>\n",
       "<table border=\"1\" class=\"dataframe\">\n",
       "  <thead>\n",
       "    <tr style=\"text-align: right;\">\n",
       "      <th></th>\n",
       "      <th>t1</th>\n",
       "      <th>t2</th>\n",
       "      <th>type_of</th>\n",
       "      <th>-1</th>\n",
       "      <th>0</th>\n",
       "      <th>1</th>\n",
       "      <th>2</th>\n",
       "      <th>phase</th>\n",
       "      <th>pred_phase</th>\n",
       "    </tr>\n",
       "    <tr>\n",
       "      <th>id</th>\n",
       "      <th></th>\n",
       "      <th></th>\n",
       "      <th></th>\n",
       "      <th></th>\n",
       "      <th></th>\n",
       "      <th></th>\n",
       "      <th></th>\n",
       "      <th></th>\n",
       "      <th></th>\n",
       "    </tr>\n",
       "  </thead>\n",
       "  <tbody>\n",
       "    <tr>\n",
       "      <th>0</th>\n",
       "      <td>-2.0</td>\n",
       "      <td>-2.00</td>\n",
       "      <td>test</td>\n",
       "      <td>0.16</td>\n",
       "      <td>0.37</td>\n",
       "      <td>0.23</td>\n",
       "      <td>0.24</td>\n",
       "      <td>999</td>\n",
       "      <td>0</td>\n",
       "    </tr>\n",
       "    <tr>\n",
       "      <th>1</th>\n",
       "      <td>-2.0</td>\n",
       "      <td>-1.95</td>\n",
       "      <td>test</td>\n",
       "      <td>0.21</td>\n",
       "      <td>0.34</td>\n",
       "      <td>0.24</td>\n",
       "      <td>0.21</td>\n",
       "      <td>-1</td>\n",
       "      <td>0</td>\n",
       "    </tr>\n",
       "    <tr>\n",
       "      <th>2</th>\n",
       "      <td>-2.0</td>\n",
       "      <td>-1.90</td>\n",
       "      <td>test</td>\n",
       "      <td>0.20</td>\n",
       "      <td>0.34</td>\n",
       "      <td>0.21</td>\n",
       "      <td>0.25</td>\n",
       "      <td>-1</td>\n",
       "      <td>0</td>\n",
       "    </tr>\n",
       "    <tr>\n",
       "      <th>3</th>\n",
       "      <td>-2.0</td>\n",
       "      <td>-1.85</td>\n",
       "      <td>test</td>\n",
       "      <td>0.21</td>\n",
       "      <td>0.32</td>\n",
       "      <td>0.24</td>\n",
       "      <td>0.23</td>\n",
       "      <td>-1</td>\n",
       "      <td>0</td>\n",
       "    </tr>\n",
       "    <tr>\n",
       "      <th>4</th>\n",
       "      <td>-2.0</td>\n",
       "      <td>-1.80</td>\n",
       "      <td>test</td>\n",
       "      <td>0.27</td>\n",
       "      <td>0.30</td>\n",
       "      <td>0.20</td>\n",
       "      <td>0.23</td>\n",
       "      <td>-1</td>\n",
       "      <td>0</td>\n",
       "    </tr>\n",
       "    <tr>\n",
       "      <th>...</th>\n",
       "      <td>...</td>\n",
       "      <td>...</td>\n",
       "      <td>...</td>\n",
       "      <td>...</td>\n",
       "      <td>...</td>\n",
       "      <td>...</td>\n",
       "      <td>...</td>\n",
       "      <td>...</td>\n",
       "      <td>...</td>\n",
       "    </tr>\n",
       "    <tr>\n",
       "      <th>6556</th>\n",
       "      <td>2.0</td>\n",
       "      <td>1.80</td>\n",
       "      <td>test</td>\n",
       "      <td>0.45</td>\n",
       "      <td>0.14</td>\n",
       "      <td>0.10</td>\n",
       "      <td>0.31</td>\n",
       "      <td>-1</td>\n",
       "      <td>-1</td>\n",
       "    </tr>\n",
       "    <tr>\n",
       "      <th>6557</th>\n",
       "      <td>2.0</td>\n",
       "      <td>1.85</td>\n",
       "      <td>test</td>\n",
       "      <td>0.40</td>\n",
       "      <td>0.16</td>\n",
       "      <td>0.11</td>\n",
       "      <td>0.33</td>\n",
       "      <td>-1</td>\n",
       "      <td>-1</td>\n",
       "    </tr>\n",
       "    <tr>\n",
       "      <th>6558</th>\n",
       "      <td>2.0</td>\n",
       "      <td>1.90</td>\n",
       "      <td>test</td>\n",
       "      <td>0.32</td>\n",
       "      <td>0.21</td>\n",
       "      <td>0.13</td>\n",
       "      <td>0.34</td>\n",
       "      <td>-1</td>\n",
       "      <td>2</td>\n",
       "    </tr>\n",
       "    <tr>\n",
       "      <th>6559</th>\n",
       "      <td>2.0</td>\n",
       "      <td>1.95</td>\n",
       "      <td>test</td>\n",
       "      <td>0.25</td>\n",
       "      <td>0.26</td>\n",
       "      <td>0.13</td>\n",
       "      <td>0.36</td>\n",
       "      <td>-1</td>\n",
       "      <td>2</td>\n",
       "    </tr>\n",
       "    <tr>\n",
       "      <th>6560</th>\n",
       "      <td>2.0</td>\n",
       "      <td>2.00</td>\n",
       "      <td>test</td>\n",
       "      <td>0.28</td>\n",
       "      <td>0.25</td>\n",
       "      <td>0.14</td>\n",
       "      <td>0.33</td>\n",
       "      <td>999</td>\n",
       "      <td>2</td>\n",
       "    </tr>\n",
       "  </tbody>\n",
       "</table>\n",
       "<p>6561 rows × 9 columns</p>\n",
       "</div>"
      ],
      "text/plain": [
       "       t1    t2 type_of    -1     0     1     2  phase  pred_phase\n",
       "id                                                                \n",
       "0    -2.0 -2.00    test  0.16  0.37  0.23  0.24    999           0\n",
       "1    -2.0 -1.95    test  0.21  0.34  0.24  0.21     -1           0\n",
       "2    -2.0 -1.90    test  0.20  0.34  0.21  0.25     -1           0\n",
       "3    -2.0 -1.85    test  0.21  0.32  0.24  0.23     -1           0\n",
       "4    -2.0 -1.80    test  0.27  0.30  0.20  0.23     -1           0\n",
       "...   ...   ...     ...   ...   ...   ...   ...    ...         ...\n",
       "6556  2.0  1.80    test  0.45  0.14  0.10  0.31     -1          -1\n",
       "6557  2.0  1.85    test  0.40  0.16  0.11  0.33     -1          -1\n",
       "6558  2.0  1.90    test  0.32  0.21  0.13  0.34     -1           2\n",
       "6559  2.0  1.95    test  0.25  0.26  0.13  0.36     -1           2\n",
       "6560  2.0  2.00    test  0.28  0.25  0.14  0.33    999           2\n",
       "\n",
       "[6561 rows x 9 columns]"
      ]
     },
     "execution_count": 27,
     "metadata": {},
     "output_type": "execute_result"
    }
   ],
   "source": [
    "%%time\n",
    "ham_summary = simulation.hamiltonian_summary\n",
    "print(\"length of ham_summary: \", len(ham_summary))\n",
    "ham_summary"
   ]
  },
  {
   "cell_type": "code",
   "execution_count": 28,
   "metadata": {
    "execution": {
     "iopub.execute_input": "2020-07-09T22:23:15.104130Z",
     "iopub.status.busy": "2020-07-09T22:23:15.103825Z",
     "iopub.status.idle": "2020-07-09T22:23:15.135117Z",
     "shell.execute_reply": "2020-07-09T22:23:15.135371Z"
    },
    "papermill": {
     "duration": 0.071167,
     "end_time": "2020-07-09T22:23:15.135439",
     "exception": false,
     "start_time": "2020-07-09T22:23:15.064272",
     "status": "completed"
    },
    "tags": []
   },
   "outputs": [
    {
     "data": {
      "text/html": [
       "<div>\n",
       "<style scoped>\n",
       "    .dataframe tbody tr th:only-of-type {\n",
       "        vertical-align: middle;\n",
       "    }\n",
       "\n",
       "    .dataframe tbody tr th {\n",
       "        vertical-align: top;\n",
       "    }\n",
       "\n",
       "    .dataframe thead th {\n",
       "        text-align: right;\n",
       "    }\n",
       "</style>\n",
       "<table border=\"1\" class=\"dataframe\">\n",
       "  <thead>\n",
       "    <tr style=\"text-align: right;\">\n",
       "      <th></th>\n",
       "      <th>t1</th>\n",
       "      <th>t2</th>\n",
       "      <th>-1</th>\n",
       "      <th>0</th>\n",
       "      <th>1</th>\n",
       "      <th>2</th>\n",
       "      <th>phase</th>\n",
       "      <th>pred_phase</th>\n",
       "    </tr>\n",
       "  </thead>\n",
       "  <tbody>\n",
       "    <tr>\n",
       "      <th>count</th>\n",
       "      <td>6561.000000</td>\n",
       "      <td>6.561000e+03</td>\n",
       "      <td>6561.000000</td>\n",
       "      <td>6561.000000</td>\n",
       "      <td>6561.000000</td>\n",
       "      <td>6561.000000</td>\n",
       "      <td>6561.000000</td>\n",
       "      <td>6561.000000</td>\n",
       "    </tr>\n",
       "    <tr>\n",
       "      <th>mean</th>\n",
       "      <td>0.000000</td>\n",
       "      <td>-4.331917e-18</td>\n",
       "      <td>0.196904</td>\n",
       "      <td>0.311036</td>\n",
       "      <td>0.307752</td>\n",
       "      <td>0.184307</td>\n",
       "      <td>28.045877</td>\n",
       "      <td>0.488340</td>\n",
       "    </tr>\n",
       "    <tr>\n",
       "      <th>std</th>\n",
       "      <td>1.169134</td>\n",
       "      <td>1.169134e+00</td>\n",
       "      <td>0.362927</td>\n",
       "      <td>0.430726</td>\n",
       "      <td>0.433260</td>\n",
       "      <td>0.352550</td>\n",
       "      <td>163.557011</td>\n",
       "      <td>1.021668</td>\n",
       "    </tr>\n",
       "    <tr>\n",
       "      <th>min</th>\n",
       "      <td>-2.000000</td>\n",
       "      <td>-2.000000e+00</td>\n",
       "      <td>0.000000</td>\n",
       "      <td>0.000000</td>\n",
       "      <td>0.000000</td>\n",
       "      <td>0.000000</td>\n",
       "      <td>-1.000000</td>\n",
       "      <td>-1.000000</td>\n",
       "    </tr>\n",
       "    <tr>\n",
       "      <th>25%</th>\n",
       "      <td>-1.000000</td>\n",
       "      <td>-1.000000e+00</td>\n",
       "      <td>0.000000</td>\n",
       "      <td>0.000000</td>\n",
       "      <td>0.000000</td>\n",
       "      <td>0.000000</td>\n",
       "      <td>0.000000</td>\n",
       "      <td>0.000000</td>\n",
       "    </tr>\n",
       "    <tr>\n",
       "      <th>50%</th>\n",
       "      <td>0.000000</td>\n",
       "      <td>0.000000e+00</td>\n",
       "      <td>0.000000</td>\n",
       "      <td>0.020000</td>\n",
       "      <td>0.020000</td>\n",
       "      <td>0.000000</td>\n",
       "      <td>1.000000</td>\n",
       "      <td>0.000000</td>\n",
       "    </tr>\n",
       "    <tr>\n",
       "      <th>75%</th>\n",
       "      <td>1.000000</td>\n",
       "      <td>1.000000e+00</td>\n",
       "      <td>0.140000</td>\n",
       "      <td>0.950000</td>\n",
       "      <td>0.960000</td>\n",
       "      <td>0.080000</td>\n",
       "      <td>1.000000</td>\n",
       "      <td>1.000000</td>\n",
       "    </tr>\n",
       "    <tr>\n",
       "      <th>max</th>\n",
       "      <td>2.000000</td>\n",
       "      <td>2.000000e+00</td>\n",
       "      <td>1.000000</td>\n",
       "      <td>1.000000</td>\n",
       "      <td>1.000000</td>\n",
       "      <td>1.000000</td>\n",
       "      <td>999.000000</td>\n",
       "      <td>2.000000</td>\n",
       "    </tr>\n",
       "  </tbody>\n",
       "</table>\n",
       "</div>"
      ],
      "text/plain": [
       "                t1            t2           -1            0            1  \\\n",
       "count  6561.000000  6.561000e+03  6561.000000  6561.000000  6561.000000   \n",
       "mean      0.000000 -4.331917e-18     0.196904     0.311036     0.307752   \n",
       "std       1.169134  1.169134e+00     0.362927     0.430726     0.433260   \n",
       "min      -2.000000 -2.000000e+00     0.000000     0.000000     0.000000   \n",
       "25%      -1.000000 -1.000000e+00     0.000000     0.000000     0.000000   \n",
       "50%       0.000000  0.000000e+00     0.000000     0.020000     0.020000   \n",
       "75%       1.000000  1.000000e+00     0.140000     0.950000     0.960000   \n",
       "max       2.000000  2.000000e+00     1.000000     1.000000     1.000000   \n",
       "\n",
       "                 2        phase   pred_phase  \n",
       "count  6561.000000  6561.000000  6561.000000  \n",
       "mean      0.184307    28.045877     0.488340  \n",
       "std       0.352550   163.557011     1.021668  \n",
       "min       0.000000    -1.000000    -1.000000  \n",
       "25%       0.000000     0.000000     0.000000  \n",
       "50%       0.000000     1.000000     0.000000  \n",
       "75%       0.080000     1.000000     1.000000  \n",
       "max       1.000000   999.000000     2.000000  "
      ]
     },
     "execution_count": 28,
     "metadata": {},
     "output_type": "execute_result"
    }
   ],
   "source": [
    "ham_summary.describe()"
   ]
  },
  {
   "cell_type": "code",
   "execution_count": 29,
   "metadata": {
    "execution": {
     "iopub.execute_input": "2020-07-09T22:23:15.212918Z",
     "iopub.status.busy": "2020-07-09T22:23:15.212552Z",
     "iopub.status.idle": "2020-07-09T22:23:15.227420Z",
     "shell.execute_reply": "2020-07-09T22:23:15.227104Z"
    },
    "papermill": {
     "duration": 0.055451,
     "end_time": "2020-07-09T22:23:15.227471",
     "exception": false,
     "start_time": "2020-07-09T22:23:15.172020",
     "status": "completed"
    },
    "tags": []
   },
   "outputs": [
    {
     "name": "stdout",
     "output_type": "stream",
     "text": [
      "length of ham_summary:  656100\n"
     ]
    },
    {
     "data": {
      "text/html": [
       "<div>\n",
       "<style scoped>\n",
       "    .dataframe tbody tr th:only-of-type {\n",
       "        vertical-align: middle;\n",
       "    }\n",
       "\n",
       "    .dataframe tbody tr th {\n",
       "        vertical-align: top;\n",
       "    }\n",
       "\n",
       "    .dataframe thead th {\n",
       "        text-align: right;\n",
       "    }\n",
       "</style>\n",
       "<table border=\"1\" class=\"dataframe\">\n",
       "  <thead>\n",
       "    <tr style=\"text-align: right;\">\n",
       "      <th></th>\n",
       "      <th>id</th>\n",
       "      <th>phase</th>\n",
       "      <th>pred_phase</th>\n",
       "      <th>type_of</th>\n",
       "    </tr>\n",
       "  </thead>\n",
       "  <tbody>\n",
       "    <tr>\n",
       "      <th>0</th>\n",
       "      <td>0</td>\n",
       "      <td>999</td>\n",
       "      <td>-1</td>\n",
       "      <td>test</td>\n",
       "    </tr>\n",
       "    <tr>\n",
       "      <th>1</th>\n",
       "      <td>0</td>\n",
       "      <td>999</td>\n",
       "      <td>-1</td>\n",
       "      <td>test</td>\n",
       "    </tr>\n",
       "    <tr>\n",
       "      <th>2</th>\n",
       "      <td>0</td>\n",
       "      <td>999</td>\n",
       "      <td>1</td>\n",
       "      <td>test</td>\n",
       "    </tr>\n",
       "    <tr>\n",
       "      <th>3</th>\n",
       "      <td>0</td>\n",
       "      <td>999</td>\n",
       "      <td>1</td>\n",
       "      <td>test</td>\n",
       "    </tr>\n",
       "    <tr>\n",
       "      <th>4</th>\n",
       "      <td>0</td>\n",
       "      <td>999</td>\n",
       "      <td>2</td>\n",
       "      <td>test</td>\n",
       "    </tr>\n",
       "    <tr>\n",
       "      <th>...</th>\n",
       "      <td>...</td>\n",
       "      <td>...</td>\n",
       "      <td>...</td>\n",
       "      <td>...</td>\n",
       "    </tr>\n",
       "    <tr>\n",
       "      <th>656095</th>\n",
       "      <td>6560</td>\n",
       "      <td>999</td>\n",
       "      <td>-1</td>\n",
       "      <td>test</td>\n",
       "    </tr>\n",
       "    <tr>\n",
       "      <th>656096</th>\n",
       "      <td>6560</td>\n",
       "      <td>999</td>\n",
       "      <td>-1</td>\n",
       "      <td>test</td>\n",
       "    </tr>\n",
       "    <tr>\n",
       "      <th>656097</th>\n",
       "      <td>6560</td>\n",
       "      <td>999</td>\n",
       "      <td>-1</td>\n",
       "      <td>test</td>\n",
       "    </tr>\n",
       "    <tr>\n",
       "      <th>656098</th>\n",
       "      <td>6560</td>\n",
       "      <td>999</td>\n",
       "      <td>0</td>\n",
       "      <td>test</td>\n",
       "    </tr>\n",
       "    <tr>\n",
       "      <th>656099</th>\n",
       "      <td>6560</td>\n",
       "      <td>999</td>\n",
       "      <td>1</td>\n",
       "      <td>test</td>\n",
       "    </tr>\n",
       "  </tbody>\n",
       "</table>\n",
       "<p>656100 rows × 4 columns</p>\n",
       "</div>"
      ],
      "text/plain": [
       "          id  phase  pred_phase type_of\n",
       "0          0    999          -1    test\n",
       "1          0    999          -1    test\n",
       "2          0    999           1    test\n",
       "3          0    999           1    test\n",
       "4          0    999           2    test\n",
       "...      ...    ...         ...     ...\n",
       "656095  6560    999          -1    test\n",
       "656096  6560    999          -1    test\n",
       "656097  6560    999          -1    test\n",
       "656098  6560    999           0    test\n",
       "656099  6560    999           1    test\n",
       "\n",
       "[656100 rows x 4 columns]"
      ]
     },
     "execution_count": 29,
     "metadata": {},
     "output_type": "execute_result"
    }
   ],
   "source": [
    "eigen_summary = simulation.eigenvector_summary\n",
    "print(\"length of ham_summary: \", len(eigen_summary))\n",
    "eigen_summary"
   ]
  },
  {
   "cell_type": "markdown",
   "metadata": {
    "papermill": {
     "duration": 0.035906,
     "end_time": "2020-07-09T22:23:15.299512",
     "exception": false,
     "start_time": "2020-07-09T22:23:15.263606",
     "status": "completed"
    },
    "tags": []
   },
   "source": [
    "#### Checking accuracies"
   ]
  },
  {
   "cell_type": "code",
   "execution_count": 30,
   "metadata": {
    "execution": {
     "iopub.execute_input": "2020-07-09T22:23:15.377229Z",
     "iopub.status.busy": "2020-07-09T22:23:15.376915Z",
     "iopub.status.idle": "2020-07-09T22:23:15.386953Z",
     "shell.execute_reply": "2020-07-09T22:23:15.386637Z"
    },
    "papermill": {
     "duration": 0.050738,
     "end_time": "2020-07-09T22:23:15.387004",
     "exception": false,
     "start_time": "2020-07-09T22:23:15.336266",
     "status": "completed"
    },
    "tags": []
   },
   "outputs": [
    {
     "data": {
      "text/plain": [
       "{'eigenvector_train': 0.999536399855125,\n",
       " 'eigenvector_val': 0.9558260869565217,\n",
       " 'eigenvector_test': 0.6460884749708964,\n",
       " 'hamiltonian_train': 1.0,\n",
       " 'hamiltonian_val': 0.9981884057971014,\n",
       " 'hamiltonian_test': 0.8975552968568102}"
      ]
     },
     "execution_count": 30,
     "metadata": {},
     "output_type": "execute_result"
    }
   ],
   "source": [
    "simulation.accuracy"
   ]
  },
  {
   "cell_type": "markdown",
   "metadata": {
    "papermill": {
     "duration": 0.03609,
     "end_time": "2020-07-09T22:23:15.459241",
     "exception": false,
     "start_time": "2020-07-09T22:23:15.423151",
     "status": "completed"
    },
    "tags": []
   },
   "source": [
    "#### Checking data stored in  memory"
   ]
  },
  {
   "cell_type": "code",
   "execution_count": 31,
   "metadata": {
    "execution": {
     "iopub.execute_input": "2020-07-09T22:23:15.536787Z",
     "iopub.status.busy": "2020-07-09T22:23:15.536472Z",
     "iopub.status.idle": "2020-07-09T22:23:15.546878Z",
     "shell.execute_reply": "2020-07-09T22:23:15.546556Z"
    },
    "papermill": {
     "duration": 0.050843,
     "end_time": "2020-07-09T22:23:15.546928",
     "exception": false,
     "start_time": "2020-07-09T22:23:15.496085",
     "status": "completed"
    },
    "tags": []
   },
   "outputs": [
    {
     "data": {
      "text/plain": [
       "[]"
      ]
     },
     "execution_count": 31,
     "metadata": {},
     "output_type": "execute_result"
    }
   ],
   "source": [
    "ham_summary_list = simulation.hamiltonian_summary_list\n",
    "ham_summary_list"
   ]
  },
  {
   "cell_type": "code",
   "execution_count": 32,
   "metadata": {
    "execution": {
     "iopub.execute_input": "2020-07-09T22:23:15.622188Z",
     "iopub.status.busy": "2020-07-09T22:23:15.621856Z",
     "iopub.status.idle": "2020-07-09T22:23:15.632034Z",
     "shell.execute_reply": "2020-07-09T22:23:15.631715Z"
    },
    "papermill": {
     "duration": 0.048621,
     "end_time": "2020-07-09T22:23:15.632085",
     "exception": false,
     "start_time": "2020-07-09T22:23:15.583464",
     "status": "completed"
    },
    "tags": []
   },
   "outputs": [
    {
     "data": {
      "text/plain": [
       "[]"
      ]
     },
     "execution_count": 32,
     "metadata": {},
     "output_type": "execute_result"
    }
   ],
   "source": [
    "eigen_summary_list = simulation.eigenvector_summary_list\n",
    "eigen_summary_list"
   ]
  },
  {
   "cell_type": "code",
   "execution_count": 33,
   "metadata": {
    "execution": {
     "iopub.execute_input": "2020-07-09T22:23:15.710552Z",
     "iopub.status.busy": "2020-07-09T22:23:15.710242Z",
     "iopub.status.idle": "2020-07-09T22:23:15.720309Z",
     "shell.execute_reply": "2020-07-09T22:23:15.720573Z"
    },
    "papermill": {
     "duration": 0.051207,
     "end_time": "2020-07-09T22:23:15.720640",
     "exception": false,
     "start_time": "2020-07-09T22:23:15.669433",
     "status": "completed"
    },
    "tags": []
   },
   "outputs": [
    {
     "data": {
      "text/plain": [
       "{'eigenvector_train': [],\n",
       " 'eigenvector_val': [],\n",
       " 'eigenvector_test': [],\n",
       " 'hamiltonian_train': [],\n",
       " 'hamiltonian_val': [],\n",
       " 'hamiltonian_test': []}"
      ]
     },
     "execution_count": 33,
     "metadata": {},
     "output_type": "execute_result"
    }
   ],
   "source": [
    "accuracy_list = simulation.accuracy_list\n",
    "accuracy_list"
   ]
  },
  {
   "cell_type": "code",
   "execution_count": null,
   "metadata": {
    "papermill": {
     "duration": 0.036706,
     "end_time": "2020-07-09T22:23:15.794281",
     "exception": false,
     "start_time": "2020-07-09T22:23:15.757575",
     "status": "completed"
    },
    "tags": []
   },
   "outputs": [],
   "source": []
  },
  {
   "cell_type": "code",
   "execution_count": null,
   "metadata": {
    "papermill": {
     "duration": 0.039165,
     "end_time": "2020-07-09T22:23:15.871197",
     "exception": false,
     "start_time": "2020-07-09T22:23:15.832032",
     "status": "completed"
    },
    "tags": []
   },
   "outputs": [],
   "source": []
  },
  {
   "cell_type": "code",
   "execution_count": 34,
   "metadata": {
    "execution": {
     "iopub.execute_input": "2020-07-09T22:23:15.946569Z",
     "iopub.status.busy": "2020-07-09T22:23:15.946264Z",
     "iopub.status.idle": "2020-07-09T22:23:15.955602Z",
     "shell.execute_reply": "2020-07-09T22:23:15.955919Z"
    },
    "papermill": {
     "duration": 0.048068,
     "end_time": "2020-07-09T22:23:15.955986",
     "exception": false,
     "start_time": "2020-07-09T22:23:15.907918",
     "status": "completed"
    },
    "tags": []
   },
   "outputs": [],
   "source": [
    "#simulation.fourier_matrix"
   ]
  },
  {
   "cell_type": "code",
   "execution_count": 35,
   "metadata": {
    "execution": {
     "iopub.execute_input": "2020-07-09T22:23:16.034951Z",
     "iopub.status.busy": "2020-07-09T22:23:16.034633Z",
     "iopub.status.idle": "2020-07-09T22:23:16.044592Z",
     "shell.execute_reply": "2020-07-09T22:23:16.044238Z"
    },
    "papermill": {
     "duration": 0.050645,
     "end_time": "2020-07-09T22:23:16.044646",
     "exception": false,
     "start_time": "2020-07-09T22:23:15.994001",
     "status": "completed"
    },
    "tags": []
   },
   "outputs": [],
   "source": [
    "#simulation.fourier_matrix.shape"
   ]
  },
  {
   "cell_type": "code",
   "execution_count": 36,
   "metadata": {
    "execution": {
     "iopub.execute_input": "2020-07-09T22:23:16.124136Z",
     "iopub.status.busy": "2020-07-09T22:23:16.123827Z",
     "iopub.status.idle": "2020-07-09T22:23:16.133486Z",
     "shell.execute_reply": "2020-07-09T22:23:16.133165Z"
    },
    "papermill": {
     "duration": 0.050283,
     "end_time": "2020-07-09T22:23:16.133537",
     "exception": false,
     "start_time": "2020-07-09T22:23:16.083254",
     "status": "completed"
    },
    "tags": []
   },
   "outputs": [],
   "source": [
    "#simulation.fourier_matrix[:,0]"
   ]
  },
  {
   "cell_type": "code",
   "execution_count": 37,
   "metadata": {
    "execution": {
     "iopub.execute_input": "2020-07-09T22:23:16.215081Z",
     "iopub.status.busy": "2020-07-09T22:23:16.214772Z",
     "iopub.status.idle": "2020-07-09T22:23:16.224446Z",
     "shell.execute_reply": "2020-07-09T22:23:16.224768Z"
    },
    "papermill": {
     "duration": 0.05101,
     "end_time": "2020-07-09T22:23:16.224835",
     "exception": false,
     "start_time": "2020-07-09T22:23:16.173825",
     "status": "completed"
    },
    "tags": []
   },
   "outputs": [],
   "source": [
    "#simulation.fourier_matrix[:,1]"
   ]
  },
  {
   "cell_type": "code",
   "execution_count": 38,
   "metadata": {
    "execution": {
     "iopub.execute_input": "2020-07-09T22:23:16.304355Z",
     "iopub.status.busy": "2020-07-09T22:23:16.303868Z",
     "iopub.status.idle": "2020-07-09T22:23:16.313834Z",
     "shell.execute_reply": "2020-07-09T22:23:16.313496Z"
    },
    "papermill": {
     "duration": 0.050233,
     "end_time": "2020-07-09T22:23:16.313885",
     "exception": false,
     "start_time": "2020-07-09T22:23:16.263652",
     "status": "completed"
    },
    "tags": []
   },
   "outputs": [],
   "source": [
    "#np.exp(-1j*2*np.pi*3/100)"
   ]
  },
  {
   "cell_type": "code",
   "execution_count": 39,
   "metadata": {
    "execution": {
     "iopub.execute_input": "2020-07-09T22:23:16.396108Z",
     "iopub.status.busy": "2020-07-09T22:23:16.395791Z",
     "iopub.status.idle": "2020-07-09T22:23:16.405652Z",
     "shell.execute_reply": "2020-07-09T22:23:16.405314Z"
    },
    "papermill": {
     "duration": 0.052208,
     "end_time": "2020-07-09T22:23:16.405705",
     "exception": false,
     "start_time": "2020-07-09T22:23:16.353497",
     "status": "completed"
    },
    "tags": []
   },
   "outputs": [],
   "source": [
    "#for i in range(1,50):\n",
    "#    print(\"\\n\")\n",
    "#    print(i)\n",
    "#    print(np.sum((np.real(simulation.fourier_matrix[:,i]) - np.real(simulation.fourier_matrix[:,-i]))**2))\n",
    "#    print(np.sum((np.imag(simulation.fourier_matrix[:,i])+ np.imag(simulation.fourier_matrix[:,-i]))**2))"
   ]
  },
  {
   "cell_type": "code",
   "execution_count": 40,
   "metadata": {
    "execution": {
     "iopub.execute_input": "2020-07-09T22:23:16.482280Z",
     "iopub.status.busy": "2020-07-09T22:23:16.481976Z",
     "iopub.status.idle": "2020-07-09T22:23:16.530192Z",
     "shell.execute_reply": "2020-07-09T22:23:16.529811Z"
    },
    "papermill": {
     "duration": 0.087442,
     "end_time": "2020-07-09T22:23:16.530263",
     "exception": false,
     "start_time": "2020-07-09T22:23:16.442821",
     "status": "completed"
    },
    "tags": []
   },
   "outputs": [],
   "source": [
    "#print(simulation.fourier_matrix[:,0])"
   ]
  },
  {
   "cell_type": "code",
   "execution_count": 41,
   "metadata": {
    "execution": {
     "iopub.execute_input": "2020-07-09T22:23:16.616107Z",
     "iopub.status.busy": "2020-07-09T22:23:16.615801Z",
     "iopub.status.idle": "2020-07-09T22:23:16.625723Z",
     "shell.execute_reply": "2020-07-09T22:23:16.625364Z"
    },
    "papermill": {
     "duration": 0.04972,
     "end_time": "2020-07-09T22:23:16.625779",
     "exception": false,
     "start_time": "2020-07-09T22:23:16.576059",
     "status": "completed"
    },
    "tags": []
   },
   "outputs": [],
   "source": [
    "#print(simulation.fourier_matrix[:,50])"
   ]
  },
  {
   "cell_type": "code",
   "execution_count": null,
   "metadata": {
    "papermill": {
     "duration": 0.038252,
     "end_time": "2020-07-09T22:23:16.702869",
     "exception": false,
     "start_time": "2020-07-09T22:23:16.664617",
     "status": "completed"
    },
    "tags": []
   },
   "outputs": [],
   "source": []
  }
 ],
 "metadata": {
  "celltoolbar": "Tags",
  "kernelspec": {
   "display_name": "ml_top_phases",
   "language": "python",
   "name": "ml_top_phases"
  },
  "language_info": {
   "codemirror_mode": {
    "name": "ipython",
    "version": 3
   },
   "file_extension": ".py",
   "mimetype": "text/x-python",
   "name": "python",
   "nbconvert_exporter": "python",
   "pygments_lexer": "ipython3",
   "version": "3.6.10"
  },
  "papermill": {
   "duration": 2719.423983,
   "end_time": "2020-07-09T22:23:16.852541",
   "environment_variables": {},
   "exception": null,
   "input_path": "0_simulation_template.ipynb",
   "output_path": "zzz_simulation_output_ssh2_5th_scenario_100_6561.ipynb",
   "parameters": {
    "allowed_windings": [
     -1,
     0,
     1,
     2
    ],
    "csv_path": "/home/rio/ssh_csvs/ssh2/periodic_100_6561.csv",
    "features_to_use": null,
    "fillna": false,
    "fit_params": null,
    "fourier_features_to_use": [
     0,
     2,
     4,
     6,
     8,
     10,
     12,
     14,
     16,
     18,
     20,
     22,
     24,
     26,
     28,
     30,
     32,
     34,
     36,
     38,
     40,
     42,
     44,
     46,
     48,
     50
    ],
    "fourier_fillna": false,
    "fourier_mode": "dct",
    "fourier_normalize": false,
    "fourier_real": null,
    "model_kw": {
     "criterion": "entropy",
     "n_estimators": 25,
     "n_jobs": -1
    },
    "model_name": "RandomForestClassifier",
    "n_experiments": 100,
    "normalize": false,
    "pred_params": null,
    "random_features": false,
    "random_state": 34896,
    "save_accuracy": true,
    "save_eigenvector": true,
    "save_hamiltonian": true,
    "save_models": true,
    "shuffle_features": false,
    "shuffle_rows": true,
    "simulation_dir": "/home/rio/ssh_simulations/ssh2/periodic_5th_scenario_100_6561",
    "start_n": 0,
    "store_in_lists": false,
    "val_split": 0.5
   },
   "start_time": "2020-07-09T21:37:57.428558",
   "version": "2.1.0"
  }
 },
 "nbformat": 4,
 "nbformat_minor": 2
}