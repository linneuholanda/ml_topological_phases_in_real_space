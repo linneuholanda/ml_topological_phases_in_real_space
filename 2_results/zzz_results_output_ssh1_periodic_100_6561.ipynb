{
 "cells": [
  {
   "cell_type": "markdown",
   "metadata": {
    "papermill": {
     "duration": 0.052851,
     "end_time": "2020-05-01T23:19:25.690828",
     "exception": false,
     "start_time": "2020-05-01T23:19:25.637977",
     "status": "completed"
    },
    "tags": []
   },
   "source": [
    "# Results template\n",
    "\n",
    "In this notebook we get the results of simulations performed with the nearest neighbours (ssh1) and second neighbours (ssh2) systems."
   ]
  },
  {
   "cell_type": "code",
   "execution_count": 1,
   "metadata": {
    "execution": {
     "iopub.execute_input": "2020-05-01T23:19:25.728175Z",
     "iopub.status.busy": "2020-05-01T23:19:25.727835Z",
     "iopub.status.idle": "2020-05-01T23:19:26.236586Z",
     "shell.execute_reply": "2020-05-01T23:19:26.236285Z"
    },
    "papermill": {
     "duration": 0.527006,
     "end_time": "2020-05-01T23:19:26.236647",
     "exception": false,
     "start_time": "2020-05-01T23:19:25.709641",
     "status": "completed"
    },
    "tags": []
   },
   "outputs": [],
   "source": [
    "%load_ext autoreload\n",
    "%autoreload 2\n",
    "from simulation_results import *\n",
    "#import template_parameters"
   ]
  },
  {
   "cell_type": "markdown",
   "metadata": {
    "papermill": {
     "duration": 0.01436,
     "end_time": "2020-05-01T23:19:26.266166",
     "exception": false,
     "start_time": "2020-05-01T23:19:26.251806",
     "status": "completed"
    },
    "tags": []
   },
   "source": [
    "# Defining parameters"
   ]
  },
  {
   "cell_type": "code",
   "execution_count": 2,
   "metadata": {
    "execution": {
     "iopub.execute_input": "2020-05-01T23:19:26.296868Z",
     "iopub.status.busy": "2020-05-01T23:19:26.295690Z",
     "iopub.status.idle": "2020-05-01T23:19:26.311349Z",
     "shell.execute_reply": "2020-05-01T23:19:26.311028Z"
    },
    "papermill": {
     "duration": 0.031101,
     "end_time": "2020-05-01T23:19:26.311400",
     "exception": false,
     "start_time": "2020-05-01T23:19:26.280299",
     "status": "completed"
    },
    "tags": [
     "parameters"
    ]
   },
   "outputs": [
    {
     "name": "stdout",
     "output_type": "stream",
     "text": [
      "CPU times: user 170 µs, sys: 49 µs, total: 219 µs\n",
      "Wall time: 157 µs\n"
     ]
    }
   ],
   "source": [
    "%%time\n",
    "\n",
    "#########################################################################\n",
    "###################### Simulation and experiment ########################\n",
    "#########################################################################\n",
    "\n",
    "#figs_dir = \"/home/linneu/paper/ml_topological_phases_in_real_space/paper/ssh1/periodic_100_6561\"\n",
    "simulation_dir = SSH1_PERIODIC_100_6561_SIMULATION_DIR  #\"/home/linneu/ssh_simulations/ssh1/periodic_100_6561\"\n",
    "experiment_name = \"0\"\n",
    "n_experiments = None\n",
    "load_hamiltonian_summary = False\n",
    "#winding_cmap_dict = {0: \"Reds\", 1:\"Blues\"}\n",
    "\n",
    "#########################################################################\n",
    "################### Results from a single experiment ####################\n",
    "#########################################################################\n",
    "\n",
    "### Visualizing train/val/test splits with scatter plot for a single experiment\n",
    "scatter_train_val_test_params = {\n",
    "\"fig_params\":{\"figsize\": (6,6)}, \n",
    "\"val_params\": {\"marker\": \"s\", \"s\": 64, \"alpha\": 0.2, \"color\": \"salmon\", \"label\": \"val\"},\n",
    "\"test_params\": {\"marker\": \"s\", \"s\": 64, \"alpha\": 0.5, \"color\": \"royalblue\", \"label\": \"test\"},\n",
    "\"train_params\": {\"marker\": \"o\", \"s\": 3, \"alpha\": 1, \"color\": \"green\", \"label\": \"train\"},\n",
    "\"legend_params\": {\"framealpha\": 0.8, \"loc\": \"upper right\", \"fontsize\": 16},\n",
    "\"xlabel_params\": {\"xlabel\": \"$t_2$\", \"fontsize\": 24},\n",
    "\"ylabel_params\": {\"ylabel\": \"$t_1$\", \"fontsize\": 24},\n",
    "\"title_params\": {},\n",
    "\"xlim_params\": {\"left\": -2, \"right\": 2},\n",
    "\"ylim_params\": {\"bottom\": -2, \"top\": 2},\n",
    "\"xticks_params\": {\"fontsize\": 14},\n",
    "\"yticks_params\": {\"fontsize\": 14},\n",
    "\"tight_params\": {},\n",
    "\"savefig_params\": {\"fname\": os.path.join(SSH1_PERIODIC_100_6561_FIGURES_DIR,\"scatter_train_val_test_experiment_0.png\")},\n",
    "}\n",
    "\n",
    "### Plotting train winding labels with scatter plot for a single experiment\n",
    "scatter_winding_train_params = {\n",
    "\"fig_params\":{\"figsize\": (6,6)}, \n",
    "\"winding_params\": {0: {\"marker\": \"o\", \"s\": 10, \"color\": \"red\", \"label\": 0}, \\\n",
    "                   1: {\"marker\": \"o\", \"s\": 10, \"color\": \"blue\", \"label\": 1}, \\\n",
    "                                    },\n",
    "\"legend_params\": {\"framealpha\": 0.8, \"loc\": \"upper right\", \"fontsize\": 16},\n",
    "\"xlabel_params\": {\"xlabel\": \"$t_2$\", \"fontsize\": 24},\n",
    "\"ylabel_params\": {\"ylabel\": \"$t_1$\", \"fontsize\": 24},\n",
    "\"title_params\": {},\n",
    "\"xlim_params\": {\"left\": -2, \"right\": 2},\n",
    "\"ylim_params\": {\"bottom\": -2, \"top\": 2},\n",
    "\"xticks_params\": {\"fontsize\": 14},\n",
    "\"yticks_params\": {\"fontsize\": 14},\n",
    "\"tight_params\": {},\n",
    "#\"train_winding_path_to_save\": \"/home/linneu/ml_topological_phases_in_real_space/paper/ssh1/periodic_100_6561/train_winding_labels_experiment_0.png\",\n",
    "\"savefig_params\": {\"fname\": os.path.join(SSH1_PERIODIC_100_6561_FIGURES_DIR,\"scatter_winding_train_experiment_0.png\")},\n",
    "}\n",
    "        \n",
    "### Plotting prediction grid with pcolormesh\n",
    "pcolormesh_prediction_grid_params = {\n",
    "\"fig_params\": {\"figsize\": (6,6)},\n",
    "\"winding_params\": {0: {\"marker\": \"o\", \"s\": 10, \"color\": \"red\", \"label\": 0}, \n",
    "                   1: {\"marker\": \"o\", \"s\": 10, \"color\": \"blue\", \"label\": 1}},\n",
    "#\"prediction_grid_pcolormesh_params\": {\"cmap\": ListedColormap([\"hotpink\", \"lightskyblue\"]), \"alpha\": 0.5},\n",
    "\"pcolormesh_params\": {\"cmap\": \"ssh1\", \"alpha\": 0.5},\n",
    "\"legend_params\": {\"framealpha\": 0.8, \"loc\": \"upper right\", \"fontsize\": 16},\n",
    "\"xlabel_params\": {\"xlabel\": \"$t_2$\", \"fontsize\": 24},\n",
    "\"ylabel_params\": {\"ylabel\": \"$t_1$\", \"fontsize\": 24},\n",
    "\"title_params\": {},\n",
    "\"xlim_params\": {\"left\": -2, \"right\": 2},\n",
    "\"ylim_params\": {\"bottom\": -2, \"top\": 2},\n",
    "\"xticks_params\": {\"fontsize\": 14},\n",
    "\"yticks_params\": {\"fontsize\": 14},\n",
    "\"tight_params\": {},\n",
    "\"savefig_params\": {\"fname\": os.path.join(SSH1_PERIODIC_100_6561_FIGURES_DIR,\"pcolormesh_prediction_grid_experiment_0.png\")},\n",
    "}\n",
    "    \n",
    "### Plotting Winding Heatmaps for a single experiment\n",
    "winding_cmap_dict = {0: \"Reds\", 1:\"Blues\"}\n",
    "imshow_winding_grid_params = {\n",
    "\"winding\": 1,\n",
    "\"imshow_params\": {\"cmap\": \"bwr_r\", \"aspect\": \"equal\", \"alpha\": None, \"origin\": \"lower\", \"extent\": [-2,2,-2,2],\\\n",
    "                  \"vmin\": 0, \"vmax\":1},\n",
    "\"colorbar_params\": {\"mappable\": None, \"labelsize\": 24, \"ticks\": [0, 0.2, 0.4, 0.6, 0.8, 1.0], \"pad\": 0.1, \"shrink\": 0.8, \\\n",
    "                                           \"extend\": \"neither\"},\n",
    "#\"colorbar_params\": {0:{\"mappable\": None, \"labelsize\": 24, \"ticks\": [0, 0.2, 0.4, 0.6, 0.8, 1.0], \"pad\": 0.1, \"shrink\": 0.8, \\\n",
    "#                                           \"extend\": \"neither\"},\n",
    "#                    1: {\"mappable\": None, \"labelsize\": 24, \"ticks\": [0, 0.2, 0.4, 0.6, 0.8, 1.0], \"pad\": 0.1, \"shrink\": 0.8, \\\n",
    "#                                           \"extend\": \"neither\"}},\n",
    "\"fig_params\": {\"figsize\": (12,12)},\n",
    "\"xlabel_params\": {\"xlabel\": \"$t_2$\", \"fontsize\": 48},\n",
    "\"ylabel_params\": {\"ylabel\": \"$t_1$\", \"fontsize\": 48},\n",
    "\"title_params\": {},\n",
    "\"xlim_params\": {\"left\": -2, \"right\": 2},\n",
    "\"ylim_params\": {\"bottom\": -2, \"top\": 2},\n",
    "\"xticks_params\": {\"fontsize\": 24},\n",
    "\"yticks_params\": {\"fontsize\": 24},\n",
    "\"tight_params\": {},\n",
    "\"savefig_params\": {\"fname\": os.path.join(SSH1_PERIODIC_100_6561_FIGURES_DIR,\"imshow_winding_grid_winding_{}_{}.png\")},\n",
    "} \n",
    "        \n",
    "##################################################################################\n",
    "################### Bootstrapped results from all experiments ####################\n",
    "##################################################################################\n",
    "    \n",
    "### Plotting simulation winding heatmaps\n",
    "merge_imshow_winding_grids_params = {\n",
    "\"winding_params\": {1: {\"cmap\": \"bwr_r\", \"aspect\": \"equal\", \"alpha\": None, \"origin\": \"lower\", \"extent\": [-2,2,-2,2], \\\n",
    "                  \"vmin\": 0, \"vmax\": 1}},\n",
    "#\"winding_params\": {0: {\"cmap\": \"Reds_alpha\", \"aspect\": \"equal\", \"alpha\": None, \"origin\": \"lower\", \"extent\": [-2,2,-2,2], \\\n",
    "#                                           \"vmin\": 0, \"vmax\": 1},\n",
    "#                       1: {\"cmap\": \"Blues_alpha\", \"aspect\": \"equal\", \"alpha\": None, \"origin\": \"lower\", \"extent\": [-2,2,-2,2], \\\n",
    "#                                           \"vmin\": 0, \"vmax\": 1}},\n",
    "\"colorbar_params\": {1: {\"mappable\": None, \"labelsize\": 24, \"ticks\": [0, 0.2, 0.4, 0.6, 0.8, 1.0], \"pad\": 0.1, \"shrink\": 0.8, \\\n",
    "                                           \"extend\": \"neither\"}},\n",
    "\"fig_params\": {\"figsize\": (12,12)},\n",
    "\"xlabel_params\": {\"xlabel\": \"$t_2$\", \"fontsize\": 48},\n",
    "\"ylabel_params\": {\"ylabel\": \"$t_1$\", \"fontsize\": 48},\n",
    "\"title_params\": {},\n",
    "\"xlim_params\": {\"left\": -2, \"right\": 2},\n",
    "\"ylim_params\": {\"bottom\": -2, \"top\": 2},\n",
    "\"xticks_params\": {\"fontsize\": 24},\n",
    "\"yticks_params\": {\"fontsize\": 24},\n",
    "\"tight_params\": {},\n",
    "#\"sim_winding_heatmap_path_to_save\": \"/home/linneu/ml_topological_phases_in_real_space/paper/ssh1/{}_{}_{}/simulation_merged_winding_grid.png\".format(ssh_type,chain_length,n_hamiltonians),\n",
    "\"savefig_params\": {\"fname\": os.path.join(SSH1_PERIODIC_100_6561_FIGURES_DIR,\"merge_winding_grids_{}.png\")},\n",
    "}\n",
    "        \n",
    "### Plotting feature importances\n",
    "plot_feature_importances_params = {\n",
    "\"n_features\": None,\n",
    "\"plot\": \"bar\",\n",
    "\"plot_params\": {\"color\": \"indianred\", \"width\": 0.7},\n",
    "\"hist_precision\": 1000,\n",
    "\"fig_params\": {\"figsize\": (12,12)}, \n",
    "\"xlabel_params\": {\"xlabel\": \"lattice site\", \"fontsize\": 24},\n",
    "\"ylabel_params\": {\"ylabel\": \"reduction in information entropy (%)\", \"fontsize\": 24},\n",
    "\"title_params\": {\"label\": \"Information entropy signature - SSH 1\", \"fontsize\": 24},\n",
    "\"xlim_params\": {},\n",
    "\"ylim_params\": {},\n",
    "\"xticks_params\": {\"ticks\": [int(i) for i in np.linspace(0,99,10).astype(int)], \"fontsize\": 24},\n",
    "\"yticks_params\": {\"fontsize\": 24},\n",
    "\"tight_params\": {},\n",
    "#\"feature_importances_path_to_save\": \"/home/linneu/ml_topological_phases_in_real_space/paper/ssh1/{}_{}_{}/feature_importances.png\".format(ssh_type,chain_length,n_hamiltonians),\n",
    "\"savefig_params\": {\"fname\": os.path.join(SSH1_PERIODIC_100_6561_FIGURES_DIR,\"plot_feature_importances.png\")},\n",
    "}\n",
    "\n",
    "### Plotting cumulative feature importances\n",
    "plot_cumulative_feature_importances_params = {\n",
    "\"n_features\": None,\n",
    "\"plot\": \"bar\",\n",
    "\"hist_precision\": 1000,\n",
    "\"plot_params\": {\"color\":\"indianred\", \"width\": 0.7},\n",
    "\"fig_params\": {\"figsize\": (12,12)},\n",
    "\"xlabel_params\": {\"xlabel\": \"lattice site\", \"fontsize\": 24},\n",
    "\"ylabel_params\": {\"ylabel\": \"cumulative reduction in information entropy (%)\", \"fontsize\": 24},\n",
    "\"title_params\": {\"label\": \"Cumulative information entropy signature - SSH 1\", \"fontsize\": 24},\n",
    "\"xlim_params\": {},\n",
    "\"ylim_params\": {},\n",
    "\"xticks_params\": {\"ticks\": [int(i) for i in np.linspace(0,99,10).astype(int)], \"fontsize\": 24},\n",
    "\"yticks_params\": {\"fontsize\": 24},\n",
    "\"tight_params\": {},\n",
    "#cumulative_features_path_to_save = \"/home/linneu/ml_topological_phases_in_real_space/paper/ssh1/periodic_100_6561/cumulative_feature_importances.png\"\n",
    "\"savefig_params\": {\"fname\": os.path.join(SSH1_PERIODIC_100_6561_FIGURES_DIR,\"plot_cumulative_feature_importances.png\")},\n",
    "}"
   ]
  },
  {
   "cell_type": "code",
   "execution_count": 3,
   "metadata": {
    "execution": {
     "iopub.execute_input": "2020-05-01T23:19:26.349109Z",
     "iopub.status.busy": "2020-05-01T23:19:26.346017Z",
     "iopub.status.idle": "2020-05-01T23:19:26.455335Z",
     "shell.execute_reply": "2020-05-01T23:19:26.453516Z"
    },
    "papermill": {
     "duration": 0.130022,
     "end_time": "2020-05-01T23:19:26.455580",
     "exception": false,
     "start_time": "2020-05-01T23:19:26.325558",
     "status": "completed"
    },
    "tags": [
     "injected-parameters"
    ]
   },
   "outputs": [],
   "source": [
    "# Parameters\n",
    "scatter_train_val_test_params = {\n",
    "    \"fig_params\": {\"figsize\": [6, 6]},\n",
    "    \"val_params\": {\n",
    "        \"marker\": \"s\",\n",
    "        \"s\": 64,\n",
    "        \"alpha\": 0.2,\n",
    "        \"color\": \"salmon\",\n",
    "        \"label\": \"val\",\n",
    "    },\n",
    "    \"test_params\": {\n",
    "        \"marker\": \"s\",\n",
    "        \"s\": 64,\n",
    "        \"alpha\": 0.5,\n",
    "        \"color\": \"royalblue\",\n",
    "        \"label\": \"test\",\n",
    "    },\n",
    "    \"train_params\": {\n",
    "        \"marker\": \"o\",\n",
    "        \"s\": 3,\n",
    "        \"alpha\": 1,\n",
    "        \"color\": \"green\",\n",
    "        \"label\": \"train\",\n",
    "    },\n",
    "    \"legend_params\": {\"framealpha\": 0.8, \"loc\": \"upper right\", \"fontsize\": 16},\n",
    "    \"xlabel_params\": {\"xlabel\": \"$t_2$\", \"fontsize\": 24},\n",
    "    \"ylabel_params\": {\"ylabel\": \"$t_1$\", \"fontsize\": 24},\n",
    "    \"title_params\": {},\n",
    "    \"xlim_params\": {\"left\": -2, \"right\": 2},\n",
    "    \"ylim_params\": {\"bottom\": -2, \"top\": 2},\n",
    "    \"xticks_params\": {\"fontsize\": 14},\n",
    "    \"yticks_params\": {\"fontsize\": 14},\n",
    "    \"tight_params\": {},\n",
    "    \"savefig_params\": {\n",
    "        \"fname\": \"/home/rio/ml_topological_phases_in_real_space/paper/ssh1/periodic_100_6561/scatter_train_val_test_experiment_0.png\"\n",
    "    },\n",
    "}\n",
    "scatter_winding_train_params = {\n",
    "    \"fig_params\": {\"figsize\": [6, 6]},\n",
    "    \"winding_params\": {\n",
    "        \"0\": {\"marker\": \"o\", \"s\": 10, \"color\": \"red\", \"label\": 0},\n",
    "        \"1\": {\"marker\": \"o\", \"s\": 10, \"color\": \"blue\", \"label\": 1},\n",
    "    },\n",
    "    \"legend_params\": {\"framealpha\": 0.8, \"loc\": \"upper right\", \"fontsize\": 16},\n",
    "    \"xlabel_params\": {\"xlabel\": \"$t_2$\", \"fontsize\": 24},\n",
    "    \"ylabel_params\": {\"ylabel\": \"$t_1$\", \"fontsize\": 24},\n",
    "    \"title_params\": {},\n",
    "    \"xlim_params\": {\"left\": -2, \"right\": 2},\n",
    "    \"ylim_params\": {\"bottom\": -2, \"top\": 2},\n",
    "    \"xticks_params\": {\"fontsize\": 14},\n",
    "    \"yticks_params\": {\"fontsize\": 14},\n",
    "    \"tight_params\": {},\n",
    "    \"savefig_params\": {\n",
    "        \"fname\": \"/home/rio/ml_topological_phases_in_real_space/paper/ssh1/periodic_100_6561/scatter_winding_train_experiment_0.png\"\n",
    "    },\n",
    "}\n",
    "pcolormesh_prediction_grid_params = {\n",
    "    \"fig_params\": {\"figsize\": [6, 6]},\n",
    "    \"winding_params\": {\n",
    "        \"0\": {\"marker\": \"o\", \"s\": 10, \"color\": \"red\", \"label\": 0},\n",
    "        \"1\": {\"marker\": \"o\", \"s\": 10, \"color\": \"blue\", \"label\": 1},\n",
    "    },\n",
    "    \"pcolormesh_params\": {\"cmap\": \"ssh1\", \"alpha\": 0.5},\n",
    "    \"legend_params\": {\"framealpha\": 0.8, \"loc\": \"upper right\", \"fontsize\": 16},\n",
    "    \"xlabel_params\": {\"xlabel\": \"$t_2$\", \"fontsize\": 24},\n",
    "    \"ylabel_params\": {\"ylabel\": \"$t_1$\", \"fontsize\": 24},\n",
    "    \"title_params\": {},\n",
    "    \"xlim_params\": {\"left\": -2, \"right\": 2},\n",
    "    \"ylim_params\": {\"bottom\": -2, \"top\": 2},\n",
    "    \"xticks_params\": {\"fontsize\": 14},\n",
    "    \"yticks_params\": {\"fontsize\": 14},\n",
    "    \"tight_params\": {},\n",
    "    \"savefig_params\": {\n",
    "        \"fname\": \"/home/rio/ml_topological_phases_in_real_space/paper/ssh1/periodic_100_6561/pcolormesh_prediction_grid_experiment_0.png\"\n",
    "    },\n",
    "}\n",
    "winding_cmap_dict = {\"0\": \"Reds\", \"1\": \"Blues\"}\n",
    "imshow_winding_grid_params = {\n",
    "    \"winding\": 1,\n",
    "    \"imshow_params\": {\n",
    "        \"cmap\": \"bwr_r\",\n",
    "        \"aspect\": \"equal\",\n",
    "        \"alpha\": None,\n",
    "        \"origin\": \"lower\",\n",
    "        \"extent\": [-2, 2, -2, 2],\n",
    "        \"vmin\": 0,\n",
    "        \"vmax\": 1,\n",
    "    },\n",
    "    \"colorbar_params\": {\n",
    "        \"mappable\": None,\n",
    "        \"labelsize\": 24,\n",
    "        \"ticks\": [0, 0.2, 0.4, 0.6, 0.8, 1.0],\n",
    "        \"pad\": 0.1,\n",
    "        \"shrink\": 0.8,\n",
    "        \"extend\": \"neither\",\n",
    "    },\n",
    "    \"fig_params\": {\"figsize\": [12, 12]},\n",
    "    \"xlabel_params\": {\"xlabel\": \"$t_2$\", \"fontsize\": 48},\n",
    "    \"ylabel_params\": {\"ylabel\": \"$t_1$\", \"fontsize\": 48},\n",
    "    \"title_params\": {},\n",
    "    \"xlim_params\": {\"left\": -2, \"right\": 2},\n",
    "    \"ylim_params\": {\"bottom\": -2, \"top\": 2},\n",
    "    \"xticks_params\": {\"fontsize\": 24},\n",
    "    \"yticks_params\": {\"fontsize\": 24},\n",
    "    \"tight_params\": {},\n",
    "    \"savefig_params\": {\n",
    "        \"fname\": \"/home/rio/ml_topological_phases_in_real_space/paper/ssh1/periodic_100_6561/imshow_winding_grid_winding_{}_{}.png\"\n",
    "    },\n",
    "}\n",
    "merge_imshow_winding_grids_params = {\n",
    "    \"winding_params\": {\n",
    "        \"0\": {\n",
    "            \"cmap\": \"Reds_alpha\",\n",
    "            \"aspect\": \"equal\",\n",
    "            \"alpha\": None,\n",
    "            \"origin\": \"lower\",\n",
    "            \"extent\": [-2, 2, -2, 2],\n",
    "            \"vmin\": 0,\n",
    "            \"vmax\": 1,\n",
    "        },\n",
    "        \"1\": {\n",
    "            \"cmap\": \"Blues_alpha\",\n",
    "            \"aspect\": \"equal\",\n",
    "            \"alpha\": None,\n",
    "            \"origin\": \"lower\",\n",
    "            \"extent\": [-2, 2, -2, 2],\n",
    "            \"vmin\": 0,\n",
    "            \"vmax\": 1,\n",
    "        },\n",
    "    },\n",
    "    \"colorbar_params\": {},\n",
    "    \"fig_params\": {\"figsize\": [12, 12]},\n",
    "    \"xlabel_params\": {\"xlabel\": \"$t_2$\", \"fontsize\": 48},\n",
    "    \"ylabel_params\": {\"ylabel\": \"$t_1$\", \"fontsize\": 48},\n",
    "    \"title_params\": {},\n",
    "    \"xlim_params\": {\"left\": -2, \"right\": 2},\n",
    "    \"ylim_params\": {\"bottom\": -2, \"top\": 2},\n",
    "    \"xticks_params\": {\"fontsize\": 24},\n",
    "    \"yticks_params\": {\"fontsize\": 24},\n",
    "    \"tight_params\": {},\n",
    "    \"savefig_params\": {\n",
    "        \"fname\": \"/home/rio/ml_topological_phases_in_real_space/paper/ssh1/periodic_100_6561/merge_imshow_winding_grids_second_{}.png\"\n",
    "    },\n",
    "}\n",
    "plot_feature_importances_params = {\n",
    "    \"n_features\": None,\n",
    "    \"plot\": \"bar\",\n",
    "    \"plot_params\": {\"color\": \"indianred\", \"width\": 0.7},\n",
    "    \"hist_precision\": 1000,\n",
    "    \"fig_params\": {\"figsize\": [12, 12]},\n",
    "    \"xlabel_params\": {\"xlabel\": \"lattice site\", \"fontsize\": 24},\n",
    "    \"ylabel_params\": {\"ylabel\": \"reduction in information entropy (%)\", \"fontsize\": 24},\n",
    "    \"title_params\": {\"label\": \"Information entropy signature - SSH 1\", \"fontsize\": 24},\n",
    "    \"xlim_params\": {},\n",
    "    \"ylim_params\": {},\n",
    "    \"xticks_params\": {\"ticks\": [0, 11, 22, 33, 44, 55, 66, 77, 88, 99], \"fontsize\": 24},\n",
    "    \"yticks_params\": {\"fontsize\": 24},\n",
    "    \"tight_params\": {},\n",
    "    \"savefig_params\": {\n",
    "        \"fname\": \"/home/rio/ml_topological_phases_in_real_space/paper/ssh1/periodic_100_6561/plot_feature_importances.png\"\n",
    "    },\n",
    "}\n",
    "plot_cumulative_feature_importances_params = {\n",
    "    \"n_features\": None,\n",
    "    \"plot\": \"bar\",\n",
    "    \"hist_precision\": 1000,\n",
    "    \"plot_params\": {\"color\": \"indianred\", \"width\": 0.7},\n",
    "    \"fig_params\": {\"figsize\": [12, 12]},\n",
    "    \"xlabel_params\": {\"xlabel\": \"lattice site\", \"fontsize\": 24},\n",
    "    \"ylabel_params\": {\n",
    "        \"ylabel\": \"cumulative reduction in information entropy (%)\",\n",
    "        \"fontsize\": 24,\n",
    "    },\n",
    "    \"title_params\": {\n",
    "        \"label\": \"Cumulative information entropy signature - SSH 1\",\n",
    "        \"fontsize\": 24,\n",
    "    },\n",
    "    \"xlim_params\": {},\n",
    "    \"ylim_params\": {},\n",
    "    \"xticks_params\": {\"ticks\": [0, 11, 22, 33, 44, 55, 66, 77, 88, 99], \"fontsize\": 24},\n",
    "    \"yticks_params\": {\"fontsize\": 24},\n",
    "    \"tight_params\": {},\n",
    "    \"savefig_params\": {\n",
    "        \"fname\": \"/home/rio/ml_topological_phases_in_real_space/paper/ssh1/periodic_100_6561/plot_cumulative_feature_importances.png\"\n",
    "    },\n",
    "}\n",
    "simulation_dir = \"/home/rio/ssh_simulations/ssh1/periodic_100_6561\"\n",
    "experiment_name = \"0\"\n",
    "n_experiments = None\n",
    "load_hamiltonian_summary = False\n"
   ]
  },
  {
   "cell_type": "markdown",
   "metadata": {
    "papermill": {
     "duration": 0.018475,
     "end_time": "2020-05-01T23:19:26.525461",
     "exception": false,
     "start_time": "2020-05-01T23:19:26.506986",
     "status": "completed"
    },
    "tags": []
   },
   "source": [
    "## Results from a single experiment"
   ]
  },
  {
   "cell_type": "markdown",
   "metadata": {
    "papermill": {
     "duration": 0.014278,
     "end_time": "2020-05-01T23:19:26.554174",
     "exception": false,
     "start_time": "2020-05-01T23:19:26.539896",
     "status": "completed"
    },
    "tags": []
   },
   "source": [
    "#### Initializing Experiment instance"
   ]
  },
  {
   "cell_type": "code",
   "execution_count": 4,
   "metadata": {
    "execution": {
     "iopub.execute_input": "2020-05-01T23:19:26.584128Z",
     "iopub.status.busy": "2020-05-01T23:19:26.583818Z",
     "iopub.status.idle": "2020-05-01T23:19:27.251102Z",
     "shell.execute_reply": "2020-05-01T23:19:27.252274Z"
    },
    "papermill": {
     "duration": 0.684299,
     "end_time": "2020-05-01T23:19:27.252492",
     "exception": false,
     "start_time": "2020-05-01T23:19:26.568193",
     "status": "completed"
    },
    "tags": []
   },
   "outputs": [],
   "source": [
    "experiment = Experiment(simulation_dir, experiment_name)"
   ]
  },
  {
   "cell_type": "markdown",
   "metadata": {
    "papermill": {
     "duration": 0.014221,
     "end_time": "2020-05-01T23:19:27.283383",
     "exception": false,
     "start_time": "2020-05-01T23:19:27.269162",
     "status": "completed"
    },
    "tags": []
   },
   "source": [
    "#### Viewing Train/Val/Test split"
   ]
  },
  {
   "cell_type": "code",
   "execution_count": 5,
   "metadata": {
    "execution": {
     "iopub.execute_input": "2020-05-01T23:19:27.313869Z",
     "iopub.status.busy": "2020-05-01T23:19:27.313561Z",
     "iopub.status.idle": "2020-05-01T23:19:27.323234Z",
     "shell.execute_reply": "2020-05-01T23:19:27.322911Z"
    },
    "papermill": {
     "duration": 0.025572,
     "end_time": "2020-05-01T23:19:27.323284",
     "exception": false,
     "start_time": "2020-05-01T23:19:27.297712",
     "status": "completed"
    },
    "tags": []
   },
   "outputs": [
    {
     "name": "stdout",
     "output_type": "stream",
     "text": [
      "% train:  0.08474317939338516\n",
      "% val:  0.7620789513793629\n",
      "% test:  0.15317786922725193\n",
      "% train + val + test:  1.0\n",
      "\n",
      "\n",
      "number of train hamiltonians:  556\n",
      "number of val hamiltonians:  5000\n",
      "number of test hamiltonians:  1005\n",
      "total number of hamiltonians:  6561\n"
     ]
    }
   ],
   "source": [
    "experiment.print_train_val_test()"
   ]
  },
  {
   "cell_type": "markdown",
   "metadata": {
    "papermill": {
     "duration": 0.01414,
     "end_time": "2020-05-01T23:19:27.351717",
     "exception": false,
     "start_time": "2020-05-01T23:19:27.337577",
     "status": "completed"
    },
    "tags": []
   },
   "source": [
    "#### Viewing dataset summary"
   ]
  },
  {
   "cell_type": "code",
   "execution_count": 6,
   "metadata": {
    "execution": {
     "iopub.execute_input": "2020-05-01T23:19:27.381963Z",
     "iopub.status.busy": "2020-05-01T23:19:27.381660Z",
     "iopub.status.idle": "2020-05-01T23:19:27.453092Z",
     "shell.execute_reply": "2020-05-01T23:19:27.452621Z"
    },
    "papermill": {
     "duration": 0.087288,
     "end_time": "2020-05-01T23:19:27.453163",
     "exception": false,
     "start_time": "2020-05-01T23:19:27.365875",
     "status": "completed"
    },
    "tags": []
   },
   "outputs": [
    {
     "name": "stdout",
     "output_type": "stream",
     "text": [
      "Summary of train + val data\n",
      "\n",
      "% train/val phases: \n",
      "0    0.507919\n",
      "1    0.492081\n",
      "Name: phase, dtype: float64\n",
      "\n",
      "\n",
      "total train/val phases: \n",
      "0    2822\n",
      "1    2734\n",
      "Name: phase, dtype: int64\n",
      "\n",
      "\n",
      "Summary of test data\n",
      "\n",
      "% test phases: \n",
      "1    0.552133\n",
      "0    0.447867\n",
      "Name: phase, dtype: float64\n",
      "\n",
      "\n",
      "total test phases: \n",
      "1    466\n",
      "0    378\n",
      "Name: phase, dtype: int64\n",
      "\n",
      "\n",
      "Summary of train + val + test data\n",
      "\n",
      "% phases: \n",
      "1    0.5\n",
      "0    0.5\n",
      "Name: phase, dtype: float64\n",
      "\n",
      "\n",
      "total phases: \n",
      "1    3200\n",
      "0    3200\n",
      "Name: phase, dtype: int64\n"
     ]
    }
   ],
   "source": [
    "experiment.print_phases()"
   ]
  },
  {
   "cell_type": "markdown",
   "metadata": {
    "papermill": {
     "duration": 0.015566,
     "end_time": "2020-05-01T23:19:27.490810",
     "exception": false,
     "start_time": "2020-05-01T23:19:27.475244",
     "status": "completed"
    },
    "tags": []
   },
   "source": [
    "#### Viewing eigenvector summary"
   ]
  },
  {
   "cell_type": "code",
   "execution_count": 7,
   "metadata": {
    "execution": {
     "iopub.execute_input": "2020-05-01T23:19:27.526722Z",
     "iopub.status.busy": "2020-05-01T23:19:27.526393Z",
     "iopub.status.idle": "2020-05-01T23:19:27.541080Z",
     "shell.execute_reply": "2020-05-01T23:19:27.540759Z"
    },
    "papermill": {
     "duration": 0.03104,
     "end_time": "2020-05-01T23:19:27.541129",
     "exception": false,
     "start_time": "2020-05-01T23:19:27.510089",
     "status": "completed"
    },
    "tags": []
   },
   "outputs": [
    {
     "data": {
      "text/html": [
       "<div>\n",
       "<style scoped>\n",
       "    .dataframe tbody tr th:only-of-type {\n",
       "        vertical-align: middle;\n",
       "    }\n",
       "\n",
       "    .dataframe tbody tr th {\n",
       "        vertical-align: top;\n",
       "    }\n",
       "\n",
       "    .dataframe thead th {\n",
       "        text-align: right;\n",
       "    }\n",
       "</style>\n",
       "<table border=\"1\" class=\"dataframe\">\n",
       "  <thead>\n",
       "    <tr style=\"text-align: right;\">\n",
       "      <th></th>\n",
       "      <th>id</th>\n",
       "      <th>phase</th>\n",
       "      <th>pred_phase</th>\n",
       "      <th>type_of</th>\n",
       "    </tr>\n",
       "  </thead>\n",
       "  <tbody>\n",
       "    <tr>\n",
       "      <th>0</th>\n",
       "      <td>0</td>\n",
       "      <td>999</td>\n",
       "      <td>0</td>\n",
       "      <td>test</td>\n",
       "    </tr>\n",
       "    <tr>\n",
       "      <th>1</th>\n",
       "      <td>0</td>\n",
       "      <td>999</td>\n",
       "      <td>0</td>\n",
       "      <td>test</td>\n",
       "    </tr>\n",
       "    <tr>\n",
       "      <th>2</th>\n",
       "      <td>0</td>\n",
       "      <td>999</td>\n",
       "      <td>0</td>\n",
       "      <td>test</td>\n",
       "    </tr>\n",
       "    <tr>\n",
       "      <th>3</th>\n",
       "      <td>0</td>\n",
       "      <td>999</td>\n",
       "      <td>0</td>\n",
       "      <td>test</td>\n",
       "    </tr>\n",
       "    <tr>\n",
       "      <th>4</th>\n",
       "      <td>0</td>\n",
       "      <td>999</td>\n",
       "      <td>0</td>\n",
       "      <td>test</td>\n",
       "    </tr>\n",
       "  </tbody>\n",
       "</table>\n",
       "</div>"
      ],
      "text/plain": [
       "   id  phase  pred_phase type_of\n",
       "0   0    999           0    test\n",
       "1   0    999           0    test\n",
       "2   0    999           0    test\n",
       "3   0    999           0    test\n",
       "4   0    999           0    test"
      ]
     },
     "execution_count": 7,
     "metadata": {},
     "output_type": "execute_result"
    }
   ],
   "source": [
    "experiment.eigenvector_summary.head()"
   ]
  },
  {
   "cell_type": "markdown",
   "metadata": {
    "papermill": {
     "duration": 0.014635,
     "end_time": "2020-05-01T23:19:27.570558",
     "exception": false,
     "start_time": "2020-05-01T23:19:27.555923",
     "status": "completed"
    },
    "tags": []
   },
   "source": [
    "#### Vieweng Hamiltonian summary"
   ]
  },
  {
   "cell_type": "code",
   "execution_count": 8,
   "metadata": {
    "execution": {
     "iopub.execute_input": "2020-05-01T23:19:27.608129Z",
     "iopub.status.busy": "2020-05-01T23:19:27.607812Z",
     "iopub.status.idle": "2020-05-01T23:19:27.704371Z",
     "shell.execute_reply": "2020-05-01T23:19:27.706019Z"
    },
    "papermill": {
     "duration": 0.120241,
     "end_time": "2020-05-01T23:19:27.706317",
     "exception": false,
     "start_time": "2020-05-01T23:19:27.586076",
     "status": "completed"
    },
    "tags": []
   },
   "outputs": [
    {
     "data": {
      "text/html": [
       "<div>\n",
       "<style scoped>\n",
       "    .dataframe tbody tr th:only-of-type {\n",
       "        vertical-align: middle;\n",
       "    }\n",
       "\n",
       "    .dataframe tbody tr th {\n",
       "        vertical-align: top;\n",
       "    }\n",
       "\n",
       "    .dataframe thead th {\n",
       "        text-align: right;\n",
       "    }\n",
       "</style>\n",
       "<table border=\"1\" class=\"dataframe\">\n",
       "  <thead>\n",
       "    <tr style=\"text-align: right;\">\n",
       "      <th></th>\n",
       "      <th>t1</th>\n",
       "      <th>t2</th>\n",
       "      <th>type_of</th>\n",
       "      <th>0</th>\n",
       "      <th>1</th>\n",
       "      <th>phase</th>\n",
       "      <th>pred_phase</th>\n",
       "    </tr>\n",
       "    <tr>\n",
       "      <th>id</th>\n",
       "      <th></th>\n",
       "      <th></th>\n",
       "      <th></th>\n",
       "      <th></th>\n",
       "      <th></th>\n",
       "      <th></th>\n",
       "      <th></th>\n",
       "    </tr>\n",
       "  </thead>\n",
       "  <tbody>\n",
       "    <tr>\n",
       "      <th>0</th>\n",
       "      <td>-2.0</td>\n",
       "      <td>-2.00</td>\n",
       "      <td>test</td>\n",
       "      <td>0.66</td>\n",
       "      <td>0.34</td>\n",
       "      <td>999</td>\n",
       "      <td>0</td>\n",
       "    </tr>\n",
       "    <tr>\n",
       "      <th>1</th>\n",
       "      <td>-2.0</td>\n",
       "      <td>-1.95</td>\n",
       "      <td>test</td>\n",
       "      <td>0.79</td>\n",
       "      <td>0.21</td>\n",
       "      <td>0</td>\n",
       "      <td>0</td>\n",
       "    </tr>\n",
       "    <tr>\n",
       "      <th>2</th>\n",
       "      <td>-2.0</td>\n",
       "      <td>-1.90</td>\n",
       "      <td>test</td>\n",
       "      <td>0.82</td>\n",
       "      <td>0.18</td>\n",
       "      <td>0</td>\n",
       "      <td>0</td>\n",
       "    </tr>\n",
       "    <tr>\n",
       "      <th>3</th>\n",
       "      <td>-2.0</td>\n",
       "      <td>-1.85</td>\n",
       "      <td>test</td>\n",
       "      <td>0.86</td>\n",
       "      <td>0.14</td>\n",
       "      <td>0</td>\n",
       "      <td>0</td>\n",
       "    </tr>\n",
       "    <tr>\n",
       "      <th>4</th>\n",
       "      <td>-2.0</td>\n",
       "      <td>-1.80</td>\n",
       "      <td>test</td>\n",
       "      <td>0.89</td>\n",
       "      <td>0.11</td>\n",
       "      <td>0</td>\n",
       "      <td>0</td>\n",
       "    </tr>\n",
       "  </tbody>\n",
       "</table>\n",
       "</div>"
      ],
      "text/plain": [
       "     t1    t2 type_of     0     1  phase  pred_phase\n",
       "id                                                  \n",
       "0  -2.0 -2.00    test  0.66  0.34    999           0\n",
       "1  -2.0 -1.95    test  0.79  0.21      0           0\n",
       "2  -2.0 -1.90    test  0.82  0.18      0           0\n",
       "3  -2.0 -1.85    test  0.86  0.14      0           0\n",
       "4  -2.0 -1.80    test  0.89  0.11      0           0"
      ]
     },
     "execution_count": 8,
     "metadata": {},
     "output_type": "execute_result"
    }
   ],
   "source": [
    "experiment.hamiltonian_summary.head()"
   ]
  },
  {
   "cell_type": "markdown",
   "metadata": {
    "papermill": {
     "duration": 0.018027,
     "end_time": "2020-05-01T23:19:27.771803",
     "exception": false,
     "start_time": "2020-05-01T23:19:27.753776",
     "status": "completed"
    },
    "tags": []
   },
   "source": [
    "#### Viewing accuracy"
   ]
  },
  {
   "cell_type": "code",
   "execution_count": 9,
   "metadata": {
    "execution": {
     "iopub.execute_input": "2020-05-01T23:19:27.805465Z",
     "iopub.status.busy": "2020-05-01T23:19:27.805155Z",
     "iopub.status.idle": "2020-05-01T23:19:27.815365Z",
     "shell.execute_reply": "2020-05-01T23:19:27.815043Z"
    },
    "papermill": {
     "duration": 0.027739,
     "end_time": "2020-05-01T23:19:27.815416",
     "exception": false,
     "start_time": "2020-05-01T23:19:27.787677",
     "status": "completed"
    },
    "tags": []
   },
   "outputs": [
    {
     "data": {
      "text/plain": [
       "{'eigenvector_train': 0.9829496402877698,\n",
       " 'eigenvector_val': 0.963464,\n",
       " 'eigenvector_test': 0.7753909952606635,\n",
       " 'hamiltonian_train': 1.0,\n",
       " 'hamiltonian_val': 1.0,\n",
       " 'hamiltonian_test': 0.9158767772511849}"
      ]
     },
     "execution_count": 9,
     "metadata": {},
     "output_type": "execute_result"
    }
   ],
   "source": [
    "experiment.accuracy"
   ]
  },
  {
   "cell_type": "markdown",
   "metadata": {
    "papermill": {
     "duration": 0.015296,
     "end_time": "2020-05-01T23:19:27.846004",
     "exception": false,
     "start_time": "2020-05-01T23:19:27.830708",
     "status": "completed"
    },
    "tags": []
   },
   "source": [
    "#### Visualizing train/val/test splits with scatter plot for a single experiment"
   ]
  },
  {
   "cell_type": "code",
   "execution_count": 10,
   "metadata": {
    "execution": {
     "iopub.execute_input": "2020-05-01T23:19:27.878448Z",
     "iopub.status.busy": "2020-05-01T23:19:27.878140Z",
     "iopub.status.idle": "2020-05-01T23:19:28.352156Z",
     "shell.execute_reply": "2020-05-01T23:19:28.352461Z"
    },
    "papermill": {
     "duration": 0.491351,
     "end_time": "2020-05-01T23:19:28.352523",
     "exception": false,
     "start_time": "2020-05-01T23:19:27.861172",
     "status": "completed"
    },
    "tags": []
   },
   "outputs": [
    {
     "data": {
      "image/png": "[encoded data removed]",
      "text/plain": [
       "<Figure size 432x432 with 1 Axes>"
      ]
     },
     "metadata": {
      "needs_background": "light"
     },
     "output_type": "display_data"
    }
   ],
   "source": [
    "experiment.scatter_train_val_test(**scatter_train_val_test_params)\n"
   ]
  },
  {
   "cell_type": "markdown",
   "metadata": {
    "papermill": {
     "duration": 0.016973,
     "end_time": "2020-05-01T23:19:28.386805",
     "exception": false,
     "start_time": "2020-05-01T23:19:28.369832",
     "status": "completed"
    },
    "tags": []
   },
   "source": [
    "#### Plotting train winding labels with scatter plot for a single experiment"
   ]
  },
  {
   "cell_type": "code",
   "execution_count": 11,
   "metadata": {
    "execution": {
     "iopub.execute_input": "2020-05-01T23:19:28.421709Z",
     "iopub.status.busy": "2020-05-01T23:19:28.421399Z",
     "iopub.status.idle": "2020-05-01T23:19:28.631006Z",
     "shell.execute_reply": "2020-05-01T23:19:28.630684Z"
    },
    "papermill": {
     "duration": 0.227828,
     "end_time": "2020-05-01T23:19:28.631058",
     "exception": false,
     "start_time": "2020-05-01T23:19:28.403230",
     "status": "completed"
    },
    "tags": []
   },
   "outputs": [
    {
     "data": {
      "image/png": "[encoded data removed]",
      "text/plain": [
       "<Figure size 432x432 with 1 Axes>"
      ]
     },
     "metadata": {
      "needs_background": "light"
     },
     "output_type": "display_data"
    }
   ],
   "source": [
    "scatter_winding_train_params[\"winding_params\"] = {int(w): scatter_winding_train_params[\"winding_params\"][w] for w in \n",
    "                                                  scatter_winding_train_params[\"winding_params\"]}\n",
    "experiment.scatter_winding_train(**scatter_winding_train_params)\n"
   ]
  },
  {
   "cell_type": "markdown",
   "metadata": {
    "papermill": {
     "duration": 0.016885,
     "end_time": "2020-05-01T23:19:28.665736",
     "exception": false,
     "start_time": "2020-05-01T23:19:28.648851",
     "status": "completed"
    },
    "tags": []
   },
   "source": [
    "#### Plotting prediction grid with pcolormesh for a single experiment"
   ]
  },
  {
   "cell_type": "code",
   "execution_count": 12,
   "metadata": {
    "execution": {
     "iopub.execute_input": "2020-05-01T23:19:28.701803Z",
     "iopub.status.busy": "2020-05-01T23:19:28.701486Z",
     "iopub.status.idle": "2020-05-01T23:19:28.906011Z",
     "shell.execute_reply": "2020-05-01T23:19:28.906312Z"
    },
    "papermill": {
     "duration": 0.223643,
     "end_time": "2020-05-01T23:19:28.906375",
     "exception": false,
     "start_time": "2020-05-01T23:19:28.682732",
     "status": "completed"
    },
    "tags": []
   },
   "outputs": [
    {
     "data": {
      "image/png": "[encoded data removed]",
      "text/plain": [
       "<Figure size 432x432 with 1 Axes>"
      ]
     },
     "metadata": {
      "needs_background": "light"
     },
     "output_type": "display_data"
    }
   ],
   "source": [
    "pcolormesh_prediction_grid_params[\"winding_params\"] = {int(w): pcolormesh_prediction_grid_params[\"winding_params\"][w] for w in \n",
    "                                                  pcolormesh_prediction_grid_params[\"winding_params\"]}\n",
    "experiment.pcolormesh_prediction_grid(**pcolormesh_prediction_grid_params)\n"
   ]
  },
  {
   "cell_type": "markdown",
   "metadata": {
    "papermill": {
     "duration": 0.01753,
     "end_time": "2020-05-01T23:19:28.942289",
     "exception": false,
     "start_time": "2020-05-01T23:19:28.924759",
     "status": "completed"
    },
    "tags": []
   },
   "source": [
    "#### Plotting single Winding Heatmaps for a single experiment"
   ]
  },
  {
   "cell_type": "code",
   "execution_count": 13,
   "metadata": {
    "execution": {
     "iopub.execute_input": "2020-05-01T23:19:28.980283Z",
     "iopub.status.busy": "2020-05-01T23:19:28.979968Z",
     "iopub.status.idle": "2020-05-01T23:19:29.676678Z",
     "shell.execute_reply": "2020-05-01T23:19:29.676358Z"
    },
    "papermill": {
     "duration": 0.716579,
     "end_time": "2020-05-01T23:19:29.676728",
     "exception": false,
     "start_time": "2020-05-01T23:19:28.960149",
     "status": "completed"
    },
    "tags": []
   },
   "outputs": [
    {
     "data": {
      "image/png": "[encoded data removed]",
      "text/plain": [
       "<Figure size 864x864 with 2 Axes>"
      ]
     },
     "metadata": {
      "needs_background": "light"
     },
     "output_type": "display_data"
    },
    {
     "data": {
      "image/png": "[encoded data removed]",
      "text/plain": [
       "<Figure size 864x864 with 2 Axes>"
      ]
     },
     "metadata": {
      "needs_background": "light"
     },
     "output_type": "display_data"
    }
   ],
   "source": [
    "winding_cmap_dict = {int(w): winding_cmap_dict[w] for w in                                                   winding_cmap_dict}\n",
    "fname = imshow_winding_grid_params[\"savefig_params\"][\"fname\"]\n",
    "for w, c in winding_cmap_dict.items():\n",
    "    imshow_winding_grid_params[\"winding\"] = w\n",
    "    imshow_winding_grid_params[\"imshow_params\"][\"cmap\"] = c\n",
    "    imshow_winding_grid_params[\"savefig_params\"][\"fname\"] = fname.format(w,\"exp_\"+experiment_name)\n",
    "    experiment.imshow_winding_grid(**imshow_winding_grid_params)\n",
    "imshow_winding_grid_params[\"savefig_params\"][\"fname\"] = fname"
   ]
  },
  {
   "cell_type": "markdown",
   "metadata": {
    "papermill": {
     "duration": 0.019321,
     "end_time": "2020-05-01T23:19:29.716154",
     "exception": false,
     "start_time": "2020-05-01T23:19:29.696833",
     "status": "completed"
    },
    "tags": []
   },
   "source": [
    "#### Plotting Merged Winding Heatmaps for a single experiment"
   ]
  },
  {
   "cell_type": "code",
   "execution_count": 14,
   "metadata": {
    "execution": {
     "iopub.execute_input": "2020-05-01T23:19:29.757134Z",
     "iopub.status.busy": "2020-05-01T23:19:29.756814Z",
     "iopub.status.idle": "2020-05-01T23:19:30.191989Z",
     "shell.execute_reply": "2020-05-01T23:19:30.191669Z"
    },
    "papermill": {
     "duration": 0.456518,
     "end_time": "2020-05-01T23:19:30.192039",
     "exception": false,
     "start_time": "2020-05-01T23:19:29.735521",
     "status": "completed"
    },
    "tags": []
   },
   "outputs": [
    {
     "name": "stdout",
     "output_type": "stream",
     "text": [
      "Plotting winding 0\n",
      "Plotting winding 1\n"
     ]
    },
    {
     "data": {
      "image/png": "[encoded data removed]",
      "text/plain": [
       "<Figure size 864x864 with 1 Axes>"
      ]
     },
     "metadata": {
      "needs_background": "light"
     },
     "output_type": "display_data"
    }
   ],
   "source": [
    "merge_imshow_winding_grids_params[\"winding_params\"] = {int(w): merge_imshow_winding_grids_params[\"winding_params\"][w] for w in \n",
    "                                                  merge_imshow_winding_grids_params[\"winding_params\"]}\n",
    "merge_imshow_winding_grids_params[\"colorbar_params\"] = {int(w): merge_imshow_winding_grids_params[\"colorbar_params\"][w] for w in \n",
    "                                                  merge_imshow_winding_grids_params[\"colorbar_params\"]}\n",
    "fname = merge_imshow_winding_grids_params[\"savefig_params\"][\"fname\"]\n",
    "merge_imshow_winding_grids_params[\"savefig_params\"][\"fname\"] = fname.format(\"exp_\"+experiment_name)\n",
    "experiment.merge_imshow_winding_grids(**merge_imshow_winding_grids_params)\n",
    "merge_imshow_winding_grids_params[\"savefig_params\"][\"fname\"] = fname"
   ]
  },
  {
   "cell_type": "markdown",
   "metadata": {
    "papermill": {
     "duration": 0.02055,
     "end_time": "2020-05-01T23:19:30.233820",
     "exception": false,
     "start_time": "2020-05-01T23:19:30.213270",
     "status": "completed"
    },
    "tags": []
   },
   "source": [
    "## Results from all experiments "
   ]
  },
  {
   "cell_type": "markdown",
   "metadata": {
    "papermill": {
     "duration": 0.019782,
     "end_time": "2020-05-01T23:19:30.273616",
     "exception": false,
     "start_time": "2020-05-01T23:19:30.253834",
     "status": "completed"
    },
    "tags": []
   },
   "source": [
    "#### Initializing ExperimentEnsemble instance"
   ]
  },
  {
   "cell_type": "code",
   "execution_count": 15,
   "metadata": {
    "execution": {
     "iopub.execute_input": "2020-05-01T23:19:30.315576Z",
     "iopub.status.busy": "2020-05-01T23:19:30.315266Z",
     "iopub.status.idle": "2020-05-01T23:19:30.474552Z",
     "shell.execute_reply": "2020-05-01T23:19:30.474844Z"
    },
    "papermill": {
     "duration": 0.181422,
     "end_time": "2020-05-01T23:19:30.474915",
     "exception": false,
     "start_time": "2020-05-01T23:19:30.293493",
     "status": "completed"
    },
    "tags": []
   },
   "outputs": [],
   "source": [
    "simulation = ExperimentEnsemble(simulation_dir, n_experiments, load_hamiltonian_summary)"
   ]
  },
  {
   "cell_type": "markdown",
   "metadata": {
    "papermill": {
     "duration": 0.020642,
     "end_time": "2020-05-01T23:19:30.516463",
     "exception": false,
     "start_time": "2020-05-01T23:19:30.495821",
     "status": "completed"
    },
    "tags": []
   },
   "source": [
    "#### Computing Hamiltonian summary"
   ]
  },
  {
   "cell_type": "code",
   "execution_count": 16,
   "metadata": {
    "execution": {
     "iopub.execute_input": "2020-05-01T23:19:30.559055Z",
     "iopub.status.busy": "2020-05-01T23:19:30.558734Z",
     "iopub.status.idle": "2020-05-01T23:19:31.598533Z",
     "shell.execute_reply": "2020-05-01T23:19:31.598218Z"
    },
    "papermill": {
     "duration": 1.061728,
     "end_time": "2020-05-01T23:19:31.598583",
     "exception": false,
     "start_time": "2020-05-01T23:19:30.536855",
     "status": "completed"
    },
    "tags": []
   },
   "outputs": [
    {
     "name": "stderr",
     "output_type": "stream",
     "text": [
      "\r",
      "mean hamiltonian summary:   0%|          | 0/100 [00:00<?, ?it/s]"
     ]
    },
    {
     "name": "stderr",
     "output_type": "stream",
     "text": [
      "\r",
      "mean hamiltonian summary:  12%|█▏        | 12/100 [00:00<00:00, 114.78it/s]"
     ]
    },
    {
     "name": "stderr",
     "output_type": "stream",
     "text": [
      "\r",
      "mean hamiltonian summary:  30%|███       | 30/100 [00:00<00:00, 126.80it/s]"
     ]
    },
    {
     "name": "stderr",
     "output_type": "stream",
     "text": [
      "\r",
      "mean hamiltonian summary:  44%|████▍     | 44/100 [00:00<00:00, 130.05it/s]"
     ]
    },
    {
     "name": "stderr",
     "output_type": "stream",
     "text": [
      "\r",
      "mean hamiltonian summary:  60%|██████    | 60/100 [00:00<00:00, 137.63it/s]"
     ]
    },
    {
     "name": "stderr",
     "output_type": "stream",
     "text": [
      "\r",
      "mean hamiltonian summary:  73%|███████▎  | 73/100 [00:00<00:00, 134.38it/s]"
     ]
    },
    {
     "name": "stderr",
     "output_type": "stream",
     "text": [
      "\r",
      "mean hamiltonian summary:  85%|████████▌ | 85/100 [00:00<00:00, 128.06it/s]"
     ]
    },
    {
     "name": "stderr",
     "output_type": "stream",
     "text": [
      "\r",
      "mean hamiltonian summary:  97%|█████████▋| 97/100 [00:00<00:00, 116.46it/s]"
     ]
    },
    {
     "name": "stderr",
     "output_type": "stream",
     "text": [
      "\r",
      "mean hamiltonian summary: 100%|██████████| 100/100 [00:00<00:00, 126.53it/s]"
     ]
    },
    {
     "name": "stderr",
     "output_type": "stream",
     "text": [
      "\n",
      "\r",
      "majority vote:   0%|          | 0/6561 [00:00<?, ?it/s]"
     ]
    },
    {
     "name": "stderr",
     "output_type": "stream",
     "text": [
      "\r",
      "majority vote: 100%|██████████| 6561/6561 [00:00<00:00, 82201.95it/s]"
     ]
    },
    {
     "name": "stderr",
     "output_type": "stream",
     "text": [
      "\n"
     ]
    }
   ],
   "source": [
    "simulation.compute_hamiltonian_summary()"
   ]
  },
  {
   "cell_type": "markdown",
   "metadata": {
    "papermill": {
     "duration": 0.022853,
     "end_time": "2020-05-01T23:19:31.644746",
     "exception": false,
     "start_time": "2020-05-01T23:19:31.621893",
     "status": "completed"
    },
    "tags": []
   },
   "source": [
    "#### Plotting single winding heatmaps for a simulation"
   ]
  },
  {
   "cell_type": "code",
   "execution_count": 17,
   "metadata": {
    "execution": {
     "iopub.execute_input": "2020-05-01T23:19:31.693952Z",
     "iopub.status.busy": "2020-05-01T23:19:31.693636Z",
     "iopub.status.idle": "2020-05-01T23:19:32.366717Z",
     "shell.execute_reply": "2020-05-01T23:19:32.366374Z"
    },
    "papermill": {
     "duration": 0.697788,
     "end_time": "2020-05-01T23:19:32.366768",
     "exception": false,
     "start_time": "2020-05-01T23:19:31.668980",
     "status": "completed"
    },
    "tags": []
   },
   "outputs": [
    {
     "data": {
      "image/png": "[encoded data removed]",
      "text/plain": [
       "<Figure size 864x864 with 2 Axes>"
      ]
     },
     "metadata": {
      "needs_background": "light"
     },
     "output_type": "display_data"
    },
    {
     "data": {
      "image/png": "[encoded data removed]",
      "text/plain": [
       "<Figure size 864x864 with 2 Axes>"
      ]
     },
     "metadata": {
      "needs_background": "light"
     },
     "output_type": "display_data"
    }
   ],
   "source": [
    "winding_cmap_dict = {int(w): winding_cmap_dict[w] for w in                                                   winding_cmap_dict}\n",
    "fname = imshow_winding_grid_params[\"savefig_params\"][\"fname\"]\n",
    "for w, c in winding_cmap_dict.items():\n",
    "    imshow_winding_grid_params[\"winding\"] = w\n",
    "    imshow_winding_grid_params[\"imshow_params\"][\"cmap\"] = c\n",
    "    imshow_winding_grid_params[\"savefig_params\"][\"fname\"] = fname.format(w,\"sim\")\n",
    "    simulation.imshow_winding_grid(**imshow_winding_grid_params)\n",
    "imshow_winding_grid_params[\"savefig_params\"][\"fname\"] = fname"
   ]
  },
  {
   "cell_type": "markdown",
   "metadata": {
    "papermill": {
     "duration": 0.026524,
     "end_time": "2020-05-01T23:19:32.418325",
     "exception": false,
     "start_time": "2020-05-01T23:19:32.391801",
     "status": "completed"
    },
    "tags": []
   },
   "source": [
    "#### Plotting merged simulation winding heatmaps"
   ]
  },
  {
   "cell_type": "code",
   "execution_count": 18,
   "metadata": {
    "execution": {
     "iopub.execute_input": "2020-05-01T23:19:32.469703Z",
     "iopub.status.busy": "2020-05-01T23:19:32.469387Z",
     "iopub.status.idle": "2020-05-01T23:19:32.867631Z",
     "shell.execute_reply": "2020-05-01T23:19:32.867308Z"
    },
    "papermill": {
     "duration": 0.425184,
     "end_time": "2020-05-01T23:19:32.867681",
     "exception": false,
     "start_time": "2020-05-01T23:19:32.442497",
     "status": "completed"
    },
    "tags": []
   },
   "outputs": [
    {
     "name": "stdout",
     "output_type": "stream",
     "text": [
      "Plotting winding 0\n",
      "Plotting winding 1\n"
     ]
    },
    {
     "data": {
      "image/png": "[encoded data removed]",
      "text/plain": [
       "<Figure size 864x864 with 1 Axes>"
      ]
     },
     "metadata": {
      "needs_background": "light"
     },
     "output_type": "display_data"
    }
   ],
   "source": [
    "merge_imshow_winding_grids_params[\"winding_params\"] = {int(w): merge_imshow_winding_grids_params[\"winding_params\"][w] for w in \n",
    "                                                  merge_imshow_winding_grids_params[\"winding_params\"]}\n",
    "merge_imshow_winding_grids_params[\"colorbar_params\"] = {int(w): merge_imshow_winding_grids_params[\"colorbar_params\"][w] for w in \n",
    "                                                  merge_imshow_winding_grids_params[\"colorbar_params\"]}\n",
    "fname = merge_imshow_winding_grids_params[\"savefig_params\"][\"fname\"]\n",
    "merge_imshow_winding_grids_params[\"savefig_params\"][\"fname\"] = fname.format(\"sim\")\n",
    "simulation.merge_imshow_winding_grids(**merge_imshow_winding_grids_params)\n",
    "merge_imshow_winding_grids_params[\"savefig_params\"][\"fname\"] = fname"
   ]
  },
  {
   "cell_type": "markdown",
   "metadata": {
    "papermill": {
     "duration": 0.028357,
     "end_time": "2020-05-01T23:19:32.922237",
     "exception": false,
     "start_time": "2020-05-01T23:19:32.893880",
     "status": "completed"
    },
    "tags": []
   },
   "source": [
    "#### Computing mean accuracies"
   ]
  },
  {
   "cell_type": "code",
   "execution_count": 19,
   "metadata": {
    "execution": {
     "iopub.execute_input": "2020-05-01T23:19:32.975112Z",
     "iopub.status.busy": "2020-05-01T23:19:32.974801Z",
     "iopub.status.idle": "2020-05-01T23:19:54.617845Z",
     "shell.execute_reply": "2020-05-01T23:19:54.617529Z"
    },
    "papermill": {
     "duration": 21.670357,
     "end_time": "2020-05-01T23:19:54.617895",
     "exception": false,
     "start_time": "2020-05-01T23:19:32.947538",
     "status": "completed"
    },
    "tags": []
   },
   "outputs": [
    {
     "name": "stderr",
     "output_type": "stream",
     "text": [
      "\r",
      "computing mean accuracies:   0%|          | 0/100 [00:00<?, ?it/s]"
     ]
    },
    {
     "name": "stderr",
     "output_type": "stream",
     "text": [
      "\r",
      "computing mean accuracies:   1%|          | 1/100 [00:00<00:14,  7.07it/s]"
     ]
    },
    {
     "name": "stderr",
     "output_type": "stream",
     "text": [
      "\r",
      "computing mean accuracies:   2%|▏         | 2/100 [00:00<00:15,  6.18it/s]"
     ]
    },
    {
     "name": "stderr",
     "output_type": "stream",
     "text": [
      "\r",
      "computing mean accuracies:   3%|▎         | 3/100 [00:00<00:17,  5.48it/s]"
     ]
    },
    {
     "name": "stderr",
     "output_type": "stream",
     "text": [
      "\r",
      "computing mean accuracies:   4%|▍         | 4/100 [00:00<00:18,  5.11it/s]"
     ]
    },
    {
     "name": "stderr",
     "output_type": "stream",
     "text": [
      "\r",
      "computing mean accuracies:   5%|▌         | 5/100 [00:01<00:18,  5.08it/s]"
     ]
    },
    {
     "name": "stderr",
     "output_type": "stream",
     "text": [
      "\r",
      "computing mean accuracies:   6%|▌         | 6/100 [00:01<00:18,  5.07it/s]"
     ]
    },
    {
     "name": "stderr",
     "output_type": "stream",
     "text": [
      "\r",
      "computing mean accuracies:   7%|▋         | 7/100 [00:01<00:17,  5.24it/s]"
     ]
    },
    {
     "name": "stderr",
     "output_type": "stream",
     "text": [
      "\r",
      "computing mean accuracies:   8%|▊         | 8/100 [00:01<00:17,  5.22it/s]"
     ]
    },
    {
     "name": "stderr",
     "output_type": "stream",
     "text": [
      "\r",
      "computing mean accuracies:   9%|▉         | 9/100 [00:01<00:17,  5.31it/s]"
     ]
    },
    {
     "name": "stderr",
     "output_type": "stream",
     "text": [
      "\r",
      "computing mean accuracies:  10%|█         | 10/100 [00:01<00:18,  4.92it/s]"
     ]
    },
    {
     "name": "stderr",
     "output_type": "stream",
     "text": [
      "\r",
      "computing mean accuracies:  11%|█         | 11/100 [00:02<00:18,  4.83it/s]"
     ]
    },
    {
     "name": "stderr",
     "output_type": "stream",
     "text": [
      "\r",
      "computing mean accuracies:  12%|█▏        | 12/100 [00:02<00:18,  4.71it/s]"
     ]
    },
    {
     "name": "stderr",
     "output_type": "stream",
     "text": [
      "\r",
      "computing mean accuracies:  13%|█▎        | 13/100 [00:02<00:19,  4.53it/s]"
     ]
    },
    {
     "name": "stderr",
     "output_type": "stream",
     "text": [
      "\r",
      "computing mean accuracies:  14%|█▍        | 14/100 [00:02<00:18,  4.58it/s]"
     ]
    },
    {
     "name": "stderr",
     "output_type": "stream",
     "text": [
      "\r",
      "computing mean accuracies:  15%|█▌        | 15/100 [00:03<00:18,  4.71it/s]"
     ]
    },
    {
     "name": "stderr",
     "output_type": "stream",
     "text": [
      "\r",
      "computing mean accuracies:  16%|█▌        | 16/100 [00:03<00:17,  4.68it/s]"
     ]
    },
    {
     "name": "stderr",
     "output_type": "stream",
     "text": [
      "\r",
      "computing mean accuracies:  17%|█▋        | 17/100 [00:03<00:17,  4.76it/s]"
     ]
    },
    {
     "name": "stderr",
     "output_type": "stream",
     "text": [
      "\r",
      "computing mean accuracies:  18%|█▊        | 18/100 [00:03<00:17,  4.67it/s]"
     ]
    },
    {
     "name": "stderr",
     "output_type": "stream",
     "text": [
      "\r",
      "computing mean accuracies:  19%|█▉        | 19/100 [00:03<00:17,  4.63it/s]"
     ]
    },
    {
     "name": "stderr",
     "output_type": "stream",
     "text": [
      "\r",
      "computing mean accuracies:  20%|██        | 20/100 [00:04<00:17,  4.62it/s]"
     ]
    },
    {
     "name": "stderr",
     "output_type": "stream",
     "text": [
      "\r",
      "computing mean accuracies:  21%|██        | 21/100 [00:04<00:17,  4.65it/s]"
     ]
    },
    {
     "name": "stderr",
     "output_type": "stream",
     "text": [
      "\r",
      "computing mean accuracies:  22%|██▏       | 22/100 [00:04<00:16,  4.70it/s]"
     ]
    },
    {
     "name": "stderr",
     "output_type": "stream",
     "text": [
      "\r",
      "computing mean accuracies:  23%|██▎       | 23/100 [00:04<00:17,  4.49it/s]"
     ]
    },
    {
     "name": "stderr",
     "output_type": "stream",
     "text": [
      "\r",
      "computing mean accuracies:  24%|██▍       | 24/100 [00:05<00:16,  4.52it/s]"
     ]
    },
    {
     "name": "stderr",
     "output_type": "stream",
     "text": [
      "\r",
      "computing mean accuracies:  25%|██▌       | 25/100 [00:05<00:16,  4.55it/s]"
     ]
    },
    {
     "name": "stderr",
     "output_type": "stream",
     "text": [
      "\r",
      "computing mean accuracies:  26%|██▌       | 26/100 [00:05<00:16,  4.59it/s]"
     ]
    },
    {
     "name": "stderr",
     "output_type": "stream",
     "text": [
      "\r",
      "computing mean accuracies:  27%|██▋       | 27/100 [00:05<00:18,  4.05it/s]"
     ]
    },
    {
     "name": "stderr",
     "output_type": "stream",
     "text": [
      "\r",
      "computing mean accuracies:  28%|██▊       | 28/100 [00:05<00:16,  4.26it/s]"
     ]
    },
    {
     "name": "stderr",
     "output_type": "stream",
     "text": [
      "\r",
      "computing mean accuracies:  29%|██▉       | 29/100 [00:06<00:16,  4.36it/s]"
     ]
    },
    {
     "name": "stderr",
     "output_type": "stream",
     "text": [
      "\r",
      "computing mean accuracies:  30%|███       | 30/100 [00:06<00:16,  4.36it/s]"
     ]
    },
    {
     "name": "stderr",
     "output_type": "stream",
     "text": [
      "\r",
      "computing mean accuracies:  31%|███       | 31/100 [00:06<00:15,  4.36it/s]"
     ]
    },
    {
     "name": "stderr",
     "output_type": "stream",
     "text": [
      "\r",
      "computing mean accuracies:  32%|███▏      | 32/100 [00:06<00:14,  4.54it/s]"
     ]
    },
    {
     "name": "stderr",
     "output_type": "stream",
     "text": [
      "\r",
      "computing mean accuracies:  33%|███▎      | 33/100 [00:07<00:14,  4.64it/s]"
     ]
    },
    {
     "name": "stderr",
     "output_type": "stream",
     "text": [
      "\r",
      "computing mean accuracies:  34%|███▍      | 34/100 [00:07<00:13,  4.71it/s]"
     ]
    },
    {
     "name": "stderr",
     "output_type": "stream",
     "text": [
      "\r",
      "computing mean accuracies:  35%|███▌      | 35/100 [00:07<00:13,  4.68it/s]"
     ]
    },
    {
     "name": "stderr",
     "output_type": "stream",
     "text": [
      "\r",
      "computing mean accuracies:  36%|███▌      | 36/100 [00:07<00:13,  4.75it/s]"
     ]
    },
    {
     "name": "stderr",
     "output_type": "stream",
     "text": [
      "\r",
      "computing mean accuracies:  37%|███▋      | 37/100 [00:07<00:13,  4.82it/s]"
     ]
    },
    {
     "name": "stderr",
     "output_type": "stream",
     "text": [
      "\r",
      "computing mean accuracies:  38%|███▊      | 38/100 [00:08<00:13,  4.75it/s]"
     ]
    },
    {
     "name": "stderr",
     "output_type": "stream",
     "text": [
      "\r",
      "computing mean accuracies:  39%|███▉      | 39/100 [00:08<00:13,  4.63it/s]"
     ]
    },
    {
     "name": "stderr",
     "output_type": "stream",
     "text": [
      "\r",
      "computing mean accuracies:  40%|████      | 40/100 [00:08<00:12,  4.78it/s]"
     ]
    },
    {
     "name": "stderr",
     "output_type": "stream",
     "text": [
      "\r",
      "computing mean accuracies:  41%|████      | 41/100 [00:08<00:12,  4.58it/s]"
     ]
    },
    {
     "name": "stderr",
     "output_type": "stream",
     "text": [
      "\r",
      "computing mean accuracies:  42%|████▏     | 42/100 [00:08<00:12,  4.66it/s]"
     ]
    },
    {
     "name": "stderr",
     "output_type": "stream",
     "text": [
      "\r",
      "computing mean accuracies:  43%|████▎     | 43/100 [00:09<00:11,  4.77it/s]"
     ]
    },
    {
     "name": "stderr",
     "output_type": "stream",
     "text": [
      "\r",
      "computing mean accuracies:  44%|████▍     | 44/100 [00:09<00:11,  4.77it/s]"
     ]
    },
    {
     "name": "stderr",
     "output_type": "stream",
     "text": [
      "\r",
      "computing mean accuracies:  45%|████▌     | 45/100 [00:09<00:11,  4.75it/s]"
     ]
    },
    {
     "name": "stderr",
     "output_type": "stream",
     "text": [
      "\r",
      "computing mean accuracies:  46%|████▌     | 46/100 [00:09<00:11,  4.74it/s]"
     ]
    },
    {
     "name": "stderr",
     "output_type": "stream",
     "text": [
      "\r",
      "computing mean accuracies:  47%|████▋     | 47/100 [00:10<00:11,  4.57it/s]"
     ]
    },
    {
     "name": "stderr",
     "output_type": "stream",
     "text": [
      "\r",
      "computing mean accuracies:  48%|████▊     | 48/100 [00:10<00:11,  4.41it/s]"
     ]
    },
    {
     "name": "stderr",
     "output_type": "stream",
     "text": [
      "\r",
      "computing mean accuracies:  49%|████▉     | 49/100 [00:10<00:11,  4.26it/s]"
     ]
    },
    {
     "name": "stderr",
     "output_type": "stream",
     "text": [
      "\r",
      "computing mean accuracies:  50%|█████     | 50/100 [00:10<00:11,  4.34it/s]"
     ]
    },
    {
     "name": "stderr",
     "output_type": "stream",
     "text": [
      "\r",
      "computing mean accuracies:  51%|█████     | 51/100 [00:10<00:10,  4.52it/s]"
     ]
    },
    {
     "name": "stderr",
     "output_type": "stream",
     "text": [
      "\r",
      "computing mean accuracies:  52%|█████▏    | 52/100 [00:11<00:10,  4.80it/s]"
     ]
    },
    {
     "name": "stderr",
     "output_type": "stream",
     "text": [
      "\r",
      "computing mean accuracies:  53%|█████▎    | 53/100 [00:11<00:10,  4.70it/s]"
     ]
    },
    {
     "name": "stderr",
     "output_type": "stream",
     "text": [
      "\r",
      "computing mean accuracies:  54%|█████▍    | 54/100 [00:11<00:09,  4.76it/s]"
     ]
    },
    {
     "name": "stderr",
     "output_type": "stream",
     "text": [
      "\r",
      "computing mean accuracies:  55%|█████▌    | 55/100 [00:11<00:09,  4.75it/s]"
     ]
    },
    {
     "name": "stderr",
     "output_type": "stream",
     "text": [
      "\r",
      "computing mean accuracies:  56%|█████▌    | 56/100 [00:11<00:08,  5.13it/s]"
     ]
    },
    {
     "name": "stderr",
     "output_type": "stream",
     "text": [
      "\r",
      "computing mean accuracies:  57%|█████▋    | 57/100 [00:12<00:08,  5.11it/s]"
     ]
    },
    {
     "name": "stderr",
     "output_type": "stream",
     "text": [
      "\r",
      "computing mean accuracies:  58%|█████▊    | 58/100 [00:12<00:07,  5.25it/s]"
     ]
    },
    {
     "name": "stderr",
     "output_type": "stream",
     "text": [
      "\r",
      "computing mean accuracies:  59%|█████▉    | 59/100 [00:12<00:10,  3.90it/s]"
     ]
    },
    {
     "name": "stderr",
     "output_type": "stream",
     "text": [
      "\r",
      "computing mean accuracies:  60%|██████    | 60/100 [00:12<00:09,  4.07it/s]"
     ]
    },
    {
     "name": "stderr",
     "output_type": "stream",
     "text": [
      "\r",
      "computing mean accuracies:  61%|██████    | 61/100 [00:13<00:09,  4.21it/s]"
     ]
    },
    {
     "name": "stderr",
     "output_type": "stream",
     "text": [
      "\r",
      "computing mean accuracies:  62%|██████▏   | 62/100 [00:13<00:08,  4.50it/s]"
     ]
    },
    {
     "name": "stderr",
     "output_type": "stream",
     "text": [
      "\r",
      "computing mean accuracies:  63%|██████▎   | 63/100 [00:13<00:08,  4.55it/s]"
     ]
    },
    {
     "name": "stderr",
     "output_type": "stream",
     "text": [
      "\r",
      "computing mean accuracies:  64%|██████▍   | 64/100 [00:13<00:07,  4.62it/s]"
     ]
    },
    {
     "name": "stderr",
     "output_type": "stream",
     "text": [
      "\r",
      "computing mean accuracies:  65%|██████▌   | 65/100 [00:14<00:08,  4.32it/s]"
     ]
    },
    {
     "name": "stderr",
     "output_type": "stream",
     "text": [
      "\r",
      "computing mean accuracies:  66%|██████▌   | 66/100 [00:14<00:07,  4.68it/s]"
     ]
    },
    {
     "name": "stderr",
     "output_type": "stream",
     "text": [
      "\r",
      "computing mean accuracies:  67%|██████▋   | 67/100 [00:14<00:07,  4.63it/s]"
     ]
    },
    {
     "name": "stderr",
     "output_type": "stream",
     "text": [
      "\r",
      "computing mean accuracies:  68%|██████▊   | 68/100 [00:14<00:06,  4.59it/s]"
     ]
    },
    {
     "name": "stderr",
     "output_type": "stream",
     "text": [
      "\r",
      "computing mean accuracies:  69%|██████▉   | 69/100 [00:14<00:06,  4.68it/s]"
     ]
    },
    {
     "name": "stderr",
     "output_type": "stream",
     "text": [
      "\r",
      "computing mean accuracies:  70%|███████   | 70/100 [00:15<00:06,  4.63it/s]"
     ]
    },
    {
     "name": "stderr",
     "output_type": "stream",
     "text": [
      "\r",
      "computing mean accuracies:  71%|███████   | 71/100 [00:15<00:06,  4.59it/s]"
     ]
    },
    {
     "name": "stderr",
     "output_type": "stream",
     "text": [
      "\r",
      "computing mean accuracies:  72%|███████▏  | 72/100 [00:15<00:05,  4.68it/s]"
     ]
    },
    {
     "name": "stderr",
     "output_type": "stream",
     "text": [
      "\r",
      "computing mean accuracies:  73%|███████▎  | 73/100 [00:15<00:05,  4.73it/s]"
     ]
    },
    {
     "name": "stderr",
     "output_type": "stream",
     "text": [
      "\r",
      "computing mean accuracies:  74%|███████▍  | 74/100 [00:15<00:05,  4.89it/s]"
     ]
    },
    {
     "name": "stderr",
     "output_type": "stream",
     "text": [
      "\r",
      "computing mean accuracies:  75%|███████▌  | 75/100 [00:16<00:05,  4.83it/s]"
     ]
    },
    {
     "name": "stderr",
     "output_type": "stream",
     "text": [
      "\r",
      "computing mean accuracies:  76%|███████▌  | 76/100 [00:16<00:04,  4.91it/s]"
     ]
    },
    {
     "name": "stderr",
     "output_type": "stream",
     "text": [
      "\r",
      "computing mean accuracies:  77%|███████▋  | 77/100 [00:16<00:04,  4.72it/s]"
     ]
    },
    {
     "name": "stderr",
     "output_type": "stream",
     "text": [
      "\r",
      "computing mean accuracies:  78%|███████▊  | 78/100 [00:16<00:04,  4.80it/s]"
     ]
    },
    {
     "name": "stderr",
     "output_type": "stream",
     "text": [
      "\r",
      "computing mean accuracies:  79%|███████▉  | 79/100 [00:16<00:04,  4.69it/s]"
     ]
    },
    {
     "name": "stderr",
     "output_type": "stream",
     "text": [
      "\r",
      "computing mean accuracies:  80%|████████  | 80/100 [00:17<00:04,  4.88it/s]"
     ]
    },
    {
     "name": "stderr",
     "output_type": "stream",
     "text": [
      "\r",
      "computing mean accuracies:  81%|████████  | 81/100 [00:17<00:04,  4.64it/s]"
     ]
    },
    {
     "name": "stderr",
     "output_type": "stream",
     "text": [
      "\r",
      "computing mean accuracies:  82%|████████▏ | 82/100 [00:17<00:03,  4.84it/s]"
     ]
    },
    {
     "name": "stderr",
     "output_type": "stream",
     "text": [
      "\r",
      "computing mean accuracies:  83%|████████▎ | 83/100 [00:17<00:03,  4.88it/s]"
     ]
    },
    {
     "name": "stderr",
     "output_type": "stream",
     "text": [
      "\r",
      "computing mean accuracies:  84%|████████▍ | 84/100 [00:18<00:03,  4.57it/s]"
     ]
    },
    {
     "name": "stderr",
     "output_type": "stream",
     "text": [
      "\r",
      "computing mean accuracies:  85%|████████▌ | 85/100 [00:18<00:03,  4.50it/s]"
     ]
    },
    {
     "name": "stderr",
     "output_type": "stream",
     "text": [
      "\r",
      "computing mean accuracies:  86%|████████▌ | 86/100 [00:18<00:03,  4.45it/s]"
     ]
    },
    {
     "name": "stderr",
     "output_type": "stream",
     "text": [
      "\r",
      "computing mean accuracies:  87%|████████▋ | 87/100 [00:18<00:02,  4.44it/s]"
     ]
    },
    {
     "name": "stderr",
     "output_type": "stream",
     "text": [
      "\r",
      "computing mean accuracies:  88%|████████▊ | 88/100 [00:18<00:02,  4.61it/s]"
     ]
    },
    {
     "name": "stderr",
     "output_type": "stream",
     "text": [
      "\r",
      "computing mean accuracies:  89%|████████▉ | 89/100 [00:19<00:02,  4.76it/s]"
     ]
    },
    {
     "name": "stderr",
     "output_type": "stream",
     "text": [
      "\r",
      "computing mean accuracies:  90%|█████████ | 90/100 [00:19<00:02,  4.97it/s]"
     ]
    },
    {
     "name": "stderr",
     "output_type": "stream",
     "text": [
      "\r",
      "computing mean accuracies:  91%|█████████ | 91/100 [00:19<00:01,  4.93it/s]"
     ]
    },
    {
     "name": "stderr",
     "output_type": "stream",
     "text": [
      "\r",
      "computing mean accuracies:  92%|█████████▏| 92/100 [00:19<00:01,  4.84it/s]"
     ]
    },
    {
     "name": "stderr",
     "output_type": "stream",
     "text": [
      "\r",
      "computing mean accuracies:  93%|█████████▎| 93/100 [00:19<00:01,  4.76it/s]"
     ]
    },
    {
     "name": "stderr",
     "output_type": "stream",
     "text": [
      "\r",
      "computing mean accuracies:  94%|█████████▍| 94/100 [00:20<00:01,  4.61it/s]"
     ]
    },
    {
     "name": "stderr",
     "output_type": "stream",
     "text": [
      "\r",
      "computing mean accuracies:  95%|█████████▌| 95/100 [00:20<00:01,  4.65it/s]"
     ]
    },
    {
     "name": "stderr",
     "output_type": "stream",
     "text": [
      "\r",
      "computing mean accuracies:  96%|█████████▌| 96/100 [00:20<00:00,  4.71it/s]"
     ]
    },
    {
     "name": "stderr",
     "output_type": "stream",
     "text": [
      "\r",
      "computing mean accuracies:  97%|█████████▋| 97/100 [00:20<00:00,  4.55it/s]"
     ]
    },
    {
     "name": "stderr",
     "output_type": "stream",
     "text": [
      "\r",
      "computing mean accuracies:  98%|█████████▊| 98/100 [00:21<00:00,  4.40it/s]"
     ]
    },
    {
     "name": "stderr",
     "output_type": "stream",
     "text": [
      "\r",
      "computing mean accuracies:  99%|█████████▉| 99/100 [00:21<00:00,  4.57it/s]"
     ]
    },
    {
     "name": "stderr",
     "output_type": "stream",
     "text": [
      "\r",
      "computing mean accuracies: 100%|██████████| 100/100 [00:21<00:00,  3.84it/s]"
     ]
    },
    {
     "name": "stderr",
     "output_type": "stream",
     "text": [
      "\r",
      "computing mean accuracies: 100%|██████████| 100/100 [00:21<00:00,  4.62it/s]"
     ]
    },
    {
     "name": "stderr",
     "output_type": "stream",
     "text": [
      "\n"
     ]
    },
    {
     "data": {
      "text/plain": [
       "{'eigenvector_train': 0.9815586330935253,\n",
       " 'eigenvector_val': 0.96410856,\n",
       " 'eigenvector_test': 0.7881368483412323,\n",
       " 'hamiltonian_train': 1.0,\n",
       " 'hamiltonian_val': 1.0,\n",
       " 'hamiltonian_test': 0.990568720379147}"
      ]
     },
     "execution_count": 19,
     "metadata": {},
     "output_type": "execute_result"
    }
   ],
   "source": [
    "save_to_disk = False\n",
    "simulation.compute_mean_accuracy(save_to_disk=save_to_disk)\n",
    "simulation.mean_accuracy"
   ]
  },
  {
   "cell_type": "markdown",
   "metadata": {
    "papermill": {
     "duration": 0.041797,
     "end_time": "2020-05-01T23:19:54.702084",
     "exception": false,
     "start_time": "2020-05-01T23:19:54.660287",
     "status": "completed"
    },
    "tags": []
   },
   "source": [
    "#### Computing bootstrap accuracies"
   ]
  },
  {
   "cell_type": "code",
   "execution_count": 20,
   "metadata": {
    "execution": {
     "iopub.execute_input": "2020-05-01T23:19:54.787088Z",
     "iopub.status.busy": "2020-05-01T23:19:54.786773Z",
     "iopub.status.idle": "2020-05-01T23:19:54.799914Z",
     "shell.execute_reply": "2020-05-01T23:19:54.799593Z"
    },
    "papermill": {
     "duration": 0.056232,
     "end_time": "2020-05-01T23:19:54.799964",
     "exception": false,
     "start_time": "2020-05-01T23:19:54.743732",
     "status": "completed"
    },
    "tags": []
   },
   "outputs": [
    {
     "data": {
      "text/plain": [
       "{'hamiltonian_train': 1.0, 'hamiltonian_val': 1.0, 'hamiltonian_test': 1.0}"
      ]
     },
     "execution_count": 20,
     "metadata": {},
     "output_type": "execute_result"
    }
   ],
   "source": [
    "save_to_disk = False\n",
    "simulation.compute_bootstrap_accuracy(save_to_disk=save_to_disk)\n",
    "simulation.bootstrap_accuracy"
   ]
  },
  {
   "cell_type": "markdown",
   "metadata": {
    "papermill": {
     "duration": 0.042421,
     "end_time": "2020-05-01T23:19:54.885031",
     "exception": false,
     "start_time": "2020-05-01T23:19:54.842610",
     "status": "completed"
    },
    "tags": []
   },
   "source": [
    "#### Computing mean feature importances"
   ]
  },
  {
   "cell_type": "code",
   "execution_count": 21,
   "metadata": {
    "execution": {
     "iopub.execute_input": "2020-05-01T23:19:54.970689Z",
     "iopub.status.busy": "2020-05-01T23:19:54.970347Z",
     "iopub.status.idle": "2020-05-01T23:19:55.025396Z",
     "shell.execute_reply": "2020-05-01T23:19:55.025698Z"
    },
    "papermill": {
     "duration": 0.099188,
     "end_time": "2020-05-01T23:19:55.025763",
     "exception": false,
     "start_time": "2020-05-01T23:19:54.926575",
     "status": "completed"
    },
    "tags": []
   },
   "outputs": [
    {
     "name": "stderr",
     "output_type": "stream",
     "text": [
      "\r",
      "mean feature importances:   0%|          | 0/100 [00:00<?, ?it/s]"
     ]
    },
    {
     "name": "stderr",
     "output_type": "stream",
     "text": [
      "\r",
      "mean feature importances: 100%|██████████| 100/100 [00:00<00:00, 2216.59it/s]"
     ]
    },
    {
     "name": "stdout",
     "output_type": "stream",
     "text": [
      "Sorted feature importances: \n",
      "\n",
      "\n",
      "[(0, 0.16899985193976078), (50, 0.16027277610525203), (51, 0.11079281443086275), (3, 0.0926629612204455), (1, 0.08824562429981071), (53, 0.07988250298048015), (99, 0.015836938014481734), (49, 0.01484315641985572), (2, 0.010822260392078063), (55, 0.008957866126319576), (95, 0.008414674068438486), (98, 0.008057135310372296), (5, 0.007792252406353874), (52, 0.007385587848317109), (7, 0.006623515418571701), (45, 0.006607713818302485), (48, 0.006293213602415334), (19, 0.005933081765279274), (57, 0.005882264224216421), (35, 0.005479889010246498), (69, 0.0054570355907490676), (27, 0.00447417649531073), (85, 0.004458557210976204), (4, 0.00420143796180483), (77, 0.00413570155842476), (61, 0.003994790525128792), (63, 0.0038759003092861083), (59, 0.0036996333790794197), (54, 0.0036347993094256216), (47, 0.0036234625816597755), (71, 0.003603795735903073), (79, 0.0035808150644768126), (11, 0.0034640557819812174), (91, 0.0033132048040646726), (87, 0.003107792473377982), (9, 0.003011943068315158), (23, 0.0029588897390549406), (43, 0.0028314427237322317), (46, 0.0028254483424383654), (97, 0.0027419754432558936), (96, 0.0027136817338326872), (13, 0.002655571858878165), (21, 0.0026312163636595053), (41, 0.0025718635994273122), (29, 0.0025170508257494513), (65, 0.00248265078102954), (89, 0.0024791136278104614), (73, 0.0024695425215702053), (15, 0.0024054047893902184), (31, 0.002368444403328408), (67, 0.0023612475975730387), (39, 0.002360166063613734), (37, 0.002340373455149163), (6, 0.0023400790096368847), (83, 0.0022624432222204875), (25, 0.002251427563336752), (56, 0.002234121290194305), (44, 0.0022329941029173967), (17, 0.0022209013246331454), (33, 0.002174252226738413), (75, 0.0021398705213947064), (81, 0.0021256099473102373), (93, 0.002046176894401509), (94, 0.0018772740236961533), (8, 0.0018121065730517312), (58, 0.0017649255708184206), (66, 0.0017036816784777539), (84, 0.0016786488685746016), (76, 0.0016389031852822328), (68, 0.0016111239456025508), (92, 0.001559795863374426), (32, 0.0015596758827273866), (26, 0.0015559663699651752), (40, 0.0015177668518860962), (34, 0.001515199851615081), (90, 0.0015106467003453549), (30, 0.0014768067614376738), (74, 0.0014713456121911738), (42, 0.001422004271836671), (24, 0.001413577464975718), (60, 0.0013938528594716476), (78, 0.0013873836623677109), (70, 0.0013659325407205777), (16, 0.0013533146503988702), (82, 0.0013454259567028603), (12, 0.001340314026983008), (10, 0.001337532070549847), (22, 0.001322642086262051), (80, 0.0013164387264242828), (18, 0.0012988499240033154), (88, 0.0012723641055948842), (14, 0.0012684601267185446), (20, 0.0012643279564056534), (36, 0.0012609734572397906), (62, 0.0012462203687537326), (86, 0.0012432290782296222), (64, 0.0012390639522612999), (72, 0.0012362748022238996), (38, 0.001172217037278506), (28, 0.0010805919114497825)]\n"
     ]
    },
    {
     "name": "stderr",
     "output_type": "stream",
     "text": [
      "\n"
     ]
    }
   ],
   "source": [
    "import operator\n",
    "save_to_disk = False\n",
    "simulation.compute_mean_feature_importance(save_to_disk=save_to_disk)\n",
    "### Sorted feature importances from highest to lowest\n",
    "sorted_feature_importances = sorted(simulation.feature_importance.items(), key=operator.itemgetter(1),reverse=True)\n",
    "print(\"Sorted feature importances: \")\n",
    "print(\"\\n\")\n",
    "print(sorted_feature_importances)"
   ]
  },
  {
   "cell_type": "markdown",
   "metadata": {
    "papermill": {
     "duration": 0.045385,
     "end_time": "2020-05-01T23:19:55.116414",
     "exception": false,
     "start_time": "2020-05-01T23:19:55.071029",
     "status": "completed"
    },
    "tags": []
   },
   "source": [
    "#### Plotting feature importances"
   ]
  },
  {
   "cell_type": "code",
   "execution_count": 22,
   "metadata": {
    "execution": {
     "iopub.execute_input": "2020-05-01T23:19:55.203287Z",
     "iopub.status.busy": "2020-05-01T23:19:55.202974Z",
     "iopub.status.idle": "2020-05-01T23:19:55.659525Z",
     "shell.execute_reply": "2020-05-01T23:19:55.659829Z"
    },
    "papermill": {
     "duration": 0.501021,
     "end_time": "2020-05-01T23:19:55.659896",
     "exception": false,
     "start_time": "2020-05-01T23:19:55.158875",
     "status": "completed"
    },
    "tags": []
   },
   "outputs": [
    {
     "data": {
      "image/png": "[encoded data removed]",
      "text/plain": [
       "<Figure size 864x864 with 1 Axes>"
      ]
     },
     "metadata": {
      "needs_background": "light"
     },
     "output_type": "display_data"
    }
   ],
   "source": [
    "simulation.plot_feature_importances(**plot_feature_importances_params)"
   ]
  },
  {
   "cell_type": "markdown",
   "metadata": {
    "papermill": {
     "duration": 0.045293,
     "end_time": "2020-05-01T23:19:55.749307",
     "exception": false,
     "start_time": "2020-05-01T23:19:55.704014",
     "status": "completed"
    },
    "tags": []
   },
   "source": [
    "#### Plotting cumulative feature importances"
   ]
  },
  {
   "cell_type": "code",
   "execution_count": 23,
   "metadata": {
    "execution": {
     "iopub.execute_input": "2020-05-01T23:19:55.837517Z",
     "iopub.status.busy": "2020-05-01T23:19:55.837197Z",
     "iopub.status.idle": "2020-05-01T23:19:56.274901Z",
     "shell.execute_reply": "2020-05-01T23:19:56.275204Z"
    },
    "papermill": {
     "duration": 0.482915,
     "end_time": "2020-05-01T23:19:56.275268",
     "exception": false,
     "start_time": "2020-05-01T23:19:55.792353",
     "status": "completed"
    },
    "tags": []
   },
   "outputs": [
    {
     "data": {
      "image/png": "[encoded data removed]",
      "text/plain": [
       "<Figure size 864x864 with 1 Axes>"
      ]
     },
     "metadata": {
      "needs_background": "light"
     },
     "output_type": "display_data"
    }
   ],
   "source": [
    "simulation.plot_cumulative_feature_importances(**plot_cumulative_feature_importances_params)\n"
   ]
  }
 ],
 "metadata": {
  "celltoolbar": "Tags",
  "kernelspec": {
   "display_name": "ml_top_phases",
   "language": "python",
   "name": "ml_top_phases"
  },
  "language_info": {
   "codemirror_mode": {
    "name": "ipython",
    "version": 3
   },
   "file_extension": ".py",
   "mimetype": "text/x-python",
   "name": "python",
   "nbconvert_exporter": "python",
   "pygments_lexer": "ipython3",
   "version": "3.6.10"
  },
  "papermill": {
   "duration": 31.459929,
   "end_time": "2020-05-01T23:19:56.431463",
   "environment_variables": {},
   "exception": null,
   "input_path": "results_template.ipynb",
   "output_path": "zzz_results_output_ssh1_periodic_100_6561.ipynb",
   "parameters": {
    "experiment_name": "0",
    "imshow_winding_grid_params": {
     "colorbar_params": {
      "extend": "neither",
      "labelsize": 24,
      "mappable": null,
      "pad": 0.1,
      "shrink": 0.8,
      "ticks": [
       0,
       0.2,
       0.4,
       0.6,
       0.8,
       1.0
      ]
     },
     "fig_params": {
      "figsize": [
       12,
       12
      ]
     },
     "imshow_params": {
      "alpha": null,
      "aspect": "equal",
      "cmap": "bwr_r",
      "extent": [
       -2,
       2,
       -2,
       2
      ],
      "origin": "lower",
      "vmax": 1,
      "vmin": 0
     },
     "savefig_params": {
      "fname": "/home/rio/ml_topological_phases_in_real_space/paper/ssh1/periodic_100_6561/imshow_winding_grid_winding_{}_{}.png"
     },
     "tight_params": {},
     "title_params": {},
     "winding": 1,
     "xlabel_params": {
      "fontsize": 48,
      "xlabel": "$t_2$"
     },
     "xlim_params": {
      "left": -2,
      "right": 2
     },
     "xticks_params": {
      "fontsize": 24
     },
     "ylabel_params": {
      "fontsize": 48,
      "ylabel": "$t_1$"
     },
     "ylim_params": {
      "bottom": -2,
      "top": 2
     },
     "yticks_params": {
      "fontsize": 24
     }
    },
    "load_hamiltonian_summary": false,
    "merge_imshow_winding_grids_params": {
     "colorbar_params": {},
     "fig_params": {
      "figsize": [
       12,
       12
      ]
     },
     "savefig_params": {
      "fname": "/home/rio/ml_topological_phases_in_real_space/paper/ssh1/periodic_100_6561/merge_imshow_winding_grids_second_{}.png"
     },
     "tight_params": {},
     "title_params": {},
     "winding_params": {
      "0": {
       "alpha": null,
       "aspect": "equal",
       "cmap": "Reds_alpha",
       "extent": [
        -2,
        2,
        -2,
        2
       ],
       "origin": "lower",
       "vmax": 1,
       "vmin": 0
      },
      "1": {
       "alpha": null,
       "aspect": "equal",
       "cmap": "Blues_alpha",
       "extent": [
        -2,
        2,
        -2,
        2
       ],
       "origin": "lower",
       "vmax": 1,
       "vmin": 0
      }
     },
     "xlabel_params": {
      "fontsize": 48,
      "xlabel": "$t_2$"
     },
     "xlim_params": {
      "left": -2,
      "right": 2
     },
     "xticks_params": {
      "fontsize": 24
     },
     "ylabel_params": {
      "fontsize": 48,
      "ylabel": "$t_1$"
     },
     "ylim_params": {
      "bottom": -2,
      "top": 2
     },
     "yticks_params": {
      "fontsize": 24
     }
    },
    "n_experiments": null,
    "pcolormesh_prediction_grid_params": {
     "fig_params": {
      "figsize": [
       6,
       6
      ]
     },
     "legend_params": {
      "fontsize": 16,
      "framealpha": 0.8,
      "loc": "upper right"
     },
     "pcolormesh_params": {
      "alpha": 0.5,
      "cmap": "ssh1"
     },
     "savefig_params": {
      "fname": "/home/rio/ml_topological_phases_in_real_space/paper/ssh1/periodic_100_6561/pcolormesh_prediction_grid_experiment_0.png"
     },
     "tight_params": {},
     "title_params": {},
     "winding_params": {
      "0": {
       "color": "red",
       "label": 0,
       "marker": "o",
       "s": 10
      },
      "1": {
       "color": "blue",
       "label": 1,
       "marker": "o",
       "s": 10
      }
     },
     "xlabel_params": {
      "fontsize": 24,
      "xlabel": "$t_2$"
     },
     "xlim_params": {
      "left": -2,
      "right": 2
     },
     "xticks_params": {
      "fontsize": 14
     },
     "ylabel_params": {
      "fontsize": 24,
      "ylabel": "$t_1$"
     },
     "ylim_params": {
      "bottom": -2,
      "top": 2
     },
     "yticks_params": {
      "fontsize": 14
     }
    },
    "plot_cumulative_feature_importances_params": {
     "fig_params": {
      "figsize": [
       12,
       12
      ]
     },
     "hist_precision": 1000,
     "n_features": null,
     "plot": "bar",
     "plot_params": {
      "color": "indianred",
      "width": 0.7
     },
     "savefig_params": {
      "fname": "/home/rio/ml_topological_phases_in_real_space/paper/ssh1/periodic_100_6561/plot_cumulative_feature_importances.png"
     },
     "tight_params": {},
     "title_params": {
      "fontsize": 24,
      "label": "Cumulative information entropy signature - SSH 1"
     },
     "xlabel_params": {
      "fontsize": 24,
      "xlabel": "lattice site"
     },
     "xlim_params": {},
     "xticks_params": {
      "fontsize": 24,
      "ticks": [
       0,
       11,
       22,
       33,
       44,
       55,
       66,
       77,
       88,
       99
      ]
     },
     "ylabel_params": {
      "fontsize": 24,
      "ylabel": "cumulative reduction in information entropy (%)"
     },
     "ylim_params": {},
     "yticks_params": {
      "fontsize": 24
     }
    },
    "plot_feature_importances_params": {
     "fig_params": {
      "figsize": [
       12,
       12
      ]
     },
     "hist_precision": 1000,
     "n_features": null,
     "plot": "bar",
     "plot_params": {
      "color": "indianred",
      "width": 0.7
     },
     "savefig_params": {
      "fname": "/home/rio/ml_topological_phases_in_real_space/paper/ssh1/periodic_100_6561/plot_feature_importances.png"
     },
     "tight_params": {},
     "title_params": {
      "fontsize": 24,
      "label": "Information entropy signature - SSH 1"
     },
     "xlabel_params": {
      "fontsize": 24,
      "xlabel": "lattice site"
     },
     "xlim_params": {},
     "xticks_params": {
      "fontsize": 24,
      "ticks": [
       0,
       11,
       22,
       33,
       44,
       55,
       66,
       77,
       88,
       99
      ]
     },
     "ylabel_params": {
      "fontsize": 24,
      "ylabel": "reduction in information entropy (%)"
     },
     "ylim_params": {},
     "yticks_params": {
      "fontsize": 24
     }
    },
    "scatter_train_val_test_params": {
     "fig_params": {
      "figsize": [
       6,
       6
      ]
     },
     "legend_params": {
      "fontsize": 16,
      "framealpha": 0.8,
      "loc": "upper right"
     },
     "savefig_params": {
      "fname": "/home/rio/ml_topological_phases_in_real_space/paper/ssh1/periodic_100_6561/scatter_train_val_test_experiment_0.png"
     },
     "test_params": {
      "alpha": 0.5,
      "color": "royalblue",
      "label": "test",
      "marker": "s",
      "s": 64
     },
     "tight_params": {},
     "title_params": {},
     "train_params": {
      "alpha": 1,
      "color": "green",
      "label": "train",
      "marker": "o",
      "s": 3
     },
     "val_params": {
      "alpha": 0.2,
      "color": "salmon",
      "label": "val",
      "marker": "s",
      "s": 64
     },
     "xlabel_params": {
      "fontsize": 24,
      "xlabel": "$t_2$"
     },
     "xlim_params": {
      "left": -2,
      "right": 2
     },
     "xticks_params": {
      "fontsize": 14
     },
     "ylabel_params": {
      "fontsize": 24,
      "ylabel": "$t_1$"
     },
     "ylim_params": {
      "bottom": -2,
      "top": 2
     },
     "yticks_params": {
      "fontsize": 14
     }
    },
    "scatter_winding_train_params": {
     "fig_params": {
      "figsize": [
       6,
       6
      ]
     },
     "legend_params": {
      "fontsize": 16,
      "framealpha": 0.8,
      "loc": "upper right"
     },
     "savefig_params": {
      "fname": "/home/rio/ml_topological_phases_in_real_space/paper/ssh1/periodic_100_6561/scatter_winding_train_experiment_0.png"
     },
     "tight_params": {},
     "title_params": {},
     "winding_params": {
      "0": {
       "color": "red",
       "label": 0,
       "marker": "o",
       "s": 10
      },
      "1": {
       "color": "blue",
       "label": 1,
       "marker": "o",
       "s": 10
      }
     },
     "xlabel_params": {
      "fontsize": 24,
      "xlabel": "$t_2$"
     },
     "xlim_params": {
      "left": -2,
      "right": 2
     },
     "xticks_params": {
      "fontsize": 14
     },
     "ylabel_params": {
      "fontsize": 24,
      "ylabel": "$t_1$"
     },
     "ylim_params": {
      "bottom": -2,
      "top": 2
     },
     "yticks_params": {
      "fontsize": 14
     }
    },
    "simulation_dir": "/home/rio/ssh_simulations/ssh1/periodic_100_6561",
    "winding_cmap_dict": {
     "0": "Reds",
     "1": "Blues"
    }
   },
   "start_time": "2020-05-01T23:19:24.971534",
   "version": "2.1.0"
  }
 },
 "nbformat": 4,
 "nbformat_minor": 2
}