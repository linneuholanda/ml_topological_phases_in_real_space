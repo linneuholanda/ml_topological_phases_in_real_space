{
 "cells": [
  {
   "cell_type": "markdown",
   "metadata": {
    "papermill": {
     "duration": 0.020318,
     "end_time": "2020-07-18T16:27:23.238262",
     "exception": false,
     "start_time": "2020-07-18T16:27:23.217944",
     "status": "completed"
    },
    "tags": []
   },
   "source": [
    "# Simulation template \n",
    "\n",
    "In this notebook we run the machine learning analysis of topological phase transitions occurring  in both nearest-neighbours SSH models (ssh1) and second neighbours models (ssh2) as decribed in the paper [Machine learning topological phases in real space](https://arxiv.org/abs/1901.01963). Here the simulation is run with features generated from fourier components in the first scenario. This scenario is characterized by using only the EVEN wavevector space eigenmodes, computed from ALL real space components."
   ]
  },
  {
   "cell_type": "markdown",
   "metadata": {
    "papermill": {
     "duration": 0.016643,
     "end_time": "2020-07-18T16:27:23.271869",
     "exception": false,
     "start_time": "2020-07-18T16:27:23.255226",
     "status": "completed"
    },
    "tags": []
   },
   "source": [
    "## Defining parameters"
   ]
  },
  {
   "cell_type": "code",
   "execution_count": 1,
   "metadata": {
    "execution": {
     "iopub.execute_input": "2020-07-18T16:27:23.307790Z",
     "iopub.status.busy": "2020-07-18T16:27:23.307447Z",
     "iopub.status.idle": "2020-07-18T16:27:23.890071Z",
     "shell.execute_reply": "2020-07-18T16:27:23.889747Z"
    },
    "papermill": {
     "duration": 0.601632,
     "end_time": "2020-07-18T16:27:23.890126",
     "exception": false,
     "start_time": "2020-07-18T16:27:23.288494",
     "status": "completed"
    },
    "tags": []
   },
   "outputs": [
    {
     "name": "stdout",
     "output_type": "stream",
     "text": [
      "CPU times: user 748 ms, sys: 273 ms, total: 1.02 s\n",
      "Wall time: 575 ms\n"
     ]
    }
   ],
   "source": [
    "%%time\n",
    "%load_ext autoreload\n",
    "%autoreload 2\n",
    "from simulation import *"
   ]
  },
  {
   "cell_type": "code",
   "execution_count": 2,
   "metadata": {
    "execution": {
     "iopub.execute_input": "2020-07-18T16:27:23.926842Z",
     "iopub.status.busy": "2020-07-18T16:27:23.926520Z",
     "iopub.status.idle": "2020-07-18T16:27:23.937909Z",
     "shell.execute_reply": "2020-07-18T16:27:23.937489Z"
    },
    "papermill": {
     "duration": 0.030272,
     "end_time": "2020-07-18T16:27:23.937978",
     "exception": false,
     "start_time": "2020-07-18T16:27:23.907706",
     "status": "completed"
    },
    "tags": [
     "parameters"
    ]
   },
   "outputs": [
    {
     "name": "stdout",
     "output_type": "stream",
     "text": [
      "CPU times: user 2 µs, sys: 1e+03 ns, total: 3 µs\n",
      "Wall time: 4.53 µs\n"
     ]
    }
   ],
   "source": [
    "%%time\n",
    "### Dataset and simulation parameters\n",
    "#csv_path = SSH2_PERIODIC_100_6561_CSV \n",
    "csv_path = SSH1_PERIODIC_100_6561_CSV \n",
    "model_name = \"DecisionTreeClassifier\"\n",
    "model_kw = {\"criterion\":\"entropy\"}\n",
    "allowed_windings = [0,1]\n",
    "#allowed_windings = [-1,0,1,2]\n",
    "simulation_dir = SSH1_REAL_SPACE_ALL_SITES\n",
    "#simulation_dir = SSH2_PERIODIC_ENGINEERED_100_6561_SIMULATION_DIR\n",
    "val_split = 0.9  \n",
    "features_to_use = None\n",
    "shuffle_features = False\n",
    "random_state = 763\n",
    "\n",
    "### Fourier features\n",
    "fourier_mode = \"dst\"\n",
    "fourier_features_to_use = None\n",
    "fourier_real = \"imag\"\n",
    "fourier_normalize = False\n",
    "fourier_fillna = False\n",
    "\n",
    "### Running a simulation\n",
    "n_experiments = 5\n",
    "start_n = 0\n",
    "fit_params = None\n",
    "#mode=mode\n",
    "shuffle_rows = True\n",
    "pred_params = None\n",
    "random_features = False\n",
    "######### DON'T SET THIS TO TRUE UNLESS YOUR DATASET IS SMALL!! WILL FLOOD YOUR MEMORY!!!\n",
    "store_in_lists = False   \n",
    "########## BELOW ARE THE PARAMETERS THAT CONTROL WHAT WILL BE SAVED\n",
    "save_eigenvector=True\n",
    "save_hamiltonian=True \n",
    "save_accuracy=True \n",
    "save_models=True"
   ]
  },
  {
   "cell_type": "code",
   "execution_count": 3,
   "metadata": {
    "execution": {
     "iopub.execute_input": "2020-07-18T16:27:23.976280Z",
     "iopub.status.busy": "2020-07-18T16:27:23.975956Z",
     "iopub.status.idle": "2020-07-18T16:27:24.045245Z",
     "shell.execute_reply": "2020-07-18T16:27:24.044529Z"
    },
    "papermill": {
     "duration": 0.090318,
     "end_time": "2020-07-18T16:27:24.045349",
     "exception": false,
     "start_time": "2020-07-18T16:27:23.955031",
     "status": "completed"
    },
    "tags": [
     "injected-parameters"
    ]
   },
   "outputs": [],
   "source": [
    "# Parameters\n",
    "model_kw = {\"criterion\": \"entropy\", \"n_estimators\": 25, \"n_jobs\": -1}\n",
    "allowed_windings = [-1, 0, 1, 2]\n",
    "val_split = 0.5\n",
    "features_to_use = [0, 1, 2, 3, 4, 5, 6, 7, 46, 48, 49, 50]\n",
    "shuffle_features = False\n",
    "n_experiments = 100\n",
    "start_n = 0\n",
    "fit_params = None\n",
    "shuffle_rows = True\n",
    "pred_params = None\n",
    "random_features = False\n",
    "store_in_lists = False\n",
    "save_eigenvector = True\n",
    "save_hamiltonian = True\n",
    "save_accuracy = True\n",
    "save_models = True\n",
    "csv_path = \"/home/rio/ssh_csvs/ssh2/periodic_100_6561.csv\"\n",
    "model_name = \"RandomForestClassifier\"\n",
    "simulation_dir = \"/home/rio/ssh_simulations/ssh2/periodic_100_6561/dct_best_12_wavevector_sites_from_best_12_real_space_sites\"\n",
    "random_state = 2017\n",
    "fourier_features_to_use = [0, 1, 2, 3, 4, 5, 6, 7, 47, 48, 49, 50]\n",
    "fourier_mode = \"dct\"\n",
    "fourier_real = None\n",
    "fourier_normalize = False\n",
    "fourier_fillna = False\n"
   ]
  },
  {
   "cell_type": "code",
   "execution_count": 4,
   "metadata": {
    "execution": {
     "iopub.execute_input": "2020-07-18T16:27:24.107732Z",
     "iopub.status.busy": "2020-07-18T16:27:24.107298Z",
     "iopub.status.idle": "2020-07-18T16:27:29.656769Z",
     "shell.execute_reply": "2020-07-18T16:27:29.656448Z"
    },
    "papermill": {
     "duration": 5.572032,
     "end_time": "2020-07-18T16:27:29.656821",
     "exception": false,
     "start_time": "2020-07-18T16:27:24.084789",
     "status": "completed"
    },
    "tags": []
   },
   "outputs": [
    {
     "name": "stdout",
     "output_type": "stream",
     "text": [
      "Info on all data: \n",
      "\n",
      "<class 'pandas.core.frame.DataFrame'>\n",
      "Int64Index: 656100 entries, 0 to 656099\n",
      "Columns: 108 entries, id to feat99\n",
      "dtypes: float64(103), int32(3), object(2)\n",
      "memory usage: 538.1+ MB\n",
      "CPU times: user 5.5 s, sys: 517 ms, total: 6.01 s\n",
      "Wall time: 5.48 s\n"
     ]
    },
    {
     "data": {
      "text/html": [
       "<div>\n",
       "<style scoped>\n",
       "    .dataframe tbody tr th:only-of-type {\n",
       "        vertical-align: middle;\n",
       "    }\n",
       "\n",
       "    .dataframe tbody tr th {\n",
       "        vertical-align: top;\n",
       "    }\n",
       "\n",
       "    .dataframe thead th {\n",
       "        text-align: right;\n",
       "    }\n",
       "</style>\n",
       "<table border=\"1\" class=\"dataframe\">\n",
       "  <thead>\n",
       "    <tr style=\"text-align: right;\">\n",
       "      <th></th>\n",
       "      <th>id</th>\n",
       "      <th>path</th>\n",
       "      <th>t1</th>\n",
       "      <th>t2</th>\n",
       "      <th>winding</th>\n",
       "      <th>phase</th>\n",
       "      <th>pred_phase</th>\n",
       "      <th>type_of</th>\n",
       "      <th>feat0</th>\n",
       "      <th>feat1</th>\n",
       "      <th>...</th>\n",
       "      <th>feat90</th>\n",
       "      <th>feat91</th>\n",
       "      <th>feat92</th>\n",
       "      <th>feat93</th>\n",
       "      <th>feat94</th>\n",
       "      <th>feat95</th>\n",
       "      <th>feat96</th>\n",
       "      <th>feat97</th>\n",
       "      <th>feat98</th>\n",
       "      <th>feat99</th>\n",
       "    </tr>\n",
       "  </thead>\n",
       "  <tbody>\n",
       "    <tr>\n",
       "      <th>0</th>\n",
       "      <td>0</td>\n",
       "      <td>H_-2_-2_0.501338.dat</td>\n",
       "      <td>-2.0</td>\n",
       "      <td>-2.0</td>\n",
       "      <td>0.501338</td>\n",
       "      <td>999</td>\n",
       "      <td>666</td>\n",
       "      <td>test</td>\n",
       "      <td>-0.130965</td>\n",
       "      <td>0.301130</td>\n",
       "      <td>...</td>\n",
       "      <td>-0.080279</td>\n",
       "      <td>-0.115687</td>\n",
       "      <td>-0.174988</td>\n",
       "      <td>0.245064</td>\n",
       "      <td>0.319763</td>\n",
       "      <td>-0.059082</td>\n",
       "      <td>-0.000556</td>\n",
       "      <td>-0.245133</td>\n",
       "      <td>-0.301130</td>\n",
       "      <td>0.130965</td>\n",
       "    </tr>\n",
       "    <tr>\n",
       "      <th>1</th>\n",
       "      <td>0</td>\n",
       "      <td>H_-2_-2_0.501338.dat</td>\n",
       "      <td>-2.0</td>\n",
       "      <td>-2.0</td>\n",
       "      <td>0.501338</td>\n",
       "      <td>999</td>\n",
       "      <td>666</td>\n",
       "      <td>test</td>\n",
       "      <td>-0.130965</td>\n",
       "      <td>-0.301130</td>\n",
       "      <td>...</td>\n",
       "      <td>-0.080279</td>\n",
       "      <td>0.115687</td>\n",
       "      <td>-0.174988</td>\n",
       "      <td>-0.245064</td>\n",
       "      <td>0.319763</td>\n",
       "      <td>0.059082</td>\n",
       "      <td>-0.000556</td>\n",
       "      <td>0.245133</td>\n",
       "      <td>-0.301130</td>\n",
       "      <td>-0.130965</td>\n",
       "    </tr>\n",
       "    <tr>\n",
       "      <th>2</th>\n",
       "      <td>0</td>\n",
       "      <td>H_-2_-2_0.501338.dat</td>\n",
       "      <td>-2.0</td>\n",
       "      <td>-2.0</td>\n",
       "      <td>0.501338</td>\n",
       "      <td>999</td>\n",
       "      <td>666</td>\n",
       "      <td>test</td>\n",
       "      <td>-0.148414</td>\n",
       "      <td>-0.042467</td>\n",
       "      <td>...</td>\n",
       "      <td>0.185442</td>\n",
       "      <td>-0.080620</td>\n",
       "      <td>-0.066211</td>\n",
       "      <td>-0.121339</td>\n",
       "      <td>-0.151700</td>\n",
       "      <td>0.192513</td>\n",
       "      <td>0.191642</td>\n",
       "      <td>-0.050956</td>\n",
       "      <td>-0.042467</td>\n",
       "      <td>-0.148414</td>\n",
       "    </tr>\n",
       "    <tr>\n",
       "      <th>3</th>\n",
       "      <td>0</td>\n",
       "      <td>H_-2_-2_0.501338.dat</td>\n",
       "      <td>-2.0</td>\n",
       "      <td>-2.0</td>\n",
       "      <td>0.501338</td>\n",
       "      <td>999</td>\n",
       "      <td>666</td>\n",
       "      <td>test</td>\n",
       "      <td>-0.069630</td>\n",
       "      <td>-0.026147</td>\n",
       "      <td>...</td>\n",
       "      <td>0.102009</td>\n",
       "      <td>-0.100671</td>\n",
       "      <td>-0.081002</td>\n",
       "      <td>-0.020715</td>\n",
       "      <td>-0.058717</td>\n",
       "      <td>0.115834</td>\n",
       "      <td>0.118274</td>\n",
       "      <td>-0.054666</td>\n",
       "      <td>-0.026147</td>\n",
       "      <td>-0.069630</td>\n",
       "    </tr>\n",
       "    <tr>\n",
       "      <th>4</th>\n",
       "      <td>0</td>\n",
       "      <td>H_-2_-2_0.501338.dat</td>\n",
       "      <td>-2.0</td>\n",
       "      <td>-2.0</td>\n",
       "      <td>0.501338</td>\n",
       "      <td>999</td>\n",
       "      <td>666</td>\n",
       "      <td>test</td>\n",
       "      <td>0.010206</td>\n",
       "      <td>-0.014625</td>\n",
       "      <td>...</td>\n",
       "      <td>0.047555</td>\n",
       "      <td>-0.041368</td>\n",
       "      <td>-0.018852</td>\n",
       "      <td>-0.017673</td>\n",
       "      <td>-0.023377</td>\n",
       "      <td>0.031447</td>\n",
       "      <td>0.010280</td>\n",
       "      <td>0.000925</td>\n",
       "      <td>0.014625</td>\n",
       "      <td>-0.010206</td>\n",
       "    </tr>\n",
       "  </tbody>\n",
       "</table>\n",
       "<p>5 rows × 108 columns</p>\n",
       "</div>"
      ],
      "text/plain": [
       "   id                  path   t1   t2   winding  phase  pred_phase type_of  \\\n",
       "0   0  H_-2_-2_0.501338.dat -2.0 -2.0  0.501338    999         666    test   \n",
       "1   0  H_-2_-2_0.501338.dat -2.0 -2.0  0.501338    999         666    test   \n",
       "2   0  H_-2_-2_0.501338.dat -2.0 -2.0  0.501338    999         666    test   \n",
       "3   0  H_-2_-2_0.501338.dat -2.0 -2.0  0.501338    999         666    test   \n",
       "4   0  H_-2_-2_0.501338.dat -2.0 -2.0  0.501338    999         666    test   \n",
       "\n",
       "      feat0     feat1  ...    feat90    feat91    feat92    feat93    feat94  \\\n",
       "0 -0.130965  0.301130  ... -0.080279 -0.115687 -0.174988  0.245064  0.319763   \n",
       "1 -0.130965 -0.301130  ... -0.080279  0.115687 -0.174988 -0.245064  0.319763   \n",
       "2 -0.148414 -0.042467  ...  0.185442 -0.080620 -0.066211 -0.121339 -0.151700   \n",
       "3 -0.069630 -0.026147  ...  0.102009 -0.100671 -0.081002 -0.020715 -0.058717   \n",
       "4  0.010206 -0.014625  ...  0.047555 -0.041368 -0.018852 -0.017673 -0.023377   \n",
       "\n",
       "     feat95    feat96    feat97    feat98    feat99  \n",
       "0 -0.059082 -0.000556 -0.245133 -0.301130  0.130965  \n",
       "1  0.059082 -0.000556  0.245133 -0.301130 -0.130965  \n",
       "2  0.192513  0.191642 -0.050956 -0.042467 -0.148414  \n",
       "3  0.115834  0.118274 -0.054666 -0.026147 -0.069630  \n",
       "4  0.031447  0.010280  0.000925  0.014625 -0.010206  \n",
       "\n",
       "[5 rows x 108 columns]"
      ]
     },
     "execution_count": 4,
     "metadata": {},
     "output_type": "execute_result"
    }
   ],
   "source": [
    "%%time\n",
    "#Starting an instance of Simulation with a decision tree\n",
    "model = DecisionTreeClassifier(criterion=\"entropy\")\n",
    "#dict_args = {\"csv_path\":csv_path, \"model\":model, \"allowed_windings\":allowed_windings,\\\n",
    "#             \"simulation_dir\":simulation_dir, \"val_split\":val_split, \"features_to_use\":features_to_use,\\\n",
    "#            \"shuffle_features\":shuffle_features, \"random_state\":random_state}\n",
    "simulation = Simulation(csv_path,model_name,model_kw,allowed_windings,simulation_dir,val_split,features_to_use,\\\n",
    "                       shuffle_features,fourier_mode,fourier_features_to_use,fourier_real,\\\n",
    "                       fourier_normalize, fourier_fillna , random_state)\n",
    "#simulation = Simulation(**dict_args)\n",
    "\n",
    "\n",
    "#(self, csv_path, model_name, model_kw, allowed_windings, simulation_dir = None, val_split = 0, \n",
    "# features_to_use = None, shuffle_features = False, fourier_mode=None, fourier_features_to_use=None,\n",
    "# fourier_real = False, fourier_normalize = False, Fourier_fillna=False, random_state = None):\n",
    "\n",
    "\n",
    "\n",
    "print(\"Info on all data: \\n\")\n",
    "simulation.dataframe.info()\n",
    "simulation.dataframe.head()"
   ]
  },
  {
   "cell_type": "markdown",
   "metadata": {
    "papermill": {
     "duration": 0.018362,
     "end_time": "2020-07-18T16:27:29.693203",
     "exception": false,
     "start_time": "2020-07-18T16:27:29.674841",
     "status": "completed"
    },
    "tags": []
   },
   "source": [
    "####  Fourier features"
   ]
  },
  {
   "cell_type": "code",
   "execution_count": 5,
   "metadata": {
    "execution": {
     "iopub.execute_input": "2020-07-18T16:27:29.731372Z",
     "iopub.status.busy": "2020-07-18T16:27:29.731041Z",
     "iopub.status.idle": "2020-07-18T16:27:29.835858Z",
     "shell.execute_reply": "2020-07-18T16:27:29.835585Z"
    },
    "papermill": {
     "duration": 0.125018,
     "end_time": "2020-07-18T16:27:29.835911",
     "exception": false,
     "start_time": "2020-07-18T16:27:29.710893",
     "status": "completed"
    },
    "tags": []
   },
   "outputs": [
    {
     "name": "stdout",
     "output_type": "stream",
     "text": [
      "<class 'pandas.core.frame.DataFrame'>\n",
      "Int64Index: 656100 entries, 0 to 656099\n",
      "Data columns (total 20 columns):\n",
      " #   Column      Non-Null Count   Dtype  \n",
      "---  ------      --------------   -----  \n",
      " 0   id          656100 non-null  int32  \n",
      " 1   path        656100 non-null  object \n",
      " 2   t1          656100 non-null  float64\n",
      " 3   t2          656100 non-null  float64\n",
      " 4   winding     656100 non-null  float64\n",
      " 5   phase       656100 non-null  int32  \n",
      " 6   pred_phase  656100 non-null  int32  \n",
      " 7   type_of     656100 non-null  object \n",
      " 8   dct_feat0   656100 non-null  float64\n",
      " 9   dct_feat1   656100 non-null  float64\n",
      " 10  dct_feat2   656100 non-null  float64\n",
      " 11  dct_feat3   656100 non-null  float64\n",
      " 12  dct_feat4   656100 non-null  float64\n",
      " 13  dct_feat5   656100 non-null  float64\n",
      " 14  dct_feat6   656100 non-null  float64\n",
      " 15  dct_feat7   656100 non-null  float64\n",
      " 16  dct_feat47  656100 non-null  float64\n",
      " 17  dct_feat48  656100 non-null  float64\n",
      " 18  dct_feat49  656100 non-null  float64\n",
      " 19  dct_feat50  656100 non-null  float64\n",
      "dtypes: float64(15), int32(3), object(2)\n",
      "memory usage: 97.6+ MB\n",
      "CPU times: user 83.1 ms, sys: 11.9 ms, total: 95 ms\n",
      "Wall time: 94.3 ms\n"
     ]
    }
   ],
   "source": [
    "%%time\n",
    "#simulation.generate_fourier_df()\n",
    "if simulation.fourier_mode is not None:\n",
    "    simulation.fourier_dataframe.info() \n",
    "    simulation.fourier_dataframe.sample(15)\n"
   ]
  },
  {
   "cell_type": "code",
   "execution_count": 6,
   "metadata": {
    "execution": {
     "iopub.execute_input": "2020-07-18T16:27:29.874672Z",
     "iopub.status.busy": "2020-07-18T16:27:29.874344Z",
     "iopub.status.idle": "2020-07-18T16:27:29.888009Z",
     "shell.execute_reply": "2020-07-18T16:27:29.887688Z"
    },
    "papermill": {
     "duration": 0.034074,
     "end_time": "2020-07-18T16:27:29.888062",
     "exception": false,
     "start_time": "2020-07-18T16:27:29.853988",
     "status": "completed"
    },
    "tags": []
   },
   "outputs": [
    {
     "name": "stdout",
     "output_type": "stream",
     "text": [
      "features_to_use: \n",
      "\n",
      "\n",
      "[0, 1, 2, 3, 4, 5, 6, 7, 46, 48, 49, 50]\n",
      "Number of real space features:\n",
      "\n",
      "\n",
      "12\n",
      "\n",
      "\n",
      "fourier_features: \n",
      "\n",
      "\n",
      "['dct_feat0', 'dct_feat1', 'dct_feat2', 'dct_feat3', 'dct_feat4', 'dct_feat5', 'dct_feat6', 'dct_feat7', 'dct_feat47', 'dct_feat48', 'dct_feat49', 'dct_feat50']\n",
      "\n",
      "\n",
      "Number of Fourier features: \n",
      "\n",
      "\n",
      "12\n",
      "\n",
      "\n",
      "Fourier operator: \n",
      "[[ 1.00000000e+00  2.00000000e+00  2.00000000e+00  2.00000000e+00\n",
      "   2.00000000e+00  2.00000000e+00  2.00000000e+00  2.00000000e+00\n",
      "   2.00000000e+00  2.00000000e+00  2.00000000e+00  1.00000000e+00]\n",
      " [ 1.00000000e+00  1.99605346e+00  1.98422940e+00  1.96457450e+00\n",
      "   1.93716632e+00  1.90211303e+00  1.85955297e+00  1.80965410e+00\n",
      "  -1.96457450e+00 -1.98422940e+00 -1.99605346e+00 -1.00000000e+00]\n",
      " [ 1.00000000e+00  1.98422940e+00  1.93716632e+00  1.85955297e+00\n",
      "   1.75261336e+00  1.61803399e+00  1.45793725e+00  1.27484798e+00\n",
      "   1.85955297e+00  1.93716632e+00  1.98422940e+00  1.00000000e+00]\n",
      " [ 1.00000000e+00  1.96457450e+00  1.85955297e+00  1.68865585e+00\n",
      "   1.45793725e+00  1.17557050e+00  8.51558583e-01  4.97379774e-01\n",
      "  -1.68865585e+00 -1.85955297e+00 -1.96457450e+00 -1.00000000e+00]\n",
      " [ 1.00000000e+00  1.93716632e+00  1.75261336e+00  1.45793725e+00\n",
      "   1.07165359e+00  6.18033989e-01  1.25581039e-01 -3.74762629e-01\n",
      "   1.45793725e+00  1.75261336e+00  1.93716632e+00  1.00000000e+00]\n",
      " [ 1.00000000e+00  1.90211303e+00  1.61803399e+00  1.17557050e+00\n",
      "   6.18033989e-01 -3.21624530e-16 -6.18033989e-01 -1.17557050e+00\n",
      "  -1.17557050e+00 -1.61803399e+00 -1.90211303e+00 -1.00000000e+00]\n",
      " [ 1.00000000e+00  1.85955297e+00  1.45793725e+00  8.51558583e-01\n",
      "   1.25581039e-01 -6.18033989e-01 -1.27484798e+00 -1.75261336e+00\n",
      "   8.51558583e-01  1.45793725e+00  1.85955297e+00  1.00000000e+00]\n",
      " [ 1.00000000e+00  1.80965410e+00  1.27484798e+00  4.97379774e-01\n",
      "  -3.74762629e-01 -1.17557050e+00 -1.75261336e+00 -1.99605346e+00\n",
      "  -4.97379774e-01 -1.27484798e+00 -1.80965410e+00 -1.00000000e+00]\n",
      " [ 1.00000000e+00 -1.93716632e+00  1.75261336e+00 -1.45793725e+00\n",
      "   1.07165359e+00 -6.18033989e-01  1.25581039e-01  3.74762629e-01\n",
      "  -1.45793725e+00  1.75261336e+00 -1.93716632e+00  1.00000000e+00]\n",
      " [ 1.00000000e+00 -1.98422940e+00  1.93716632e+00 -1.85955297e+00\n",
      "   1.75261336e+00 -1.61803399e+00  1.45793725e+00 -1.27484798e+00\n",
      "  -1.85955297e+00  1.93716632e+00 -1.98422940e+00  1.00000000e+00]\n",
      " [ 1.00000000e+00 -1.99605346e+00  1.98422940e+00 -1.96457450e+00\n",
      "   1.93716632e+00 -1.90211303e+00  1.85955297e+00 -1.80965410e+00\n",
      "   1.96457450e+00 -1.98422940e+00  1.99605346e+00 -1.00000000e+00]\n",
      " [ 1.00000000e+00 -2.00000000e+00  2.00000000e+00 -2.00000000e+00\n",
      "   2.00000000e+00 -2.00000000e+00  2.00000000e+00 -2.00000000e+00\n",
      "  -2.00000000e+00  2.00000000e+00 -2.00000000e+00  1.00000000e+00]]\n",
      "\n",
      "\n",
      "Shape of Fourier operator: \n",
      "(12, 12)\n"
     ]
    }
   ],
   "source": [
    "print(\"features_to_use: \")\n",
    "print(\"\\n\")\n",
    "print(simulation.features_to_use)\n",
    "if simulation.features_to_use is not None:\n",
    "    print(\"Number of real space features:\")\n",
    "    print(\"\\n\")\n",
    "    print(len(simulation.features_to_use))\n",
    "print(\"\\n\")\n",
    "print(\"fourier_features: \")\n",
    "print(\"\\n\")\n",
    "print(simulation.fourier_features)\n",
    "print(\"\\n\")\n",
    "if simulation.fourier_features is not None:\n",
    "    print(\"Number of Fourier features: \")\n",
    "    print(\"\\n\")\n",
    "    print(len(simulation.fourier_features))\n",
    "print(\"\\n\")\n",
    "print(\"Fourier operator: \")\n",
    "print(simulation.fourier_operator)\n",
    "print(\"\\n\")\n",
    "if simulation.fourier_operator is not None:\n",
    "    print(\"Shape of Fourier operator: \")\n",
    "    print(simulation.fourier_operator.shape)"
   ]
  },
  {
   "cell_type": "code",
   "execution_count": 7,
   "metadata": {
    "execution": {
     "iopub.execute_input": "2020-07-18T16:27:29.926906Z",
     "iopub.status.busy": "2020-07-18T16:27:29.926598Z",
     "iopub.status.idle": "2020-07-18T16:27:30.000704Z",
     "shell.execute_reply": "2020-07-18T16:27:29.998819Z"
    },
    "papermill": {
     "duration": 0.094281,
     "end_time": "2020-07-18T16:27:30.001021",
     "exception": false,
     "start_time": "2020-07-18T16:27:29.906740",
     "status": "completed"
    },
    "tags": []
   },
   "outputs": [],
   "source": [
    "#a = np.array([1+1j,2+3j,4+8j])\n",
    "#np.imag(a)"
   ]
  },
  {
   "cell_type": "code",
   "execution_count": 8,
   "metadata": {
    "execution": {
     "iopub.execute_input": "2020-07-18T16:27:30.075534Z",
     "iopub.status.busy": "2020-07-18T16:27:30.075225Z",
     "iopub.status.idle": "2020-07-18T16:27:30.085802Z",
     "shell.execute_reply": "2020-07-18T16:27:30.085456Z"
    },
    "papermill": {
     "duration": 0.032153,
     "end_time": "2020-07-18T16:27:30.085855",
     "exception": false,
     "start_time": "2020-07-18T16:27:30.053702",
     "status": "completed"
    },
    "tags": []
   },
   "outputs": [],
   "source": [
    "#plt.plot(np.imag(simulation.fourier_operator[:,0]))"
   ]
  },
  {
   "cell_type": "code",
   "execution_count": 9,
   "metadata": {
    "execution": {
     "iopub.execute_input": "2020-07-18T16:27:30.124218Z",
     "iopub.status.busy": "2020-07-18T16:27:30.123849Z",
     "iopub.status.idle": "2020-07-18T16:27:30.192343Z",
     "shell.execute_reply": "2020-07-18T16:27:30.190556Z"
    },
    "papermill": {
     "duration": 0.089013,
     "end_time": "2020-07-18T16:27:30.192632",
     "exception": false,
     "start_time": "2020-07-18T16:27:30.103619",
     "status": "completed"
    },
    "tags": []
   },
   "outputs": [],
   "source": [
    "#np.sin(np.pi/(50))*2"
   ]
  },
  {
   "cell_type": "code",
   "execution_count": 10,
   "metadata": {
    "execution": {
     "iopub.execute_input": "2020-07-18T16:27:30.265314Z",
     "iopub.status.busy": "2020-07-18T16:27:30.264989Z",
     "iopub.status.idle": "2020-07-18T16:27:30.274972Z",
     "shell.execute_reply": "2020-07-18T16:27:30.275237Z"
    },
    "papermill": {
     "duration": 0.031662,
     "end_time": "2020-07-18T16:27:30.275308",
     "exception": false,
     "start_time": "2020-07-18T16:27:30.243646",
     "status": "completed"
    },
    "tags": []
   },
   "outputs": [],
   "source": [
    "#2*np.sin(np.pi/50*49)"
   ]
  },
  {
   "cell_type": "code",
   "execution_count": 11,
   "metadata": {
    "execution": {
     "iopub.execute_input": "2020-07-18T16:27:30.312750Z",
     "iopub.status.busy": "2020-07-18T16:27:30.312440Z",
     "iopub.status.idle": "2020-07-18T16:27:30.380923Z",
     "shell.execute_reply": "2020-07-18T16:27:30.380267Z"
    },
    "papermill": {
     "duration": 0.088085,
     "end_time": "2020-07-18T16:27:30.381015",
     "exception": false,
     "start_time": "2020-07-18T16:27:30.292930",
     "status": "completed"
    },
    "tags": []
   },
   "outputs": [],
   "source": [
    "#simulation.dataframe.iloc[331456,:]"
   ]
  },
  {
   "cell_type": "code",
   "execution_count": 12,
   "metadata": {
    "execution": {
     "iopub.execute_input": "2020-07-18T16:27:30.440862Z",
     "iopub.status.busy": "2020-07-18T16:27:30.440537Z",
     "iopub.status.idle": "2020-07-18T16:27:30.501242Z",
     "shell.execute_reply": "2020-07-18T16:27:30.500734Z"
    },
    "papermill": {
     "duration": 0.083404,
     "end_time": "2020-07-18T16:27:30.501317",
     "exception": false,
     "start_time": "2020-07-18T16:27:30.417913",
     "status": "completed"
    },
    "tags": []
   },
   "outputs": [],
   "source": [
    "#for ix, obj in enumerate(simulation.dataframe.iloc[331456,:].values):\n",
    "#    print(ix,obj)"
   ]
  },
  {
   "cell_type": "code",
   "execution_count": 13,
   "metadata": {
    "execution": {
     "iopub.execute_input": "2020-07-18T16:27:30.550389Z",
     "iopub.status.busy": "2020-07-18T16:27:30.550045Z",
     "iopub.status.idle": "2020-07-18T16:27:30.625372Z",
     "shell.execute_reply": "2020-07-18T16:27:30.623465Z"
    },
    "papermill": {
     "duration": 0.096999,
     "end_time": "2020-07-18T16:27:30.625633",
     "exception": false,
     "start_time": "2020-07-18T16:27:30.528634",
     "status": "completed"
    },
    "tags": []
   },
   "outputs": [],
   "source": [
    "#simulation.fourier_engineered_dataframe.dct_feat0"
   ]
  },
  {
   "cell_type": "code",
   "execution_count": 14,
   "metadata": {
    "execution": {
     "iopub.execute_input": "2020-07-18T16:27:30.700430Z",
     "iopub.status.busy": "2020-07-18T16:27:30.700087Z",
     "iopub.status.idle": "2020-07-18T16:27:30.710309Z",
     "shell.execute_reply": "2020-07-18T16:27:30.710017Z"
    },
    "papermill": {
     "duration": 0.031771,
     "end_time": "2020-07-18T16:27:30.710364",
     "exception": false,
     "start_time": "2020-07-18T16:27:30.678593",
     "status": "completed"
    },
    "tags": []
   },
   "outputs": [],
   "source": [
    "#simulation.features"
   ]
  },
  {
   "cell_type": "code",
   "execution_count": 15,
   "metadata": {
    "execution": {
     "iopub.execute_input": "2020-07-18T16:27:30.749525Z",
     "iopub.status.busy": "2020-07-18T16:27:30.749215Z",
     "iopub.status.idle": "2020-07-18T16:27:30.817194Z",
     "shell.execute_reply": "2020-07-18T16:27:30.815395Z"
    },
    "papermill": {
     "duration": 0.088509,
     "end_time": "2020-07-18T16:27:30.817442",
     "exception": false,
     "start_time": "2020-07-18T16:27:30.728933",
     "status": "completed"
    },
    "tags": []
   },
   "outputs": [],
   "source": [
    "#simulation.fourier_matrix"
   ]
  },
  {
   "cell_type": "code",
   "execution_count": 16,
   "metadata": {
    "execution": {
     "iopub.execute_input": "2020-07-18T16:27:30.894562Z",
     "iopub.status.busy": "2020-07-18T16:27:30.894249Z",
     "iopub.status.idle": "2020-07-18T16:27:30.904340Z",
     "shell.execute_reply": "2020-07-18T16:27:30.904670Z"
    },
    "papermill": {
     "duration": 0.032298,
     "end_time": "2020-07-18T16:27:30.904738",
     "exception": false,
     "start_time": "2020-07-18T16:27:30.872440",
     "status": "completed"
    },
    "tags": []
   },
   "outputs": [],
   "source": [
    "#1/simulation.n_features*simulation.dataframe.loc[:,simulation.features].sum(axis=1)"
   ]
  },
  {
   "cell_type": "code",
   "execution_count": 17,
   "metadata": {
    "execution": {
     "iopub.execute_input": "2020-07-18T16:27:30.943239Z",
     "iopub.status.busy": "2020-07-18T16:27:30.942930Z",
     "iopub.status.idle": "2020-07-18T16:27:31.016791Z",
     "shell.execute_reply": "2020-07-18T16:27:31.015001Z"
    },
    "papermill": {
     "duration": 0.094219,
     "end_time": "2020-07-18T16:27:31.017035",
     "exception": false,
     "start_time": "2020-07-18T16:27:30.922816",
     "status": "completed"
    },
    "tags": []
   },
   "outputs": [],
   "source": [
    "#df_2 = simulation.fourier_engineered_dataframe[simulation.fourier_engineered_dataframe.phase==2]\n",
    "#df_2.describe()"
   ]
  },
  {
   "cell_type": "code",
   "execution_count": 18,
   "metadata": {
    "execution": {
     "iopub.execute_input": "2020-07-18T16:27:31.094909Z",
     "iopub.status.busy": "2020-07-18T16:27:31.094589Z",
     "iopub.status.idle": "2020-07-18T16:27:31.104441Z",
     "shell.execute_reply": "2020-07-18T16:27:31.104781Z"
    },
    "papermill": {
     "duration": 0.032084,
     "end_time": "2020-07-18T16:27:31.104852",
     "exception": false,
     "start_time": "2020-07-18T16:27:31.072768",
     "status": "completed"
    },
    "tags": []
   },
   "outputs": [],
   "source": [
    "#df_1 = simulation.fourier_engineered_dataframe[simulation.fourier_engineered_dataframe.phase==1]\n",
    "#df_1.describe()"
   ]
  },
  {
   "cell_type": "code",
   "execution_count": 19,
   "metadata": {
    "execution": {
     "iopub.execute_input": "2020-07-18T16:27:31.143655Z",
     "iopub.status.busy": "2020-07-18T16:27:31.143322Z",
     "iopub.status.idle": "2020-07-18T16:27:31.215075Z",
     "shell.execute_reply": "2020-07-18T16:27:31.216775Z"
    },
    "papermill": {
     "duration": 0.093688,
     "end_time": "2020-07-18T16:27:31.217079",
     "exception": false,
     "start_time": "2020-07-18T16:27:31.123391",
     "status": "completed"
    },
    "tags": []
   },
   "outputs": [],
   "source": [
    "#df_0 = simulation.fourier_engineered_dataframe[simulation.fourier_engineered_dataframe.phase==0]\n",
    "#df_0.describe()"
   ]
  },
  {
   "cell_type": "code",
   "execution_count": 20,
   "metadata": {
    "execution": {
     "iopub.execute_input": "2020-07-18T16:27:31.256936Z",
     "iopub.status.busy": "2020-07-18T16:27:31.256626Z",
     "iopub.status.idle": "2020-07-18T16:27:31.300878Z",
     "shell.execute_reply": "2020-07-18T16:27:31.300479Z"
    },
    "papermill": {
     "duration": 0.064248,
     "end_time": "2020-07-18T16:27:31.300939",
     "exception": false,
     "start_time": "2020-07-18T16:27:31.236691",
     "status": "completed"
    },
    "tags": []
   },
   "outputs": [],
   "source": [
    "#plt.figure(figsize=(10,10))\n",
    "#plt.scatter(df_1.fourier_feat0,df_1.fourier_feat2)\n",
    "#plt.scatter(df_0.fourier_feat0,df_0.fourier_feat2,alpha=0.4)"
   ]
  },
  {
   "cell_type": "code",
   "execution_count": 21,
   "metadata": {
    "execution": {
     "iopub.execute_input": "2020-07-18T16:27:31.341301Z",
     "iopub.status.busy": "2020-07-18T16:27:31.340993Z",
     "iopub.status.idle": "2020-07-18T16:27:31.410546Z",
     "shell.execute_reply": "2020-07-18T16:27:31.409802Z"
    },
    "papermill": {
     "duration": 0.089376,
     "end_time": "2020-07-18T16:27:31.410651",
     "exception": false,
     "start_time": "2020-07-18T16:27:31.321275",
     "status": "completed"
    },
    "tags": []
   },
   "outputs": [],
   "source": [
    "#plt.scatter(df_0.fourier_feat0,df_0.fourier_feat2,alpha=0.4)"
   ]
  },
  {
   "cell_type": "code",
   "execution_count": 22,
   "metadata": {
    "execution": {
     "iopub.execute_input": "2020-07-18T16:27:31.475600Z",
     "iopub.status.busy": "2020-07-18T16:27:31.475290Z",
     "iopub.status.idle": "2020-07-18T16:27:31.487511Z",
     "shell.execute_reply": "2020-07-18T16:27:31.487800Z"
    },
    "papermill": {
     "duration": 0.036123,
     "end_time": "2020-07-18T16:27:31.487874",
     "exception": false,
     "start_time": "2020-07-18T16:27:31.451751",
     "status": "completed"
    },
    "tags": []
   },
   "outputs": [],
   "source": [
    "#plt.scatter(df_2.fourier_feat0,df_2.fourier_feat2)"
   ]
  },
  {
   "cell_type": "code",
   "execution_count": 23,
   "metadata": {
    "execution": {
     "iopub.execute_input": "2020-07-18T16:27:31.526627Z",
     "iopub.status.busy": "2020-07-18T16:27:31.526319Z",
     "iopub.status.idle": "2020-07-18T16:27:31.642151Z",
     "shell.execute_reply": "2020-07-18T16:27:31.640357Z"
    },
    "papermill": {
     "duration": 0.136359,
     "end_time": "2020-07-18T16:27:31.642395",
     "exception": false,
     "start_time": "2020-07-18T16:27:31.506036",
     "status": "completed"
    },
    "tags": []
   },
   "outputs": [],
   "source": [
    "#df_1.hist(figsize=(15,15))"
   ]
  },
  {
   "cell_type": "code",
   "execution_count": 24,
   "metadata": {
    "execution": {
     "iopub.execute_input": "2020-07-18T16:27:31.721098Z",
     "iopub.status.busy": "2020-07-18T16:27:31.720775Z",
     "iopub.status.idle": "2020-07-18T16:27:31.731700Z",
     "shell.execute_reply": "2020-07-18T16:27:31.731344Z"
    },
    "papermill": {
     "duration": 0.033627,
     "end_time": "2020-07-18T16:27:31.731757",
     "exception": false,
     "start_time": "2020-07-18T16:27:31.698130",
     "status": "completed"
    },
    "tags": []
   },
   "outputs": [],
   "source": [
    "#df_0.hist(figsize=(15,15))"
   ]
  },
  {
   "cell_type": "markdown",
   "metadata": {
    "papermill": {
     "duration": 0.018646,
     "end_time": "2020-07-18T16:27:31.769325",
     "exception": false,
     "start_time": "2020-07-18T16:27:31.750679",
     "status": "completed"
    },
    "tags": []
   },
   "source": [
    "#### Checking initialization"
   ]
  },
  {
   "cell_type": "code",
   "execution_count": 25,
   "metadata": {
    "execution": {
     "iopub.execute_input": "2020-07-18T16:27:31.807365Z",
     "iopub.status.busy": "2020-07-18T16:27:31.807051Z",
     "iopub.status.idle": "2020-07-18T16:27:31.847069Z",
     "shell.execute_reply": "2020-07-18T16:27:31.846722Z"
    },
    "papermill": {
     "duration": 0.060168,
     "end_time": "2020-07-18T16:27:31.847122",
     "exception": false,
     "start_time": "2020-07-18T16:27:31.786954",
     "status": "completed"
    },
    "tags": []
   },
   "outputs": [
    {
     "name": "stdout",
     "output_type": "stream",
     "text": [
      "n_features:  100\n",
      "n_hamiltonians:  6561\n",
      "n_ts:  2\n",
      "CPU times: user 127 µs, sys: 17 µs, total: 144 µs\n",
      "Wall time: 97.5 µs\n"
     ]
    }
   ],
   "source": [
    "%%time\n",
    "n_features = simulation.n_features\n",
    "n_hamiltonians = simulation.n_hamiltonians\n",
    "n_ts = simulation.n_ts\n",
    "\n",
    "print(\"n_features: \", n_features)\n",
    "print(\"n_hamiltonians: \", n_hamiltonians)\n",
    "print(\"n_ts: \", n_ts)"
   ]
  },
  {
   "cell_type": "code",
   "execution_count": 26,
   "metadata": {
    "execution": {
     "iopub.execute_input": "2020-07-18T16:27:31.888566Z",
     "iopub.status.busy": "2020-07-18T16:27:31.888221Z",
     "iopub.status.idle": "2020-07-18T16:27:32.176521Z",
     "shell.execute_reply": "2020-07-18T16:27:32.176189Z"
    },
    "papermill": {
     "duration": 0.309216,
     "end_time": "2020-07-18T16:27:32.176573",
     "exception": false,
     "start_time": "2020-07-18T16:27:31.867357",
     "status": "completed"
    },
    "tags": []
   },
   "outputs": [
    {
     "name": "stdout",
     "output_type": "stream",
     "text": [
      "% train:  0.8414875781130925\n",
      "% val:  0.0\n",
      "% test:  0.15851242188690748\n",
      "% train + val + test:  1.0\n",
      "\n",
      "\n",
      "number of train hamiltonians:  5521\n",
      "number of val hamiltonians:  0\n",
      "number of test hamiltonians:  1040\n",
      "total number of hamiltonians:  6561\n",
      "\n",
      "\n",
      "train ids:  [13, 14, 15, 16, 17, 18, 19, 20, 21, 22, 23, 24, 25, 26, 27, 28, 29, 30, 31, 32, 33, 34, 35, 36, 37, 38, 39, 41, 42, 43, 44, 45, 46, 47, 48, 49, 50, 51, 52, 53, 54, 55, 56, 57, 58, 59, 60, 61, 62, 63, 64, 65, 66, 67, 68, 69, 70, 71, 72, 73, 74, 75, 76, 77, 78, 79, 80, 95, 96, 97, 98, 99, 100, 101, 102, 103, 104, 105, 106, 107, 108, 109, 110, 111, 112, 113, 114, 115, 116, 117, 118, 119, 121, 122, 123, 124, 125, 126, 127, 128, 129, 130, 131, 132, 133, 134, 135, 136, 137, 138, 139, 140, 141, 142, 143, 144, 145, 146, 147, 148, 149, 150, 151, 152, 153, 154, 155, 156, 157, 158, 159, 160, 161, 176, 177, 178, 179, 180, 181, 182, 183, 184, 185, 186, 187, 188, 189, 190, 191, 192, 193, 194, 195, 196, 197, 198, 199, 201, 202, 203, 204, 205, 206, 207, 208, 209, 210, 211, 212, 213, 214, 215, 216, 217, 218, 219, 220, 221, 222, 223, 224, 225, 226, 227, 228, 229, 230, 231, 232, 233, 234, 235, 236, 237, 238, 239, 240, 241, 242, 258, 259, 260, 261, 262, 263, 264, 265, 266, 267, 268, 269, 270, 271, 272, 273, 274, 275, 276, 277, 278, 279, 281, 282, 283, 284, 285, 286, 287, 288, 289, 290, 291, 292, 293, 294, 295, 296, 297, 298, 299, 300, 301, 302, 303, 304, 305, 306, 307, 308, 309, 310, 311, 312, 313, 314, 315, 316, 317, 318, 319, 320, 321, 322, 323, 340, 341, 342, 343, 344, 345, 346, 347, 348, 349, 350, 351, 352, 353, 354, 355, 356, 357, 358, 359, 361, 362, 363, 364, 365, 366, 367, 368, 369, 370, 371, 372, 373, 374, 375, 376, 377, 378, 379, 380, 381, 382, 383, 384, 385, 386, 387, 388, 389, 390, 391, 392, 393, 394, 395, 396, 397, 398, 399, 400, 401, 402, 403, 404, 422, 423, 424, 425, 426, 427, 428, 429, 430, 431, 432, 433, 434, 435, 436, 437, 438, 439, 441, 442, 443, 444, 445, 446, 447, 448, 449, 450, 451, 452, 453, 454, 455, 456, 457, 458, 459, 460, 461, 462, 463, 464, 465, 466, 467, 468, 469, 470, 471, 472, 473, 474, 475, 476, 477, 478, 479, 480, 481, 482, 483, 484, 485, 503, 504, 505, 506, 507, 508, 509, 510, 511, 512, 513, 514, 515, 516, 517, 518, 519, 521, 522, 523, 524, 525, 526, 527, 528, 529, 530, 531, 532, 533, 534, 535, 536, 537, 538, 539, 540, 541, 542, 543, 544, 545, 546, 547, 548, 549, 550, 551, 552, 553, 554, 555, 556, 557, 558, 559, 560, 561, 562, 563, 564, 565, 566, 585, 586, 587, 588, 589, 590, 591, 592, 593, 594, 595, 596, 597, 598, 599, 601, 602, 603, 604, 605, 606, 607, 608, 609, 610, 611, 612, 613, 614, 615, 616, 617, 618, 619, 620, 621, 622, 623, 624, 625, 626, 627, 628, 629, 630, 631, 632, 633, 634, 635, 636, 637, 638, 639, 640, 641, 642, 643, 644, 645, 646, 647, 667, 668, 669, 670, 671, 672, 673, 674, 675, 676, 677, 678, 679, 681, 682, 683, 684, 685, 686, 687, 688, 689, 690, 691, 692, 693, 694, 695, 696, 697, 698, 699, 700, 701, 702, 703, 704, 705, 706, 707, 708, 709, 710, 711, 712, 713, 714, 715, 716, 717, 718, 719, 720, 721, 722, 723, 724, 725, 726, 727, 728, 749, 750, 751, 752, 753, 754, 755, 756, 757, 758, 759, 761, 762, 763, 764, 765, 766, 767, 768, 769, 770, 771, 772, 773, 774, 775, 776, 777, 778, 779, 780, 781, 782, 783, 784, 785, 786, 787, 788, 789, 790, 791, 792, 793, 794, 795, 796, 797, 798, 799, 800, 801, 802, 803, 804, 805, 806, 807, 808, 809, 830, 831, 832, 833, 834, 835, 836, 837, 838, 839, 841, 842, 843, 844, 845, 846, 847, 848, 849, 850, 851, 852, 853, 854, 855, 856, 857, 858, 859, 860, 861, 862, 863, 864, 865, 866, 867, 868, 869, 870, 871, 872, 873, 874, 875, 876, 877, 878, 879, 880, 881, 882, 883, 884, 885, 886, 887, 888, 889, 890, 912, 913, 914, 915, 916, 917, 918, 919, 921, 922, 923, 924, 925, 926, 927, 928, 929, 930, 931, 932, 933, 934, 935, 936, 937, 938, 939, 940, 941, 942, 943, 944, 945, 946, 947, 948, 949, 950, 951, 952, 953, 954, 955, 956, 957, 958, 959, 960, 961, 962, 963, 964, 965, 966, 967, 968, 969, 970, 971, 994, 995, 996, 997, 998, 999, 1001, 1002, 1003, 1004, 1005, 1006, 1007, 1008, 1009, 1010, 1011, 1012, 1013, 1014, 1015, 1016, 1017, 1018, 1019, 1020, 1021, 1022, 1023, 1024, 1025, 1026, 1027, 1028, 1029, 1030, 1031, 1032, 1033, 1034, 1035, 1036, 1037, 1038, 1039, 1040, 1041, 1042, 1043, 1044, 1045, 1046, 1047, 1048, 1049, 1050, 1051, 1052, 1076, 1077, 1078, 1079, 1081, 1082, 1083, 1084, 1085, 1086, 1087, 1088, 1089, 1090, 1091, 1092, 1093, 1094, 1095, 1096, 1097, 1098, 1099, 1100, 1101, 1102, 1103, 1104, 1105, 1106, 1107, 1108, 1109, 1110, 1111, 1112, 1113, 1114, 1115, 1116, 1117, 1118, 1119, 1120, 1121, 1122, 1123, 1124, 1125, 1126, 1127, 1128, 1129, 1130, 1131, 1132, 1133, 1134, 1157, 1158, 1159, 1161, 1162, 1163, 1164, 1165, 1166, 1167, 1168, 1169, 1170, 1171, 1172, 1173, 1174, 1175, 1176, 1177, 1178, 1179, 1180, 1181, 1182, 1183, 1184, 1185, 1186, 1187, 1188, 1189, 1190, 1191, 1192, 1193, 1194, 1195, 1196, 1197, 1198, 1199, 1200, 1201, 1202, 1203, 1204, 1205, 1206, 1207, 1208, 1209, 1210, 1211, 1212, 1213, 1214, 1215, 1216, 1239, 1241, 1242, 1243, 1244, 1245, 1246, 1247, 1248, 1249, 1250, 1251, 1252, 1253, 1254, 1255, 1256, 1257, 1258, 1259, 1260, 1261, 1262, 1263, 1264, 1265, 1266, 1267, 1268, 1269, 1270, 1271, 1272, 1273, 1274, 1275, 1276, 1277, 1278, 1279, 1280, 1281, 1282, 1283, 1284, 1285, 1286, 1287, 1288, 1289, 1290, 1291, 1292, 1293, 1294, 1295, 1296, 1297, 1298, 1299, 1321, 1322, 1323, 1324, 1325, 1326, 1327, 1328, 1329, 1330, 1331, 1332, 1333, 1334, 1335, 1336, 1337, 1338, 1339, 1340, 1341, 1342, 1343, 1344, 1345, 1346, 1347, 1348, 1349, 1350, 1351, 1352, 1353, 1354, 1355, 1356, 1357, 1358, 1359, 1360, 1361, 1362, 1363, 1364, 1365, 1366, 1367, 1368, 1369, 1370, 1371, 1372, 1373, 1374, 1375, 1376, 1377, 1378, 1379, 1380, 1381, 1402, 1403, 1404, 1405, 1406, 1407, 1408, 1409, 1410, 1411, 1412, 1413, 1414, 1415, 1416, 1417, 1418, 1419, 1420, 1421, 1422, 1423, 1424, 1425, 1426, 1427, 1428, 1429, 1430, 1431, 1432, 1433, 1434, 1435, 1436, 1437, 1438, 1439, 1440, 1441, 1442, 1443, 1444, 1445, 1446, 1447, 1448, 1449, 1450, 1451, 1452, 1453, 1454, 1455, 1456, 1457, 1458, 1459, 1460, 1461, 1462, 1463, 1464, 1484, 1485, 1486, 1487, 1488, 1489, 1490, 1491, 1492, 1493, 1494, 1495, 1496, 1497, 1498, 1499, 1500, 1501, 1502, 1503, 1504, 1505, 1506, 1507, 1508, 1509, 1510, 1511, 1512, 1513, 1514, 1515, 1516, 1517, 1518, 1519, 1520, 1521, 1522, 1523, 1524, 1525, 1526, 1527, 1528, 1529, 1530, 1531, 1532, 1533, 1534, 1535, 1536, 1537, 1538, 1539, 1540, 1541, 1542, 1543, 1544, 1545, 1546, 1566, 1567, 1568, 1569, 1570, 1571, 1572, 1573, 1574, 1575, 1576, 1577, 1578, 1579, 1580, 1581, 1582, 1583, 1584, 1585, 1586, 1587, 1588, 1589, 1590, 1591, 1592, 1593, 1594, 1595, 1596, 1597, 1598, 1599, 1600, 1601, 1602, 1603, 1604, 1605, 1606, 1607, 1608, 1609, 1610, 1611, 1612, 1613, 1614, 1615, 1616, 1617, 1618, 1619, 1620, 1621, 1622, 1623, 1624, 1625, 1626, 1627, 1628, 1648, 1649, 1650, 1651, 1652, 1653, 1654, 1655, 1656, 1657, 1658, 1659, 1660, 1661, 1662, 1663, 1664, 1665, 1666, 1667, 1668, 1669, 1670, 1671, 1672, 1673, 1674, 1675, 1676, 1677, 1678, 1679, 1680, 1681, 1682, 1683, 1684, 1685, 1686, 1687, 1688, 1689, 1690, 1691, 1692, 1693, 1694, 1695, 1696, 1697, 1698, 1699, 1701, 1702, 1703, 1704, 1705, 1706, 1707, 1708, 1709, 1710, 1711, 1729, 1730, 1731, 1732, 1733, 1734, 1735, 1736, 1737, 1738, 1739, 1740, 1741, 1742, 1743, 1744, 1745, 1746, 1747, 1748, 1749, 1750, 1751, 1752, 1753, 1754, 1755, 1756, 1757, 1758, 1759, 1760, 1761, 1762, 1763, 1764, 1765, 1766, 1767, 1768, 1769, 1770, 1771, 1772, 1773, 1774, 1775, 1776, 1777, 1778, 1779, 1781, 1782, 1783, 1784, 1785, 1786, 1787, 1788, 1789, 1790, 1791, 1792, 1793, 1811, 1812, 1813, 1814, 1815, 1816, 1817, 1818, 1819, 1820, 1821, 1822, 1823, 1824, 1825, 1826, 1827, 1828, 1829, 1830, 1831, 1832, 1833, 1834, 1835, 1836, 1837, 1838, 1839, 1840, 1841, 1842, 1843, 1844, 1845, 1846, 1847, 1848, 1849, 1850, 1851, 1852, 1853, 1854, 1855, 1856, 1857, 1858, 1859, 1861, 1862, 1863, 1864, 1865, 1866, 1867, 1868, 1869, 1870, 1871, 1872, 1873, 1874, 1875, 1876, 1893, 1894, 1895, 1896, 1897, 1898, 1899, 1900, 1901, 1902, 1903, 1904, 1905, 1906, 1907, 1908, 1909, 1910, 1911, 1912, 1913, 1914, 1915, 1916, 1917, 1918, 1919, 1920, 1921, 1922, 1923, 1924, 1925, 1926, 1927, 1928, 1929, 1930, 1931, 1932, 1933, 1934, 1935, 1936, 1937, 1938, 1939, 1941, 1942, 1943, 1944, 1945, 1946, 1947, 1948, 1949, 1950, 1951, 1952, 1953, 1954, 1955, 1956, 1957, 1958, 1975, 1976, 1977, 1978, 1979, 1980, 1981, 1982, 1983, 1984, 1985, 1986, 1987, 1988, 1989, 1990, 1991, 1992, 1993, 1994, 1995, 1996, 1997, 1998, 1999, 2000, 2001, 2002, 2003, 2004, 2005, 2006, 2007, 2008, 2009, 2010, 2011, 2012, 2013, 2014, 2015, 2016, 2017, 2018, 2019, 2021, 2022, 2023, 2024, 2025, 2026, 2027, 2028, 2029, 2030, 2031, 2032, 2033, 2034, 2035, 2036, 2037, 2038, 2039, 2056, 2057, 2058, 2059, 2060, 2061, 2062, 2063, 2064, 2065, 2066, 2067, 2068, 2069, 2070, 2071, 2072, 2073, 2074, 2075, 2076, 2077, 2078, 2079, 2080, 2081, 2082, 2083, 2084, 2085, 2086, 2087, 2088, 2089, 2090, 2091, 2092, 2093, 2094, 2095, 2096, 2097, 2098, 2099, 2101, 2102, 2103, 2104, 2105, 2106, 2107, 2108, 2109, 2110, 2111, 2112, 2113, 2114, 2115, 2116, 2117, 2118, 2119, 2121, 2122, 2123, 2138, 2139, 2140, 2141, 2142, 2143, 2144, 2145, 2146, 2147, 2148, 2149, 2150, 2151, 2152, 2153, 2154, 2155, 2156, 2157, 2158, 2159, 2160, 2161, 2162, 2163, 2164, 2165, 2166, 2167, 2168, 2169, 2170, 2171, 2172, 2173, 2174, 2175, 2176, 2177, 2178, 2179, 2181, 2182, 2183, 2184, 2185, 2186, 2187, 2188, 2189, 2190, 2191, 2192, 2193, 2194, 2195, 2196, 2197, 2198, 2199, 2201, 2202, 2203, 2204, 2205, 2220, 2221, 2222, 2223, 2224, 2225, 2226, 2227, 2228, 2229, 2230, 2231, 2232, 2233, 2234, 2235, 2236, 2237, 2238, 2239, 2240, 2241, 2242, 2243, 2244, 2245, 2246, 2247, 2248, 2249, 2250, 2251, 2252, 2253, 2254, 2255, 2256, 2257, 2258, 2259, 2261, 2262, 2263, 2264, 2265, 2266, 2267, 2268, 2269, 2270, 2271, 2272, 2273, 2274, 2275, 2276, 2277, 2278, 2279, 2281, 2282, 2283, 2284, 2285, 2286, 2287, 2288, 2301, 2302, 2303, 2304, 2305, 2306, 2307, 2308, 2309, 2310, 2311, 2312, 2313, 2314, 2315, 2316, 2317, 2318, 2319, 2320, 2321, 2322, 2323, 2324, 2325, 2326, 2327, 2328, 2329, 2330, 2331, 2332, 2333, 2334, 2335, 2336, 2337, 2338, 2339, 2341, 2342, 2343, 2344, 2345, 2346, 2347, 2348, 2349, 2350, 2351, 2352, 2353, 2354, 2355, 2356, 2357, 2358, 2359, 2361, 2362, 2363, 2364, 2365, 2366, 2367, 2368, 2369, 2370, 2383, 2384, 2385, 2386, 2387, 2388, 2389, 2390, 2391, 2392, 2393, 2394, 2395, 2396, 2397, 2398, 2399, 2400, 2401, 2402, 2403, 2404, 2405, 2406, 2407, 2408, 2409, 2410, 2411, 2412, 2413, 2414, 2415, 2416, 2417, 2418, 2419, 2421, 2422, 2423, 2424, 2425, 2426, 2427, 2428, 2429, 2430, 2431, 2432, 2433, 2434, 2435, 2436, 2437, 2438, 2439, 2441, 2442, 2443, 2444, 2445, 2446, 2447, 2448, 2449, 2450, 2451, 2452, 2453, 2465, 2466, 2467, 2468, 2469, 2470, 2471, 2472, 2473, 2474, 2475, 2476, 2477, 2478, 2479, 2480, 2481, 2482, 2483, 2484, 2485, 2486, 2487, 2488, 2489, 2490, 2491, 2492, 2493, 2494, 2495, 2496, 2497, 2498, 2499, 2501, 2502, 2503, 2504, 2505, 2506, 2507, 2508, 2509, 2510, 2511, 2512, 2513, 2514, 2515, 2516, 2517, 2518, 2519, 2521, 2522, 2523, 2524, 2525, 2526, 2527, 2528, 2529, 2530, 2531, 2532, 2533, 2534, 2535, 2547, 2548, 2549, 2550, 2551, 2552, 2553, 2554, 2555, 2556, 2557, 2558, 2559, 2560, 2561, 2562, 2563, 2564, 2565, 2566, 2567, 2568, 2569, 2570, 2571, 2572, 2573, 2574, 2575, 2576, 2577, 2578, 2579, 2581, 2582, 2583, 2584, 2585, 2586, 2587, 2588, 2589, 2590, 2591, 2592, 2593, 2594, 2595, 2596, 2597, 2598, 2599, 2601, 2602, 2603, 2604, 2605, 2606, 2607, 2608, 2609, 2610, 2611, 2612, 2613, 2614, 2615, 2616, 2617, 2628, 2629, 2630, 2631, 2632, 2633, 2634, 2635, 2636, 2637, 2638, 2639, 2640, 2641, 2642, 2643, 2644, 2645, 2646, 2647, 2648, 2649, 2650, 2651, 2652, 2653, 2654, 2655, 2656, 2657, 2658, 2659, 2661, 2662, 2663, 2664, 2665, 2666, 2667, 2668, 2669, 2670, 2671, 2672, 2673, 2674, 2675, 2676, 2677, 2678, 2679, 2681, 2682, 2683, 2684, 2685, 2686, 2687, 2688, 2689, 2690, 2691, 2692, 2693, 2694, 2695, 2696, 2697, 2698, 2699, 2700, 2710, 2711, 2712, 2713, 2714, 2715, 2716, 2717, 2718, 2719, 2720, 2721, 2722, 2723, 2724, 2725, 2726, 2727, 2728, 2729, 2730, 2731, 2732, 2733, 2734, 2735, 2736, 2737, 2738, 2739, 2741, 2742, 2743, 2744, 2745, 2746, 2747, 2748, 2749, 2750, 2751, 2752, 2753, 2754, 2755, 2756, 2757, 2758, 2759, 2761, 2762, 2763, 2764, 2765, 2766, 2767, 2768, 2769, 2770, 2771, 2772, 2773, 2774, 2775, 2776, 2777, 2778, 2779, 2780, 2781, 2782, 2792, 2793, 2794, 2795, 2796, 2797, 2798, 2799, 2800, 2801, 2802, 2803, 2804, 2805, 2806, 2807, 2808, 2809, 2810, 2811, 2812, 2813, 2814, 2815, 2816, 2817, 2818, 2819, 2821, 2822, 2823, 2824, 2825, 2826, 2827, 2828, 2829, 2830, 2831, 2832, 2833, 2834, 2835, 2836, 2837, 2838, 2839, 2841, 2842, 2843, 2844, 2845, 2846, 2847, 2848, 2849, 2850, 2851, 2852, 2853, 2854, 2855, 2856, 2857, 2858, 2859, 2860, 2861, 2862, 2863, 2864, 2865, 2874, 2875, 2876, 2877, 2878, 2879, 2880, 2881, 2882, 2883, 2884, 2885, 2886, 2887, 2888, 2889, 2890, 2891, 2892, 2893, 2894, 2895, 2896, 2897, 2898, 2899, 2901, 2902, 2903, 2904, 2905, 2906, 2907, 2908, 2909, 2910, 2911, 2912, 2913, 2914, 2915, 2916, 2917, 2918, 2919, 2921, 2922, 2923, 2924, 2925, 2926, 2927, 2928, 2929, 2930, 2931, 2932, 2933, 2934, 2935, 2936, 2937, 2938, 2939, 2940, 2941, 2942, 2943, 2944, 2945, 2946, 2947, 2955, 2956, 2957, 2958, 2959, 2960, 2961, 2962, 2963, 2964, 2965, 2966, 2967, 2968, 2969, 2970, 2971, 2972, 2973, 2974, 2975, 2976, 2977, 2978, 2979, 2981, 2982, 2983, 2984, 2985, 2986, 2987, 2988, 2989, 2990, 2991, 2992, 2993, 2994, 2995, 2996, 2997, 2998, 2999, 3001, 3002, 3003, 3004, 3005, 3006, 3007, 3008, 3009, 3010, 3011, 3012, 3013, 3014, 3015, 3016, 3017, 3018, 3019, 3020, 3021, 3022, 3023, 3024, 3025, 3026, 3027, 3028, 3029, 3037, 3038, 3039, 3040, 3041, 3042, 3043, 3044, 3045, 3046, 3047, 3048, 3049, 3050, 3051, 3052, 3053, 3054, 3055, 3056, 3057, 3058, 3059, 3061, 3062, 3063, 3064, 3065, 3066, 3067, 3068, 3069, 3070, 3071, 3072, 3073, 3074, 3075, 3076, 3077, 3078, 3079, 3081, 3082, 3083, 3084, 3085, 3086, 3087, 3088, 3089, 3090, 3091, 3092, 3093, 3094, 3095, 3096, 3097, 3098, 3099, 3100, 3101, 3102, 3103, 3104, 3105, 3106, 3107, 3108, 3109, 3110, 3111, 3112, 3119, 3120, 3121, 3122, 3123, 3124, 3125, 3126, 3127, 3128, 3129, 3130, 3131, 3132, 3133, 3134, 3135, 3136, 3137, 3138, 3139, 3141, 3142, 3143, 3144, 3145, 3146, 3147, 3148, 3149, 3150, 3151, 3152, 3153, 3154, 3155, 3156, 3157, 3158, 3159, 3161, 3162, 3163, 3164, 3165, 3166, 3167, 3168, 3169, 3170, 3171, 3172, 3173, 3174, 3175, 3176, 3177, 3178, 3179, 3180, 3181, 3182, 3183, 3184, 3185, 3186, 3187, 3188, 3189, 3190, 3191, 3192, 3193, 3194, 3201, 3202, 3203, 3204, 3205, 3206, 3207, 3208, 3209, 3210, 3211, 3212, 3213, 3214, 3215, 3216, 3217, 3218, 3219, 3221, 3222, 3223, 3224, 3225, 3226, 3227, 3228, 3229, 3230, 3231, 3232, 3233, 3234, 3235, 3236, 3237, 3238, 3239, 3241, 3242, 3243, 3244, 3245, 3246, 3247, 3248, 3249, 3250, 3251, 3252, 3253, 3254, 3255, 3256, 3257, 3258, 3259, 3260, 3261, 3262, 3263, 3264, 3265, 3266, 3267, 3268, 3269, 3270, 3271, 3272, 3273, 3274, 3275, 3276, 3277, 3282, 3283, 3284, 3285, 3286, 3287, 3288, 3289, 3290, 3291, 3292, 3293, 3294, 3295, 3296, 3297, 3298, 3299, 3301, 3302, 3303, 3304, 3305, 3306, 3307, 3308, 3309, 3310, 3311, 3312, 3313, 3314, 3315, 3316, 3317, 3318, 3319, 3320, 3321, 3322, 3323, 3324, 3325, 3326, 3327, 3328, 3329, 3330, 3331, 3332, 3333, 3334, 3335, 3336, 3337, 3338, 3339, 3340, 3341, 3342, 3343, 3344, 3345, 3346, 3347, 3348, 3349, 3350, 3351, 3352, 3353, 3354, 3355, 3356, 3357, 3358, 3359, 3364, 3365, 3366, 3367, 3368, 3369, 3370, 3371, 3372, 3373, 3374, 3375, 3376, 3377, 3378, 3379, 3381, 3382, 3383, 3384, 3385, 3386, 3387, 3388, 3389, 3390, 3391, 3392, 3393, 3394, 3395, 3396, 3397, 3398, 3399, 3400, 3401, 3402, 3403, 3404, 3405, 3406, 3407, 3408, 3409, 3410, 3411, 3412, 3413, 3414, 3415, 3416, 3417, 3418, 3419, 3420, 3421, 3422, 3423, 3424, 3425, 3426, 3427, 3428, 3429, 3430, 3431, 3432, 3433, 3434, 3435, 3436, 3437, 3438, 3439, 3440, 3441, 3442, 3446, 3447, 3448, 3449, 3450, 3451, 3452, 3453, 3454, 3455, 3456, 3457, 3458, 3459, 3461, 3462, 3463, 3464, 3465, 3466, 3467, 3468, 3469, 3470, 3471, 3472, 3473, 3474, 3475, 3476, 3477, 3478, 3479, 3480, 3481, 3482, 3483, 3484, 3485, 3486, 3487, 3488, 3489, 3490, 3491, 3492, 3493, 3494, 3495, 3496, 3497, 3498, 3499, 3500, 3501, 3502, 3503, 3504, 3505, 3506, 3507, 3508, 3509, 3510, 3511, 3512, 3513, 3514, 3515, 3516, 3517, 3518, 3519, 3520, 3521, 3522, 3523, 3524, 3527, 3528, 3529, 3530, 3531, 3532, 3533, 3534, 3535, 3536, 3537, 3538, 3539, 3541, 3542, 3543, 3544, 3545, 3546, 3547, 3548, 3549, 3550, 3551, 3552, 3553, 3554, 3555, 3556, 3557, 3558, 3559, 3560, 3561, 3562, 3563, 3564, 3565, 3566, 3567, 3568, 3569, 3570, 3571, 3572, 3573, 3574, 3575, 3576, 3577, 3578, 3579, 3580, 3581, 3582, 3583, 3584, 3585, 3586, 3587, 3588, 3589, 3590, 3591, 3592, 3593, 3594, 3595, 3596, 3597, 3598, 3599, 3600, 3601, 3602, 3603, 3604, 3605, 3606, 3609, 3610, 3611, 3612, 3613, 3614, 3615, 3616, 3617, 3618, 3619, 3621, 3622, 3623, 3624, 3625, 3626, 3627, 3628, 3629, 3630, 3631, 3632, 3633, 3634, 3635, 3636, 3637, 3638, 3639, 3640, 3641, 3642, 3643, 3644, 3645, 3646, 3647, 3648, 3649, 3650, 3651, 3652, 3653, 3654, 3655, 3656, 3657, 3658, 3659, 3660, 3661, 3662, 3663, 3664, 3665, 3666, 3667, 3668, 3669, 3670, 3671, 3672, 3673, 3674, 3675, 3676, 3677, 3678, 3679, 3680, 3681, 3682, 3683, 3684, 3685, 3686, 3687, 3688, 3689, 3691, 3692, 3693, 3694, 3695, 3696, 3697, 3698, 3699, 3701, 3702, 3703, 3704, 3705, 3706, 3707, 3708, 3709, 3710, 3711, 3712, 3713, 3714, 3715, 3716, 3717, 3718, 3719, 3720, 3721, 3722, 3723, 3724, 3725, 3726, 3727, 3728, 3729, 3730, 3731, 3732, 3733, 3734, 3735, 3736, 3737, 3738, 3739, 3740, 3741, 3742, 3743, 3744, 3745, 3746, 3747, 3748, 3749, 3750, 3751, 3752, 3753, 3754, 3755, 3756, 3757, 3758, 3759, 3760, 3761, 3762, 3763, 3764, 3765, 3766, 3767, 3768, 3769, 3770, 3771, 3773, 3774, 3775, 3776, 3777, 3778, 3779, 3781, 3782, 3783, 3784, 3785, 3786, 3787, 3788, 3789, 3790, 3791, 3792, 3793, 3794, 3795, 3796, 3797, 3798, 3799, 3800, 3801, 3802, 3803, 3804, 3805, 3806, 3807, 3808, 3809, 3810, 3811, 3812, 3813, 3814, 3815, 3816, 3817, 3818, 3819, 3820, 3821, 3822, 3823, 3824, 3825, 3826, 3827, 3828, 3829, 3830, 3831, 3832, 3833, 3834, 3835, 3836, 3837, 3838, 3839, 3840, 3841, 3842, 3843, 3844, 3845, 3846, 3847, 3848, 3849, 3850, 3851, 3852, 3853, 3855, 3856, 3857, 3858, 3859, 3861, 3862, 3863, 3864, 3865, 3866, 3867, 3868, 3869, 3870, 3871, 3872, 3873, 3874, 3875, 3876, 3877, 3878, 3879, 3880, 3881, 3882, 3883, 3884, 3885, 3886, 3887, 3888, 3889, 3890, 3891, 3892, 3893, 3894, 3895, 3896, 3897, 3898, 3899, 3900, 3901, 3902, 3903, 3904, 3905, 3906, 3907, 3908, 3909, 3910, 3911, 3912, 3913, 3914, 3915, 3916, 3917, 3918, 3919, 3920, 3921, 3922, 3923, 3924, 3925, 3926, 3927, 3928, 3929, 3930, 3931, 3932, 3933, 3934, 3935, 3937, 3938, 3939, 3941, 3942, 3943, 3944, 3945, 3946, 3947, 3948, 3949, 3950, 3951, 3952, 3953, 3954, 3955, 3956, 3957, 3958, 3959, 3960, 3961, 3962, 3963, 3964, 3965, 3966, 3967, 3968, 3969, 3970, 3971, 3972, 3973, 3974, 3975, 3976, 3977, 3978, 3979, 3980, 3981, 3982, 3983, 3984, 3985, 3986, 3987, 3988, 3989, 3990, 3991, 3992, 3993, 3994, 3995, 3996, 3997, 3998, 3999, 4000, 4001, 4002, 4003, 4004, 4005, 4006, 4007, 4008, 4009, 4010, 4011, 4012, 4013, 4014, 4015, 4016, 4017, 4021, 4022, 4023, 4024, 4025, 4026, 4027, 4028, 4029, 4030, 4031, 4032, 4033, 4034, 4035, 4036, 4037, 4038, 4039, 4040, 4041, 4042, 4043, 4044, 4045, 4046, 4047, 4048, 4049, 4050, 4051, 4052, 4053, 4054, 4055, 4056, 4057, 4058, 4059, 4060, 4061, 4062, 4063, 4064, 4065, 4066, 4067, 4068, 4069, 4070, 4071, 4072, 4073, 4074, 4075, 4076, 4077, 4078, 4079, 4080, 4081, 4082, 4083, 4084, 4085, 4086, 4087, 4088, 4089, 4090, 4091, 4092, 4093, 4094, 4095, 4096, 4097, 4098, 4102, 4103, 4104, 4105, 4106, 4107, 4108, 4109, 4110, 4111, 4112, 4113, 4114, 4115, 4116, 4117, 4118, 4119, 4120, 4121, 4122, 4123, 4124, 4125, 4126, 4127, 4128, 4129, 4130, 4131, 4132, 4133, 4134, 4135, 4136, 4137, 4138, 4139, 4140, 4141, 4142, 4143, 4144, 4145, 4146, 4147, 4148, 4149, 4150, 4151, 4152, 4153, 4154, 4155, 4156, 4157, 4158, 4159, 4160, 4161, 4162, 4163, 4164, 4165, 4166, 4167, 4168, 4169, 4170, 4171, 4172, 4173, 4174, 4175, 4176, 4177, 4178, 4179, 4184, 4185, 4186, 4187, 4188, 4189, 4190, 4191, 4192, 4193, 4194, 4195, 4196, 4197, 4198, 4199, 4200, 4201, 4202, 4203, 4204, 4205, 4206, 4207, 4208, 4209, 4210, 4211, 4212, 4213, 4214, 4215, 4216, 4217, 4218, 4219, 4220, 4221, 4222, 4223, 4224, 4225, 4226, 4227, 4228, 4229, 4230, 4231, 4232, 4233, 4234, 4235, 4236, 4237, 4238, 4239, 4240, 4241, 4242, 4243, 4244, 4245, 4246, 4247, 4248, 4249, 4250, 4251, 4252, 4253, 4254, 4255, 4256, 4257, 4258, 4259, 4261, 4262, 4267, 4268, 4269, 4270, 4271, 4272, 4273, 4274, 4275, 4276, 4277, 4278, 4279, 4280, 4281, 4282, 4283, 4284, 4285, 4286, 4287, 4288, 4289, 4290, 4291, 4292, 4293, 4294, 4295, 4296, 4297, 4298, 4299, 4300, 4301, 4302, 4303, 4304, 4305, 4306, 4307, 4308, 4309, 4310, 4311, 4312, 4313, 4314, 4315, 4316, 4317, 4318, 4319, 4320, 4321, 4322, 4323, 4324, 4325, 4326, 4327, 4328, 4329, 4330, 4331, 4332, 4333, 4334, 4335, 4336, 4337, 4338, 4339, 4341, 4342, 4343, 4344, 4349, 4350, 4351, 4352, 4353, 4354, 4355, 4356, 4357, 4358, 4359, 4360, 4361, 4362, 4363, 4364, 4365, 4366, 4367, 4368, 4369, 4370, 4371, 4372, 4373, 4374, 4375, 4376, 4377, 4378, 4379, 4380, 4381, 4382, 4383, 4384, 4385, 4386, 4387, 4388, 4389, 4390, 4391, 4392, 4393, 4394, 4395, 4396, 4397, 4398, 4399, 4400, 4401, 4402, 4403, 4404, 4405, 4406, 4407, 4408, 4409, 4410, 4411, 4412, 4413, 4414, 4415, 4416, 4417, 4418, 4419, 4421, 4422, 4423, 4424, 4425, 4426, 4432, 4433, 4434, 4435, 4436, 4437, 4438, 4439, 4440, 4441, 4442, 4443, 4444, 4445, 4446, 4447, 4448, 4449, 4450, 4451, 4452, 4453, 4454, 4455, 4456, 4457, 4458, 4459, 4460, 4461, 4462, 4463, 4464, 4465, 4466, 4467, 4468, 4469, 4470, 4471, 4472, 4473, 4474, 4475, 4476, 4477, 4478, 4479, 4480, 4481, 4482, 4483, 4484, 4485, 4486, 4487, 4488, 4489, 4490, 4491, 4492, 4493, 4494, 4495, 4496, 4497, 4498, 4499, 4501, 4502, 4503, 4504, 4505, 4506, 4507, 4514, 4515, 4516, 4517, 4518, 4519, 4520, 4521, 4522, 4523, 4524, 4525, 4526, 4527, 4528, 4529, 4530, 4531, 4532, 4533, 4534, 4535, 4536, 4537, 4538, 4539, 4540, 4541, 4542, 4543, 4544, 4545, 4546, 4547, 4548, 4549, 4550, 4551, 4552, 4553, 4554, 4555, 4556, 4557, 4558, 4559, 4560, 4561, 4562, 4563, 4564, 4565, 4566, 4567, 4568, 4569, 4570, 4571, 4572, 4573, 4574, 4575, 4576, 4577, 4578, 4579, 4581, 4582, 4583, 4584, 4585, 4586, 4587, 4588, 4589, 4596, 4597, 4598, 4599, 4600, 4601, 4602, 4603, 4604, 4605, 4606, 4607, 4608, 4609, 4610, 4611, 4612, 4613, 4614, 4615, 4616, 4617, 4618, 4619, 4620, 4621, 4622, 4623, 4624, 4625, 4626, 4627, 4628, 4629, 4630, 4631, 4632, 4633, 4634, 4635, 4636, 4637, 4638, 4639, 4640, 4641, 4642, 4643, 4644, 4645, 4646, 4647, 4648, 4649, 4650, 4651, 4652, 4653, 4654, 4655, 4656, 4657, 4658, 4659, 4661, 4662, 4663, 4664, 4665, 4666, 4667, 4668, 4669, 4670, 4671, 4679, 4680, 4681, 4682, 4683, 4684, 4685, 4686, 4687, 4688, 4689, 4690, 4691, 4692, 4693, 4694, 4695, 4696, 4697, 4698, 4699, 4700, 4701, 4702, 4703, 4704, 4705, 4706, 4707, 4708, 4709, 4710, 4711, 4712, 4713, 4714, 4715, 4716, 4717, 4718, 4719, 4720, 4721, 4722, 4723, 4724, 4725, 4726, 4727, 4728, 4729, 4730, 4731, 4732, 4733, 4734, 4735, 4736, 4737, 4738, 4739, 4741, 4742, 4743, 4744, 4745, 4746, 4747, 4748, 4749, 4750, 4751, 4752, 4761, 4762, 4763, 4764, 4765, 4766, 4767, 4768, 4769, 4770, 4771, 4772, 4773, 4774, 4775, 4776, 4777, 4778, 4779, 4780, 4781, 4782, 4783, 4784, 4785, 4786, 4787, 4788, 4789, 4790, 4791, 4792, 4793, 4794, 4795, 4796, 4797, 4798, 4799, 4800, 4801, 4802, 4803, 4804, 4805, 4806, 4807, 4808, 4809, 4810, 4811, 4812, 4813, 4814, 4815, 4816, 4817, 4818, 4819, 4821, 4822, 4823, 4824, 4825, 4826, 4827, 4828, 4829, 4830, 4831, 4832, 4833, 4834, 4844, 4845, 4846, 4847, 4848, 4849, 4850, 4851, 4852, 4853, 4854, 4855, 4856, 4857, 4858, 4859, 4860, 4861, 4862, 4863, 4864, 4865, 4866, 4867, 4868, 4869, 4870, 4871, 4872, 4873, 4874, 4875, 4876, 4877, 4878, 4879, 4880, 4881, 4882, 4883, 4884, 4885, 4886, 4887, 4888, 4889, 4890, 4891, 4892, 4893, 4894, 4895, 4896, 4897, 4898, 4899, 4901, 4902, 4903, 4904, 4905, 4906, 4907, 4908, 4909, 4910, 4911, 4912, 4913, 4914, 4915, 4916, 4926, 4927, 4928, 4929, 4930, 4931, 4932, 4933, 4934, 4935, 4936, 4937, 4938, 4939, 4940, 4941, 4942, 4943, 4944, 4945, 4946, 4947, 4948, 4949, 4950, 4951, 4952, 4953, 4954, 4955, 4956, 4957, 4958, 4959, 4960, 4961, 4962, 4963, 4964, 4965, 4966, 4967, 4968, 4969, 4970, 4971, 4972, 4973, 4974, 4975, 4976, 4977, 4978, 4979, 4981, 4982, 4983, 4984, 4985, 4986, 4987, 4988, 4989, 4990, 4991, 4992, 4993, 4994, 4995, 4996, 4997, 4998, 5008, 5009, 5010, 5011, 5012, 5013, 5014, 5015, 5016, 5017, 5018, 5019, 5020, 5021, 5022, 5023, 5024, 5025, 5026, 5027, 5028, 5029, 5030, 5031, 5032, 5033, 5034, 5035, 5036, 5037, 5038, 5039, 5040, 5041, 5042, 5043, 5044, 5045, 5046, 5047, 5048, 5049, 5050, 5051, 5052, 5053, 5054, 5055, 5056, 5057, 5058, 5059, 5061, 5062, 5063, 5064, 5065, 5066, 5067, 5068, 5069, 5070, 5071, 5072, 5073, 5074, 5075, 5076, 5077, 5078, 5079, 5091, 5092, 5093, 5094, 5095, 5096, 5097, 5098, 5099, 5100, 5101, 5102, 5103, 5104, 5105, 5106, 5107, 5108, 5109, 5110, 5111, 5112, 5113, 5114, 5115, 5116, 5117, 5118, 5119, 5120, 5121, 5122, 5123, 5124, 5125, 5126, 5127, 5128, 5129, 5130, 5131, 5132, 5133, 5134, 5135, 5136, 5137, 5138, 5139, 5141, 5142, 5143, 5144, 5145, 5146, 5147, 5148, 5149, 5150, 5151, 5152, 5153, 5154, 5155, 5156, 5157, 5158, 5159, 5160, 5161, 5173, 5174, 5175, 5176, 5177, 5178, 5179, 5180, 5181, 5182, 5183, 5184, 5185, 5186, 5187, 5188, 5189, 5190, 5191, 5192, 5193, 5194, 5195, 5196, 5197, 5198, 5199, 5200, 5201, 5202, 5203, 5204, 5205, 5206, 5207, 5208, 5209, 5210, 5211, 5212, 5213, 5214, 5215, 5216, 5217, 5218, 5219, 5221, 5222, 5223, 5224, 5225, 5226, 5227, 5228, 5229, 5230, 5231, 5232, 5233, 5234, 5235, 5236, 5237, 5238, 5239, 5240, 5241, 5242, 5243, 5256, 5257, 5258, 5259, 5260, 5261, 5262, 5263, 5264, 5265, 5266, 5267, 5268, 5269, 5270, 5271, 5272, 5273, 5274, 5275, 5276, 5277, 5278, 5279, 5280, 5281, 5282, 5283, 5284, 5285, 5286, 5287, 5288, 5289, 5290, 5291, 5292, 5293, 5294, 5295, 5296, 5297, 5298, 5299, 5301, 5302, 5303, 5304, 5305, 5306, 5307, 5308, 5309, 5310, 5311, 5312, 5313, 5314, 5315, 5316, 5317, 5318, 5319, 5320, 5321, 5322, 5323, 5324, 5325, 5338, 5339, 5340, 5341, 5342, 5343, 5344, 5345, 5346, 5347, 5348, 5349, 5350, 5351, 5352, 5353, 5354, 5355, 5356, 5357, 5358, 5359, 5360, 5361, 5362, 5363, 5364, 5365, 5366, 5367, 5368, 5369, 5370, 5371, 5372, 5373, 5374, 5375, 5376, 5377, 5378, 5379, 5381, 5382, 5383, 5384, 5385, 5386, 5387, 5388, 5389, 5390, 5391, 5392, 5393, 5394, 5395, 5396, 5397, 5398, 5399, 5400, 5401, 5402, 5403, 5404, 5405, 5406, 5421, 5422, 5423, 5424, 5425, 5426, 5427, 5428, 5429, 5430, 5431, 5432, 5433, 5434, 5435, 5436, 5437, 5438, 5439, 5440, 5441, 5442, 5443, 5444, 5445, 5446, 5447, 5448, 5449, 5450, 5451, 5452, 5453, 5454, 5455, 5456, 5457, 5458, 5459, 5461, 5462, 5463, 5464, 5465, 5466, 5467, 5468, 5469, 5470, 5471, 5472, 5473, 5474, 5475, 5476, 5477, 5478, 5479, 5480, 5481, 5482, 5483, 5484, 5485, 5486, 5487, 5488, 5503, 5504, 5505, 5506, 5507, 5508, 5509, 5510, 5511, 5512, 5513, 5514, 5515, 5516, 5517, 5518, 5519, 5520, 5521, 5522, 5523, 5524, 5525, 5526, 5527, 5528, 5529, 5530, 5531, 5532, 5533, 5534, 5535, 5536, 5537, 5538, 5539, 5541, 5542, 5543, 5544, 5545, 5546, 5547, 5548, 5549, 5550, 5551, 5552, 5553, 5554, 5555, 5556, 5557, 5558, 5559, 5560, 5561, 5562, 5563, 5564, 5565, 5566, 5567, 5568, 5569, 5570, 5585, 5586, 5587, 5588, 5589, 5590, 5591, 5592, 5593, 5594, 5595, 5596, 5597, 5598, 5599, 5600, 5601, 5602, 5603, 5604, 5605, 5606, 5607, 5608, 5609, 5610, 5611, 5612, 5613, 5614, 5615, 5616, 5617, 5618, 5619, 5621, 5622, 5623, 5624, 5625, 5626, 5627, 5628, 5629, 5630, 5631, 5632, 5633, 5634, 5635, 5636, 5637, 5638, 5639, 5640, 5641, 5642, 5643, 5644, 5645, 5646, 5647, 5648, 5649, 5650, 5651, 5652, 5668, 5669, 5670, 5671, 5672, 5673, 5674, 5675, 5676, 5677, 5678, 5679, 5680, 5681, 5682, 5683, 5684, 5685, 5686, 5687, 5688, 5689, 5690, 5691, 5692, 5693, 5694, 5695, 5696, 5697, 5698, 5699, 5701, 5702, 5703, 5704, 5705, 5706, 5707, 5708, 5709, 5710, 5711, 5712, 5713, 5714, 5715, 5716, 5717, 5718, 5719, 5720, 5721, 5722, 5723, 5724, 5725, 5726, 5727, 5728, 5729, 5730, 5731, 5732, 5733, 5750, 5751, 5752, 5753, 5754, 5755, 5756, 5757, 5758, 5759, 5760, 5761, 5762, 5763, 5764, 5765, 5766, 5767, 5768, 5769, 5770, 5771, 5772, 5773, 5774, 5775, 5776, 5777, 5778, 5779, 5781, 5782, 5783, 5784, 5785, 5786, 5787, 5788, 5789, 5790, 5791, 5792, 5793, 5794, 5795, 5796, 5797, 5798, 5799, 5800, 5801, 5802, 5803, 5804, 5805, 5806, 5807, 5808, 5809, 5810, 5811, 5812, 5813, 5814, 5815, 5832, 5833, 5834, 5835, 5836, 5837, 5838, 5839, 5840, 5841, 5842, 5843, 5844, 5845, 5846, 5847, 5848, 5849, 5850, 5851, 5852, 5853, 5854, 5855, 5856, 5857, 5858, 5859, 5861, 5862, 5863, 5864, 5865, 5866, 5867, 5868, 5869, 5870, 5871, 5872, 5873, 5874, 5875, 5876, 5877, 5878, 5879, 5880, 5881, 5882, 5883, 5884, 5885, 5886, 5887, 5888, 5889, 5890, 5891, 5892, 5893, 5894, 5895, 5896, 5897, 5913, 5914, 5915, 5916, 5917, 5918, 5919, 5920, 5921, 5922, 5923, 5924, 5925, 5926, 5927, 5928, 5929, 5930, 5931, 5932, 5933, 5934, 5935, 5936, 5937, 5938, 5939, 5941, 5942, 5943, 5944, 5945, 5946, 5947, 5948, 5949, 5950, 5951, 5952, 5953, 5954, 5955, 5956, 5957, 5958, 5959, 5960, 5961, 5962, 5963, 5964, 5965, 5966, 5967, 5968, 5969, 5970, 5971, 5972, 5973, 5974, 5975, 5976, 5977, 5978, 5994, 5995, 5996, 5997, 5998, 5999, 6000, 6001, 6002, 6003, 6004, 6005, 6006, 6007, 6008, 6009, 6010, 6011, 6012, 6013, 6014, 6015, 6016, 6017, 6018, 6019, 6021, 6022, 6023, 6024, 6025, 6026, 6027, 6028, 6029, 6030, 6031, 6032, 6033, 6034, 6035, 6036, 6037, 6038, 6039, 6040, 6041, 6042, 6043, 6044, 6045, 6046, 6047, 6048, 6049, 6050, 6051, 6052, 6053, 6054, 6055, 6056, 6057, 6058, 6059, 6060, 6075, 6076, 6077, 6078, 6079, 6080, 6081, 6082, 6083, 6084, 6085, 6086, 6087, 6088, 6089, 6090, 6091, 6092, 6093, 6094, 6095, 6096, 6097, 6098, 6099, 6101, 6102, 6103, 6104, 6105, 6106, 6107, 6108, 6109, 6110, 6111, 6112, 6113, 6114, 6115, 6116, 6117, 6118, 6119, 6120, 6121, 6122, 6123, 6124, 6125, 6126, 6127, 6128, 6129, 6130, 6131, 6132, 6133, 6134, 6135, 6136, 6137, 6138, 6139, 6140, 6141, 6142, 6156, 6157, 6158, 6159, 6160, 6161, 6162, 6163, 6164, 6165, 6166, 6167, 6168, 6169, 6170, 6171, 6172, 6173, 6174, 6175, 6176, 6177, 6178, 6179, 6181, 6182, 6183, 6184, 6185, 6186, 6187, 6188, 6189, 6190, 6191, 6192, 6193, 6194, 6195, 6196, 6197, 6198, 6199, 6200, 6201, 6202, 6203, 6204, 6205, 6206, 6207, 6208, 6209, 6210, 6211, 6212, 6213, 6214, 6215, 6216, 6217, 6218, 6219, 6220, 6221, 6222, 6223, 6224, 6237, 6238, 6239, 6240, 6241, 6242, 6243, 6244, 6245, 6246, 6247, 6248, 6249, 6250, 6251, 6252, 6253, 6254, 6255, 6256, 6257, 6258, 6259, 6261, 6262, 6263, 6264, 6265, 6266, 6267, 6268, 6269, 6270, 6271, 6272, 6273, 6274, 6275, 6276, 6277, 6278, 6279, 6280, 6281, 6282, 6283, 6284, 6285, 6286, 6287, 6288, 6289, 6290, 6291, 6292, 6293, 6294, 6295, 6296, 6297, 6298, 6299, 6300, 6301, 6302, 6303, 6304, 6305, 6318, 6319, 6320, 6321, 6322, 6323, 6324, 6325, 6326, 6327, 6328, 6329, 6330, 6331, 6332, 6333, 6334, 6335, 6336, 6337, 6338, 6339, 6341, 6342, 6343, 6344, 6345, 6346, 6347, 6348, 6349, 6350, 6351, 6352, 6353, 6354, 6355, 6356, 6357, 6358, 6359, 6360, 6361, 6362, 6363, 6364, 6365, 6366, 6367, 6368, 6369, 6370, 6371, 6372, 6373, 6374, 6375, 6376, 6377, 6378, 6379, 6380, 6381, 6382, 6383, 6384, 6385, 6386, 6387, 6399, 6400, 6401, 6402, 6403, 6404, 6405, 6406, 6407, 6408, 6409, 6410, 6411, 6412, 6413, 6414, 6415, 6416, 6417, 6418, 6419, 6421, 6422, 6423, 6424, 6425, 6426, 6427, 6428, 6429, 6430, 6431, 6432, 6433, 6434, 6435, 6436, 6437, 6438, 6439, 6440, 6441, 6442, 6443, 6444, 6445, 6446, 6447, 6448, 6449, 6450, 6451, 6452, 6453, 6454, 6455, 6456, 6457, 6458, 6459, 6460, 6461, 6462, 6463, 6464, 6465, 6466, 6467, 6468, 6469, 6480, 6481, 6482, 6483, 6484, 6485, 6486, 6487, 6488, 6489, 6490, 6491, 6492, 6493, 6494, 6495, 6496, 6497, 6498, 6499, 6501, 6502, 6503, 6504, 6505, 6506, 6507, 6508, 6509, 6510, 6511, 6512, 6513, 6514, 6515, 6516, 6517, 6518, 6519, 6520, 6521, 6522, 6523, 6524, 6525, 6526, 6527, 6528, 6529, 6530, 6531, 6532, 6533, 6534, 6535, 6536, 6537, 6538, 6539, 6540, 6541, 6542, 6543, 6544, 6545, 6546, 6547, 6548, 6549, 6550, 6551]\n",
      "val ids:  []\n",
      "test ids:  [0, 1, 2, 3, 4, 5, 6, 7, 8, 9, 10, 11, 12, 40, 81, 82, 83, 84, 85, 86, 87, 88, 89, 90, 91, 92, 93, 94, 120, 162, 163, 164, 165, 166, 167, 168, 169, 170, 171, 172, 173, 174, 175, 200, 243, 244, 245, 246, 247, 248, 249, 250, 251, 252, 253, 254, 255, 256, 257, 280, 324, 325, 326, 327, 328, 329, 330, 331, 332, 333, 334, 335, 336, 337, 338, 339, 360, 405, 406, 407, 408, 409, 410, 411, 412, 413, 414, 415, 416, 417, 418, 419, 420, 421, 440, 486, 487, 488, 489, 490, 491, 492, 493, 494, 495, 496, 497, 498, 499, 500, 501, 502, 520, 567, 568, 569, 570, 571, 572, 573, 574, 575, 576, 577, 578, 579, 580, 581, 582, 583, 584, 600, 648, 649, 650, 651, 652, 653, 654, 655, 656, 657, 658, 659, 660, 661, 662, 663, 664, 665, 666, 680, 729, 730, 731, 732, 733, 734, 735, 736, 737, 738, 739, 740, 741, 742, 743, 744, 745, 746, 747, 748, 760, 810, 811, 812, 813, 814, 815, 816, 817, 818, 819, 820, 821, 822, 823, 824, 825, 826, 827, 828, 829, 840, 891, 892, 893, 894, 895, 896, 897, 898, 899, 900, 901, 902, 903, 904, 905, 906, 907, 908, 909, 910, 911, 920, 972, 973, 974, 975, 976, 977, 978, 979, 980, 981, 982, 983, 984, 985, 986, 987, 988, 989, 990, 991, 992, 993, 1000, 1053, 1054, 1055, 1056, 1057, 1058, 1059, 1060, 1061, 1062, 1063, 1064, 1065, 1066, 1067, 1068, 1069, 1070, 1071, 1072, 1073, 1074, 1075, 1080, 1135, 1136, 1137, 1138, 1139, 1140, 1141, 1142, 1143, 1144, 1145, 1146, 1147, 1148, 1149, 1150, 1151, 1152, 1153, 1154, 1155, 1156, 1160, 1217, 1218, 1219, 1220, 1221, 1222, 1223, 1224, 1225, 1226, 1227, 1228, 1229, 1230, 1231, 1232, 1233, 1234, 1235, 1236, 1237, 1238, 1240, 1300, 1301, 1302, 1303, 1304, 1305, 1306, 1307, 1308, 1309, 1310, 1311, 1312, 1313, 1314, 1315, 1316, 1317, 1318, 1319, 1320, 1382, 1383, 1384, 1385, 1386, 1387, 1388, 1389, 1390, 1391, 1392, 1393, 1394, 1395, 1396, 1397, 1398, 1399, 1400, 1401, 1465, 1466, 1467, 1468, 1469, 1470, 1471, 1472, 1473, 1474, 1475, 1476, 1477, 1478, 1479, 1480, 1481, 1482, 1483, 1547, 1548, 1549, 1550, 1551, 1552, 1553, 1554, 1555, 1556, 1557, 1558, 1559, 1560, 1561, 1562, 1563, 1564, 1565, 1629, 1630, 1631, 1632, 1633, 1634, 1635, 1636, 1637, 1638, 1639, 1640, 1641, 1642, 1643, 1644, 1645, 1646, 1647, 1700, 1712, 1713, 1714, 1715, 1716, 1717, 1718, 1719, 1720, 1721, 1722, 1723, 1724, 1725, 1726, 1727, 1728, 1780, 1794, 1795, 1796, 1797, 1798, 1799, 1800, 1801, 1802, 1803, 1804, 1805, 1806, 1807, 1808, 1809, 1810, 1860, 1877, 1878, 1879, 1880, 1881, 1882, 1883, 1884, 1885, 1886, 1887, 1888, 1889, 1890, 1891, 1892, 1940, 1959, 1960, 1961, 1962, 1963, 1964, 1965, 1966, 1967, 1968, 1969, 1970, 1971, 1972, 1973, 1974, 2020, 2040, 2041, 2042, 2043, 2044, 2045, 2046, 2047, 2048, 2049, 2050, 2051, 2052, 2053, 2054, 2055, 2100, 2120, 2124, 2125, 2126, 2127, 2128, 2129, 2130, 2131, 2132, 2133, 2134, 2135, 2136, 2137, 2180, 2200, 2206, 2207, 2208, 2209, 2210, 2211, 2212, 2213, 2214, 2215, 2216, 2217, 2218, 2219, 2260, 2280, 2289, 2290, 2291, 2292, 2293, 2294, 2295, 2296, 2297, 2298, 2299, 2300, 2340, 2360, 2371, 2372, 2373, 2374, 2375, 2376, 2377, 2378, 2379, 2380, 2381, 2382, 2420, 2440, 2454, 2455, 2456, 2457, 2458, 2459, 2460, 2461, 2462, 2463, 2464, 2500, 2520, 2536, 2537, 2538, 2539, 2540, 2541, 2542, 2543, 2544, 2545, 2546, 2580, 2600, 2618, 2619, 2620, 2621, 2622, 2623, 2624, 2625, 2626, 2627, 2660, 2680, 2701, 2702, 2703, 2704, 2705, 2706, 2707, 2708, 2709, 2740, 2760, 2783, 2784, 2785, 2786, 2787, 2788, 2789, 2790, 2791, 2820, 2840, 2866, 2867, 2868, 2869, 2870, 2871, 2872, 2873, 2900, 2920, 2948, 2949, 2950, 2951, 2952, 2953, 2954, 2980, 3000, 3030, 3031, 3032, 3033, 3034, 3035, 3036, 3060, 3080, 3113, 3114, 3115, 3116, 3117, 3118, 3140, 3160, 3195, 3196, 3197, 3198, 3199, 3200, 3220, 3240, 3278, 3279, 3280, 3281, 3300, 3360, 3361, 3362, 3363, 3380, 3443, 3444, 3445, 3460, 3525, 3526, 3540, 3607, 3608, 3620, 3690, 3700, 3772, 3780, 3854, 3860, 3936, 3940, 4018, 4019, 4020, 4099, 4100, 4101, 4180, 4181, 4182, 4183, 4260, 4263, 4264, 4265, 4266, 4340, 4345, 4346, 4347, 4348, 4420, 4427, 4428, 4429, 4430, 4431, 4500, 4508, 4509, 4510, 4511, 4512, 4513, 4580, 4590, 4591, 4592, 4593, 4594, 4595, 4660, 4672, 4673, 4674, 4675, 4676, 4677, 4678, 4740, 4753, 4754, 4755, 4756, 4757, 4758, 4759, 4760, 4820, 4835, 4836, 4837, 4838, 4839, 4840, 4841, 4842, 4843, 4900, 4917, 4918, 4919, 4920, 4921, 4922, 4923, 4924, 4925, 4980, 4999, 5000, 5001, 5002, 5003, 5004, 5005, 5006, 5007, 5060, 5080, 5081, 5082, 5083, 5084, 5085, 5086, 5087, 5088, 5089, 5090, 5140, 5162, 5163, 5164, 5165, 5166, 5167, 5168, 5169, 5170, 5171, 5172, 5220, 5244, 5245, 5246, 5247, 5248, 5249, 5250, 5251, 5252, 5253, 5254, 5255, 5300, 5326, 5327, 5328, 5329, 5330, 5331, 5332, 5333, 5334, 5335, 5336, 5337, 5380, 5407, 5408, 5409, 5410, 5411, 5412, 5413, 5414, 5415, 5416, 5417, 5418, 5419, 5420, 5460, 5489, 5490, 5491, 5492, 5493, 5494, 5495, 5496, 5497, 5498, 5499, 5500, 5501, 5502, 5540, 5571, 5572, 5573, 5574, 5575, 5576, 5577, 5578, 5579, 5580, 5581, 5582, 5583, 5584, 5620, 5653, 5654, 5655, 5656, 5657, 5658, 5659, 5660, 5661, 5662, 5663, 5664, 5665, 5666, 5667, 5700, 5734, 5735, 5736, 5737, 5738, 5739, 5740, 5741, 5742, 5743, 5744, 5745, 5746, 5747, 5748, 5749, 5780, 5816, 5817, 5818, 5819, 5820, 5821, 5822, 5823, 5824, 5825, 5826, 5827, 5828, 5829, 5830, 5831, 5860, 5898, 5899, 5900, 5901, 5902, 5903, 5904, 5905, 5906, 5907, 5908, 5909, 5910, 5911, 5912, 5940, 5979, 5980, 5981, 5982, 5983, 5984, 5985, 5986, 5987, 5988, 5989, 5990, 5991, 5992, 5993, 6020, 6061, 6062, 6063, 6064, 6065, 6066, 6067, 6068, 6069, 6070, 6071, 6072, 6073, 6074, 6100, 6143, 6144, 6145, 6146, 6147, 6148, 6149, 6150, 6151, 6152, 6153, 6154, 6155, 6180, 6225, 6226, 6227, 6228, 6229, 6230, 6231, 6232, 6233, 6234, 6235, 6236, 6260, 6306, 6307, 6308, 6309, 6310, 6311, 6312, 6313, 6314, 6315, 6316, 6317, 6340, 6388, 6389, 6390, 6391, 6392, 6393, 6394, 6395, 6396, 6397, 6398, 6420, 6470, 6471, 6472, 6473, 6474, 6475, 6476, 6477, 6478, 6479, 6500, 6552, 6553, 6554, 6555, 6556, 6557, 6558, 6559, 6560]\n",
      "CPU times: user 180 ms, sys: 32.1 ms, total: 212 ms\n",
      "Wall time: 211 ms\n"
     ]
    }
   ],
   "source": [
    "%%time\n",
    "n_total = len(simulation.dataframe)\n",
    "n_train = len(simulation.dataframe[simulation.dataframe.type_of == \"train\"])\n",
    "n_val = len(simulation.dataframe[simulation.dataframe.type_of == \"val\"])\n",
    "n_test = len(simulation.dataframe[simulation.dataframe.type_of == \"test\"])\n",
    "n_train_hamiltonians = len(simulation.train_ids)\n",
    "n_val_hamiltonians = len(simulation.val_ids)\n",
    "n_test_hamiltonians = len(simulation.test_ids)\n",
    "n_total_hamiltonians = n_train_hamiltonians + n_val_hamiltonians + n_test_hamiltonians\n",
    "\n",
    "print(\"% train: \", n_train/n_total)\n",
    "print(\"% val: \",  n_val/n_total)\n",
    "print(\"% test: \", n_test/n_total)\n",
    "print(\"% train + val + test: \", (n_train+n_val+n_test)/n_total)\n",
    "print(\"\\n\")\n",
    "print(\"number of train hamiltonians: \", n_train_hamiltonians)\n",
    "print(\"number of val hamiltonians: \", n_val_hamiltonians)\n",
    "print(\"number of test hamiltonians: \", n_test_hamiltonians)\n",
    "print(\"total number of hamiltonians: \", n_total_hamiltonians)\n",
    "print(\"\\n\")\n",
    "print(\"train ids: \", simulation.train_ids)\n",
    "print(\"val ids: \", simulation.val_ids)\n",
    "print(\"test ids: \", simulation.test_ids)"
   ]
  },
  {
   "cell_type": "markdown",
   "metadata": {
    "papermill": {
     "duration": 0.018616,
     "end_time": "2020-07-18T16:27:32.213894",
     "exception": false,
     "start_time": "2020-07-18T16:27:32.195278",
     "status": "completed"
    },
    "tags": []
   },
   "source": [
    "## Running a simulation"
   ]
  },
  {
   "cell_type": "code",
   "execution_count": 27,
   "metadata": {
    "execution": {
     "iopub.execute_input": "2020-07-18T16:27:32.254757Z",
     "iopub.status.busy": "2020-07-18T16:27:32.254380Z",
     "iopub.status.idle": "2020-07-18T16:54:07.209124Z",
     "shell.execute_reply": "2020-07-18T16:54:07.209470Z"
    },
    "papermill": {
     "duration": 1594.976343,
     "end_time": "2020-07-18T16:54:07.209535",
     "exception": false,
     "start_time": "2020-07-18T16:27:32.233192",
     "status": "completed"
    },
    "tags": []
   },
   "outputs": [
    {
     "name": "stderr",
     "output_type": "stream",
     "text": [
      "\r",
      "running experiments:   0%|          | 0/100 [00:00<?, ?it/s]"
     ]
    },
    {
     "name": "stdout",
     "output_type": "stream",
     "text": [
      "Simulation mode:  dct\n"
     ]
    },
    {
     "name": "stderr",
     "output_type": "stream",
     "text": [
      "\r",
      "running experiments:   1%|          | 1/100 [00:15<26:07, 15.83s/it]"
     ]
    },
    {
     "name": "stderr",
     "output_type": "stream",
     "text": [
      "\r",
      "running experiments:   2%|▏         | 2/100 [00:31<25:53, 15.85s/it]"
     ]
    },
    {
     "name": "stderr",
     "output_type": "stream",
     "text": [
      "\r",
      "running experiments:   3%|▎         | 3/100 [00:47<25:34, 15.82s/it]"
     ]
    },
    {
     "name": "stderr",
     "output_type": "stream",
     "text": [
      "\r",
      "running experiments:   4%|▍         | 4/100 [01:03<25:14, 15.78s/it]"
     ]
    },
    {
     "name": "stderr",
     "output_type": "stream",
     "text": [
      "\r",
      "running experiments:   5%|▌         | 5/100 [01:19<25:06, 15.86s/it]"
     ]
    },
    {
     "name": "stderr",
     "output_type": "stream",
     "text": [
      "\r",
      "running experiments:   6%|▌         | 6/100 [01:36<25:18, 16.15s/it]"
     ]
    },
    {
     "name": "stderr",
     "output_type": "stream",
     "text": [
      "\r",
      "running experiments:   7%|▋         | 7/100 [01:52<25:10, 16.24s/it]"
     ]
    },
    {
     "name": "stderr",
     "output_type": "stream",
     "text": [
      "\r",
      "running experiments:   8%|▊         | 8/100 [02:08<24:54, 16.25s/it]"
     ]
    },
    {
     "name": "stderr",
     "output_type": "stream",
     "text": [
      "\r",
      "running experiments:   9%|▉         | 9/100 [02:24<24:37, 16.23s/it]"
     ]
    },
    {
     "name": "stderr",
     "output_type": "stream",
     "text": [
      "\r",
      "running experiments:  10%|█         | 10/100 [02:41<24:25, 16.28s/it]"
     ]
    },
    {
     "name": "stderr",
     "output_type": "stream",
     "text": [
      "\r",
      "running experiments:  11%|█         | 11/100 [02:57<23:58, 16.16s/it]"
     ]
    },
    {
     "name": "stderr",
     "output_type": "stream",
     "text": [
      "\r",
      "running experiments:  12%|█▏        | 12/100 [03:13<23:32, 16.05s/it]"
     ]
    },
    {
     "name": "stderr",
     "output_type": "stream",
     "text": [
      "\r",
      "running experiments:  13%|█▎        | 13/100 [03:28<23:11, 15.99s/it]"
     ]
    },
    {
     "name": "stderr",
     "output_type": "stream",
     "text": [
      "\r",
      "running experiments:  14%|█▍        | 14/100 [03:44<22:56, 16.00s/it]"
     ]
    },
    {
     "name": "stderr",
     "output_type": "stream",
     "text": [
      "\r",
      "running experiments:  15%|█▌        | 15/100 [04:00<22:37, 15.97s/it]"
     ]
    },
    {
     "name": "stderr",
     "output_type": "stream",
     "text": [
      "\r",
      "running experiments:  16%|█▌        | 16/100 [04:16<22:16, 15.91s/it]"
     ]
    },
    {
     "name": "stderr",
     "output_type": "stream",
     "text": [
      "\r",
      "running experiments:  17%|█▋        | 17/100 [04:32<21:54, 15.83s/it]"
     ]
    },
    {
     "name": "stderr",
     "output_type": "stream",
     "text": [
      "\r",
      "running experiments:  18%|█▊        | 18/100 [04:48<21:46, 15.94s/it]"
     ]
    },
    {
     "name": "stderr",
     "output_type": "stream",
     "text": [
      "\r",
      "running experiments:  19%|█▉        | 19/100 [05:04<21:27, 15.89s/it]"
     ]
    },
    {
     "name": "stderr",
     "output_type": "stream",
     "text": [
      "\r",
      "running experiments:  20%|██        | 20/100 [05:20<21:30, 16.13s/it]"
     ]
    },
    {
     "name": "stderr",
     "output_type": "stream",
     "text": [
      "\r",
      "running experiments:  21%|██        | 21/100 [05:37<21:17, 16.17s/it]"
     ]
    },
    {
     "name": "stderr",
     "output_type": "stream",
     "text": [
      "\r",
      "running experiments:  22%|██▏       | 22/100 [05:53<20:57, 16.13s/it]"
     ]
    },
    {
     "name": "stderr",
     "output_type": "stream",
     "text": [
      "\r",
      "running experiments:  23%|██▎       | 23/100 [06:09<20:38, 16.08s/it]"
     ]
    },
    {
     "name": "stderr",
     "output_type": "stream",
     "text": [
      "\r",
      "running experiments:  24%|██▍       | 24/100 [06:25<20:21, 16.08s/it]"
     ]
    },
    {
     "name": "stderr",
     "output_type": "stream",
     "text": [
      "\r",
      "running experiments:  25%|██▌       | 25/100 [06:41<20:03, 16.05s/it]"
     ]
    },
    {
     "name": "stderr",
     "output_type": "stream",
     "text": [
      "\r",
      "running experiments:  26%|██▌       | 26/100 [06:56<19:42, 15.98s/it]"
     ]
    },
    {
     "name": "stderr",
     "output_type": "stream",
     "text": [
      "\r",
      "running experiments:  27%|██▋       | 27/100 [07:13<19:28, 16.01s/it]"
     ]
    },
    {
     "name": "stderr",
     "output_type": "stream",
     "text": [
      "\r",
      "running experiments:  28%|██▊       | 28/100 [07:28<19:09, 15.96s/it]"
     ]
    },
    {
     "name": "stderr",
     "output_type": "stream",
     "text": [
      "\r",
      "running experiments:  29%|██▉       | 29/100 [07:44<18:53, 15.96s/it]"
     ]
    },
    {
     "name": "stderr",
     "output_type": "stream",
     "text": [
      "\r",
      "running experiments:  30%|███       | 30/100 [08:00<18:33, 15.90s/it]"
     ]
    },
    {
     "name": "stderr",
     "output_type": "stream",
     "text": [
      "\r",
      "running experiments:  31%|███       | 31/100 [08:16<18:17, 15.91s/it]"
     ]
    },
    {
     "name": "stderr",
     "output_type": "stream",
     "text": [
      "\r",
      "running experiments:  32%|███▏      | 32/100 [08:32<17:57, 15.85s/it]"
     ]
    },
    {
     "name": "stderr",
     "output_type": "stream",
     "text": [
      "\r",
      "running experiments:  33%|███▎      | 33/100 [08:48<17:42, 15.86s/it]"
     ]
    },
    {
     "name": "stderr",
     "output_type": "stream",
     "text": [
      "\r",
      "running experiments:  34%|███▍      | 34/100 [09:04<17:29, 15.90s/it]"
     ]
    },
    {
     "name": "stderr",
     "output_type": "stream",
     "text": [
      "\r",
      "running experiments:  35%|███▌      | 35/100 [09:20<17:18, 15.98s/it]"
     ]
    },
    {
     "name": "stderr",
     "output_type": "stream",
     "text": [
      "\r",
      "running experiments:  36%|███▌      | 36/100 [09:36<16:58, 15.91s/it]"
     ]
    },
    {
     "name": "stderr",
     "output_type": "stream",
     "text": [
      "\r",
      "running experiments:  37%|███▋      | 37/100 [09:51<16:37, 15.83s/it]"
     ]
    },
    {
     "name": "stderr",
     "output_type": "stream",
     "text": [
      "\r",
      "running experiments:  38%|███▊      | 38/100 [10:07<16:22, 15.84s/it]"
     ]
    },
    {
     "name": "stderr",
     "output_type": "stream",
     "text": [
      "\r",
      "running experiments:  39%|███▉      | 39/100 [10:23<16:06, 15.85s/it]"
     ]
    },
    {
     "name": "stderr",
     "output_type": "stream",
     "text": [
      "\r",
      "running experiments:  40%|████      | 40/100 [10:42<16:42, 16.70s/it]"
     ]
    },
    {
     "name": "stderr",
     "output_type": "stream",
     "text": [
      "\r",
      "running experiments:  41%|████      | 41/100 [10:58<16:14, 16.52s/it]"
     ]
    },
    {
     "name": "stderr",
     "output_type": "stream",
     "text": [
      "\r",
      "running experiments:  42%|████▏     | 42/100 [11:14<15:48, 16.35s/it]"
     ]
    },
    {
     "name": "stderr",
     "output_type": "stream",
     "text": [
      "\r",
      "running experiments:  43%|████▎     | 43/100 [11:30<15:24, 16.21s/it]"
     ]
    },
    {
     "name": "stderr",
     "output_type": "stream",
     "text": [
      "\r",
      "running experiments:  44%|████▍     | 44/100 [11:45<15:02, 16.11s/it]"
     ]
    },
    {
     "name": "stderr",
     "output_type": "stream",
     "text": [
      "\r",
      "running experiments:  45%|████▌     | 45/100 [12:02<14:46, 16.12s/it]"
     ]
    },
    {
     "name": "stderr",
     "output_type": "stream",
     "text": [
      "\r",
      "running experiments:  46%|████▌     | 46/100 [12:17<14:21, 15.96s/it]"
     ]
    },
    {
     "name": "stderr",
     "output_type": "stream",
     "text": [
      "\r",
      "running experiments:  47%|████▋     | 47/100 [12:33<14:01, 15.87s/it]"
     ]
    },
    {
     "name": "stderr",
     "output_type": "stream",
     "text": [
      "\r",
      "running experiments:  48%|████▊     | 48/100 [12:48<13:40, 15.78s/it]"
     ]
    },
    {
     "name": "stderr",
     "output_type": "stream",
     "text": [
      "\r",
      "running experiments:  49%|████▉     | 49/100 [13:04<13:24, 15.77s/it]"
     ]
    },
    {
     "name": "stderr",
     "output_type": "stream",
     "text": [
      "\r",
      "running experiments:  50%|█████     | 50/100 [13:20<13:05, 15.71s/it]"
     ]
    },
    {
     "name": "stderr",
     "output_type": "stream",
     "text": [
      "\r",
      "running experiments:  51%|█████     | 51/100 [13:35<12:48, 15.68s/it]"
     ]
    },
    {
     "name": "stderr",
     "output_type": "stream",
     "text": [
      "\r",
      "running experiments:  52%|█████▏    | 52/100 [13:51<12:30, 15.65s/it]"
     ]
    },
    {
     "name": "stderr",
     "output_type": "stream",
     "text": [
      "\r",
      "running experiments:  53%|█████▎    | 53/100 [14:07<12:17, 15.68s/it]"
     ]
    },
    {
     "name": "stderr",
     "output_type": "stream",
     "text": [
      "\r",
      "running experiments:  54%|█████▍    | 54/100 [14:22<11:59, 15.65s/it]"
     ]
    },
    {
     "name": "stderr",
     "output_type": "stream",
     "text": [
      "\r",
      "running experiments:  55%|█████▌    | 55/100 [14:38<11:50, 15.78s/it]"
     ]
    },
    {
     "name": "stderr",
     "output_type": "stream",
     "text": [
      "\r",
      "running experiments:  56%|█████▌    | 56/100 [14:54<11:31, 15.72s/it]"
     ]
    },
    {
     "name": "stderr",
     "output_type": "stream",
     "text": [
      "\r",
      "running experiments:  57%|█████▋    | 57/100 [15:10<11:17, 15.76s/it]"
     ]
    },
    {
     "name": "stderr",
     "output_type": "stream",
     "text": [
      "\r",
      "running experiments:  58%|█████▊    | 58/100 [15:26<11:05, 15.85s/it]"
     ]
    },
    {
     "name": "stderr",
     "output_type": "stream",
     "text": [
      "\r",
      "running experiments:  59%|█████▉    | 59/100 [15:42<10:53, 15.93s/it]"
     ]
    },
    {
     "name": "stderr",
     "output_type": "stream",
     "text": [
      "\r",
      "running experiments:  60%|██████    | 60/100 [15:58<10:35, 15.88s/it]"
     ]
    },
    {
     "name": "stderr",
     "output_type": "stream",
     "text": [
      "\r",
      "running experiments:  61%|██████    | 61/100 [16:14<10:22, 15.97s/it]"
     ]
    },
    {
     "name": "stderr",
     "output_type": "stream",
     "text": [
      "\r",
      "running experiments:  62%|██████▏   | 62/100 [16:30<10:03, 15.88s/it]"
     ]
    },
    {
     "name": "stderr",
     "output_type": "stream",
     "text": [
      "\r",
      "running experiments:  63%|██████▎   | 63/100 [16:45<09:46, 15.85s/it]"
     ]
    },
    {
     "name": "stderr",
     "output_type": "stream",
     "text": [
      "\r",
      "running experiments:  64%|██████▍   | 64/100 [17:01<09:31, 15.89s/it]"
     ]
    },
    {
     "name": "stderr",
     "output_type": "stream",
     "text": [
      "\r",
      "running experiments:  65%|██████▌   | 65/100 [17:17<09:14, 15.86s/it]"
     ]
    },
    {
     "name": "stderr",
     "output_type": "stream",
     "text": [
      "\r",
      "running experiments:  66%|██████▌   | 66/100 [17:33<09:01, 15.93s/it]"
     ]
    },
    {
     "name": "stderr",
     "output_type": "stream",
     "text": [
      "\r",
      "running experiments:  67%|██████▋   | 67/100 [17:49<08:46, 15.94s/it]"
     ]
    },
    {
     "name": "stderr",
     "output_type": "stream",
     "text": [
      "\r",
      "running experiments:  68%|██████▊   | 68/100 [18:05<08:27, 15.86s/it]"
     ]
    },
    {
     "name": "stderr",
     "output_type": "stream",
     "text": [
      "\r",
      "running experiments:  69%|██████▉   | 69/100 [18:21<08:10, 15.84s/it]"
     ]
    },
    {
     "name": "stderr",
     "output_type": "stream",
     "text": [
      "\r",
      "running experiments:  70%|███████   | 70/100 [18:37<07:57, 15.92s/it]"
     ]
    },
    {
     "name": "stderr",
     "output_type": "stream",
     "text": [
      "\r",
      "running experiments:  71%|███████   | 71/100 [18:53<07:42, 15.93s/it]"
     ]
    },
    {
     "name": "stderr",
     "output_type": "stream",
     "text": [
      "\r",
      "running experiments:  72%|███████▏  | 72/100 [19:09<07:26, 15.93s/it]"
     ]
    },
    {
     "name": "stderr",
     "output_type": "stream",
     "text": [
      "\r",
      "running experiments:  73%|███████▎  | 73/100 [19:24<07:08, 15.89s/it]"
     ]
    },
    {
     "name": "stderr",
     "output_type": "stream",
     "text": [
      "\r",
      "running experiments:  74%|███████▍  | 74/100 [19:40<06:52, 15.88s/it]"
     ]
    },
    {
     "name": "stderr",
     "output_type": "stream",
     "text": [
      "\r",
      "running experiments:  75%|███████▌  | 75/100 [19:56<06:39, 15.97s/it]"
     ]
    },
    {
     "name": "stderr",
     "output_type": "stream",
     "text": [
      "\r",
      "running experiments:  76%|███████▌  | 76/100 [20:13<06:24, 16.03s/it]"
     ]
    },
    {
     "name": "stderr",
     "output_type": "stream",
     "text": [
      "\r",
      "running experiments:  77%|███████▋  | 77/100 [20:28<06:06, 15.95s/it]"
     ]
    },
    {
     "name": "stderr",
     "output_type": "stream",
     "text": [
      "\r",
      "running experiments:  78%|███████▊  | 78/100 [20:44<05:50, 15.93s/it]"
     ]
    },
    {
     "name": "stderr",
     "output_type": "stream",
     "text": [
      "\r",
      "running experiments:  79%|███████▉  | 79/100 [21:00<05:34, 15.94s/it]"
     ]
    },
    {
     "name": "stderr",
     "output_type": "stream",
     "text": [
      "\r",
      "running experiments:  80%|████████  | 80/100 [21:16<05:18, 15.92s/it]"
     ]
    },
    {
     "name": "stderr",
     "output_type": "stream",
     "text": [
      "\r",
      "running experiments:  81%|████████  | 81/100 [21:32<05:02, 15.94s/it]"
     ]
    },
    {
     "name": "stderr",
     "output_type": "stream",
     "text": [
      "\r",
      "running experiments:  82%|████████▏ | 82/100 [21:48<04:47, 15.95s/it]"
     ]
    },
    {
     "name": "stderr",
     "output_type": "stream",
     "text": [
      "\r",
      "running experiments:  83%|████████▎ | 83/100 [22:04<04:31, 15.96s/it]"
     ]
    },
    {
     "name": "stderr",
     "output_type": "stream",
     "text": [
      "\r",
      "running experiments:  84%|████████▍ | 84/100 [22:20<04:14, 15.91s/it]"
     ]
    },
    {
     "name": "stderr",
     "output_type": "stream",
     "text": [
      "\r",
      "running experiments:  85%|████████▌ | 85/100 [22:36<03:57, 15.84s/it]"
     ]
    },
    {
     "name": "stderr",
     "output_type": "stream",
     "text": [
      "\r",
      "running experiments:  86%|████████▌ | 86/100 [22:52<03:42, 15.91s/it]"
     ]
    },
    {
     "name": "stderr",
     "output_type": "stream",
     "text": [
      "\r",
      "running experiments:  87%|████████▋ | 87/100 [23:07<03:26, 15.90s/it]"
     ]
    },
    {
     "name": "stderr",
     "output_type": "stream",
     "text": [
      "\r",
      "running experiments:  88%|████████▊ | 88/100 [23:24<03:11, 15.99s/it]"
     ]
    },
    {
     "name": "stderr",
     "output_type": "stream",
     "text": [
      "\r",
      "running experiments:  89%|████████▉ | 89/100 [23:40<02:56, 16.02s/it]"
     ]
    },
    {
     "name": "stderr",
     "output_type": "stream",
     "text": [
      "\r",
      "running experiments:  90%|█████████ | 90/100 [23:56<02:39, 15.94s/it]"
     ]
    },
    {
     "name": "stderr",
     "output_type": "stream",
     "text": [
      "\r",
      "running experiments:  91%|█████████ | 91/100 [24:12<02:23, 15.96s/it]"
     ]
    },
    {
     "name": "stderr",
     "output_type": "stream",
     "text": [
      "\r",
      "running experiments:  92%|█████████▏| 92/100 [24:27<02:06, 15.84s/it]"
     ]
    },
    {
     "name": "stderr",
     "output_type": "stream",
     "text": [
      "\r",
      "running experiments:  93%|█████████▎| 93/100 [24:43<01:50, 15.82s/it]"
     ]
    },
    {
     "name": "stderr",
     "output_type": "stream",
     "text": [
      "\r",
      "running experiments:  94%|█████████▍| 94/100 [24:59<01:35, 15.90s/it]"
     ]
    },
    {
     "name": "stderr",
     "output_type": "stream",
     "text": [
      "\r",
      "running experiments:  95%|█████████▌| 95/100 [25:15<01:19, 15.89s/it]"
     ]
    },
    {
     "name": "stderr",
     "output_type": "stream",
     "text": [
      "\r",
      "running experiments:  96%|█████████▌| 96/100 [25:31<01:03, 15.92s/it]"
     ]
    },
    {
     "name": "stderr",
     "output_type": "stream",
     "text": [
      "\r",
      "running experiments:  97%|█████████▋| 97/100 [25:47<00:47, 16.00s/it]"
     ]
    },
    {
     "name": "stderr",
     "output_type": "stream",
     "text": [
      "\r",
      "running experiments:  98%|█████████▊| 98/100 [26:03<00:31, 15.93s/it]"
     ]
    },
    {
     "name": "stderr",
     "output_type": "stream",
     "text": [
      "\r",
      "running experiments:  99%|█████████▉| 99/100 [26:19<00:15, 15.88s/it]"
     ]
    },
    {
     "name": "stderr",
     "output_type": "stream",
     "text": [
      "\r",
      "running experiments: 100%|██████████| 100/100 [26:34<00:00, 15.88s/it]"
     ]
    },
    {
     "name": "stderr",
     "output_type": "stream",
     "text": [
      "\r",
      "running experiments: 100%|██████████| 100/100 [26:34<00:00, 15.95s/it]"
     ]
    },
    {
     "name": "stdout",
     "output_type": "stream",
     "text": [
      "CPU times: user 2h 50min 13s, sys: 10.2 s, total: 2h 50min 23s\n",
      "Wall time: 26min 34s\n"
     ]
    },
    {
     "name": "stderr",
     "output_type": "stream",
     "text": [
      "\n"
     ]
    }
   ],
   "source": [
    "\n",
    "%%time\n",
    "simulation.run_simulation(n_experiments, start_n, fit_params,shuffle_rows, pred_params, random_features, \\\n",
    "                          store_in_lists, save_eigenvector, save_hamiltonian, save_accuracy,\\\n",
    "                          save_models)\n",
    "if simulation.fourier_mode is not None:\n",
    "    simulation.fourier_dataframe.head(10)"
   ]
  },
  {
   "cell_type": "code",
   "execution_count": 28,
   "metadata": {
    "execution": {
     "iopub.execute_input": "2020-07-18T16:54:07.283528Z",
     "iopub.status.busy": "2020-07-18T16:54:07.283221Z",
     "iopub.status.idle": "2020-07-18T16:54:07.307592Z",
     "shell.execute_reply": "2020-07-18T16:54:07.307317Z"
    },
    "papermill": {
     "duration": 0.062274,
     "end_time": "2020-07-18T16:54:07.307646",
     "exception": false,
     "start_time": "2020-07-18T16:54:07.245372",
     "status": "completed"
    },
    "tags": []
   },
   "outputs": [
    {
     "data": {
      "text/html": [
       "<div>\n",
       "<style scoped>\n",
       "    .dataframe tbody tr th:only-of-type {\n",
       "        vertical-align: middle;\n",
       "    }\n",
       "\n",
       "    .dataframe tbody tr th {\n",
       "        vertical-align: top;\n",
       "    }\n",
       "\n",
       "    .dataframe thead th {\n",
       "        text-align: right;\n",
       "    }\n",
       "</style>\n",
       "<table border=\"1\" class=\"dataframe\">\n",
       "  <thead>\n",
       "    <tr style=\"text-align: right;\">\n",
       "      <th></th>\n",
       "      <th>id</th>\n",
       "      <th>path</th>\n",
       "      <th>t1</th>\n",
       "      <th>t2</th>\n",
       "      <th>winding</th>\n",
       "      <th>phase</th>\n",
       "      <th>pred_phase</th>\n",
       "      <th>type_of</th>\n",
       "      <th>feat0</th>\n",
       "      <th>feat1</th>\n",
       "      <th>...</th>\n",
       "      <th>feat90</th>\n",
       "      <th>feat91</th>\n",
       "      <th>feat92</th>\n",
       "      <th>feat93</th>\n",
       "      <th>feat94</th>\n",
       "      <th>feat95</th>\n",
       "      <th>feat96</th>\n",
       "      <th>feat97</th>\n",
       "      <th>feat98</th>\n",
       "      <th>feat99</th>\n",
       "    </tr>\n",
       "  </thead>\n",
       "  <tbody>\n",
       "    <tr>\n",
       "      <th>0</th>\n",
       "      <td>0</td>\n",
       "      <td>H_-2_-2_0.501338.dat</td>\n",
       "      <td>-2.0</td>\n",
       "      <td>-2.0</td>\n",
       "      <td>0.501338</td>\n",
       "      <td>999</td>\n",
       "      <td>666</td>\n",
       "      <td>test</td>\n",
       "      <td>-0.130965</td>\n",
       "      <td>0.301130</td>\n",
       "      <td>...</td>\n",
       "      <td>-0.080279</td>\n",
       "      <td>-0.115687</td>\n",
       "      <td>-0.174988</td>\n",
       "      <td>0.245064</td>\n",
       "      <td>0.319763</td>\n",
       "      <td>-0.059082</td>\n",
       "      <td>-0.000556</td>\n",
       "      <td>-0.245133</td>\n",
       "      <td>-0.301130</td>\n",
       "      <td>0.130965</td>\n",
       "    </tr>\n",
       "    <tr>\n",
       "      <th>1</th>\n",
       "      <td>0</td>\n",
       "      <td>H_-2_-2_0.501338.dat</td>\n",
       "      <td>-2.0</td>\n",
       "      <td>-2.0</td>\n",
       "      <td>0.501338</td>\n",
       "      <td>999</td>\n",
       "      <td>666</td>\n",
       "      <td>test</td>\n",
       "      <td>-0.130965</td>\n",
       "      <td>-0.301130</td>\n",
       "      <td>...</td>\n",
       "      <td>-0.080279</td>\n",
       "      <td>0.115687</td>\n",
       "      <td>-0.174988</td>\n",
       "      <td>-0.245064</td>\n",
       "      <td>0.319763</td>\n",
       "      <td>0.059082</td>\n",
       "      <td>-0.000556</td>\n",
       "      <td>0.245133</td>\n",
       "      <td>-0.301130</td>\n",
       "      <td>-0.130965</td>\n",
       "    </tr>\n",
       "    <tr>\n",
       "      <th>2</th>\n",
       "      <td>0</td>\n",
       "      <td>H_-2_-2_0.501338.dat</td>\n",
       "      <td>-2.0</td>\n",
       "      <td>-2.0</td>\n",
       "      <td>0.501338</td>\n",
       "      <td>999</td>\n",
       "      <td>666</td>\n",
       "      <td>test</td>\n",
       "      <td>-0.148414</td>\n",
       "      <td>-0.042467</td>\n",
       "      <td>...</td>\n",
       "      <td>0.185442</td>\n",
       "      <td>-0.080620</td>\n",
       "      <td>-0.066211</td>\n",
       "      <td>-0.121339</td>\n",
       "      <td>-0.151700</td>\n",
       "      <td>0.192513</td>\n",
       "      <td>0.191642</td>\n",
       "      <td>-0.050956</td>\n",
       "      <td>-0.042467</td>\n",
       "      <td>-0.148414</td>\n",
       "    </tr>\n",
       "    <tr>\n",
       "      <th>3</th>\n",
       "      <td>0</td>\n",
       "      <td>H_-2_-2_0.501338.dat</td>\n",
       "      <td>-2.0</td>\n",
       "      <td>-2.0</td>\n",
       "      <td>0.501338</td>\n",
       "      <td>999</td>\n",
       "      <td>666</td>\n",
       "      <td>test</td>\n",
       "      <td>-0.069630</td>\n",
       "      <td>-0.026147</td>\n",
       "      <td>...</td>\n",
       "      <td>0.102009</td>\n",
       "      <td>-0.100671</td>\n",
       "      <td>-0.081002</td>\n",
       "      <td>-0.020715</td>\n",
       "      <td>-0.058717</td>\n",
       "      <td>0.115834</td>\n",
       "      <td>0.118274</td>\n",
       "      <td>-0.054666</td>\n",
       "      <td>-0.026147</td>\n",
       "      <td>-0.069630</td>\n",
       "    </tr>\n",
       "    <tr>\n",
       "      <th>4</th>\n",
       "      <td>0</td>\n",
       "      <td>H_-2_-2_0.501338.dat</td>\n",
       "      <td>-2.0</td>\n",
       "      <td>-2.0</td>\n",
       "      <td>0.501338</td>\n",
       "      <td>999</td>\n",
       "      <td>666</td>\n",
       "      <td>test</td>\n",
       "      <td>0.010206</td>\n",
       "      <td>-0.014625</td>\n",
       "      <td>...</td>\n",
       "      <td>0.047555</td>\n",
       "      <td>-0.041368</td>\n",
       "      <td>-0.018852</td>\n",
       "      <td>-0.017673</td>\n",
       "      <td>-0.023377</td>\n",
       "      <td>0.031447</td>\n",
       "      <td>0.010280</td>\n",
       "      <td>0.000925</td>\n",
       "      <td>0.014625</td>\n",
       "      <td>-0.010206</td>\n",
       "    </tr>\n",
       "    <tr>\n",
       "      <th>5</th>\n",
       "      <td>0</td>\n",
       "      <td>H_-2_-2_0.501338.dat</td>\n",
       "      <td>-2.0</td>\n",
       "      <td>-2.0</td>\n",
       "      <td>0.501338</td>\n",
       "      <td>999</td>\n",
       "      <td>666</td>\n",
       "      <td>test</td>\n",
       "      <td>0.116962</td>\n",
       "      <td>0.021475</td>\n",
       "      <td>...</td>\n",
       "      <td>-0.086901</td>\n",
       "      <td>-0.045676</td>\n",
       "      <td>-0.028034</td>\n",
       "      <td>0.129266</td>\n",
       "      <td>0.130083</td>\n",
       "      <td>-0.098190</td>\n",
       "      <td>-0.104188</td>\n",
       "      <td>-0.007911</td>\n",
       "      <td>0.021475</td>\n",
       "      <td>0.116962</td>\n",
       "    </tr>\n",
       "    <tr>\n",
       "      <th>6</th>\n",
       "      <td>0</td>\n",
       "      <td>H_-2_-2_0.501338.dat</td>\n",
       "      <td>-2.0</td>\n",
       "      <td>-2.0</td>\n",
       "      <td>0.501338</td>\n",
       "      <td>999</td>\n",
       "      <td>666</td>\n",
       "      <td>test</td>\n",
       "      <td>0.037175</td>\n",
       "      <td>-0.095882</td>\n",
       "      <td>...</td>\n",
       "      <td>-0.027490</td>\n",
       "      <td>0.046168</td>\n",
       "      <td>0.063419</td>\n",
       "      <td>-0.041630</td>\n",
       "      <td>-0.085769</td>\n",
       "      <td>-0.010604</td>\n",
       "      <td>-0.009822</td>\n",
       "      <td>0.084024</td>\n",
       "      <td>0.095882</td>\n",
       "      <td>-0.037175</td>\n",
       "    </tr>\n",
       "    <tr>\n",
       "      <th>7</th>\n",
       "      <td>0</td>\n",
       "      <td>H_-2_-2_0.501338.dat</td>\n",
       "      <td>-2.0</td>\n",
       "      <td>-2.0</td>\n",
       "      <td>0.501338</td>\n",
       "      <td>999</td>\n",
       "      <td>666</td>\n",
       "      <td>test</td>\n",
       "      <td>0.027709</td>\n",
       "      <td>-0.038180</td>\n",
       "      <td>...</td>\n",
       "      <td>0.123344</td>\n",
       "      <td>-0.114320</td>\n",
       "      <td>-0.057118</td>\n",
       "      <td>-0.040291</td>\n",
       "      <td>-0.061263</td>\n",
       "      <td>0.087153</td>\n",
       "      <td>0.029599</td>\n",
       "      <td>-0.001276</td>\n",
       "      <td>0.038180</td>\n",
       "      <td>-0.027709</td>\n",
       "    </tr>\n",
       "    <tr>\n",
       "      <th>8</th>\n",
       "      <td>0</td>\n",
       "      <td>H_-2_-2_0.501338.dat</td>\n",
       "      <td>-2.0</td>\n",
       "      <td>-2.0</td>\n",
       "      <td>0.501338</td>\n",
       "      <td>999</td>\n",
       "      <td>666</td>\n",
       "      <td>test</td>\n",
       "      <td>0.059795</td>\n",
       "      <td>0.030272</td>\n",
       "      <td>...</td>\n",
       "      <td>-0.082347</td>\n",
       "      <td>0.140996</td>\n",
       "      <td>0.128386</td>\n",
       "      <td>-0.036608</td>\n",
       "      <td>0.029628</td>\n",
       "      <td>-0.124877</td>\n",
       "      <td>-0.140478</td>\n",
       "      <td>0.088573</td>\n",
       "      <td>0.030272</td>\n",
       "      <td>0.059795</td>\n",
       "    </tr>\n",
       "    <tr>\n",
       "      <th>9</th>\n",
       "      <td>0</td>\n",
       "      <td>H_-2_-2_0.501338.dat</td>\n",
       "      <td>-2.0</td>\n",
       "      <td>-2.0</td>\n",
       "      <td>0.501338</td>\n",
       "      <td>999</td>\n",
       "      <td>666</td>\n",
       "      <td>test</td>\n",
       "      <td>0.141605</td>\n",
       "      <td>0.013497</td>\n",
       "      <td>...</td>\n",
       "      <td>-0.035718</td>\n",
       "      <td>-0.110014</td>\n",
       "      <td>-0.082452</td>\n",
       "      <td>0.146084</td>\n",
       "      <td>0.152588</td>\n",
       "      <td>-0.067575</td>\n",
       "      <td>-0.087187</td>\n",
       "      <td>-0.043484</td>\n",
       "      <td>0.013497</td>\n",
       "      <td>0.141605</td>\n",
       "    </tr>\n",
       "  </tbody>\n",
       "</table>\n",
       "<p>10 rows × 108 columns</p>\n",
       "</div>"
      ],
      "text/plain": [
       "   id                  path   t1   t2   winding  phase  pred_phase type_of  \\\n",
       "0   0  H_-2_-2_0.501338.dat -2.0 -2.0  0.501338    999         666    test   \n",
       "1   0  H_-2_-2_0.501338.dat -2.0 -2.0  0.501338    999         666    test   \n",
       "2   0  H_-2_-2_0.501338.dat -2.0 -2.0  0.501338    999         666    test   \n",
       "3   0  H_-2_-2_0.501338.dat -2.0 -2.0  0.501338    999         666    test   \n",
       "4   0  H_-2_-2_0.501338.dat -2.0 -2.0  0.501338    999         666    test   \n",
       "5   0  H_-2_-2_0.501338.dat -2.0 -2.0  0.501338    999         666    test   \n",
       "6   0  H_-2_-2_0.501338.dat -2.0 -2.0  0.501338    999         666    test   \n",
       "7   0  H_-2_-2_0.501338.dat -2.0 -2.0  0.501338    999         666    test   \n",
       "8   0  H_-2_-2_0.501338.dat -2.0 -2.0  0.501338    999         666    test   \n",
       "9   0  H_-2_-2_0.501338.dat -2.0 -2.0  0.501338    999         666    test   \n",
       "\n",
       "      feat0     feat1  ...    feat90    feat91    feat92    feat93    feat94  \\\n",
       "0 -0.130965  0.301130  ... -0.080279 -0.115687 -0.174988  0.245064  0.319763   \n",
       "1 -0.130965 -0.301130  ... -0.080279  0.115687 -0.174988 -0.245064  0.319763   \n",
       "2 -0.148414 -0.042467  ...  0.185442 -0.080620 -0.066211 -0.121339 -0.151700   \n",
       "3 -0.069630 -0.026147  ...  0.102009 -0.100671 -0.081002 -0.020715 -0.058717   \n",
       "4  0.010206 -0.014625  ...  0.047555 -0.041368 -0.018852 -0.017673 -0.023377   \n",
       "5  0.116962  0.021475  ... -0.086901 -0.045676 -0.028034  0.129266  0.130083   \n",
       "6  0.037175 -0.095882  ... -0.027490  0.046168  0.063419 -0.041630 -0.085769   \n",
       "7  0.027709 -0.038180  ...  0.123344 -0.114320 -0.057118 -0.040291 -0.061263   \n",
       "8  0.059795  0.030272  ... -0.082347  0.140996  0.128386 -0.036608  0.029628   \n",
       "9  0.141605  0.013497  ... -0.035718 -0.110014 -0.082452  0.146084  0.152588   \n",
       "\n",
       "     feat95    feat96    feat97    feat98    feat99  \n",
       "0 -0.059082 -0.000556 -0.245133 -0.301130  0.130965  \n",
       "1  0.059082 -0.000556  0.245133 -0.301130 -0.130965  \n",
       "2  0.192513  0.191642 -0.050956 -0.042467 -0.148414  \n",
       "3  0.115834  0.118274 -0.054666 -0.026147 -0.069630  \n",
       "4  0.031447  0.010280  0.000925  0.014625 -0.010206  \n",
       "5 -0.098190 -0.104188 -0.007911  0.021475  0.116962  \n",
       "6 -0.010604 -0.009822  0.084024  0.095882 -0.037175  \n",
       "7  0.087153  0.029599 -0.001276  0.038180 -0.027709  \n",
       "8 -0.124877 -0.140478  0.088573  0.030272  0.059795  \n",
       "9 -0.067575 -0.087187 -0.043484  0.013497  0.141605  \n",
       "\n",
       "[10 rows x 108 columns]"
      ]
     },
     "execution_count": 28,
     "metadata": {},
     "output_type": "execute_result"
    }
   ],
   "source": [
    "simulation.dataframe.head(10)"
   ]
  },
  {
   "cell_type": "markdown",
   "metadata": {
    "papermill": {
     "duration": 0.035671,
     "end_time": "2020-07-18T16:54:07.379309",
     "exception": false,
     "start_time": "2020-07-18T16:54:07.343638",
     "status": "completed"
    },
    "tags": []
   },
   "source": [
    "#### Viewing a random sample"
   ]
  },
  {
   "cell_type": "code",
   "execution_count": 29,
   "metadata": {
    "execution": {
     "iopub.execute_input": "2020-07-18T16:54:07.454719Z",
     "iopub.status.busy": "2020-07-18T16:54:07.454398Z",
     "iopub.status.idle": "2020-07-18T16:54:07.512535Z",
     "shell.execute_reply": "2020-07-18T16:54:07.512211Z"
    },
    "papermill": {
     "duration": 0.096592,
     "end_time": "2020-07-18T16:54:07.512594",
     "exception": false,
     "start_time": "2020-07-18T16:54:07.416002",
     "status": "completed"
    },
    "tags": []
   },
   "outputs": [
    {
     "name": "stdout",
     "output_type": "stream",
     "text": [
      "CPU times: user 21.8 ms, sys: 0 ns, total: 21.8 ms\n",
      "Wall time: 21.7 ms\n"
     ]
    }
   ],
   "source": [
    "%%time\n",
    "if simulation.fourier_mode is not None:\n",
    "    simulation.fourier_dataframe.sample(frac=0.1, replace=False)"
   ]
  },
  {
   "cell_type": "markdown",
   "metadata": {
    "papermill": {
     "duration": 0.03665,
     "end_time": "2020-07-18T16:54:07.590455",
     "exception": false,
     "start_time": "2020-07-18T16:54:07.553805",
     "status": "completed"
    },
    "tags": []
   },
   "source": [
    "#### Checking train/val/test splits again"
   ]
  },
  {
   "cell_type": "code",
   "execution_count": 30,
   "metadata": {
    "execution": {
     "iopub.execute_input": "2020-07-18T16:54:07.664932Z",
     "iopub.status.busy": "2020-07-18T16:54:07.664604Z",
     "iopub.status.idle": "2020-07-18T16:54:08.150338Z",
     "shell.execute_reply": "2020-07-18T16:54:08.150647Z"
    },
    "papermill": {
     "duration": 0.524019,
     "end_time": "2020-07-18T16:54:08.150711",
     "exception": false,
     "start_time": "2020-07-18T16:54:07.626692",
     "status": "completed"
    },
    "tags": []
   },
   "outputs": [
    {
     "name": "stdout",
     "output_type": "stream",
     "text": [
      "% train:  0.4208199969516842\n",
      "% val:  0.42066758116140834\n",
      "% test:  0.15851242188690748\n",
      "% train + val + test:  1.0\n",
      "\n",
      "\n",
      "number of train hamiltonians:  2761\n",
      "number of val hamiltonians:  2760\n",
      "number of test hamiltonians:  1040\n",
      "total number of hamiltonians:  6561\n",
      "\n",
      "\n",
      "train ids:  [4718, 368, 1434, 4762, 3406, 122, 3702, 4280, 805, 4988, 342, 5915, 2338, 5556, 5567, 6110, 4982, 3319, 1130, 5223, 3293, 937, 689, 1358, 5515, 3027, 456, 4218, 2641, 2762, 4667, 5782, 1931, 929, 5356, 3833, 1902, 4597, 1703, 3213, 6535, 5182, 3512, 1986, 5511, 1491, 2829, 3747, 425, 74, 3392, 3901, 5035, 141, 5186, 2405, 1990, 124, 3262, 887, 5196, 2445, 58, 4574, 5754, 3941, 3058, 1822, 3729, 209, 4957, 2080, 4685, 1079, 6269, 5422, 1283, 1951, 1256, 6373, 5760, 4274, 4928, 610, 2387, 4458, 1857, 3773, 1821, 5261, 2604, 3642, 1599, 1651, 4732, 3529, 5671, 4864, 707, 5946, 5557, 3217, 6365, 5648, 4147, 2698, 517, 2741, 2339, 424, 6099, 5285, 3469, 3573, 155, 1753, 6092, 3951, 3960, 1411, 4076, 5306, 4121, 1122, 5529, 1083, 4552, 2156, 5619, 6458, 5959, 3534, 2234, 4891, 5682, 5027, 3824, 2753, 4026, 4040, 2861, 5972, 2186, 1656, 844, 856, 4780, 886, 5431, 5891, 1814, 4362, 357, 4576, 1262, 394, 4169, 611, 2664, 6058, 3206, 4795, 945, 1594, 5616, 4750, 6414, 3231, 638, 4648, 3698, 27, 3451, 6545, 4941, 5352, 6434, 1612, 1111, 227, 4451, 4734, 2389, 6035, 3081, 5318, 971, 4985, 1773, 5039, 4473, 2816, 2800, 239, 1178, 3486, 6175, 4240, 5554, 5206, 4881, 5522, 4413, 5338, 6532, 1365, 795, 6018, 6405, 3175, 1268, 5793, 5928, 2093, 1264, 5692, 4898, 3313, 3701, 3964, 6342, 4764, 2803, 4554, 5998, 2400, 962, 6078, 1681, 1032, 5156, 4012, 4197, 5095, 148, 3242, 2151, 1104, 5712, 5235, 2487, 3315, 1936, 3829, 33, 3933, 5880, 3498, 3704, 4039, 5925, 1619, 6140, 2122, 2493, 4195, 404, 1864, 5209, 3618, 1542, 5110, 5525, 1210, 3510, 6406, 38, 3553, 298, 4525, 4644, 6345, 2323, 278, 3798, 131, 6030, 5679, 5205, 3411, 3149, 2642, 129, 4845, 1740, 830, 4814, 4138, 6287, 3788, 2275, 1682, 5312, 3840, 2267, 1403, 531, 1490, 4261, 1041, 3902, 2597, 1106, 6288, 4028, 3481, 5867, 1843, 3814, 2776, 2939, 3243, 156, 4664, 6004, 111, 5128, 1325, 1903, 3876, 3878, 6262, 5388, 5465, 5856, 2435, 393, 6318, 1349, 853, 3669, 5931, 1170, 2570, 4615, 4327, 4521, 1003, 6416, 3012, 6438, 1836, 2244, 4316, 3188, 2807, 1746, 2467, 4384, 2767, 6238, 2336, 2177, 1501, 3353, 5115, 4887, 1742, 2004, 2780, 6400, 5634, 2502, 4964, 1362, 5477, 3629, 2342, 3077, 1776, 4975, 1416, 6121, 3598, 5629, 6411, 6378, 1933, 4879, 1211, 60, 3962, 1265, 5134, 4883, 6485, 4269, 1844, 2552, 78, 341, 683, 4310, 3230, 6116, 2417, 4205, 4562, 5809, 5232, 5108, 2423, 6353, 3168, 723, 4808, 4501, 480, 3888, 1077, 4779, 5613, 994, 3253, 2878, 5075, 3987, 305, 2363, 2764, 219, 2757, 3920, 286, 5276, 1249, 3928, 2999, 4870, 4701, 5926, 4066, 189, 3119, 1335, 4055, 2369, 5954, 629, 5429, 3446, 3580, 128, 841, 6243, 6322, 5271, 1900, 1414, 1266, 5322, 6014, 3547, 1025, 2505, 5145, 311, 3720, 998, 1788, 5058, 3605, 2272, 1459, 4057, 138, 4546, 4374, 3737, 2473, 4048, 1008, 2525, 6189, 5393, 806, 6135, 6423, 1849, 5890, 5048, 3871, 5239, 1096, 446, 2344, 1921, 4208, 2640, 5486, 1022, 4110, 645, 6085, 4397, 4068, 4377, 5697, 3125, 3723, 2181, 1446, 1165, 5715, 2302, 5136, 2661, 6362, 3282, 1439, 5375, 1934, 2884, 5858, 1458, 5709, 5484, 1036, 2414, 3632, 268, 1745, 4930, 1502, 3191, 47, 5066, 1116, 848, 4254, 5558, 2758, 524, 5488, 6409, 196, 2563, 3727, 4315, 3255, 1813, 968, 5242, 3174, 279, 4542, 5606, 390, 5610, 4015, 749, 4460, 3923, 3673, 2082, 3495, 5056, 5527, 4717, 1779, 295, 5433, 5201, 6424, 995, 4067, 775, 4856, 5853, 395, 1766, 2895, 4662, 5037, 4984, 3336, 349, 2964, 5357, 6383, 4722, 2070, 3836, 5512, 753, 5941, 113, 2966, 2802, 1736, 1495, 5042, 6038, 5866, 4565, 221, 6450, 3966, 2534, 5487, 1031, 3097, 380, 2677, 5675, 228, 4071, 6513, 4855, 3484, 1850, 3655, 2858, 1978, 3981, 6166, 1408, 6220, 2083, 4083, 2523, 2486, 6439, 2743, 2587, 4381, 5786, 3554, 354, 2160, 6207, 3146, 3817, 4178, 4612, 842, 4140, 3541, 3164, 2796, 52, 2675, 2809, 6079, 548, 6539, 4621, 967, 3612, 4273, 711, 2898, 3321, 1509, 6246, 1911, 4148, 1429, 6021, 4089, 3946, 3093, 2611, 643, 3273, 3290, 1496, 4751, 4850, 4767, 3294, 2442, 2018, 2561, 438, 293, 5840, 3726, 769, 3713, 5160, 3234, 5759, 6498, 2301, 5717, 3055, 4766, 786, 2307, 1743, 837, 4131, 5685, 4624, 2653, 2501, 1906, 4025, 4572, 3535, 3365, 1204, 3746, 4585, 2614, 6192, 536, 630, 1831, 5812, 2518, 5506, 1540, 5517, 3007, 2332, 4222, 3914, 4199, 4682, 3002, 533, 3743, 3627, 98, 3722, 4658, 4846, 3496, 3251, 3661, 140, 4573, 5094, 3141, 5538, 6529, 1486, 5873, 4009, 3264, 1980, 964, 80, 6176, 1577, 1044, 6224, 4382, 702, 4399, 4150, 4179, 2955, 5887, 833, 6187, 2521, 54, 5897, 2285, 3796, 3158, 6181, 5470, 3774, 2013, 4805, 5570, 4555, 5597, 427, 2447, 4257, 3069, 3148, 2271, 3666, 3942, 5875, 3088, 3347, 4698, 2304, 135, 4114, 428, 603, 3026, 6276, 2062, 5917, 1617, 4141, 4958, 5372, 2567, 3151, 3324, 6304, 5514, 2090, 5756, 5999, 2138, 2647, 4167, 1513, 3626, 4294, 344, 5894, 194, 5022, 4227, 719, 4168, 3983, 3839, 2568, 5436, 5563, 6115, 5112, 376, 3179, 5871, 1213, 1441, 4996, 1676, 2742, 6530, 551, 4932, 4456, 5937, 5969, 3639, 847, 5124, 715, 1324, 3719, 1354, 2994, 2815, 230, 3134, 1666, 3616, 3056, 1817, 2227, 3442, 371, 2975, 3485, 2779, 3586, 22, 4111, 1352, 843, 3048, 4927, 1494, 647, 513, 4775, 1518, 5371, 4705, 759, 3993, 1029, 3501, 5641, 2237, 5319, 4396, 5958, 4091, 4998, 3302, 5096, 3462, 1618, 1276, 4434, 1708, 1323, 2572, 4132, 932, 3135, 2425, 3568, 1381, 6444, 242, 935, 1789, 3721, 2882, 1626, 1338, 3419, 3984, 4304, 4003, 712, 1121, 5437, 4906, 3513, 2919, 4647, 3842, 5030, 4421, 1021, 3706, 2178, 5347, 3606, 6209, 4184, 5161, 724, 4709, 4016, 1757, 1250, 2841, 3823, 589, 2554, 4876, 2472, 2793, 2428, 970, 6407, 4248, 1668, 3096, 6466, 3401, 2370, 5763, 3543, 1451, 1606, 6157, 4680, 3384, 5014, 1444, 4060, 2978, 4351, 2959, 5158, 5151, 5691, 2314, 3806, 6223, 2358, 5191, 3254, 556, 2851, 447, 3715, 4530, 4000, 1118, 859, 6510, 1593, 1672, 2106, 4629, 5963, 778, 5868, 4588, 41, 4966, 6170, 789, 2830, 5025, 2671, 4450, 1180, 6024, 6540, 4035, 4244, 5789, 4791, 4049, 6455, 2199, 1158, 5714, 3005, 5050, 2526, 6026, 5349, 2330, 3950, 931, 5065, 3779, 1685, 5775, 1748, 5390, 916, 1624, 453, 6331, 5126, 5920, 210, 3770, 2365, 2231, 1777, 1340, 2765, 1281, 4102, 362, 5536, 1988, 3001, 100, 1784, 442, 1326, 2112, 798, 5149, 2094, 5230, 4366, 340, 458, 232, 4865, 5185, 4742, 2864, 2386, 5387, 5847, 2961, 1088, 4337, 3997, 3760, 6211, 2889, 4596, 503, 1123, 4447, 478, 3656, 6548, 2606, 1710, 3434, 557, 3766, 3488, 3555, 2644, 5863, 6361, 2265, 4228, 4806, 2901, 6371, 2886, 888, 6280, 2240, 5687, 6106, 3801, 6142, 4582, 1591, 3222, 151, 3241, 838, 808, 4823, 1848, 2774, 5676, 5178, 6376, 4295, 1209, 2825, 199, 6363, 2927, 4956, 4238, 6290, 3761, 6518, 123, 5544, 1897, 3855, 4627, 5402, 1196, 3880, 5078, 3910, 2409, 6325, 3731, 2879, 3500, 3029, 5240, 4556, 1602, 3465, 4600, 223, 681, 4583, 4557, 633, 5730, 2578, 4241, 1818, 5379, 1127, 2480, 2533, 3594, 6133, 5852, 2719, 3562, 4142, 3758, 2720, 5323, 2773, 468, 4619, 3311, 1212, 797, 4363, 6495, 5116, 6282, 1616, 809, 3821, 6549, 5882, 3929, 4155, 3998, 5382, 6384, 6488, 6191, 2571, 4679, 1785, 6136, 402, 3073, 3523, 314, 485, 3301, 2875, 3413, 6293, 4236, 4122, 3754, 4831, 2154, 144, 3657, 3751, 3996, 3187, 1447, 3730, 5298, 4436, 5677, 1189, 1680, 5233, 1838, 180, 5757, 1174, 693, 1263, 4134, 4097, 3157, 6382, 2577, 2918, 3949, 5281, 2415, 4889, 727, 3463, 3212, 5778, 3595, 4973, 634, 1738, 6337, 443, 2427, 5107, 544, 4971, 2176, 4684, 5923, 2434, 601, 2937, 69, 6012, 4360, 2485, 4848, 1787, 3733, 2551, 3047, 2109, 3968, 1026, 3052, 999, 3326, 386, 1448, 4271, 4296, 1091, 16, 2139, 950, 4087, 4579, 3738, 2278, 4828, 1013, 2193, 1935, 3152, 2444, 4079, 4847, 4116, 5777, 5340, 4989, 5718, 3155, 3650, 5359, 130, 3847, 2197, 2582, 4902, 705, 2956, 301, 292, 6084, 142, 2148, 4609, 1899, 2636, 6025, 5528, 595, 6278, 315, 4661, 6239, 283, 3182, 3420, 4139, 627, 5922, 4798, 4704, 5795, 5100, 5630, 2656, 4949, 1832, 3691, 106, 4481, 607, 211, 3203, 5568, 455, 2674, 564, 3953, 3144, 4387, 1456, 108, 3178, 6109, 5531, 4944, 5020, 3775, 3502, 1171, 4120, 5644, 3913, 3633, 6213, 6088, 6364, 6359, 6183, 308, 2678, 3101, 2683, 441, 6059, 2008, 5310, 2734, 3982, 6017, 4480, 5152, 4372, 5708, 1895, 3645, 3582, 5599, 3269, 6214, 792, 202, 5177, 6418, 1732, 2688, 3016, 1530, 1652, 3647, 477, 934, 2747, 5690, 6037, 4376, 5114, 6300, 3897, 1922, 2191, 2449, 1595, 5970, 4529, 5755, 2032, 1360, 1050, 5061, 2115, 4622, 511, 3468, 4691, 1440, 361, 3433, 3383, 3431, 2451, 6277, 3386, 706, 1336, 3717, 2383, 2404, 4196, 2433, 6425, 4959, 3102, 4875, 2012, 4098, 1488, 4479, 3891, 5015, 1489, 6028, 353, 1950, 4112, 783, 1112, 2305, 2729, 5032, 3956, 5017, 1576, 3599, 5790, 6130, 5916, 1583, 4635, 2474, 4994, 4570, 5365, 5180, 3961, 4300, 5624, 6412, 2860, 154, 3974, 2509, 3537, 2226, 4277, 6095, 317, 2941, 2118, 4983, 3895, 4006, 3575, 3376, 4548, 5461, 2418, 2335, 201, 125, 4653, 1363, 552, 6538, 1334, 639, 1419, 3215, 1163, 2038, 3176, 2350, 3388, 6263, 6160, 1905, 6369, 3275, 363, 6543, 4991, 5469, 4388, 3638, 3734, 5885, 237, 4467, 6090, 4974, 2832, 281, 3909, 4219, 5258, 5694, 3051, 2938, 3448, 5189, 472, 5672, 5929, 2532, 6087, 5367, 5036, 6357, 636, 61, 646, 1418, 5532, 1205, 4962, 2476, 3886, 213, 4736, 1737, 4398, 4061, 4669, 3371, 4439, 75, 1695, 872, 2659, 6015, 4080, 384, 1816, 3714, 2865, 5813, 1018, 870, 2419, 6295, 3548, 5857, 5041, 4417, 3341, 857, 1751, 204, 4616, 5668, 5609, 6093, 5392, 2933, 5236, 6437, 2185, 4437, 2039, 5450, 6379, 3067, 4862, 4715, 2990, 2026, 3851, 3898, 1503, 2823, 701, 4235, 2877, 5537, 2166, 2145, 6522, 4807, 2028, 1573, 3427, 2654, 3457, 2205, 3165, 717, 2063, 6132, 545, 3396, 176, 1582, 4062, 6426, 2245, 4349, 3385, 4433, 77, 2845, 1445, 1842, 4730, 3014, 6031, 3640, 5650, 3003, 1835, 1167, 5021, 1531, 3180, 4383, 5919, 4207, 3248, 3028, 5440, 3112, 5942, 3247, 2508, 713, 2862, 5373, 6368, 1405, 2735, 4516, 185, 1426, 1598, 5870, 4803, 214, 1248, 4505, 3249, 284, 2983, 1904, 191, 2846, 5509, 2945, 6453, 6196, 541, 107, 2173, 20, 3166, 5727, 4229, 1731, 4425, 5716, 3193, 3917, 2605, 2911, 4603, 4472, 4488, 3863, 1199, 5256, 6250, 5397, 3908, 1701, 4162, 2195, 2522, 3449, 5307, 550, 4444, 5837, 1342, 282, 3838, 5507, 6432, 2254, 2562, 6184, 4331, 5474, 1790, 6050, 755, 4288, 5974, 6461, 2804, 121, 1590, 4873, 2922, 2222, 262, 4967, 1242, 4884, 5462, 3436, 938, 1585, 6051, 1093, 149, 3709, 2982, 2727, 3107, 2608, 1291, 76, 1893, 1497, 1517, 2914, 1172, 2149, 2361, 1998, 2306, 4469, 3478, 1182, 3862, 4986, 1420, 5043, 2108, 6305, 5797, 2797, 1463, 2466, 2850, 1915, 1464, 784, 267, 4466, 4336, 4463, 5155, 1541, 2650, 4160, 3745, 4036, 5846, 5803, 674, 3671, 1597, 2831, 3677, 2355, 1677, 4912, 3689, 5268, 5272, 4415, 2805, 2649, 1938, 2897, 4268, 5698, 2343, 4077, 3186, 2391, 3765, 2432, 3924, 2002, 110, 460, 3528, 2021, 2023, 3050, 1704, 6210, 3985, 4158, 6422, 5117, 3071, 3260, 3046, 5317, 1035, 671, 777, 5595, 2530, 1514, 4252, 3857, 1378, 4777, 3663, 3947, 3611, 804, 5643, 6372, 2067, 5362, 5282, 4411, 6286, 3800, 922, 4578, 5468, 802, 5702, 2507, 2468, 5649, 4127, 3450, 2682, 3617, 2014, 4692, 4504, 482, 4963, 3995, 592, 1329, 2859, 4443, 3563, 6428, 6044, 4822, 4422, 451, 4606, 1103, 2896, 1131, 2268, 4652, 599, 1664, 5187, 6541, 4868, 5452, 289, 878, 2057, 5593, 1280, 3471, 6060, 5835, 1691, 2170, 3393, 6504, 2311, 5971, 515, 1898, 4341, 2989, 2923, 4419, 1658, 2312, 346, 1926, 2411, 6341, 3865, 1837, 1040, 1328, 5949, 6415, 559, 4904, 5098, 3771, 4289, 2102, 3399, 4153, 6268, 99, 4379, 5464, 4107, 4013, 3494, 146, 6469, 5524, 2690, 433, 1863, 2668, 1322, 5784, 67, 3229, 5585, 4305, 5202, 3872, 5711, 3783, 2968, 1570, 387, 4081, 1279, 4301, 1321, 159, 2579, 4587, 182, 4561, 3938, 835, 3487, 5024, 4459, 2165, 3680, 345, 3405, 6270, 5481, 3869, 3654, 3208, 5138, 261, 566, 5966, 4206, 1622, 3699, 1092, 126, 6358, 5689, 3578, 5768, 4903, 6264, 3742, 6114, 4090, 1348, 4204, 2430, 2665, 5913, 4046, 3092, 1678, 5018, 1993, 5921, 6433, 4113, 5447, 3461, 2116, 790, 5013, 452, 877, 6403, 5696, 4343, 2586, 2331, 2913, 2610, 1017, 4326, 5546, 3533, 3965, 3861, 1181, 6159, 4853, 5688, 1855, 2583, 3835, 4781, 6056, 6387, 3476, 5345, 3459, 2679, 4166, 2143, 5651, 422, 2010, 2470, 1294, 2689, 869, 4733, 2319, 4768, 5476, 374, 5279, 5423, 538, 2824, 3237, 5064, 3133, 3403, 303, 231, 2995, 4867, 692, 1856, 4045, 1375, 2930, 5632, 5183, 1611, 2694, 3331, 1462, 2169, 4270, 6117, 2513, 6468, 3732, 97, 4231, 3792, 32, 1689, 2736, 2874, 3778, 3939, 6503, 5135, 4700, 4002, 512, 3614, 1997, 6258, 1758, 4968, 5555, 547, 5174, 6266, 5231, 3064, 36, 4034, 5459, 4630, 5945, 2396, 1657, 3664, 4769, 5978, 4631, 2745, 4997, 3931, 4380, 3850, 3062, 3971, 2603, 5814, 1197, 5762, 319, 5008, 3265, 1277, 5627, 4369, 3782, 1043, 4611, 3507, 385, 2399, 4007, 6447, 369, 3377, 2089, 4375, 1592, 996, 668, 3305, 2902, 3364, 263, 3753, 2288, 791, 2756, 2837, 3143, 839, 1168, 4452, 3864, 2556, 3122, 2629, 4211, 1006, 1288, 3856, 5062, 4702, 3346, 2453, 3952, 5703, 5938, 915, 1407, 2782, 628, 6267, 3781, 6482, 3228, 398, 4412, 3853, 2353, 5808, 198, 2221, 4614, 4442, 2385, 6163, 1051, 3270, 2410, 1927, 918, 1376, 2573, 1356, 2187, 3493, 1770, 6001, 4401, 2715, 2531, 5932, 5257, 1924, 5073, 3466, 5725, 6137, 3571, 6544, 2436, 4445, 1846, 6158, 1296, 3935, 4725, 3596, 4298, 6125, 2549, 5710, 591, 229, 6271, 5097, 2061, 2483, 2337, 4952, 4824, 1428, 3235, 2229, 6281, 6245, 3398, 4908, 1580, 3926, 1339, 3408, 1894, 1673, 2256, 4313, 3659, 5600, 1413, 2484, 4942, 1930, 483, 703, 28, 691, 6508, 2637, 1985, 3636, 5353, 6169, 4965, 4317, 6082, 6027, 2693, 1432, 1949, 4328, 55, 4787, 5224, 5214, 3391, 1255, 2672, 2731, 5076, 6013, 3813, 3335, 5046, 1759, 5119, 4852, 2987, 4082, 2768, 3874, 1453, 1207, 5175, 6494, 2190, 4029, 1200, 2325, 5198, 236, 6484, 2590, 3724, 5791, 2395, 4332, 1767, 4400, 2114, 3345, 3999, 6464, 537, 2733, 2581, 3694, 4135, 1272, 5290, 3207, 6487, 347, 2161, 4628, 1259, 1292, 2255, 220, 3286, 4729, 1820, 4314, 623, 6247, 5728, 3686, 2558, 6006, 2687, 3600, 5443, 1278, 914, 2392, 5723, 277, 3843, 6265, 624, 3246, 3263, 1114, 118, 1527, 2402, 3819, 4909, 1343, 4632, 464, 3517, 1839, 803, 4720, 5888, 132, 224, 688, 3095, 5296, 1159, 2196, 1203, 1094, 4106, 4385, 4543, 3225, 5472, 1045, 4177, 5077, 4800, 1076, 5071, 4739, 1177, 2892, 3637, 1485, 2510, 2347, 5673, 6386, 4645, 2263, 4926, 2887, 3634, 2437, 4105, 4872, 1421, 952, 6023, 3289, 5120, 3762, 4961, 4353, 6251, 800, 5761, 3674, 766, 3162, 4531, 3099, 6129, 1698, 2602, 619, 4373, 1133, 527, 608, 208, 1827, 6491, 1596, 6173, 3078, 4950, 2303, 2754, 1507, 4108, 6417, 2354, 4939, 5541, 4416, 4810, 2592, 2362, 4312, 3079, 105, 4801, 1763, 965, 3194, 5549, 430, 3129, 5552, 2499, 1744, 667, 2947, 463, 1628, 3791, 4642, 4302, 2471, 4550, 1011, 4137, 3464, 4192, 6126, 5181, 6430, 917, 445, 2247, 1099, 3011, 4551, 2248, 3799, 6377, 1928, 1625, 5876, 5485, 6343, 2723, 3009, 1566, 4938, 4915, 5442, 4776, 2613, 925, 509, 3177, 5394, 2035, 594, 5670, 1730, 5889, 956, 553, 862, 6302, 4063, 6427, 195, 1457, 6007, 913, 3106, 1183, 4599, 5293, 1081, 2321, 4203, 1285, 2916, 4149, 928, 4738, 1575, 4802, 4650, 3907, 1675, 1815, 2475, 3516, 5325, 4307, 801, 6296, 5203, 6101, 2885, 5684, 3415, 4553, 2912, 2942, 4030, 3873, 6514, 4136, 1009, 4568, 2019, 1976, 3628, 605, 5519, 5787, 2589, 5591, 4854, 4929, 4426, 4306, 2910, 4093, 23, 3911, 5977, 851, 1113, 4033, 6086, 3137, 6054, 1461, 4483, 2749, 1771, 2123, 5832, 2711, 6178, 1918, 6457, 1198, 3183, 6005, 5369, 299, 2250, 4281, 4874, 1454, 854, 1919, 4322, 836, 2984, 1433, 5366, 68, 1090, 1370, 558, 4356, 1241, 117, 2033, 5883, 4752, 3687, 2635, 3841, 5551, 4659, 6328, 4602, 4618, 1653, 2152, 3957, 1290, 57, 5704, 400, 2262, 2202, 3937, 1253, 233, 306, 3407, 459, 4144, 2334, 1859, 4549, 4623, 4748, 5516, 762, 264, 3086, 2233, 5146, 4126, 5019, 5212, 5565, 3708, 2746, 5936, 5843, 6465, 6460, 3159, 365, 3018, 2838, 4656, 6441, 2162, 5957, 3789, 3089, 2429, 3100, 3505, 2555, 1623, 241, 5973, 2992, 3374, 625, 2946, 4527, 2318, 288, 3296, 4465, 1353, 1030, 3084, 1449, 2632, 2917, 3424, 4897, 5569, 6273, 555, 15, 1087, 5681, 2223, 1824, 37, 534, 4931, 5800, 1246, 708, 5731, 4871, 2426, 5344, 5406, 3489, 5052, 5950, 637, 367, 4697, 5216, 4453, 4560, 2341, 429, 3830, 2241, 4176, 5892, 4454, 5316, 5033, 2066, 5184, 2201, 1455, 3109, 2716]\n",
      "val ids:  [2655, 1034, 4826, 1600, 1917, 5601, 3070, 3892, 5975, 4946, 197, 930, 6490, 2818, 1981, 2107, 3756, 5103, 366, 1733, 5504, 6131, 6350, 3894, 4286, 1841, 2908, 5598, 6536, 6141, 1037, 1085, 4088, 4123, 2972, 1589, 316, 3379, 2926, 2888, 1460, 1533, 3068, 102, 4706, 2224, 1614, 4096, 3622, 6104, 3958, 4608, 2714, 2854, 4882, 4896, 5951, 3298, 4321, 4023, 3057, 6375, 3173, 3992, 1875, 5294, 4786, 4378, 1769, 2408, 388, 5930, 3421, 3889, 6349, 1654, 4782, 6272, 4605, 2958, 2616, 1337, 2929, 3041, 6034, 5195, 6259, 2101, 465, 2810, 926, 1943, 4890, 5210, 644, 4174, 1110, 5592, 528, 2309, 4075, 673, 871, 5159, 772, 882, 5425, 4520, 5044, 2220, 4526, 782, 5194, 3787, 4744, 6208, 4681, 133, 5965, 4830, 4485, 6048, 2036, 423, 6348, 5631, 1662, 523, 3685, 6127, 3021, 4370, 3834, 2088, 3711, 2676, 4804, 6329, 1039, 6080, 49, 1768, 3132, 3988, 3749, 1578, 4519, 6156, 4604, 941, 3503, 6527, 4711, 4390, 4309, 4535, 5995, 5309, 3736, 2452, 2025, 3832, 3004, 190, 2076, 865, 2692, 5439, 5283, 604, 145, 5092, 5453, 4972, 3214, 4186, 4359, 5263, 3912, 4319, 3121, 4011, 5262, 4690, 4869, 5605, 6242, 5535, 2751, 2726, 3339, 5434, 391, 5635, 728, 2007, 5421, 1368, 4886, 3348, 6204, 526, 1783, 3418, 3858, 3630, 2495, 4497, 2717, 3435, 885, 4821, 2283, 2168, 4617, 1756, 3169, 3644, 1750, 1346, 3192, 4172, 5647, 4559, 1100, 3506, 1528, 1128, 2666, 5713, 6022, 6355, 4581, 3934, 2098, 5351, 3944, 1707, 4825, 2155, 1762, 3768, 3333, 5845, 5526, 3893, 3209, 2696, 4724, 3250, 4895, 4329, 5841, 1679, 4256, 4493, 4494, 6096, 1660, 1442, 6199, 5798, 4022, 2064, 4646, 4737, 2799, 5305, 1048, 1331, 2407, 158, 4784, 2144, 1402, 4073, 912, 3358, 3288, 2251, 4625, 271, 1195, 6402, 1500, 4683, 4358, 529, 5699, 313, 3572, 1515, 5308, 3138, 521, 273, 3641, 951, 4395, 5055, 1082, 5722, 3915, 3359, 5225, 6533, 1834, 2099, 240, 3252, 3184, 2628, 2203, 5566, 3994, 3828, 2198, 115, 1858, 3455, 6164, 2441, 4935, 1274, 205, 3110, 1372, 2511, 1975, 5806, 1191, 5303, 2308, 2348, 4643, 479, 6205, 1621, 3906, 1661, 5933, 1867, 5881, 1772, 1024, 3366, 3793, 1208, 355, 4334, 5346, 832, 4163, 793, 590, 1674, 5482, 4607, 203, 5859, 5010, 1012, 6436, 3558, 2670, 2506, 4778, 1608, 799, 3784, 4115, 5449, 5104, 5939, 4072, 3755, 3805, 3130, 5385, 6467, 3890, 4393, 718, 2646, 2424, 6521, 2848, 2960, 3816, 3447, 6285, 960, 1825, 3967, 3879, 1244, 2718, 3785, 4435, 4866, 4598, 3741, 4129, 3848, 2096, 5137, 3609, 1627, 6339, 4770, 3867, 6298, 2638, 2277, 5855, 310, 546, 5074, 6551, 3136, 3566, 4858, 562, 3142, 4190, 4258, 4954, 5953, 71, 4943, 3583, 5339, 5238, 4367, 5213, 5934, 2357, 5079, 3777, 2852, 5626, 1412, 1125, 1588, 5280, 3588, 2695, 2883, 1955, 6019, 2481, 6537, 5304, 6323, 1705, 3497, 3350, 4364, 5448, 725, 4391, 5133, 863, 4502, 5562, 3154, 2188, 1002, 2634, 5068, 2944, 4880, 5533, 1327, 2469, 5466, 3425, 5471, 2993, 3532, 3877, 3750, 161, 704, 350, 1819, 2842, 5771, 2969, 3542, 519, 448, 4423, 2575, 3370, 4937, 2104, 6512, 471, 4894, 2261, 5807, 2351, 602, 119, 3266, 1650, 560, 4671, 761, 1613, 5229, 3150, 1615, 5625, 6509, 5047, 3063, 5801, 5207, 4125, 3521, 4468, 4042, 6294, 3716, 4507, 3705, 3905, 2904, 1010, 785, 2009, 3826, 5217, 3844, 3274, 3268, 696, 846, 4242, 3587, 6241, 5286, 4215, 4021, 2482, 2684, 3017, 2547, 6528, 26, 3621, 5430, 3903, 2230, 1941, 4290, 3332, 1958, 3603, 867, 5879, 876, 2924, 1102, 5886, 2669, 1925, 3631, 4911, 6108, 6188, 565, 3692, 5645, 3244, 2663, 5865, 5311, 2560, 5952, 4663, 6240, 1747, 3351, 4809, 3356, 5849, 2498, 5221, 300, 4282, 2242, 2633, 1161, 5510, 4745, 3087, 3922, 1169, 4245, 3870, 4243, 2963, 4357, 1694, 4735, 3258, 5764, 621, 4569, 3590, 4405, 726, 4418, 5947, 6501, 2011, 1669, 3211, 3404, 2931, 5758, 522, 2030, 397, 6122, 1829, 1332, 1545, 540, 4198, 2005, 1190, 4490, 2750, 364, 4449, 5405, 222, 612, 5102, 3397, 944, 1946, 2171, 2594, 1979, 5848, 6139, 4834, 1430, 5637, 2465, 152, 6511, 5622, 4613, 4159, 3111, 5200, 2497, 4118, 4634, 5896, 879, 3304, 5218, 4726, 864, 4262, 622, 5269, 1544, 716, 2450, 963, 1450, 776, 3945, 3400, 5288, 1752, 1005, 5772, 505, 1734, 4365, 5243, 1648, 3082, 4410, 3538, 4534, 5781, 2225, 3651, 2157, 4620, 679, 5227, 1871, 6162, 450, 3153, 481, 1297, 1870, 1269, 3764, 4489, 4498, 6098, 3712, 4571, 5968, 2274, 927, 4665, 4251, 506, 3156, 5446, 1866, 1932, 6463, 4058, 6486, 5455, 1295, 2253, 2488, 4202, 139, 1437, 4761, 4892, 2184, 2439, 3307, 3977, 6404, 2504, 5508, 2079, 2928, 4014, 3076, 1355, 215, 2310, 3767, 5148, 3667, 218, 4797, 3224, 3219, 4746, 2503, 3015, 3564, 4143, 5720, 2515, 4666, 2478, 1273, 2282, 1052, 1671, 1987, 773, 861, 2086, 4772, 6216, 4409, 4540, 6120, 5927, 4220, 3570, 6356, 4293, 1999, 2320, 794, 134, 4146, 5188, 184, 2819, 874, 5301, 2965, 3624, 5559, 2772, 3531, 2243, 1347, 6297, 1374, 5131, 5872, 6197, 4703, 2238, 3739, 6167, 1869, 258, 3091, 2077, 6102, 348, 5534, 434, 3065, 3492, 3045, 6492, 2313, 6344, 4668, 1874, 4386, 1380, 2548, 2985, 4037, 3161, 2775, 2843, 5053, 270, 6380, 1078, 2095, 4978, 5724, 6138, 5918, 4992, 6448, 3710, 5381, 3454, 3574, 3038, 1120, 5259, 2001, 3597, 3139, 5861, 6261, 2329, 436, 5874, 1423, 2273, 3522, 3105, 6118, 5707, 5144, 2172, 3171, 1350, 2553, 4225, 5101, 5454, 4638, 5374, 6185, 4464, 3697, 1201, 4221, 467, 1357, 3514, 2826, 5473, 4910, 2349, 6218, 6336, 4914, 1539, 3369, 807, 3201, 3428, 1793, 5621, 1765, 1519, 4038, 1823, 6333, 606, 3986, 13, 5893, 351, 5615, 3904, 4354, 3665, 4187, 3283, 2738, 1166, 6408, 1525, 3728, 563, 1853, 6016, 6039, 3441, 4907, 3802, 4844, 4936, 4916, 2003, 1686, 1038, 4092, 4517, 1504, 4947, 2598, 5810, 4392, 2276, 1028, 1108, 3373, 3343, 260, 1508, 3320, 1947, 2712, 5895, 5752, 2631, 1270, 2477, 3479, 2991, 6497, 4686, 3613, 6190, 2814, 2863, 5016, 1620, 4402, 5292, 3804, 852, 5045, 2384, 4727, 3681, 4495, 439, 4407, 4641, 5457, 323, 457, 4109, 1023, 137, 4371, 1995, 3440, 3389, 6452, 6542, 4476, 4817, 881, 2359, 1275, 3491, 5266, 379, 6283, 2142, 6279, 4065, 4272, 5378, 5012, 461, 535, 4171, 2068, 4216, 2316, 670, 6462, 3882, 1861, 3416, 3272, 3453, 2673, 3885, 2667, 5652, 4713, 5483, 2158, 4024, 4888, 6253, 507, 1086, 4657, 1019, 5542, 5776, 3172, 5321, 4032, 710, 2722, 5733, 2724, 5275, 2529, 56, 3896, 2903, 1373, 1511, 5444, 5341, 30, 2821, 6057, 5260, 1186, 3812, 3022, 4161, 2183, 5264, 4074, 5109, 1107, 596, 19, 3368, 4053, 373, 4518, 4981, 3417, 6374, 3970, 4086, 5199, 2585, 2279, 6111, 6083, 3189, 2905, 1492, 2147, 3990, 444, 4078, 1157, 1523, 5432, 2060, 5770, 5121, 3518, 2489, 641, 5211, 4503, 3023, 4639, 3467, 4311, 880, 2967, 6134, 5179, 1574, 207, 5788, 1184, 1840, 3470, 6292, 4741, 5779, 2322, 1851, 4051, 4953, 1435, 5297, 4276, 396, 2685, 3085, 6449, 5961, 382, 29, 1711, 5705, 2366, 79, 946, 699, 2998, 3735, 617, 2876, 1001, 834, 2179, 3259, 6346, 4544, 2943, 1377, 2700, 6252, 2713, 3128, 4651, 4064, 3267, 4394, 1193, 5295, 2844, 3430, 4338, 4969, 1257, 6274, 2584, 709, 5234, 6351, 70, 3019, 3818, 676, 1345, 5396, 3094, 5451, 3948, 2286, 2394, 1526, 1953, 4157, 5342, 3875, 5034, 3658, 1709, 4247, 322, 1367, 6217, 2494, 1409, 5590, 6419, 276, 3696, 3432, 1702, 3976, 3410, 5719, 868, 3972, 1499, 3769, 1364, 3852, 1896, 2091, 4201, 6550, 6255, 1033, 6289, 2364, 2710, 2266, 2167, 3042, 3508, 6165, 504, 3963, 4788, 4284, 949, 2981, 3539, 4188, 3044, 5505, 1535, 3550, 1977, 6451, 4237, 6257, 3342, 3414, 1415, 1876, 2058, 4054, 4389, 3423, 4934, 3245, 4976, 3049, 1126, 4133, 6531, 216, 1939, 2421, 5350, 1202, 6352, 3619, 948, 2328, 3390, 5479, 997, 2327, 4323, 3387, 5587, 860, 1134, 5377, 1187, 1359, 1046, 2996, 2974, 1604, 6319, 1741, 4633, 3943, 2881, 3327, 4816, 3660, 5560, 921, 3718, 615, 4545, 5960, 4714, 1852, 59, 4194, 3683, 2806, 788, 3227, 5811, 2065, 1185, 1944, 1512, 4255, 3277, 3703, 2763, 2259, 473, 3170, 4173, 3472, 4716, 632, 5607, 1865, 2777, 4478, 1536, 4567, 6347, 1173, 3918, 2766, 2252, 2071, 3809, 5150, 1493, 3337, 3581, 2287, 3438, 532, 1607, 2284, 943, 6171, 3584, 3261, 2078, 831, 2935, 6496, 1443, 143, 474, 614, 1119, 1982, 6421, 3473, 383, 1984, 1609, 6499, 1683, 4851, 4728, 1371, 183, 5277, 3975, 186, 4940, 3126, 4487, 2925, 2345, 5391, 2514, 3973, 2075, 4448, 4001, 4050, 2403, 5154, 2639, 6040, 5639, 2730, 2269, 3236, 103, 6481, 4320, 764, 3037, 6446, 1760, 3551, 381, 4506, 3276, 4528, 5040, 6194, 2081, 5142, 4893, 1239, 4813, 1487, 2422, 4352, 947, 432, 3675, 1282, 18, 5955, 3989, 4232, 3378, 5141, 2576, 4774, 4979, 5226, 1330, 3868, 4297, 5924, 3849, 3803, 5478, 3412, 1610, 771, 14, 1948, 5564, 4287, 5729, 5113, 4017, 508, 3561, 1929, 5400, 4783, 3314, 1424, 287, 6041, 3884, 4878, 2333, 6507, 3763, 2016, 5222, 5769, 1299, 3652, 5834, 2607, 6094, 476, 770, 3881, 2416, 1907, 2907, 4041, 5361, 2565, 5376, 2412, 3954, 2593, 3859, 2936, 3074, 1587, 6338, 358, 259, 5057, 5765, 4259, 516, 3504, 5646, 694, 5383, 5403, 178, 3546, 5543, 2446, 6515, 4010, 5783, 6524, 4283, 768, 4303, 2658, 1749, 3820, 6195, 5721, 1188, 698, 5503, 6249, 1260, 3900, 4462, 2748, 1923, 5091, 1293, 234, 3930, 5123, 2024, 3437, 2857, 4655, 4285, 4547, 1546, 3688, 2781, 2492, 721, 957, 2393, 2828, 3040, 1510, 4794, 4515, 5878, 6036, 6128, 4154, 2827, 3565, 2599, 4708, 1537, 1124, 5976, 3822, 6077, 2833, 4406, 5962, 5680, 3287, 2516, 1692, 5561, 4695, 5612, 2940, 3615, 3308, 51, 3604, 3318, 4457, 5051, 3025, 2315, 3355, 1438, 2000, 274, 1833, 889, 4217, 4688, 4536, 3549, 5099, 290, 4785, 3509, 3309, 5438, 2401, 21, 3061, 5063, 3232, 3147, 1913, 4575, 3303, 4210, 2111, 5997, 3925, 2979, 352, 3593, 4827, 6182, 2761, 3205, 4951, 6193, 4212, 4145, 4833, 4094, 1792, 4486, 2438, 3452, 2346, 4156, 1506, 781, 5594, 2808, 3409, 3013, 4913, 3752, 2512, 1287, 3202, 6291, 1516, 5093, 2595, 5480, 6431, 2097, 4209, 2528, 1194, 969, 1945, 966, 554, 5105, 6547, 6009, 4342, 3297, 5750, 2836, 3955, 2909, 3969, 4152, 5539, 3676, 3790, 65, 6201, 1916, 4811, 5009, 4249, 4790, 4522, 3381, 672, 2739, 677, 296, 127, 3456, 3707, 2934, 1089, 136, 4819, 1369, 4291, 4960, 5785, 2258, 4214, 2397, 4955, 4977, 206, 3090, 2264, 4052, 4432, 5842, 4532, 1778, 6003, 2352, 1954, 1162, 5767, 2778, 153, 4084, 6370, 4537, 4492, 4408, 4863, 359, 4151, 3328, 2491, 4482, 2368, 5751, 6206, 5884, 6097, 1603, 5368, 1989, 675, 6168, 3670, 5608, 3310, 235, 697, 1811, 3204, 5106, 217, 5404, 3439, 6248, 4899, 2113, 377, 5521, 1655, 157, 3643, 796, 3426, 3163, 6502, 4514, 1289, 2192, 5284, 3291, 518, 1812, 1568, 2601, 5773, 5049, 1605, 5011, 1192, 5618, 2817, 4496, 1179, 2798, 225, 763, 958, 4324, 6032, 5640, 5360, 2569, 4743, 6519, 1991, 6506, 6483, 5067, 5289, 291, 3120, 2986, 514, 3794, 2971, 2031, 4712, 2103, 4085, 5844, 320, 2140, 4586, 1688, 2847, 5358, 6366, 1258, 3797, 2609, 5701, 2737, 3382, 3257, 4491, 4789, 954, 318, 1117, 3284, 399, 4993, 5877, 4538, 4763, 4933, 3218, 5956, 4566, 4103, 1261, 5147, 1942, 4189, 2588, 1425, 2795, 6215, 4723, 1015, 678, 6172, 177, 3352, 2770, 6198, 5674, 959, 4539, 2630, 1410, 5072, 4047, 2973, 2849, 2519, 5617, 1957, 955, 2752, 2728, 1098, 3684, 3623, 5994, 5967, 1216, 1579, 1872, 2794, 2239, 4693, 5278, 4441, 1992, 3592, 939, 378, 5602, 635, 953, 2029, 3959, 1522, 1417, 4564, 1004, 5588, 2891, 1245, 4069, 3482, 1699, 3103, 4636, 5914, 4563, 5596, 1271, 1912, 6008, 5695, 6212, 2970, 6367, 5693, 45, 866, 1791, 1164, 626, 2163, 3312, 2657, 1101, 6534, 5343, 6047, 1366, 1847, 4095, 1909, 2645, 4857, 226, 2566, 6011, 5069, 2235, 5364, 5139, 3866, 2755, 586, 754, 6244, 3559, 5314, 597, 2281, 2574, 454, 4558, 1584, 3560, 392, 4626, 307, 756, 6413, 96, 1693, 4812, 17, 4577, 4747, 4710, 2232, 750, 4128, 4070, 6459, 4170, 924, 2899, 3589, 46, 1251, 2431, 2249, 1109, 5518, 1684, 3845, 3483, 2962, 4815, 884, 4670, 6177, 1665, 6010, 1862, 3349, 3490, 181, 1739, 2792, 1243, 356, 4773, 1868, 238, 6052, 1952, 5054, 3662, 3458, 3825, 2812, 5192, 6320, 1042, 1529, 104, 1298, 5176, 3744, 4308, 3375, 2557, 3807, 3395, 6523, 5299, 5530, 5475, 5614, 1586, 3054, 3602, 1670, 2059, 4368, 3185, 5996, 437, 2681, 3591, 3108, 2915, 4945, 64, 6046, 484, 2617, 3083, 510, 6505, 767, 4687, 3402, 6053, 5458, 3367, 890, 179, 3131, 1729, 1095, 5315, 1505, 5143, 1049, 2759, 4601, 2270, 1014, 2662, 6454, 5173, 6443, 2356, 5603, 3221, 5197, 2141, 1406, 66, 269, 525, 2194, 4253, 3530, 5398, 5794, 4731, 2976, 2037, 3075, 2524, 3786, 4719, 1908, 5302, 5111, 642, 3569, 2159, 4533, 6493, 2977, 2073, 2527, 4484, 1781, 3557, 961, 1214, 53, 2398, 5386, 4455, 5683, 6360, 2406, 4361, 787, 389, 3695, 5589, 4818, 3020, 714, 101, 160, 3827, 5384, 1873, 2906, 4987, 5441, 5028, 109, 4696, 2988, 1176, 2388, 587, 3338, 3344, 6033, 3039, 1782, 2648, 2413, 2771, 3544, 5122, 3811, 3210, 3519, 1007, 1341, 62, 2153, 616, 3167, 3921, 3668, 4654, 6221, 401, 266, 4267, 2006, 2893, 1097, 5836, 1649, 873, 309, 6429, 4524, 4234, 5628, 3725, 5726, 1333, 620, 1571, 3511, 609, 2236, 5426, 5424, 3536, 2189, 779, 3808, 312, 5792, 3740, 845, 5193, 116, 4610, 6119, 1920, 5038, 6237, 4694, 1764, 549, 3653, 4223, 4330, 3066, 3317, 2204, 275, 1047, 3919, 3285, 5026, 39, 1132, 3887, 5401, 5706, 3334, 695, 5964, 5029, 3480, 3216, 1901, 34, 4792, 2651, 4119, 5313, 5354, 1543, 285, 6124, 5766, 1020, 4990, 3295, 5550, 2643, 4193, 542, 3181, 25, 4523, 6327, 1431, 1105, 24, 470, 4414, 6299, 2117, 5265, 6489, 3429, 2997, 3475, 6385, 2119, 6107, 5833, 2022, 4424, 4175, 2834, 5944, 669, 114, 4877, 466, 3006, 1344, 3601, 3271, 5153, 2150, 1351, 5523, 5633, 2839, 4200, 3932, 6161, 757, 6113, 2801, 4124, 2390, 6222, 3292, 147, 3567, 2324, 150, 4005, 6179, 2015, 5796, 774, 5435, 5513, 1027, 3190, 4796, 4771, 2591, 1854, 4056, 5805, 6435, 5274, 6186, 758, 4226, 212, 2853, 752, 6354, 5389, 4164, 4793, 2769, 1572, 5348, 3837, 2880, 765, 4640, 2326, 6042, 4584, 4318, 6525, 294, 4104, 543, 4905, 2164, 3098, 3226, 3678, 700, 780, 6480, 4699, 5129, 1830, 1538, 3625, 4471, 6517, 4233, 2084, 1115, 6076, 6254, 6303, 6516, 6526, 2835, 3524, 5636, 3646, 2092, 1994, 187, 1755, 1697, 6000, 375, 4474, 3124, 6091, 585, 858, 5838, 5467, 1690, 3024, 35, 1427, 4589, 5273, 1706, 6399, 1581, 1524, 6055, 3325, 1252, 31, 5851, 4224, 3979, 4185, 6410, 722, 1696, 4461, 3585, 1129, 2612, 5804, 3299, 4995, 5118, 5208, 2822, 4043, 5774, 2732, 3323, 3831, 2697, 1422, 1016, 4339, 2894, 3477, 1828, 1601, 3239, 5270, 5445, 5753, 3357, 1667, 3422, 5935, 3474, 1775, 3316, 193, 5023, 4901, 1774, 1937, 5070, 1267, 5427, 6330, 5864, 2228, 449, 5370, 2121, 5678, 4859, 50, 588, 4213, 3927, 4325, 4027, 1286, 3223, 4130, 5642, 3008, 6256, 2691, 6546, 4165, 5586, 272, 1956, 42, 1452, 1761, 3991, 462, 4970, 942, 4860, 3372, 3649, 2146, 4446, 4275, 5862, 6049, 3145, 2725, 3233, 475, 5241, 297, 370, 3672, 6442, 265, 5355, 919, 2744, 2496, 4541, 6334, 5130, 43, 1484, 3679, 2615, 2257, 2317, 1084, 3757, 3815, 3043, 5059, 3330, 687, 4649, 403, 593, 3499, 6045, 940, 2856, 618, 4004, 6029, 2855, 2596, 2017, 2721, 5854, 4403, 4246, 3520, 188, 5399, 4829, 426, 3693, 2448, 5125, 2813, 6456, 6174, 6275, 4333, 304, 6335, 192, 5547, 3883, 5127, 5669, 3256, 44, 933, 1826, 850, 372, 682, 4044, 684, 6284, 6301, 5869, 1786, 2069, 6002, 855, 2034, 4344, 2517, 1735, 5320, 4008, 1361, 6445, 3748, 48, 5132, 2182, 2535, 4477, 3648, 1996, 6332, 2056, 4861, 2921, 1914, 1983, 6440, 73, 3329, 6103, 5157, 3980, 5428, 343, 112, 4404, 4250, 4765, 3978, 2175, 6219, 6075, 4499, 2550, 936, 3795, 1754, 1534, 5228, 6321, 5237, 4230, 2652, 302, 5219, 1254, 5611, 1521, 539, 3010, 2087, 3104, 5732, 5815, 3527, 1284, 720, 2110, 95, 6112, 72, 875, 4031, 2072, 4279, 1379, 1520, 5548, 4278, 2479, 3576, 4707, 5638, 631, 6123, 3053, 4239, 3545, 2957, 3899, 1567, 4355, 4299, 5948, 5553, 5520, 4117, 5324, 1247, 1498, 3059, 1206, 6200, 5190, 4689, 3682, 3552, 6081, 2027, 3810, 3916, 6089, 5839, 6326, 561, 3556, 640, 63, 598, 613, 3579, 3340, 4637, 2246, 2559, 4350, 2686, 3238, 4749, 5943, 685, 1175, 3515, 4832, 849, 3776, 5623, 5363, 431, 4292, 5031, 4335, 690, 5395, 2890, 1659, 2490, 5463, 6520, 6401, 1532, 2699, 5799, 4059, 5204, 5604, 5456, 4849, 2932, 5287, 4475, 2105, 1910, 5545, 3846, 6105, 4799, 3354, 6203, 2811, 3759, 4440, 2443, 4721, 469, 4885, 3635, 751, 5686, 1569, 1663, 3394, 3322, 1404, 3610, 3127, 6043, 5215, 1845, 6381, 923, 1215, 6202, 686, 5802, 435, 3072, 2564, 4438, 4191, 883, 6324, 2074, 3123, 4948, 4470, 5267, 1436, 3306, 5850, 321, 1687, 2367, 2085, 3577, 530, 5291, 2174]\n",
      "test ids:  [0, 1, 2, 3, 4, 5, 6, 7, 8, 9, 10, 11, 12, 40, 81, 82, 83, 84, 85, 86, 87, 88, 89, 90, 91, 92, 93, 94, 120, 162, 163, 164, 165, 166, 167, 168, 169, 170, 171, 172, 173, 174, 175, 200, 243, 244, 245, 246, 247, 248, 249, 250, 251, 252, 253, 254, 255, 256, 257, 280, 324, 325, 326, 327, 328, 329, 330, 331, 332, 333, 334, 335, 336, 337, 338, 339, 360, 405, 406, 407, 408, 409, 410, 411, 412, 413, 414, 415, 416, 417, 418, 419, 420, 421, 440, 486, 487, 488, 489, 490, 491, 492, 493, 494, 495, 496, 497, 498, 499, 500, 501, 502, 520, 567, 568, 569, 570, 571, 572, 573, 574, 575, 576, 577, 578, 579, 580, 581, 582, 583, 584, 600, 648, 649, 650, 651, 652, 653, 654, 655, 656, 657, 658, 659, 660, 661, 662, 663, 664, 665, 666, 680, 729, 730, 731, 732, 733, 734, 735, 736, 737, 738, 739, 740, 741, 742, 743, 744, 745, 746, 747, 748, 760, 810, 811, 812, 813, 814, 815, 816, 817, 818, 819, 820, 821, 822, 823, 824, 825, 826, 827, 828, 829, 840, 891, 892, 893, 894, 895, 896, 897, 898, 899, 900, 901, 902, 903, 904, 905, 906, 907, 908, 909, 910, 911, 920, 972, 973, 974, 975, 976, 977, 978, 979, 980, 981, 982, 983, 984, 985, 986, 987, 988, 989, 990, 991, 992, 993, 1000, 1053, 1054, 1055, 1056, 1057, 1058, 1059, 1060, 1061, 1062, 1063, 1064, 1065, 1066, 1067, 1068, 1069, 1070, 1071, 1072, 1073, 1074, 1075, 1080, 1135, 1136, 1137, 1138, 1139, 1140, 1141, 1142, 1143, 1144, 1145, 1146, 1147, 1148, 1149, 1150, 1151, 1152, 1153, 1154, 1155, 1156, 1160, 1217, 1218, 1219, 1220, 1221, 1222, 1223, 1224, 1225, 1226, 1227, 1228, 1229, 1230, 1231, 1232, 1233, 1234, 1235, 1236, 1237, 1238, 1240, 1300, 1301, 1302, 1303, 1304, 1305, 1306, 1307, 1308, 1309, 1310, 1311, 1312, 1313, 1314, 1315, 1316, 1317, 1318, 1319, 1320, 1382, 1383, 1384, 1385, 1386, 1387, 1388, 1389, 1390, 1391, 1392, 1393, 1394, 1395, 1396, 1397, 1398, 1399, 1400, 1401, 1465, 1466, 1467, 1468, 1469, 1470, 1471, 1472, 1473, 1474, 1475, 1476, 1477, 1478, 1479, 1480, 1481, 1482, 1483, 1547, 1548, 1549, 1550, 1551, 1552, 1553, 1554, 1555, 1556, 1557, 1558, 1559, 1560, 1561, 1562, 1563, 1564, 1565, 1629, 1630, 1631, 1632, 1633, 1634, 1635, 1636, 1637, 1638, 1639, 1640, 1641, 1642, 1643, 1644, 1645, 1646, 1647, 1700, 1712, 1713, 1714, 1715, 1716, 1717, 1718, 1719, 1720, 1721, 1722, 1723, 1724, 1725, 1726, 1727, 1728, 1780, 1794, 1795, 1796, 1797, 1798, 1799, 1800, 1801, 1802, 1803, 1804, 1805, 1806, 1807, 1808, 1809, 1810, 1860, 1877, 1878, 1879, 1880, 1881, 1882, 1883, 1884, 1885, 1886, 1887, 1888, 1889, 1890, 1891, 1892, 1940, 1959, 1960, 1961, 1962, 1963, 1964, 1965, 1966, 1967, 1968, 1969, 1970, 1971, 1972, 1973, 1974, 2020, 2040, 2041, 2042, 2043, 2044, 2045, 2046, 2047, 2048, 2049, 2050, 2051, 2052, 2053, 2054, 2055, 2100, 2120, 2124, 2125, 2126, 2127, 2128, 2129, 2130, 2131, 2132, 2133, 2134, 2135, 2136, 2137, 2180, 2200, 2206, 2207, 2208, 2209, 2210, 2211, 2212, 2213, 2214, 2215, 2216, 2217, 2218, 2219, 2260, 2280, 2289, 2290, 2291, 2292, 2293, 2294, 2295, 2296, 2297, 2298, 2299, 2300, 2340, 2360, 2371, 2372, 2373, 2374, 2375, 2376, 2377, 2378, 2379, 2380, 2381, 2382, 2420, 2440, 2454, 2455, 2456, 2457, 2458, 2459, 2460, 2461, 2462, 2463, 2464, 2500, 2520, 2536, 2537, 2538, 2539, 2540, 2541, 2542, 2543, 2544, 2545, 2546, 2580, 2600, 2618, 2619, 2620, 2621, 2622, 2623, 2624, 2625, 2626, 2627, 2660, 2680, 2701, 2702, 2703, 2704, 2705, 2706, 2707, 2708, 2709, 2740, 2760, 2783, 2784, 2785, 2786, 2787, 2788, 2789, 2790, 2791, 2820, 2840, 2866, 2867, 2868, 2869, 2870, 2871, 2872, 2873, 2900, 2920, 2948, 2949, 2950, 2951, 2952, 2953, 2954, 2980, 3000, 3030, 3031, 3032, 3033, 3034, 3035, 3036, 3060, 3080, 3113, 3114, 3115, 3116, 3117, 3118, 3140, 3160, 3195, 3196, 3197, 3198, 3199, 3200, 3220, 3240, 3278, 3279, 3280, 3281, 3300, 3360, 3361, 3362, 3363, 3380, 3443, 3444, 3445, 3460, 3525, 3526, 3540, 3607, 3608, 3620, 3690, 3700, 3772, 3780, 3854, 3860, 3936, 3940, 4018, 4019, 4020, 4099, 4100, 4101, 4180, 4181, 4182, 4183, 4260, 4263, 4264, 4265, 4266, 4340, 4345, 4346, 4347, 4348, 4420, 4427, 4428, 4429, 4430, 4431, 4500, 4508, 4509, 4510, 4511, 4512, 4513, 4580, 4590, 4591, 4592, 4593, 4594, 4595, 4660, 4672, 4673, 4674, 4675, 4676, 4677, 4678, 4740, 4753, 4754, 4755, 4756, 4757, 4758, 4759, 4760, 4820, 4835, 4836, 4837, 4838, 4839, 4840, 4841, 4842, 4843, 4900, 4917, 4918, 4919, 4920, 4921, 4922, 4923, 4924, 4925, 4980, 4999, 5000, 5001, 5002, 5003, 5004, 5005, 5006, 5007, 5060, 5080, 5081, 5082, 5083, 5084, 5085, 5086, 5087, 5088, 5089, 5090, 5140, 5162, 5163, 5164, 5165, 5166, 5167, 5168, 5169, 5170, 5171, 5172, 5220, 5244, 5245, 5246, 5247, 5248, 5249, 5250, 5251, 5252, 5253, 5254, 5255, 5300, 5326, 5327, 5328, 5329, 5330, 5331, 5332, 5333, 5334, 5335, 5336, 5337, 5380, 5407, 5408, 5409, 5410, 5411, 5412, 5413, 5414, 5415, 5416, 5417, 5418, 5419, 5420, 5460, 5489, 5490, 5491, 5492, 5493, 5494, 5495, 5496, 5497, 5498, 5499, 5500, 5501, 5502, 5540, 5571, 5572, 5573, 5574, 5575, 5576, 5577, 5578, 5579, 5580, 5581, 5582, 5583, 5584, 5620, 5653, 5654, 5655, 5656, 5657, 5658, 5659, 5660, 5661, 5662, 5663, 5664, 5665, 5666, 5667, 5700, 5734, 5735, 5736, 5737, 5738, 5739, 5740, 5741, 5742, 5743, 5744, 5745, 5746, 5747, 5748, 5749, 5780, 5816, 5817, 5818, 5819, 5820, 5821, 5822, 5823, 5824, 5825, 5826, 5827, 5828, 5829, 5830, 5831, 5860, 5898, 5899, 5900, 5901, 5902, 5903, 5904, 5905, 5906, 5907, 5908, 5909, 5910, 5911, 5912, 5940, 5979, 5980, 5981, 5982, 5983, 5984, 5985, 5986, 5987, 5988, 5989, 5990, 5991, 5992, 5993, 6020, 6061, 6062, 6063, 6064, 6065, 6066, 6067, 6068, 6069, 6070, 6071, 6072, 6073, 6074, 6100, 6143, 6144, 6145, 6146, 6147, 6148, 6149, 6150, 6151, 6152, 6153, 6154, 6155, 6180, 6225, 6226, 6227, 6228, 6229, 6230, 6231, 6232, 6233, 6234, 6235, 6236, 6260, 6306, 6307, 6308, 6309, 6310, 6311, 6312, 6313, 6314, 6315, 6316, 6317, 6340, 6388, 6389, 6390, 6391, 6392, 6393, 6394, 6395, 6396, 6397, 6398, 6420, 6470, 6471, 6472, 6473, 6474, 6475, 6476, 6477, 6478, 6479, 6500, 6552, 6553, 6554, 6555, 6556, 6557, 6558, 6559, 6560]\n",
      "CPU times: user 173 ms, sys: 300 ms, total: 473 ms\n",
      "Wall time: 475 ms\n"
     ]
    }
   ],
   "source": [
    "%%time\n",
    "n_total = len(simulation.dataframe)\n",
    "n_train = len(simulation.dataframe[simulation.dataframe.type_of == \"train\"])\n",
    "n_val = len(simulation.dataframe[simulation.dataframe.type_of == \"val\"])\n",
    "n_test = len(simulation.dataframe[simulation.dataframe.type_of == \"test\"])\n",
    "n_train_hamiltonians = len(simulation.train_ids)\n",
    "n_val_hamiltonians = len(simulation.val_ids)\n",
    "n_test_hamiltonians = len(simulation.test_ids)\n",
    "n_total_hamiltonians = n_train_hamiltonians + n_val_hamiltonians + n_test_hamiltonians\n",
    "\n",
    "print(\"% train: \", n_train/n_total)\n",
    "print(\"% val: \",  n_val/n_total)\n",
    "print(\"% test: \", n_test/n_total)\n",
    "print(\"% train + val + test: \", (n_train+n_val+n_test)/n_total)\n",
    "print(\"\\n\")\n",
    "print(\"number of train hamiltonians: \", n_train_hamiltonians)\n",
    "print(\"number of val hamiltonians: \", n_val_hamiltonians)\n",
    "print(\"number of test hamiltonians: \", n_test_hamiltonians)\n",
    "print(\"total number of hamiltonians: \", n_total_hamiltonians)\n",
    "print(\"\\n\")\n",
    "print(\"train ids: \", simulation.train_ids)\n",
    "print(\"val ids: \", simulation.val_ids)\n",
    "print(\"test ids: \", simulation.test_ids)"
   ]
  },
  {
   "cell_type": "markdown",
   "metadata": {
    "papermill": {
     "duration": 0.037305,
     "end_time": "2020-07-18T16:54:08.225453",
     "exception": false,
     "start_time": "2020-07-18T16:54:08.188148",
     "status": "completed"
    },
    "tags": []
   },
   "source": [
    "#### Checking summaries"
   ]
  },
  {
   "cell_type": "code",
   "execution_count": 31,
   "metadata": {
    "execution": {
     "iopub.execute_input": "2020-07-18T16:54:08.301515Z",
     "iopub.status.busy": "2020-07-18T16:54:08.301197Z",
     "iopub.status.idle": "2020-07-18T16:54:08.320996Z",
     "shell.execute_reply": "2020-07-18T16:54:08.320677Z"
    },
    "papermill": {
     "duration": 0.058264,
     "end_time": "2020-07-18T16:54:08.321048",
     "exception": false,
     "start_time": "2020-07-18T16:54:08.262784",
     "status": "completed"
    },
    "tags": []
   },
   "outputs": [
    {
     "name": "stdout",
     "output_type": "stream",
     "text": [
      "length of ham_summary:  6561\n",
      "CPU times: user 86 µs, sys: 0 ns, total: 86 µs\n",
      "Wall time: 55.6 µs\n"
     ]
    },
    {
     "data": {
      "text/html": [
       "<div>\n",
       "<style scoped>\n",
       "    .dataframe tbody tr th:only-of-type {\n",
       "        vertical-align: middle;\n",
       "    }\n",
       "\n",
       "    .dataframe tbody tr th {\n",
       "        vertical-align: top;\n",
       "    }\n",
       "\n",
       "    .dataframe thead th {\n",
       "        text-align: right;\n",
       "    }\n",
       "</style>\n",
       "<table border=\"1\" class=\"dataframe\">\n",
       "  <thead>\n",
       "    <tr style=\"text-align: right;\">\n",
       "      <th></th>\n",
       "      <th>t1</th>\n",
       "      <th>t2</th>\n",
       "      <th>type_of</th>\n",
       "      <th>-1</th>\n",
       "      <th>0</th>\n",
       "      <th>1</th>\n",
       "      <th>2</th>\n",
       "      <th>phase</th>\n",
       "      <th>pred_phase</th>\n",
       "    </tr>\n",
       "    <tr>\n",
       "      <th>id</th>\n",
       "      <th></th>\n",
       "      <th></th>\n",
       "      <th></th>\n",
       "      <th></th>\n",
       "      <th></th>\n",
       "      <th></th>\n",
       "      <th></th>\n",
       "      <th></th>\n",
       "      <th></th>\n",
       "    </tr>\n",
       "  </thead>\n",
       "  <tbody>\n",
       "    <tr>\n",
       "      <th>0</th>\n",
       "      <td>-2.0</td>\n",
       "      <td>-2.00</td>\n",
       "      <td>test</td>\n",
       "      <td>0.06</td>\n",
       "      <td>0.52</td>\n",
       "      <td>0.22</td>\n",
       "      <td>0.20</td>\n",
       "      <td>999</td>\n",
       "      <td>0</td>\n",
       "    </tr>\n",
       "    <tr>\n",
       "      <th>1</th>\n",
       "      <td>-2.0</td>\n",
       "      <td>-1.95</td>\n",
       "      <td>test</td>\n",
       "      <td>0.09</td>\n",
       "      <td>0.50</td>\n",
       "      <td>0.27</td>\n",
       "      <td>0.14</td>\n",
       "      <td>-1</td>\n",
       "      <td>0</td>\n",
       "    </tr>\n",
       "    <tr>\n",
       "      <th>2</th>\n",
       "      <td>-2.0</td>\n",
       "      <td>-1.90</td>\n",
       "      <td>test</td>\n",
       "      <td>0.07</td>\n",
       "      <td>0.54</td>\n",
       "      <td>0.28</td>\n",
       "      <td>0.11</td>\n",
       "      <td>-1</td>\n",
       "      <td>0</td>\n",
       "    </tr>\n",
       "    <tr>\n",
       "      <th>3</th>\n",
       "      <td>-2.0</td>\n",
       "      <td>-1.85</td>\n",
       "      <td>test</td>\n",
       "      <td>0.08</td>\n",
       "      <td>0.55</td>\n",
       "      <td>0.27</td>\n",
       "      <td>0.10</td>\n",
       "      <td>-1</td>\n",
       "      <td>0</td>\n",
       "    </tr>\n",
       "    <tr>\n",
       "      <th>4</th>\n",
       "      <td>-2.0</td>\n",
       "      <td>-1.80</td>\n",
       "      <td>test</td>\n",
       "      <td>0.18</td>\n",
       "      <td>0.44</td>\n",
       "      <td>0.31</td>\n",
       "      <td>0.07</td>\n",
       "      <td>-1</td>\n",
       "      <td>0</td>\n",
       "    </tr>\n",
       "    <tr>\n",
       "      <th>...</th>\n",
       "      <td>...</td>\n",
       "      <td>...</td>\n",
       "      <td>...</td>\n",
       "      <td>...</td>\n",
       "      <td>...</td>\n",
       "      <td>...</td>\n",
       "      <td>...</td>\n",
       "      <td>...</td>\n",
       "      <td>...</td>\n",
       "    </tr>\n",
       "    <tr>\n",
       "      <th>6556</th>\n",
       "      <td>2.0</td>\n",
       "      <td>1.80</td>\n",
       "      <td>test</td>\n",
       "      <td>0.24</td>\n",
       "      <td>0.25</td>\n",
       "      <td>0.18</td>\n",
       "      <td>0.33</td>\n",
       "      <td>-1</td>\n",
       "      <td>2</td>\n",
       "    </tr>\n",
       "    <tr>\n",
       "      <th>6557</th>\n",
       "      <td>2.0</td>\n",
       "      <td>1.85</td>\n",
       "      <td>test</td>\n",
       "      <td>0.22</td>\n",
       "      <td>0.30</td>\n",
       "      <td>0.18</td>\n",
       "      <td>0.30</td>\n",
       "      <td>-1</td>\n",
       "      <td>2</td>\n",
       "    </tr>\n",
       "    <tr>\n",
       "      <th>6558</th>\n",
       "      <td>2.0</td>\n",
       "      <td>1.90</td>\n",
       "      <td>test</td>\n",
       "      <td>0.18</td>\n",
       "      <td>0.29</td>\n",
       "      <td>0.16</td>\n",
       "      <td>0.37</td>\n",
       "      <td>-1</td>\n",
       "      <td>2</td>\n",
       "    </tr>\n",
       "    <tr>\n",
       "      <th>6559</th>\n",
       "      <td>2.0</td>\n",
       "      <td>1.95</td>\n",
       "      <td>test</td>\n",
       "      <td>0.15</td>\n",
       "      <td>0.34</td>\n",
       "      <td>0.14</td>\n",
       "      <td>0.37</td>\n",
       "      <td>-1</td>\n",
       "      <td>2</td>\n",
       "    </tr>\n",
       "    <tr>\n",
       "      <th>6560</th>\n",
       "      <td>2.0</td>\n",
       "      <td>2.00</td>\n",
       "      <td>test</td>\n",
       "      <td>0.15</td>\n",
       "      <td>0.36</td>\n",
       "      <td>0.16</td>\n",
       "      <td>0.33</td>\n",
       "      <td>999</td>\n",
       "      <td>0</td>\n",
       "    </tr>\n",
       "  </tbody>\n",
       "</table>\n",
       "<p>6561 rows × 9 columns</p>\n",
       "</div>"
      ],
      "text/plain": [
       "       t1    t2 type_of    -1     0     1     2  phase  pred_phase\n",
       "id                                                                \n",
       "0    -2.0 -2.00    test  0.06  0.52  0.22  0.20    999           0\n",
       "1    -2.0 -1.95    test  0.09  0.50  0.27  0.14     -1           0\n",
       "2    -2.0 -1.90    test  0.07  0.54  0.28  0.11     -1           0\n",
       "3    -2.0 -1.85    test  0.08  0.55  0.27  0.10     -1           0\n",
       "4    -2.0 -1.80    test  0.18  0.44  0.31  0.07     -1           0\n",
       "...   ...   ...     ...   ...   ...   ...   ...    ...         ...\n",
       "6556  2.0  1.80    test  0.24  0.25  0.18  0.33     -1           2\n",
       "6557  2.0  1.85    test  0.22  0.30  0.18  0.30     -1           2\n",
       "6558  2.0  1.90    test  0.18  0.29  0.16  0.37     -1           2\n",
       "6559  2.0  1.95    test  0.15  0.34  0.14  0.37     -1           2\n",
       "6560  2.0  2.00    test  0.15  0.36  0.16  0.33    999           0\n",
       "\n",
       "[6561 rows x 9 columns]"
      ]
     },
     "execution_count": 31,
     "metadata": {},
     "output_type": "execute_result"
    }
   ],
   "source": [
    "%%time\n",
    "ham_summary = simulation.hamiltonian_summary\n",
    "print(\"length of ham_summary: \", len(ham_summary))\n",
    "ham_summary"
   ]
  },
  {
   "cell_type": "code",
   "execution_count": 32,
   "metadata": {
    "execution": {
     "iopub.execute_input": "2020-07-18T16:54:08.399909Z",
     "iopub.status.busy": "2020-07-18T16:54:08.399571Z",
     "iopub.status.idle": "2020-07-18T16:54:08.462121Z",
     "shell.execute_reply": "2020-07-18T16:54:08.461800Z"
    },
    "papermill": {
     "duration": 0.10271,
     "end_time": "2020-07-18T16:54:08.462172",
     "exception": false,
     "start_time": "2020-07-18T16:54:08.359462",
     "status": "completed"
    },
    "tags": []
   },
   "outputs": [
    {
     "data": {
      "text/html": [
       "<div>\n",
       "<style scoped>\n",
       "    .dataframe tbody tr th:only-of-type {\n",
       "        vertical-align: middle;\n",
       "    }\n",
       "\n",
       "    .dataframe tbody tr th {\n",
       "        vertical-align: top;\n",
       "    }\n",
       "\n",
       "    .dataframe thead th {\n",
       "        text-align: right;\n",
       "    }\n",
       "</style>\n",
       "<table border=\"1\" class=\"dataframe\">\n",
       "  <thead>\n",
       "    <tr style=\"text-align: right;\">\n",
       "      <th></th>\n",
       "      <th>t1</th>\n",
       "      <th>t2</th>\n",
       "      <th>-1</th>\n",
       "      <th>0</th>\n",
       "      <th>1</th>\n",
       "      <th>2</th>\n",
       "      <th>phase</th>\n",
       "      <th>pred_phase</th>\n",
       "    </tr>\n",
       "  </thead>\n",
       "  <tbody>\n",
       "    <tr>\n",
       "      <th>count</th>\n",
       "      <td>6561.000000</td>\n",
       "      <td>6.561000e+03</td>\n",
       "      <td>6561.000000</td>\n",
       "      <td>6561.000000</td>\n",
       "      <td>6561.000000</td>\n",
       "      <td>6561.000000</td>\n",
       "      <td>6561.000000</td>\n",
       "      <td>6561.000000</td>\n",
       "    </tr>\n",
       "    <tr>\n",
       "      <th>mean</th>\n",
       "      <td>0.000000</td>\n",
       "      <td>-4.331917e-18</td>\n",
       "      <td>0.181145</td>\n",
       "      <td>0.325240</td>\n",
       "      <td>0.320332</td>\n",
       "      <td>0.173283</td>\n",
       "      <td>28.045877</td>\n",
       "      <td>0.487121</td>\n",
       "    </tr>\n",
       "    <tr>\n",
       "      <th>std</th>\n",
       "      <td>1.169134</td>\n",
       "      <td>1.169134e+00</td>\n",
       "      <td>0.335348</td>\n",
       "      <td>0.412712</td>\n",
       "      <td>0.414581</td>\n",
       "      <td>0.330225</td>\n",
       "      <td>163.557011</td>\n",
       "      <td>0.995352</td>\n",
       "    </tr>\n",
       "    <tr>\n",
       "      <th>min</th>\n",
       "      <td>-2.000000</td>\n",
       "      <td>-2.000000e+00</td>\n",
       "      <td>0.000000</td>\n",
       "      <td>0.000000</td>\n",
       "      <td>0.000000</td>\n",
       "      <td>0.000000</td>\n",
       "      <td>-1.000000</td>\n",
       "      <td>-1.000000</td>\n",
       "    </tr>\n",
       "    <tr>\n",
       "      <th>25%</th>\n",
       "      <td>-1.000000</td>\n",
       "      <td>-1.000000e+00</td>\n",
       "      <td>0.000000</td>\n",
       "      <td>0.000000</td>\n",
       "      <td>0.000000</td>\n",
       "      <td>0.000000</td>\n",
       "      <td>0.000000</td>\n",
       "      <td>0.000000</td>\n",
       "    </tr>\n",
       "    <tr>\n",
       "      <th>50%</th>\n",
       "      <td>0.000000</td>\n",
       "      <td>0.000000e+00</td>\n",
       "      <td>0.010000</td>\n",
       "      <td>0.060000</td>\n",
       "      <td>0.060000</td>\n",
       "      <td>0.010000</td>\n",
       "      <td>1.000000</td>\n",
       "      <td>0.000000</td>\n",
       "    </tr>\n",
       "    <tr>\n",
       "      <th>75%</th>\n",
       "      <td>1.000000</td>\n",
       "      <td>1.000000e+00</td>\n",
       "      <td>0.120000</td>\n",
       "      <td>0.890000</td>\n",
       "      <td>0.900000</td>\n",
       "      <td>0.080000</td>\n",
       "      <td>1.000000</td>\n",
       "      <td>1.000000</td>\n",
       "    </tr>\n",
       "    <tr>\n",
       "      <th>max</th>\n",
       "      <td>2.000000</td>\n",
       "      <td>2.000000e+00</td>\n",
       "      <td>1.000000</td>\n",
       "      <td>1.000000</td>\n",
       "      <td>1.000000</td>\n",
       "      <td>1.000000</td>\n",
       "      <td>999.000000</td>\n",
       "      <td>2.000000</td>\n",
       "    </tr>\n",
       "  </tbody>\n",
       "</table>\n",
       "</div>"
      ],
      "text/plain": [
       "                t1            t2           -1            0            1  \\\n",
       "count  6561.000000  6.561000e+03  6561.000000  6561.000000  6561.000000   \n",
       "mean      0.000000 -4.331917e-18     0.181145     0.325240     0.320332   \n",
       "std       1.169134  1.169134e+00     0.335348     0.412712     0.414581   \n",
       "min      -2.000000 -2.000000e+00     0.000000     0.000000     0.000000   \n",
       "25%      -1.000000 -1.000000e+00     0.000000     0.000000     0.000000   \n",
       "50%       0.000000  0.000000e+00     0.010000     0.060000     0.060000   \n",
       "75%       1.000000  1.000000e+00     0.120000     0.890000     0.900000   \n",
       "max       2.000000  2.000000e+00     1.000000     1.000000     1.000000   \n",
       "\n",
       "                 2        phase   pred_phase  \n",
       "count  6561.000000  6561.000000  6561.000000  \n",
       "mean      0.173283    28.045877     0.487121  \n",
       "std       0.330225   163.557011     0.995352  \n",
       "min       0.000000    -1.000000    -1.000000  \n",
       "25%       0.000000     0.000000     0.000000  \n",
       "50%       0.010000     1.000000     0.000000  \n",
       "75%       0.080000     1.000000     1.000000  \n",
       "max       1.000000   999.000000     2.000000  "
      ]
     },
     "execution_count": 32,
     "metadata": {},
     "output_type": "execute_result"
    }
   ],
   "source": [
    "ham_summary.describe()"
   ]
  },
  {
   "cell_type": "code",
   "execution_count": 33,
   "metadata": {
    "execution": {
     "iopub.execute_input": "2020-07-18T16:54:08.540822Z",
     "iopub.status.busy": "2020-07-18T16:54:08.540508Z",
     "iopub.status.idle": "2020-07-18T16:54:08.555287Z",
     "shell.execute_reply": "2020-07-18T16:54:08.554968Z"
    },
    "papermill": {
     "duration": 0.054557,
     "end_time": "2020-07-18T16:54:08.555337",
     "exception": false,
     "start_time": "2020-07-18T16:54:08.500780",
     "status": "completed"
    },
    "tags": []
   },
   "outputs": [
    {
     "name": "stdout",
     "output_type": "stream",
     "text": [
      "length of ham_summary:  656100\n"
     ]
    },
    {
     "data": {
      "text/html": [
       "<div>\n",
       "<style scoped>\n",
       "    .dataframe tbody tr th:only-of-type {\n",
       "        vertical-align: middle;\n",
       "    }\n",
       "\n",
       "    .dataframe tbody tr th {\n",
       "        vertical-align: top;\n",
       "    }\n",
       "\n",
       "    .dataframe thead th {\n",
       "        text-align: right;\n",
       "    }\n",
       "</style>\n",
       "<table border=\"1\" class=\"dataframe\">\n",
       "  <thead>\n",
       "    <tr style=\"text-align: right;\">\n",
       "      <th></th>\n",
       "      <th>id</th>\n",
       "      <th>phase</th>\n",
       "      <th>pred_phase</th>\n",
       "      <th>type_of</th>\n",
       "    </tr>\n",
       "  </thead>\n",
       "  <tbody>\n",
       "    <tr>\n",
       "      <th>0</th>\n",
       "      <td>0</td>\n",
       "      <td>999</td>\n",
       "      <td>2</td>\n",
       "      <td>test</td>\n",
       "    </tr>\n",
       "    <tr>\n",
       "      <th>1</th>\n",
       "      <td>0</td>\n",
       "      <td>999</td>\n",
       "      <td>0</td>\n",
       "      <td>test</td>\n",
       "    </tr>\n",
       "    <tr>\n",
       "      <th>2</th>\n",
       "      <td>0</td>\n",
       "      <td>999</td>\n",
       "      <td>1</td>\n",
       "      <td>test</td>\n",
       "    </tr>\n",
       "    <tr>\n",
       "      <th>3</th>\n",
       "      <td>0</td>\n",
       "      <td>999</td>\n",
       "      <td>1</td>\n",
       "      <td>test</td>\n",
       "    </tr>\n",
       "    <tr>\n",
       "      <th>4</th>\n",
       "      <td>0</td>\n",
       "      <td>999</td>\n",
       "      <td>1</td>\n",
       "      <td>test</td>\n",
       "    </tr>\n",
       "    <tr>\n",
       "      <th>...</th>\n",
       "      <td>...</td>\n",
       "      <td>...</td>\n",
       "      <td>...</td>\n",
       "      <td>...</td>\n",
       "    </tr>\n",
       "    <tr>\n",
       "      <th>656095</th>\n",
       "      <td>6560</td>\n",
       "      <td>999</td>\n",
       "      <td>-1</td>\n",
       "      <td>test</td>\n",
       "    </tr>\n",
       "    <tr>\n",
       "      <th>656096</th>\n",
       "      <td>6560</td>\n",
       "      <td>999</td>\n",
       "      <td>0</td>\n",
       "      <td>test</td>\n",
       "    </tr>\n",
       "    <tr>\n",
       "      <th>656097</th>\n",
       "      <td>6560</td>\n",
       "      <td>999</td>\n",
       "      <td>0</td>\n",
       "      <td>test</td>\n",
       "    </tr>\n",
       "    <tr>\n",
       "      <th>656098</th>\n",
       "      <td>6560</td>\n",
       "      <td>999</td>\n",
       "      <td>1</td>\n",
       "      <td>test</td>\n",
       "    </tr>\n",
       "    <tr>\n",
       "      <th>656099</th>\n",
       "      <td>6560</td>\n",
       "      <td>999</td>\n",
       "      <td>1</td>\n",
       "      <td>test</td>\n",
       "    </tr>\n",
       "  </tbody>\n",
       "</table>\n",
       "<p>656100 rows × 4 columns</p>\n",
       "</div>"
      ],
      "text/plain": [
       "          id  phase  pred_phase type_of\n",
       "0          0    999           2    test\n",
       "1          0    999           0    test\n",
       "2          0    999           1    test\n",
       "3          0    999           1    test\n",
       "4          0    999           1    test\n",
       "...      ...    ...         ...     ...\n",
       "656095  6560    999          -1    test\n",
       "656096  6560    999           0    test\n",
       "656097  6560    999           0    test\n",
       "656098  6560    999           1    test\n",
       "656099  6560    999           1    test\n",
       "\n",
       "[656100 rows x 4 columns]"
      ]
     },
     "execution_count": 33,
     "metadata": {},
     "output_type": "execute_result"
    }
   ],
   "source": [
    "eigen_summary = simulation.eigenvector_summary\n",
    "print(\"length of ham_summary: \", len(eigen_summary))\n",
    "eigen_summary"
   ]
  },
  {
   "cell_type": "markdown",
   "metadata": {
    "papermill": {
     "duration": 0.037679,
     "end_time": "2020-07-18T16:54:08.630524",
     "exception": false,
     "start_time": "2020-07-18T16:54:08.592845",
     "status": "completed"
    },
    "tags": []
   },
   "source": [
    "#### Checking accuracies"
   ]
  },
  {
   "cell_type": "code",
   "execution_count": 34,
   "metadata": {
    "execution": {
     "iopub.execute_input": "2020-07-18T16:54:08.709326Z",
     "iopub.status.busy": "2020-07-18T16:54:08.708832Z",
     "iopub.status.idle": "2020-07-18T16:54:08.719583Z",
     "shell.execute_reply": "2020-07-18T16:54:08.719263Z"
    },
    "papermill": {
     "duration": 0.051083,
     "end_time": "2020-07-18T16:54:08.719634",
     "exception": false,
     "start_time": "2020-07-18T16:54:08.668551",
     "status": "completed"
    },
    "tags": []
   },
   "outputs": [
    {
     "data": {
      "text/plain": [
       "{'eigenvector_train': 0.9994458529518291,\n",
       " 'eigenvector_val': 0.899018115942029,\n",
       " 'eigenvector_test': 0.49308498253783467,\n",
       " 'hamiltonian_train': 1.0,\n",
       " 'hamiltonian_val': 0.9945652173913043,\n",
       " 'hamiltonian_test': 0.729918509895227}"
      ]
     },
     "execution_count": 34,
     "metadata": {},
     "output_type": "execute_result"
    }
   ],
   "source": [
    "simulation.accuracy"
   ]
  },
  {
   "cell_type": "markdown",
   "metadata": {
    "papermill": {
     "duration": 0.03737,
     "end_time": "2020-07-18T16:54:08.794797",
     "exception": false,
     "start_time": "2020-07-18T16:54:08.757427",
     "status": "completed"
    },
    "tags": []
   },
   "source": [
    "#### Checking data stored in  memory"
   ]
  },
  {
   "cell_type": "code",
   "execution_count": 35,
   "metadata": {
    "execution": {
     "iopub.execute_input": "2020-07-18T16:54:08.874874Z",
     "iopub.status.busy": "2020-07-18T16:54:08.874379Z",
     "iopub.status.idle": "2020-07-18T16:54:08.884969Z",
     "shell.execute_reply": "2020-07-18T16:54:08.884651Z"
    },
    "papermill": {
     "duration": 0.051891,
     "end_time": "2020-07-18T16:54:08.885019",
     "exception": false,
     "start_time": "2020-07-18T16:54:08.833128",
     "status": "completed"
    },
    "tags": []
   },
   "outputs": [
    {
     "data": {
      "text/plain": [
       "[]"
      ]
     },
     "execution_count": 35,
     "metadata": {},
     "output_type": "execute_result"
    }
   ],
   "source": [
    "ham_summary_list = simulation.hamiltonian_summary_list\n",
    "ham_summary_list"
   ]
  },
  {
   "cell_type": "code",
   "execution_count": 36,
   "metadata": {
    "execution": {
     "iopub.execute_input": "2020-07-18T16:54:08.962799Z",
     "iopub.status.busy": "2020-07-18T16:54:08.962305Z",
     "iopub.status.idle": "2020-07-18T16:54:08.972915Z",
     "shell.execute_reply": "2020-07-18T16:54:08.972601Z"
    },
    "papermill": {
     "duration": 0.050187,
     "end_time": "2020-07-18T16:54:08.972965",
     "exception": false,
     "start_time": "2020-07-18T16:54:08.922778",
     "status": "completed"
    },
    "tags": []
   },
   "outputs": [
    {
     "data": {
      "text/plain": [
       "[]"
      ]
     },
     "execution_count": 36,
     "metadata": {},
     "output_type": "execute_result"
    }
   ],
   "source": [
    "eigen_summary_list = simulation.eigenvector_summary_list\n",
    "eigen_summary_list"
   ]
  },
  {
   "cell_type": "code",
   "execution_count": 37,
   "metadata": {
    "execution": {
     "iopub.execute_input": "2020-07-18T16:54:09.053722Z",
     "iopub.status.busy": "2020-07-18T16:54:09.053227Z",
     "iopub.status.idle": "2020-07-18T16:54:09.064037Z",
     "shell.execute_reply": "2020-07-18T16:54:09.063718Z"
    },
    "papermill": {
     "duration": 0.051775,
     "end_time": "2020-07-18T16:54:09.064088",
     "exception": false,
     "start_time": "2020-07-18T16:54:09.012313",
     "status": "completed"
    },
    "tags": []
   },
   "outputs": [
    {
     "data": {
      "text/plain": [
       "{'eigenvector_train': [],\n",
       " 'eigenvector_val': [],\n",
       " 'eigenvector_test': [],\n",
       " 'hamiltonian_train': [],\n",
       " 'hamiltonian_val': [],\n",
       " 'hamiltonian_test': []}"
      ]
     },
     "execution_count": 37,
     "metadata": {},
     "output_type": "execute_result"
    }
   ],
   "source": [
    "accuracy_list = simulation.accuracy_list\n",
    "accuracy_list"
   ]
  },
  {
   "cell_type": "code",
   "execution_count": null,
   "metadata": {
    "papermill": {
     "duration": 0.038029,
     "end_time": "2020-07-18T16:54:09.140427",
     "exception": false,
     "start_time": "2020-07-18T16:54:09.102398",
     "status": "completed"
    },
    "tags": []
   },
   "outputs": [],
   "source": []
  },
  {
   "cell_type": "code",
   "execution_count": null,
   "metadata": {
    "papermill": {
     "duration": 0.038633,
     "end_time": "2020-07-18T16:54:09.217803",
     "exception": false,
     "start_time": "2020-07-18T16:54:09.179170",
     "status": "completed"
    },
    "tags": []
   },
   "outputs": [],
   "source": []
  },
  {
   "cell_type": "code",
   "execution_count": 38,
   "metadata": {
    "execution": {
     "iopub.execute_input": "2020-07-18T16:54:09.296712Z",
     "iopub.status.busy": "2020-07-18T16:54:09.296213Z",
     "iopub.status.idle": "2020-07-18T16:54:09.305720Z",
     "shell.execute_reply": "2020-07-18T16:54:09.306027Z"
    },
    "papermill": {
     "duration": 0.050195,
     "end_time": "2020-07-18T16:54:09.306092",
     "exception": false,
     "start_time": "2020-07-18T16:54:09.255897",
     "status": "completed"
    },
    "tags": []
   },
   "outputs": [],
   "source": [
    "#simulation.fourier_matrix"
   ]
  },
  {
   "cell_type": "code",
   "execution_count": 39,
   "metadata": {
    "execution": {
     "iopub.execute_input": "2020-07-18T16:54:09.386259Z",
     "iopub.status.busy": "2020-07-18T16:54:09.385766Z",
     "iopub.status.idle": "2020-07-18T16:54:09.395633Z",
     "shell.execute_reply": "2020-07-18T16:54:09.395306Z"
    },
    "papermill": {
     "duration": 0.050645,
     "end_time": "2020-07-18T16:54:09.395685",
     "exception": false,
     "start_time": "2020-07-18T16:54:09.345040",
     "status": "completed"
    },
    "tags": []
   },
   "outputs": [],
   "source": [
    "#simulation.fourier_matrix.shape"
   ]
  },
  {
   "cell_type": "code",
   "execution_count": 40,
   "metadata": {
    "execution": {
     "iopub.execute_input": "2020-07-18T16:54:09.475519Z",
     "iopub.status.busy": "2020-07-18T16:54:09.475029Z",
     "iopub.status.idle": "2020-07-18T16:54:09.484935Z",
     "shell.execute_reply": "2020-07-18T16:54:09.484604Z"
    },
    "papermill": {
     "duration": 0.05069,
     "end_time": "2020-07-18T16:54:09.484988",
     "exception": false,
     "start_time": "2020-07-18T16:54:09.434298",
     "status": "completed"
    },
    "tags": []
   },
   "outputs": [],
   "source": [
    "#simulation.fourier_matrix[:,0]"
   ]
  },
  {
   "cell_type": "code",
   "execution_count": 41,
   "metadata": {
    "execution": {
     "iopub.execute_input": "2020-07-18T16:54:09.565295Z",
     "iopub.status.busy": "2020-07-18T16:54:09.564801Z",
     "iopub.status.idle": "2020-07-18T16:54:09.574846Z",
     "shell.execute_reply": "2020-07-18T16:54:09.574520Z"
    },
    "papermill": {
     "duration": 0.050878,
     "end_time": "2020-07-18T16:54:09.574899",
     "exception": false,
     "start_time": "2020-07-18T16:54:09.524021",
     "status": "completed"
    },
    "tags": []
   },
   "outputs": [],
   "source": [
    "#simulation.fourier_matrix[:,1]"
   ]
  },
  {
   "cell_type": "code",
   "execution_count": 42,
   "metadata": {
    "execution": {
     "iopub.execute_input": "2020-07-18T16:54:09.653468Z",
     "iopub.status.busy": "2020-07-18T16:54:09.653158Z",
     "iopub.status.idle": "2020-07-18T16:54:09.662908Z",
     "shell.execute_reply": "2020-07-18T16:54:09.662579Z"
    },
    "papermill": {
     "duration": 0.049724,
     "end_time": "2020-07-18T16:54:09.662959",
     "exception": false,
     "start_time": "2020-07-18T16:54:09.613235",
     "status": "completed"
    },
    "tags": []
   },
   "outputs": [],
   "source": [
    "#np.exp(-1j*2*np.pi*3/100)"
   ]
  },
  {
   "cell_type": "code",
   "execution_count": 43,
   "metadata": {
    "execution": {
     "iopub.execute_input": "2020-07-18T16:54:09.743152Z",
     "iopub.status.busy": "2020-07-18T16:54:09.742760Z",
     "iopub.status.idle": "2020-07-18T16:54:09.752651Z",
     "shell.execute_reply": "2020-07-18T16:54:09.752307Z"
    },
    "papermill": {
     "duration": 0.050739,
     "end_time": "2020-07-18T16:54:09.752704",
     "exception": false,
     "start_time": "2020-07-18T16:54:09.701965",
     "status": "completed"
    },
    "tags": []
   },
   "outputs": [],
   "source": [
    "#for i in range(1,50):\n",
    "#    print(\"\\n\")\n",
    "#    print(i)\n",
    "#    print(np.sum((np.real(simulation.fourier_matrix[:,i]) - np.real(simulation.fourier_matrix[:,-i]))**2))\n",
    "#    print(np.sum((np.imag(simulation.fourier_matrix[:,i])+ np.imag(simulation.fourier_matrix[:,-i]))**2))"
   ]
  },
  {
   "cell_type": "code",
   "execution_count": 44,
   "metadata": {
    "execution": {
     "iopub.execute_input": "2020-07-18T16:54:09.831540Z",
     "iopub.status.busy": "2020-07-18T16:54:09.831231Z",
     "iopub.status.idle": "2020-07-18T16:54:09.859586Z",
     "shell.execute_reply": "2020-07-18T16:54:09.859256Z"
    },
    "papermill": {
     "duration": 0.068445,
     "end_time": "2020-07-18T16:54:09.859640",
     "exception": false,
     "start_time": "2020-07-18T16:54:09.791195",
     "status": "completed"
    },
    "tags": []
   },
   "outputs": [],
   "source": [
    "#print(simulation.fourier_matrix[:,0])"
   ]
  },
  {
   "cell_type": "code",
   "execution_count": 45,
   "metadata": {
    "execution": {
     "iopub.execute_input": "2020-07-18T16:54:09.940255Z",
     "iopub.status.busy": "2020-07-18T16:54:09.939949Z",
     "iopub.status.idle": "2020-07-18T16:54:09.949362Z",
     "shell.execute_reply": "2020-07-18T16:54:09.949618Z"
    },
    "papermill": {
     "duration": 0.050626,
     "end_time": "2020-07-18T16:54:09.949689",
     "exception": false,
     "start_time": "2020-07-18T16:54:09.899063",
     "status": "completed"
    },
    "tags": []
   },
   "outputs": [],
   "source": [
    "#print(simulation.fourier_matrix[:,50])"
   ]
  },
  {
   "cell_type": "code",
   "execution_count": null,
   "metadata": {
    "papermill": {
     "duration": 0.03793,
     "end_time": "2020-07-18T16:54:10.025945",
     "exception": false,
     "start_time": "2020-07-18T16:54:09.988015",
     "status": "completed"
    },
    "tags": []
   },
   "outputs": [],
   "source": []
  }
 ],
 "metadata": {
  "celltoolbar": "Tags",
  "kernelspec": {
   "display_name": "ml_top_phases",
   "language": "python",
   "name": "ml_top_phases"
  },
  "language_info": {
   "codemirror_mode": {
    "name": "ipython",
    "version": 3
   },
   "file_extension": ".py",
   "mimetype": "text/x-python",
   "name": "python",
   "nbconvert_exporter": "python",
   "pygments_lexer": "ipython3",
   "version": "3.6.10"
  },
  "papermill": {
   "duration": 1607.972581,
   "end_time": "2020-07-18T16:54:10.593305",
   "environment_variables": {},
   "exception": null,
   "input_path": "0_simulation_template.ipynb",
   "output_path": "zzz_ssh2_dct_best_12_wavevector_sites_from_best_12_real_space_sites_simulation_notebook.ipynb",
   "parameters": {
    "allowed_windings": [
     -1,
     0,
     1,
     2
    ],
    "csv_path": "/home/rio/ssh_csvs/ssh2/periodic_100_6561.csv",
    "features_to_use": [
     0,
     1,
     2,
     3,
     4,
     5,
     6,
     7,
     46,
     48,
     49,
     50
    ],
    "fit_params": null,
    "fourier_features_to_use": [
     0,
     1,
     2,
     3,
     4,
     5,
     6,
     7,
     47,
     48,
     49,
     50
    ],
    "fourier_fillna": false,
    "fourier_mode": "dct",
    "fourier_normalize": false,
    "fourier_real": null,
    "model_kw": {
     "criterion": "entropy",
     "n_estimators": 25,
     "n_jobs": -1
    },
    "model_name": "RandomForestClassifier",
    "n_experiments": 100,
    "pred_params": null,
    "random_features": false,
    "random_state": 2017,
    "save_accuracy": true,
    "save_eigenvector": true,
    "save_hamiltonian": true,
    "save_models": true,
    "shuffle_features": false,
    "shuffle_rows": true,
    "simulation_dir": "/home/rio/ssh_simulations/ssh2/periodic_100_6561/dct_best_12_wavevector_sites_from_best_12_real_space_sites",
    "start_n": 0,
    "store_in_lists": false,
    "val_split": 0.5
   },
   "start_time": "2020-07-18T16:27:22.620724",
   "version": "2.1.0"
  }
 },
 "nbformat": 4,
 "nbformat_minor": 2
}