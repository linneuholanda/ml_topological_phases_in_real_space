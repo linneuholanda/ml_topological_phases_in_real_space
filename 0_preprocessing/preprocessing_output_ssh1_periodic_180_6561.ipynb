{
 "cells": [
  {
   "cell_type": "markdown",
   "metadata": {
    "papermill": {
     "duration": 0.018763,
     "end_time": "2020-03-05T03:45:58.967691",
     "exception": false,
     "start_time": "2020-03-05T03:45:58.948928",
     "status": "completed"
    },
    "tags": []
   },
   "source": [
    "# Generate csv files \n"
   ]
  },
  {
   "cell_type": "markdown",
   "metadata": {
    "papermill": {
     "duration": 0.011822,
     "end_time": "2020-03-05T03:45:58.992972",
     "exception": false,
     "start_time": "2020-03-05T03:45:58.981150",
     "status": "completed"
    },
    "tags": []
   },
   "source": [
    "This notebook generates .csv files from a directory containing .dat files with Hamiltonian data. Each .dat file is assumed to be named as `\"H_t1_t2_winding.dat\"`.  "
   ]
  },
  {
   "cell_type": "code",
   "execution_count": 1,
   "metadata": {
    "papermill": {
     "duration": 0.28909,
     "end_time": "2020-03-05T03:45:59.293694",
     "exception": false,
     "start_time": "2020-03-05T03:45:59.004604",
     "status": "completed"
    },
    "tags": []
   },
   "outputs": [],
   "source": [
    "#from IPython.core.display import HTML\n",
    "#HTML(\"<script>Jupyter.notebook.kernel.restart()</script>\")\n",
    "%load_ext autoreload\n",
    "%autoreload 2\n",
    "\n",
    "from preprocessing import *"
   ]
  },
  {
   "cell_type": "markdown",
   "metadata": {
    "papermill": {
     "duration": 0.012096,
     "end_time": "2020-03-05T03:45:59.325363",
     "exception": false,
     "start_time": "2020-03-05T03:45:59.313267",
     "status": "completed"
    },
    "tags": []
   },
   "source": [
    "### Set the parameters below carefully"
   ]
  },
  {
   "cell_type": "code",
   "execution_count": 2,
   "metadata": {
    "papermill": {
     "duration": 0.036679,
     "end_time": "2020-03-05T03:45:59.373461",
     "exception": false,
     "start_time": "2020-03-05T03:45:59.336782",
     "status": "completed"
    },
    "tags": [
     "parameters"
    ]
   },
   "outputs": [
    {
     "name": "stdout",
     "output_type": "stream",
     "text": [
      "CPU times: user 3 µs, sys: 0 ns, total: 3 µs\n",
      "Wall time: 5.25 µs\n"
     ]
    }
   ],
   "source": [
    "%%time\n",
    "grid_folder = \"/home/linneu/ssh_grids/ssh1/periodic_100_6561\"\n",
    "allowed_windings = [0,1]\n",
    "epsilon = 0.01\n",
    "csv_name = \"/home/linneu/ssh_csvs/ssh1/periodic_100_6561.csv\"\n",
    "to_csv = True\n"
   ]
  },
  {
   "cell_type": "code",
   "execution_count": 3,
   "metadata": {
    "papermill": {
     "duration": 0.033646,
     "end_time": "2020-03-05T03:45:59.420413",
     "exception": false,
     "start_time": "2020-03-05T03:45:59.386767",
     "status": "completed"
    },
    "tags": [
     "injected-parameters"
    ]
   },
   "outputs": [],
   "source": [
    "# Parameters\n",
    "allowed_windings = [0, 1]\n",
    "epsilon = 0.01\n",
    "to_csv = True\n",
    "grid_folder = \"/home/linneu/ssh_grids/ssh1/periodic_180_6561\"\n",
    "csv_name = \"/home/linneu/ssh_csvs/ssh1/periodic_180_6561.csv\"\n"
   ]
  },
  {
   "cell_type": "code",
   "execution_count": 4,
   "metadata": {
    "papermill": {
     "duration": 307.34717,
     "end_time": "2020-03-05T03:51:06.783412",
     "exception": false,
     "start_time": "2020-03-05T03:45:59.436242",
     "status": "completed"
    },
    "tags": []
   },
   "outputs": [
    {
     "name": "stderr",
     "output_type": "stream",
     "text": [
      "\r",
      "loading hamiltonians:   0%|          | 0/6561 [00:00<?, ?it/s]"
     ]
    },
    {
     "name": "stderr",
     "output_type": "stream",
     "text": [
      "\r",
      "loading hamiltonians:   0%|          | 24/6561 [00:00<00:28, 232.20it/s]"
     ]
    },
    {
     "name": "stderr",
     "output_type": "stream",
     "text": [
      "\r",
      "loading hamiltonians:   1%|          | 45/6561 [00:00<00:29, 224.46it/s]"
     ]
    },
    {
     "name": "stderr",
     "output_type": "stream",
     "text": [
      "\r",
      "loading hamiltonians:   1%|          | 74/6561 [00:00<00:26, 240.63it/s]"
     ]
    },
    {
     "name": "stderr",
     "output_type": "stream",
     "text": [
      "\r",
      "loading hamiltonians:   1%|▏         | 96/6561 [00:00<00:27, 232.01it/s]"
     ]
    },
    {
     "name": "stderr",
     "output_type": "stream",
     "text": [
      "\r",
      "loading hamiltonians:   2%|▏         | 125/6561 [00:00<00:26, 244.89it/s]"
     ]
    },
    {
     "name": "stderr",
     "output_type": "stream",
     "text": [
      "\r",
      "loading hamiltonians:   2%|▏         | 147/6561 [00:00<00:27, 234.12it/s]"
     ]
    },
    {
     "name": "stderr",
     "output_type": "stream",
     "text": [
      "\r",
      "loading hamiltonians:   3%|▎         | 176/6561 [00:00<00:27, 232.97it/s]"
     ]
    },
    {
     "name": "stderr",
     "output_type": "stream",
     "text": [
      "\r",
      "loading hamiltonians:   3%|▎         | 206/6561 [00:00<00:25, 249.01it/s]"
     ]
    },
    {
     "name": "stderr",
     "output_type": "stream",
     "text": [
      "\r",
      "loading hamiltonians:   4%|▎         | 231/6561 [00:00<00:26, 242.77it/s]"
     ]
    },
    {
     "name": "stderr",
     "output_type": "stream",
     "text": [
      "\r",
      "loading hamiltonians:   4%|▍         | 261/6561 [00:01<00:24, 255.37it/s]"
     ]
    },
    {
     "name": "stderr",
     "output_type": "stream",
     "text": [
      "\r",
      "loading hamiltonians:   4%|▍         | 287/6561 [00:01<00:25, 247.67it/s]"
     ]
    },
    {
     "name": "stderr",
     "output_type": "stream",
     "text": [
      "\r",
      "loading hamiltonians:   5%|▍         | 316/6561 [00:01<00:25, 242.79it/s]"
     ]
    },
    {
     "name": "stderr",
     "output_type": "stream",
     "text": [
      "\r",
      "loading hamiltonians:   5%|▌         | 346/6561 [00:01<00:24, 256.88it/s]"
     ]
    },
    {
     "name": "stderr",
     "output_type": "stream",
     "text": [
      "\r",
      "loading hamiltonians:   6%|▌         | 372/6561 [00:01<00:24, 248.44it/s]"
     ]
    },
    {
     "name": "stderr",
     "output_type": "stream",
     "text": [
      "\r",
      "loading hamiltonians:   6%|▌         | 401/6561 [00:01<00:23, 258.43it/s]"
     ]
    },
    {
     "name": "stderr",
     "output_type": "stream",
     "text": [
      "\r",
      "loading hamiltonians:   7%|▋         | 428/6561 [00:01<00:24, 248.00it/s]"
     ]
    },
    {
     "name": "stderr",
     "output_type": "stream",
     "text": [
      "\r",
      "loading hamiltonians:   7%|▋         | 456/6561 [00:01<00:25, 241.10it/s]"
     ]
    },
    {
     "name": "stderr",
     "output_type": "stream",
     "text": [
      "\r",
      "loading hamiltonians:   7%|▋         | 481/6561 [00:02<00:46, 131.76it/s]"
     ]
    },
    {
     "name": "stderr",
     "output_type": "stream",
     "text": [
      "\r",
      "loading hamiltonians:   8%|▊         | 506/6561 [00:02<00:39, 151.84it/s]"
     ]
    },
    {
     "name": "stderr",
     "output_type": "stream",
     "text": [
      "\r",
      "loading hamiltonians:   8%|▊         | 535/6561 [00:02<00:34, 176.80it/s]"
     ]
    },
    {
     "name": "stderr",
     "output_type": "stream",
     "text": [
      "\r",
      "loading hamiltonians:   9%|▊         | 558/6561 [00:02<00:31, 187.85it/s]"
     ]
    },
    {
     "name": "stderr",
     "output_type": "stream",
     "text": [
      "\r",
      "loading hamiltonians:   9%|▉         | 588/6561 [00:02<00:28, 209.73it/s]"
     ]
    },
    {
     "name": "stderr",
     "output_type": "stream",
     "text": [
      "\r",
      "loading hamiltonians:   9%|▉         | 613/6561 [00:02<00:27, 215.75it/s]"
     ]
    },
    {
     "name": "stderr",
     "output_type": "stream",
     "text": [
      "\r",
      "loading hamiltonians:  10%|▉         | 643/6561 [00:02<00:25, 235.21it/s]"
     ]
    },
    {
     "name": "stderr",
     "output_type": "stream",
     "text": [
      "\r",
      "loading hamiltonians:  10%|█         | 669/6561 [00:02<00:24, 236.35it/s]"
     ]
    },
    {
     "name": "stderr",
     "output_type": "stream",
     "text": [
      "\r",
      "loading hamiltonians:  11%|█         | 695/6561 [00:03<00:24, 235.82it/s]"
     ]
    },
    {
     "name": "stderr",
     "output_type": "stream",
     "text": [
      "\r",
      "loading hamiltonians:  11%|█         | 726/6561 [00:03<00:23, 252.69it/s]"
     ]
    },
    {
     "name": "stderr",
     "output_type": "stream",
     "text": [
      "\r",
      "loading hamiltonians:  11%|█▏        | 753/6561 [00:03<00:23, 247.68it/s]"
     ]
    },
    {
     "name": "stderr",
     "output_type": "stream",
     "text": [
      "\r",
      "loading hamiltonians:  12%|█▏        | 783/6561 [00:03<00:22, 259.43it/s]"
     ]
    },
    {
     "name": "stderr",
     "output_type": "stream",
     "text": [
      "\r",
      "loading hamiltonians:  12%|█▏        | 810/6561 [00:03<00:23, 248.94it/s]"
     ]
    },
    {
     "name": "stderr",
     "output_type": "stream",
     "text": [
      "\r",
      "loading hamiltonians:  13%|█▎        | 836/6561 [00:03<00:23, 241.45it/s]"
     ]
    },
    {
     "name": "stderr",
     "output_type": "stream",
     "text": [
      "\r",
      "loading hamiltonians:  13%|█▎        | 865/6561 [00:03<00:22, 252.49it/s]"
     ]
    },
    {
     "name": "stderr",
     "output_type": "stream",
     "text": [
      "\r",
      "loading hamiltonians:  14%|█▎        | 891/6561 [00:03<00:23, 244.49it/s]"
     ]
    },
    {
     "name": "stderr",
     "output_type": "stream",
     "text": [
      "\r",
      "loading hamiltonians:  14%|█▍        | 920/6561 [00:03<00:22, 255.80it/s]"
     ]
    },
    {
     "name": "stderr",
     "output_type": "stream",
     "text": [
      "\r",
      "loading hamiltonians:  14%|█▍        | 946/6561 [00:04<00:22, 246.52it/s]"
     ]
    },
    {
     "name": "stderr",
     "output_type": "stream",
     "text": [
      "\r",
      "loading hamiltonians:  15%|█▍        | 973/6561 [00:04<00:22, 243.46it/s]"
     ]
    },
    {
     "name": "stderr",
     "output_type": "stream",
     "text": [
      "\r",
      "loading hamiltonians:  15%|█▌        | 998/6561 [00:04<01:02, 88.64it/s] "
     ]
    },
    {
     "name": "stderr",
     "output_type": "stream",
     "text": [
      "\r",
      "loading hamiltonians:  16%|█▌        | 1024/6561 [00:04<00:51, 108.46it/s]"
     ]
    },
    {
     "name": "stderr",
     "output_type": "stream",
     "text": [
      "\r",
      "loading hamiltonians:  16%|█▌        | 1054/6561 [00:05<00:41, 133.80it/s]"
     ]
    },
    {
     "name": "stderr",
     "output_type": "stream",
     "text": [
      "\r",
      "loading hamiltonians:  16%|█▋        | 1078/6561 [00:05<00:35, 152.97it/s]"
     ]
    },
    {
     "name": "stderr",
     "output_type": "stream",
     "text": [
      "\r",
      "loading hamiltonians:  17%|█▋        | 1109/6561 [00:05<00:30, 179.39it/s]"
     ]
    },
    {
     "name": "stderr",
     "output_type": "stream",
     "text": [
      "\r",
      "loading hamiltonians:  17%|█▋        | 1134/6561 [00:05<00:28, 193.68it/s]"
     ]
    },
    {
     "name": "stderr",
     "output_type": "stream",
     "text": [
      "\r",
      "loading hamiltonians:  18%|█▊        | 1164/6561 [00:05<00:26, 206.11it/s]"
     ]
    },
    {
     "name": "stderr",
     "output_type": "stream",
     "text": [
      "\r",
      "loading hamiltonians:  18%|█▊        | 1194/6561 [00:05<00:23, 226.61it/s]"
     ]
    },
    {
     "name": "stderr",
     "output_type": "stream",
     "text": [
      "\r",
      "loading hamiltonians:  19%|█▊        | 1220/6561 [00:05<00:25, 209.90it/s]"
     ]
    },
    {
     "name": "stderr",
     "output_type": "stream",
     "text": [
      "\r",
      "loading hamiltonians:  19%|█▉        | 1246/6561 [00:05<00:23, 222.70it/s]"
     ]
    },
    {
     "name": "stderr",
     "output_type": "stream",
     "text": [
      "\r",
      "loading hamiltonians:  19%|█▉        | 1271/6561 [00:05<00:23, 225.68it/s]"
     ]
    },
    {
     "name": "stderr",
     "output_type": "stream",
     "text": [
      "\r",
      "loading hamiltonians:  20%|█▉        | 1301/6561 [00:06<00:21, 243.45it/s]"
     ]
    },
    {
     "name": "stderr",
     "output_type": "stream",
     "text": [
      "\r",
      "loading hamiltonians:  20%|██        | 1327/6561 [00:06<00:21, 240.08it/s]"
     ]
    },
    {
     "name": "stderr",
     "output_type": "stream",
     "text": [
      "\r",
      "loading hamiltonians:  21%|██        | 1352/6561 [00:06<00:21, 238.36it/s]"
     ]
    },
    {
     "name": "stderr",
     "output_type": "stream",
     "text": [
      "\r",
      "loading hamiltonians:  21%|██        | 1382/6561 [00:06<00:20, 253.51it/s]"
     ]
    },
    {
     "name": "stderr",
     "output_type": "stream",
     "text": [
      "\r",
      "loading hamiltonians:  21%|██▏       | 1409/6561 [00:06<00:20, 248.92it/s]"
     ]
    },
    {
     "name": "stderr",
     "output_type": "stream",
     "text": [
      "\r",
      "loading hamiltonians:  22%|██▏       | 1439/6561 [00:06<00:19, 260.91it/s]"
     ]
    },
    {
     "name": "stderr",
     "output_type": "stream",
     "text": [
      "\r",
      "loading hamiltonians:  22%|██▏       | 1466/6561 [00:06<00:20, 249.93it/s]"
     ]
    },
    {
     "name": "stderr",
     "output_type": "stream",
     "text": [
      "\r",
      "loading hamiltonians:  23%|██▎       | 1492/6561 [00:06<00:20, 244.01it/s]"
     ]
    },
    {
     "name": "stderr",
     "output_type": "stream",
     "text": [
      "\r",
      "loading hamiltonians:  23%|██▎       | 1517/6561 [00:07<01:16, 65.84it/s] "
     ]
    },
    {
     "name": "stderr",
     "output_type": "stream",
     "text": [
      "\r",
      "loading hamiltonians:  23%|██▎       | 1541/6561 [00:07<01:00, 83.13it/s]"
     ]
    },
    {
     "name": "stderr",
     "output_type": "stream",
     "text": [
      "\r",
      "loading hamiltonians:  24%|██▍       | 1570/6561 [00:08<00:47, 105.53it/s]"
     ]
    },
    {
     "name": "stderr",
     "output_type": "stream",
     "text": [
      "\r",
      "loading hamiltonians:  24%|██▍       | 1593/6561 [00:08<00:39, 125.41it/s]"
     ]
    },
    {
     "name": "stderr",
     "output_type": "stream",
     "text": [
      "\r",
      "loading hamiltonians:  25%|██▍       | 1616/6561 [00:08<00:34, 143.42it/s]"
     ]
    },
    {
     "name": "stderr",
     "output_type": "stream",
     "text": [
      "\r",
      "loading hamiltonians:  25%|██▍       | 1638/6561 [00:08<00:32, 151.62it/s]"
     ]
    },
    {
     "name": "stderr",
     "output_type": "stream",
     "text": [
      "\r",
      "loading hamiltonians:  25%|██▌       | 1668/6561 [00:08<00:27, 177.28it/s]"
     ]
    },
    {
     "name": "stderr",
     "output_type": "stream",
     "text": [
      "\r",
      "loading hamiltonians:  26%|██▌       | 1692/6561 [00:08<00:25, 190.46it/s]"
     ]
    },
    {
     "name": "stderr",
     "output_type": "stream",
     "text": [
      "\r",
      "loading hamiltonians:  26%|██▌       | 1722/6561 [00:08<00:22, 213.81it/s]"
     ]
    },
    {
     "name": "stderr",
     "output_type": "stream",
     "text": [
      "\r",
      "loading hamiltonians:  27%|██▋       | 1748/6561 [00:08<00:21, 220.34it/s]"
     ]
    },
    {
     "name": "stderr",
     "output_type": "stream",
     "text": [
      "\r",
      "loading hamiltonians:  27%|██▋       | 1775/6561 [00:08<00:21, 226.27it/s]"
     ]
    },
    {
     "name": "stderr",
     "output_type": "stream",
     "text": [
      "\r",
      "loading hamiltonians:  28%|██▊       | 1806/6561 [00:09<00:19, 245.41it/s]"
     ]
    },
    {
     "name": "stderr",
     "output_type": "stream",
     "text": [
      "\r",
      "loading hamiltonians:  28%|██▊       | 1833/6561 [00:09<00:19, 242.26it/s]"
     ]
    },
    {
     "name": "stderr",
     "output_type": "stream",
     "text": [
      "\r",
      "loading hamiltonians:  28%|██▊       | 1863/6561 [00:09<00:18, 256.81it/s]"
     ]
    },
    {
     "name": "stderr",
     "output_type": "stream",
     "text": [
      "\r",
      "loading hamiltonians:  29%|██▉       | 1890/6561 [00:09<00:18, 250.13it/s]"
     ]
    },
    {
     "name": "stderr",
     "output_type": "stream",
     "text": [
      "\r",
      "loading hamiltonians:  29%|██▉       | 1916/6561 [00:09<00:18, 245.66it/s]"
     ]
    },
    {
     "name": "stderr",
     "output_type": "stream",
     "text": [
      "\r",
      "loading hamiltonians:  30%|██▉       | 1947/6561 [00:09<00:17, 260.42it/s]"
     ]
    },
    {
     "name": "stderr",
     "output_type": "stream",
     "text": [
      "\r",
      "loading hamiltonians:  30%|███       | 1974/6561 [00:09<00:18, 250.73it/s]"
     ]
    },
    {
     "name": "stderr",
     "output_type": "stream",
     "text": [
      "\r",
      "loading hamiltonians:  31%|███       | 2004/6561 [00:09<00:17, 262.70it/s]"
     ]
    },
    {
     "name": "stderr",
     "output_type": "stream",
     "text": [
      "\r",
      "loading hamiltonians:  31%|███       | 2031/6561 [00:11<01:20, 56.60it/s] "
     ]
    },
    {
     "name": "stderr",
     "output_type": "stream",
     "text": [
      "\r",
      "loading hamiltonians:  31%|███▏      | 2059/6561 [00:11<01:01, 73.16it/s]"
     ]
    },
    {
     "name": "stderr",
     "output_type": "stream",
     "text": [
      "\r",
      "loading hamiltonians:  32%|███▏      | 2090/6561 [00:11<00:47, 94.65it/s]"
     ]
    },
    {
     "name": "stderr",
     "output_type": "stream",
     "text": [
      "\r",
      "loading hamiltonians:  32%|███▏      | 2114/6561 [00:11<00:38, 115.13it/s]"
     ]
    },
    {
     "name": "stderr",
     "output_type": "stream",
     "text": [
      "\r",
      "loading hamiltonians:  33%|███▎      | 2138/6561 [00:11<00:32, 134.22it/s]"
     ]
    },
    {
     "name": "stderr",
     "output_type": "stream",
     "text": [
      "\r",
      "loading hamiltonians:  33%|███▎      | 2161/6561 [00:11<00:30, 146.24it/s]"
     ]
    },
    {
     "name": "stderr",
     "output_type": "stream",
     "text": [
      "\r",
      "loading hamiltonians:  33%|███▎      | 2187/6561 [00:11<00:26, 168.04it/s]"
     ]
    },
    {
     "name": "stderr",
     "output_type": "stream",
     "text": [
      "\r",
      "loading hamiltonians:  34%|███▎      | 2210/6561 [00:11<00:25, 171.90it/s]"
     ]
    },
    {
     "name": "stderr",
     "output_type": "stream",
     "text": [
      "\r",
      "loading hamiltonians:  34%|███▍      | 2233/6561 [00:12<00:23, 185.78it/s]"
     ]
    },
    {
     "name": "stderr",
     "output_type": "stream",
     "text": [
      "\r",
      "loading hamiltonians:  34%|███▍      | 2255/6561 [00:12<00:23, 183.44it/s]"
     ]
    },
    {
     "name": "stderr",
     "output_type": "stream",
     "text": [
      "\r",
      "loading hamiltonians:  35%|███▍      | 2285/6561 [00:12<00:20, 206.77it/s]"
     ]
    },
    {
     "name": "stderr",
     "output_type": "stream",
     "text": [
      "\r",
      "loading hamiltonians:  35%|███▌      | 2309/6561 [00:12<00:19, 214.43it/s]"
     ]
    },
    {
     "name": "stderr",
     "output_type": "stream",
     "text": [
      "\r",
      "loading hamiltonians:  36%|███▌      | 2339/6561 [00:12<00:18, 222.28it/s]"
     ]
    },
    {
     "name": "stderr",
     "output_type": "stream",
     "text": [
      "\r",
      "loading hamiltonians:  36%|███▌      | 2369/6561 [00:12<00:17, 240.40it/s]"
     ]
    },
    {
     "name": "stderr",
     "output_type": "stream",
     "text": [
      "\r",
      "loading hamiltonians:  37%|███▋      | 2395/6561 [00:12<00:17, 237.03it/s]"
     ]
    },
    {
     "name": "stderr",
     "output_type": "stream",
     "text": [
      "\r",
      "loading hamiltonians:  37%|███▋      | 2425/6561 [00:12<00:16, 252.26it/s]"
     ]
    },
    {
     "name": "stderr",
     "output_type": "stream",
     "text": [
      "\r",
      "loading hamiltonians:  37%|███▋      | 2452/6561 [00:12<00:16, 248.38it/s]"
     ]
    },
    {
     "name": "stderr",
     "output_type": "stream",
     "text": [
      "\r",
      "loading hamiltonians:  38%|███▊      | 2479/6561 [00:13<00:16, 246.06it/s]"
     ]
    },
    {
     "name": "stderr",
     "output_type": "stream",
     "text": [
      "\r",
      "loading hamiltonians:  38%|███▊      | 2510/6561 [00:13<00:15, 260.94it/s]"
     ]
    },
    {
     "name": "stderr",
     "output_type": "stream",
     "text": [
      "\r",
      "loading hamiltonians:  39%|███▊      | 2537/6561 [00:13<00:15, 254.00it/s]"
     ]
    },
    {
     "name": "stderr",
     "output_type": "stream",
     "text": [
      "\r",
      "loading hamiltonians:  39%|███▉      | 2569/6561 [00:13<00:14, 268.41it/s]"
     ]
    },
    {
     "name": "stderr",
     "output_type": "stream",
     "text": [
      "\r",
      "loading hamiltonians:  40%|███▉      | 2597/6561 [00:13<00:15, 260.26it/s]"
     ]
    },
    {
     "name": "stderr",
     "output_type": "stream",
     "text": [
      "\r",
      "loading hamiltonians:  40%|███▉      | 2624/6561 [00:13<00:15, 253.09it/s]"
     ]
    },
    {
     "name": "stderr",
     "output_type": "stream",
     "text": [
      "\r",
      "loading hamiltonians:  40%|████      | 2650/6561 [00:13<00:16, 240.74it/s]"
     ]
    },
    {
     "name": "stderr",
     "output_type": "stream",
     "text": [
      "\r",
      "loading hamiltonians:  41%|████      | 2675/6561 [00:15<01:35, 40.58it/s] "
     ]
    },
    {
     "name": "stderr",
     "output_type": "stream",
     "text": [
      "\r",
      "loading hamiltonians:  41%|████      | 2703/6561 [00:15<01:10, 54.54it/s]"
     ]
    },
    {
     "name": "stderr",
     "output_type": "stream",
     "text": [
      "\r",
      "loading hamiltonians:  42%|████▏     | 2724/6561 [00:15<00:54, 69.96it/s]"
     ]
    },
    {
     "name": "stderr",
     "output_type": "stream",
     "text": [
      "\r",
      "loading hamiltonians:  42%|████▏     | 2753/6561 [00:15<00:42, 90.36it/s]"
     ]
    },
    {
     "name": "stderr",
     "output_type": "stream",
     "text": [
      "\r",
      "loading hamiltonians:  42%|████▏     | 2776/6561 [00:15<00:34, 109.60it/s]"
     ]
    },
    {
     "name": "stderr",
     "output_type": "stream",
     "text": [
      "\r",
      "loading hamiltonians:  43%|████▎     | 2805/6561 [00:16<00:27, 134.22it/s]"
     ]
    },
    {
     "name": "stderr",
     "output_type": "stream",
     "text": [
      "\r",
      "loading hamiltonians:  43%|████▎     | 2830/6561 [00:16<00:24, 151.53it/s]"
     ]
    },
    {
     "name": "stderr",
     "output_type": "stream",
     "text": [
      "\r",
      "loading hamiltonians:  44%|████▎     | 2856/6561 [00:16<00:22, 167.35it/s]"
     ]
    },
    {
     "name": "stderr",
     "output_type": "stream",
     "text": [
      "\r",
      "loading hamiltonians:  44%|████▍     | 2885/6561 [00:16<00:19, 191.10it/s]"
     ]
    },
    {
     "name": "stderr",
     "output_type": "stream",
     "text": [
      "\r",
      "loading hamiltonians:  44%|████▍     | 2910/6561 [00:16<00:18, 201.42it/s]"
     ]
    },
    {
     "name": "stderr",
     "output_type": "stream",
     "text": [
      "\r",
      "loading hamiltonians:  45%|████▍     | 2939/6561 [00:16<00:16, 220.95it/s]"
     ]
    },
    {
     "name": "stderr",
     "output_type": "stream",
     "text": [
      "\r",
      "loading hamiltonians:  45%|████▌     | 2965/6561 [00:16<00:16, 220.07it/s]"
     ]
    },
    {
     "name": "stderr",
     "output_type": "stream",
     "text": [
      "\r",
      "loading hamiltonians:  46%|████▌     | 2994/6561 [00:16<00:15, 236.30it/s]"
     ]
    },
    {
     "name": "stderr",
     "output_type": "stream",
     "text": [
      "\r",
      "loading hamiltonians:  46%|████▌     | 3020/6561 [00:16<00:15, 230.34it/s]"
     ]
    },
    {
     "name": "stderr",
     "output_type": "stream",
     "text": [
      "\r",
      "loading hamiltonians:  46%|████▋     | 3045/6561 [00:17<00:15, 225.21it/s]"
     ]
    },
    {
     "name": "stderr",
     "output_type": "stream",
     "text": [
      "\r",
      "loading hamiltonians:  47%|████▋     | 3069/6561 [00:17<00:15, 228.84it/s]"
     ]
    },
    {
     "name": "stderr",
     "output_type": "stream",
     "text": [
      "\r",
      "loading hamiltonians:  47%|████▋     | 3093/6561 [00:17<00:16, 214.02it/s]"
     ]
    },
    {
     "name": "stderr",
     "output_type": "stream",
     "text": [
      "\r",
      "loading hamiltonians:  47%|████▋     | 3116/6561 [00:17<00:15, 217.51it/s]"
     ]
    },
    {
     "name": "stderr",
     "output_type": "stream",
     "text": [
      "\r",
      "loading hamiltonians:  48%|████▊     | 3139/6561 [00:17<00:15, 216.03it/s]"
     ]
    },
    {
     "name": "stderr",
     "output_type": "stream",
     "text": [
      "\r",
      "loading hamiltonians:  48%|████▊     | 3168/6561 [00:17<00:14, 232.10it/s]"
     ]
    },
    {
     "name": "stderr",
     "output_type": "stream",
     "text": [
      "\r",
      "loading hamiltonians:  49%|████▊     | 3192/6561 [00:17<00:14, 228.00it/s]"
     ]
    },
    {
     "name": "stderr",
     "output_type": "stream",
     "text": [
      "\r",
      "loading hamiltonians:  49%|████▉     | 3221/6561 [00:17<00:13, 243.49it/s]"
     ]
    },
    {
     "name": "stderr",
     "output_type": "stream",
     "text": [
      "\r",
      "loading hamiltonians:  49%|████▉     | 3246/6561 [00:17<00:14, 235.21it/s]"
     ]
    },
    {
     "name": "stderr",
     "output_type": "stream",
     "text": [
      "\r",
      "loading hamiltonians:  50%|████▉     | 3276/6561 [00:18<00:13, 250.23it/s]"
     ]
    },
    {
     "name": "stderr",
     "output_type": "stream",
     "text": [
      "\r",
      "loading hamiltonians:  50%|█████     | 3302/6561 [00:18<00:13, 243.41it/s]"
     ]
    },
    {
     "name": "stderr",
     "output_type": "stream",
     "text": [
      "\r",
      "loading hamiltonians:  51%|█████     | 3327/6561 [00:18<00:13, 236.03it/s]"
     ]
    },
    {
     "name": "stderr",
     "output_type": "stream",
     "text": [
      "\r",
      "loading hamiltonians:  51%|█████     | 3358/6561 [00:18<00:12, 252.09it/s]"
     ]
    },
    {
     "name": "stderr",
     "output_type": "stream",
     "text": [
      "\r",
      "loading hamiltonians:  52%|█████▏    | 3384/6561 [00:18<00:12, 246.36it/s]"
     ]
    },
    {
     "name": "stderr",
     "output_type": "stream",
     "text": [
      "\r",
      "loading hamiltonians:  52%|█████▏    | 3413/6561 [00:18<00:12, 254.76it/s]"
     ]
    },
    {
     "name": "stderr",
     "output_type": "stream",
     "text": [
      "\r",
      "loading hamiltonians:  52%|█████▏    | 3439/6561 [00:18<00:12, 244.25it/s]"
     ]
    },
    {
     "name": "stderr",
     "output_type": "stream",
     "text": [
      "\r",
      "loading hamiltonians:  53%|█████▎    | 3464/6561 [00:18<00:12, 238.24it/s]"
     ]
    },
    {
     "name": "stderr",
     "output_type": "stream",
     "text": [
      "\r",
      "loading hamiltonians:  53%|█████▎    | 3489/6561 [00:20<01:30, 34.02it/s] "
     ]
    },
    {
     "name": "stderr",
     "output_type": "stream",
     "text": [
      "\r",
      "loading hamiltonians:  54%|█████▎    | 3514/6561 [00:21<01:06, 45.77it/s]"
     ]
    },
    {
     "name": "stderr",
     "output_type": "stream",
     "text": [
      "\r",
      "loading hamiltonians:  54%|█████▍    | 3545/6561 [00:21<00:49, 61.42it/s]"
     ]
    },
    {
     "name": "stderr",
     "output_type": "stream",
     "text": [
      "\r",
      "loading hamiltonians:  54%|█████▍    | 3569/6561 [00:21<00:37, 78.84it/s]"
     ]
    },
    {
     "name": "stderr",
     "output_type": "stream",
     "text": [
      "\r",
      "loading hamiltonians:  55%|█████▍    | 3600/6561 [00:21<00:29, 101.26it/s]"
     ]
    },
    {
     "name": "stderr",
     "output_type": "stream",
     "text": [
      "\r",
      "loading hamiltonians:  55%|█████▌    | 3625/6561 [00:21<00:23, 122.34it/s]"
     ]
    },
    {
     "name": "stderr",
     "output_type": "stream",
     "text": [
      "\r",
      "loading hamiltonians:  56%|█████▌    | 3654/6561 [00:21<00:20, 143.30it/s]"
     ]
    },
    {
     "name": "stderr",
     "output_type": "stream",
     "text": [
      "\r",
      "loading hamiltonians:  56%|█████▌    | 3685/6561 [00:21<00:16, 169.86it/s]"
     ]
    },
    {
     "name": "stderr",
     "output_type": "stream",
     "text": [
      "\r",
      "loading hamiltonians:  57%|█████▋    | 3712/6561 [00:21<00:15, 185.41it/s]"
     ]
    },
    {
     "name": "stderr",
     "output_type": "stream",
     "text": [
      "\r",
      "loading hamiltonians:  57%|█████▋    | 3738/6561 [00:21<00:14, 195.06it/s]"
     ]
    },
    {
     "name": "stderr",
     "output_type": "stream",
     "text": [
      "\r",
      "loading hamiltonians:  57%|█████▋    | 3763/6561 [00:22<00:14, 189.18it/s]"
     ]
    },
    {
     "name": "stderr",
     "output_type": "stream",
     "text": [
      "\r",
      "loading hamiltonians:  58%|█████▊    | 3786/6561 [00:22<00:14, 197.95it/s]"
     ]
    },
    {
     "name": "stderr",
     "output_type": "stream",
     "text": [
      "\r",
      "loading hamiltonians:  58%|█████▊    | 3809/6561 [00:22<00:13, 199.02it/s]"
     ]
    },
    {
     "name": "stderr",
     "output_type": "stream",
     "text": [
      "\r",
      "loading hamiltonians:  59%|█████▊    | 3840/6561 [00:22<00:12, 222.31it/s]"
     ]
    },
    {
     "name": "stderr",
     "output_type": "stream",
     "text": [
      "\r",
      "loading hamiltonians:  59%|█████▉    | 3865/6561 [00:22<00:11, 226.01it/s]"
     ]
    },
    {
     "name": "stderr",
     "output_type": "stream",
     "text": [
      "\r",
      "loading hamiltonians:  59%|█████▉    | 3890/6561 [00:22<00:11, 226.86it/s]"
     ]
    },
    {
     "name": "stderr",
     "output_type": "stream",
     "text": [
      "\r",
      "loading hamiltonians:  60%|█████▉    | 3919/6561 [00:22<00:10, 241.38it/s]"
     ]
    },
    {
     "name": "stderr",
     "output_type": "stream",
     "text": [
      "\r",
      "loading hamiltonians:  60%|██████    | 3945/6561 [00:22<00:11, 236.62it/s]"
     ]
    },
    {
     "name": "stderr",
     "output_type": "stream",
     "text": [
      "\r",
      "loading hamiltonians:  61%|██████    | 3973/6561 [00:22<00:10, 246.31it/s]"
     ]
    },
    {
     "name": "stderr",
     "output_type": "stream",
     "text": [
      "\r",
      "loading hamiltonians:  61%|██████    | 3999/6561 [00:23<00:11, 227.28it/s]"
     ]
    },
    {
     "name": "stderr",
     "output_type": "stream",
     "text": [
      "\r",
      "loading hamiltonians:  61%|██████▏   | 4023/6561 [00:23<00:11, 227.01it/s]"
     ]
    },
    {
     "name": "stderr",
     "output_type": "stream",
     "text": [
      "\r",
      "loading hamiltonians:  62%|██████▏   | 4047/6561 [00:23<00:11, 219.19it/s]"
     ]
    },
    {
     "name": "stderr",
     "output_type": "stream",
     "text": [
      "\r",
      "loading hamiltonians:  62%|██████▏   | 4074/6561 [00:23<00:11, 221.50it/s]"
     ]
    },
    {
     "name": "stderr",
     "output_type": "stream",
     "text": [
      "\r",
      "loading hamiltonians:  63%|██████▎   | 4104/6561 [00:23<00:10, 238.71it/s]"
     ]
    },
    {
     "name": "stderr",
     "output_type": "stream",
     "text": [
      "\r",
      "loading hamiltonians:  63%|██████▎   | 4129/6561 [00:23<00:10, 230.50it/s]"
     ]
    },
    {
     "name": "stderr",
     "output_type": "stream",
     "text": [
      "\r",
      "loading hamiltonians:  63%|██████▎   | 4158/6561 [00:23<00:09, 244.04it/s]"
     ]
    },
    {
     "name": "stderr",
     "output_type": "stream",
     "text": [
      "\r",
      "loading hamiltonians:  64%|██████▍   | 4183/6561 [00:23<00:10, 235.15it/s]"
     ]
    },
    {
     "name": "stderr",
     "output_type": "stream",
     "text": [
      "\r",
      "loading hamiltonians:  64%|██████▍   | 4212/6561 [00:23<00:09, 249.21it/s]"
     ]
    },
    {
     "name": "stderr",
     "output_type": "stream",
     "text": [
      "\r",
      "loading hamiltonians:  65%|██████▍   | 4238/6561 [00:24<00:09, 242.58it/s]"
     ]
    },
    {
     "name": "stderr",
     "output_type": "stream",
     "text": [
      "\r",
      "loading hamiltonians:  65%|██████▍   | 4263/6561 [00:24<00:09, 237.73it/s]"
     ]
    },
    {
     "name": "stderr",
     "output_type": "stream",
     "text": [
      "\r",
      "loading hamiltonians:  65%|██████▌   | 4292/6561 [00:24<00:09, 250.77it/s]"
     ]
    },
    {
     "name": "stderr",
     "output_type": "stream",
     "text": [
      "\r",
      "loading hamiltonians:  66%|██████▌   | 4318/6561 [00:24<00:09, 244.25it/s]"
     ]
    },
    {
     "name": "stderr",
     "output_type": "stream",
     "text": [
      "\r",
      "loading hamiltonians:  66%|██████▋   | 4348/6561 [00:24<00:08, 256.85it/s]"
     ]
    },
    {
     "name": "stderr",
     "output_type": "stream",
     "text": [
      "\r",
      "loading hamiltonians:  67%|██████▋   | 4375/6561 [00:24<00:09, 240.55it/s]"
     ]
    },
    {
     "name": "stderr",
     "output_type": "stream",
     "text": [
      "\r",
      "loading hamiltonians:  67%|██████▋   | 4400/6561 [00:24<00:09, 239.00it/s]"
     ]
    },
    {
     "name": "stderr",
     "output_type": "stream",
     "text": [
      "\r",
      "loading hamiltonians:  67%|██████▋   | 4425/6561 [00:24<00:09, 235.43it/s]"
     ]
    },
    {
     "name": "stderr",
     "output_type": "stream",
     "text": [
      "\r",
      "loading hamiltonians:  68%|██████▊   | 4449/6561 [00:24<00:09, 234.28it/s]"
     ]
    },
    {
     "name": "stderr",
     "output_type": "stream",
     "text": [
      "\r",
      "loading hamiltonians:  68%|██████▊   | 4479/6561 [00:25<00:08, 250.73it/s]"
     ]
    },
    {
     "name": "stderr",
     "output_type": "stream",
     "text": [
      "\r",
      "loading hamiltonians:  69%|██████▊   | 4505/6561 [00:27<01:14, 27.67it/s] "
     ]
    },
    {
     "name": "stderr",
     "output_type": "stream",
     "text": [
      "\r",
      "loading hamiltonians:  69%|██████▉   | 4535/6561 [00:28<00:53, 38.02it/s]"
     ]
    },
    {
     "name": "stderr",
     "output_type": "stream",
     "text": [
      "\r",
      "loading hamiltonians:  69%|██████▉   | 4557/6561 [00:28<00:39, 50.57it/s]"
     ]
    },
    {
     "name": "stderr",
     "output_type": "stream",
     "text": [
      "\r",
      "loading hamiltonians:  70%|██████▉   | 4587/6561 [00:28<00:29, 67.35it/s]"
     ]
    },
    {
     "name": "stderr",
     "output_type": "stream",
     "text": [
      "\r",
      "loading hamiltonians:  70%|███████   | 4612/6561 [00:28<00:22, 85.60it/s]"
     ]
    },
    {
     "name": "stderr",
     "output_type": "stream",
     "text": [
      "\r",
      "loading hamiltonians:  71%|███████   | 4639/6561 [00:28<00:18, 106.02it/s]"
     ]
    },
    {
     "name": "stderr",
     "output_type": "stream",
     "text": [
      "\r",
      "loading hamiltonians:  71%|███████   | 4670/6561 [00:28<00:14, 131.49it/s]"
     ]
    },
    {
     "name": "stderr",
     "output_type": "stream",
     "text": [
      "\r",
      "loading hamiltonians:  72%|███████▏  | 4696/6561 [00:28<00:12, 150.12it/s]"
     ]
    },
    {
     "name": "stderr",
     "output_type": "stream",
     "text": [
      "\r",
      "loading hamiltonians:  72%|███████▏  | 4725/6561 [00:28<00:10, 174.62it/s]"
     ]
    },
    {
     "name": "stderr",
     "output_type": "stream",
     "text": [
      "\r",
      "loading hamiltonians:  72%|███████▏  | 4751/6561 [00:28<00:09, 186.29it/s]"
     ]
    },
    {
     "name": "stderr",
     "output_type": "stream",
     "text": [
      "\r",
      "loading hamiltonians:  73%|███████▎  | 4779/6561 [00:29<00:09, 196.76it/s]"
     ]
    },
    {
     "name": "stderr",
     "output_type": "stream",
     "text": [
      "\r",
      "loading hamiltonians:  73%|███████▎  | 4809/6561 [00:29<00:08, 218.04it/s]"
     ]
    },
    {
     "name": "stderr",
     "output_type": "stream",
     "text": [
      "\r",
      "loading hamiltonians:  74%|███████▎  | 4835/6561 [00:29<00:07, 218.83it/s]"
     ]
    },
    {
     "name": "stderr",
     "output_type": "stream",
     "text": [
      "\r",
      "loading hamiltonians:  74%|███████▍  | 4860/6561 [00:29<00:07, 218.40it/s]"
     ]
    },
    {
     "name": "stderr",
     "output_type": "stream",
     "text": [
      "\r",
      "loading hamiltonians:  74%|███████▍  | 4884/6561 [00:29<00:08, 203.76it/s]"
     ]
    },
    {
     "name": "stderr",
     "output_type": "stream",
     "text": [
      "\r",
      "loading hamiltonians:  75%|███████▍  | 4911/6561 [00:29<00:07, 219.38it/s]"
     ]
    },
    {
     "name": "stderr",
     "output_type": "stream",
     "text": [
      "\r",
      "loading hamiltonians:  75%|███████▌  | 4935/6561 [00:29<00:07, 221.23it/s]"
     ]
    },
    {
     "name": "stderr",
     "output_type": "stream",
     "text": [
      "\r",
      "loading hamiltonians:  76%|███████▌  | 4965/6561 [00:29<00:06, 240.03it/s]"
     ]
    },
    {
     "name": "stderr",
     "output_type": "stream",
     "text": [
      "\r",
      "loading hamiltonians:  76%|███████▌  | 4991/6561 [00:29<00:06, 238.82it/s]"
     ]
    },
    {
     "name": "stderr",
     "output_type": "stream",
     "text": [
      "\r",
      "loading hamiltonians:  76%|███████▋  | 5016/6561 [00:30<00:06, 236.31it/s]"
     ]
    },
    {
     "name": "stderr",
     "output_type": "stream",
     "text": [
      "\r",
      "loading hamiltonians:  77%|███████▋  | 5046/6561 [00:30<00:06, 252.10it/s]"
     ]
    },
    {
     "name": "stderr",
     "output_type": "stream",
     "text": [
      "\r",
      "loading hamiltonians:  77%|███████▋  | 5072/6561 [00:30<00:06, 244.15it/s]"
     ]
    },
    {
     "name": "stderr",
     "output_type": "stream",
     "text": [
      "\r",
      "loading hamiltonians:  78%|███████▊  | 5102/6561 [00:30<00:05, 256.35it/s]"
     ]
    },
    {
     "name": "stderr",
     "output_type": "stream",
     "text": [
      "\r",
      "loading hamiltonians:  78%|███████▊  | 5129/6561 [00:30<00:05, 248.62it/s]"
     ]
    },
    {
     "name": "stderr",
     "output_type": "stream",
     "text": [
      "\r",
      "loading hamiltonians:  79%|███████▊  | 5155/6561 [00:30<00:05, 242.11it/s]"
     ]
    },
    {
     "name": "stderr",
     "output_type": "stream",
     "text": [
      "\r",
      "loading hamiltonians:  79%|███████▉  | 5184/6561 [00:30<00:05, 254.46it/s]"
     ]
    },
    {
     "name": "stderr",
     "output_type": "stream",
     "text": [
      "\r",
      "loading hamiltonians:  79%|███████▉  | 5210/6561 [00:30<00:05, 247.18it/s]"
     ]
    },
    {
     "name": "stderr",
     "output_type": "stream",
     "text": [
      "\r",
      "loading hamiltonians:  80%|███████▉  | 5239/6561 [00:30<00:05, 257.69it/s]"
     ]
    },
    {
     "name": "stderr",
     "output_type": "stream",
     "text": [
      "\r",
      "loading hamiltonians:  80%|████████  | 5266/6561 [00:31<00:05, 250.10it/s]"
     ]
    },
    {
     "name": "stderr",
     "output_type": "stream",
     "text": [
      "\r",
      "loading hamiltonians:  81%|████████  | 5292/6561 [00:31<00:05, 243.59it/s]"
     ]
    },
    {
     "name": "stderr",
     "output_type": "stream",
     "text": [
      "\r",
      "loading hamiltonians:  81%|████████  | 5322/6561 [00:31<00:04, 257.72it/s]"
     ]
    },
    {
     "name": "stderr",
     "output_type": "stream",
     "text": [
      "\r",
      "loading hamiltonians:  82%|████████▏ | 5349/6561 [00:31<00:04, 250.73it/s]"
     ]
    },
    {
     "name": "stderr",
     "output_type": "stream",
     "text": [
      "\r",
      "loading hamiltonians:  82%|████████▏ | 5380/6561 [00:31<00:04, 265.64it/s]"
     ]
    },
    {
     "name": "stderr",
     "output_type": "stream",
     "text": [
      "\r",
      "loading hamiltonians:  82%|████████▏ | 5408/6561 [00:31<00:04, 258.46it/s]"
     ]
    },
    {
     "name": "stderr",
     "output_type": "stream",
     "text": [
      "\r",
      "loading hamiltonians:  83%|████████▎ | 5435/6561 [00:31<00:04, 227.38it/s]"
     ]
    },
    {
     "name": "stderr",
     "output_type": "stream",
     "text": [
      "\r",
      "loading hamiltonians:  83%|████████▎ | 5459/6561 [00:31<00:04, 230.77it/s]"
     ]
    },
    {
     "name": "stderr",
     "output_type": "stream",
     "text": [
      "\r",
      "loading hamiltonians:  84%|████████▎ | 5483/6561 [00:31<00:04, 225.65it/s]"
     ]
    },
    {
     "name": "stderr",
     "output_type": "stream",
     "text": [
      "\r",
      "loading hamiltonians:  84%|████████▍ | 5512/6561 [00:32<00:04, 240.15it/s]"
     ]
    },
    {
     "name": "stderr",
     "output_type": "stream",
     "text": [
      "\r",
      "loading hamiltonians:  84%|████████▍ | 5537/6561 [00:32<00:04, 235.95it/s]"
     ]
    },
    {
     "name": "stderr",
     "output_type": "stream",
     "text": [
      "\r",
      "loading hamiltonians:  85%|████████▍ | 5567/6561 [00:32<00:03, 251.46it/s]"
     ]
    },
    {
     "name": "stderr",
     "output_type": "stream",
     "text": [
      "\r",
      "loading hamiltonians:  85%|████████▌ | 5593/6561 [00:32<00:03, 246.73it/s]"
     ]
    },
    {
     "name": "stderr",
     "output_type": "stream",
     "text": [
      "\r",
      "loading hamiltonians:  86%|████████▌ | 5620/6561 [00:32<00:03, 243.99it/s]"
     ]
    },
    {
     "name": "stderr",
     "output_type": "stream",
     "text": [
      "\r",
      "loading hamiltonians:  86%|████████▌ | 5650/6561 [00:32<00:03, 257.08it/s]"
     ]
    },
    {
     "name": "stderr",
     "output_type": "stream",
     "text": [
      "\r",
      "loading hamiltonians:  87%|████████▋ | 5677/6561 [00:32<00:03, 247.16it/s]"
     ]
    },
    {
     "name": "stderr",
     "output_type": "stream",
     "text": [
      "\r",
      "loading hamiltonians:  87%|████████▋ | 5707/6561 [00:32<00:03, 259.41it/s]"
     ]
    },
    {
     "name": "stderr",
     "output_type": "stream",
     "text": [
      "\r",
      "loading hamiltonians:  87%|████████▋ | 5734/6561 [00:32<00:03, 253.70it/s]"
     ]
    },
    {
     "name": "stderr",
     "output_type": "stream",
     "text": [
      "\r",
      "loading hamiltonians:  88%|████████▊ | 5760/6561 [00:33<00:03, 248.03it/s]"
     ]
    },
    {
     "name": "stderr",
     "output_type": "stream",
     "text": [
      "\r",
      "loading hamiltonians:  88%|████████▊ | 5786/6561 [00:36<00:34, 22.65it/s] "
     ]
    },
    {
     "name": "stderr",
     "output_type": "stream",
     "text": [
      "\r",
      "loading hamiltonians:  89%|████████▊ | 5810/6561 [00:36<00:24, 30.84it/s]"
     ]
    },
    {
     "name": "stderr",
     "output_type": "stream",
     "text": [
      "\r",
      "loading hamiltonians:  89%|████████▉ | 5834/6561 [00:36<00:17, 41.68it/s]"
     ]
    },
    {
     "name": "stderr",
     "output_type": "stream",
     "text": [
      "\r",
      "loading hamiltonians:  89%|████████▉ | 5857/6561 [00:36<00:13, 54.10it/s]"
     ]
    },
    {
     "name": "stderr",
     "output_type": "stream",
     "text": [
      "\r",
      "loading hamiltonians:  90%|████████▉ | 5887/6561 [00:37<00:09, 71.67it/s]"
     ]
    },
    {
     "name": "stderr",
     "output_type": "stream",
     "text": [
      "\r",
      "loading hamiltonians:  90%|█████████ | 5910/6561 [00:37<00:07, 90.28it/s]"
     ]
    },
    {
     "name": "stderr",
     "output_type": "stream",
     "text": [
      "\r",
      "loading hamiltonians:  91%|█████████ | 5941/6561 [00:37<00:05, 114.41it/s]"
     ]
    },
    {
     "name": "stderr",
     "output_type": "stream",
     "text": [
      "\r",
      "loading hamiltonians:  91%|█████████ | 5966/6561 [00:37<00:04, 135.29it/s]"
     ]
    },
    {
     "name": "stderr",
     "output_type": "stream",
     "text": [
      "\r",
      "loading hamiltonians:  91%|█████████▏| 5997/6561 [00:37<00:03, 156.51it/s]"
     ]
    },
    {
     "name": "stderr",
     "output_type": "stream",
     "text": [
      "\r",
      "loading hamiltonians:  92%|█████████▏| 6028/6561 [00:37<00:02, 183.20it/s]"
     ]
    },
    {
     "name": "stderr",
     "output_type": "stream",
     "text": [
      "\r",
      "loading hamiltonians:  92%|█████████▏| 6055/6561 [00:37<00:02, 194.66it/s]"
     ]
    },
    {
     "name": "stderr",
     "output_type": "stream",
     "text": [
      "\r",
      "loading hamiltonians:  93%|█████████▎| 6084/6561 [00:37<00:02, 215.45it/s]"
     ]
    },
    {
     "name": "stderr",
     "output_type": "stream",
     "text": [
      "\r",
      "loading hamiltonians:  93%|█████████▎| 6111/6561 [00:37<00:02, 217.94it/s]"
     ]
    },
    {
     "name": "stderr",
     "output_type": "stream",
     "text": [
      "\r",
      "loading hamiltonians:  94%|█████████▎| 6137/6561 [00:38<00:01, 219.85it/s]"
     ]
    },
    {
     "name": "stderr",
     "output_type": "stream",
     "text": [
      "\r",
      "loading hamiltonians:  94%|█████████▍| 6166/6561 [00:38<00:01, 236.99it/s]"
     ]
    },
    {
     "name": "stderr",
     "output_type": "stream",
     "text": [
      "\r",
      "loading hamiltonians:  94%|█████████▍| 6192/6561 [00:38<00:01, 236.49it/s]"
     ]
    },
    {
     "name": "stderr",
     "output_type": "stream",
     "text": [
      "\r",
      "loading hamiltonians:  95%|█████████▍| 6223/6561 [00:38<00:01, 253.92it/s]"
     ]
    },
    {
     "name": "stderr",
     "output_type": "stream",
     "text": [
      "\r",
      "loading hamiltonians:  95%|█████████▌| 6250/6561 [00:38<00:01, 250.47it/s]"
     ]
    },
    {
     "name": "stderr",
     "output_type": "stream",
     "text": [
      "\r",
      "loading hamiltonians:  96%|█████████▌| 6277/6561 [00:38<00:01, 248.26it/s]"
     ]
    },
    {
     "name": "stderr",
     "output_type": "stream",
     "text": [
      "\r",
      "loading hamiltonians:  96%|█████████▌| 6307/6561 [00:38<00:00, 261.57it/s]"
     ]
    },
    {
     "name": "stderr",
     "output_type": "stream",
     "text": [
      "\r",
      "loading hamiltonians:  97%|█████████▋| 6334/6561 [00:38<00:00, 253.79it/s]"
     ]
    },
    {
     "name": "stderr",
     "output_type": "stream",
     "text": [
      "\r",
      "loading hamiltonians:  97%|█████████▋| 6364/6561 [00:38<00:00, 264.77it/s]"
     ]
    },
    {
     "name": "stderr",
     "output_type": "stream",
     "text": [
      "\r",
      "loading hamiltonians:  97%|█████████▋| 6391/6561 [00:39<00:00, 257.78it/s]"
     ]
    },
    {
     "name": "stderr",
     "output_type": "stream",
     "text": [
      "\r",
      "loading hamiltonians:  98%|█████████▊| 6418/6561 [00:39<00:00, 252.73it/s]"
     ]
    },
    {
     "name": "stderr",
     "output_type": "stream",
     "text": [
      "\r",
      "loading hamiltonians:  98%|█████████▊| 6449/6561 [00:39<00:00, 266.29it/s]"
     ]
    },
    {
     "name": "stderr",
     "output_type": "stream",
     "text": [
      "\r",
      "loading hamiltonians:  99%|█████████▊| 6477/6561 [00:39<00:00, 259.65it/s]"
     ]
    },
    {
     "name": "stderr",
     "output_type": "stream",
     "text": [
      "\r",
      "loading hamiltonians:  99%|█████████▉| 6508/6561 [00:39<00:00, 272.64it/s]"
     ]
    },
    {
     "name": "stderr",
     "output_type": "stream",
     "text": [
      "\r",
      "loading hamiltonians: 100%|█████████▉| 6536/6561 [00:39<00:00, 263.75it/s]"
     ]
    },
    {
     "name": "stderr",
     "output_type": "stream",
     "text": [
      "\r",
      "loading hamiltonians: 100%|██████████| 6561/6561 [00:39<00:00, 165.43it/s]"
     ]
    },
    {
     "name": "stderr",
     "output_type": "stream",
     "text": [
      "\n"
     ]
    },
    {
     "name": "stdout",
     "output_type": "stream",
     "text": [
      "shape of raw_data:  (1180980, 184)\n",
      "len list_of_hamiltonians:  6561\n"
     ]
    },
    {
     "name": "stdout",
     "output_type": "stream",
     "text": [
      "CPU times: user 4min 41s, sys: 25.6 s, total: 5min 7s\n",
      "Wall time: 5min 7s\n"
     ]
    }
   ],
   "source": [
    "%%time\n",
    "list_of_hamiltonians, raw_data = load_hamiltonians(grid_folder)\n",
    "print(\"shape of raw_data: \", raw_data.shape)\n",
    "print(\"len list_of_hamiltonians: \", len(list_of_hamiltonians))\n",
    "\n",
    "dataframe = make_dataframe(raw_data, list_of_hamiltonians, allowed_windings = allowed_windings, epsilon = epsilon, \\\n",
    "                           csv_name = csv_name, to_csv = to_csv)"
   ]
  },
  {
   "cell_type": "code",
   "execution_count": 5,
   "metadata": {
    "papermill": {
     "duration": 0.152377,
     "end_time": "2020-03-05T03:51:07.025602",
     "exception": false,
     "start_time": "2020-03-05T03:51:06.873225",
     "status": "completed"
    },
    "tags": []
   },
   "outputs": [
    {
     "name": "stdout",
     "output_type": "stream",
     "text": [
      "<class 'pandas.core.frame.DataFrame'>\n",
      "RangeIndex: 1180980 entries, 0 to 1180979\n",
      "Columns: 188 entries, id to feat179\n",
      "dtypes: float64(3), int32(1), int64(2), object(182)\n",
      "memory usage: 1.6+ GB\n"
     ]
    },
    {
     "data": {
      "text/html": [
       "<div>\n",
       "<style scoped>\n",
       "    .dataframe tbody tr th:only-of-type {\n",
       "        vertical-align: middle;\n",
       "    }\n",
       "\n",
       "    .dataframe tbody tr th {\n",
       "        vertical-align: top;\n",
       "    }\n",
       "\n",
       "    .dataframe thead th {\n",
       "        text-align: right;\n",
       "    }\n",
       "</style>\n",
       "<table border=\"1\" class=\"dataframe\">\n",
       "  <thead>\n",
       "    <tr style=\"text-align: right;\">\n",
       "      <th></th>\n",
       "      <th>id</th>\n",
       "      <th>path</th>\n",
       "      <th>t1</th>\n",
       "      <th>t2</th>\n",
       "      <th>winding</th>\n",
       "      <th>phase</th>\n",
       "      <th>pred_phase</th>\n",
       "      <th>type_of</th>\n",
       "      <th>feat0</th>\n",
       "      <th>feat1</th>\n",
       "      <th>...</th>\n",
       "      <th>feat170</th>\n",
       "      <th>feat171</th>\n",
       "      <th>feat172</th>\n",
       "      <th>feat173</th>\n",
       "      <th>feat174</th>\n",
       "      <th>feat175</th>\n",
       "      <th>feat176</th>\n",
       "      <th>feat177</th>\n",
       "      <th>feat178</th>\n",
       "      <th>feat179</th>\n",
       "    </tr>\n",
       "  </thead>\n",
       "  <tbody>\n",
       "    <tr>\n",
       "      <th>0</th>\n",
       "      <td>0</td>\n",
       "      <td>H_-2_-2_0.501338.dat</td>\n",
       "      <td>-2.0</td>\n",
       "      <td>-2.0</td>\n",
       "      <td>0.501338</td>\n",
       "      <td>999</td>\n",
       "      <td>666</td>\n",
       "      <td>test</td>\n",
       "      <td>0.074536</td>\n",
       "      <td>0.074536</td>\n",
       "      <td>...</td>\n",
       "      <td>0.074536</td>\n",
       "      <td>0.074536</td>\n",
       "      <td>0.074536</td>\n",
       "      <td>0.074536</td>\n",
       "      <td>0.074536</td>\n",
       "      <td>0.074536</td>\n",
       "      <td>0.074536</td>\n",
       "      <td>0.074536</td>\n",
       "      <td>0.074536</td>\n",
       "      <td>0.074536</td>\n",
       "    </tr>\n",
       "    <tr>\n",
       "      <th>1</th>\n",
       "      <td>0</td>\n",
       "      <td>H_-2_-2_0.501338.dat</td>\n",
       "      <td>-2.0</td>\n",
       "      <td>-2.0</td>\n",
       "      <td>0.501338</td>\n",
       "      <td>999</td>\n",
       "      <td>666</td>\n",
       "      <td>test</td>\n",
       "      <td>0.105409</td>\n",
       "      <td>0.105345</td>\n",
       "      <td>...</td>\n",
       "      <td>0.099052</td>\n",
       "      <td>0.097734</td>\n",
       "      <td>0.101326</td>\n",
       "      <td>0.100250</td>\n",
       "      <td>0.103106</td>\n",
       "      <td>0.102278</td>\n",
       "      <td>0.104383</td>\n",
       "      <td>0.103808</td>\n",
       "      <td>0.105152</td>\n",
       "      <td>0.104832</td>\n",
       "    </tr>\n",
       "    <tr>\n",
       "      <th>2</th>\n",
       "      <td>0</td>\n",
       "      <td>H_-2_-2_0.501338.dat</td>\n",
       "      <td>-2.0</td>\n",
       "      <td>-2.0</td>\n",
       "      <td>0.501338</td>\n",
       "      <td>999</td>\n",
       "      <td>666</td>\n",
       "      <td>test</td>\n",
       "      <td>0.105409</td>\n",
       "      <td>0.105152</td>\n",
       "      <td>...</td>\n",
       "      <td>0.080748</td>\n",
       "      <td>0.075825</td>\n",
       "      <td>0.089392</td>\n",
       "      <td>0.085278</td>\n",
       "      <td>0.096296</td>\n",
       "      <td>0.093071</td>\n",
       "      <td>0.101326</td>\n",
       "      <td>0.099052</td>\n",
       "      <td>0.104383</td>\n",
       "      <td>0.103106</td>\n",
       "    </tr>\n",
       "    <tr>\n",
       "      <th>3</th>\n",
       "      <td>0</td>\n",
       "      <td>H_-2_-2_0.501338.dat</td>\n",
       "      <td>-2.0</td>\n",
       "      <td>-2.0</td>\n",
       "      <td>0.501338</td>\n",
       "      <td>999</td>\n",
       "      <td>666</td>\n",
       "      <td>test</td>\n",
       "      <td>-0.074536</td>\n",
       "      <td>0.074536</td>\n",
       "      <td>...</td>\n",
       "      <td>-0.074536</td>\n",
       "      <td>0.074536</td>\n",
       "      <td>-0.074536</td>\n",
       "      <td>0.074536</td>\n",
       "      <td>-0.074536</td>\n",
       "      <td>0.074536</td>\n",
       "      <td>-0.074536</td>\n",
       "      <td>0.074536</td>\n",
       "      <td>-0.074536</td>\n",
       "      <td>0.074536</td>\n",
       "    </tr>\n",
       "    <tr>\n",
       "      <th>4</th>\n",
       "      <td>0</td>\n",
       "      <td>H_-2_-2_0.501338.dat</td>\n",
       "      <td>-2.0</td>\n",
       "      <td>-2.0</td>\n",
       "      <td>0.501338</td>\n",
       "      <td>999</td>\n",
       "      <td>666</td>\n",
       "      <td>test</td>\n",
       "      <td>0.000030</td>\n",
       "      <td>-0.003649</td>\n",
       "      <td>...</td>\n",
       "      <td>-0.036024</td>\n",
       "      <td>-0.039459</td>\n",
       "      <td>-0.029026</td>\n",
       "      <td>-0.032545</td>\n",
       "      <td>-0.021886</td>\n",
       "      <td>-0.025472</td>\n",
       "      <td>-0.014640</td>\n",
       "      <td>-0.018274</td>\n",
       "      <td>-0.007323</td>\n",
       "      <td>-0.010988</td>\n",
       "    </tr>\n",
       "  </tbody>\n",
       "</table>\n",
       "<p>5 rows × 188 columns</p>\n",
       "</div>"
      ],
      "text/plain": [
       "   id                  path   t1   t2   winding  phase  pred_phase type_of  \\\n",
       "0   0  H_-2_-2_0.501338.dat -2.0 -2.0  0.501338    999         666    test   \n",
       "1   0  H_-2_-2_0.501338.dat -2.0 -2.0  0.501338    999         666    test   \n",
       "2   0  H_-2_-2_0.501338.dat -2.0 -2.0  0.501338    999         666    test   \n",
       "3   0  H_-2_-2_0.501338.dat -2.0 -2.0  0.501338    999         666    test   \n",
       "4   0  H_-2_-2_0.501338.dat -2.0 -2.0  0.501338    999         666    test   \n",
       "\n",
       "       feat0      feat1  ...    feat170    feat171    feat172    feat173  \\\n",
       "0   0.074536   0.074536  ...   0.074536   0.074536   0.074536   0.074536   \n",
       "1   0.105409   0.105345  ...   0.099052   0.097734   0.101326   0.100250   \n",
       "2   0.105409   0.105152  ...   0.080748   0.075825   0.089392   0.085278   \n",
       "3  -0.074536   0.074536  ...  -0.074536   0.074536  -0.074536   0.074536   \n",
       "4   0.000030  -0.003649  ...  -0.036024  -0.039459  -0.029026  -0.032545   \n",
       "\n",
       "     feat174    feat175    feat176    feat177    feat178    feat179  \n",
       "0   0.074536   0.074536   0.074536   0.074536   0.074536   0.074536  \n",
       "1   0.103106   0.102278   0.104383   0.103808   0.105152   0.104832  \n",
       "2   0.096296   0.093071   0.101326   0.099052   0.104383   0.103106  \n",
       "3  -0.074536   0.074536  -0.074536   0.074536  -0.074536   0.074536  \n",
       "4  -0.021886  -0.025472  -0.014640  -0.018274  -0.007323  -0.010988  \n",
       "\n",
       "[5 rows x 188 columns]"
      ]
     },
     "execution_count": 5,
     "metadata": {},
     "output_type": "execute_result"
    }
   ],
   "source": [
    "dataframe.info()\n",
    "dataframe.head()\n",
    "#dataframe.tail()"
   ]
  },
  {
   "cell_type": "markdown",
   "metadata": {
    "papermill": {
     "duration": 0.085468,
     "end_time": "2020-03-05T03:51:07.202660",
     "exception": false,
     "start_time": "2020-03-05T03:51:07.117192",
     "status": "completed"
    },
    "tags": []
   },
   "source": [
    "#### Train/test "
   ]
  },
  {
   "cell_type": "code",
   "execution_count": 6,
   "metadata": {
    "papermill": {
     "duration": 14.027023,
     "end_time": "2020-03-05T03:51:21.296391",
     "exception": false,
     "start_time": "2020-03-05T03:51:07.269368",
     "status": "completed"
    },
    "tags": []
   },
   "outputs": [
    {
     "name": "stdout",
     "output_type": "stream",
     "text": [
      "% train:  0.9358329522938577\n",
      "% test:  0.06416704770614236\n",
      "% train + test:  1.0\n"
     ]
    }
   ],
   "source": [
    "n_total = len(dataframe)\n",
    "n_train = len(dataframe[dataframe.type_of == \"train\"])\n",
    "n_test = len(dataframe[dataframe.type_of == \"test\"])\n",
    "print(\"% train: \", n_train/n_total)\n",
    "print(\"% test: \", n_test/n_total)\n",
    "print(\"% train + test: \", (n_train+n_test)/n_total)"
   ]
  },
  {
   "cell_type": "markdown",
   "metadata": {
    "papermill": {
     "duration": 0.075807,
     "end_time": "2020-03-05T03:51:21.468550",
     "exception": false,
     "start_time": "2020-03-05T03:51:21.392743",
     "status": "completed"
    },
    "tags": []
   },
   "source": [
    "#### Unique winding values"
   ]
  },
  {
   "cell_type": "code",
   "execution_count": 7,
   "metadata": {
    "papermill": {
     "duration": 0.109071,
     "end_time": "2020-03-05T03:51:21.643857",
     "exception": false,
     "start_time": "2020-03-05T03:51:21.534786",
     "status": "completed"
    },
    "tags": []
   },
   "outputs": [
    {
     "data": {
      "text/plain": [
       "array([  0,   1, 999], dtype=int32)"
      ]
     },
     "execution_count": 7,
     "metadata": {},
     "output_type": "execute_result"
    }
   ],
   "source": [
    "np.unique(dataframe.phase.values)"
   ]
  },
  {
   "cell_type": "markdown",
   "metadata": {
    "papermill": {
     "duration": 0.066074,
     "end_time": "2020-03-05T03:51:21.780323",
     "exception": false,
     "start_time": "2020-03-05T03:51:21.714249",
     "status": "completed"
    },
    "tags": []
   },
   "source": [
    "#### Checking t values are row-major sorted"
   ]
  },
  {
   "cell_type": "code",
   "execution_count": 8,
   "metadata": {
    "papermill": {
     "duration": 0.07849,
     "end_time": "2020-03-05T03:51:21.927704",
     "exception": false,
     "start_time": "2020-03-05T03:51:21.849214",
     "status": "completed"
    },
    "tags": []
   },
   "outputs": [],
   "source": [
    "#np.set_printoptions(threshold=np.inf)\n",
    "#t_array = dataframe[[\"t1\", \"t2\"]].values\n",
    "#print(\"t_array:\\n\", t_array)\n",
    "#np.set_printoptions()"
   ]
  },
  {
   "cell_type": "markdown",
   "metadata": {
    "papermill": {
     "duration": 0.066577,
     "end_time": "2020-03-05T03:51:22.063865",
     "exception": false,
     "start_time": "2020-03-05T03:51:21.997288",
     "status": "completed"
    },
    "tags": []
   },
   "source": [
    "#### Making a grid"
   ]
  },
  {
   "cell_type": "code",
   "execution_count": 9,
   "metadata": {
    "papermill": {
     "duration": 0.079658,
     "end_time": "2020-03-05T03:51:22.212452",
     "exception": false,
     "start_time": "2020-03-05T03:51:22.132794",
     "status": "completed"
    },
    "tags": []
   },
   "outputs": [],
   "source": [
    "#xx = dataframe.t2.values\n",
    "#yy = dataframe.t1.values\n",
    "#print(\"xx: \\n\", xx)\n",
    "#print(\"yy: \\n\", yy)"
   ]
  },
  {
   "cell_type": "code",
   "execution_count": 10,
   "metadata": {
    "papermill": {
     "duration": 8.214814,
     "end_time": "2020-03-05T03:51:30.494746",
     "exception": false,
     "start_time": "2020-03-05T03:51:22.279932",
     "status": "completed"
    },
    "tags": []
   },
   "outputs": [
    {
     "data": {
      "text/html": [
       "<div>\n",
       "<style scoped>\n",
       "    .dataframe tbody tr th:only-of-type {\n",
       "        vertical-align: middle;\n",
       "    }\n",
       "\n",
       "    .dataframe tbody tr th {\n",
       "        vertical-align: top;\n",
       "    }\n",
       "\n",
       "    .dataframe thead th {\n",
       "        text-align: right;\n",
       "    }\n",
       "</style>\n",
       "<table border=\"1\" class=\"dataframe\">\n",
       "  <thead>\n",
       "    <tr style=\"text-align: right;\">\n",
       "      <th></th>\n",
       "      <th>id</th>\n",
       "      <th>path</th>\n",
       "      <th>t1</th>\n",
       "      <th>t2</th>\n",
       "      <th>winding</th>\n",
       "      <th>phase</th>\n",
       "      <th>pred_phase</th>\n",
       "      <th>type_of</th>\n",
       "      <th>feat0</th>\n",
       "      <th>feat1</th>\n",
       "      <th>...</th>\n",
       "      <th>feat170</th>\n",
       "      <th>feat171</th>\n",
       "      <th>feat172</th>\n",
       "      <th>feat173</th>\n",
       "      <th>feat174</th>\n",
       "      <th>feat175</th>\n",
       "      <th>feat176</th>\n",
       "      <th>feat177</th>\n",
       "      <th>feat178</th>\n",
       "      <th>feat179</th>\n",
       "    </tr>\n",
       "  </thead>\n",
       "  <tbody>\n",
       "    <tr>\n",
       "      <th>720</th>\n",
       "      <td>4</td>\n",
       "      <td>H_-2_-1.8_-0.00976312.dat</td>\n",
       "      <td>-2.0</td>\n",
       "      <td>-1.80</td>\n",
       "      <td>-0.009763</td>\n",
       "      <td>0</td>\n",
       "      <td>666</td>\n",
       "      <td>train</td>\n",
       "      <td>0.074536</td>\n",
       "      <td>0.074536</td>\n",
       "      <td>...</td>\n",
       "      <td>0.074536</td>\n",
       "      <td>0.074536</td>\n",
       "      <td>0.074536</td>\n",
       "      <td>0.074536</td>\n",
       "      <td>0.074536</td>\n",
       "      <td>0.074536</td>\n",
       "      <td>0.074536</td>\n",
       "      <td>0.074536</td>\n",
       "      <td>0.074536</td>\n",
       "      <td>0.074536</td>\n",
       "    </tr>\n",
       "    <tr>\n",
       "      <th>721</th>\n",
       "      <td>4</td>\n",
       "      <td>H_-2_-1.8_-0.00976312.dat</td>\n",
       "      <td>-2.0</td>\n",
       "      <td>-1.80</td>\n",
       "      <td>-0.009763</td>\n",
       "      <td>0</td>\n",
       "      <td>666</td>\n",
       "      <td>train</td>\n",
       "      <td>-0.105409</td>\n",
       "      <td>-0.105352</td>\n",
       "      <td>...</td>\n",
       "      <td>-0.099052</td>\n",
       "      <td>-0.097806</td>\n",
       "      <td>-0.101326</td>\n",
       "      <td>-0.100310</td>\n",
       "      <td>-0.103106</td>\n",
       "      <td>-0.102325</td>\n",
       "      <td>-0.104383</td>\n",
       "      <td>-0.103841</td>\n",
       "      <td>-0.105152</td>\n",
       "      <td>-0.104852</td>\n",
       "    </tr>\n",
       "    <tr>\n",
       "      <th>722</th>\n",
       "      <td>4</td>\n",
       "      <td>H_-2_-1.8_-0.00976312.dat</td>\n",
       "      <td>-2.0</td>\n",
       "      <td>-1.80</td>\n",
       "      <td>-0.009763</td>\n",
       "      <td>0</td>\n",
       "      <td>666</td>\n",
       "      <td>train</td>\n",
       "      <td>0.105409</td>\n",
       "      <td>0.105179</td>\n",
       "      <td>...</td>\n",
       "      <td>0.080748</td>\n",
       "      <td>0.076094</td>\n",
       "      <td>0.089392</td>\n",
       "      <td>0.085505</td>\n",
       "      <td>0.096296</td>\n",
       "      <td>0.093252</td>\n",
       "      <td>0.101326</td>\n",
       "      <td>0.099184</td>\n",
       "      <td>0.104383</td>\n",
       "      <td>0.103186</td>\n",
       "    </tr>\n",
       "    <tr>\n",
       "      <th>723</th>\n",
       "      <td>4</td>\n",
       "      <td>H_-2_-1.8_-0.00976312.dat</td>\n",
       "      <td>-2.0</td>\n",
       "      <td>-1.80</td>\n",
       "      <td>-0.009763</td>\n",
       "      <td>0</td>\n",
       "      <td>666</td>\n",
       "      <td>train</td>\n",
       "      <td>0.105409</td>\n",
       "      <td>0.104891</td>\n",
       "      <td>...</td>\n",
       "      <td>0.052705</td>\n",
       "      <td>0.043406</td>\n",
       "      <td>0.070533</td>\n",
       "      <td>0.062429</td>\n",
       "      <td>0.085278</td>\n",
       "      <td>0.078723</td>\n",
       "      <td>0.096296</td>\n",
       "      <td>0.091577</td>\n",
       "      <td>0.103106</td>\n",
       "      <td>0.100429</td>\n",
       "    </tr>\n",
       "    <tr>\n",
       "      <th>724</th>\n",
       "      <td>4</td>\n",
       "      <td>H_-2_-1.8_-0.00976312.dat</td>\n",
       "      <td>-2.0</td>\n",
       "      <td>-1.80</td>\n",
       "      <td>-0.009763</td>\n",
       "      <td>0</td>\n",
       "      <td>666</td>\n",
       "      <td>train</td>\n",
       "      <td>0.074536</td>\n",
       "      <td>-0.074536</td>\n",
       "      <td>...</td>\n",
       "      <td>0.074536</td>\n",
       "      <td>-0.074536</td>\n",
       "      <td>0.074536</td>\n",
       "      <td>-0.074536</td>\n",
       "      <td>0.074536</td>\n",
       "      <td>-0.074536</td>\n",
       "      <td>0.074536</td>\n",
       "      <td>-0.074536</td>\n",
       "      <td>0.074536</td>\n",
       "      <td>-0.074536</td>\n",
       "    </tr>\n",
       "    <tr>\n",
       "      <th>...</th>\n",
       "      <td>...</td>\n",
       "      <td>...</td>\n",
       "      <td>...</td>\n",
       "      <td>...</td>\n",
       "      <td>...</td>\n",
       "      <td>...</td>\n",
       "      <td>...</td>\n",
       "      <td>...</td>\n",
       "      <td>...</td>\n",
       "      <td>...</td>\n",
       "      <td>...</td>\n",
       "      <td>...</td>\n",
       "      <td>...</td>\n",
       "      <td>...</td>\n",
       "      <td>...</td>\n",
       "      <td>...</td>\n",
       "      <td>...</td>\n",
       "      <td>...</td>\n",
       "      <td>...</td>\n",
       "      <td>...</td>\n",
       "      <td>...</td>\n",
       "    </tr>\n",
       "    <tr>\n",
       "      <th>1715</th>\n",
       "      <td>9</td>\n",
       "      <td>H_-2_-1.55_-0.00373594.dat</td>\n",
       "      <td>-2.0</td>\n",
       "      <td>-1.55</td>\n",
       "      <td>-0.003736</td>\n",
       "      <td>0</td>\n",
       "      <td>666</td>\n",
       "      <td>train</td>\n",
       "      <td>0.105409</td>\n",
       "      <td>-0.075686</td>\n",
       "      <td>...</td>\n",
       "      <td>-0.105409</td>\n",
       "      <td>0.075686</td>\n",
       "      <td>0.032563</td>\n",
       "      <td>0.046389</td>\n",
       "      <td>0.085284</td>\n",
       "      <td>-0.104355</td>\n",
       "      <td>-0.085271</td>\n",
       "      <td>0.018106</td>\n",
       "      <td>-0.032584</td>\n",
       "      <td>0.093165</td>\n",
       "    </tr>\n",
       "    <tr>\n",
       "      <th>1716</th>\n",
       "      <td>9</td>\n",
       "      <td>H_-2_-1.55_-0.00373594.dat</td>\n",
       "      <td>-2.0</td>\n",
       "      <td>-1.55</td>\n",
       "      <td>-0.003736</td>\n",
       "      <td>0</td>\n",
       "      <td>666</td>\n",
       "      <td>train</td>\n",
       "      <td>0.105409</td>\n",
       "      <td>-0.077469</td>\n",
       "      <td>...</td>\n",
       "      <td>-0.098998</td>\n",
       "      <td>0.097246</td>\n",
       "      <td>0.059076</td>\n",
       "      <td>0.015941</td>\n",
       "      <td>0.070414</td>\n",
       "      <td>-0.104958</td>\n",
       "      <td>-0.093145</td>\n",
       "      <td>0.034843</td>\n",
       "      <td>-0.025347</td>\n",
       "      <td>0.088100</td>\n",
       "    </tr>\n",
       "    <tr>\n",
       "      <th>1717</th>\n",
       "      <td>9</td>\n",
       "      <td>H_-2_-1.55_-0.00373594.dat</td>\n",
       "      <td>-2.0</td>\n",
       "      <td>-1.55</td>\n",
       "      <td>-0.003736</td>\n",
       "      <td>0</td>\n",
       "      <td>666</td>\n",
       "      <td>train</td>\n",
       "      <td>0.105407</td>\n",
       "      <td>-0.072031</td>\n",
       "      <td>...</td>\n",
       "      <td>-0.080319</td>\n",
       "      <td>0.005710</td>\n",
       "      <td>-0.026146</td>\n",
       "      <td>0.092099</td>\n",
       "      <td>0.103242</td>\n",
       "      <td>-0.086457</td>\n",
       "      <td>-0.064370</td>\n",
       "      <td>-0.016298</td>\n",
       "      <td>-0.046806</td>\n",
       "      <td>0.100746</td>\n",
       "    </tr>\n",
       "    <tr>\n",
       "      <th>1718</th>\n",
       "      <td>9</td>\n",
       "      <td>H_-2_-1.55_-0.00373594.dat</td>\n",
       "      <td>-2.0</td>\n",
       "      <td>-1.55</td>\n",
       "      <td>-0.003736</td>\n",
       "      <td>0</td>\n",
       "      <td>666</td>\n",
       "      <td>train</td>\n",
       "      <td>-0.105409</td>\n",
       "      <td>0.082390</td>\n",
       "      <td>...</td>\n",
       "      <td>0.018429</td>\n",
       "      <td>-0.079058</td>\n",
       "      <td>-0.104366</td>\n",
       "      <td>0.072438</td>\n",
       "      <td>-0.011145</td>\n",
       "      <td>0.074002</td>\n",
       "      <td>0.105144</td>\n",
       "      <td>-0.077603</td>\n",
       "      <td>0.003806</td>\n",
       "      <td>-0.068585</td>\n",
       "    </tr>\n",
       "    <tr>\n",
       "      <th>1719</th>\n",
       "      <td>9</td>\n",
       "      <td>H_-2_-1.55_-0.00373594.dat</td>\n",
       "      <td>-2.0</td>\n",
       "      <td>-1.55</td>\n",
       "      <td>-0.003736</td>\n",
       "      <td>0</td>\n",
       "      <td>666</td>\n",
       "      <td>train</td>\n",
       "      <td>0.105409</td>\n",
       "      <td>-0.073814</td>\n",
       "      <td>...</td>\n",
       "      <td>-0.098929</td>\n",
       "      <td>0.043626</td>\n",
       "      <td>0.003320</td>\n",
       "      <td>0.072628</td>\n",
       "      <td>0.096442</td>\n",
       "      <td>-0.098040</td>\n",
       "      <td>-0.075575</td>\n",
       "      <td>0.000825</td>\n",
       "      <td>-0.039820</td>\n",
       "      <td>0.097422</td>\n",
       "    </tr>\n",
       "  </tbody>\n",
       "</table>\n",
       "<p>1000 rows × 188 columns</p>\n",
       "</div>"
      ],
      "text/plain": [
       "      id                        path   t1    t2   winding  phase  pred_phase  \\\n",
       "720    4   H_-2_-1.8_-0.00976312.dat -2.0 -1.80 -0.009763      0         666   \n",
       "721    4   H_-2_-1.8_-0.00976312.dat -2.0 -1.80 -0.009763      0         666   \n",
       "722    4   H_-2_-1.8_-0.00976312.dat -2.0 -1.80 -0.009763      0         666   \n",
       "723    4   H_-2_-1.8_-0.00976312.dat -2.0 -1.80 -0.009763      0         666   \n",
       "724    4   H_-2_-1.8_-0.00976312.dat -2.0 -1.80 -0.009763      0         666   \n",
       "...   ..                         ...  ...   ...       ...    ...         ...   \n",
       "1715   9  H_-2_-1.55_-0.00373594.dat -2.0 -1.55 -0.003736      0         666   \n",
       "1716   9  H_-2_-1.55_-0.00373594.dat -2.0 -1.55 -0.003736      0         666   \n",
       "1717   9  H_-2_-1.55_-0.00373594.dat -2.0 -1.55 -0.003736      0         666   \n",
       "1718   9  H_-2_-1.55_-0.00373594.dat -2.0 -1.55 -0.003736      0         666   \n",
       "1719   9  H_-2_-1.55_-0.00373594.dat -2.0 -1.55 -0.003736      0         666   \n",
       "\n",
       "     type_of      feat0      feat1  ...    feat170    feat171    feat172  \\\n",
       "720    train   0.074536   0.074536  ...   0.074536   0.074536   0.074536   \n",
       "721    train  -0.105409  -0.105352  ...  -0.099052  -0.097806  -0.101326   \n",
       "722    train   0.105409   0.105179  ...   0.080748   0.076094   0.089392   \n",
       "723    train   0.105409   0.104891  ...   0.052705   0.043406   0.070533   \n",
       "724    train   0.074536  -0.074536  ...   0.074536  -0.074536   0.074536   \n",
       "...      ...        ...        ...  ...        ...        ...        ...   \n",
       "1715   train   0.105409  -0.075686  ...  -0.105409   0.075686   0.032563   \n",
       "1716   train   0.105409  -0.077469  ...  -0.098998   0.097246   0.059076   \n",
       "1717   train   0.105407  -0.072031  ...  -0.080319   0.005710  -0.026146   \n",
       "1718   train  -0.105409   0.082390  ...   0.018429  -0.079058  -0.104366   \n",
       "1719   train   0.105409  -0.073814  ...  -0.098929   0.043626   0.003320   \n",
       "\n",
       "        feat173    feat174    feat175    feat176    feat177    feat178  \\\n",
       "720    0.074536   0.074536   0.074536   0.074536   0.074536   0.074536   \n",
       "721   -0.100310  -0.103106  -0.102325  -0.104383  -0.103841  -0.105152   \n",
       "722    0.085505   0.096296   0.093252   0.101326   0.099184   0.104383   \n",
       "723    0.062429   0.085278   0.078723   0.096296   0.091577   0.103106   \n",
       "724   -0.074536   0.074536  -0.074536   0.074536  -0.074536   0.074536   \n",
       "...         ...        ...        ...        ...        ...        ...   \n",
       "1715   0.046389   0.085284  -0.104355  -0.085271   0.018106  -0.032584   \n",
       "1716   0.015941   0.070414  -0.104958  -0.093145   0.034843  -0.025347   \n",
       "1717   0.092099   0.103242  -0.086457  -0.064370  -0.016298  -0.046806   \n",
       "1718   0.072438  -0.011145   0.074002   0.105144  -0.077603   0.003806   \n",
       "1719   0.072628   0.096442  -0.098040  -0.075575   0.000825  -0.039820   \n",
       "\n",
       "        feat179  \n",
       "720    0.074536  \n",
       "721   -0.104852  \n",
       "722    0.103186  \n",
       "723    0.100429  \n",
       "724   -0.074536  \n",
       "...         ...  \n",
       "1715   0.093165  \n",
       "1716   0.088100  \n",
       "1717   0.100746  \n",
       "1718  -0.068585  \n",
       "1719   0.097422  \n",
       "\n",
       "[1000 rows x 188 columns]"
      ]
     },
     "execution_count": 10,
     "metadata": {},
     "output_type": "execute_result"
    }
   ],
   "source": [
    "# A view of train data\n",
    "dataframe[dataframe.type_of == \"train\"].head(1000)"
   ]
  },
  {
   "cell_type": "code",
   "execution_count": 11,
   "metadata": {
    "papermill": {
     "duration": 0.107287,
     "end_time": "2020-03-05T03:51:30.699625",
     "exception": false,
     "start_time": "2020-03-05T03:51:30.592338",
     "status": "completed"
    },
    "tags": []
   },
   "outputs": [],
   "source": [
    "# A view of test data\n",
    "#dataframe[dataframe.type_of == \"test\"].head(1000)"
   ]
  },
  {
   "cell_type": "markdown",
   "metadata": {
    "papermill": {
     "duration": 0.067495,
     "end_time": "2020-03-05T03:51:30.838162",
     "exception": false,
     "start_time": "2020-03-05T03:51:30.770667",
     "status": "completed"
    },
    "tags": []
   },
   "source": [
    "#### clearing variables"
   ]
  },
  {
   "cell_type": "code",
   "execution_count": 12,
   "metadata": {
    "papermill": {
     "duration": 0.085033,
     "end_time": "2020-03-05T03:51:30.991448",
     "exception": false,
     "start_time": "2020-03-05T03:51:30.906415",
     "status": "completed"
    },
    "tags": []
   },
   "outputs": [],
   "source": [
    "#del list_of_hamiltonians\n",
    "#del raw_data\n",
    "#del dataframe"
   ]
  },
  {
   "cell_type": "code",
   "execution_count": null,
   "metadata": {
    "papermill": {
     "duration": 0.068083,
     "end_time": "2020-03-05T03:51:31.131711",
     "exception": false,
     "start_time": "2020-03-05T03:51:31.063628",
     "status": "completed"
    },
    "tags": []
   },
   "outputs": [],
   "source": []
  }
 ],
 "metadata": {
  "celltoolbar": "Tags",
  "kernelspec": {
   "display_name": "ml_top_phases",
   "language": "python",
   "name": "ml_top_phases"
  },
  "language_info": {
   "codemirror_mode": {
    "name": "ipython",
    "version": 3
   },
   "file_extension": ".py",
   "mimetype": "text/x-python",
   "name": "python",
   "nbconvert_exporter": "python",
   "pygments_lexer": "ipython3",
   "version": "3.6.10"
  },
  "papermill": {
   "duration": 332.951666,
   "end_time": "2020-03-05T03:51:31.204996",
   "environment_variables": {},
   "exception": null,
   "input_path": "preprocessing_template.ipynb",
   "output_path": "preprocessing_output_ssh1_periodic_180_6561.ipynb",
   "parameters": {
    "allowed_windings": [
     0,
     1
    ],
    "csv_name": "/home/linneu/ssh_csvs/ssh1/periodic_180_6561.csv",
    "epsilon": 0.01,
    "grid_folder": "/home/linneu/ssh_grids/ssh1/periodic_180_6561",
    "to_csv": true
   },
   "start_time": "2020-03-05T03:45:58.253330",
   "version": "2.0.0"
  }
 },
 "nbformat": 4,
 "nbformat_minor": 2
}